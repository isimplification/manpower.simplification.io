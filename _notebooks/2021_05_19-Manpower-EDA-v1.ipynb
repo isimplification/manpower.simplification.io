{
  "nbformat": 4,
  "nbformat_minor": 5,
  "metadata": {
    "kernelspec": {
      "display_name": "Python 3",
      "language": "python",
      "name": "python3"
    },
    "language_info": {
      "codemirror_mode": {
        "name": "ipython",
        "version": 3
      },
      "file_extension": ".py",
      "mimetype": "text/x-python",
      "name": "python",
      "nbconvert_exporter": "python",
      "pygments_lexer": "ipython3",
      "version": "3.8.8"
    },
    "colab": {
      "name": "2021-05-19-Manpower-EDA-v1.ipynb",
      "provenance": [],
      "collapsed_sections": [],
      "toc_visible": true
    }
  },
  "cells": [
    {
      "cell_type": "markdown",
      "metadata": {
        "id": "TMw0KL9Cqy2n"
      },
      "source": [
        "# \"Manpower EDA Version: 1.0\"\n",
        "> \"38 New Insights and Analysis based on Manpower Data Version: 1.0\"\n",
        "\n",
        "- toc: true\n",
        "- comments: false\n",
        "- categories: [Kuwait, Man-power, Analysis]\n",
        "- image: /images/MACHINE%20THINKING.png\n",
        "- hide: false\n",
        "- search_exclude: true\n",
        "- metadata_key1: version-01"
      ],
      "id": "TMw0KL9Cqy2n"
    },
    {
      "cell_type": "markdown",
      "metadata": {
        "id": "ZgKwzjaLp6Xz"
      },
      "source": [
        "##### Installing Libraries"
      ],
      "id": "ZgKwzjaLp6Xz"
    },
    {
      "cell_type": "code",
      "metadata": {
        "id": "5ff18d47"
      },
      "source": [
        "#hide\n",
        "!pip install pywaffle\n",
        "!pip install squarify\n",
        "!pip install pyreadstat\n",
        "!pip install --upgrade plotly"
      ],
      "id": "5ff18d47",
      "execution_count": null,
      "outputs": []
    },
    {
      "cell_type": "markdown",
      "metadata": {
        "id": "9966e6e6"
      },
      "source": [
        "##### Importing Libraries and Dependencies"
      ],
      "id": "9966e6e6"
    },
    {
      "cell_type": "code",
      "metadata": {
        "id": "adac3acb"
      },
      "source": [
        "#hide\n",
        "import pandas as pd\n",
        "import numpy as np\n",
        "import operator\n",
        "from datetime import datetime, date\n",
        "from pywaffle import Waffle"
      ],
      "id": "adac3acb",
      "execution_count": null,
      "outputs": []
    },
    {
      "cell_type": "code",
      "metadata": {
        "id": "547aba9b"
      },
      "source": [
        "#hide\n",
        "import warnings\n",
        "warnings.filterwarnings('ignore')"
      ],
      "id": "547aba9b",
      "execution_count": null,
      "outputs": []
    },
    {
      "cell_type": "code",
      "metadata": {
        "id": "84ce2cc2"
      },
      "source": [
        "#hide\n",
        "import matplotlib.pyplot as plt\n",
        "import seaborn as sns\n",
        "import squarify\n",
        "import plotly.express as px\n",
        "import plotly.graph_objects as go\n",
        "%matplotlib inline"
      ],
      "id": "84ce2cc2",
      "execution_count": null,
      "outputs": []
    },
    {
      "cell_type": "markdown",
      "metadata": {
        "id": "55bc8197"
      },
      "source": [
        "##### Importing Dataset"
      ],
      "id": "55bc8197"
    },
    {
      "cell_type": "code",
      "metadata": {
        "id": "b37ec8fd"
      },
      "source": [
        "#hide\n",
        "df = pd.read_spss('DataManPower.sav')"
      ],
      "id": "b37ec8fd",
      "execution_count": null,
      "outputs": []
    },
    {
      "cell_type": "code",
      "metadata": {
        "id": "a023dd11"
      },
      "source": [
        "#hide\n",
        "df.head()"
      ],
      "id": "a023dd11",
      "execution_count": null,
      "outputs": []
    },
    {
      "cell_type": "markdown",
      "metadata": {
        "id": "68673298"
      },
      "source": [
        "##### Calculating Age"
      ],
      "id": "68673298"
    },
    {
      "cell_type": "code",
      "metadata": {
        "id": "20decbcf"
      },
      "source": [
        "#hide\n",
        "df['BIRTH_DATE'] = pd.to_datetime(df['BIRTH_DATE'], errors = 'coerce')\n",
        "df['BIRTH_DATE']"
      ],
      "id": "20decbcf",
      "execution_count": null,
      "outputs": []
    },
    {
      "cell_type": "code",
      "metadata": {
        "id": "b710e4a2"
      },
      "source": [
        "#hide\n",
        "def from_dob_to_age(born):\n",
        "    today = datetime.today()\n",
        "    return today.year - born.year"
      ],
      "id": "b710e4a2",
      "execution_count": null,
      "outputs": []
    },
    {
      "cell_type": "code",
      "metadata": {
        "id": "59d11d0e"
      },
      "source": [
        "#hide\n",
        "today = datetime.today()\n",
        "today"
      ],
      "id": "59d11d0e",
      "execution_count": null,
      "outputs": []
    },
    {
      "cell_type": "code",
      "metadata": {
        "id": "a765f176"
      },
      "source": [
        "#hide\n",
        "df['Age'] = df['BIRTH_DATE'].apply(lambda x: from_dob_to_age(x))\n",
        "df['Age']"
      ],
      "id": "a765f176",
      "execution_count": null,
      "outputs": []
    },
    {
      "cell_type": "markdown",
      "metadata": {
        "id": "68f84ccd"
      },
      "source": [
        "##### Data Formatting"
      ],
      "id": "68f84ccd"
    },
    {
      "cell_type": "code",
      "metadata": {
        "id": "41dc53cb"
      },
      "source": [
        "#hide\n",
        "df.info()"
      ],
      "id": "41dc53cb",
      "execution_count": null,
      "outputs": []
    },
    {
      "cell_type": "code",
      "metadata": {
        "id": "73ff9246"
      },
      "source": [
        "#hide\n",
        "df['CIVIL_ID'] = pd.to_numeric(df['CIVIL_ID'])\n",
        "df['COUNTRY_CODE'] = pd.to_numeric(df['COUNTRY_CODE'])\n",
        "df['GENDER_CODE'] = pd.to_numeric(df['GENDER_CODE'])\n",
        "df['COUNTRY_CODE'] = pd.to_numeric(df['COUNTRY_CODE'])\n",
        "df['RLGION_CODE'] = pd.to_numeric(df['RLGION_CODE'])\n",
        "df['JOB_CODE'] = pd.to_numeric(df['JOB_CODE'])\n",
        "df['ECONOMIC_ACT_CODE'] = pd.to_numeric(df['ECONOMIC_ACT_CODE'])\n",
        "df['EDUCATION_CODE'] = pd.to_numeric(df['EDUCATION_CODE'])\n",
        "df['MAJOR_CODE'] = pd.to_numeric(df['MAJOR_CODE'])\n",
        "df['SALARY'] = pd.to_numeric(df['SALARY'])\n",
        "df['SALARY_TYPE'] = pd.to_numeric(df['SALARY_TYPE'])\n",
        "df['ONR_GVRN_CODE'] = pd.to_numeric(df['ONR_GVRN_CODE'])\n",
        "df['MARITAL_STATUS_CODE'] = pd.to_numeric(df['MARITAL_STATUS_CODE'])\n",
        "df['ADDRESS_AUTO_NO'] = pd.to_numeric(df['ADDRESS_AUTO_NO'])\n",
        "df['ONR_ID'] = pd.to_numeric(df['ONR_ID'])\n",
        "df['جنسية'] = pd.to_numeric(df['جنسية'])"
      ],
      "id": "73ff9246",
      "execution_count": null,
      "outputs": []
    },
    {
      "cell_type": "code",
      "metadata": {
        "id": "ce973989"
      },
      "source": [
        "#hide\n",
        "from datetime import datetime\n",
        "df['HIRE_DATE'] = pd.to_datetime(df['HIRE_DATE'], errors = 'coerce')\n",
        "df['BIRTH_DATE'] = pd.to_datetime(df['BIRTH_DATE'],errors = 'coerce')"
      ],
      "id": "ce973989",
      "execution_count": null,
      "outputs": []
    },
    {
      "cell_type": "code",
      "metadata": {
        "id": "b14b7b55"
      },
      "source": [
        "#hide\n",
        "df['COUNTRY_DESC'] = df['COUNTRY_DESC'].astype('str')\n",
        "df['GENDER_DESC'] = df['GENDER_DESC'].astype('str')\n",
        "df['RLGION_DESC'] = df['RLGION_DESC'].astype('str')\n",
        "df['JOB_DESC'] = df['JOB_DESC'].astype('str')\n",
        "df['SECTOR'] = df['SECTOR'].astype('str')\n",
        "df['ECONOMIC_ACT_DESC'] = df['ECONOMIC_ACT_DESC'].astype('str')\n",
        "df['EDUCATION_DESC'] = df['EDUCATION_DESC'].astype('str')\n",
        "df['GOVERNORATE_DESC'] = df['GOVERNORATE_DESC'].astype('str')\n",
        "df['MARITAL_STATUS_DESC'] = df['MARITAL_STATUS_DESC'].astype('str')\n",
        "df['COMPANY_NAME'] = df['COMPANY_NAME'].astype('str')"
      ],
      "id": "b14b7b55",
      "execution_count": null,
      "outputs": []
    },
    {
      "cell_type": "code",
      "metadata": {
        "id": "77f7bf14"
      },
      "source": [
        "#hide\n",
        "df.info()"
      ],
      "id": "77f7bf14",
      "execution_count": null,
      "outputs": []
    },
    {
      "cell_type": "markdown",
      "metadata": {
        "id": "28321834"
      },
      "source": [
        "### Exploratory Data Analysis"
      ],
      "id": "28321834"
    },
    {
      "cell_type": "code",
      "metadata": {
        "colab": {
          "base_uri": "https://localhost:8080/"
        },
        "id": "b5d90387",
        "outputId": "fdb75f2e-b988-4495-a7ad-d375d8fc3d1f"
      },
      "source": [
        "#hide_input\n",
        "df.columns"
      ],
      "id": "b5d90387",
      "execution_count": null,
      "outputs": [
        {
          "output_type": "execute_result",
          "data": {
            "text/plain": [
              "Index(['CIVIL_ID', 'BIRTH_DATE', 'COUNTRY_CODE', 'COUNTRY_DESC', 'GENDER_CODE',\n",
              "       'GENDER_DESC', 'RLGION_CODE', 'RLGION_DESC', 'JOB_CODE', 'JOB_DESC',\n",
              "       'SECTOR', 'ECONOMIC_ACT_CODE', 'ECONOMIC_ACT_DESC', 'EDUCATION_CODE',\n",
              "       'EDUCATION_DESC', 'MAJOR_CODE', 'SALARY', 'SALARY_TYPE',\n",
              "       'ONR_GVRN_CODE', 'GOVERNORATE_DESC', 'MARITAL_STATUS_CODE',\n",
              "       'MARITAL_STATUS_DESC', 'COMPANY_NAME', 'HIRE_DATE', 'ADDRESS_AUTO_NO',\n",
              "       'ONR_ID', 'جنسية', 'Age'],\n",
              "      dtype='object')"
            ]
          },
          "metadata": {
            "tags": []
          },
          "execution_count": 16
        }
      ]
    },
    {
      "cell_type": "code",
      "metadata": {
        "colab": {
          "base_uri": "https://localhost:8080/",
          "height": 317
        },
        "id": "c00ad2eb",
        "outputId": "a93077e6-1f1e-406f-d4cd-da1854d8f70b"
      },
      "source": [
        "#hide_input\n",
        "df.describe()"
      ],
      "id": "c00ad2eb",
      "execution_count": null,
      "outputs": [
        {
          "output_type": "execute_result",
          "data": {
            "text/html": [
              "<div>\n",
              "<style scoped>\n",
              "    .dataframe tbody tr th:only-of-type {\n",
              "        vertical-align: middle;\n",
              "    }\n",
              "\n",
              "    .dataframe tbody tr th {\n",
              "        vertical-align: top;\n",
              "    }\n",
              "\n",
              "    .dataframe thead th {\n",
              "        text-align: right;\n",
              "    }\n",
              "</style>\n",
              "<table border=\"1\" class=\"dataframe\">\n",
              "  <thead>\n",
              "    <tr style=\"text-align: right;\">\n",
              "      <th></th>\n",
              "      <th>CIVIL_ID</th>\n",
              "      <th>COUNTRY_CODE</th>\n",
              "      <th>GENDER_CODE</th>\n",
              "      <th>RLGION_CODE</th>\n",
              "      <th>JOB_CODE</th>\n",
              "      <th>ECONOMIC_ACT_CODE</th>\n",
              "      <th>EDUCATION_CODE</th>\n",
              "      <th>MAJOR_CODE</th>\n",
              "      <th>SALARY</th>\n",
              "      <th>SALARY_TYPE</th>\n",
              "      <th>ONR_GVRN_CODE</th>\n",
              "      <th>MARITAL_STATUS_CODE</th>\n",
              "      <th>ADDRESS_AUTO_NO</th>\n",
              "      <th>ONR_ID</th>\n",
              "      <th>جنسية</th>\n",
              "      <th>Age</th>\n",
              "    </tr>\n",
              "  </thead>\n",
              "  <tbody>\n",
              "    <tr>\n",
              "      <th>count</th>\n",
              "      <td>1.574040e+06</td>\n",
              "      <td>1.574040e+06</td>\n",
              "      <td>1.573962e+06</td>\n",
              "      <td>1.502548e+06</td>\n",
              "      <td>1.574040e+06</td>\n",
              "      <td>1.568276e+06</td>\n",
              "      <td>1.485329e+06</td>\n",
              "      <td>1.485329e+06</td>\n",
              "      <td>1.574039e+06</td>\n",
              "      <td>1.0</td>\n",
              "      <td>1.574040e+06</td>\n",
              "      <td>1.574040e+06</td>\n",
              "      <td>1.219311e+06</td>\n",
              "      <td>1.574040e+06</td>\n",
              "      <td>1.574040e+06</td>\n",
              "      <td>1.573540e+06</td>\n",
              "    </tr>\n",
              "    <tr>\n",
              "      <th>mean</th>\n",
              "      <td>2.809093e+11</td>\n",
              "      <td>4.590476e+02</td>\n",
              "      <td>1.106661e+00</td>\n",
              "      <td>1.069316e+00</td>\n",
              "      <td>6.655396e+04</td>\n",
              "      <td>6.053790e+04</td>\n",
              "      <td>1.804542e+02</td>\n",
              "      <td>4.625561e+05</td>\n",
              "      <td>3.162938e+02</td>\n",
              "      <td>1.0</td>\n",
              "      <td>4.006389e+00</td>\n",
              "      <td>1.836254e+00</td>\n",
              "      <td>1.610408e+07</td>\n",
              "      <td>2.263286e+11</td>\n",
              "      <td>1.954697e+00</td>\n",
              "      <td>4.014874e+01</td>\n",
              "    </tr>\n",
              "    <tr>\n",
              "      <th>std</th>\n",
              "      <td>1.039015e+10</td>\n",
              "      <td>2.977552e+02</td>\n",
              "      <td>3.086816e-01</td>\n",
              "      <td>6.459896e-01</td>\n",
              "      <td>3.307273e+04</td>\n",
              "      <td>3.311991e+04</td>\n",
              "      <td>1.585687e+04</td>\n",
              "      <td>2.374093e+05</td>\n",
              "      <td>4.469903e+02</td>\n",
              "      <td>NaN</td>\n",
              "      <td>2.315617e+00</td>\n",
              "      <td>5.376797e-01</td>\n",
              "      <td>4.275012e+06</td>\n",
              "      <td>1.640134e+11</td>\n",
              "      <td>2.079669e-01</td>\n",
              "      <td>1.038886e+01</td>\n",
              "    </tr>\n",
              "    <tr>\n",
              "      <th>min</th>\n",
              "      <td>1.780201e+11</td>\n",
              "      <td>0.000000e+00</td>\n",
              "      <td>1.000000e+00</td>\n",
              "      <td>0.000000e+00</td>\n",
              "      <td>0.000000e+00</td>\n",
              "      <td>8.000000e+00</td>\n",
              "      <td>-1.000000e+00</td>\n",
              "      <td>-1.000000e+00</td>\n",
              "      <td>1.425000e+00</td>\n",
              "      <td>1.0</td>\n",
              "      <td>1.000000e+00</td>\n",
              "      <td>1.000000e+00</td>\n",
              "      <td>0.000000e+00</td>\n",
              "      <td>1.820000e+07</td>\n",
              "      <td>1.000000e+00</td>\n",
              "      <td>-2.800000e+01</td>\n",
              "    </tr>\n",
              "    <tr>\n",
              "      <th>25%</th>\n",
              "      <td>2.740819e+11</td>\n",
              "      <td>1.070000e+02</td>\n",
              "      <td>1.000000e+00</td>\n",
              "      <td>1.000000e+00</td>\n",
              "      <td>4.333300e+04</td>\n",
              "      <td>5.120100e+04</td>\n",
              "      <td>3.500000e+01</td>\n",
              "      <td>3.530020e+05</td>\n",
              "      <td>1.000000e+02</td>\n",
              "      <td>1.0</td>\n",
              "      <td>2.000000e+00</td>\n",
              "      <td>2.000000e+00</td>\n",
              "      <td>1.321488e+07</td>\n",
              "      <td>1.276715e+11</td>\n",
              "      <td>2.000000e+00</td>\n",
              "      <td>3.200000e+01</td>\n",
              "    </tr>\n",
              "    <tr>\n",
              "      <th>50%</th>\n",
              "      <td>2.821010e+11</td>\n",
              "      <td>7.020000e+02</td>\n",
              "      <td>1.000000e+00</td>\n",
              "      <td>1.000000e+00</td>\n",
              "      <td>6.245000e+04</td>\n",
              "      <td>6.124600e+04</td>\n",
              "      <td>4.500000e+01</td>\n",
              "      <td>4.535010e+05</td>\n",
              "      <td>1.800000e+02</td>\n",
              "      <td>1.0</td>\n",
              "      <td>4.000000e+00</td>\n",
              "      <td>2.000000e+00</td>\n",
              "      <td>1.638836e+07</td>\n",
              "      <td>2.133913e+11</td>\n",
              "      <td>2.000000e+00</td>\n",
              "      <td>3.900000e+01</td>\n",
              "    </tr>\n",
              "    <tr>\n",
              "      <th>75%</th>\n",
              "      <td>2.890606e+11</td>\n",
              "      <td>7.090000e+02</td>\n",
              "      <td>1.000000e+00</td>\n",
              "      <td>1.000000e+00</td>\n",
              "      <td>9.851500e+04</td>\n",
              "      <td>7.114100e+04</td>\n",
              "      <td>4.500000e+01</td>\n",
              "      <td>4.535010e+05</td>\n",
              "      <td>3.500000e+02</td>\n",
              "      <td>1.0</td>\n",
              "      <td>6.000000e+00</td>\n",
              "      <td>2.000000e+00</td>\n",
              "      <td>1.889478e+07</td>\n",
              "      <td>2.804790e+11</td>\n",
              "      <td>2.000000e+00</td>\n",
              "      <td>4.700000e+01</td>\n",
              "    </tr>\n",
              "    <tr>\n",
              "      <th>max</th>\n",
              "      <td>5.200401e+11</td>\n",
              "      <td>8.830000e+02</td>\n",
              "      <td>2.000000e+00</td>\n",
              "      <td>4.000000e+00</td>\n",
              "      <td>3.631153e+06</td>\n",
              "      <td>3.720003e+06</td>\n",
              "      <td>9.700800e+06</td>\n",
              "      <td>9.700800e+06</td>\n",
              "      <td>2.600000e+04</td>\n",
              "      <td>1.0</td>\n",
              "      <td>7.000000e+00</td>\n",
              "      <td>1.100000e+01</td>\n",
              "      <td>1.000000e+08</td>\n",
              "      <td>9.997790e+11</td>\n",
              "      <td>2.000000e+00</td>\n",
              "      <td>1.430000e+02</td>\n",
              "    </tr>\n",
              "  </tbody>\n",
              "</table>\n",
              "</div>"
            ],
            "text/plain": [
              "           CIVIL_ID  COUNTRY_CODE  ...         جنسية           Age\n",
              "count  1.574040e+06  1.574040e+06  ...  1.574040e+06  1.573540e+06\n",
              "mean   2.809093e+11  4.590476e+02  ...  1.954697e+00  4.014874e+01\n",
              "std    1.039015e+10  2.977552e+02  ...  2.079669e-01  1.038886e+01\n",
              "min    1.780201e+11  0.000000e+00  ...  1.000000e+00 -2.800000e+01\n",
              "25%    2.740819e+11  1.070000e+02  ...  2.000000e+00  3.200000e+01\n",
              "50%    2.821010e+11  7.020000e+02  ...  2.000000e+00  3.900000e+01\n",
              "75%    2.890606e+11  7.090000e+02  ...  2.000000e+00  4.700000e+01\n",
              "max    5.200401e+11  8.830000e+02  ...  2.000000e+00  1.430000e+02\n",
              "\n",
              "[8 rows x 16 columns]"
            ]
          },
          "metadata": {
            "tags": []
          },
          "execution_count": 17
        }
      ]
    },
    {
      "cell_type": "code",
      "metadata": {
        "colab": {
          "base_uri": "https://localhost:8080/"
        },
        "id": "0a2b947f",
        "outputId": "f5d7c77d-7f00-42e7-9964-0ca3d819a7be"
      },
      "source": [
        "#hide_input\n",
        "df.dtypes"
      ],
      "id": "0a2b947f",
      "execution_count": null,
      "outputs": [
        {
          "output_type": "execute_result",
          "data": {
            "text/plain": [
              "CIVIL_ID                        int64\n",
              "BIRTH_DATE             datetime64[ns]\n",
              "COUNTRY_CODE                  float64\n",
              "COUNTRY_DESC                   object\n",
              "GENDER_CODE                   float64\n",
              "GENDER_DESC                    object\n",
              "RLGION_CODE                   float64\n",
              "RLGION_DESC                    object\n",
              "JOB_CODE                        int64\n",
              "JOB_DESC                       object\n",
              "SECTOR                         object\n",
              "ECONOMIC_ACT_CODE             float64\n",
              "ECONOMIC_ACT_DESC              object\n",
              "EDUCATION_CODE                float64\n",
              "EDUCATION_DESC                 object\n",
              "MAJOR_CODE                    float64\n",
              "SALARY                        float64\n",
              "SALARY_TYPE                   float64\n",
              "ONR_GVRN_CODE                   int64\n",
              "GOVERNORATE_DESC               object\n",
              "MARITAL_STATUS_CODE             int64\n",
              "MARITAL_STATUS_DESC            object\n",
              "COMPANY_NAME                   object\n",
              "HIRE_DATE              datetime64[ns]\n",
              "ADDRESS_AUTO_NO               float64\n",
              "ONR_ID                        float64\n",
              "جنسية                         float64\n",
              "Age                           float64\n",
              "dtype: object"
            ]
          },
          "metadata": {
            "tags": []
          },
          "execution_count": 18
        }
      ]
    },
    {
      "cell_type": "code",
      "metadata": {
        "colab": {
          "base_uri": "https://localhost:8080/"
        },
        "id": "7d5931b6",
        "outputId": "68862903-20fe-44a4-dc6d-119f03b34522"
      },
      "source": [
        "df.isnull().sum()"
      ],
      "id": "7d5931b6",
      "execution_count": null,
      "outputs": [
        {
          "output_type": "execute_result",
          "data": {
            "text/plain": [
              "CIVIL_ID                     0\n",
              "BIRTH_DATE                 500\n",
              "COUNTRY_CODE                 0\n",
              "COUNTRY_DESC                 0\n",
              "GENDER_CODE                 78\n",
              "GENDER_DESC                  0\n",
              "RLGION_CODE              71492\n",
              "RLGION_DESC                  0\n",
              "JOB_CODE                     0\n",
              "JOB_DESC                     0\n",
              "SECTOR                       0\n",
              "ECONOMIC_ACT_CODE         5764\n",
              "ECONOMIC_ACT_DESC            0\n",
              "EDUCATION_CODE           88711\n",
              "EDUCATION_DESC               0\n",
              "MAJOR_CODE               88711\n",
              "SALARY                       1\n",
              "SALARY_TYPE            1574039\n",
              "ONR_GVRN_CODE                0\n",
              "GOVERNORATE_DESC             0\n",
              "MARITAL_STATUS_CODE          0\n",
              "MARITAL_STATUS_DESC          0\n",
              "COMPANY_NAME                 0\n",
              "HIRE_DATE                   42\n",
              "ADDRESS_AUTO_NO         354729\n",
              "ONR_ID                       0\n",
              "جنسية                        0\n",
              "Age                        500\n",
              "dtype: int64"
            ]
          },
          "metadata": {
            "tags": []
          },
          "execution_count": 19
        }
      ]
    },
    {
      "cell_type": "code",
      "metadata": {
        "id": "10475a6b"
      },
      "source": [
        "#hide\n",
        "data = df.drop(['COUNTRY_CODE', 'GENDER_CODE','RLGION_CODE', 'JOB_CODE', 'SECTOR','EDUCATION_CODE','ONR_GVRN_CODE',\n",
        "'MAJOR_CODE','ECONOMIC_ACT_CODE', 'ADDRESS_AUTO_NO','ONR_ID', 'SALARY_TYPE','MARITAL_STATUS_CODE'],axis=1)"
      ],
      "id": "10475a6b",
      "execution_count": null,
      "outputs": []
    },
    {
      "cell_type": "code",
      "metadata": {
        "colab": {
          "base_uri": "https://localhost:8080/",
          "height": 204
        },
        "id": "a1f53472",
        "outputId": "be2f7194-3b06-43ab-ffe6-ded0fae592e0"
      },
      "source": [
        "#hide_input\n",
        "data.head()"
      ],
      "id": "a1f53472",
      "execution_count": null,
      "outputs": [
        {
          "output_type": "execute_result",
          "data": {
            "text/html": [
              "<div>\n",
              "<style scoped>\n",
              "    .dataframe tbody tr th:only-of-type {\n",
              "        vertical-align: middle;\n",
              "    }\n",
              "\n",
              "    .dataframe tbody tr th {\n",
              "        vertical-align: top;\n",
              "    }\n",
              "\n",
              "    .dataframe thead th {\n",
              "        text-align: right;\n",
              "    }\n",
              "</style>\n",
              "<table border=\"1\" class=\"dataframe\">\n",
              "  <thead>\n",
              "    <tr style=\"text-align: right;\">\n",
              "      <th></th>\n",
              "      <th>CIVIL_ID</th>\n",
              "      <th>BIRTH_DATE</th>\n",
              "      <th>COUNTRY_DESC</th>\n",
              "      <th>GENDER_DESC</th>\n",
              "      <th>RLGION_DESC</th>\n",
              "      <th>JOB_DESC</th>\n",
              "      <th>ECONOMIC_ACT_DESC</th>\n",
              "      <th>EDUCATION_DESC</th>\n",
              "      <th>SALARY</th>\n",
              "      <th>GOVERNORATE_DESC</th>\n",
              "      <th>MARITAL_STATUS_DESC</th>\n",
              "      <th>COMPANY_NAME</th>\n",
              "      <th>HIRE_DATE</th>\n",
              "      <th>جنسية</th>\n",
              "      <th>Age</th>\n",
              "    </tr>\n",
              "  </thead>\n",
              "  <tbody>\n",
              "    <tr>\n",
              "      <th>0</th>\n",
              "      <td>271121201014</td>\n",
              "      <td>1971-01-01</td>\n",
              "      <td>الكويت</td>\n",
              "      <td>انثى</td>\n",
              "      <td></td>\n",
              "      <td>مسئول</td>\n",
              "      <td>التجارة العامة و المقاولات</td>\n",
              "      <td></td>\n",
              "      <td>200.0</td>\n",
              "      <td>محافظة الفروانية</td>\n",
              "      <td>متزوج</td>\n",
              "      <td>مؤسسة الرهيب الوطنية للتجارة العامة والمقاولات</td>\n",
              "      <td>2020-02-18</td>\n",
              "      <td>1.0</td>\n",
              "      <td>50.0</td>\n",
              "    </tr>\n",
              "    <tr>\n",
              "      <th>1</th>\n",
              "      <td>276032503881</td>\n",
              "      <td>1976-01-01</td>\n",
              "      <td>باكستان</td>\n",
              "      <td>ذكر</td>\n",
              "      <td>مسلم</td>\n",
              "      <td>حداد</td>\n",
              "      <td>التجارة العامة و المقاولات</td>\n",
              "      <td>متوسط</td>\n",
              "      <td>80.0</td>\n",
              "      <td>محافظة الفروانية</td>\n",
              "      <td>متزوج</td>\n",
              "      <td>مؤسسة الرهيب الوطنية للتجارة العامة والمقاولات</td>\n",
              "      <td>2008-04-15</td>\n",
              "      <td>2.0</td>\n",
              "      <td>45.0</td>\n",
              "    </tr>\n",
              "    <tr>\n",
              "      <th>2</th>\n",
              "      <td>276121004718</td>\n",
              "      <td>1976-01-01</td>\n",
              "      <td>مصـــر</td>\n",
              "      <td>ذكر</td>\n",
              "      <td>مسلم</td>\n",
              "      <td>نقاش</td>\n",
              "      <td>التجارة العامة و المقاولات</td>\n",
              "      <td>متوسط</td>\n",
              "      <td>100.0</td>\n",
              "      <td>محافظة الفروانية</td>\n",
              "      <td>أعزب</td>\n",
              "      <td>مؤسسة الرهيب الوطنية للتجارة العامة والمقاولات</td>\n",
              "      <td>2009-04-06</td>\n",
              "      <td>2.0</td>\n",
              "      <td>45.0</td>\n",
              "    </tr>\n",
              "    <tr>\n",
              "      <th>3</th>\n",
              "      <td>270050801914</td>\n",
              "      <td>1970-01-01</td>\n",
              "      <td>مصـــر</td>\n",
              "      <td>ذكر</td>\n",
              "      <td>مسلم</td>\n",
              "      <td>نقاش</td>\n",
              "      <td>التجارة العامة و المقاولات</td>\n",
              "      <td>متوسط</td>\n",
              "      <td>300.0</td>\n",
              "      <td>محافظة الفروانية</td>\n",
              "      <td>متزوج</td>\n",
              "      <td>مؤسسة الرهيب الوطنية للتجارة العامة والمقاولات</td>\n",
              "      <td>2010-02-16</td>\n",
              "      <td>2.0</td>\n",
              "      <td>51.0</td>\n",
              "    </tr>\n",
              "    <tr>\n",
              "      <th>4</th>\n",
              "      <td>294061303976</td>\n",
              "      <td>1994-01-01</td>\n",
              "      <td>مصـــر</td>\n",
              "      <td>ذكر</td>\n",
              "      <td>مسلم</td>\n",
              "      <td>فنى كهربائي</td>\n",
              "      <td>مقاولات انشاءات كهربائية وميكانيكية مثل محطات ...</td>\n",
              "      <td>متوسط</td>\n",
              "      <td>150.0</td>\n",
              "      <td>محافظة الفروانية</td>\n",
              "      <td>متزوج</td>\n",
              "      <td>شركة الفيالق الكويتية للتجارة العامة والمقاولات</td>\n",
              "      <td>2019-06-30</td>\n",
              "      <td>2.0</td>\n",
              "      <td>27.0</td>\n",
              "    </tr>\n",
              "  </tbody>\n",
              "</table>\n",
              "</div>"
            ],
            "text/plain": [
              "       CIVIL_ID BIRTH_DATE COUNTRY_DESC  ...  HIRE_DATE جنسية   Age\n",
              "0  271121201014 1971-01-01       الكويت  ... 2020-02-18   1.0  50.0\n",
              "1  276032503881 1976-01-01      باكستان  ... 2008-04-15   2.0  45.0\n",
              "2  276121004718 1976-01-01       مصـــر  ... 2009-04-06   2.0  45.0\n",
              "3  270050801914 1970-01-01       مصـــر  ... 2010-02-16   2.0  51.0\n",
              "4  294061303976 1994-01-01       مصـــر  ... 2019-06-30   2.0  27.0\n",
              "\n",
              "[5 rows x 15 columns]"
            ]
          },
          "metadata": {
            "tags": []
          },
          "execution_count": 21
        }
      ]
    },
    {
      "cell_type": "code",
      "metadata": {
        "colab": {
          "base_uri": "https://localhost:8080/"
        },
        "id": "ced794f7",
        "outputId": "f7572eb7-ba3c-4522-a251-090b7196cb86"
      },
      "source": [
        "data.columns"
      ],
      "id": "ced794f7",
      "execution_count": null,
      "outputs": [
        {
          "output_type": "execute_result",
          "data": {
            "text/plain": [
              "Index(['CIVIL_ID', 'BIRTH_DATE', 'COUNTRY_DESC', 'GENDER_DESC', 'RLGION_DESC',\n",
              "       'JOB_DESC', 'ECONOMIC_ACT_DESC', 'EDUCATION_DESC', 'SALARY',\n",
              "       'GOVERNORATE_DESC', 'MARITAL_STATUS_DESC', 'COMPANY_NAME', 'HIRE_DATE',\n",
              "       'جنسية', 'Age'],\n",
              "      dtype='object')"
            ]
          },
          "metadata": {
            "tags": []
          },
          "execution_count": 22
        }
      ]
    },
    {
      "cell_type": "code",
      "metadata": {
        "colab": {
          "base_uri": "https://localhost:8080/"
        },
        "id": "47c08ccc",
        "outputId": "ae94df46-fa22-4f28-deb0-91eb6e9645ae"
      },
      "source": [
        "data['COUNTRY_DESC'].unique()"
      ],
      "id": "47c08ccc",
      "execution_count": null,
      "outputs": [
        {
          "output_type": "execute_result",
          "data": {
            "text/plain": [
              "array(['الكويت', 'باكستان', 'مصـــر', 'افغانستان', 'الهنــد', 'ســوريا',\n",
              "       'الأردن', 'بنجلاديش', 'الفلبين', 'نيبال', 'سيلان ـ سيريلنكا',\n",
              "       'اليمن', 'السودان', 'العراق', 'ايــران', 'لبنــان', 'المانيا',\n",
              "       'اثيوبيا', 'البرتغال', 'المغـرب', 'ارمني', 'فلسطين', 'سيريلانكا',\n",
              "       'البوسنه', 'الولايات المتحدة الأمريكية', 'كندا', 'الصين الشعبيه',\n",
              "       'اندونسيا', 'تــونس', 'تركيا', 'مالــى', 'الصومال',\n",
              "       'كوريا الجنوبية', 'فنزويل', 'غانا', 'السويد', 'كرواتيا', 'اوغندا',\n",
              "       'نيجيريا', 'المملكه المتحده', 'هولندا', 'بولندا', 'فرنسا',\n",
              "       'روسيا الإتحادية', 'استراليا', 'بلجيكا', 'نيوزيلندا',\n",
              "       'جنوب افريقيا', 'اوكرانيا', 'كينيا', 'جورجيا', 'اسبانيا', 'بوتان',\n",
              "       'ايطاليا', 'اليونان', 'رومانيا', 'كازاخستان', 'زيمبابوى',\n",
              "       'طاجيكستان', 'المكسيك', 'ميانيمار', 'كونغو ديموقراطية',\n",
              "       'الكاميرون', 'مقدونيا', 'قرغستان', 'غامبيا', 'سيراليون', 'تنزانيا',\n",
              "       'بوركينا فاسو', 'أرتيريا', 'ماليزيا', 'جواتيمال', 'ساحـل العاج',\n",
              "       'الجزائـر', 'ليبيــا', 'اذربيجان', 'تايلاند', 'بلغاريا', '',\n",
              "       'تـوجـو', 'بينين', 'ديمنون فيجى', 'البرازيل', 'مالوى',\n",
              "       'جزر القمـر', 'التشيك', 'تشــاد', 'جنوب السودان', 'هنغارى',\n",
              "       'يوغسلفيا', 'جيبوتى', 'الدانمارك', 'سويسرا', 'زامبيا', 'النيجر',\n",
              "       'النرويج', 'صربيا', 'بنـــما', 'تشيلى', 'بلاروسيا', 'السنغال',\n",
              "       'الدومينيكان', 'ايرلندا', 'اوزبكستان', 'النمسـا', 'قبرص',\n",
              "       'البانيا', 'بنين', 'جامايكا', 'كوريا الديمقراطية', 'كولومبيا',\n",
              "       'الأرجنتين', 'ليبيريا', 'السلفادور', 'موريتانيا', 'غرينادا',\n",
              "       'بوليفيا', 'سلوفينيا', 'سانت كريستوفر ونيفز', 'سنغافوره',\n",
              "       'أنتيغوا وباربودا', 'اليابان', 'رواندا', 'دومينيكا', 'ليتوانيا',\n",
              "       'أفريقيا الوسطى', 'سلوفاكيا', 'فيتنام', 'ملاوى', 'مالطــه',\n",
              "       'هندوراس', 'الباهاما ـ جزر', 'لاتفيا', 'غينيا بيساو', 'بــيرو',\n",
              "       'كــــوبا', 'مدغشقر', 'جمهورية كوسوفو', 'باليز', 'لوكسمبرج',\n",
              "       'ايسلندا', 'فنلندا', 'باراجواى', 'موريشيوس  جزيره', 'مالديفيا',\n",
              "       'سيشل ـ جزر ـ', 'استونيا', 'الإكوادور', 'غينياالإستوائيه',\n",
              "       'مونتينغرو', 'مولدوف', 'غيانا الفرنسيه', 'تريندادوتوباجو', 'غينيا',\n",
              "       'اورجواى', 'سوازيلند', 'جرينادا', 'باربادوس  ـ جزر-', 'الجابون',\n",
              "       'تركمانستان', 'كمبوديا', 'سانت لوتشيا', 'كوستاريكا', 'موزمبيق',\n",
              "       'ناميبى', 'بوتسوانا', 'انجول', 'بورندى', 'نيكاراجوا', 'مـــكاو',\n",
              "       'سان مارينو', 'بورونى', 'الاورغواى'], dtype=object)"
            ]
          },
          "metadata": {
            "tags": []
          },
          "execution_count": 23
        }
      ]
    },
    {
      "cell_type": "code",
      "metadata": {
        "colab": {
          "base_uri": "https://localhost:8080/"
        },
        "id": "fea76c2c",
        "outputId": "2ae7c0a5-70e0-4c3a-e56a-535b0aac57e5"
      },
      "source": [
        "data['RLGION_DESC'].unique()"
      ],
      "id": "fea76c2c",
      "execution_count": null,
      "outputs": [
        {
          "output_type": "execute_result",
          "data": {
            "text/plain": [
              "array(['', 'مسلم', 'ديانات أخري', 'مسيحي', 'هندوسي', 'بوذي'], dtype=object)"
            ]
          },
          "metadata": {
            "tags": []
          },
          "execution_count": 24
        }
      ]
    },
    {
      "cell_type": "code",
      "metadata": {
        "colab": {
          "base_uri": "https://localhost:8080/"
        },
        "id": "49e53455",
        "outputId": "7bbb8b84-baef-46e3-fe18-04ca1d3ffb02"
      },
      "source": [
        "data['JOB_DESC'].value_counts()"
      ],
      "id": "49e53455",
      "execution_count": null,
      "outputs": [
        {
          "output_type": "execute_result",
          "data": {
            "text/plain": [
              "عامل عادى خفيف             164555\n",
              "سائق مركبه خفيفه           107114\n",
              "بائع                        99493\n",
              "عامل نظافة                  63878\n",
              "عامل زراعى                  39552\n",
              "                            ...  \n",
              "طباع بروفات                     1\n",
              "اخصائى حاسب الى اول             1\n",
              "مهندس اول اعمال الصيانة         1\n",
              "كاتب شئون قانونية               1\n",
              "اخصائى عمليات التوزيع           1\n",
              "Name: JOB_DESC, Length: 2285, dtype: int64"
            ]
          },
          "metadata": {
            "tags": []
          },
          "execution_count": 25
        }
      ]
    },
    {
      "cell_type": "code",
      "metadata": {
        "colab": {
          "base_uri": "https://localhost:8080/"
        },
        "id": "9dcf9d40",
        "outputId": "f3a7aeb8-6475-4229-a250-17a24c16bd04"
      },
      "source": [
        "data['EDUCATION_DESC'].unique()"
      ],
      "id": "9dcf9d40",
      "execution_count": null,
      "outputs": [
        {
          "output_type": "execute_result",
          "data": {
            "text/plain": [
              "array(['', 'متوسط', 'ثانوية', 'ابتدائي', 'جامعى', 'دبلوم',\n",
              "       'دبلوم دراسات عليا سنة بعد الجامعى', 'جامعي', 'ماجستير',\n",
              "       'خبرة وبدون مؤهل', 'دبلوم دراسات عليا سنتان بعد الجامعى',\n",
              "       'دكتوراه'], dtype=object)"
            ]
          },
          "metadata": {
            "tags": []
          },
          "execution_count": 26
        }
      ]
    },
    {
      "cell_type": "code",
      "metadata": {
        "colab": {
          "base_uri": "https://localhost:8080/"
        },
        "id": "9127746d",
        "outputId": "fd9a38d7-1421-4541-c0e8-b9c1cf36b5ee"
      },
      "source": [
        "data['SALARY'].value_counts()"
      ],
      "id": "9127746d",
      "execution_count": null,
      "outputs": [
        {
          "output_type": "execute_result",
          "data": {
            "text/plain": [
              "100.000     176864\n",
              "250.000     128443\n",
              "150.000     126880\n",
              "75.000      113054\n",
              "80.000       72402\n",
              "             ...  \n",
              "3113.000         1\n",
              "714.060          1\n",
              "3106.000         1\n",
              "3102.000         1\n",
              "771.575          1\n",
              "Name: SALARY, Length: 7224, dtype: int64"
            ]
          },
          "metadata": {
            "tags": []
          },
          "execution_count": 27
        }
      ]
    },
    {
      "cell_type": "code",
      "metadata": {
        "colab": {
          "base_uri": "https://localhost:8080/"
        },
        "id": "b6a368e5",
        "outputId": "c1a32c88-fc82-4551-eb11-66324ee09e60"
      },
      "source": [
        "data['GOVERNORATE_DESC'].unique()"
      ],
      "id": "b6a368e5",
      "execution_count": null,
      "outputs": [
        {
          "output_type": "execute_result",
          "data": {
            "text/plain": [
              "array(['محافظة الفروانية', 'محافظة العاصمة', 'محافظة الجهراء',\n",
              "       'محافظة الاحمدي', 'محافظة حولي', 'محافظة مبارك الكبير',\n",
              "       'العقود الحكومية'], dtype=object)"
            ]
          },
          "metadata": {
            "tags": []
          },
          "execution_count": 28
        }
      ]
    },
    {
      "cell_type": "code",
      "metadata": {
        "colab": {
          "base_uri": "https://localhost:8080/"
        },
        "id": "c300dc39",
        "outputId": "7a0c8856-9483-44e8-dbd8-0f1fdb46279a"
      },
      "source": [
        "data['MARITAL_STATUS_DESC'].unique()"
      ],
      "id": "c300dc39",
      "execution_count": null,
      "outputs": [
        {
          "output_type": "execute_result",
          "data": {
            "text/plain": [
              "array(['متزوج', 'أعزب', '', 'أرمل', 'مطلق', 'غير معرف'], dtype=object)"
            ]
          },
          "metadata": {
            "tags": []
          },
          "execution_count": 29
        }
      ]
    },
    {
      "cell_type": "code",
      "metadata": {
        "colab": {
          "base_uri": "https://localhost:8080/"
        },
        "id": "9a27b1fb",
        "outputId": "d1dd1e45-6a37-400a-ea44-cb050b9f1c65"
      },
      "source": [
        "data['COMPANY_NAME'].unique()"
      ],
      "id": "9a27b1fb",
      "execution_count": null,
      "outputs": [
        {
          "output_type": "execute_result",
          "data": {
            "text/plain": [
              "array(['مؤسسة الرهيب الوطنية للتجارة العامة والمقاولات',\n",
              "       'شركة الفيالق الكويتية للتجارة العامة والمقاولات',\n",
              "       'مصنع نسيم الكويت لتصنيع الزجاج المشغول والمرايا المشغولة', ...,\n",
              "       'شركه مطعم بومباي برياني', 'شركة الكناني استار للاثاث والمفروشات',\n",
              "       'شركة لوفيت للسياحه والسفر'], dtype=object)"
            ]
          },
          "metadata": {
            "tags": []
          },
          "execution_count": 30
        }
      ]
    },
    {
      "cell_type": "code",
      "metadata": {
        "colab": {
          "base_uri": "https://localhost:8080/"
        },
        "id": "d02f52e6",
        "outputId": "a4d520d0-e16c-47a5-cd03-8f57da2ec0a1"
      },
      "source": [
        "data['HIRE_DATE'].value_counts()"
      ],
      "id": "d02f52e6",
      "execution_count": null,
      "outputs": [
        {
          "output_type": "execute_result",
          "data": {
            "text/plain": [
              "2020-12-01    3898\n",
              "2020-11-01    3834\n",
              "2020-09-01    3743\n",
              "2020-10-01    3555\n",
              "2020-04-01    3332\n",
              "              ... \n",
              "2004-07-03       1\n",
              "2003-10-04       1\n",
              "1997-06-30       1\n",
              "2002-09-29       1\n",
              "2005-06-18       1\n",
              "Name: HIRE_DATE, Length: 4826, dtype: int64"
            ]
          },
          "metadata": {
            "tags": []
          },
          "execution_count": 31
        }
      ]
    },
    {
      "cell_type": "code",
      "metadata": {
        "colab": {
          "base_uri": "https://localhost:8080/"
        },
        "id": "60d5a8e1",
        "outputId": "2b921dda-9ac6-42a8-b56b-9fed8d86397f"
      },
      "source": [
        "data['Age'].value_counts()"
      ],
      "id": "60d5a8e1",
      "execution_count": null,
      "outputs": [
        {
          "output_type": "execute_result",
          "data": {
            "text/plain": [
              " 33.0    65641\n",
              " 34.0    59774\n",
              " 30.0    58931\n",
              " 36.0    58435\n",
              " 35.0    58112\n",
              "         ...  \n",
              "-16.0        1\n",
              "-17.0        1\n",
              " 18.0        1\n",
              "-19.0        1\n",
              "-24.0        1\n",
              "Name: Age, Length: 97, dtype: int64"
            ]
          },
          "metadata": {
            "tags": []
          },
          "execution_count": 32
        }
      ]
    },
    {
      "cell_type": "code",
      "metadata": {
        "colab": {
          "base_uri": "https://localhost:8080/"
        },
        "id": "39f9fc30",
        "outputId": "4694c3c9-7642-41e2-edc9-b7d9c64e2308"
      },
      "source": [
        "data.info()"
      ],
      "id": "39f9fc30",
      "execution_count": null,
      "outputs": [
        {
          "output_type": "stream",
          "text": [
            "<class 'pandas.core.frame.DataFrame'>\n",
            "RangeIndex: 1574040 entries, 0 to 1574039\n",
            "Data columns (total 15 columns):\n",
            " #   Column               Non-Null Count    Dtype         \n",
            "---  ------               --------------    -----         \n",
            " 0   CIVIL_ID             1574040 non-null  int64         \n",
            " 1   BIRTH_DATE           1573540 non-null  datetime64[ns]\n",
            " 2   COUNTRY_DESC         1574040 non-null  object        \n",
            " 3   GENDER_DESC          1574040 non-null  object        \n",
            " 4   RLGION_DESC          1574040 non-null  object        \n",
            " 5   JOB_DESC             1574040 non-null  object        \n",
            " 6   ECONOMIC_ACT_DESC    1574040 non-null  object        \n",
            " 7   EDUCATION_DESC       1574040 non-null  object        \n",
            " 8   SALARY               1574039 non-null  float64       \n",
            " 9   GOVERNORATE_DESC     1574040 non-null  object        \n",
            " 10  MARITAL_STATUS_DESC  1574040 non-null  object        \n",
            " 11  COMPANY_NAME         1574040 non-null  object        \n",
            " 12  HIRE_DATE            1573998 non-null  datetime64[ns]\n",
            " 13  جنسية                1574040 non-null  float64       \n",
            " 14  Age                  1573540 non-null  float64       \n",
            "dtypes: datetime64[ns](2), float64(3), int64(1), object(9)\n",
            "memory usage: 180.1+ MB\n"
          ],
          "name": "stdout"
        }
      ]
    },
    {
      "cell_type": "markdown",
      "metadata": {
        "id": "8a61174e"
      },
      "source": [
        "### VISUALIZATIONS"
      ],
      "id": "8a61174e"
    },
    {
      "cell_type": "markdown",
      "metadata": {
        "id": "f9119593"
      },
      "source": [
        "#### Top 10 countries from which most of the people are Employeed"
      ],
      "id": "f9119593"
    },
    {
      "cell_type": "code",
      "metadata": {
        "colab": {
          "base_uri": "https://localhost:8080/",
          "height": 359
        },
        "id": "833155b5",
        "outputId": "dafc3cf9-73e3-4c20-892b-fbe75bc45f5b"
      },
      "source": [
        "#hide_input\n",
        "a = dict(data['COUNTRY_DESC'].value_counts())\n",
        "insight1 = pd.DataFrame()\n",
        "a = dict(sorted(a.items(), key=operator.itemgetter(1), reverse=True)[:10])\n",
        "insight1['Country'] = a.keys()\n",
        "insight1['Count'] = a.values()\n",
        "insight1"
      ],
      "id": "833155b5",
      "execution_count": null,
      "outputs": [
        {
          "output_type": "execute_result",
          "data": {
            "text/html": [
              "<div>\n",
              "<style scoped>\n",
              "    .dataframe tbody tr th:only-of-type {\n",
              "        vertical-align: middle;\n",
              "    }\n",
              "\n",
              "    .dataframe tbody tr th {\n",
              "        vertical-align: top;\n",
              "    }\n",
              "\n",
              "    .dataframe thead th {\n",
              "        text-align: right;\n",
              "    }\n",
              "</style>\n",
              "<table border=\"1\" class=\"dataframe\">\n",
              "  <thead>\n",
              "    <tr style=\"text-align: right;\">\n",
              "      <th></th>\n",
              "      <th>Country</th>\n",
              "      <th>Count</th>\n",
              "    </tr>\n",
              "  </thead>\n",
              "  <tbody>\n",
              "    <tr>\n",
              "      <th>0</th>\n",
              "      <td>الهنــد</td>\n",
              "      <td>477043</td>\n",
              "    </tr>\n",
              "    <tr>\n",
              "      <th>1</th>\n",
              "      <td>مصـــر</td>\n",
              "      <td>447370</td>\n",
              "    </tr>\n",
              "    <tr>\n",
              "      <th>2</th>\n",
              "      <td>بنجلاديش</td>\n",
              "      <td>169610</td>\n",
              "    </tr>\n",
              "    <tr>\n",
              "      <th>3</th>\n",
              "      <td>باكستان</td>\n",
              "      <td>72319</td>\n",
              "    </tr>\n",
              "    <tr>\n",
              "      <th>4</th>\n",
              "      <td>الكويت</td>\n",
              "      <td>71308</td>\n",
              "    </tr>\n",
              "    <tr>\n",
              "      <th>5</th>\n",
              "      <td>الفلبين</td>\n",
              "      <td>67942</td>\n",
              "    </tr>\n",
              "    <tr>\n",
              "      <th>6</th>\n",
              "      <td>ســوريا</td>\n",
              "      <td>57882</td>\n",
              "    </tr>\n",
              "    <tr>\n",
              "      <th>7</th>\n",
              "      <td>نيبال</td>\n",
              "      <td>47438</td>\n",
              "    </tr>\n",
              "    <tr>\n",
              "      <th>8</th>\n",
              "      <td>الأردن</td>\n",
              "      <td>22864</td>\n",
              "    </tr>\n",
              "    <tr>\n",
              "      <th>9</th>\n",
              "      <td>ايــران</td>\n",
              "      <td>20522</td>\n",
              "    </tr>\n",
              "  </tbody>\n",
              "</table>\n",
              "</div>"
            ],
            "text/plain": [
              "    Country   Count\n",
              "0   الهنــد  477043\n",
              "1    مصـــر  447370\n",
              "2  بنجلاديش  169610\n",
              "3   باكستان   72319\n",
              "4    الكويت   71308\n",
              "5   الفلبين   67942\n",
              "6   ســوريا   57882\n",
              "7     نيبال   47438\n",
              "8    الأردن   22864\n",
              "9   ايــران   20522"
            ]
          },
          "metadata": {
            "tags": []
          },
          "execution_count": 34
        }
      ]
    },
    {
      "cell_type": "code",
      "metadata": {
        "colab": {
          "base_uri": "https://localhost:8080/",
          "height": 542
        },
        "id": "8093570e",
        "outputId": "9a3d4a7e-1282-40e8-c681-14bf708145c6"
      },
      "source": [
        "#hide_input\n",
        "fig = px.treemap(insight1, path=['Country', 'Count'], values='Count',title=\"Top 10 Countries from which most of the people are Employeed\")\n",
        "fig.show()"
      ],
      "id": "8093570e",
      "execution_count": null,
      "outputs": [
        {
          "output_type": "display_data",
          "data": {
            "text/html": [
              "<html>\n",
              "<head><meta charset=\"utf-8\" /></head>\n",
              "<body>\n",
              "    <div>            <script src=\"https://cdnjs.cloudflare.com/ajax/libs/mathjax/2.7.5/MathJax.js?config=TeX-AMS-MML_SVG\"></script><script type=\"text/javascript\">if (window.MathJax) {MathJax.Hub.Config({SVG: {font: \"STIX-Web\"}});}</script>                <script type=\"text/javascript\">window.PlotlyConfig = {MathJaxConfig: 'local'};</script>\n",
              "        <script src=\"https://cdn.plot.ly/plotly-latest.min.js\"></script>                <div id=\"f835d92a-2aa4-4c4d-a785-849a3532b10a\" class=\"plotly-graph-div\" style=\"height:525px; width:100%;\"></div>            <script type=\"text/javascript\">                                    window.PLOTLYENV=window.PLOTLYENV || {};                                    if (document.getElementById(\"f835d92a-2aa4-4c4d-a785-849a3532b10a\")) {                    Plotly.newPlot(                        \"f835d92a-2aa4-4c4d-a785-849a3532b10a\",                        [{\"branchvalues\": \"total\", \"domain\": {\"x\": [0.0, 1.0], \"y\": [0.0, 1.0]}, \"hovertemplate\": \"labels=%{label}<br>Count=%{value}<br>parent=%{parent}<br>id=%{id}<extra></extra>\", \"ids\": [\"\\u0627\\u064a\\u0640\\u0640\\u0631\\u0627\\u0646/20522\", \"\\u0627\\u0644\\u0623\\u0631\\u062f\\u0646/22864\", \"\\u0646\\u064a\\u0628\\u0627\\u0644/47438\", \"\\u0633\\u0640\\u0640\\u0648\\u0631\\u064a\\u0627/57882\", \"\\u0627\\u0644\\u0641\\u0644\\u0628\\u064a\\u0646/67942\", \"\\u0627\\u0644\\u0643\\u0648\\u064a\\u062a/71308\", \"\\u0628\\u0627\\u0643\\u0633\\u062a\\u0627\\u0646/72319\", \"\\u0628\\u0646\\u062c\\u0644\\u0627\\u062f\\u064a\\u0634/169610\", \"\\u0645\\u0635\\u0640\\u0640\\u0640\\u0631/447370\", \"\\u0627\\u0644\\u0647\\u0646\\u0640\\u0640\\u062f/477043\", \"\\u0627\\u0644\\u0623\\u0631\\u062f\\u0646\", \"\\u0627\\u0644\\u0641\\u0644\\u0628\\u064a\\u0646\", \"\\u0627\\u0644\\u0643\\u0648\\u064a\\u062a\", \"\\u0627\\u0644\\u0647\\u0646\\u0640\\u0640\\u062f\", \"\\u0627\\u064a\\u0640\\u0640\\u0631\\u0627\\u0646\", \"\\u0628\\u0627\\u0643\\u0633\\u062a\\u0627\\u0646\", \"\\u0628\\u0646\\u062c\\u0644\\u0627\\u062f\\u064a\\u0634\", \"\\u0633\\u0640\\u0640\\u0648\\u0631\\u064a\\u0627\", \"\\u0645\\u0635\\u0640\\u0640\\u0640\\u0631\", \"\\u0646\\u064a\\u0628\\u0627\\u0644\"], \"labels\": [\"20522\", \"22864\", \"47438\", \"57882\", \"67942\", \"71308\", \"72319\", \"169610\", \"447370\", \"477043\", \"\\u0627\\u0644\\u0623\\u0631\\u062f\\u0646\", \"\\u0627\\u0644\\u0641\\u0644\\u0628\\u064a\\u0646\", \"\\u0627\\u0644\\u0643\\u0648\\u064a\\u062a\", \"\\u0627\\u0644\\u0647\\u0646\\u0640\\u0640\\u062f\", \"\\u0627\\u064a\\u0640\\u0640\\u0631\\u0627\\u0646\", \"\\u0628\\u0627\\u0643\\u0633\\u062a\\u0627\\u0646\", \"\\u0628\\u0646\\u062c\\u0644\\u0627\\u062f\\u064a\\u0634\", \"\\u0633\\u0640\\u0640\\u0648\\u0631\\u064a\\u0627\", \"\\u0645\\u0635\\u0640\\u0640\\u0640\\u0631\", \"\\u0646\\u064a\\u0628\\u0627\\u0644\"], \"name\": \"\", \"parents\": [\"\\u0627\\u064a\\u0640\\u0640\\u0631\\u0627\\u0646\", \"\\u0627\\u0644\\u0623\\u0631\\u062f\\u0646\", \"\\u0646\\u064a\\u0628\\u0627\\u0644\", \"\\u0633\\u0640\\u0640\\u0648\\u0631\\u064a\\u0627\", \"\\u0627\\u0644\\u0641\\u0644\\u0628\\u064a\\u0646\", \"\\u0627\\u0644\\u0643\\u0648\\u064a\\u062a\", \"\\u0628\\u0627\\u0643\\u0633\\u062a\\u0627\\u0646\", \"\\u0628\\u0646\\u062c\\u0644\\u0627\\u062f\\u064a\\u0634\", \"\\u0645\\u0635\\u0640\\u0640\\u0640\\u0631\", \"\\u0627\\u0644\\u0647\\u0646\\u0640\\u0640\\u062f\", \"\", \"\", \"\", \"\", \"\", \"\", \"\", \"\", \"\", \"\"], \"type\": \"treemap\", \"values\": [20522, 22864, 47438, 57882, 67942, 71308, 72319, 169610, 447370, 477043, 22864, 67942, 71308, 477043, 20522, 72319, 169610, 57882, 447370, 47438]}],                        {\"legend\": {\"tracegroupgap\": 0}, \"template\": {\"data\": {\"bar\": [{\"error_x\": {\"color\": \"#2a3f5f\"}, \"error_y\": {\"color\": \"#2a3f5f\"}, \"marker\": {\"line\": {\"color\": \"#E5ECF6\", \"width\": 0.5}}, \"type\": \"bar\"}], \"barpolar\": [{\"marker\": {\"line\": {\"color\": \"#E5ECF6\", \"width\": 0.5}}, \"type\": \"barpolar\"}], \"carpet\": [{\"aaxis\": {\"endlinecolor\": \"#2a3f5f\", \"gridcolor\": \"white\", \"linecolor\": \"white\", \"minorgridcolor\": \"white\", \"startlinecolor\": \"#2a3f5f\"}, \"baxis\": {\"endlinecolor\": \"#2a3f5f\", \"gridcolor\": \"white\", \"linecolor\": \"white\", \"minorgridcolor\": \"white\", \"startlinecolor\": \"#2a3f5f\"}, \"type\": \"carpet\"}], \"choropleth\": [{\"colorbar\": {\"outlinewidth\": 0, \"ticks\": \"\"}, \"type\": \"choropleth\"}], \"contour\": [{\"colorbar\": {\"outlinewidth\": 0, \"ticks\": \"\"}, \"colorscale\": [[0.0, \"#0d0887\"], [0.1111111111111111, \"#46039f\"], [0.2222222222222222, \"#7201a8\"], [0.3333333333333333, \"#9c179e\"], [0.4444444444444444, \"#bd3786\"], [0.5555555555555556, \"#d8576b\"], [0.6666666666666666, \"#ed7953\"], [0.7777777777777778, \"#fb9f3a\"], [0.8888888888888888, \"#fdca26\"], [1.0, \"#f0f921\"]], \"type\": \"contour\"}], \"contourcarpet\": [{\"colorbar\": {\"outlinewidth\": 0, \"ticks\": \"\"}, \"type\": \"contourcarpet\"}], \"heatmap\": [{\"colorbar\": {\"outlinewidth\": 0, \"ticks\": \"\"}, \"colorscale\": [[0.0, \"#0d0887\"], [0.1111111111111111, \"#46039f\"], [0.2222222222222222, \"#7201a8\"], [0.3333333333333333, \"#9c179e\"], [0.4444444444444444, \"#bd3786\"], [0.5555555555555556, \"#d8576b\"], [0.6666666666666666, \"#ed7953\"], [0.7777777777777778, \"#fb9f3a\"], [0.8888888888888888, \"#fdca26\"], [1.0, \"#f0f921\"]], \"type\": \"heatmap\"}], \"heatmapgl\": [{\"colorbar\": {\"outlinewidth\": 0, \"ticks\": \"\"}, \"colorscale\": [[0.0, \"#0d0887\"], [0.1111111111111111, \"#46039f\"], [0.2222222222222222, \"#7201a8\"], [0.3333333333333333, \"#9c179e\"], [0.4444444444444444, \"#bd3786\"], [0.5555555555555556, \"#d8576b\"], [0.6666666666666666, \"#ed7953\"], [0.7777777777777778, \"#fb9f3a\"], [0.8888888888888888, \"#fdca26\"], [1.0, \"#f0f921\"]], \"type\": \"heatmapgl\"}], \"histogram\": [{\"marker\": {\"colorbar\": {\"outlinewidth\": 0, \"ticks\": \"\"}}, \"type\": \"histogram\"}], \"histogram2d\": [{\"colorbar\": {\"outlinewidth\": 0, \"ticks\": \"\"}, \"colorscale\": [[0.0, \"#0d0887\"], [0.1111111111111111, \"#46039f\"], [0.2222222222222222, \"#7201a8\"], [0.3333333333333333, \"#9c179e\"], [0.4444444444444444, \"#bd3786\"], [0.5555555555555556, \"#d8576b\"], [0.6666666666666666, \"#ed7953\"], [0.7777777777777778, \"#fb9f3a\"], [0.8888888888888888, \"#fdca26\"], [1.0, \"#f0f921\"]], \"type\": \"histogram2d\"}], \"histogram2dcontour\": [{\"colorbar\": {\"outlinewidth\": 0, \"ticks\": \"\"}, \"colorscale\": [[0.0, \"#0d0887\"], [0.1111111111111111, \"#46039f\"], [0.2222222222222222, \"#7201a8\"], [0.3333333333333333, \"#9c179e\"], [0.4444444444444444, \"#bd3786\"], [0.5555555555555556, \"#d8576b\"], [0.6666666666666666, \"#ed7953\"], [0.7777777777777778, \"#fb9f3a\"], [0.8888888888888888, \"#fdca26\"], [1.0, \"#f0f921\"]], \"type\": \"histogram2dcontour\"}], \"mesh3d\": [{\"colorbar\": {\"outlinewidth\": 0, \"ticks\": \"\"}, \"type\": \"mesh3d\"}], \"parcoords\": [{\"line\": {\"colorbar\": {\"outlinewidth\": 0, \"ticks\": \"\"}}, \"type\": \"parcoords\"}], \"pie\": [{\"automargin\": true, \"type\": \"pie\"}], \"scatter\": [{\"marker\": {\"colorbar\": {\"outlinewidth\": 0, \"ticks\": \"\"}}, \"type\": \"scatter\"}], \"scatter3d\": [{\"line\": {\"colorbar\": {\"outlinewidth\": 0, \"ticks\": \"\"}}, \"marker\": {\"colorbar\": {\"outlinewidth\": 0, \"ticks\": \"\"}}, \"type\": \"scatter3d\"}], \"scattercarpet\": [{\"marker\": {\"colorbar\": {\"outlinewidth\": 0, \"ticks\": \"\"}}, \"type\": \"scattercarpet\"}], \"scattergeo\": [{\"marker\": {\"colorbar\": {\"outlinewidth\": 0, \"ticks\": \"\"}}, \"type\": \"scattergeo\"}], \"scattergl\": [{\"marker\": {\"colorbar\": {\"outlinewidth\": 0, \"ticks\": \"\"}}, \"type\": \"scattergl\"}], \"scattermapbox\": [{\"marker\": {\"colorbar\": {\"outlinewidth\": 0, \"ticks\": \"\"}}, \"type\": \"scattermapbox\"}], \"scatterpolar\": [{\"marker\": {\"colorbar\": {\"outlinewidth\": 0, \"ticks\": \"\"}}, \"type\": \"scatterpolar\"}], \"scatterpolargl\": [{\"marker\": {\"colorbar\": {\"outlinewidth\": 0, \"ticks\": \"\"}}, \"type\": \"scatterpolargl\"}], \"scatterternary\": [{\"marker\": {\"colorbar\": {\"outlinewidth\": 0, \"ticks\": \"\"}}, \"type\": \"scatterternary\"}], \"surface\": [{\"colorbar\": {\"outlinewidth\": 0, \"ticks\": \"\"}, \"colorscale\": [[0.0, \"#0d0887\"], [0.1111111111111111, \"#46039f\"], [0.2222222222222222, \"#7201a8\"], [0.3333333333333333, \"#9c179e\"], [0.4444444444444444, \"#bd3786\"], [0.5555555555555556, \"#d8576b\"], [0.6666666666666666, \"#ed7953\"], [0.7777777777777778, \"#fb9f3a\"], [0.8888888888888888, \"#fdca26\"], [1.0, \"#f0f921\"]], \"type\": \"surface\"}], \"table\": [{\"cells\": {\"fill\": {\"color\": \"#EBF0F8\"}, \"line\": {\"color\": \"white\"}}, \"header\": {\"fill\": {\"color\": \"#C8D4E3\"}, \"line\": {\"color\": \"white\"}}, \"type\": \"table\"}]}, \"layout\": {\"annotationdefaults\": {\"arrowcolor\": \"#2a3f5f\", \"arrowhead\": 0, \"arrowwidth\": 1}, \"autotypenumbers\": \"strict\", \"coloraxis\": {\"colorbar\": {\"outlinewidth\": 0, \"ticks\": \"\"}}, \"colorscale\": {\"diverging\": [[0, \"#8e0152\"], [0.1, \"#c51b7d\"], [0.2, \"#de77ae\"], [0.3, \"#f1b6da\"], [0.4, \"#fde0ef\"], [0.5, \"#f7f7f7\"], [0.6, \"#e6f5d0\"], [0.7, \"#b8e186\"], [0.8, \"#7fbc41\"], [0.9, \"#4d9221\"], [1, \"#276419\"]], \"sequential\": [[0.0, \"#0d0887\"], [0.1111111111111111, \"#46039f\"], [0.2222222222222222, \"#7201a8\"], [0.3333333333333333, \"#9c179e\"], [0.4444444444444444, \"#bd3786\"], [0.5555555555555556, \"#d8576b\"], [0.6666666666666666, \"#ed7953\"], [0.7777777777777778, \"#fb9f3a\"], [0.8888888888888888, \"#fdca26\"], [1.0, \"#f0f921\"]], \"sequentialminus\": [[0.0, \"#0d0887\"], [0.1111111111111111, \"#46039f\"], [0.2222222222222222, \"#7201a8\"], [0.3333333333333333, \"#9c179e\"], [0.4444444444444444, \"#bd3786\"], [0.5555555555555556, \"#d8576b\"], [0.6666666666666666, \"#ed7953\"], [0.7777777777777778, \"#fb9f3a\"], [0.8888888888888888, \"#fdca26\"], [1.0, \"#f0f921\"]]}, \"colorway\": [\"#636efa\", \"#EF553B\", \"#00cc96\", \"#ab63fa\", \"#FFA15A\", \"#19d3f3\", \"#FF6692\", \"#B6E880\", \"#FF97FF\", \"#FECB52\"], \"font\": {\"color\": \"#2a3f5f\"}, \"geo\": {\"bgcolor\": \"white\", \"lakecolor\": \"white\", \"landcolor\": \"#E5ECF6\", \"showlakes\": true, \"showland\": true, \"subunitcolor\": \"white\"}, \"hoverlabel\": {\"align\": \"left\"}, \"hovermode\": \"closest\", \"mapbox\": {\"style\": \"light\"}, \"paper_bgcolor\": \"white\", \"plot_bgcolor\": \"#E5ECF6\", \"polar\": {\"angularaxis\": {\"gridcolor\": \"white\", \"linecolor\": \"white\", \"ticks\": \"\"}, \"bgcolor\": \"#E5ECF6\", \"radialaxis\": {\"gridcolor\": \"white\", \"linecolor\": \"white\", \"ticks\": \"\"}}, \"scene\": {\"xaxis\": {\"backgroundcolor\": \"#E5ECF6\", \"gridcolor\": \"white\", \"gridwidth\": 2, \"linecolor\": \"white\", \"showbackground\": true, \"ticks\": \"\", \"zerolinecolor\": \"white\"}, \"yaxis\": {\"backgroundcolor\": \"#E5ECF6\", \"gridcolor\": \"white\", \"gridwidth\": 2, \"linecolor\": \"white\", \"showbackground\": true, \"ticks\": \"\", \"zerolinecolor\": \"white\"}, \"zaxis\": {\"backgroundcolor\": \"#E5ECF6\", \"gridcolor\": \"white\", \"gridwidth\": 2, \"linecolor\": \"white\", \"showbackground\": true, \"ticks\": \"\", \"zerolinecolor\": \"white\"}}, \"shapedefaults\": {\"line\": {\"color\": \"#2a3f5f\"}}, \"ternary\": {\"aaxis\": {\"gridcolor\": \"white\", \"linecolor\": \"white\", \"ticks\": \"\"}, \"baxis\": {\"gridcolor\": \"white\", \"linecolor\": \"white\", \"ticks\": \"\"}, \"bgcolor\": \"#E5ECF6\", \"caxis\": {\"gridcolor\": \"white\", \"linecolor\": \"white\", \"ticks\": \"\"}}, \"title\": {\"x\": 0.05}, \"xaxis\": {\"automargin\": true, \"gridcolor\": \"white\", \"linecolor\": \"white\", \"ticks\": \"\", \"title\": {\"standoff\": 15}, \"zerolinecolor\": \"white\", \"zerolinewidth\": 2}, \"yaxis\": {\"automargin\": true, \"gridcolor\": \"white\", \"linecolor\": \"white\", \"ticks\": \"\", \"title\": {\"standoff\": 15}, \"zerolinecolor\": \"white\", \"zerolinewidth\": 2}}}, \"title\": {\"text\": \"Top 10 Countries from which most of the people are Employeed\"}},                        {\"responsive\": true}                    ).then(function(){\n",
              "                            \n",
              "var gd = document.getElementById('f835d92a-2aa4-4c4d-a785-849a3532b10a');\n",
              "var x = new MutationObserver(function (mutations, observer) {{\n",
              "        var display = window.getComputedStyle(gd).display;\n",
              "        if (!display || display === 'none') {{\n",
              "            console.log([gd, 'removed!']);\n",
              "            Plotly.purge(gd);\n",
              "            observer.disconnect();\n",
              "        }}\n",
              "}});\n",
              "\n",
              "// Listen for the removal of the full notebook cells\n",
              "var notebookContainer = gd.closest('#notebook-container');\n",
              "if (notebookContainer) {{\n",
              "    x.observe(notebookContainer, {childList: true});\n",
              "}}\n",
              "\n",
              "// Listen for the clearing of the current output cell\n",
              "var outputEl = gd.closest('.output');\n",
              "if (outputEl) {{\n",
              "    x.observe(outputEl, {childList: true});\n",
              "}}\n",
              "\n",
              "                        })                };                            </script>        </div>\n",
              "</body>\n",
              "</html>"
            ]
          },
          "metadata": {
            "tags": []
          }
        }
      ]
    },
    {
      "cell_type": "markdown",
      "metadata": {
        "id": "036a1a5a"
      },
      "source": [
        "#### Religion of the Employees"
      ],
      "id": "036a1a5a"
    },
    {
      "cell_type": "code",
      "metadata": {
        "colab": {
          "base_uri": "https://localhost:8080/",
          "height": 235
        },
        "id": "71e7a03e",
        "outputId": "2c770f69-38c9-4b8f-a7e9-d22247e23743"
      },
      "source": [
        "#hide_input\n",
        "b = dict(data['RLGION_DESC'].value_counts())\n",
        "insight2 = pd.DataFrame()\n",
        "b = dict(sorted(b.items(), key=operator.itemgetter(1), reverse=True)[:6])\n",
        "insight2['Religion'] = b.keys()\n",
        "insight2['Count'] = b.values()\n",
        "insight2"
      ],
      "id": "71e7a03e",
      "execution_count": null,
      "outputs": [
        {
          "output_type": "execute_result",
          "data": {
            "text/html": [
              "<div>\n",
              "<style scoped>\n",
              "    .dataframe tbody tr th:only-of-type {\n",
              "        vertical-align: middle;\n",
              "    }\n",
              "\n",
              "    .dataframe tbody tr th {\n",
              "        vertical-align: top;\n",
              "    }\n",
              "\n",
              "    .dataframe thead th {\n",
              "        text-align: right;\n",
              "    }\n",
              "</style>\n",
              "<table border=\"1\" class=\"dataframe\">\n",
              "  <thead>\n",
              "    <tr style=\"text-align: right;\">\n",
              "      <th></th>\n",
              "      <th>Religion</th>\n",
              "      <th>Count</th>\n",
              "    </tr>\n",
              "  </thead>\n",
              "  <tbody>\n",
              "    <tr>\n",
              "      <th>0</th>\n",
              "      <td>مسلم</td>\n",
              "      <td>1005174</td>\n",
              "    </tr>\n",
              "    <tr>\n",
              "      <th>1</th>\n",
              "      <td>مسيحي</td>\n",
              "      <td>235153</td>\n",
              "    </tr>\n",
              "    <tr>\n",
              "      <th>2</th>\n",
              "      <td>ديانات أخري</td>\n",
              "      <td>218952</td>\n",
              "    </tr>\n",
              "    <tr>\n",
              "      <th>3</th>\n",
              "      <td></td>\n",
              "      <td>71492</td>\n",
              "    </tr>\n",
              "    <tr>\n",
              "      <th>4</th>\n",
              "      <td>هندوسي</td>\n",
              "      <td>41858</td>\n",
              "    </tr>\n",
              "    <tr>\n",
              "      <th>5</th>\n",
              "      <td>بوذي</td>\n",
              "      <td>1411</td>\n",
              "    </tr>\n",
              "  </tbody>\n",
              "</table>\n",
              "</div>"
            ],
            "text/plain": [
              "      Religion    Count\n",
              "0         مسلم  1005174\n",
              "1        مسيحي   235153\n",
              "2  ديانات أخري   218952\n",
              "3                 71492\n",
              "4       هندوسي    41858\n",
              "5         بوذي     1411"
            ]
          },
          "metadata": {
            "tags": []
          },
          "execution_count": 36
        }
      ]
    },
    {
      "cell_type": "code",
      "metadata": {
        "colab": {
          "base_uri": "https://localhost:8080/",
          "height": 542
        },
        "id": "cdccd020",
        "outputId": "39580aa8-99c3-4250-be83-bca7eb86983d"
      },
      "source": [
        "#hide_input\n",
        "fig = px.bar(insight2,x=\"Religion\",y=\"Count\",color=\"Religion\",text=\"Count\",title = \"Religion of the Emploees\")\n",
        "fig.show()"
      ],
      "id": "cdccd020",
      "execution_count": null,
      "outputs": [
        {
          "output_type": "display_data",
          "data": {
            "text/html": [
              "<html>\n",
              "<head><meta charset=\"utf-8\" /></head>\n",
              "<body>\n",
              "    <div>            <script src=\"https://cdnjs.cloudflare.com/ajax/libs/mathjax/2.7.5/MathJax.js?config=TeX-AMS-MML_SVG\"></script><script type=\"text/javascript\">if (window.MathJax) {MathJax.Hub.Config({SVG: {font: \"STIX-Web\"}});}</script>                <script type=\"text/javascript\">window.PlotlyConfig = {MathJaxConfig: 'local'};</script>\n",
              "        <script src=\"https://cdn.plot.ly/plotly-latest.min.js\"></script>                <div id=\"69addcfd-1df6-4e09-92fb-f8b391d8031f\" class=\"plotly-graph-div\" style=\"height:525px; width:100%;\"></div>            <script type=\"text/javascript\">                                    window.PLOTLYENV=window.PLOTLYENV || {};                                    if (document.getElementById(\"69addcfd-1df6-4e09-92fb-f8b391d8031f\")) {                    Plotly.newPlot(                        \"69addcfd-1df6-4e09-92fb-f8b391d8031f\",                        [{\"alignmentgroup\": \"True\", \"hovertemplate\": \"Religion=%{x}<br>Count=%{text}<extra></extra>\", \"legendgroup\": \"\\u0645\\u0633\\u0644\\u0645\", \"marker\": {\"color\": \"#636efa\"}, \"name\": \"\\u0645\\u0633\\u0644\\u0645\", \"offsetgroup\": \"\\u0645\\u0633\\u0644\\u0645\", \"orientation\": \"v\", \"showlegend\": true, \"text\": [1005174.0], \"textposition\": \"auto\", \"type\": \"bar\", \"x\": [\"\\u0645\\u0633\\u0644\\u0645\"], \"xaxis\": \"x\", \"y\": [1005174], \"yaxis\": \"y\"}, {\"alignmentgroup\": \"True\", \"hovertemplate\": \"Religion=%{x}<br>Count=%{text}<extra></extra>\", \"legendgroup\": \"\\u0645\\u0633\\u064a\\u062d\\u064a\", \"marker\": {\"color\": \"#EF553B\"}, \"name\": \"\\u0645\\u0633\\u064a\\u062d\\u064a\", \"offsetgroup\": \"\\u0645\\u0633\\u064a\\u062d\\u064a\", \"orientation\": \"v\", \"showlegend\": true, \"text\": [235153.0], \"textposition\": \"auto\", \"type\": \"bar\", \"x\": [\"\\u0645\\u0633\\u064a\\u062d\\u064a\"], \"xaxis\": \"x\", \"y\": [235153], \"yaxis\": \"y\"}, {\"alignmentgroup\": \"True\", \"hovertemplate\": \"Religion=%{x}<br>Count=%{text}<extra></extra>\", \"legendgroup\": \"\\u062f\\u064a\\u0627\\u0646\\u0627\\u062a \\u0623\\u062e\\u0631\\u064a\", \"marker\": {\"color\": \"#00cc96\"}, \"name\": \"\\u062f\\u064a\\u0627\\u0646\\u0627\\u062a \\u0623\\u062e\\u0631\\u064a\", \"offsetgroup\": \"\\u062f\\u064a\\u0627\\u0646\\u0627\\u062a \\u0623\\u062e\\u0631\\u064a\", \"orientation\": \"v\", \"showlegend\": true, \"text\": [218952.0], \"textposition\": \"auto\", \"type\": \"bar\", \"x\": [\"\\u062f\\u064a\\u0627\\u0646\\u0627\\u062a \\u0623\\u062e\\u0631\\u064a\"], \"xaxis\": \"x\", \"y\": [218952], \"yaxis\": \"y\"}, {\"alignmentgroup\": \"True\", \"hovertemplate\": \"Religion=%{x}<br>Count=%{text}<extra></extra>\", \"legendgroup\": \"\", \"marker\": {\"color\": \"#ab63fa\"}, \"name\": \"\", \"offsetgroup\": \"\", \"orientation\": \"v\", \"showlegend\": false, \"text\": [71492.0], \"textposition\": \"auto\", \"type\": \"bar\", \"x\": [\"\"], \"xaxis\": \"x\", \"y\": [71492], \"yaxis\": \"y\"}, {\"alignmentgroup\": \"True\", \"hovertemplate\": \"Religion=%{x}<br>Count=%{text}<extra></extra>\", \"legendgroup\": \"\\u0647\\u0646\\u062f\\u0648\\u0633\\u064a\", \"marker\": {\"color\": \"#FFA15A\"}, \"name\": \"\\u0647\\u0646\\u062f\\u0648\\u0633\\u064a\", \"offsetgroup\": \"\\u0647\\u0646\\u062f\\u0648\\u0633\\u064a\", \"orientation\": \"v\", \"showlegend\": true, \"text\": [41858.0], \"textposition\": \"auto\", \"type\": \"bar\", \"x\": [\"\\u0647\\u0646\\u062f\\u0648\\u0633\\u064a\"], \"xaxis\": \"x\", \"y\": [41858], \"yaxis\": \"y\"}, {\"alignmentgroup\": \"True\", \"hovertemplate\": \"Religion=%{x}<br>Count=%{text}<extra></extra>\", \"legendgroup\": \"\\u0628\\u0648\\u0630\\u064a\", \"marker\": {\"color\": \"#19d3f3\"}, \"name\": \"\\u0628\\u0648\\u0630\\u064a\", \"offsetgroup\": \"\\u0628\\u0648\\u0630\\u064a\", \"orientation\": \"v\", \"showlegend\": true, \"text\": [1411.0], \"textposition\": \"auto\", \"type\": \"bar\", \"x\": [\"\\u0628\\u0648\\u0630\\u064a\"], \"xaxis\": \"x\", \"y\": [1411], \"yaxis\": \"y\"}],                        {\"barmode\": \"relative\", \"legend\": {\"title\": {\"text\": \"Religion\"}, \"tracegroupgap\": 0}, \"template\": {\"data\": {\"bar\": [{\"error_x\": {\"color\": \"#2a3f5f\"}, \"error_y\": {\"color\": \"#2a3f5f\"}, \"marker\": {\"line\": {\"color\": \"#E5ECF6\", \"width\": 0.5}}, \"type\": \"bar\"}], \"barpolar\": [{\"marker\": {\"line\": {\"color\": \"#E5ECF6\", \"width\": 0.5}}, \"type\": \"barpolar\"}], \"carpet\": [{\"aaxis\": {\"endlinecolor\": \"#2a3f5f\", \"gridcolor\": \"white\", \"linecolor\": \"white\", \"minorgridcolor\": \"white\", \"startlinecolor\": \"#2a3f5f\"}, \"baxis\": {\"endlinecolor\": \"#2a3f5f\", \"gridcolor\": \"white\", \"linecolor\": \"white\", \"minorgridcolor\": \"white\", \"startlinecolor\": \"#2a3f5f\"}, \"type\": \"carpet\"}], \"choropleth\": [{\"colorbar\": {\"outlinewidth\": 0, \"ticks\": \"\"}, \"type\": \"choropleth\"}], \"contour\": [{\"colorbar\": {\"outlinewidth\": 0, \"ticks\": \"\"}, \"colorscale\": [[0.0, \"#0d0887\"], [0.1111111111111111, \"#46039f\"], [0.2222222222222222, \"#7201a8\"], [0.3333333333333333, \"#9c179e\"], [0.4444444444444444, \"#bd3786\"], [0.5555555555555556, \"#d8576b\"], [0.6666666666666666, \"#ed7953\"], [0.7777777777777778, \"#fb9f3a\"], [0.8888888888888888, \"#fdca26\"], [1.0, \"#f0f921\"]], \"type\": \"contour\"}], \"contourcarpet\": [{\"colorbar\": {\"outlinewidth\": 0, \"ticks\": \"\"}, \"type\": \"contourcarpet\"}], \"heatmap\": [{\"colorbar\": {\"outlinewidth\": 0, \"ticks\": \"\"}, \"colorscale\": [[0.0, \"#0d0887\"], [0.1111111111111111, \"#46039f\"], [0.2222222222222222, \"#7201a8\"], [0.3333333333333333, \"#9c179e\"], [0.4444444444444444, \"#bd3786\"], [0.5555555555555556, \"#d8576b\"], [0.6666666666666666, \"#ed7953\"], [0.7777777777777778, \"#fb9f3a\"], [0.8888888888888888, \"#fdca26\"], [1.0, \"#f0f921\"]], \"type\": \"heatmap\"}], \"heatmapgl\": [{\"colorbar\": {\"outlinewidth\": 0, \"ticks\": \"\"}, \"colorscale\": [[0.0, \"#0d0887\"], [0.1111111111111111, \"#46039f\"], [0.2222222222222222, \"#7201a8\"], [0.3333333333333333, \"#9c179e\"], [0.4444444444444444, \"#bd3786\"], [0.5555555555555556, \"#d8576b\"], [0.6666666666666666, \"#ed7953\"], [0.7777777777777778, \"#fb9f3a\"], [0.8888888888888888, \"#fdca26\"], [1.0, \"#f0f921\"]], \"type\": \"heatmapgl\"}], \"histogram\": [{\"marker\": {\"colorbar\": {\"outlinewidth\": 0, \"ticks\": \"\"}}, \"type\": \"histogram\"}], \"histogram2d\": [{\"colorbar\": {\"outlinewidth\": 0, \"ticks\": \"\"}, \"colorscale\": [[0.0, \"#0d0887\"], [0.1111111111111111, \"#46039f\"], [0.2222222222222222, \"#7201a8\"], [0.3333333333333333, \"#9c179e\"], [0.4444444444444444, \"#bd3786\"], [0.5555555555555556, \"#d8576b\"], [0.6666666666666666, \"#ed7953\"], [0.7777777777777778, \"#fb9f3a\"], [0.8888888888888888, \"#fdca26\"], [1.0, \"#f0f921\"]], \"type\": \"histogram2d\"}], \"histogram2dcontour\": [{\"colorbar\": {\"outlinewidth\": 0, \"ticks\": \"\"}, \"colorscale\": [[0.0, \"#0d0887\"], [0.1111111111111111, \"#46039f\"], [0.2222222222222222, \"#7201a8\"], [0.3333333333333333, \"#9c179e\"], [0.4444444444444444, \"#bd3786\"], [0.5555555555555556, \"#d8576b\"], [0.6666666666666666, \"#ed7953\"], [0.7777777777777778, \"#fb9f3a\"], [0.8888888888888888, \"#fdca26\"], [1.0, \"#f0f921\"]], \"type\": \"histogram2dcontour\"}], \"mesh3d\": [{\"colorbar\": {\"outlinewidth\": 0, \"ticks\": \"\"}, \"type\": \"mesh3d\"}], \"parcoords\": [{\"line\": {\"colorbar\": {\"outlinewidth\": 0, \"ticks\": \"\"}}, \"type\": \"parcoords\"}], \"pie\": [{\"automargin\": true, \"type\": \"pie\"}], \"scatter\": [{\"marker\": {\"colorbar\": {\"outlinewidth\": 0, \"ticks\": \"\"}}, \"type\": \"scatter\"}], \"scatter3d\": [{\"line\": {\"colorbar\": {\"outlinewidth\": 0, \"ticks\": \"\"}}, \"marker\": {\"colorbar\": {\"outlinewidth\": 0, \"ticks\": \"\"}}, \"type\": \"scatter3d\"}], \"scattercarpet\": [{\"marker\": {\"colorbar\": {\"outlinewidth\": 0, \"ticks\": \"\"}}, \"type\": \"scattercarpet\"}], \"scattergeo\": [{\"marker\": {\"colorbar\": {\"outlinewidth\": 0, \"ticks\": \"\"}}, \"type\": \"scattergeo\"}], \"scattergl\": [{\"marker\": {\"colorbar\": {\"outlinewidth\": 0, \"ticks\": \"\"}}, \"type\": \"scattergl\"}], \"scattermapbox\": [{\"marker\": {\"colorbar\": {\"outlinewidth\": 0, \"ticks\": \"\"}}, \"type\": \"scattermapbox\"}], \"scatterpolar\": [{\"marker\": {\"colorbar\": {\"outlinewidth\": 0, \"ticks\": \"\"}}, \"type\": \"scatterpolar\"}], \"scatterpolargl\": [{\"marker\": {\"colorbar\": {\"outlinewidth\": 0, \"ticks\": \"\"}}, \"type\": \"scatterpolargl\"}], \"scatterternary\": [{\"marker\": {\"colorbar\": {\"outlinewidth\": 0, \"ticks\": \"\"}}, \"type\": \"scatterternary\"}], \"surface\": [{\"colorbar\": {\"outlinewidth\": 0, \"ticks\": \"\"}, \"colorscale\": [[0.0, \"#0d0887\"], [0.1111111111111111, \"#46039f\"], [0.2222222222222222, \"#7201a8\"], [0.3333333333333333, \"#9c179e\"], [0.4444444444444444, \"#bd3786\"], [0.5555555555555556, \"#d8576b\"], [0.6666666666666666, \"#ed7953\"], [0.7777777777777778, \"#fb9f3a\"], [0.8888888888888888, \"#fdca26\"], [1.0, \"#f0f921\"]], \"type\": \"surface\"}], \"table\": [{\"cells\": {\"fill\": {\"color\": \"#EBF0F8\"}, \"line\": {\"color\": \"white\"}}, \"header\": {\"fill\": {\"color\": \"#C8D4E3\"}, \"line\": {\"color\": \"white\"}}, \"type\": \"table\"}]}, \"layout\": {\"annotationdefaults\": {\"arrowcolor\": \"#2a3f5f\", \"arrowhead\": 0, \"arrowwidth\": 1}, \"autotypenumbers\": \"strict\", \"coloraxis\": {\"colorbar\": {\"outlinewidth\": 0, \"ticks\": \"\"}}, \"colorscale\": {\"diverging\": [[0, \"#8e0152\"], [0.1, \"#c51b7d\"], [0.2, \"#de77ae\"], [0.3, \"#f1b6da\"], [0.4, \"#fde0ef\"], [0.5, \"#f7f7f7\"], [0.6, \"#e6f5d0\"], [0.7, \"#b8e186\"], [0.8, \"#7fbc41\"], [0.9, \"#4d9221\"], [1, \"#276419\"]], \"sequential\": [[0.0, \"#0d0887\"], [0.1111111111111111, \"#46039f\"], [0.2222222222222222, \"#7201a8\"], [0.3333333333333333, \"#9c179e\"], [0.4444444444444444, \"#bd3786\"], [0.5555555555555556, \"#d8576b\"], [0.6666666666666666, \"#ed7953\"], [0.7777777777777778, \"#fb9f3a\"], [0.8888888888888888, \"#fdca26\"], [1.0, \"#f0f921\"]], \"sequentialminus\": [[0.0, \"#0d0887\"], [0.1111111111111111, \"#46039f\"], [0.2222222222222222, \"#7201a8\"], [0.3333333333333333, \"#9c179e\"], [0.4444444444444444, \"#bd3786\"], [0.5555555555555556, \"#d8576b\"], [0.6666666666666666, \"#ed7953\"], [0.7777777777777778, \"#fb9f3a\"], [0.8888888888888888, \"#fdca26\"], [1.0, \"#f0f921\"]]}, \"colorway\": [\"#636efa\", \"#EF553B\", \"#00cc96\", \"#ab63fa\", \"#FFA15A\", \"#19d3f3\", \"#FF6692\", \"#B6E880\", \"#FF97FF\", \"#FECB52\"], \"font\": {\"color\": \"#2a3f5f\"}, \"geo\": {\"bgcolor\": \"white\", \"lakecolor\": \"white\", \"landcolor\": \"#E5ECF6\", \"showlakes\": true, \"showland\": true, \"subunitcolor\": \"white\"}, \"hoverlabel\": {\"align\": \"left\"}, \"hovermode\": \"closest\", \"mapbox\": {\"style\": \"light\"}, \"paper_bgcolor\": \"white\", \"plot_bgcolor\": \"#E5ECF6\", \"polar\": {\"angularaxis\": {\"gridcolor\": \"white\", \"linecolor\": \"white\", \"ticks\": \"\"}, \"bgcolor\": \"#E5ECF6\", \"radialaxis\": {\"gridcolor\": \"white\", \"linecolor\": \"white\", \"ticks\": \"\"}}, \"scene\": {\"xaxis\": {\"backgroundcolor\": \"#E5ECF6\", \"gridcolor\": \"white\", \"gridwidth\": 2, \"linecolor\": \"white\", \"showbackground\": true, \"ticks\": \"\", \"zerolinecolor\": \"white\"}, \"yaxis\": {\"backgroundcolor\": \"#E5ECF6\", \"gridcolor\": \"white\", \"gridwidth\": 2, \"linecolor\": \"white\", \"showbackground\": true, \"ticks\": \"\", \"zerolinecolor\": \"white\"}, \"zaxis\": {\"backgroundcolor\": \"#E5ECF6\", \"gridcolor\": \"white\", \"gridwidth\": 2, \"linecolor\": \"white\", \"showbackground\": true, \"ticks\": \"\", \"zerolinecolor\": \"white\"}}, \"shapedefaults\": {\"line\": {\"color\": \"#2a3f5f\"}}, \"ternary\": {\"aaxis\": {\"gridcolor\": \"white\", \"linecolor\": \"white\", \"ticks\": \"\"}, \"baxis\": {\"gridcolor\": \"white\", \"linecolor\": \"white\", \"ticks\": \"\"}, \"bgcolor\": \"#E5ECF6\", \"caxis\": {\"gridcolor\": \"white\", \"linecolor\": \"white\", \"ticks\": \"\"}}, \"title\": {\"x\": 0.05}, \"xaxis\": {\"automargin\": true, \"gridcolor\": \"white\", \"linecolor\": \"white\", \"ticks\": \"\", \"title\": {\"standoff\": 15}, \"zerolinecolor\": \"white\", \"zerolinewidth\": 2}, \"yaxis\": {\"automargin\": true, \"gridcolor\": \"white\", \"linecolor\": \"white\", \"ticks\": \"\", \"title\": {\"standoff\": 15}, \"zerolinecolor\": \"white\", \"zerolinewidth\": 2}}}, \"title\": {\"text\": \"Religion of the Emploees\"}, \"xaxis\": {\"anchor\": \"y\", \"categoryarray\": [\"\\u0645\\u0633\\u0644\\u0645\", \"\\u0645\\u0633\\u064a\\u062d\\u064a\", \"\\u062f\\u064a\\u0627\\u0646\\u0627\\u062a \\u0623\\u062e\\u0631\\u064a\", \"\", \"\\u0647\\u0646\\u062f\\u0648\\u0633\\u064a\", \"\\u0628\\u0648\\u0630\\u064a\"], \"categoryorder\": \"array\", \"domain\": [0.0, 1.0], \"title\": {\"text\": \"Religion\"}}, \"yaxis\": {\"anchor\": \"x\", \"domain\": [0.0, 1.0], \"title\": {\"text\": \"Count\"}}},                        {\"responsive\": true}                    ).then(function(){\n",
              "                            \n",
              "var gd = document.getElementById('69addcfd-1df6-4e09-92fb-f8b391d8031f');\n",
              "var x = new MutationObserver(function (mutations, observer) {{\n",
              "        var display = window.getComputedStyle(gd).display;\n",
              "        if (!display || display === 'none') {{\n",
              "            console.log([gd, 'removed!']);\n",
              "            Plotly.purge(gd);\n",
              "            observer.disconnect();\n",
              "        }}\n",
              "}});\n",
              "\n",
              "// Listen for the removal of the full notebook cells\n",
              "var notebookContainer = gd.closest('#notebook-container');\n",
              "if (notebookContainer) {{\n",
              "    x.observe(notebookContainer, {childList: true});\n",
              "}}\n",
              "\n",
              "// Listen for the clearing of the current output cell\n",
              "var outputEl = gd.closest('.output');\n",
              "if (outputEl) {{\n",
              "    x.observe(outputEl, {childList: true});\n",
              "}}\n",
              "\n",
              "                        })                };                            </script>        </div>\n",
              "</body>\n",
              "</html>"
            ]
          },
          "metadata": {
            "tags": []
          }
        }
      ]
    },
    {
      "cell_type": "markdown",
      "metadata": {
        "id": "3646f351"
      },
      "source": [
        "#### Highlighted Jobs"
      ],
      "id": "3646f351"
    },
    {
      "cell_type": "code",
      "metadata": {
        "colab": {
          "base_uri": "https://localhost:8080/",
          "height": 359
        },
        "id": "2b50cf14",
        "outputId": "a4a984a5-745b-4870-e466-072638ab0a92"
      },
      "source": [
        "#hide_input\n",
        "c = dict(data['JOB_DESC'].value_counts())\n",
        "insight3 = pd.DataFrame()\n",
        "c = dict(sorted(c.items(), key=operator.itemgetter(1), reverse=True)[:10])\n",
        "insight3['Jobs'] = c.keys()\n",
        "insight3['Count'] = c.values()\n",
        "insight3"
      ],
      "id": "2b50cf14",
      "execution_count": null,
      "outputs": [
        {
          "output_type": "execute_result",
          "data": {
            "text/html": [
              "<div>\n",
              "<style scoped>\n",
              "    .dataframe tbody tr th:only-of-type {\n",
              "        vertical-align: middle;\n",
              "    }\n",
              "\n",
              "    .dataframe tbody tr th {\n",
              "        vertical-align: top;\n",
              "    }\n",
              "\n",
              "    .dataframe thead th {\n",
              "        text-align: right;\n",
              "    }\n",
              "</style>\n",
              "<table border=\"1\" class=\"dataframe\">\n",
              "  <thead>\n",
              "    <tr style=\"text-align: right;\">\n",
              "      <th></th>\n",
              "      <th>Jobs</th>\n",
              "      <th>Count</th>\n",
              "    </tr>\n",
              "  </thead>\n",
              "  <tbody>\n",
              "    <tr>\n",
              "      <th>0</th>\n",
              "      <td>عامل عادى خفيف</td>\n",
              "      <td>164555</td>\n",
              "    </tr>\n",
              "    <tr>\n",
              "      <th>1</th>\n",
              "      <td>سائق مركبه خفيفه</td>\n",
              "      <td>107114</td>\n",
              "    </tr>\n",
              "    <tr>\n",
              "      <th>2</th>\n",
              "      <td>بائع</td>\n",
              "      <td>99493</td>\n",
              "    </tr>\n",
              "    <tr>\n",
              "      <th>3</th>\n",
              "      <td>عامل نظافة</td>\n",
              "      <td>63878</td>\n",
              "    </tr>\n",
              "    <tr>\n",
              "      <th>4</th>\n",
              "      <td>عامل زراعى</td>\n",
              "      <td>39552</td>\n",
              "    </tr>\n",
              "    <tr>\n",
              "      <th>5</th>\n",
              "      <td>عامل انتاج</td>\n",
              "      <td>32018</td>\n",
              "    </tr>\n",
              "    <tr>\n",
              "      <th>6</th>\n",
              "      <td>عامل فنى</td>\n",
              "      <td>27331</td>\n",
              "    </tr>\n",
              "    <tr>\n",
              "      <th>7</th>\n",
              "      <td>سائق معدات ثقيلة</td>\n",
              "      <td>27231</td>\n",
              "    </tr>\n",
              "    <tr>\n",
              "      <th>8</th>\n",
              "      <td>سائق شاحنة</td>\n",
              "      <td>23128</td>\n",
              "    </tr>\n",
              "    <tr>\n",
              "      <th>9</th>\n",
              "      <td>جارسون</td>\n",
              "      <td>20053</td>\n",
              "    </tr>\n",
              "  </tbody>\n",
              "</table>\n",
              "</div>"
            ],
            "text/plain": [
              "               Jobs   Count\n",
              "0    عامل عادى خفيف  164555\n",
              "1  سائق مركبه خفيفه  107114\n",
              "2              بائع   99493\n",
              "3        عامل نظافة   63878\n",
              "4        عامل زراعى   39552\n",
              "5        عامل انتاج   32018\n",
              "6          عامل فنى   27331\n",
              "7  سائق معدات ثقيلة   27231\n",
              "8        سائق شاحنة   23128\n",
              "9            جارسون   20053"
            ]
          },
          "metadata": {
            "tags": []
          },
          "execution_count": 38
        }
      ]
    },
    {
      "cell_type": "code",
      "metadata": {
        "colab": {
          "base_uri": "https://localhost:8080/",
          "height": 542
        },
        "id": "b46a645f",
        "outputId": "e3346aa9-5d91-4fd3-e76c-5989319d42ae"
      },
      "source": [
        "#hide_input\n",
        "fig = px.funnel(insight3, x='Jobs', y='Count',color=\"Jobs\",title = \"Highlighted Jobs\")\n",
        "fig.show()"
      ],
      "id": "b46a645f",
      "execution_count": null,
      "outputs": [
        {
          "output_type": "display_data",
          "data": {
            "text/html": [
              "<html>\n",
              "<head><meta charset=\"utf-8\" /></head>\n",
              "<body>\n",
              "    <div>            <script src=\"https://cdnjs.cloudflare.com/ajax/libs/mathjax/2.7.5/MathJax.js?config=TeX-AMS-MML_SVG\"></script><script type=\"text/javascript\">if (window.MathJax) {MathJax.Hub.Config({SVG: {font: \"STIX-Web\"}});}</script>                <script type=\"text/javascript\">window.PlotlyConfig = {MathJaxConfig: 'local'};</script>\n",
              "        <script src=\"https://cdn.plot.ly/plotly-latest.min.js\"></script>                <div id=\"d92bb1c0-1356-473c-add9-22dc25c14ddc\" class=\"plotly-graph-div\" style=\"height:525px; width:100%;\"></div>            <script type=\"text/javascript\">                                    window.PLOTLYENV=window.PLOTLYENV || {};                                    if (document.getElementById(\"d92bb1c0-1356-473c-add9-22dc25c14ddc\")) {                    Plotly.newPlot(                        \"d92bb1c0-1356-473c-add9-22dc25c14ddc\",                        [{\"hovertemplate\": \"Jobs=%{x}<br>Count=%{y}<extra></extra>\", \"legendgroup\": \"\\u0639\\u0627\\u0645\\u0644 \\u0639\\u0627\\u062f\\u0649 \\u062e\\u0641\\u064a\\u0641\", \"marker\": {\"color\": \"#636efa\"}, \"name\": \"\\u0639\\u0627\\u0645\\u0644 \\u0639\\u0627\\u062f\\u0649 \\u062e\\u0641\\u064a\\u0641\", \"orientation\": \"v\", \"showlegend\": true, \"type\": \"funnel\", \"x\": [\"\\u0639\\u0627\\u0645\\u0644 \\u0639\\u0627\\u062f\\u0649 \\u062e\\u0641\\u064a\\u0641\"], \"xaxis\": \"x\", \"y\": [164555], \"yaxis\": \"y\"}, {\"hovertemplate\": \"Jobs=%{x}<br>Count=%{y}<extra></extra>\", \"legendgroup\": \"\\u0633\\u0627\\u0626\\u0642 \\u0645\\u0631\\u0643\\u0628\\u0647 \\u062e\\u0641\\u064a\\u0641\\u0647\", \"marker\": {\"color\": \"#EF553B\"}, \"name\": \"\\u0633\\u0627\\u0626\\u0642 \\u0645\\u0631\\u0643\\u0628\\u0647 \\u062e\\u0641\\u064a\\u0641\\u0647\", \"orientation\": \"v\", \"showlegend\": true, \"type\": \"funnel\", \"x\": [\"\\u0633\\u0627\\u0626\\u0642 \\u0645\\u0631\\u0643\\u0628\\u0647 \\u062e\\u0641\\u064a\\u0641\\u0647\"], \"xaxis\": \"x\", \"y\": [107114], \"yaxis\": \"y\"}, {\"hovertemplate\": \"Jobs=%{x}<br>Count=%{y}<extra></extra>\", \"legendgroup\": \"\\u0628\\u0627\\u0626\\u0639\", \"marker\": {\"color\": \"#00cc96\"}, \"name\": \"\\u0628\\u0627\\u0626\\u0639\", \"orientation\": \"v\", \"showlegend\": true, \"type\": \"funnel\", \"x\": [\"\\u0628\\u0627\\u0626\\u0639\"], \"xaxis\": \"x\", \"y\": [99493], \"yaxis\": \"y\"}, {\"hovertemplate\": \"Jobs=%{x}<br>Count=%{y}<extra></extra>\", \"legendgroup\": \"\\u0639\\u0627\\u0645\\u0644 \\u0646\\u0638\\u0627\\u0641\\u0629\", \"marker\": {\"color\": \"#ab63fa\"}, \"name\": \"\\u0639\\u0627\\u0645\\u0644 \\u0646\\u0638\\u0627\\u0641\\u0629\", \"orientation\": \"v\", \"showlegend\": true, \"type\": \"funnel\", \"x\": [\"\\u0639\\u0627\\u0645\\u0644 \\u0646\\u0638\\u0627\\u0641\\u0629\"], \"xaxis\": \"x\", \"y\": [63878], \"yaxis\": \"y\"}, {\"hovertemplate\": \"Jobs=%{x}<br>Count=%{y}<extra></extra>\", \"legendgroup\": \"\\u0639\\u0627\\u0645\\u0644 \\u0632\\u0631\\u0627\\u0639\\u0649\", \"marker\": {\"color\": \"#FFA15A\"}, \"name\": \"\\u0639\\u0627\\u0645\\u0644 \\u0632\\u0631\\u0627\\u0639\\u0649\", \"orientation\": \"v\", \"showlegend\": true, \"type\": \"funnel\", \"x\": [\"\\u0639\\u0627\\u0645\\u0644 \\u0632\\u0631\\u0627\\u0639\\u0649\"], \"xaxis\": \"x\", \"y\": [39552], \"yaxis\": \"y\"}, {\"hovertemplate\": \"Jobs=%{x}<br>Count=%{y}<extra></extra>\", \"legendgroup\": \"\\u0639\\u0627\\u0645\\u0644 \\u0627\\u0646\\u062a\\u0627\\u062c\", \"marker\": {\"color\": \"#19d3f3\"}, \"name\": \"\\u0639\\u0627\\u0645\\u0644 \\u0627\\u0646\\u062a\\u0627\\u062c\", \"orientation\": \"v\", \"showlegend\": true, \"type\": \"funnel\", \"x\": [\"\\u0639\\u0627\\u0645\\u0644 \\u0627\\u0646\\u062a\\u0627\\u062c\"], \"xaxis\": \"x\", \"y\": [32018], \"yaxis\": \"y\"}, {\"hovertemplate\": \"Jobs=%{x}<br>Count=%{y}<extra></extra>\", \"legendgroup\": \"\\u0639\\u0627\\u0645\\u0644 \\u0641\\u0646\\u0649\", \"marker\": {\"color\": \"#FF6692\"}, \"name\": \"\\u0639\\u0627\\u0645\\u0644 \\u0641\\u0646\\u0649\", \"orientation\": \"v\", \"showlegend\": true, \"type\": \"funnel\", \"x\": [\"\\u0639\\u0627\\u0645\\u0644 \\u0641\\u0646\\u0649\"], \"xaxis\": \"x\", \"y\": [27331], \"yaxis\": \"y\"}, {\"hovertemplate\": \"Jobs=%{x}<br>Count=%{y}<extra></extra>\", \"legendgroup\": \"\\u0633\\u0627\\u0626\\u0642 \\u0645\\u0639\\u062f\\u0627\\u062a \\u062b\\u0642\\u064a\\u0644\\u0629\", \"marker\": {\"color\": \"#B6E880\"}, \"name\": \"\\u0633\\u0627\\u0626\\u0642 \\u0645\\u0639\\u062f\\u0627\\u062a \\u062b\\u0642\\u064a\\u0644\\u0629\", \"orientation\": \"v\", \"showlegend\": true, \"type\": \"funnel\", \"x\": [\"\\u0633\\u0627\\u0626\\u0642 \\u0645\\u0639\\u062f\\u0627\\u062a \\u062b\\u0642\\u064a\\u0644\\u0629\"], \"xaxis\": \"x\", \"y\": [27231], \"yaxis\": \"y\"}, {\"hovertemplate\": \"Jobs=%{x}<br>Count=%{y}<extra></extra>\", \"legendgroup\": \"\\u0633\\u0627\\u0626\\u0642 \\u0634\\u0627\\u062d\\u0646\\u0629\", \"marker\": {\"color\": \"#FF97FF\"}, \"name\": \"\\u0633\\u0627\\u0626\\u0642 \\u0634\\u0627\\u062d\\u0646\\u0629\", \"orientation\": \"v\", \"showlegend\": true, \"type\": \"funnel\", \"x\": [\"\\u0633\\u0627\\u0626\\u0642 \\u0634\\u0627\\u062d\\u0646\\u0629\"], \"xaxis\": \"x\", \"y\": [23128], \"yaxis\": \"y\"}, {\"hovertemplate\": \"Jobs=%{x}<br>Count=%{y}<extra></extra>\", \"legendgroup\": \"\\u062c\\u0627\\u0631\\u0633\\u0648\\u0646\", \"marker\": {\"color\": \"#FECB52\"}, \"name\": \"\\u062c\\u0627\\u0631\\u0633\\u0648\\u0646\", \"orientation\": \"v\", \"showlegend\": true, \"type\": \"funnel\", \"x\": [\"\\u062c\\u0627\\u0631\\u0633\\u0648\\u0646\"], \"xaxis\": \"x\", \"y\": [20053], \"yaxis\": \"y\"}],                        {\"legend\": {\"title\": {\"text\": \"Jobs\"}, \"tracegroupgap\": 0}, \"template\": {\"data\": {\"bar\": [{\"error_x\": {\"color\": \"#2a3f5f\"}, \"error_y\": {\"color\": \"#2a3f5f\"}, \"marker\": {\"line\": {\"color\": \"#E5ECF6\", \"width\": 0.5}}, \"type\": \"bar\"}], \"barpolar\": [{\"marker\": {\"line\": {\"color\": \"#E5ECF6\", \"width\": 0.5}}, \"type\": \"barpolar\"}], \"carpet\": [{\"aaxis\": {\"endlinecolor\": \"#2a3f5f\", \"gridcolor\": \"white\", \"linecolor\": \"white\", \"minorgridcolor\": \"white\", \"startlinecolor\": \"#2a3f5f\"}, \"baxis\": {\"endlinecolor\": \"#2a3f5f\", \"gridcolor\": \"white\", \"linecolor\": \"white\", \"minorgridcolor\": \"white\", \"startlinecolor\": \"#2a3f5f\"}, \"type\": \"carpet\"}], \"choropleth\": [{\"colorbar\": {\"outlinewidth\": 0, \"ticks\": \"\"}, \"type\": \"choropleth\"}], \"contour\": [{\"colorbar\": {\"outlinewidth\": 0, \"ticks\": \"\"}, \"colorscale\": [[0.0, \"#0d0887\"], [0.1111111111111111, \"#46039f\"], [0.2222222222222222, \"#7201a8\"], [0.3333333333333333, \"#9c179e\"], [0.4444444444444444, \"#bd3786\"], [0.5555555555555556, \"#d8576b\"], [0.6666666666666666, \"#ed7953\"], [0.7777777777777778, \"#fb9f3a\"], [0.8888888888888888, \"#fdca26\"], [1.0, \"#f0f921\"]], \"type\": \"contour\"}], \"contourcarpet\": [{\"colorbar\": {\"outlinewidth\": 0, \"ticks\": \"\"}, \"type\": \"contourcarpet\"}], \"heatmap\": [{\"colorbar\": {\"outlinewidth\": 0, \"ticks\": \"\"}, \"colorscale\": [[0.0, \"#0d0887\"], [0.1111111111111111, \"#46039f\"], [0.2222222222222222, \"#7201a8\"], [0.3333333333333333, \"#9c179e\"], [0.4444444444444444, \"#bd3786\"], [0.5555555555555556, \"#d8576b\"], [0.6666666666666666, \"#ed7953\"], [0.7777777777777778, \"#fb9f3a\"], [0.8888888888888888, \"#fdca26\"], [1.0, \"#f0f921\"]], \"type\": \"heatmap\"}], \"heatmapgl\": [{\"colorbar\": {\"outlinewidth\": 0, \"ticks\": \"\"}, \"colorscale\": [[0.0, \"#0d0887\"], [0.1111111111111111, \"#46039f\"], [0.2222222222222222, \"#7201a8\"], [0.3333333333333333, \"#9c179e\"], [0.4444444444444444, \"#bd3786\"], [0.5555555555555556, \"#d8576b\"], [0.6666666666666666, \"#ed7953\"], [0.7777777777777778, \"#fb9f3a\"], [0.8888888888888888, \"#fdca26\"], [1.0, \"#f0f921\"]], \"type\": \"heatmapgl\"}], \"histogram\": [{\"marker\": {\"colorbar\": {\"outlinewidth\": 0, \"ticks\": \"\"}}, \"type\": \"histogram\"}], \"histogram2d\": [{\"colorbar\": {\"outlinewidth\": 0, \"ticks\": \"\"}, \"colorscale\": [[0.0, \"#0d0887\"], [0.1111111111111111, \"#46039f\"], [0.2222222222222222, \"#7201a8\"], [0.3333333333333333, \"#9c179e\"], [0.4444444444444444, \"#bd3786\"], [0.5555555555555556, \"#d8576b\"], [0.6666666666666666, \"#ed7953\"], [0.7777777777777778, \"#fb9f3a\"], [0.8888888888888888, \"#fdca26\"], [1.0, \"#f0f921\"]], \"type\": \"histogram2d\"}], \"histogram2dcontour\": [{\"colorbar\": {\"outlinewidth\": 0, \"ticks\": \"\"}, \"colorscale\": [[0.0, \"#0d0887\"], [0.1111111111111111, \"#46039f\"], [0.2222222222222222, \"#7201a8\"], [0.3333333333333333, \"#9c179e\"], [0.4444444444444444, \"#bd3786\"], [0.5555555555555556, \"#d8576b\"], [0.6666666666666666, \"#ed7953\"], [0.7777777777777778, \"#fb9f3a\"], [0.8888888888888888, \"#fdca26\"], [1.0, \"#f0f921\"]], \"type\": \"histogram2dcontour\"}], \"mesh3d\": [{\"colorbar\": {\"outlinewidth\": 0, \"ticks\": \"\"}, \"type\": \"mesh3d\"}], \"parcoords\": [{\"line\": {\"colorbar\": {\"outlinewidth\": 0, \"ticks\": \"\"}}, \"type\": \"parcoords\"}], \"pie\": [{\"automargin\": true, \"type\": \"pie\"}], \"scatter\": [{\"marker\": {\"colorbar\": {\"outlinewidth\": 0, \"ticks\": \"\"}}, \"type\": \"scatter\"}], \"scatter3d\": [{\"line\": {\"colorbar\": {\"outlinewidth\": 0, \"ticks\": \"\"}}, \"marker\": {\"colorbar\": {\"outlinewidth\": 0, \"ticks\": \"\"}}, \"type\": \"scatter3d\"}], \"scattercarpet\": [{\"marker\": {\"colorbar\": {\"outlinewidth\": 0, \"ticks\": \"\"}}, \"type\": \"scattercarpet\"}], \"scattergeo\": [{\"marker\": {\"colorbar\": {\"outlinewidth\": 0, \"ticks\": \"\"}}, \"type\": \"scattergeo\"}], \"scattergl\": [{\"marker\": {\"colorbar\": {\"outlinewidth\": 0, \"ticks\": \"\"}}, \"type\": \"scattergl\"}], \"scattermapbox\": [{\"marker\": {\"colorbar\": {\"outlinewidth\": 0, \"ticks\": \"\"}}, \"type\": \"scattermapbox\"}], \"scatterpolar\": [{\"marker\": {\"colorbar\": {\"outlinewidth\": 0, \"ticks\": \"\"}}, \"type\": \"scatterpolar\"}], \"scatterpolargl\": [{\"marker\": {\"colorbar\": {\"outlinewidth\": 0, \"ticks\": \"\"}}, \"type\": \"scatterpolargl\"}], \"scatterternary\": [{\"marker\": {\"colorbar\": {\"outlinewidth\": 0, \"ticks\": \"\"}}, \"type\": \"scatterternary\"}], \"surface\": [{\"colorbar\": {\"outlinewidth\": 0, \"ticks\": \"\"}, \"colorscale\": [[0.0, \"#0d0887\"], [0.1111111111111111, \"#46039f\"], [0.2222222222222222, \"#7201a8\"], [0.3333333333333333, \"#9c179e\"], [0.4444444444444444, \"#bd3786\"], [0.5555555555555556, \"#d8576b\"], [0.6666666666666666, \"#ed7953\"], [0.7777777777777778, \"#fb9f3a\"], [0.8888888888888888, \"#fdca26\"], [1.0, \"#f0f921\"]], \"type\": \"surface\"}], \"table\": [{\"cells\": {\"fill\": {\"color\": \"#EBF0F8\"}, \"line\": {\"color\": \"white\"}}, \"header\": {\"fill\": {\"color\": \"#C8D4E3\"}, \"line\": {\"color\": \"white\"}}, \"type\": \"table\"}]}, \"layout\": {\"annotationdefaults\": {\"arrowcolor\": \"#2a3f5f\", \"arrowhead\": 0, \"arrowwidth\": 1}, \"autotypenumbers\": \"strict\", \"coloraxis\": {\"colorbar\": {\"outlinewidth\": 0, \"ticks\": \"\"}}, \"colorscale\": {\"diverging\": [[0, \"#8e0152\"], [0.1, \"#c51b7d\"], [0.2, \"#de77ae\"], [0.3, \"#f1b6da\"], [0.4, \"#fde0ef\"], [0.5, \"#f7f7f7\"], [0.6, \"#e6f5d0\"], [0.7, \"#b8e186\"], [0.8, \"#7fbc41\"], [0.9, \"#4d9221\"], [1, \"#276419\"]], \"sequential\": [[0.0, \"#0d0887\"], [0.1111111111111111, \"#46039f\"], [0.2222222222222222, \"#7201a8\"], [0.3333333333333333, \"#9c179e\"], [0.4444444444444444, \"#bd3786\"], [0.5555555555555556, \"#d8576b\"], [0.6666666666666666, \"#ed7953\"], [0.7777777777777778, \"#fb9f3a\"], [0.8888888888888888, \"#fdca26\"], [1.0, \"#f0f921\"]], \"sequentialminus\": [[0.0, \"#0d0887\"], [0.1111111111111111, \"#46039f\"], [0.2222222222222222, \"#7201a8\"], [0.3333333333333333, \"#9c179e\"], [0.4444444444444444, \"#bd3786\"], [0.5555555555555556, \"#d8576b\"], [0.6666666666666666, \"#ed7953\"], [0.7777777777777778, \"#fb9f3a\"], [0.8888888888888888, \"#fdca26\"], [1.0, \"#f0f921\"]]}, \"colorway\": [\"#636efa\", \"#EF553B\", \"#00cc96\", \"#ab63fa\", \"#FFA15A\", \"#19d3f3\", \"#FF6692\", \"#B6E880\", \"#FF97FF\", \"#FECB52\"], \"font\": {\"color\": \"#2a3f5f\"}, \"geo\": {\"bgcolor\": \"white\", \"lakecolor\": \"white\", \"landcolor\": \"#E5ECF6\", \"showlakes\": true, \"showland\": true, \"subunitcolor\": \"white\"}, \"hoverlabel\": {\"align\": \"left\"}, \"hovermode\": \"closest\", \"mapbox\": {\"style\": \"light\"}, \"paper_bgcolor\": \"white\", \"plot_bgcolor\": \"#E5ECF6\", \"polar\": {\"angularaxis\": {\"gridcolor\": \"white\", \"linecolor\": \"white\", \"ticks\": \"\"}, \"bgcolor\": \"#E5ECF6\", \"radialaxis\": {\"gridcolor\": \"white\", \"linecolor\": \"white\", \"ticks\": \"\"}}, \"scene\": {\"xaxis\": {\"backgroundcolor\": \"#E5ECF6\", \"gridcolor\": \"white\", \"gridwidth\": 2, \"linecolor\": \"white\", \"showbackground\": true, \"ticks\": \"\", \"zerolinecolor\": \"white\"}, \"yaxis\": {\"backgroundcolor\": \"#E5ECF6\", \"gridcolor\": \"white\", \"gridwidth\": 2, \"linecolor\": \"white\", \"showbackground\": true, \"ticks\": \"\", \"zerolinecolor\": \"white\"}, \"zaxis\": {\"backgroundcolor\": \"#E5ECF6\", \"gridcolor\": \"white\", \"gridwidth\": 2, \"linecolor\": \"white\", \"showbackground\": true, \"ticks\": \"\", \"zerolinecolor\": \"white\"}}, \"shapedefaults\": {\"line\": {\"color\": \"#2a3f5f\"}}, \"ternary\": {\"aaxis\": {\"gridcolor\": \"white\", \"linecolor\": \"white\", \"ticks\": \"\"}, \"baxis\": {\"gridcolor\": \"white\", \"linecolor\": \"white\", \"ticks\": \"\"}, \"bgcolor\": \"#E5ECF6\", \"caxis\": {\"gridcolor\": \"white\", \"linecolor\": \"white\", \"ticks\": \"\"}}, \"title\": {\"x\": 0.05}, \"xaxis\": {\"automargin\": true, \"gridcolor\": \"white\", \"linecolor\": \"white\", \"ticks\": \"\", \"title\": {\"standoff\": 15}, \"zerolinecolor\": \"white\", \"zerolinewidth\": 2}, \"yaxis\": {\"automargin\": true, \"gridcolor\": \"white\", \"linecolor\": \"white\", \"ticks\": \"\", \"title\": {\"standoff\": 15}, \"zerolinecolor\": \"white\", \"zerolinewidth\": 2}}}, \"title\": {\"text\": \"Highlighted Jobs\"}, \"xaxis\": {\"anchor\": \"y\", \"categoryarray\": [\"\\u0639\\u0627\\u0645\\u0644 \\u0639\\u0627\\u062f\\u0649 \\u062e\\u0641\\u064a\\u0641\", \"\\u0633\\u0627\\u0626\\u0642 \\u0645\\u0631\\u0643\\u0628\\u0647 \\u062e\\u0641\\u064a\\u0641\\u0647\", \"\\u0628\\u0627\\u0626\\u0639\", \"\\u0639\\u0627\\u0645\\u0644 \\u0646\\u0638\\u0627\\u0641\\u0629\", \"\\u0639\\u0627\\u0645\\u0644 \\u0632\\u0631\\u0627\\u0639\\u0649\", \"\\u0639\\u0627\\u0645\\u0644 \\u0627\\u0646\\u062a\\u0627\\u062c\", \"\\u0639\\u0627\\u0645\\u0644 \\u0641\\u0646\\u0649\", \"\\u0633\\u0627\\u0626\\u0642 \\u0645\\u0639\\u062f\\u0627\\u062a \\u062b\\u0642\\u064a\\u0644\\u0629\", \"\\u0633\\u0627\\u0626\\u0642 \\u0634\\u0627\\u062d\\u0646\\u0629\", \"\\u062c\\u0627\\u0631\\u0633\\u0648\\u0646\"], \"categoryorder\": \"array\", \"domain\": [0.0, 1.0], \"title\": {\"text\": \"Jobs\"}}, \"yaxis\": {\"anchor\": \"x\", \"domain\": [0.0, 1.0], \"title\": {\"text\": \"Count\"}}},                        {\"responsive\": true}                    ).then(function(){\n",
              "                            \n",
              "var gd = document.getElementById('d92bb1c0-1356-473c-add9-22dc25c14ddc');\n",
              "var x = new MutationObserver(function (mutations, observer) {{\n",
              "        var display = window.getComputedStyle(gd).display;\n",
              "        if (!display || display === 'none') {{\n",
              "            console.log([gd, 'removed!']);\n",
              "            Plotly.purge(gd);\n",
              "            observer.disconnect();\n",
              "        }}\n",
              "}});\n",
              "\n",
              "// Listen for the removal of the full notebook cells\n",
              "var notebookContainer = gd.closest('#notebook-container');\n",
              "if (notebookContainer) {{\n",
              "    x.observe(notebookContainer, {childList: true});\n",
              "}}\n",
              "\n",
              "// Listen for the clearing of the current output cell\n",
              "var outputEl = gd.closest('.output');\n",
              "if (outputEl) {{\n",
              "    x.observe(outputEl, {childList: true});\n",
              "}}\n",
              "\n",
              "                        })                };                            </script>        </div>\n",
              "</body>\n",
              "</html>"
            ]
          },
          "metadata": {
            "tags": []
          }
        }
      ]
    },
    {
      "cell_type": "markdown",
      "metadata": {
        "id": "94845ecf"
      },
      "source": [
        "#### FREQUENT ECONOMIC ACTS"
      ],
      "id": "94845ecf"
    },
    {
      "cell_type": "code",
      "metadata": {
        "colab": {
          "base_uri": "https://localhost:8080/",
          "height": 359
        },
        "id": "0ed3d49b",
        "outputId": "14edc517-e467-428e-8a5e-c41054b8fe11"
      },
      "source": [
        "#hide_input\n",
        "d = dict(data['ECONOMIC_ACT_DESC'].value_counts())\n",
        "insight4 = pd.DataFrame()\n",
        "d = dict(sorted(d.items(), key=operator.itemgetter(1), reverse=True)[:10])\n",
        "insight4['ECONOMIC ACT'] = d.keys()\n",
        "insight4['Count'] = d.values()\n",
        "insight4"
      ],
      "id": "0ed3d49b",
      "execution_count": null,
      "outputs": [
        {
          "output_type": "execute_result",
          "data": {
            "text/html": [
              "<div>\n",
              "<style scoped>\n",
              "    .dataframe tbody tr th:only-of-type {\n",
              "        vertical-align: middle;\n",
              "    }\n",
              "\n",
              "    .dataframe tbody tr th {\n",
              "        vertical-align: top;\n",
              "    }\n",
              "\n",
              "    .dataframe thead th {\n",
              "        text-align: right;\n",
              "    }\n",
              "</style>\n",
              "<table border=\"1\" class=\"dataframe\">\n",
              "  <thead>\n",
              "    <tr style=\"text-align: right;\">\n",
              "      <th></th>\n",
              "      <th>ECONOMIC ACT</th>\n",
              "      <th>Count</th>\n",
              "    </tr>\n",
              "  </thead>\n",
              "  <tbody>\n",
              "    <tr>\n",
              "      <th>0</th>\n",
              "      <td>التجارة العامة و المقاولات</td>\n",
              "      <td>173082</td>\n",
              "    </tr>\n",
              "    <tr>\n",
              "      <th>1</th>\n",
              "      <td>الادارة العامة ( ادارة الشركات )</td>\n",
              "      <td>82254</td>\n",
              "    </tr>\n",
              "    <tr>\n",
              "      <th>2</th>\n",
              "      <td>المطاعم</td>\n",
              "      <td>64775</td>\n",
              "    </tr>\n",
              "    <tr>\n",
              "      <th>3</th>\n",
              "      <td>التجارة العامة</td>\n",
              "      <td>58902</td>\n",
              "    </tr>\n",
              "    <tr>\n",
              "      <th>4</th>\n",
              "      <td>المقاولات العامة للمباني</td>\n",
              "      <td>43664</td>\n",
              "    </tr>\n",
              "    <tr>\n",
              "      <th>5</th>\n",
              "      <td>الاسواق المركزية</td>\n",
              "      <td>37392</td>\n",
              "    </tr>\n",
              "    <tr>\n",
              "      <th>6</th>\n",
              "      <td>نقل البضائع داخل الكويت</td>\n",
              "      <td>36597</td>\n",
              "    </tr>\n",
              "    <tr>\n",
              "      <th>7</th>\n",
              "      <td>مقاولات تنظيف المبانى و الشوارع</td>\n",
              "      <td>30410</td>\n",
              "    </tr>\n",
              "    <tr>\n",
              "      <th>8</th>\n",
              "      <td>اعمال هندسية وتوريد وانشاءات</td>\n",
              "      <td>23693</td>\n",
              "    </tr>\n",
              "    <tr>\n",
              "      <th>9</th>\n",
              "      <td>مقاولات انشاء ورصف الطرق والشوارع وغيرها</td>\n",
              "      <td>22449</td>\n",
              "    </tr>\n",
              "  </tbody>\n",
              "</table>\n",
              "</div>"
            ],
            "text/plain": [
              "                               ECONOMIC ACT   Count\n",
              "0                التجارة العامة و المقاولات  173082\n",
              "1          الادارة العامة ( ادارة الشركات )   82254\n",
              "2                                   المطاعم   64775\n",
              "3                            التجارة العامة   58902\n",
              "4                  المقاولات العامة للمباني   43664\n",
              "5                          الاسواق المركزية   37392\n",
              "6                   نقل البضائع داخل الكويت   36597\n",
              "7           مقاولات تنظيف المبانى و الشوارع   30410\n",
              "8              اعمال هندسية وتوريد وانشاءات   23693\n",
              "9  مقاولات انشاء ورصف الطرق والشوارع وغيرها   22449"
            ]
          },
          "metadata": {
            "tags": []
          },
          "execution_count": 40
        }
      ]
    },
    {
      "cell_type": "code",
      "metadata": {
        "colab": {
          "base_uri": "https://localhost:8080/",
          "height": 542
        },
        "id": "d82fb839",
        "outputId": "d5075eec-b2d8-4516-dcff-d9f3498eff15"
      },
      "source": [
        "#hide_input\n",
        "fig = px.scatter(insight4, x=\"ECONOMIC ACT\", y=\"Count\",size=\"Count\", color=\"ECONOMIC ACT\",title = \"FREQUENT ECONOMIC ACTS\")\n",
        "fig.show()\n"
      ],
      "id": "d82fb839",
      "execution_count": null,
      "outputs": [
        {
          "output_type": "display_data",
          "data": {
            "text/html": [
              "<html>\n",
              "<head><meta charset=\"utf-8\" /></head>\n",
              "<body>\n",
              "    <div>            <script src=\"https://cdnjs.cloudflare.com/ajax/libs/mathjax/2.7.5/MathJax.js?config=TeX-AMS-MML_SVG\"></script><script type=\"text/javascript\">if (window.MathJax) {MathJax.Hub.Config({SVG: {font: \"STIX-Web\"}});}</script>                <script type=\"text/javascript\">window.PlotlyConfig = {MathJaxConfig: 'local'};</script>\n",
              "        <script src=\"https://cdn.plot.ly/plotly-latest.min.js\"></script>                <div id=\"ef72d305-dcd4-4975-93f0-363d8b0537dd\" class=\"plotly-graph-div\" style=\"height:525px; width:100%;\"></div>            <script type=\"text/javascript\">                                    window.PLOTLYENV=window.PLOTLYENV || {};                                    if (document.getElementById(\"ef72d305-dcd4-4975-93f0-363d8b0537dd\")) {                    Plotly.newPlot(                        \"ef72d305-dcd4-4975-93f0-363d8b0537dd\",                        [{\"hovertemplate\": \"ECONOMIC ACT=%{x}<br>Count=%{marker.size}<extra></extra>\", \"legendgroup\": \"\\u0627\\u0644\\u062a\\u062c\\u0627\\u0631\\u0629 \\u0627\\u0644\\u0639\\u0627\\u0645\\u0629 \\u0648 \\u0627\\u0644\\u0645\\u0642\\u0627\\u0648\\u0644\\u0627\\u062a\", \"marker\": {\"color\": \"#636efa\", \"size\": [173082], \"sizemode\": \"area\", \"sizeref\": 432.705, \"symbol\": \"circle\"}, \"mode\": \"markers\", \"name\": \"\\u0627\\u0644\\u062a\\u062c\\u0627\\u0631\\u0629 \\u0627\\u0644\\u0639\\u0627\\u0645\\u0629 \\u0648 \\u0627\\u0644\\u0645\\u0642\\u0627\\u0648\\u0644\\u0627\\u062a\", \"orientation\": \"v\", \"showlegend\": true, \"type\": \"scatter\", \"x\": [\"\\u0627\\u0644\\u062a\\u062c\\u0627\\u0631\\u0629 \\u0627\\u0644\\u0639\\u0627\\u0645\\u0629 \\u0648 \\u0627\\u0644\\u0645\\u0642\\u0627\\u0648\\u0644\\u0627\\u062a\"], \"xaxis\": \"x\", \"y\": [173082], \"yaxis\": \"y\"}, {\"hovertemplate\": \"ECONOMIC ACT=%{x}<br>Count=%{marker.size}<extra></extra>\", \"legendgroup\": \"\\u0627\\u0644\\u0627\\u062f\\u0627\\u0631\\u0629 \\u0627\\u0644\\u0639\\u0627\\u0645\\u0629 ( \\u0627\\u062f\\u0627\\u0631\\u0629 \\u0627\\u0644\\u0634\\u0631\\u0643\\u0627\\u062a )\", \"marker\": {\"color\": \"#EF553B\", \"size\": [82254], \"sizemode\": \"area\", \"sizeref\": 432.705, \"symbol\": \"circle\"}, \"mode\": \"markers\", \"name\": \"\\u0627\\u0644\\u0627\\u062f\\u0627\\u0631\\u0629 \\u0627\\u0644\\u0639\\u0627\\u0645\\u0629 ( \\u0627\\u062f\\u0627\\u0631\\u0629 \\u0627\\u0644\\u0634\\u0631\\u0643\\u0627\\u062a )\", \"orientation\": \"v\", \"showlegend\": true, \"type\": \"scatter\", \"x\": [\"\\u0627\\u0644\\u0627\\u062f\\u0627\\u0631\\u0629 \\u0627\\u0644\\u0639\\u0627\\u0645\\u0629 ( \\u0627\\u062f\\u0627\\u0631\\u0629 \\u0627\\u0644\\u0634\\u0631\\u0643\\u0627\\u062a )\"], \"xaxis\": \"x\", \"y\": [82254], \"yaxis\": \"y\"}, {\"hovertemplate\": \"ECONOMIC ACT=%{x}<br>Count=%{marker.size}<extra></extra>\", \"legendgroup\": \"\\u0627\\u0644\\u0645\\u0637\\u0627\\u0639\\u0645\", \"marker\": {\"color\": \"#00cc96\", \"size\": [64775], \"sizemode\": \"area\", \"sizeref\": 432.705, \"symbol\": \"circle\"}, \"mode\": \"markers\", \"name\": \"\\u0627\\u0644\\u0645\\u0637\\u0627\\u0639\\u0645\", \"orientation\": \"v\", \"showlegend\": true, \"type\": \"scatter\", \"x\": [\"\\u0627\\u0644\\u0645\\u0637\\u0627\\u0639\\u0645\"], \"xaxis\": \"x\", \"y\": [64775], \"yaxis\": \"y\"}, {\"hovertemplate\": \"ECONOMIC ACT=%{x}<br>Count=%{marker.size}<extra></extra>\", \"legendgroup\": \"\\u0627\\u0644\\u062a\\u062c\\u0627\\u0631\\u0629 \\u0627\\u0644\\u0639\\u0627\\u0645\\u0629\", \"marker\": {\"color\": \"#ab63fa\", \"size\": [58902], \"sizemode\": \"area\", \"sizeref\": 432.705, \"symbol\": \"circle\"}, \"mode\": \"markers\", \"name\": \"\\u0627\\u0644\\u062a\\u062c\\u0627\\u0631\\u0629 \\u0627\\u0644\\u0639\\u0627\\u0645\\u0629\", \"orientation\": \"v\", \"showlegend\": true, \"type\": \"scatter\", \"x\": [\"\\u0627\\u0644\\u062a\\u062c\\u0627\\u0631\\u0629 \\u0627\\u0644\\u0639\\u0627\\u0645\\u0629\"], \"xaxis\": \"x\", \"y\": [58902], \"yaxis\": \"y\"}, {\"hovertemplate\": \"ECONOMIC ACT=%{x}<br>Count=%{marker.size}<extra></extra>\", \"legendgroup\": \"\\u0627\\u0644\\u0645\\u0642\\u0627\\u0648\\u0644\\u0627\\u062a \\u0627\\u0644\\u0639\\u0627\\u0645\\u0629 \\u0644\\u0644\\u0645\\u0628\\u0627\\u0646\\u064a\", \"marker\": {\"color\": \"#FFA15A\", \"size\": [43664], \"sizemode\": \"area\", \"sizeref\": 432.705, \"symbol\": \"circle\"}, \"mode\": \"markers\", \"name\": \"\\u0627\\u0644\\u0645\\u0642\\u0627\\u0648\\u0644\\u0627\\u062a \\u0627\\u0644\\u0639\\u0627\\u0645\\u0629 \\u0644\\u0644\\u0645\\u0628\\u0627\\u0646\\u064a\", \"orientation\": \"v\", \"showlegend\": true, \"type\": \"scatter\", \"x\": [\"\\u0627\\u0644\\u0645\\u0642\\u0627\\u0648\\u0644\\u0627\\u062a \\u0627\\u0644\\u0639\\u0627\\u0645\\u0629 \\u0644\\u0644\\u0645\\u0628\\u0627\\u0646\\u064a\"], \"xaxis\": \"x\", \"y\": [43664], \"yaxis\": \"y\"}, {\"hovertemplate\": \"ECONOMIC ACT=%{x}<br>Count=%{marker.size}<extra></extra>\", \"legendgroup\": \"\\u0627\\u0644\\u0627\\u0633\\u0648\\u0627\\u0642 \\u0627\\u0644\\u0645\\u0631\\u0643\\u0632\\u064a\\u0629\", \"marker\": {\"color\": \"#19d3f3\", \"size\": [37392], \"sizemode\": \"area\", \"sizeref\": 432.705, \"symbol\": \"circle\"}, \"mode\": \"markers\", \"name\": \"\\u0627\\u0644\\u0627\\u0633\\u0648\\u0627\\u0642 \\u0627\\u0644\\u0645\\u0631\\u0643\\u0632\\u064a\\u0629\", \"orientation\": \"v\", \"showlegend\": true, \"type\": \"scatter\", \"x\": [\"\\u0627\\u0644\\u0627\\u0633\\u0648\\u0627\\u0642 \\u0627\\u0644\\u0645\\u0631\\u0643\\u0632\\u064a\\u0629\"], \"xaxis\": \"x\", \"y\": [37392], \"yaxis\": \"y\"}, {\"hovertemplate\": \"ECONOMIC ACT=%{x}<br>Count=%{marker.size}<extra></extra>\", \"legendgroup\": \"\\u0646\\u0642\\u0644 \\u0627\\u0644\\u0628\\u0636\\u0627\\u0626\\u0639 \\u062f\\u0627\\u062e\\u0644 \\u0627\\u0644\\u0643\\u0648\\u064a\\u062a\", \"marker\": {\"color\": \"#FF6692\", \"size\": [36597], \"sizemode\": \"area\", \"sizeref\": 432.705, \"symbol\": \"circle\"}, \"mode\": \"markers\", \"name\": \"\\u0646\\u0642\\u0644 \\u0627\\u0644\\u0628\\u0636\\u0627\\u0626\\u0639 \\u062f\\u0627\\u062e\\u0644 \\u0627\\u0644\\u0643\\u0648\\u064a\\u062a\", \"orientation\": \"v\", \"showlegend\": true, \"type\": \"scatter\", \"x\": [\"\\u0646\\u0642\\u0644 \\u0627\\u0644\\u0628\\u0636\\u0627\\u0626\\u0639 \\u062f\\u0627\\u062e\\u0644 \\u0627\\u0644\\u0643\\u0648\\u064a\\u062a\"], \"xaxis\": \"x\", \"y\": [36597], \"yaxis\": \"y\"}, {\"hovertemplate\": \"ECONOMIC ACT=%{x}<br>Count=%{marker.size}<extra></extra>\", \"legendgroup\": \"\\u0645\\u0642\\u0627\\u0648\\u0644\\u0627\\u062a \\u062a\\u0646\\u0638\\u064a\\u0641 \\u0627\\u0644\\u0645\\u0628\\u0627\\u0646\\u0649 \\u0648 \\u0627\\u0644\\u0634\\u0648\\u0627\\u0631\\u0639\", \"marker\": {\"color\": \"#B6E880\", \"size\": [30410], \"sizemode\": \"area\", \"sizeref\": 432.705, \"symbol\": \"circle\"}, \"mode\": \"markers\", \"name\": \"\\u0645\\u0642\\u0627\\u0648\\u0644\\u0627\\u062a \\u062a\\u0646\\u0638\\u064a\\u0641 \\u0627\\u0644\\u0645\\u0628\\u0627\\u0646\\u0649 \\u0648 \\u0627\\u0644\\u0634\\u0648\\u0627\\u0631\\u0639\", \"orientation\": \"v\", \"showlegend\": true, \"type\": \"scatter\", \"x\": [\"\\u0645\\u0642\\u0627\\u0648\\u0644\\u0627\\u062a \\u062a\\u0646\\u0638\\u064a\\u0641 \\u0627\\u0644\\u0645\\u0628\\u0627\\u0646\\u0649 \\u0648 \\u0627\\u0644\\u0634\\u0648\\u0627\\u0631\\u0639\"], \"xaxis\": \"x\", \"y\": [30410], \"yaxis\": \"y\"}, {\"hovertemplate\": \"ECONOMIC ACT=%{x}<br>Count=%{marker.size}<extra></extra>\", \"legendgroup\": \"\\u0627\\u0639\\u0645\\u0627\\u0644 \\u0647\\u0646\\u062f\\u0633\\u064a\\u0629 \\u0648\\u062a\\u0648\\u0631\\u064a\\u062f \\u0648\\u0627\\u0646\\u0634\\u0627\\u0621\\u0627\\u062a\", \"marker\": {\"color\": \"#FF97FF\", \"size\": [23693], \"sizemode\": \"area\", \"sizeref\": 432.705, \"symbol\": \"circle\"}, \"mode\": \"markers\", \"name\": \"\\u0627\\u0639\\u0645\\u0627\\u0644 \\u0647\\u0646\\u062f\\u0633\\u064a\\u0629 \\u0648\\u062a\\u0648\\u0631\\u064a\\u062f \\u0648\\u0627\\u0646\\u0634\\u0627\\u0621\\u0627\\u062a\", \"orientation\": \"v\", \"showlegend\": true, \"type\": \"scatter\", \"x\": [\"\\u0627\\u0639\\u0645\\u0627\\u0644 \\u0647\\u0646\\u062f\\u0633\\u064a\\u0629 \\u0648\\u062a\\u0648\\u0631\\u064a\\u062f \\u0648\\u0627\\u0646\\u0634\\u0627\\u0621\\u0627\\u062a\"], \"xaxis\": \"x\", \"y\": [23693], \"yaxis\": \"y\"}, {\"hovertemplate\": \"ECONOMIC ACT=%{x}<br>Count=%{marker.size}<extra></extra>\", \"legendgroup\": \"\\u0645\\u0642\\u0627\\u0648\\u0644\\u0627\\u062a \\u0627\\u0646\\u0634\\u0627\\u0621 \\u0648\\u0631\\u0635\\u0641 \\u0627\\u0644\\u0637\\u0631\\u0642 \\u0648\\u0627\\u0644\\u0634\\u0648\\u0627\\u0631\\u0639 \\u0648\\u063a\\u064a\\u0631\\u0647\\u0627\", \"marker\": {\"color\": \"#FECB52\", \"size\": [22449], \"sizemode\": \"area\", \"sizeref\": 432.705, \"symbol\": \"circle\"}, \"mode\": \"markers\", \"name\": \"\\u0645\\u0642\\u0627\\u0648\\u0644\\u0627\\u062a \\u0627\\u0646\\u0634\\u0627\\u0621 \\u0648\\u0631\\u0635\\u0641 \\u0627\\u0644\\u0637\\u0631\\u0642 \\u0648\\u0627\\u0644\\u0634\\u0648\\u0627\\u0631\\u0639 \\u0648\\u063a\\u064a\\u0631\\u0647\\u0627\", \"orientation\": \"v\", \"showlegend\": true, \"type\": \"scatter\", \"x\": [\"\\u0645\\u0642\\u0627\\u0648\\u0644\\u0627\\u062a \\u0627\\u0646\\u0634\\u0627\\u0621 \\u0648\\u0631\\u0635\\u0641 \\u0627\\u0644\\u0637\\u0631\\u0642 \\u0648\\u0627\\u0644\\u0634\\u0648\\u0627\\u0631\\u0639 \\u0648\\u063a\\u064a\\u0631\\u0647\\u0627\"], \"xaxis\": \"x\", \"y\": [22449], \"yaxis\": \"y\"}],                        {\"legend\": {\"itemsizing\": \"constant\", \"title\": {\"text\": \"ECONOMIC ACT\"}, \"tracegroupgap\": 0}, \"template\": {\"data\": {\"bar\": [{\"error_x\": {\"color\": \"#2a3f5f\"}, \"error_y\": {\"color\": \"#2a3f5f\"}, \"marker\": {\"line\": {\"color\": \"#E5ECF6\", \"width\": 0.5}}, \"type\": \"bar\"}], \"barpolar\": [{\"marker\": {\"line\": {\"color\": \"#E5ECF6\", \"width\": 0.5}}, \"type\": \"barpolar\"}], \"carpet\": [{\"aaxis\": {\"endlinecolor\": \"#2a3f5f\", \"gridcolor\": \"white\", \"linecolor\": \"white\", \"minorgridcolor\": \"white\", \"startlinecolor\": \"#2a3f5f\"}, \"baxis\": {\"endlinecolor\": \"#2a3f5f\", \"gridcolor\": \"white\", \"linecolor\": \"white\", \"minorgridcolor\": \"white\", \"startlinecolor\": \"#2a3f5f\"}, \"type\": \"carpet\"}], \"choropleth\": [{\"colorbar\": {\"outlinewidth\": 0, \"ticks\": \"\"}, \"type\": \"choropleth\"}], \"contour\": [{\"colorbar\": {\"outlinewidth\": 0, \"ticks\": \"\"}, \"colorscale\": [[0.0, \"#0d0887\"], [0.1111111111111111, \"#46039f\"], [0.2222222222222222, \"#7201a8\"], [0.3333333333333333, \"#9c179e\"], [0.4444444444444444, \"#bd3786\"], [0.5555555555555556, \"#d8576b\"], [0.6666666666666666, \"#ed7953\"], [0.7777777777777778, \"#fb9f3a\"], [0.8888888888888888, \"#fdca26\"], [1.0, \"#f0f921\"]], \"type\": \"contour\"}], \"contourcarpet\": [{\"colorbar\": {\"outlinewidth\": 0, \"ticks\": \"\"}, \"type\": \"contourcarpet\"}], \"heatmap\": [{\"colorbar\": {\"outlinewidth\": 0, \"ticks\": \"\"}, \"colorscale\": [[0.0, \"#0d0887\"], [0.1111111111111111, \"#46039f\"], [0.2222222222222222, \"#7201a8\"], [0.3333333333333333, \"#9c179e\"], [0.4444444444444444, \"#bd3786\"], [0.5555555555555556, \"#d8576b\"], [0.6666666666666666, \"#ed7953\"], [0.7777777777777778, \"#fb9f3a\"], [0.8888888888888888, \"#fdca26\"], [1.0, \"#f0f921\"]], \"type\": \"heatmap\"}], \"heatmapgl\": [{\"colorbar\": {\"outlinewidth\": 0, \"ticks\": \"\"}, \"colorscale\": [[0.0, \"#0d0887\"], [0.1111111111111111, \"#46039f\"], [0.2222222222222222, \"#7201a8\"], [0.3333333333333333, \"#9c179e\"], [0.4444444444444444, \"#bd3786\"], [0.5555555555555556, \"#d8576b\"], [0.6666666666666666, \"#ed7953\"], [0.7777777777777778, \"#fb9f3a\"], [0.8888888888888888, \"#fdca26\"], [1.0, \"#f0f921\"]], \"type\": \"heatmapgl\"}], \"histogram\": [{\"marker\": {\"colorbar\": {\"outlinewidth\": 0, \"ticks\": \"\"}}, \"type\": \"histogram\"}], \"histogram2d\": [{\"colorbar\": {\"outlinewidth\": 0, \"ticks\": \"\"}, \"colorscale\": [[0.0, \"#0d0887\"], [0.1111111111111111, \"#46039f\"], [0.2222222222222222, \"#7201a8\"], [0.3333333333333333, \"#9c179e\"], [0.4444444444444444, \"#bd3786\"], [0.5555555555555556, \"#d8576b\"], [0.6666666666666666, \"#ed7953\"], [0.7777777777777778, \"#fb9f3a\"], [0.8888888888888888, \"#fdca26\"], [1.0, \"#f0f921\"]], \"type\": \"histogram2d\"}], \"histogram2dcontour\": [{\"colorbar\": {\"outlinewidth\": 0, \"ticks\": \"\"}, \"colorscale\": [[0.0, \"#0d0887\"], [0.1111111111111111, \"#46039f\"], [0.2222222222222222, \"#7201a8\"], [0.3333333333333333, \"#9c179e\"], [0.4444444444444444, \"#bd3786\"], [0.5555555555555556, \"#d8576b\"], [0.6666666666666666, \"#ed7953\"], [0.7777777777777778, \"#fb9f3a\"], [0.8888888888888888, \"#fdca26\"], [1.0, \"#f0f921\"]], \"type\": \"histogram2dcontour\"}], \"mesh3d\": [{\"colorbar\": {\"outlinewidth\": 0, \"ticks\": \"\"}, \"type\": \"mesh3d\"}], \"parcoords\": [{\"line\": {\"colorbar\": {\"outlinewidth\": 0, \"ticks\": \"\"}}, \"type\": \"parcoords\"}], \"pie\": [{\"automargin\": true, \"type\": \"pie\"}], \"scatter\": [{\"marker\": {\"colorbar\": {\"outlinewidth\": 0, \"ticks\": \"\"}}, \"type\": \"scatter\"}], \"scatter3d\": [{\"line\": {\"colorbar\": {\"outlinewidth\": 0, \"ticks\": \"\"}}, \"marker\": {\"colorbar\": {\"outlinewidth\": 0, \"ticks\": \"\"}}, \"type\": \"scatter3d\"}], \"scattercarpet\": [{\"marker\": {\"colorbar\": {\"outlinewidth\": 0, \"ticks\": \"\"}}, \"type\": \"scattercarpet\"}], \"scattergeo\": [{\"marker\": {\"colorbar\": {\"outlinewidth\": 0, \"ticks\": \"\"}}, \"type\": \"scattergeo\"}], \"scattergl\": [{\"marker\": {\"colorbar\": {\"outlinewidth\": 0, \"ticks\": \"\"}}, \"type\": \"scattergl\"}], \"scattermapbox\": [{\"marker\": {\"colorbar\": {\"outlinewidth\": 0, \"ticks\": \"\"}}, \"type\": \"scattermapbox\"}], \"scatterpolar\": [{\"marker\": {\"colorbar\": {\"outlinewidth\": 0, \"ticks\": \"\"}}, \"type\": \"scatterpolar\"}], \"scatterpolargl\": [{\"marker\": {\"colorbar\": {\"outlinewidth\": 0, \"ticks\": \"\"}}, \"type\": \"scatterpolargl\"}], \"scatterternary\": [{\"marker\": {\"colorbar\": {\"outlinewidth\": 0, \"ticks\": \"\"}}, \"type\": \"scatterternary\"}], \"surface\": [{\"colorbar\": {\"outlinewidth\": 0, \"ticks\": \"\"}, \"colorscale\": [[0.0, \"#0d0887\"], [0.1111111111111111, \"#46039f\"], [0.2222222222222222, \"#7201a8\"], [0.3333333333333333, \"#9c179e\"], [0.4444444444444444, \"#bd3786\"], [0.5555555555555556, \"#d8576b\"], [0.6666666666666666, \"#ed7953\"], [0.7777777777777778, \"#fb9f3a\"], [0.8888888888888888, \"#fdca26\"], [1.0, \"#f0f921\"]], \"type\": \"surface\"}], \"table\": [{\"cells\": {\"fill\": {\"color\": \"#EBF0F8\"}, \"line\": {\"color\": \"white\"}}, \"header\": {\"fill\": {\"color\": \"#C8D4E3\"}, \"line\": {\"color\": \"white\"}}, \"type\": \"table\"}]}, \"layout\": {\"annotationdefaults\": {\"arrowcolor\": \"#2a3f5f\", \"arrowhead\": 0, \"arrowwidth\": 1}, \"autotypenumbers\": \"strict\", \"coloraxis\": {\"colorbar\": {\"outlinewidth\": 0, \"ticks\": \"\"}}, \"colorscale\": {\"diverging\": [[0, \"#8e0152\"], [0.1, \"#c51b7d\"], [0.2, \"#de77ae\"], [0.3, \"#f1b6da\"], [0.4, \"#fde0ef\"], [0.5, \"#f7f7f7\"], [0.6, \"#e6f5d0\"], [0.7, \"#b8e186\"], [0.8, \"#7fbc41\"], [0.9, \"#4d9221\"], [1, \"#276419\"]], \"sequential\": [[0.0, \"#0d0887\"], [0.1111111111111111, \"#46039f\"], [0.2222222222222222, \"#7201a8\"], [0.3333333333333333, \"#9c179e\"], [0.4444444444444444, \"#bd3786\"], [0.5555555555555556, \"#d8576b\"], [0.6666666666666666, \"#ed7953\"], [0.7777777777777778, \"#fb9f3a\"], [0.8888888888888888, \"#fdca26\"], [1.0, \"#f0f921\"]], \"sequentialminus\": [[0.0, \"#0d0887\"], [0.1111111111111111, \"#46039f\"], [0.2222222222222222, \"#7201a8\"], [0.3333333333333333, \"#9c179e\"], [0.4444444444444444, \"#bd3786\"], [0.5555555555555556, \"#d8576b\"], [0.6666666666666666, \"#ed7953\"], [0.7777777777777778, \"#fb9f3a\"], [0.8888888888888888, \"#fdca26\"], [1.0, \"#f0f921\"]]}, \"colorway\": [\"#636efa\", \"#EF553B\", \"#00cc96\", \"#ab63fa\", \"#FFA15A\", \"#19d3f3\", \"#FF6692\", \"#B6E880\", \"#FF97FF\", \"#FECB52\"], \"font\": {\"color\": \"#2a3f5f\"}, \"geo\": {\"bgcolor\": \"white\", \"lakecolor\": \"white\", \"landcolor\": \"#E5ECF6\", \"showlakes\": true, \"showland\": true, \"subunitcolor\": \"white\"}, \"hoverlabel\": {\"align\": \"left\"}, \"hovermode\": \"closest\", \"mapbox\": {\"style\": \"light\"}, \"paper_bgcolor\": \"white\", \"plot_bgcolor\": \"#E5ECF6\", \"polar\": {\"angularaxis\": {\"gridcolor\": \"white\", \"linecolor\": \"white\", \"ticks\": \"\"}, \"bgcolor\": \"#E5ECF6\", \"radialaxis\": {\"gridcolor\": \"white\", \"linecolor\": \"white\", \"ticks\": \"\"}}, \"scene\": {\"xaxis\": {\"backgroundcolor\": \"#E5ECF6\", \"gridcolor\": \"white\", \"gridwidth\": 2, \"linecolor\": \"white\", \"showbackground\": true, \"ticks\": \"\", \"zerolinecolor\": \"white\"}, \"yaxis\": {\"backgroundcolor\": \"#E5ECF6\", \"gridcolor\": \"white\", \"gridwidth\": 2, \"linecolor\": \"white\", \"showbackground\": true, \"ticks\": \"\", \"zerolinecolor\": \"white\"}, \"zaxis\": {\"backgroundcolor\": \"#E5ECF6\", \"gridcolor\": \"white\", \"gridwidth\": 2, \"linecolor\": \"white\", \"showbackground\": true, \"ticks\": \"\", \"zerolinecolor\": \"white\"}}, \"shapedefaults\": {\"line\": {\"color\": \"#2a3f5f\"}}, \"ternary\": {\"aaxis\": {\"gridcolor\": \"white\", \"linecolor\": \"white\", \"ticks\": \"\"}, \"baxis\": {\"gridcolor\": \"white\", \"linecolor\": \"white\", \"ticks\": \"\"}, \"bgcolor\": \"#E5ECF6\", \"caxis\": {\"gridcolor\": \"white\", \"linecolor\": \"white\", \"ticks\": \"\"}}, \"title\": {\"x\": 0.05}, \"xaxis\": {\"automargin\": true, \"gridcolor\": \"white\", \"linecolor\": \"white\", \"ticks\": \"\", \"title\": {\"standoff\": 15}, \"zerolinecolor\": \"white\", \"zerolinewidth\": 2}, \"yaxis\": {\"automargin\": true, \"gridcolor\": \"white\", \"linecolor\": \"white\", \"ticks\": \"\", \"title\": {\"standoff\": 15}, \"zerolinecolor\": \"white\", \"zerolinewidth\": 2}}}, \"title\": {\"text\": \"FREQUENT ECONOMIC ACTS\"}, \"xaxis\": {\"anchor\": \"y\", \"categoryarray\": [\"\\u0627\\u0644\\u062a\\u062c\\u0627\\u0631\\u0629 \\u0627\\u0644\\u0639\\u0627\\u0645\\u0629 \\u0648 \\u0627\\u0644\\u0645\\u0642\\u0627\\u0648\\u0644\\u0627\\u062a\", \"\\u0627\\u0644\\u0627\\u062f\\u0627\\u0631\\u0629 \\u0627\\u0644\\u0639\\u0627\\u0645\\u0629 ( \\u0627\\u062f\\u0627\\u0631\\u0629 \\u0627\\u0644\\u0634\\u0631\\u0643\\u0627\\u062a )\", \"\\u0627\\u0644\\u0645\\u0637\\u0627\\u0639\\u0645\", \"\\u0627\\u0644\\u062a\\u062c\\u0627\\u0631\\u0629 \\u0627\\u0644\\u0639\\u0627\\u0645\\u0629\", \"\\u0627\\u0644\\u0645\\u0642\\u0627\\u0648\\u0644\\u0627\\u062a \\u0627\\u0644\\u0639\\u0627\\u0645\\u0629 \\u0644\\u0644\\u0645\\u0628\\u0627\\u0646\\u064a\", \"\\u0627\\u0644\\u0627\\u0633\\u0648\\u0627\\u0642 \\u0627\\u0644\\u0645\\u0631\\u0643\\u0632\\u064a\\u0629\", \"\\u0646\\u0642\\u0644 \\u0627\\u0644\\u0628\\u0636\\u0627\\u0626\\u0639 \\u062f\\u0627\\u062e\\u0644 \\u0627\\u0644\\u0643\\u0648\\u064a\\u062a\", \"\\u0645\\u0642\\u0627\\u0648\\u0644\\u0627\\u062a \\u062a\\u0646\\u0638\\u064a\\u0641 \\u0627\\u0644\\u0645\\u0628\\u0627\\u0646\\u0649 \\u0648 \\u0627\\u0644\\u0634\\u0648\\u0627\\u0631\\u0639\", \"\\u0627\\u0639\\u0645\\u0627\\u0644 \\u0647\\u0646\\u062f\\u0633\\u064a\\u0629 \\u0648\\u062a\\u0648\\u0631\\u064a\\u062f \\u0648\\u0627\\u0646\\u0634\\u0627\\u0621\\u0627\\u062a\", \"\\u0645\\u0642\\u0627\\u0648\\u0644\\u0627\\u062a \\u0627\\u0646\\u0634\\u0627\\u0621 \\u0648\\u0631\\u0635\\u0641 \\u0627\\u0644\\u0637\\u0631\\u0642 \\u0648\\u0627\\u0644\\u0634\\u0648\\u0627\\u0631\\u0639 \\u0648\\u063a\\u064a\\u0631\\u0647\\u0627\"], \"categoryorder\": \"array\", \"domain\": [0.0, 1.0], \"title\": {\"text\": \"ECONOMIC ACT\"}}, \"yaxis\": {\"anchor\": \"x\", \"domain\": [0.0, 1.0], \"title\": {\"text\": \"Count\"}}},                        {\"responsive\": true}                    ).then(function(){\n",
              "                            \n",
              "var gd = document.getElementById('ef72d305-dcd4-4975-93f0-363d8b0537dd');\n",
              "var x = new MutationObserver(function (mutations, observer) {{\n",
              "        var display = window.getComputedStyle(gd).display;\n",
              "        if (!display || display === 'none') {{\n",
              "            console.log([gd, 'removed!']);\n",
              "            Plotly.purge(gd);\n",
              "            observer.disconnect();\n",
              "        }}\n",
              "}});\n",
              "\n",
              "// Listen for the removal of the full notebook cells\n",
              "var notebookContainer = gd.closest('#notebook-container');\n",
              "if (notebookContainer) {{\n",
              "    x.observe(notebookContainer, {childList: true});\n",
              "}}\n",
              "\n",
              "// Listen for the clearing of the current output cell\n",
              "var outputEl = gd.closest('.output');\n",
              "if (outputEl) {{\n",
              "    x.observe(outputEl, {childList: true});\n",
              "}}\n",
              "\n",
              "                        })                };                            </script>        </div>\n",
              "</body>\n",
              "</html>"
            ]
          },
          "metadata": {
            "tags": []
          }
        }
      ]
    },
    {
      "cell_type": "markdown",
      "metadata": {
        "id": "3d565fda"
      },
      "source": [
        "#### EDUCATIONAL LEVEL OF THE EMPLOYEES"
      ],
      "id": "3d565fda"
    },
    {
      "cell_type": "code",
      "metadata": {
        "colab": {
          "base_uri": "https://localhost:8080/",
          "height": 421
        },
        "id": "65513713",
        "outputId": "5d61011c-2348-4ef1-806e-177d8091704d"
      },
      "source": [
        "#hide_input\n",
        "e = dict(data['EDUCATION_DESC'].value_counts())\n",
        "insight5 = pd.DataFrame()\n",
        "e = dict(sorted(e.items(), key=operator.itemgetter(1), reverse=True)[:15])\n",
        "insight5['EDUCATION'] = e.keys()\n",
        "insight5['Count'] = e.values()\n",
        "insight5"
      ],
      "id": "65513713",
      "execution_count": null,
      "outputs": [
        {
          "output_type": "execute_result",
          "data": {
            "text/html": [
              "<div>\n",
              "<style scoped>\n",
              "    .dataframe tbody tr th:only-of-type {\n",
              "        vertical-align: middle;\n",
              "    }\n",
              "\n",
              "    .dataframe tbody tr th {\n",
              "        vertical-align: top;\n",
              "    }\n",
              "\n",
              "    .dataframe thead th {\n",
              "        text-align: right;\n",
              "    }\n",
              "</style>\n",
              "<table border=\"1\" class=\"dataframe\">\n",
              "  <thead>\n",
              "    <tr style=\"text-align: right;\">\n",
              "      <th></th>\n",
              "      <th>EDUCATION</th>\n",
              "      <th>Count</th>\n",
              "    </tr>\n",
              "  </thead>\n",
              "  <tbody>\n",
              "    <tr>\n",
              "      <th>0</th>\n",
              "      <td>متوسط</td>\n",
              "      <td>801314</td>\n",
              "    </tr>\n",
              "    <tr>\n",
              "      <th>1</th>\n",
              "      <td>ثانوية</td>\n",
              "      <td>371240</td>\n",
              "    </tr>\n",
              "    <tr>\n",
              "      <th>2</th>\n",
              "      <td>جامعى</td>\n",
              "      <td>144232</td>\n",
              "    </tr>\n",
              "    <tr>\n",
              "      <th>3</th>\n",
              "      <td>ابتدائي</td>\n",
              "      <td>104106</td>\n",
              "    </tr>\n",
              "    <tr>\n",
              "      <th>4</th>\n",
              "      <td></td>\n",
              "      <td>94649</td>\n",
              "    </tr>\n",
              "    <tr>\n",
              "      <th>5</th>\n",
              "      <td>خبرة وبدون مؤهل</td>\n",
              "      <td>22210</td>\n",
              "    </tr>\n",
              "    <tr>\n",
              "      <th>6</th>\n",
              "      <td>دبلوم</td>\n",
              "      <td>18131</td>\n",
              "    </tr>\n",
              "    <tr>\n",
              "      <th>7</th>\n",
              "      <td>جامعي</td>\n",
              "      <td>12670</td>\n",
              "    </tr>\n",
              "    <tr>\n",
              "      <th>8</th>\n",
              "      <td>دبلوم دراسات عليا سنة بعد الجامعى</td>\n",
              "      <td>2387</td>\n",
              "    </tr>\n",
              "    <tr>\n",
              "      <th>9</th>\n",
              "      <td>ماجستير</td>\n",
              "      <td>1684</td>\n",
              "    </tr>\n",
              "    <tr>\n",
              "      <th>10</th>\n",
              "      <td>دبلوم دراسات عليا سنتان بعد الجامعى</td>\n",
              "      <td>734</td>\n",
              "    </tr>\n",
              "    <tr>\n",
              "      <th>11</th>\n",
              "      <td>دكتوراه</td>\n",
              "      <td>683</td>\n",
              "    </tr>\n",
              "  </tbody>\n",
              "</table>\n",
              "</div>"
            ],
            "text/plain": [
              "                              EDUCATION   Count\n",
              "0                                 متوسط  801314\n",
              "1                                ثانوية  371240\n",
              "2                                 جامعى  144232\n",
              "3                               ابتدائي  104106\n",
              "4                                         94649\n",
              "5                       خبرة وبدون مؤهل   22210\n",
              "6                                 دبلوم   18131\n",
              "7                                 جامعي   12670\n",
              "8     دبلوم دراسات عليا سنة بعد الجامعى    2387\n",
              "9                               ماجستير    1684\n",
              "10  دبلوم دراسات عليا سنتان بعد الجامعى     734\n",
              "11                              دكتوراه     683"
            ]
          },
          "metadata": {
            "tags": []
          },
          "execution_count": 42
        }
      ]
    },
    {
      "cell_type": "code",
      "metadata": {
        "colab": {
          "base_uri": "https://localhost:8080/",
          "height": 542
        },
        "id": "a85973df",
        "outputId": "97c40de7-1ceb-4f02-8db8-a41135ed9754"
      },
      "source": [
        "#hide_input\n",
        "fig = px.treemap(insight5, path=['EDUCATION', 'Count'], values='Count',title = \"EDUCATIONAL level of the Employees\")\n",
        "fig.show()"
      ],
      "id": "a85973df",
      "execution_count": null,
      "outputs": [
        {
          "output_type": "display_data",
          "data": {
            "text/html": [
              "<html>\n",
              "<head><meta charset=\"utf-8\" /></head>\n",
              "<body>\n",
              "    <div>            <script src=\"https://cdnjs.cloudflare.com/ajax/libs/mathjax/2.7.5/MathJax.js?config=TeX-AMS-MML_SVG\"></script><script type=\"text/javascript\">if (window.MathJax) {MathJax.Hub.Config({SVG: {font: \"STIX-Web\"}});}</script>                <script type=\"text/javascript\">window.PlotlyConfig = {MathJaxConfig: 'local'};</script>\n",
              "        <script src=\"https://cdn.plot.ly/plotly-latest.min.js\"></script>                <div id=\"16300ace-3b7c-43d5-bde9-188e4ea38d39\" class=\"plotly-graph-div\" style=\"height:525px; width:100%;\"></div>            <script type=\"text/javascript\">                                    window.PLOTLYENV=window.PLOTLYENV || {};                                    if (document.getElementById(\"16300ace-3b7c-43d5-bde9-188e4ea38d39\")) {                    Plotly.newPlot(                        \"16300ace-3b7c-43d5-bde9-188e4ea38d39\",                        [{\"branchvalues\": \"total\", \"domain\": {\"x\": [0.0, 1.0], \"y\": [0.0, 1.0]}, \"hovertemplate\": \"labels=%{label}<br>Count=%{value}<br>parent=%{parent}<br>id=%{id}<extra></extra>\", \"ids\": [\"\\u062f\\u0643\\u062a\\u0648\\u0631\\u0627\\u0647/683\", \"\\u062f\\u0628\\u0644\\u0648\\u0645 \\u062f\\u0631\\u0627\\u0633\\u0627\\u062a \\u0639\\u0644\\u064a\\u0627 \\u0633\\u0646\\u062a\\u0627\\u0646 \\u0628\\u0639\\u062f \\u0627\\u0644\\u062c\\u0627\\u0645\\u0639\\u0649/734\", \"\\u0645\\u0627\\u062c\\u0633\\u062a\\u064a\\u0631/1684\", \"\\u062f\\u0628\\u0644\\u0648\\u0645 \\u062f\\u0631\\u0627\\u0633\\u0627\\u062a \\u0639\\u0644\\u064a\\u0627 \\u0633\\u0646\\u0629 \\u0628\\u0639\\u062f \\u0627\\u0644\\u062c\\u0627\\u0645\\u0639\\u0649/2387\", \"\\u062c\\u0627\\u0645\\u0639\\u064a/12670\", \"\\u062f\\u0628\\u0644\\u0648\\u0645/18131\", \"\\u062e\\u0628\\u0631\\u0629 \\u0648\\u0628\\u062f\\u0648\\u0646 \\u0645\\u0624\\u0647\\u0644/22210\", \"/94649\", \"\\u0627\\u0628\\u062a\\u062f\\u0627\\u0626\\u064a/104106\", \"\\u062c\\u0627\\u0645\\u0639\\u0649/144232\", \"\\u062b\\u0627\\u0646\\u0648\\u064a\\u0629/371240\", \"\\u0645\\u062a\\u0648\\u0633\\u0637/801314\", \"\", \"\\u0627\\u0628\\u062a\\u062f\\u0627\\u0626\\u064a\", \"\\u062b\\u0627\\u0646\\u0648\\u064a\\u0629\", \"\\u062c\\u0627\\u0645\\u0639\\u0649\", \"\\u062c\\u0627\\u0645\\u0639\\u064a\", \"\\u062e\\u0628\\u0631\\u0629 \\u0648\\u0628\\u062f\\u0648\\u0646 \\u0645\\u0624\\u0647\\u0644\", \"\\u062f\\u0628\\u0644\\u0648\\u0645\", \"\\u062f\\u0628\\u0644\\u0648\\u0645 \\u062f\\u0631\\u0627\\u0633\\u0627\\u062a \\u0639\\u0644\\u064a\\u0627 \\u0633\\u0646\\u0629 \\u0628\\u0639\\u062f \\u0627\\u0644\\u062c\\u0627\\u0645\\u0639\\u0649\", \"\\u062f\\u0628\\u0644\\u0648\\u0645 \\u062f\\u0631\\u0627\\u0633\\u0627\\u062a \\u0639\\u0644\\u064a\\u0627 \\u0633\\u0646\\u062a\\u0627\\u0646 \\u0628\\u0639\\u062f \\u0627\\u0644\\u062c\\u0627\\u0645\\u0639\\u0649\", \"\\u062f\\u0643\\u062a\\u0648\\u0631\\u0627\\u0647\", \"\\u0645\\u0627\\u062c\\u0633\\u062a\\u064a\\u0631\", \"\\u0645\\u062a\\u0648\\u0633\\u0637\"], \"labels\": [\"683\", \"734\", \"1684\", \"2387\", \"12670\", \"18131\", \"22210\", \"94649\", \"104106\", \"144232\", \"371240\", \"801314\", \"\", \"\\u0627\\u0628\\u062a\\u062f\\u0627\\u0626\\u064a\", \"\\u062b\\u0627\\u0646\\u0648\\u064a\\u0629\", \"\\u062c\\u0627\\u0645\\u0639\\u0649\", \"\\u062c\\u0627\\u0645\\u0639\\u064a\", \"\\u062e\\u0628\\u0631\\u0629 \\u0648\\u0628\\u062f\\u0648\\u0646 \\u0645\\u0624\\u0647\\u0644\", \"\\u062f\\u0628\\u0644\\u0648\\u0645\", \"\\u062f\\u0628\\u0644\\u0648\\u0645 \\u062f\\u0631\\u0627\\u0633\\u0627\\u062a \\u0639\\u0644\\u064a\\u0627 \\u0633\\u0646\\u0629 \\u0628\\u0639\\u062f \\u0627\\u0644\\u062c\\u0627\\u0645\\u0639\\u0649\", \"\\u062f\\u0628\\u0644\\u0648\\u0645 \\u062f\\u0631\\u0627\\u0633\\u0627\\u062a \\u0639\\u0644\\u064a\\u0627 \\u0633\\u0646\\u062a\\u0627\\u0646 \\u0628\\u0639\\u062f \\u0627\\u0644\\u062c\\u0627\\u0645\\u0639\\u0649\", \"\\u062f\\u0643\\u062a\\u0648\\u0631\\u0627\\u0647\", \"\\u0645\\u0627\\u062c\\u0633\\u062a\\u064a\\u0631\", \"\\u0645\\u062a\\u0648\\u0633\\u0637\"], \"name\": \"\", \"parents\": [\"\\u062f\\u0643\\u062a\\u0648\\u0631\\u0627\\u0647\", \"\\u062f\\u0628\\u0644\\u0648\\u0645 \\u062f\\u0631\\u0627\\u0633\\u0627\\u062a \\u0639\\u0644\\u064a\\u0627 \\u0633\\u0646\\u062a\\u0627\\u0646 \\u0628\\u0639\\u062f \\u0627\\u0644\\u062c\\u0627\\u0645\\u0639\\u0649\", \"\\u0645\\u0627\\u062c\\u0633\\u062a\\u064a\\u0631\", \"\\u062f\\u0628\\u0644\\u0648\\u0645 \\u062f\\u0631\\u0627\\u0633\\u0627\\u062a \\u0639\\u0644\\u064a\\u0627 \\u0633\\u0646\\u0629 \\u0628\\u0639\\u062f \\u0627\\u0644\\u062c\\u0627\\u0645\\u0639\\u0649\", \"\\u062c\\u0627\\u0645\\u0639\\u064a\", \"\\u062f\\u0628\\u0644\\u0648\\u0645\", \"\\u062e\\u0628\\u0631\\u0629 \\u0648\\u0628\\u062f\\u0648\\u0646 \\u0645\\u0624\\u0647\\u0644\", \"\", \"\\u0627\\u0628\\u062a\\u062f\\u0627\\u0626\\u064a\", \"\\u062c\\u0627\\u0645\\u0639\\u0649\", \"\\u062b\\u0627\\u0646\\u0648\\u064a\\u0629\", \"\\u0645\\u062a\\u0648\\u0633\\u0637\", \"\", \"\", \"\", \"\", \"\", \"\", \"\", \"\", \"\", \"\", \"\", \"\"], \"type\": \"treemap\", \"values\": [683, 734, 1684, 2387, 12670, 18131, 22210, 94649, 104106, 144232, 371240, 801314, 94649, 104106, 371240, 144232, 12670, 22210, 18131, 2387, 734, 683, 1684, 801314]}],                        {\"legend\": {\"tracegroupgap\": 0}, \"template\": {\"data\": {\"bar\": [{\"error_x\": {\"color\": \"#2a3f5f\"}, \"error_y\": {\"color\": \"#2a3f5f\"}, \"marker\": {\"line\": {\"color\": \"#E5ECF6\", \"width\": 0.5}}, \"type\": \"bar\"}], \"barpolar\": [{\"marker\": {\"line\": {\"color\": \"#E5ECF6\", \"width\": 0.5}}, \"type\": \"barpolar\"}], \"carpet\": [{\"aaxis\": {\"endlinecolor\": \"#2a3f5f\", \"gridcolor\": \"white\", \"linecolor\": \"white\", \"minorgridcolor\": \"white\", \"startlinecolor\": \"#2a3f5f\"}, \"baxis\": {\"endlinecolor\": \"#2a3f5f\", \"gridcolor\": \"white\", \"linecolor\": \"white\", \"minorgridcolor\": \"white\", \"startlinecolor\": \"#2a3f5f\"}, \"type\": \"carpet\"}], \"choropleth\": [{\"colorbar\": {\"outlinewidth\": 0, \"ticks\": \"\"}, \"type\": \"choropleth\"}], \"contour\": [{\"colorbar\": {\"outlinewidth\": 0, \"ticks\": \"\"}, \"colorscale\": [[0.0, \"#0d0887\"], [0.1111111111111111, \"#46039f\"], [0.2222222222222222, \"#7201a8\"], [0.3333333333333333, \"#9c179e\"], [0.4444444444444444, \"#bd3786\"], [0.5555555555555556, \"#d8576b\"], [0.6666666666666666, \"#ed7953\"], [0.7777777777777778, \"#fb9f3a\"], [0.8888888888888888, \"#fdca26\"], [1.0, \"#f0f921\"]], \"type\": \"contour\"}], \"contourcarpet\": [{\"colorbar\": {\"outlinewidth\": 0, \"ticks\": \"\"}, \"type\": \"contourcarpet\"}], \"heatmap\": [{\"colorbar\": {\"outlinewidth\": 0, \"ticks\": \"\"}, \"colorscale\": [[0.0, \"#0d0887\"], [0.1111111111111111, \"#46039f\"], [0.2222222222222222, \"#7201a8\"], [0.3333333333333333, \"#9c179e\"], [0.4444444444444444, \"#bd3786\"], [0.5555555555555556, \"#d8576b\"], [0.6666666666666666, \"#ed7953\"], [0.7777777777777778, \"#fb9f3a\"], [0.8888888888888888, \"#fdca26\"], [1.0, \"#f0f921\"]], \"type\": \"heatmap\"}], \"heatmapgl\": [{\"colorbar\": {\"outlinewidth\": 0, \"ticks\": \"\"}, \"colorscale\": [[0.0, \"#0d0887\"], [0.1111111111111111, \"#46039f\"], [0.2222222222222222, \"#7201a8\"], [0.3333333333333333, \"#9c179e\"], [0.4444444444444444, \"#bd3786\"], [0.5555555555555556, \"#d8576b\"], [0.6666666666666666, \"#ed7953\"], [0.7777777777777778, \"#fb9f3a\"], [0.8888888888888888, \"#fdca26\"], [1.0, \"#f0f921\"]], \"type\": \"heatmapgl\"}], \"histogram\": [{\"marker\": {\"colorbar\": {\"outlinewidth\": 0, \"ticks\": \"\"}}, \"type\": \"histogram\"}], \"histogram2d\": [{\"colorbar\": {\"outlinewidth\": 0, \"ticks\": \"\"}, \"colorscale\": [[0.0, \"#0d0887\"], [0.1111111111111111, \"#46039f\"], [0.2222222222222222, \"#7201a8\"], [0.3333333333333333, \"#9c179e\"], [0.4444444444444444, \"#bd3786\"], [0.5555555555555556, \"#d8576b\"], [0.6666666666666666, \"#ed7953\"], [0.7777777777777778, \"#fb9f3a\"], [0.8888888888888888, \"#fdca26\"], [1.0, \"#f0f921\"]], \"type\": \"histogram2d\"}], \"histogram2dcontour\": [{\"colorbar\": {\"outlinewidth\": 0, \"ticks\": \"\"}, \"colorscale\": [[0.0, \"#0d0887\"], [0.1111111111111111, \"#46039f\"], [0.2222222222222222, \"#7201a8\"], [0.3333333333333333, \"#9c179e\"], [0.4444444444444444, \"#bd3786\"], [0.5555555555555556, \"#d8576b\"], [0.6666666666666666, \"#ed7953\"], [0.7777777777777778, \"#fb9f3a\"], [0.8888888888888888, \"#fdca26\"], [1.0, \"#f0f921\"]], \"type\": \"histogram2dcontour\"}], \"mesh3d\": [{\"colorbar\": {\"outlinewidth\": 0, \"ticks\": \"\"}, \"type\": \"mesh3d\"}], \"parcoords\": [{\"line\": {\"colorbar\": {\"outlinewidth\": 0, \"ticks\": \"\"}}, \"type\": \"parcoords\"}], \"pie\": [{\"automargin\": true, \"type\": \"pie\"}], \"scatter\": [{\"marker\": {\"colorbar\": {\"outlinewidth\": 0, \"ticks\": \"\"}}, \"type\": \"scatter\"}], \"scatter3d\": [{\"line\": {\"colorbar\": {\"outlinewidth\": 0, \"ticks\": \"\"}}, \"marker\": {\"colorbar\": {\"outlinewidth\": 0, \"ticks\": \"\"}}, \"type\": \"scatter3d\"}], \"scattercarpet\": [{\"marker\": {\"colorbar\": {\"outlinewidth\": 0, \"ticks\": \"\"}}, \"type\": \"scattercarpet\"}], \"scattergeo\": [{\"marker\": {\"colorbar\": {\"outlinewidth\": 0, \"ticks\": \"\"}}, \"type\": \"scattergeo\"}], \"scattergl\": [{\"marker\": {\"colorbar\": {\"outlinewidth\": 0, \"ticks\": \"\"}}, \"type\": \"scattergl\"}], \"scattermapbox\": [{\"marker\": {\"colorbar\": {\"outlinewidth\": 0, \"ticks\": \"\"}}, \"type\": \"scattermapbox\"}], \"scatterpolar\": [{\"marker\": {\"colorbar\": {\"outlinewidth\": 0, \"ticks\": \"\"}}, \"type\": \"scatterpolar\"}], \"scatterpolargl\": [{\"marker\": {\"colorbar\": {\"outlinewidth\": 0, \"ticks\": \"\"}}, \"type\": \"scatterpolargl\"}], \"scatterternary\": [{\"marker\": {\"colorbar\": {\"outlinewidth\": 0, \"ticks\": \"\"}}, \"type\": \"scatterternary\"}], \"surface\": [{\"colorbar\": {\"outlinewidth\": 0, \"ticks\": \"\"}, \"colorscale\": [[0.0, \"#0d0887\"], [0.1111111111111111, \"#46039f\"], [0.2222222222222222, \"#7201a8\"], [0.3333333333333333, \"#9c179e\"], [0.4444444444444444, \"#bd3786\"], [0.5555555555555556, \"#d8576b\"], [0.6666666666666666, \"#ed7953\"], [0.7777777777777778, \"#fb9f3a\"], [0.8888888888888888, \"#fdca26\"], [1.0, \"#f0f921\"]], \"type\": \"surface\"}], \"table\": [{\"cells\": {\"fill\": {\"color\": \"#EBF0F8\"}, \"line\": {\"color\": \"white\"}}, \"header\": {\"fill\": {\"color\": \"#C8D4E3\"}, \"line\": {\"color\": \"white\"}}, \"type\": \"table\"}]}, \"layout\": {\"annotationdefaults\": {\"arrowcolor\": \"#2a3f5f\", \"arrowhead\": 0, \"arrowwidth\": 1}, \"autotypenumbers\": \"strict\", \"coloraxis\": {\"colorbar\": {\"outlinewidth\": 0, \"ticks\": \"\"}}, \"colorscale\": {\"diverging\": [[0, \"#8e0152\"], [0.1, \"#c51b7d\"], [0.2, \"#de77ae\"], [0.3, \"#f1b6da\"], [0.4, \"#fde0ef\"], [0.5, \"#f7f7f7\"], [0.6, \"#e6f5d0\"], [0.7, \"#b8e186\"], [0.8, \"#7fbc41\"], [0.9, \"#4d9221\"], [1, \"#276419\"]], \"sequential\": [[0.0, \"#0d0887\"], [0.1111111111111111, \"#46039f\"], [0.2222222222222222, \"#7201a8\"], [0.3333333333333333, \"#9c179e\"], [0.4444444444444444, \"#bd3786\"], [0.5555555555555556, \"#d8576b\"], [0.6666666666666666, \"#ed7953\"], [0.7777777777777778, \"#fb9f3a\"], [0.8888888888888888, \"#fdca26\"], [1.0, \"#f0f921\"]], \"sequentialminus\": [[0.0, \"#0d0887\"], [0.1111111111111111, \"#46039f\"], [0.2222222222222222, \"#7201a8\"], [0.3333333333333333, \"#9c179e\"], [0.4444444444444444, \"#bd3786\"], [0.5555555555555556, \"#d8576b\"], [0.6666666666666666, \"#ed7953\"], [0.7777777777777778, \"#fb9f3a\"], [0.8888888888888888, \"#fdca26\"], [1.0, \"#f0f921\"]]}, \"colorway\": [\"#636efa\", \"#EF553B\", \"#00cc96\", \"#ab63fa\", \"#FFA15A\", \"#19d3f3\", \"#FF6692\", \"#B6E880\", \"#FF97FF\", \"#FECB52\"], \"font\": {\"color\": \"#2a3f5f\"}, \"geo\": {\"bgcolor\": \"white\", \"lakecolor\": \"white\", \"landcolor\": \"#E5ECF6\", \"showlakes\": true, \"showland\": true, \"subunitcolor\": \"white\"}, \"hoverlabel\": {\"align\": \"left\"}, \"hovermode\": \"closest\", \"mapbox\": {\"style\": \"light\"}, \"paper_bgcolor\": \"white\", \"plot_bgcolor\": \"#E5ECF6\", \"polar\": {\"angularaxis\": {\"gridcolor\": \"white\", \"linecolor\": \"white\", \"ticks\": \"\"}, \"bgcolor\": \"#E5ECF6\", \"radialaxis\": {\"gridcolor\": \"white\", \"linecolor\": \"white\", \"ticks\": \"\"}}, \"scene\": {\"xaxis\": {\"backgroundcolor\": \"#E5ECF6\", \"gridcolor\": \"white\", \"gridwidth\": 2, \"linecolor\": \"white\", \"showbackground\": true, \"ticks\": \"\", \"zerolinecolor\": \"white\"}, \"yaxis\": {\"backgroundcolor\": \"#E5ECF6\", \"gridcolor\": \"white\", \"gridwidth\": 2, \"linecolor\": \"white\", \"showbackground\": true, \"ticks\": \"\", \"zerolinecolor\": \"white\"}, \"zaxis\": {\"backgroundcolor\": \"#E5ECF6\", \"gridcolor\": \"white\", \"gridwidth\": 2, \"linecolor\": \"white\", \"showbackground\": true, \"ticks\": \"\", \"zerolinecolor\": \"white\"}}, \"shapedefaults\": {\"line\": {\"color\": \"#2a3f5f\"}}, \"ternary\": {\"aaxis\": {\"gridcolor\": \"white\", \"linecolor\": \"white\", \"ticks\": \"\"}, \"baxis\": {\"gridcolor\": \"white\", \"linecolor\": \"white\", \"ticks\": \"\"}, \"bgcolor\": \"#E5ECF6\", \"caxis\": {\"gridcolor\": \"white\", \"linecolor\": \"white\", \"ticks\": \"\"}}, \"title\": {\"x\": 0.05}, \"xaxis\": {\"automargin\": true, \"gridcolor\": \"white\", \"linecolor\": \"white\", \"ticks\": \"\", \"title\": {\"standoff\": 15}, \"zerolinecolor\": \"white\", \"zerolinewidth\": 2}, \"yaxis\": {\"automargin\": true, \"gridcolor\": \"white\", \"linecolor\": \"white\", \"ticks\": \"\", \"title\": {\"standoff\": 15}, \"zerolinecolor\": \"white\", \"zerolinewidth\": 2}}}, \"title\": {\"text\": \"EDUCATIONAL level of the Employees\"}},                        {\"responsive\": true}                    ).then(function(){\n",
              "                            \n",
              "var gd = document.getElementById('16300ace-3b7c-43d5-bde9-188e4ea38d39');\n",
              "var x = new MutationObserver(function (mutations, observer) {{\n",
              "        var display = window.getComputedStyle(gd).display;\n",
              "        if (!display || display === 'none') {{\n",
              "            console.log([gd, 'removed!']);\n",
              "            Plotly.purge(gd);\n",
              "            observer.disconnect();\n",
              "        }}\n",
              "}});\n",
              "\n",
              "// Listen for the removal of the full notebook cells\n",
              "var notebookContainer = gd.closest('#notebook-container');\n",
              "if (notebookContainer) {{\n",
              "    x.observe(notebookContainer, {childList: true});\n",
              "}}\n",
              "\n",
              "// Listen for the clearing of the current output cell\n",
              "var outputEl = gd.closest('.output');\n",
              "if (outputEl) {{\n",
              "    x.observe(outputEl, {childList: true});\n",
              "}}\n",
              "\n",
              "                        })                };                            </script>        </div>\n",
              "</body>\n",
              "</html>"
            ]
          },
          "metadata": {
            "tags": []
          }
        }
      ]
    },
    {
      "cell_type": "markdown",
      "metadata": {
        "id": "d7d629d6"
      },
      "source": [
        "#### GOVERNORATE RANKING ON THE BASIS OF FREQUENCY FROM Highest TO LEAST"
      ],
      "id": "d7d629d6"
    },
    {
      "cell_type": "code",
      "metadata": {
        "colab": {
          "base_uri": "https://localhost:8080/",
          "height": 266
        },
        "id": "f508bf7e",
        "outputId": "348fd3cf-86e9-4a3d-e289-8da71e2cc361"
      },
      "source": [
        "#hide_input\n",
        "f = dict(data['GOVERNORATE_DESC'].value_counts())\n",
        "insight6 = pd.DataFrame()\n",
        "f = dict(sorted(f.items(), key=operator.itemgetter(1), reverse=True)[:7])\n",
        "insight6['GOVERNORATE DESC'] = f.keys()\n",
        "insight6['Count'] = f.values()\n",
        "insight6['Ranking'] = insight6.index+1\n",
        "insight6"
      ],
      "id": "f508bf7e",
      "execution_count": null,
      "outputs": [
        {
          "output_type": "execute_result",
          "data": {
            "text/html": [
              "<div>\n",
              "<style scoped>\n",
              "    .dataframe tbody tr th:only-of-type {\n",
              "        vertical-align: middle;\n",
              "    }\n",
              "\n",
              "    .dataframe tbody tr th {\n",
              "        vertical-align: top;\n",
              "    }\n",
              "\n",
              "    .dataframe thead th {\n",
              "        text-align: right;\n",
              "    }\n",
              "</style>\n",
              "<table border=\"1\" class=\"dataframe\">\n",
              "  <thead>\n",
              "    <tr style=\"text-align: right;\">\n",
              "      <th></th>\n",
              "      <th>GOVERNORATE DESC</th>\n",
              "      <th>Count</th>\n",
              "      <th>Ranking</th>\n",
              "    </tr>\n",
              "  </thead>\n",
              "  <tbody>\n",
              "    <tr>\n",
              "      <th>0</th>\n",
              "      <td>محافظة العاصمة</td>\n",
              "      <td>378777</td>\n",
              "      <td>1</td>\n",
              "    </tr>\n",
              "    <tr>\n",
              "      <th>1</th>\n",
              "      <td>العقود الحكومية</td>\n",
              "      <td>354674</td>\n",
              "      <td>2</td>\n",
              "    </tr>\n",
              "    <tr>\n",
              "      <th>2</th>\n",
              "      <td>محافظة الفروانية</td>\n",
              "      <td>221482</td>\n",
              "      <td>3</td>\n",
              "    </tr>\n",
              "    <tr>\n",
              "      <th>3</th>\n",
              "      <td>محافظة مبارك الكبير</td>\n",
              "      <td>186621</td>\n",
              "      <td>4</td>\n",
              "    </tr>\n",
              "    <tr>\n",
              "      <th>4</th>\n",
              "      <td>محافظة حولي</td>\n",
              "      <td>179403</td>\n",
              "      <td>5</td>\n",
              "    </tr>\n",
              "    <tr>\n",
              "      <th>5</th>\n",
              "      <td>محافظة الاحمدي</td>\n",
              "      <td>153552</td>\n",
              "      <td>6</td>\n",
              "    </tr>\n",
              "    <tr>\n",
              "      <th>6</th>\n",
              "      <td>محافظة الجهراء</td>\n",
              "      <td>99531</td>\n",
              "      <td>7</td>\n",
              "    </tr>\n",
              "  </tbody>\n",
              "</table>\n",
              "</div>"
            ],
            "text/plain": [
              "      GOVERNORATE DESC   Count  Ranking\n",
              "0       محافظة العاصمة  378777        1\n",
              "1      العقود الحكومية  354674        2\n",
              "2     محافظة الفروانية  221482        3\n",
              "3  محافظة مبارك الكبير  186621        4\n",
              "4          محافظة حولي  179403        5\n",
              "5       محافظة الاحمدي  153552        6\n",
              "6       محافظة الجهراء   99531        7"
            ]
          },
          "metadata": {
            "tags": []
          },
          "execution_count": 44
        }
      ]
    },
    {
      "cell_type": "code",
      "metadata": {
        "colab": {
          "base_uri": "https://localhost:8080/",
          "height": 542
        },
        "id": "5ef9dcfe",
        "outputId": "54894646-62dd-4d74-abfa-b5153092b250"
      },
      "source": [
        "#hide_input\n",
        "fig = px.bar(insight6,x=\"GOVERNORATE DESC\",y=\"Count\",color=\"Ranking\",text=\"Count\",title = \"GOVERNORATE Ranking on the basis of Occurrence\")\n",
        "fig.show()"
      ],
      "id": "5ef9dcfe",
      "execution_count": null,
      "outputs": [
        {
          "output_type": "display_data",
          "data": {
            "text/html": [
              "<html>\n",
              "<head><meta charset=\"utf-8\" /></head>\n",
              "<body>\n",
              "    <div>            <script src=\"https://cdnjs.cloudflare.com/ajax/libs/mathjax/2.7.5/MathJax.js?config=TeX-AMS-MML_SVG\"></script><script type=\"text/javascript\">if (window.MathJax) {MathJax.Hub.Config({SVG: {font: \"STIX-Web\"}});}</script>                <script type=\"text/javascript\">window.PlotlyConfig = {MathJaxConfig: 'local'};</script>\n",
              "        <script src=\"https://cdn.plot.ly/plotly-latest.min.js\"></script>                <div id=\"2fb5d5f2-05ea-40a8-aea5-5cb19a1de3d7\" class=\"plotly-graph-div\" style=\"height:525px; width:100%;\"></div>            <script type=\"text/javascript\">                                    window.PLOTLYENV=window.PLOTLYENV || {};                                    if (document.getElementById(\"2fb5d5f2-05ea-40a8-aea5-5cb19a1de3d7\")) {                    Plotly.newPlot(                        \"2fb5d5f2-05ea-40a8-aea5-5cb19a1de3d7\",                        [{\"alignmentgroup\": \"True\", \"hovertemplate\": \"GOVERNORATE DESC=%{x}<br>Count=%{text}<br>Ranking=%{marker.color}<extra></extra>\", \"legendgroup\": \"\", \"marker\": {\"color\": [1, 2, 3, 4, 5, 6, 7], \"coloraxis\": \"coloraxis\"}, \"name\": \"\", \"offsetgroup\": \"\", \"orientation\": \"v\", \"showlegend\": false, \"text\": [378777.0, 354674.0, 221482.0, 186621.0, 179403.0, 153552.0, 99531.0], \"textposition\": \"auto\", \"type\": \"bar\", \"x\": [\"\\u0645\\u062d\\u0627\\u0641\\u0638\\u0629 \\u0627\\u0644\\u0639\\u0627\\u0635\\u0645\\u0629\", \"\\u0627\\u0644\\u0639\\u0642\\u0648\\u062f \\u0627\\u0644\\u062d\\u0643\\u0648\\u0645\\u064a\\u0629\", \"\\u0645\\u062d\\u0627\\u0641\\u0638\\u0629 \\u0627\\u0644\\u0641\\u0631\\u0648\\u0627\\u0646\\u064a\\u0629\", \"\\u0645\\u062d\\u0627\\u0641\\u0638\\u0629 \\u0645\\u0628\\u0627\\u0631\\u0643 \\u0627\\u0644\\u0643\\u0628\\u064a\\u0631\", \"\\u0645\\u062d\\u0627\\u0641\\u0638\\u0629 \\u062d\\u0648\\u0644\\u064a\", \"\\u0645\\u062d\\u0627\\u0641\\u0638\\u0629 \\u0627\\u0644\\u0627\\u062d\\u0645\\u062f\\u064a\", \"\\u0645\\u062d\\u0627\\u0641\\u0638\\u0629 \\u0627\\u0644\\u062c\\u0647\\u0631\\u0627\\u0621\"], \"xaxis\": \"x\", \"y\": [378777, 354674, 221482, 186621, 179403, 153552, 99531], \"yaxis\": \"y\"}],                        {\"barmode\": \"relative\", \"coloraxis\": {\"colorbar\": {\"title\": {\"text\": \"Ranking\"}}, \"colorscale\": [[0.0, \"#0d0887\"], [0.1111111111111111, \"#46039f\"], [0.2222222222222222, \"#7201a8\"], [0.3333333333333333, \"#9c179e\"], [0.4444444444444444, \"#bd3786\"], [0.5555555555555556, \"#d8576b\"], [0.6666666666666666, \"#ed7953\"], [0.7777777777777778, \"#fb9f3a\"], [0.8888888888888888, \"#fdca26\"], [1.0, \"#f0f921\"]]}, \"legend\": {\"tracegroupgap\": 0}, \"template\": {\"data\": {\"bar\": [{\"error_x\": {\"color\": \"#2a3f5f\"}, \"error_y\": {\"color\": \"#2a3f5f\"}, \"marker\": {\"line\": {\"color\": \"#E5ECF6\", \"width\": 0.5}}, \"type\": \"bar\"}], \"barpolar\": [{\"marker\": {\"line\": {\"color\": \"#E5ECF6\", \"width\": 0.5}}, \"type\": \"barpolar\"}], \"carpet\": [{\"aaxis\": {\"endlinecolor\": \"#2a3f5f\", \"gridcolor\": \"white\", \"linecolor\": \"white\", \"minorgridcolor\": \"white\", \"startlinecolor\": \"#2a3f5f\"}, \"baxis\": {\"endlinecolor\": \"#2a3f5f\", \"gridcolor\": \"white\", \"linecolor\": \"white\", \"minorgridcolor\": \"white\", \"startlinecolor\": \"#2a3f5f\"}, \"type\": \"carpet\"}], \"choropleth\": [{\"colorbar\": {\"outlinewidth\": 0, \"ticks\": \"\"}, \"type\": \"choropleth\"}], \"contour\": [{\"colorbar\": {\"outlinewidth\": 0, \"ticks\": \"\"}, \"colorscale\": [[0.0, \"#0d0887\"], [0.1111111111111111, \"#46039f\"], [0.2222222222222222, \"#7201a8\"], [0.3333333333333333, \"#9c179e\"], [0.4444444444444444, \"#bd3786\"], [0.5555555555555556, \"#d8576b\"], [0.6666666666666666, \"#ed7953\"], [0.7777777777777778, \"#fb9f3a\"], [0.8888888888888888, \"#fdca26\"], [1.0, \"#f0f921\"]], \"type\": \"contour\"}], \"contourcarpet\": [{\"colorbar\": {\"outlinewidth\": 0, \"ticks\": \"\"}, \"type\": \"contourcarpet\"}], \"heatmap\": [{\"colorbar\": {\"outlinewidth\": 0, \"ticks\": \"\"}, \"colorscale\": [[0.0, \"#0d0887\"], [0.1111111111111111, \"#46039f\"], [0.2222222222222222, \"#7201a8\"], [0.3333333333333333, \"#9c179e\"], [0.4444444444444444, \"#bd3786\"], [0.5555555555555556, \"#d8576b\"], [0.6666666666666666, \"#ed7953\"], [0.7777777777777778, \"#fb9f3a\"], [0.8888888888888888, \"#fdca26\"], [1.0, \"#f0f921\"]], \"type\": \"heatmap\"}], \"heatmapgl\": [{\"colorbar\": {\"outlinewidth\": 0, \"ticks\": \"\"}, \"colorscale\": [[0.0, \"#0d0887\"], [0.1111111111111111, \"#46039f\"], [0.2222222222222222, \"#7201a8\"], [0.3333333333333333, \"#9c179e\"], [0.4444444444444444, \"#bd3786\"], [0.5555555555555556, \"#d8576b\"], [0.6666666666666666, \"#ed7953\"], [0.7777777777777778, \"#fb9f3a\"], [0.8888888888888888, \"#fdca26\"], [1.0, \"#f0f921\"]], \"type\": \"heatmapgl\"}], \"histogram\": [{\"marker\": {\"colorbar\": {\"outlinewidth\": 0, \"ticks\": \"\"}}, \"type\": \"histogram\"}], \"histogram2d\": [{\"colorbar\": {\"outlinewidth\": 0, \"ticks\": \"\"}, \"colorscale\": [[0.0, \"#0d0887\"], [0.1111111111111111, \"#46039f\"], [0.2222222222222222, \"#7201a8\"], [0.3333333333333333, \"#9c179e\"], [0.4444444444444444, \"#bd3786\"], [0.5555555555555556, \"#d8576b\"], [0.6666666666666666, \"#ed7953\"], [0.7777777777777778, \"#fb9f3a\"], [0.8888888888888888, \"#fdca26\"], [1.0, \"#f0f921\"]], \"type\": \"histogram2d\"}], \"histogram2dcontour\": [{\"colorbar\": {\"outlinewidth\": 0, \"ticks\": \"\"}, \"colorscale\": [[0.0, \"#0d0887\"], [0.1111111111111111, \"#46039f\"], [0.2222222222222222, \"#7201a8\"], [0.3333333333333333, \"#9c179e\"], [0.4444444444444444, \"#bd3786\"], [0.5555555555555556, \"#d8576b\"], [0.6666666666666666, \"#ed7953\"], [0.7777777777777778, \"#fb9f3a\"], [0.8888888888888888, \"#fdca26\"], [1.0, \"#f0f921\"]], \"type\": \"histogram2dcontour\"}], \"mesh3d\": [{\"colorbar\": {\"outlinewidth\": 0, \"ticks\": \"\"}, \"type\": \"mesh3d\"}], \"parcoords\": [{\"line\": {\"colorbar\": {\"outlinewidth\": 0, \"ticks\": \"\"}}, \"type\": \"parcoords\"}], \"pie\": [{\"automargin\": true, \"type\": \"pie\"}], \"scatter\": [{\"marker\": {\"colorbar\": {\"outlinewidth\": 0, \"ticks\": \"\"}}, \"type\": \"scatter\"}], \"scatter3d\": [{\"line\": {\"colorbar\": {\"outlinewidth\": 0, \"ticks\": \"\"}}, \"marker\": {\"colorbar\": {\"outlinewidth\": 0, \"ticks\": \"\"}}, \"type\": \"scatter3d\"}], \"scattercarpet\": [{\"marker\": {\"colorbar\": {\"outlinewidth\": 0, \"ticks\": \"\"}}, \"type\": \"scattercarpet\"}], \"scattergeo\": [{\"marker\": {\"colorbar\": {\"outlinewidth\": 0, \"ticks\": \"\"}}, \"type\": \"scattergeo\"}], \"scattergl\": [{\"marker\": {\"colorbar\": {\"outlinewidth\": 0, \"ticks\": \"\"}}, \"type\": \"scattergl\"}], \"scattermapbox\": [{\"marker\": {\"colorbar\": {\"outlinewidth\": 0, \"ticks\": \"\"}}, \"type\": \"scattermapbox\"}], \"scatterpolar\": [{\"marker\": {\"colorbar\": {\"outlinewidth\": 0, \"ticks\": \"\"}}, \"type\": \"scatterpolar\"}], \"scatterpolargl\": [{\"marker\": {\"colorbar\": {\"outlinewidth\": 0, \"ticks\": \"\"}}, \"type\": \"scatterpolargl\"}], \"scatterternary\": [{\"marker\": {\"colorbar\": {\"outlinewidth\": 0, \"ticks\": \"\"}}, \"type\": \"scatterternary\"}], \"surface\": [{\"colorbar\": {\"outlinewidth\": 0, \"ticks\": \"\"}, \"colorscale\": [[0.0, \"#0d0887\"], [0.1111111111111111, \"#46039f\"], [0.2222222222222222, \"#7201a8\"], [0.3333333333333333, \"#9c179e\"], [0.4444444444444444, \"#bd3786\"], [0.5555555555555556, \"#d8576b\"], [0.6666666666666666, \"#ed7953\"], [0.7777777777777778, \"#fb9f3a\"], [0.8888888888888888, \"#fdca26\"], [1.0, \"#f0f921\"]], \"type\": \"surface\"}], \"table\": [{\"cells\": {\"fill\": {\"color\": \"#EBF0F8\"}, \"line\": {\"color\": \"white\"}}, \"header\": {\"fill\": {\"color\": \"#C8D4E3\"}, \"line\": {\"color\": \"white\"}}, \"type\": \"table\"}]}, \"layout\": {\"annotationdefaults\": {\"arrowcolor\": \"#2a3f5f\", \"arrowhead\": 0, \"arrowwidth\": 1}, \"autotypenumbers\": \"strict\", \"coloraxis\": {\"colorbar\": {\"outlinewidth\": 0, \"ticks\": \"\"}}, \"colorscale\": {\"diverging\": [[0, \"#8e0152\"], [0.1, \"#c51b7d\"], [0.2, \"#de77ae\"], [0.3, \"#f1b6da\"], [0.4, \"#fde0ef\"], [0.5, \"#f7f7f7\"], [0.6, \"#e6f5d0\"], [0.7, \"#b8e186\"], [0.8, \"#7fbc41\"], [0.9, \"#4d9221\"], [1, \"#276419\"]], \"sequential\": [[0.0, \"#0d0887\"], [0.1111111111111111, \"#46039f\"], [0.2222222222222222, \"#7201a8\"], [0.3333333333333333, \"#9c179e\"], [0.4444444444444444, \"#bd3786\"], [0.5555555555555556, \"#d8576b\"], [0.6666666666666666, \"#ed7953\"], [0.7777777777777778, \"#fb9f3a\"], [0.8888888888888888, \"#fdca26\"], [1.0, \"#f0f921\"]], \"sequentialminus\": [[0.0, \"#0d0887\"], [0.1111111111111111, \"#46039f\"], [0.2222222222222222, \"#7201a8\"], [0.3333333333333333, \"#9c179e\"], [0.4444444444444444, \"#bd3786\"], [0.5555555555555556, \"#d8576b\"], [0.6666666666666666, \"#ed7953\"], [0.7777777777777778, \"#fb9f3a\"], [0.8888888888888888, \"#fdca26\"], [1.0, \"#f0f921\"]]}, \"colorway\": [\"#636efa\", \"#EF553B\", \"#00cc96\", \"#ab63fa\", \"#FFA15A\", \"#19d3f3\", \"#FF6692\", \"#B6E880\", \"#FF97FF\", \"#FECB52\"], \"font\": {\"color\": \"#2a3f5f\"}, \"geo\": {\"bgcolor\": \"white\", \"lakecolor\": \"white\", \"landcolor\": \"#E5ECF6\", \"showlakes\": true, \"showland\": true, \"subunitcolor\": \"white\"}, \"hoverlabel\": {\"align\": \"left\"}, \"hovermode\": \"closest\", \"mapbox\": {\"style\": \"light\"}, \"paper_bgcolor\": \"white\", \"plot_bgcolor\": \"#E5ECF6\", \"polar\": {\"angularaxis\": {\"gridcolor\": \"white\", \"linecolor\": \"white\", \"ticks\": \"\"}, \"bgcolor\": \"#E5ECF6\", \"radialaxis\": {\"gridcolor\": \"white\", \"linecolor\": \"white\", \"ticks\": \"\"}}, \"scene\": {\"xaxis\": {\"backgroundcolor\": \"#E5ECF6\", \"gridcolor\": \"white\", \"gridwidth\": 2, \"linecolor\": \"white\", \"showbackground\": true, \"ticks\": \"\", \"zerolinecolor\": \"white\"}, \"yaxis\": {\"backgroundcolor\": \"#E5ECF6\", \"gridcolor\": \"white\", \"gridwidth\": 2, \"linecolor\": \"white\", \"showbackground\": true, \"ticks\": \"\", \"zerolinecolor\": \"white\"}, \"zaxis\": {\"backgroundcolor\": \"#E5ECF6\", \"gridcolor\": \"white\", \"gridwidth\": 2, \"linecolor\": \"white\", \"showbackground\": true, \"ticks\": \"\", \"zerolinecolor\": \"white\"}}, \"shapedefaults\": {\"line\": {\"color\": \"#2a3f5f\"}}, \"ternary\": {\"aaxis\": {\"gridcolor\": \"white\", \"linecolor\": \"white\", \"ticks\": \"\"}, \"baxis\": {\"gridcolor\": \"white\", \"linecolor\": \"white\", \"ticks\": \"\"}, \"bgcolor\": \"#E5ECF6\", \"caxis\": {\"gridcolor\": \"white\", \"linecolor\": \"white\", \"ticks\": \"\"}}, \"title\": {\"x\": 0.05}, \"xaxis\": {\"automargin\": true, \"gridcolor\": \"white\", \"linecolor\": \"white\", \"ticks\": \"\", \"title\": {\"standoff\": 15}, \"zerolinecolor\": \"white\", \"zerolinewidth\": 2}, \"yaxis\": {\"automargin\": true, \"gridcolor\": \"white\", \"linecolor\": \"white\", \"ticks\": \"\", \"title\": {\"standoff\": 15}, \"zerolinecolor\": \"white\", \"zerolinewidth\": 2}}}, \"title\": {\"text\": \"GOVERNORATE Ranking on the basis of Occurrence\"}, \"xaxis\": {\"anchor\": \"y\", \"domain\": [0.0, 1.0], \"title\": {\"text\": \"GOVERNORATE DESC\"}}, \"yaxis\": {\"anchor\": \"x\", \"domain\": [0.0, 1.0], \"title\": {\"text\": \"Count\"}}},                        {\"responsive\": true}                    ).then(function(){\n",
              "                            \n",
              "var gd = document.getElementById('2fb5d5f2-05ea-40a8-aea5-5cb19a1de3d7');\n",
              "var x = new MutationObserver(function (mutations, observer) {{\n",
              "        var display = window.getComputedStyle(gd).display;\n",
              "        if (!display || display === 'none') {{\n",
              "            console.log([gd, 'removed!']);\n",
              "            Plotly.purge(gd);\n",
              "            observer.disconnect();\n",
              "        }}\n",
              "}});\n",
              "\n",
              "// Listen for the removal of the full notebook cells\n",
              "var notebookContainer = gd.closest('#notebook-container');\n",
              "if (notebookContainer) {{\n",
              "    x.observe(notebookContainer, {childList: true});\n",
              "}}\n",
              "\n",
              "// Listen for the clearing of the current output cell\n",
              "var outputEl = gd.closest('.output');\n",
              "if (outputEl) {{\n",
              "    x.observe(outputEl, {childList: true});\n",
              "}}\n",
              "\n",
              "                        })                };                            </script>        </div>\n",
              "</body>\n",
              "</html>"
            ]
          },
          "metadata": {
            "tags": []
          }
        }
      ]
    },
    {
      "cell_type": "markdown",
      "metadata": {
        "id": "0d6d12a0"
      },
      "source": [
        "#### MARITAL STATUS OF THE EMPLOYEES"
      ],
      "id": "0d6d12a0"
    },
    {
      "cell_type": "code",
      "metadata": {
        "colab": {
          "base_uri": "https://localhost:8080/",
          "height": 235
        },
        "id": "dc5ca985",
        "outputId": "a10229ab-8eed-4905-e4ca-c720d6872acc"
      },
      "source": [
        "#hide_input\n",
        "g = dict(data['MARITAL_STATUS_DESC'].value_counts())\n",
        "insight7 = pd.DataFrame()\n",
        "g = dict(sorted(g.items(), key=operator.itemgetter(1), reverse=True)[:6])\n",
        "insight7['MARITAL STATUS'] = g.keys()\n",
        "insight7['Count'] = g.values()\n",
        "insight7"
      ],
      "id": "dc5ca985",
      "execution_count": null,
      "outputs": [
        {
          "output_type": "execute_result",
          "data": {
            "text/html": [
              "<div>\n",
              "<style scoped>\n",
              "    .dataframe tbody tr th:only-of-type {\n",
              "        vertical-align: middle;\n",
              "    }\n",
              "\n",
              "    .dataframe tbody tr th {\n",
              "        vertical-align: top;\n",
              "    }\n",
              "\n",
              "    .dataframe thead th {\n",
              "        text-align: right;\n",
              "    }\n",
              "</style>\n",
              "<table border=\"1\" class=\"dataframe\">\n",
              "  <thead>\n",
              "    <tr style=\"text-align: right;\">\n",
              "      <th></th>\n",
              "      <th>MARITAL STATUS</th>\n",
              "      <th>Count</th>\n",
              "    </tr>\n",
              "  </thead>\n",
              "  <tbody>\n",
              "    <tr>\n",
              "      <th>0</th>\n",
              "      <td>متزوج</td>\n",
              "      <td>1232659</td>\n",
              "    </tr>\n",
              "    <tr>\n",
              "      <th>1</th>\n",
              "      <td>أعزب</td>\n",
              "      <td>319096</td>\n",
              "    </tr>\n",
              "    <tr>\n",
              "      <th>2</th>\n",
              "      <td></td>\n",
              "      <td>15968</td>\n",
              "    </tr>\n",
              "    <tr>\n",
              "      <th>3</th>\n",
              "      <td>غير معرف</td>\n",
              "      <td>3159</td>\n",
              "    </tr>\n",
              "    <tr>\n",
              "      <th>4</th>\n",
              "      <td>مطلق</td>\n",
              "      <td>2394</td>\n",
              "    </tr>\n",
              "    <tr>\n",
              "      <th>5</th>\n",
              "      <td>أرمل</td>\n",
              "      <td>764</td>\n",
              "    </tr>\n",
              "  </tbody>\n",
              "</table>\n",
              "</div>"
            ],
            "text/plain": [
              "  MARITAL STATUS    Count\n",
              "0          متزوج  1232659\n",
              "1           أعزب   319096\n",
              "2                   15968\n",
              "3       غير معرف     3159\n",
              "4           مطلق     2394\n",
              "5           أرمل      764"
            ]
          },
          "metadata": {
            "tags": []
          },
          "execution_count": 46
        }
      ]
    },
    {
      "cell_type": "code",
      "metadata": {
        "colab": {
          "base_uri": "https://localhost:8080/",
          "height": 542
        },
        "id": "fb11d8d1",
        "outputId": "aa5f6cf1-c059-4d4f-9945-3e4d3684c6b0"
      },
      "source": [
        "#hide_input\n",
        "fig = px.bar(insight7,x=\"MARITAL STATUS\",y=\"Count\",color=\"MARITAL STATUS\",text=\"Count\",title = \"MARITAL STATUS\")\n",
        "fig.show()"
      ],
      "id": "fb11d8d1",
      "execution_count": null,
      "outputs": [
        {
          "output_type": "display_data",
          "data": {
            "text/html": [
              "<html>\n",
              "<head><meta charset=\"utf-8\" /></head>\n",
              "<body>\n",
              "    <div>            <script src=\"https://cdnjs.cloudflare.com/ajax/libs/mathjax/2.7.5/MathJax.js?config=TeX-AMS-MML_SVG\"></script><script type=\"text/javascript\">if (window.MathJax) {MathJax.Hub.Config({SVG: {font: \"STIX-Web\"}});}</script>                <script type=\"text/javascript\">window.PlotlyConfig = {MathJaxConfig: 'local'};</script>\n",
              "        <script src=\"https://cdn.plot.ly/plotly-latest.min.js\"></script>                <div id=\"e424b1c6-d0c7-4115-8b68-03f513b1427a\" class=\"plotly-graph-div\" style=\"height:525px; width:100%;\"></div>            <script type=\"text/javascript\">                                    window.PLOTLYENV=window.PLOTLYENV || {};                                    if (document.getElementById(\"e424b1c6-d0c7-4115-8b68-03f513b1427a\")) {                    Plotly.newPlot(                        \"e424b1c6-d0c7-4115-8b68-03f513b1427a\",                        [{\"alignmentgroup\": \"True\", \"hovertemplate\": \"MARITAL STATUS=%{x}<br>Count=%{text}<extra></extra>\", \"legendgroup\": \"\\u0645\\u062a\\u0632\\u0648\\u062c\", \"marker\": {\"color\": \"#636efa\"}, \"name\": \"\\u0645\\u062a\\u0632\\u0648\\u062c\", \"offsetgroup\": \"\\u0645\\u062a\\u0632\\u0648\\u062c\", \"orientation\": \"v\", \"showlegend\": true, \"text\": [1232659.0], \"textposition\": \"auto\", \"type\": \"bar\", \"x\": [\"\\u0645\\u062a\\u0632\\u0648\\u062c\"], \"xaxis\": \"x\", \"y\": [1232659], \"yaxis\": \"y\"}, {\"alignmentgroup\": \"True\", \"hovertemplate\": \"MARITAL STATUS=%{x}<br>Count=%{text}<extra></extra>\", \"legendgroup\": \"\\u0623\\u0639\\u0632\\u0628\", \"marker\": {\"color\": \"#EF553B\"}, \"name\": \"\\u0623\\u0639\\u0632\\u0628\", \"offsetgroup\": \"\\u0623\\u0639\\u0632\\u0628\", \"orientation\": \"v\", \"showlegend\": true, \"text\": [319096.0], \"textposition\": \"auto\", \"type\": \"bar\", \"x\": [\"\\u0623\\u0639\\u0632\\u0628\"], \"xaxis\": \"x\", \"y\": [319096], \"yaxis\": \"y\"}, {\"alignmentgroup\": \"True\", \"hovertemplate\": \"MARITAL STATUS=%{x}<br>Count=%{text}<extra></extra>\", \"legendgroup\": \"\", \"marker\": {\"color\": \"#00cc96\"}, \"name\": \"\", \"offsetgroup\": \"\", \"orientation\": \"v\", \"showlegend\": false, \"text\": [15968.0], \"textposition\": \"auto\", \"type\": \"bar\", \"x\": [\"\"], \"xaxis\": \"x\", \"y\": [15968], \"yaxis\": \"y\"}, {\"alignmentgroup\": \"True\", \"hovertemplate\": \"MARITAL STATUS=%{x}<br>Count=%{text}<extra></extra>\", \"legendgroup\": \"\\u063a\\u064a\\u0631 \\u0645\\u0639\\u0631\\u0641\", \"marker\": {\"color\": \"#ab63fa\"}, \"name\": \"\\u063a\\u064a\\u0631 \\u0645\\u0639\\u0631\\u0641\", \"offsetgroup\": \"\\u063a\\u064a\\u0631 \\u0645\\u0639\\u0631\\u0641\", \"orientation\": \"v\", \"showlegend\": true, \"text\": [3159.0], \"textposition\": \"auto\", \"type\": \"bar\", \"x\": [\"\\u063a\\u064a\\u0631 \\u0645\\u0639\\u0631\\u0641\"], \"xaxis\": \"x\", \"y\": [3159], \"yaxis\": \"y\"}, {\"alignmentgroup\": \"True\", \"hovertemplate\": \"MARITAL STATUS=%{x}<br>Count=%{text}<extra></extra>\", \"legendgroup\": \"\\u0645\\u0637\\u0644\\u0642\", \"marker\": {\"color\": \"#FFA15A\"}, \"name\": \"\\u0645\\u0637\\u0644\\u0642\", \"offsetgroup\": \"\\u0645\\u0637\\u0644\\u0642\", \"orientation\": \"v\", \"showlegend\": true, \"text\": [2394.0], \"textposition\": \"auto\", \"type\": \"bar\", \"x\": [\"\\u0645\\u0637\\u0644\\u0642\"], \"xaxis\": \"x\", \"y\": [2394], \"yaxis\": \"y\"}, {\"alignmentgroup\": \"True\", \"hovertemplate\": \"MARITAL STATUS=%{x}<br>Count=%{text}<extra></extra>\", \"legendgroup\": \"\\u0623\\u0631\\u0645\\u0644\", \"marker\": {\"color\": \"#19d3f3\"}, \"name\": \"\\u0623\\u0631\\u0645\\u0644\", \"offsetgroup\": \"\\u0623\\u0631\\u0645\\u0644\", \"orientation\": \"v\", \"showlegend\": true, \"text\": [764.0], \"textposition\": \"auto\", \"type\": \"bar\", \"x\": [\"\\u0623\\u0631\\u0645\\u0644\"], \"xaxis\": \"x\", \"y\": [764], \"yaxis\": \"y\"}],                        {\"barmode\": \"relative\", \"legend\": {\"title\": {\"text\": \"MARITAL STATUS\"}, \"tracegroupgap\": 0}, \"template\": {\"data\": {\"bar\": [{\"error_x\": {\"color\": \"#2a3f5f\"}, \"error_y\": {\"color\": \"#2a3f5f\"}, \"marker\": {\"line\": {\"color\": \"#E5ECF6\", \"width\": 0.5}}, \"type\": \"bar\"}], \"barpolar\": [{\"marker\": {\"line\": {\"color\": \"#E5ECF6\", \"width\": 0.5}}, \"type\": \"barpolar\"}], \"carpet\": [{\"aaxis\": {\"endlinecolor\": \"#2a3f5f\", \"gridcolor\": \"white\", \"linecolor\": \"white\", \"minorgridcolor\": \"white\", \"startlinecolor\": \"#2a3f5f\"}, \"baxis\": {\"endlinecolor\": \"#2a3f5f\", \"gridcolor\": \"white\", \"linecolor\": \"white\", \"minorgridcolor\": \"white\", \"startlinecolor\": \"#2a3f5f\"}, \"type\": \"carpet\"}], \"choropleth\": [{\"colorbar\": {\"outlinewidth\": 0, \"ticks\": \"\"}, \"type\": \"choropleth\"}], \"contour\": [{\"colorbar\": {\"outlinewidth\": 0, \"ticks\": \"\"}, \"colorscale\": [[0.0, \"#0d0887\"], [0.1111111111111111, \"#46039f\"], [0.2222222222222222, \"#7201a8\"], [0.3333333333333333, \"#9c179e\"], [0.4444444444444444, \"#bd3786\"], [0.5555555555555556, \"#d8576b\"], [0.6666666666666666, \"#ed7953\"], [0.7777777777777778, \"#fb9f3a\"], [0.8888888888888888, \"#fdca26\"], [1.0, \"#f0f921\"]], \"type\": \"contour\"}], \"contourcarpet\": [{\"colorbar\": {\"outlinewidth\": 0, \"ticks\": \"\"}, \"type\": \"contourcarpet\"}], \"heatmap\": [{\"colorbar\": {\"outlinewidth\": 0, \"ticks\": \"\"}, \"colorscale\": [[0.0, \"#0d0887\"], [0.1111111111111111, \"#46039f\"], [0.2222222222222222, \"#7201a8\"], [0.3333333333333333, \"#9c179e\"], [0.4444444444444444, \"#bd3786\"], [0.5555555555555556, \"#d8576b\"], [0.6666666666666666, \"#ed7953\"], [0.7777777777777778, \"#fb9f3a\"], [0.8888888888888888, \"#fdca26\"], [1.0, \"#f0f921\"]], \"type\": \"heatmap\"}], \"heatmapgl\": [{\"colorbar\": {\"outlinewidth\": 0, \"ticks\": \"\"}, \"colorscale\": [[0.0, \"#0d0887\"], [0.1111111111111111, \"#46039f\"], [0.2222222222222222, \"#7201a8\"], [0.3333333333333333, \"#9c179e\"], [0.4444444444444444, \"#bd3786\"], [0.5555555555555556, \"#d8576b\"], [0.6666666666666666, \"#ed7953\"], [0.7777777777777778, \"#fb9f3a\"], [0.8888888888888888, \"#fdca26\"], [1.0, \"#f0f921\"]], \"type\": \"heatmapgl\"}], \"histogram\": [{\"marker\": {\"colorbar\": {\"outlinewidth\": 0, \"ticks\": \"\"}}, \"type\": \"histogram\"}], \"histogram2d\": [{\"colorbar\": {\"outlinewidth\": 0, \"ticks\": \"\"}, \"colorscale\": [[0.0, \"#0d0887\"], [0.1111111111111111, \"#46039f\"], [0.2222222222222222, \"#7201a8\"], [0.3333333333333333, \"#9c179e\"], [0.4444444444444444, \"#bd3786\"], [0.5555555555555556, \"#d8576b\"], [0.6666666666666666, \"#ed7953\"], [0.7777777777777778, \"#fb9f3a\"], [0.8888888888888888, \"#fdca26\"], [1.0, \"#f0f921\"]], \"type\": \"histogram2d\"}], \"histogram2dcontour\": [{\"colorbar\": {\"outlinewidth\": 0, \"ticks\": \"\"}, \"colorscale\": [[0.0, \"#0d0887\"], [0.1111111111111111, \"#46039f\"], [0.2222222222222222, \"#7201a8\"], [0.3333333333333333, \"#9c179e\"], [0.4444444444444444, \"#bd3786\"], [0.5555555555555556, \"#d8576b\"], [0.6666666666666666, \"#ed7953\"], [0.7777777777777778, \"#fb9f3a\"], [0.8888888888888888, \"#fdca26\"], [1.0, \"#f0f921\"]], \"type\": \"histogram2dcontour\"}], \"mesh3d\": [{\"colorbar\": {\"outlinewidth\": 0, \"ticks\": \"\"}, \"type\": \"mesh3d\"}], \"parcoords\": [{\"line\": {\"colorbar\": {\"outlinewidth\": 0, \"ticks\": \"\"}}, \"type\": \"parcoords\"}], \"pie\": [{\"automargin\": true, \"type\": \"pie\"}], \"scatter\": [{\"marker\": {\"colorbar\": {\"outlinewidth\": 0, \"ticks\": \"\"}}, \"type\": \"scatter\"}], \"scatter3d\": [{\"line\": {\"colorbar\": {\"outlinewidth\": 0, \"ticks\": \"\"}}, \"marker\": {\"colorbar\": {\"outlinewidth\": 0, \"ticks\": \"\"}}, \"type\": \"scatter3d\"}], \"scattercarpet\": [{\"marker\": {\"colorbar\": {\"outlinewidth\": 0, \"ticks\": \"\"}}, \"type\": \"scattercarpet\"}], \"scattergeo\": [{\"marker\": {\"colorbar\": {\"outlinewidth\": 0, \"ticks\": \"\"}}, \"type\": \"scattergeo\"}], \"scattergl\": [{\"marker\": {\"colorbar\": {\"outlinewidth\": 0, \"ticks\": \"\"}}, \"type\": \"scattergl\"}], \"scattermapbox\": [{\"marker\": {\"colorbar\": {\"outlinewidth\": 0, \"ticks\": \"\"}}, \"type\": \"scattermapbox\"}], \"scatterpolar\": [{\"marker\": {\"colorbar\": {\"outlinewidth\": 0, \"ticks\": \"\"}}, \"type\": \"scatterpolar\"}], \"scatterpolargl\": [{\"marker\": {\"colorbar\": {\"outlinewidth\": 0, \"ticks\": \"\"}}, \"type\": \"scatterpolargl\"}], \"scatterternary\": [{\"marker\": {\"colorbar\": {\"outlinewidth\": 0, \"ticks\": \"\"}}, \"type\": \"scatterternary\"}], \"surface\": [{\"colorbar\": {\"outlinewidth\": 0, \"ticks\": \"\"}, \"colorscale\": [[0.0, \"#0d0887\"], [0.1111111111111111, \"#46039f\"], [0.2222222222222222, \"#7201a8\"], [0.3333333333333333, \"#9c179e\"], [0.4444444444444444, \"#bd3786\"], [0.5555555555555556, \"#d8576b\"], [0.6666666666666666, \"#ed7953\"], [0.7777777777777778, \"#fb9f3a\"], [0.8888888888888888, \"#fdca26\"], [1.0, \"#f0f921\"]], \"type\": \"surface\"}], \"table\": [{\"cells\": {\"fill\": {\"color\": \"#EBF0F8\"}, \"line\": {\"color\": \"white\"}}, \"header\": {\"fill\": {\"color\": \"#C8D4E3\"}, \"line\": {\"color\": \"white\"}}, \"type\": \"table\"}]}, \"layout\": {\"annotationdefaults\": {\"arrowcolor\": \"#2a3f5f\", \"arrowhead\": 0, \"arrowwidth\": 1}, \"autotypenumbers\": \"strict\", \"coloraxis\": {\"colorbar\": {\"outlinewidth\": 0, \"ticks\": \"\"}}, \"colorscale\": {\"diverging\": [[0, \"#8e0152\"], [0.1, \"#c51b7d\"], [0.2, \"#de77ae\"], [0.3, \"#f1b6da\"], [0.4, \"#fde0ef\"], [0.5, \"#f7f7f7\"], [0.6, \"#e6f5d0\"], [0.7, \"#b8e186\"], [0.8, \"#7fbc41\"], [0.9, \"#4d9221\"], [1, \"#276419\"]], \"sequential\": [[0.0, \"#0d0887\"], [0.1111111111111111, \"#46039f\"], [0.2222222222222222, \"#7201a8\"], [0.3333333333333333, \"#9c179e\"], [0.4444444444444444, \"#bd3786\"], [0.5555555555555556, \"#d8576b\"], [0.6666666666666666, \"#ed7953\"], [0.7777777777777778, \"#fb9f3a\"], [0.8888888888888888, \"#fdca26\"], [1.0, \"#f0f921\"]], \"sequentialminus\": [[0.0, \"#0d0887\"], [0.1111111111111111, \"#46039f\"], [0.2222222222222222, \"#7201a8\"], [0.3333333333333333, \"#9c179e\"], [0.4444444444444444, \"#bd3786\"], [0.5555555555555556, \"#d8576b\"], [0.6666666666666666, \"#ed7953\"], [0.7777777777777778, \"#fb9f3a\"], [0.8888888888888888, \"#fdca26\"], [1.0, \"#f0f921\"]]}, \"colorway\": [\"#636efa\", \"#EF553B\", \"#00cc96\", \"#ab63fa\", \"#FFA15A\", \"#19d3f3\", \"#FF6692\", \"#B6E880\", \"#FF97FF\", \"#FECB52\"], \"font\": {\"color\": \"#2a3f5f\"}, \"geo\": {\"bgcolor\": \"white\", \"lakecolor\": \"white\", \"landcolor\": \"#E5ECF6\", \"showlakes\": true, \"showland\": true, \"subunitcolor\": \"white\"}, \"hoverlabel\": {\"align\": \"left\"}, \"hovermode\": \"closest\", \"mapbox\": {\"style\": \"light\"}, \"paper_bgcolor\": \"white\", \"plot_bgcolor\": \"#E5ECF6\", \"polar\": {\"angularaxis\": {\"gridcolor\": \"white\", \"linecolor\": \"white\", \"ticks\": \"\"}, \"bgcolor\": \"#E5ECF6\", \"radialaxis\": {\"gridcolor\": \"white\", \"linecolor\": \"white\", \"ticks\": \"\"}}, \"scene\": {\"xaxis\": {\"backgroundcolor\": \"#E5ECF6\", \"gridcolor\": \"white\", \"gridwidth\": 2, \"linecolor\": \"white\", \"showbackground\": true, \"ticks\": \"\", \"zerolinecolor\": \"white\"}, \"yaxis\": {\"backgroundcolor\": \"#E5ECF6\", \"gridcolor\": \"white\", \"gridwidth\": 2, \"linecolor\": \"white\", \"showbackground\": true, \"ticks\": \"\", \"zerolinecolor\": \"white\"}, \"zaxis\": {\"backgroundcolor\": \"#E5ECF6\", \"gridcolor\": \"white\", \"gridwidth\": 2, \"linecolor\": \"white\", \"showbackground\": true, \"ticks\": \"\", \"zerolinecolor\": \"white\"}}, \"shapedefaults\": {\"line\": {\"color\": \"#2a3f5f\"}}, \"ternary\": {\"aaxis\": {\"gridcolor\": \"white\", \"linecolor\": \"white\", \"ticks\": \"\"}, \"baxis\": {\"gridcolor\": \"white\", \"linecolor\": \"white\", \"ticks\": \"\"}, \"bgcolor\": \"#E5ECF6\", \"caxis\": {\"gridcolor\": \"white\", \"linecolor\": \"white\", \"ticks\": \"\"}}, \"title\": {\"x\": 0.05}, \"xaxis\": {\"automargin\": true, \"gridcolor\": \"white\", \"linecolor\": \"white\", \"ticks\": \"\", \"title\": {\"standoff\": 15}, \"zerolinecolor\": \"white\", \"zerolinewidth\": 2}, \"yaxis\": {\"automargin\": true, \"gridcolor\": \"white\", \"linecolor\": \"white\", \"ticks\": \"\", \"title\": {\"standoff\": 15}, \"zerolinecolor\": \"white\", \"zerolinewidth\": 2}}}, \"title\": {\"text\": \"MARITAL STATUS\"}, \"xaxis\": {\"anchor\": \"y\", \"categoryarray\": [\"\\u0645\\u062a\\u0632\\u0648\\u062c\", \"\\u0623\\u0639\\u0632\\u0628\", \"\", \"\\u063a\\u064a\\u0631 \\u0645\\u0639\\u0631\\u0641\", \"\\u0645\\u0637\\u0644\\u0642\", \"\\u0623\\u0631\\u0645\\u0644\"], \"categoryorder\": \"array\", \"domain\": [0.0, 1.0], \"title\": {\"text\": \"MARITAL STATUS\"}}, \"yaxis\": {\"anchor\": \"x\", \"domain\": [0.0, 1.0], \"title\": {\"text\": \"Count\"}}},                        {\"responsive\": true}                    ).then(function(){\n",
              "                            \n",
              "var gd = document.getElementById('e424b1c6-d0c7-4115-8b68-03f513b1427a');\n",
              "var x = new MutationObserver(function (mutations, observer) {{\n",
              "        var display = window.getComputedStyle(gd).display;\n",
              "        if (!display || display === 'none') {{\n",
              "            console.log([gd, 'removed!']);\n",
              "            Plotly.purge(gd);\n",
              "            observer.disconnect();\n",
              "        }}\n",
              "}});\n",
              "\n",
              "// Listen for the removal of the full notebook cells\n",
              "var notebookContainer = gd.closest('#notebook-container');\n",
              "if (notebookContainer) {{\n",
              "    x.observe(notebookContainer, {childList: true});\n",
              "}}\n",
              "\n",
              "// Listen for the clearing of the current output cell\n",
              "var outputEl = gd.closest('.output');\n",
              "if (outputEl) {{\n",
              "    x.observe(outputEl, {childList: true});\n",
              "}}\n",
              "\n",
              "                        })                };                            </script>        </div>\n",
              "</body>\n",
              "</html>"
            ]
          },
          "metadata": {
            "tags": []
          }
        }
      ]
    },
    {
      "cell_type": "markdown",
      "metadata": {
        "id": "409e12ee"
      },
      "source": [
        "#### TOP 10 COMPANIES IN WHICH THE MAJOR PROPORTION OF PEOPLE IS EMPLOYEED"
      ],
      "id": "409e12ee"
    },
    {
      "cell_type": "code",
      "metadata": {
        "colab": {
          "base_uri": "https://localhost:8080/",
          "height": 359
        },
        "id": "ffec0db8",
        "outputId": "5df7a06e-1c7f-4bf2-d729-2f6be772232b"
      },
      "source": [
        "#hide_input\n",
        "h = dict(data['COMPANY_NAME'].value_counts())\n",
        "insight8 = pd.DataFrame()\n",
        "h = dict(sorted(h.items(), key=operator.itemgetter(1), reverse=True)[:10])\n",
        "insight8['COMPANY'] = h.keys()\n",
        "insight8['Count'] = h.values()\n",
        "insight8['Ranking'] = insight8.index+1\n",
        "insight8"
      ],
      "id": "ffec0db8",
      "execution_count": null,
      "outputs": [
        {
          "output_type": "execute_result",
          "data": {
            "text/html": [
              "<div>\n",
              "<style scoped>\n",
              "    .dataframe tbody tr th:only-of-type {\n",
              "        vertical-align: middle;\n",
              "    }\n",
              "\n",
              "    .dataframe tbody tr th {\n",
              "        vertical-align: top;\n",
              "    }\n",
              "\n",
              "    .dataframe thead th {\n",
              "        text-align: right;\n",
              "    }\n",
              "</style>\n",
              "<table border=\"1\" class=\"dataframe\">\n",
              "  <thead>\n",
              "    <tr style=\"text-align: right;\">\n",
              "      <th></th>\n",
              "      <th>COMPANY</th>\n",
              "      <th>Count</th>\n",
              "      <th>Ranking</th>\n",
              "    </tr>\n",
              "  </thead>\n",
              "  <tbody>\n",
              "    <tr>\n",
              "      <th>0</th>\n",
              "      <td>مبنى الركاب الجديد بمطار الكويت (المبنى 11)</td>\n",
              "      <td>7109</td>\n",
              "      <td>1</td>\n",
              "    </tr>\n",
              "    <tr>\n",
              "      <th>1</th>\n",
              "      <td>شركة محمد حمود الشايع</td>\n",
              "      <td>5525</td>\n",
              "      <td>2</td>\n",
              "    </tr>\n",
              "    <tr>\n",
              "      <th>2</th>\n",
              "      <td>الشركة الاحمدية للمقاولات والتجارة</td>\n",
              "      <td>5292</td>\n",
              "      <td>3</td>\n",
              "    </tr>\n",
              "    <tr>\n",
              "      <th>3</th>\n",
              "      <td>(10377)    شركة مطاحن الدقيق والمخابز الكويتية</td>\n",
              "      <td>4613</td>\n",
              "      <td>4</td>\n",
              "    </tr>\n",
              "    <tr>\n",
              "      <th>4</th>\n",
              "      <td>(ادارة العقودالحكوميه(اعادة قيد</td>\n",
              "      <td>3934</td>\n",
              "      <td>5</td>\n",
              "    </tr>\n",
              "    <tr>\n",
              "      <th>5</th>\n",
              "      <td>مركز التجمع الجديد في جنوب وشرق الكويت GC-32</td>\n",
              "      <td>3756</td>\n",
              "      <td>6</td>\n",
              "    </tr>\n",
              "    <tr>\n",
              "      <th>6</th>\n",
              "      <td>إنشاء وانجاز وصيانة مشروع معسكر الشيخ سالم الع...</td>\n",
              "      <td>3627</td>\n",
              "      <td>7</td>\n",
              "    </tr>\n",
              "    <tr>\n",
              "      <th>7</th>\n",
              "      <td>شركة بدر الملا واخوانه</td>\n",
              "      <td>3616</td>\n",
              "      <td>8</td>\n",
              "    </tr>\n",
              "    <tr>\n",
              "      <th>8</th>\n",
              "      <td>مشروع خط انابيب التغذية لشركة نفط الكويت للمصف...</td>\n",
              "      <td>3590</td>\n",
              "      <td>9</td>\n",
              "    </tr>\n",
              "    <tr>\n",
              "      <th>9</th>\n",
              "      <td>الشركة الكويتية للاغذية ( الامريكانا )</td>\n",
              "      <td>3403</td>\n",
              "      <td>10</td>\n",
              "    </tr>\n",
              "  </tbody>\n",
              "</table>\n",
              "</div>"
            ],
            "text/plain": [
              "                                             COMPANY  Count  Ranking\n",
              "0        مبنى الركاب الجديد بمطار الكويت (المبنى 11)   7109        1\n",
              "1                              شركة محمد حمود الشايع   5525        2\n",
              "2                 الشركة الاحمدية للمقاولات والتجارة   5292        3\n",
              "3     (10377)    شركة مطاحن الدقيق والمخابز الكويتية   4613        4\n",
              "4                    (ادارة العقودالحكوميه(اعادة قيد   3934        5\n",
              "5       مركز التجمع الجديد في جنوب وشرق الكويت GC-32   3756        6\n",
              "6  إنشاء وانجاز وصيانة مشروع معسكر الشيخ سالم الع...   3627        7\n",
              "7                             شركة بدر الملا واخوانه   3616        8\n",
              "8  مشروع خط انابيب التغذية لشركة نفط الكويت للمصف...   3590        9\n",
              "9             الشركة الكويتية للاغذية ( الامريكانا )   3403       10"
            ]
          },
          "metadata": {
            "tags": []
          },
          "execution_count": 48
        }
      ]
    },
    {
      "cell_type": "code",
      "metadata": {
        "colab": {
          "base_uri": "https://localhost:8080/",
          "height": 542
        },
        "id": "7f7632aa",
        "outputId": "964f0f0f-71d5-427f-8d42-a6421d318949"
      },
      "source": [
        "#hide_input\n",
        "fig = px.bar(insight8,x=\"COMPANY\",y=\"Count\",color=\"Ranking\",text=\"Count\",title = \"COMPANY Ranking on the basis of Occurrence\")\n",
        "fig.show()"
      ],
      "id": "7f7632aa",
      "execution_count": null,
      "outputs": [
        {
          "output_type": "display_data",
          "data": {
            "text/html": [
              "<html>\n",
              "<head><meta charset=\"utf-8\" /></head>\n",
              "<body>\n",
              "    <div>            <script src=\"https://cdnjs.cloudflare.com/ajax/libs/mathjax/2.7.5/MathJax.js?config=TeX-AMS-MML_SVG\"></script><script type=\"text/javascript\">if (window.MathJax) {MathJax.Hub.Config({SVG: {font: \"STIX-Web\"}});}</script>                <script type=\"text/javascript\">window.PlotlyConfig = {MathJaxConfig: 'local'};</script>\n",
              "        <script src=\"https://cdn.plot.ly/plotly-latest.min.js\"></script>                <div id=\"1c463b22-1345-44f6-807e-8c3e1f6d7661\" class=\"plotly-graph-div\" style=\"height:525px; width:100%;\"></div>            <script type=\"text/javascript\">                                    window.PLOTLYENV=window.PLOTLYENV || {};                                    if (document.getElementById(\"1c463b22-1345-44f6-807e-8c3e1f6d7661\")) {                    Plotly.newPlot(                        \"1c463b22-1345-44f6-807e-8c3e1f6d7661\",                        [{\"alignmentgroup\": \"True\", \"hovertemplate\": \"COMPANY=%{x}<br>Count=%{text}<br>Ranking=%{marker.color}<extra></extra>\", \"legendgroup\": \"\", \"marker\": {\"color\": [1, 2, 3, 4, 5, 6, 7, 8, 9, 10], \"coloraxis\": \"coloraxis\"}, \"name\": \"\", \"offsetgroup\": \"\", \"orientation\": \"v\", \"showlegend\": false, \"text\": [7109.0, 5525.0, 5292.0, 4613.0, 3934.0, 3756.0, 3627.0, 3616.0, 3590.0, 3403.0], \"textposition\": \"auto\", \"type\": \"bar\", \"x\": [\"\\u0645\\u0628\\u0646\\u0649 \\u0627\\u0644\\u0631\\u0643\\u0627\\u0628 \\u0627\\u0644\\u062c\\u062f\\u064a\\u062f \\u0628\\u0645\\u0637\\u0627\\u0631 \\u0627\\u0644\\u0643\\u0648\\u064a\\u062a (\\u0627\\u0644\\u0645\\u0628\\u0646\\u0649 11)\", \"\\u0634\\u0631\\u0643\\u0629 \\u0645\\u062d\\u0645\\u062f \\u062d\\u0645\\u0648\\u062f \\u0627\\u0644\\u0634\\u0627\\u064a\\u0639\", \"\\u0627\\u0644\\u0634\\u0631\\u0643\\u0629 \\u0627\\u0644\\u0627\\u062d\\u0645\\u062f\\u064a\\u0629 \\u0644\\u0644\\u0645\\u0642\\u0627\\u0648\\u0644\\u0627\\u062a \\u0648\\u0627\\u0644\\u062a\\u062c\\u0627\\u0631\\u0629\", \"(10377)    \\u0634\\u0631\\u0643\\u0629 \\u0645\\u0637\\u0627\\u062d\\u0646 \\u0627\\u0644\\u062f\\u0642\\u064a\\u0642 \\u0648\\u0627\\u0644\\u0645\\u062e\\u0627\\u0628\\u0632 \\u0627\\u0644\\u0643\\u0648\\u064a\\u062a\\u064a\\u0629\", \"(\\u0627\\u062f\\u0627\\u0631\\u0629 \\u0627\\u0644\\u0639\\u0642\\u0648\\u062f\\u0627\\u0644\\u062d\\u0643\\u0648\\u0645\\u064a\\u0647(\\u0627\\u0639\\u0627\\u062f\\u0629 \\u0642\\u064a\\u062f\", \"\\u0645\\u0631\\u0643\\u0632 \\u0627\\u0644\\u062a\\u062c\\u0645\\u0639 \\u0627\\u0644\\u062c\\u062f\\u064a\\u062f \\u0641\\u064a \\u062c\\u0646\\u0648\\u0628 \\u0648\\u0634\\u0631\\u0642 \\u0627\\u0644\\u0643\\u0648\\u064a\\u062a GC-32\", \"\\u0625\\u0646\\u0634\\u0627\\u0621 \\u0648\\u0627\\u0646\\u062c\\u0627\\u0632 \\u0648\\u0635\\u064a\\u0627\\u0646\\u0629 \\u0645\\u0634\\u0631\\u0648\\u0639 \\u0645\\u0639\\u0633\\u0643\\u0631 \\u0627\\u0644\\u0634\\u064a\\u062e \\u0633\\u0627\\u0644\\u0645 \\u0627\\u0644\\u0639\\u0644\\u064a \\u0627\\u0644\\u0633\\u0627\\u0644\\u0645 \\u0627\\u0644\\u0635\\u0628\\u0627\\u062d\", \"\\u0634\\u0631\\u0643\\u0629 \\u0628\\u062f\\u0631 \\u0627\\u0644\\u0645\\u0644\\u0627 \\u0648\\u0627\\u062e\\u0648\\u0627\\u0646\\u0647\", \"\\u0645\\u0634\\u0631\\u0648\\u0639 \\u062e\\u0637 \\u0627\\u0646\\u0627\\u0628\\u064a\\u0628 \\u0627\\u0644\\u062a\\u063a\\u0630\\u064a\\u0629 \\u0644\\u0634\\u0631\\u0643\\u0629 \\u0646\\u0641\\u0637 \\u0627\\u0644\\u0643\\u0648\\u064a\\u062a \\u0644\\u0644\\u0645\\u0635\\u0641\\u0627\\u0629 \\u0644\\u062c\\u062f\\u064a\\u062f\\u0629 NRP\", \"\\u0627\\u0644\\u0634\\u0631\\u0643\\u0629 \\u0627\\u0644\\u0643\\u0648\\u064a\\u062a\\u064a\\u0629 \\u0644\\u0644\\u0627\\u063a\\u0630\\u064a\\u0629 ( \\u0627\\u0644\\u0627\\u0645\\u0631\\u064a\\u0643\\u0627\\u0646\\u0627 )\"], \"xaxis\": \"x\", \"y\": [7109, 5525, 5292, 4613, 3934, 3756, 3627, 3616, 3590, 3403], \"yaxis\": \"y\"}],                        {\"barmode\": \"relative\", \"coloraxis\": {\"colorbar\": {\"title\": {\"text\": \"Ranking\"}}, \"colorscale\": [[0.0, \"#0d0887\"], [0.1111111111111111, \"#46039f\"], [0.2222222222222222, \"#7201a8\"], [0.3333333333333333, \"#9c179e\"], [0.4444444444444444, \"#bd3786\"], [0.5555555555555556, \"#d8576b\"], [0.6666666666666666, \"#ed7953\"], [0.7777777777777778, \"#fb9f3a\"], [0.8888888888888888, \"#fdca26\"], [1.0, \"#f0f921\"]]}, \"legend\": {\"tracegroupgap\": 0}, \"template\": {\"data\": {\"bar\": [{\"error_x\": {\"color\": \"#2a3f5f\"}, \"error_y\": {\"color\": \"#2a3f5f\"}, \"marker\": {\"line\": {\"color\": \"#E5ECF6\", \"width\": 0.5}}, \"type\": \"bar\"}], \"barpolar\": [{\"marker\": {\"line\": {\"color\": \"#E5ECF6\", \"width\": 0.5}}, \"type\": \"barpolar\"}], \"carpet\": [{\"aaxis\": {\"endlinecolor\": \"#2a3f5f\", \"gridcolor\": \"white\", \"linecolor\": \"white\", \"minorgridcolor\": \"white\", \"startlinecolor\": \"#2a3f5f\"}, \"baxis\": {\"endlinecolor\": \"#2a3f5f\", \"gridcolor\": \"white\", \"linecolor\": \"white\", \"minorgridcolor\": \"white\", \"startlinecolor\": \"#2a3f5f\"}, \"type\": \"carpet\"}], \"choropleth\": [{\"colorbar\": {\"outlinewidth\": 0, \"ticks\": \"\"}, \"type\": \"choropleth\"}], \"contour\": [{\"colorbar\": {\"outlinewidth\": 0, \"ticks\": \"\"}, \"colorscale\": [[0.0, \"#0d0887\"], [0.1111111111111111, \"#46039f\"], [0.2222222222222222, \"#7201a8\"], [0.3333333333333333, \"#9c179e\"], [0.4444444444444444, \"#bd3786\"], [0.5555555555555556, \"#d8576b\"], [0.6666666666666666, \"#ed7953\"], [0.7777777777777778, \"#fb9f3a\"], [0.8888888888888888, \"#fdca26\"], [1.0, \"#f0f921\"]], \"type\": \"contour\"}], \"contourcarpet\": [{\"colorbar\": {\"outlinewidth\": 0, \"ticks\": \"\"}, \"type\": \"contourcarpet\"}], \"heatmap\": [{\"colorbar\": {\"outlinewidth\": 0, \"ticks\": \"\"}, \"colorscale\": [[0.0, \"#0d0887\"], [0.1111111111111111, \"#46039f\"], [0.2222222222222222, \"#7201a8\"], [0.3333333333333333, \"#9c179e\"], [0.4444444444444444, \"#bd3786\"], [0.5555555555555556, \"#d8576b\"], [0.6666666666666666, \"#ed7953\"], [0.7777777777777778, \"#fb9f3a\"], [0.8888888888888888, \"#fdca26\"], [1.0, \"#f0f921\"]], \"type\": \"heatmap\"}], \"heatmapgl\": [{\"colorbar\": {\"outlinewidth\": 0, \"ticks\": \"\"}, \"colorscale\": [[0.0, \"#0d0887\"], [0.1111111111111111, \"#46039f\"], [0.2222222222222222, \"#7201a8\"], [0.3333333333333333, \"#9c179e\"], [0.4444444444444444, \"#bd3786\"], [0.5555555555555556, \"#d8576b\"], [0.6666666666666666, \"#ed7953\"], [0.7777777777777778, \"#fb9f3a\"], [0.8888888888888888, \"#fdca26\"], [1.0, \"#f0f921\"]], \"type\": \"heatmapgl\"}], \"histogram\": [{\"marker\": {\"colorbar\": {\"outlinewidth\": 0, \"ticks\": \"\"}}, \"type\": \"histogram\"}], \"histogram2d\": [{\"colorbar\": {\"outlinewidth\": 0, \"ticks\": \"\"}, \"colorscale\": [[0.0, \"#0d0887\"], [0.1111111111111111, \"#46039f\"], [0.2222222222222222, \"#7201a8\"], [0.3333333333333333, \"#9c179e\"], [0.4444444444444444, \"#bd3786\"], [0.5555555555555556, \"#d8576b\"], [0.6666666666666666, \"#ed7953\"], [0.7777777777777778, \"#fb9f3a\"], [0.8888888888888888, \"#fdca26\"], [1.0, \"#f0f921\"]], \"type\": \"histogram2d\"}], \"histogram2dcontour\": [{\"colorbar\": {\"outlinewidth\": 0, \"ticks\": \"\"}, \"colorscale\": [[0.0, \"#0d0887\"], [0.1111111111111111, \"#46039f\"], [0.2222222222222222, \"#7201a8\"], [0.3333333333333333, \"#9c179e\"], [0.4444444444444444, \"#bd3786\"], [0.5555555555555556, \"#d8576b\"], [0.6666666666666666, \"#ed7953\"], [0.7777777777777778, \"#fb9f3a\"], [0.8888888888888888, \"#fdca26\"], [1.0, \"#f0f921\"]], \"type\": \"histogram2dcontour\"}], \"mesh3d\": [{\"colorbar\": {\"outlinewidth\": 0, \"ticks\": \"\"}, \"type\": \"mesh3d\"}], \"parcoords\": [{\"line\": {\"colorbar\": {\"outlinewidth\": 0, \"ticks\": \"\"}}, \"type\": \"parcoords\"}], \"pie\": [{\"automargin\": true, \"type\": \"pie\"}], \"scatter\": [{\"marker\": {\"colorbar\": {\"outlinewidth\": 0, \"ticks\": \"\"}}, \"type\": \"scatter\"}], \"scatter3d\": [{\"line\": {\"colorbar\": {\"outlinewidth\": 0, \"ticks\": \"\"}}, \"marker\": {\"colorbar\": {\"outlinewidth\": 0, \"ticks\": \"\"}}, \"type\": \"scatter3d\"}], \"scattercarpet\": [{\"marker\": {\"colorbar\": {\"outlinewidth\": 0, \"ticks\": \"\"}}, \"type\": \"scattercarpet\"}], \"scattergeo\": [{\"marker\": {\"colorbar\": {\"outlinewidth\": 0, \"ticks\": \"\"}}, \"type\": \"scattergeo\"}], \"scattergl\": [{\"marker\": {\"colorbar\": {\"outlinewidth\": 0, \"ticks\": \"\"}}, \"type\": \"scattergl\"}], \"scattermapbox\": [{\"marker\": {\"colorbar\": {\"outlinewidth\": 0, \"ticks\": \"\"}}, \"type\": \"scattermapbox\"}], \"scatterpolar\": [{\"marker\": {\"colorbar\": {\"outlinewidth\": 0, \"ticks\": \"\"}}, \"type\": \"scatterpolar\"}], \"scatterpolargl\": [{\"marker\": {\"colorbar\": {\"outlinewidth\": 0, \"ticks\": \"\"}}, \"type\": \"scatterpolargl\"}], \"scatterternary\": [{\"marker\": {\"colorbar\": {\"outlinewidth\": 0, \"ticks\": \"\"}}, \"type\": \"scatterternary\"}], \"surface\": [{\"colorbar\": {\"outlinewidth\": 0, \"ticks\": \"\"}, \"colorscale\": [[0.0, \"#0d0887\"], [0.1111111111111111, \"#46039f\"], [0.2222222222222222, \"#7201a8\"], [0.3333333333333333, \"#9c179e\"], [0.4444444444444444, \"#bd3786\"], [0.5555555555555556, \"#d8576b\"], [0.6666666666666666, \"#ed7953\"], [0.7777777777777778, \"#fb9f3a\"], [0.8888888888888888, \"#fdca26\"], [1.0, \"#f0f921\"]], \"type\": \"surface\"}], \"table\": [{\"cells\": {\"fill\": {\"color\": \"#EBF0F8\"}, \"line\": {\"color\": \"white\"}}, \"header\": {\"fill\": {\"color\": \"#C8D4E3\"}, \"line\": {\"color\": \"white\"}}, \"type\": \"table\"}]}, \"layout\": {\"annotationdefaults\": {\"arrowcolor\": \"#2a3f5f\", \"arrowhead\": 0, \"arrowwidth\": 1}, \"autotypenumbers\": \"strict\", \"coloraxis\": {\"colorbar\": {\"outlinewidth\": 0, \"ticks\": \"\"}}, \"colorscale\": {\"diverging\": [[0, \"#8e0152\"], [0.1, \"#c51b7d\"], [0.2, \"#de77ae\"], [0.3, \"#f1b6da\"], [0.4, \"#fde0ef\"], [0.5, \"#f7f7f7\"], [0.6, \"#e6f5d0\"], [0.7, \"#b8e186\"], [0.8, \"#7fbc41\"], [0.9, \"#4d9221\"], [1, \"#276419\"]], \"sequential\": [[0.0, \"#0d0887\"], [0.1111111111111111, \"#46039f\"], [0.2222222222222222, \"#7201a8\"], [0.3333333333333333, \"#9c179e\"], [0.4444444444444444, \"#bd3786\"], [0.5555555555555556, \"#d8576b\"], [0.6666666666666666, \"#ed7953\"], [0.7777777777777778, \"#fb9f3a\"], [0.8888888888888888, \"#fdca26\"], [1.0, \"#f0f921\"]], \"sequentialminus\": [[0.0, \"#0d0887\"], [0.1111111111111111, \"#46039f\"], [0.2222222222222222, \"#7201a8\"], [0.3333333333333333, \"#9c179e\"], [0.4444444444444444, \"#bd3786\"], [0.5555555555555556, \"#d8576b\"], [0.6666666666666666, \"#ed7953\"], [0.7777777777777778, \"#fb9f3a\"], [0.8888888888888888, \"#fdca26\"], [1.0, \"#f0f921\"]]}, \"colorway\": [\"#636efa\", \"#EF553B\", \"#00cc96\", \"#ab63fa\", \"#FFA15A\", \"#19d3f3\", \"#FF6692\", \"#B6E880\", \"#FF97FF\", \"#FECB52\"], \"font\": {\"color\": \"#2a3f5f\"}, \"geo\": {\"bgcolor\": \"white\", \"lakecolor\": \"white\", \"landcolor\": \"#E5ECF6\", \"showlakes\": true, \"showland\": true, \"subunitcolor\": \"white\"}, \"hoverlabel\": {\"align\": \"left\"}, \"hovermode\": \"closest\", \"mapbox\": {\"style\": \"light\"}, \"paper_bgcolor\": \"white\", \"plot_bgcolor\": \"#E5ECF6\", \"polar\": {\"angularaxis\": {\"gridcolor\": \"white\", \"linecolor\": \"white\", \"ticks\": \"\"}, \"bgcolor\": \"#E5ECF6\", \"radialaxis\": {\"gridcolor\": \"white\", \"linecolor\": \"white\", \"ticks\": \"\"}}, \"scene\": {\"xaxis\": {\"backgroundcolor\": \"#E5ECF6\", \"gridcolor\": \"white\", \"gridwidth\": 2, \"linecolor\": \"white\", \"showbackground\": true, \"ticks\": \"\", \"zerolinecolor\": \"white\"}, \"yaxis\": {\"backgroundcolor\": \"#E5ECF6\", \"gridcolor\": \"white\", \"gridwidth\": 2, \"linecolor\": \"white\", \"showbackground\": true, \"ticks\": \"\", \"zerolinecolor\": \"white\"}, \"zaxis\": {\"backgroundcolor\": \"#E5ECF6\", \"gridcolor\": \"white\", \"gridwidth\": 2, \"linecolor\": \"white\", \"showbackground\": true, \"ticks\": \"\", \"zerolinecolor\": \"white\"}}, \"shapedefaults\": {\"line\": {\"color\": \"#2a3f5f\"}}, \"ternary\": {\"aaxis\": {\"gridcolor\": \"white\", \"linecolor\": \"white\", \"ticks\": \"\"}, \"baxis\": {\"gridcolor\": \"white\", \"linecolor\": \"white\", \"ticks\": \"\"}, \"bgcolor\": \"#E5ECF6\", \"caxis\": {\"gridcolor\": \"white\", \"linecolor\": \"white\", \"ticks\": \"\"}}, \"title\": {\"x\": 0.05}, \"xaxis\": {\"automargin\": true, \"gridcolor\": \"white\", \"linecolor\": \"white\", \"ticks\": \"\", \"title\": {\"standoff\": 15}, \"zerolinecolor\": \"white\", \"zerolinewidth\": 2}, \"yaxis\": {\"automargin\": true, \"gridcolor\": \"white\", \"linecolor\": \"white\", \"ticks\": \"\", \"title\": {\"standoff\": 15}, \"zerolinecolor\": \"white\", \"zerolinewidth\": 2}}}, \"title\": {\"text\": \"COMPANY Ranking on the basis of Occurrence\"}, \"xaxis\": {\"anchor\": \"y\", \"domain\": [0.0, 1.0], \"title\": {\"text\": \"COMPANY\"}}, \"yaxis\": {\"anchor\": \"x\", \"domain\": [0.0, 1.0], \"title\": {\"text\": \"Count\"}}},                        {\"responsive\": true}                    ).then(function(){\n",
              "                            \n",
              "var gd = document.getElementById('1c463b22-1345-44f6-807e-8c3e1f6d7661');\n",
              "var x = new MutationObserver(function (mutations, observer) {{\n",
              "        var display = window.getComputedStyle(gd).display;\n",
              "        if (!display || display === 'none') {{\n",
              "            console.log([gd, 'removed!']);\n",
              "            Plotly.purge(gd);\n",
              "            observer.disconnect();\n",
              "        }}\n",
              "}});\n",
              "\n",
              "// Listen for the removal of the full notebook cells\n",
              "var notebookContainer = gd.closest('#notebook-container');\n",
              "if (notebookContainer) {{\n",
              "    x.observe(notebookContainer, {childList: true});\n",
              "}}\n",
              "\n",
              "// Listen for the clearing of the current output cell\n",
              "var outputEl = gd.closest('.output');\n",
              "if (outputEl) {{\n",
              "    x.observe(outputEl, {childList: true});\n",
              "}}\n",
              "\n",
              "                        })                };                            </script>        </div>\n",
              "</body>\n",
              "</html>"
            ]
          },
          "metadata": {
            "tags": []
          }
        }
      ]
    },
    {
      "cell_type": "markdown",
      "metadata": {
        "id": "81f61bcd"
      },
      "source": [
        "#### TOP HIRING MONTHS"
      ],
      "id": "81f61bcd"
    },
    {
      "cell_type": "code",
      "metadata": {
        "colab": {
          "base_uri": "https://localhost:8080/",
          "height": 542
        },
        "id": "089dcb61",
        "outputId": "5ba880fd-cdd6-4d4a-ba4a-2a0564d14199"
      },
      "source": [
        "#hide_input\n",
        "top_5_HIRE_DATE = data['HIRE_DATE'].value_counts().head(5)\n",
        "fig = px.bar(top_5_HIRE_DATE, title = 'TOP 5 HIRING MONTHS',color=top_5_HIRE_DATE)\n",
        "fig.show()"
      ],
      "id": "089dcb61",
      "execution_count": null,
      "outputs": [
        {
          "output_type": "display_data",
          "data": {
            "text/html": [
              "<html>\n",
              "<head><meta charset=\"utf-8\" /></head>\n",
              "<body>\n",
              "    <div>            <script src=\"https://cdnjs.cloudflare.com/ajax/libs/mathjax/2.7.5/MathJax.js?config=TeX-AMS-MML_SVG\"></script><script type=\"text/javascript\">if (window.MathJax) {MathJax.Hub.Config({SVG: {font: \"STIX-Web\"}});}</script>                <script type=\"text/javascript\">window.PlotlyConfig = {MathJaxConfig: 'local'};</script>\n",
              "        <script src=\"https://cdn.plot.ly/plotly-latest.min.js\"></script>                <div id=\"ed770197-55dd-426c-91c1-3fed20c2d092\" class=\"plotly-graph-div\" style=\"height:525px; width:100%;\"></div>            <script type=\"text/javascript\">                                    window.PLOTLYENV=window.PLOTLYENV || {};                                    if (document.getElementById(\"ed770197-55dd-426c-91c1-3fed20c2d092\")) {                    Plotly.newPlot(                        \"ed770197-55dd-426c-91c1-3fed20c2d092\",                        [{\"alignmentgroup\": \"True\", \"hovertemplate\": \"index=%{x}<br>value=%{y}<br>color=%{marker.color}<extra></extra>\", \"legendgroup\": \"\", \"marker\": {\"color\": [3898, 3834, 3743, 3555, 3332], \"coloraxis\": \"coloraxis\"}, \"name\": \"\", \"offsetgroup\": \"\", \"orientation\": \"v\", \"showlegend\": false, \"textposition\": \"auto\", \"type\": \"bar\", \"x\": [\"2020-12-01T00:00:00\", \"2020-11-01T00:00:00\", \"2020-09-01T00:00:00\", \"2020-10-01T00:00:00\", \"2020-04-01T00:00:00\"], \"xaxis\": \"x\", \"y\": [3898, 3834, 3743, 3555, 3332], \"yaxis\": \"y\"}],                        {\"barmode\": \"relative\", \"coloraxis\": {\"colorbar\": {\"title\": {\"text\": \"color\"}}, \"colorscale\": [[0.0, \"#0d0887\"], [0.1111111111111111, \"#46039f\"], [0.2222222222222222, \"#7201a8\"], [0.3333333333333333, \"#9c179e\"], [0.4444444444444444, \"#bd3786\"], [0.5555555555555556, \"#d8576b\"], [0.6666666666666666, \"#ed7953\"], [0.7777777777777778, \"#fb9f3a\"], [0.8888888888888888, \"#fdca26\"], [1.0, \"#f0f921\"]]}, \"legend\": {\"tracegroupgap\": 0}, \"template\": {\"data\": {\"bar\": [{\"error_x\": {\"color\": \"#2a3f5f\"}, \"error_y\": {\"color\": \"#2a3f5f\"}, \"marker\": {\"line\": {\"color\": \"#E5ECF6\", \"width\": 0.5}}, \"type\": \"bar\"}], \"barpolar\": [{\"marker\": {\"line\": {\"color\": \"#E5ECF6\", \"width\": 0.5}}, \"type\": \"barpolar\"}], \"carpet\": [{\"aaxis\": {\"endlinecolor\": \"#2a3f5f\", \"gridcolor\": \"white\", \"linecolor\": \"white\", \"minorgridcolor\": \"white\", \"startlinecolor\": \"#2a3f5f\"}, \"baxis\": {\"endlinecolor\": \"#2a3f5f\", \"gridcolor\": \"white\", \"linecolor\": \"white\", \"minorgridcolor\": \"white\", \"startlinecolor\": \"#2a3f5f\"}, \"type\": \"carpet\"}], \"choropleth\": [{\"colorbar\": {\"outlinewidth\": 0, \"ticks\": \"\"}, \"type\": \"choropleth\"}], \"contour\": [{\"colorbar\": {\"outlinewidth\": 0, \"ticks\": \"\"}, \"colorscale\": [[0.0, \"#0d0887\"], [0.1111111111111111, \"#46039f\"], [0.2222222222222222, \"#7201a8\"], [0.3333333333333333, \"#9c179e\"], [0.4444444444444444, \"#bd3786\"], [0.5555555555555556, \"#d8576b\"], [0.6666666666666666, \"#ed7953\"], [0.7777777777777778, \"#fb9f3a\"], [0.8888888888888888, \"#fdca26\"], [1.0, \"#f0f921\"]], \"type\": \"contour\"}], \"contourcarpet\": [{\"colorbar\": {\"outlinewidth\": 0, \"ticks\": \"\"}, \"type\": \"contourcarpet\"}], \"heatmap\": [{\"colorbar\": {\"outlinewidth\": 0, \"ticks\": \"\"}, \"colorscale\": [[0.0, \"#0d0887\"], [0.1111111111111111, \"#46039f\"], [0.2222222222222222, \"#7201a8\"], [0.3333333333333333, \"#9c179e\"], [0.4444444444444444, \"#bd3786\"], [0.5555555555555556, \"#d8576b\"], [0.6666666666666666, \"#ed7953\"], [0.7777777777777778, \"#fb9f3a\"], [0.8888888888888888, \"#fdca26\"], [1.0, \"#f0f921\"]], \"type\": \"heatmap\"}], \"heatmapgl\": [{\"colorbar\": {\"outlinewidth\": 0, \"ticks\": \"\"}, \"colorscale\": [[0.0, \"#0d0887\"], [0.1111111111111111, \"#46039f\"], [0.2222222222222222, \"#7201a8\"], [0.3333333333333333, \"#9c179e\"], [0.4444444444444444, \"#bd3786\"], [0.5555555555555556, \"#d8576b\"], [0.6666666666666666, \"#ed7953\"], [0.7777777777777778, \"#fb9f3a\"], [0.8888888888888888, \"#fdca26\"], [1.0, \"#f0f921\"]], \"type\": \"heatmapgl\"}], \"histogram\": [{\"marker\": {\"colorbar\": {\"outlinewidth\": 0, \"ticks\": \"\"}}, \"type\": \"histogram\"}], \"histogram2d\": [{\"colorbar\": {\"outlinewidth\": 0, \"ticks\": \"\"}, \"colorscale\": [[0.0, \"#0d0887\"], [0.1111111111111111, \"#46039f\"], [0.2222222222222222, \"#7201a8\"], [0.3333333333333333, \"#9c179e\"], [0.4444444444444444, \"#bd3786\"], [0.5555555555555556, \"#d8576b\"], [0.6666666666666666, \"#ed7953\"], [0.7777777777777778, \"#fb9f3a\"], [0.8888888888888888, \"#fdca26\"], [1.0, \"#f0f921\"]], \"type\": \"histogram2d\"}], \"histogram2dcontour\": [{\"colorbar\": {\"outlinewidth\": 0, \"ticks\": \"\"}, \"colorscale\": [[0.0, \"#0d0887\"], [0.1111111111111111, \"#46039f\"], [0.2222222222222222, \"#7201a8\"], [0.3333333333333333, \"#9c179e\"], [0.4444444444444444, \"#bd3786\"], [0.5555555555555556, \"#d8576b\"], [0.6666666666666666, \"#ed7953\"], [0.7777777777777778, \"#fb9f3a\"], [0.8888888888888888, \"#fdca26\"], [1.0, \"#f0f921\"]], \"type\": \"histogram2dcontour\"}], \"mesh3d\": [{\"colorbar\": {\"outlinewidth\": 0, \"ticks\": \"\"}, \"type\": \"mesh3d\"}], \"parcoords\": [{\"line\": {\"colorbar\": {\"outlinewidth\": 0, \"ticks\": \"\"}}, \"type\": \"parcoords\"}], \"pie\": [{\"automargin\": true, \"type\": \"pie\"}], \"scatter\": [{\"marker\": {\"colorbar\": {\"outlinewidth\": 0, \"ticks\": \"\"}}, \"type\": \"scatter\"}], \"scatter3d\": [{\"line\": {\"colorbar\": {\"outlinewidth\": 0, \"ticks\": \"\"}}, \"marker\": {\"colorbar\": {\"outlinewidth\": 0, \"ticks\": \"\"}}, \"type\": \"scatter3d\"}], \"scattercarpet\": [{\"marker\": {\"colorbar\": {\"outlinewidth\": 0, \"ticks\": \"\"}}, \"type\": \"scattercarpet\"}], \"scattergeo\": [{\"marker\": {\"colorbar\": {\"outlinewidth\": 0, \"ticks\": \"\"}}, \"type\": \"scattergeo\"}], \"scattergl\": [{\"marker\": {\"colorbar\": {\"outlinewidth\": 0, \"ticks\": \"\"}}, \"type\": \"scattergl\"}], \"scattermapbox\": [{\"marker\": {\"colorbar\": {\"outlinewidth\": 0, \"ticks\": \"\"}}, \"type\": \"scattermapbox\"}], \"scatterpolar\": [{\"marker\": {\"colorbar\": {\"outlinewidth\": 0, \"ticks\": \"\"}}, \"type\": \"scatterpolar\"}], \"scatterpolargl\": [{\"marker\": {\"colorbar\": {\"outlinewidth\": 0, \"ticks\": \"\"}}, \"type\": \"scatterpolargl\"}], \"scatterternary\": [{\"marker\": {\"colorbar\": {\"outlinewidth\": 0, \"ticks\": \"\"}}, \"type\": \"scatterternary\"}], \"surface\": [{\"colorbar\": {\"outlinewidth\": 0, \"ticks\": \"\"}, \"colorscale\": [[0.0, \"#0d0887\"], [0.1111111111111111, \"#46039f\"], [0.2222222222222222, \"#7201a8\"], [0.3333333333333333, \"#9c179e\"], [0.4444444444444444, \"#bd3786\"], [0.5555555555555556, \"#d8576b\"], [0.6666666666666666, \"#ed7953\"], [0.7777777777777778, \"#fb9f3a\"], [0.8888888888888888, \"#fdca26\"], [1.0, \"#f0f921\"]], \"type\": \"surface\"}], \"table\": [{\"cells\": {\"fill\": {\"color\": \"#EBF0F8\"}, \"line\": {\"color\": \"white\"}}, \"header\": {\"fill\": {\"color\": \"#C8D4E3\"}, \"line\": {\"color\": \"white\"}}, \"type\": \"table\"}]}, \"layout\": {\"annotationdefaults\": {\"arrowcolor\": \"#2a3f5f\", \"arrowhead\": 0, \"arrowwidth\": 1}, \"autotypenumbers\": \"strict\", \"coloraxis\": {\"colorbar\": {\"outlinewidth\": 0, \"ticks\": \"\"}}, \"colorscale\": {\"diverging\": [[0, \"#8e0152\"], [0.1, \"#c51b7d\"], [0.2, \"#de77ae\"], [0.3, \"#f1b6da\"], [0.4, \"#fde0ef\"], [0.5, \"#f7f7f7\"], [0.6, \"#e6f5d0\"], [0.7, \"#b8e186\"], [0.8, \"#7fbc41\"], [0.9, \"#4d9221\"], [1, \"#276419\"]], \"sequential\": [[0.0, \"#0d0887\"], [0.1111111111111111, \"#46039f\"], [0.2222222222222222, \"#7201a8\"], [0.3333333333333333, \"#9c179e\"], [0.4444444444444444, \"#bd3786\"], [0.5555555555555556, \"#d8576b\"], [0.6666666666666666, \"#ed7953\"], [0.7777777777777778, \"#fb9f3a\"], [0.8888888888888888, \"#fdca26\"], [1.0, \"#f0f921\"]], \"sequentialminus\": [[0.0, \"#0d0887\"], [0.1111111111111111, \"#46039f\"], [0.2222222222222222, \"#7201a8\"], [0.3333333333333333, \"#9c179e\"], [0.4444444444444444, \"#bd3786\"], [0.5555555555555556, \"#d8576b\"], [0.6666666666666666, \"#ed7953\"], [0.7777777777777778, \"#fb9f3a\"], [0.8888888888888888, \"#fdca26\"], [1.0, \"#f0f921\"]]}, \"colorway\": [\"#636efa\", \"#EF553B\", \"#00cc96\", \"#ab63fa\", \"#FFA15A\", \"#19d3f3\", \"#FF6692\", \"#B6E880\", \"#FF97FF\", \"#FECB52\"], \"font\": {\"color\": \"#2a3f5f\"}, \"geo\": {\"bgcolor\": \"white\", \"lakecolor\": \"white\", \"landcolor\": \"#E5ECF6\", \"showlakes\": true, \"showland\": true, \"subunitcolor\": \"white\"}, \"hoverlabel\": {\"align\": \"left\"}, \"hovermode\": \"closest\", \"mapbox\": {\"style\": \"light\"}, \"paper_bgcolor\": \"white\", \"plot_bgcolor\": \"#E5ECF6\", \"polar\": {\"angularaxis\": {\"gridcolor\": \"white\", \"linecolor\": \"white\", \"ticks\": \"\"}, \"bgcolor\": \"#E5ECF6\", \"radialaxis\": {\"gridcolor\": \"white\", \"linecolor\": \"white\", \"ticks\": \"\"}}, \"scene\": {\"xaxis\": {\"backgroundcolor\": \"#E5ECF6\", \"gridcolor\": \"white\", \"gridwidth\": 2, \"linecolor\": \"white\", \"showbackground\": true, \"ticks\": \"\", \"zerolinecolor\": \"white\"}, \"yaxis\": {\"backgroundcolor\": \"#E5ECF6\", \"gridcolor\": \"white\", \"gridwidth\": 2, \"linecolor\": \"white\", \"showbackground\": true, \"ticks\": \"\", \"zerolinecolor\": \"white\"}, \"zaxis\": {\"backgroundcolor\": \"#E5ECF6\", \"gridcolor\": \"white\", \"gridwidth\": 2, \"linecolor\": \"white\", \"showbackground\": true, \"ticks\": \"\", \"zerolinecolor\": \"white\"}}, \"shapedefaults\": {\"line\": {\"color\": \"#2a3f5f\"}}, \"ternary\": {\"aaxis\": {\"gridcolor\": \"white\", \"linecolor\": \"white\", \"ticks\": \"\"}, \"baxis\": {\"gridcolor\": \"white\", \"linecolor\": \"white\", \"ticks\": \"\"}, \"bgcolor\": \"#E5ECF6\", \"caxis\": {\"gridcolor\": \"white\", \"linecolor\": \"white\", \"ticks\": \"\"}}, \"title\": {\"x\": 0.05}, \"xaxis\": {\"automargin\": true, \"gridcolor\": \"white\", \"linecolor\": \"white\", \"ticks\": \"\", \"title\": {\"standoff\": 15}, \"zerolinecolor\": \"white\", \"zerolinewidth\": 2}, \"yaxis\": {\"automargin\": true, \"gridcolor\": \"white\", \"linecolor\": \"white\", \"ticks\": \"\", \"title\": {\"standoff\": 15}, \"zerolinecolor\": \"white\", \"zerolinewidth\": 2}}}, \"title\": {\"text\": \"TOP 5 HIRING MONTHS\"}, \"xaxis\": {\"anchor\": \"y\", \"domain\": [0.0, 1.0], \"title\": {\"text\": \"index\"}}, \"yaxis\": {\"anchor\": \"x\", \"domain\": [0.0, 1.0], \"title\": {\"text\": \"value\"}}},                        {\"responsive\": true}                    ).then(function(){\n",
              "                            \n",
              "var gd = document.getElementById('ed770197-55dd-426c-91c1-3fed20c2d092');\n",
              "var x = new MutationObserver(function (mutations, observer) {{\n",
              "        var display = window.getComputedStyle(gd).display;\n",
              "        if (!display || display === 'none') {{\n",
              "            console.log([gd, 'removed!']);\n",
              "            Plotly.purge(gd);\n",
              "            observer.disconnect();\n",
              "        }}\n",
              "}});\n",
              "\n",
              "// Listen for the removal of the full notebook cells\n",
              "var notebookContainer = gd.closest('#notebook-container');\n",
              "if (notebookContainer) {{\n",
              "    x.observe(notebookContainer, {childList: true});\n",
              "}}\n",
              "\n",
              "// Listen for the clearing of the current output cell\n",
              "var outputEl = gd.closest('.output');\n",
              "if (outputEl) {{\n",
              "    x.observe(outputEl, {childList: true});\n",
              "}}\n",
              "\n",
              "                        })                };                            </script>        </div>\n",
              "</body>\n",
              "</html>"
            ]
          },
          "metadata": {
            "tags": []
          }
        }
      ]
    },
    {
      "cell_type": "markdown",
      "metadata": {
        "id": "a547c105"
      },
      "source": [
        "#### SALARIES OFFERED BY COMPANIES"
      ],
      "id": "a547c105"
    },
    {
      "cell_type": "code",
      "metadata": {
        "colab": {
          "base_uri": "https://localhost:8080/",
          "height": 359
        },
        "id": "2183477b",
        "outputId": "a0139b29-9525-4006-a15a-6d660d6b87ce"
      },
      "source": [
        "#hide_input\n",
        "insight10 = pd.DataFrame()\n",
        "insight10 = data.groupby(\"COMPANY_NAME\")['SALARY'].mean()\n",
        "insight10 = insight10.reset_index(\"COMPANY_NAME\")\n",
        "insight10 = insight10.nlargest(10,'SALARY')\n",
        "insight10"
      ],
      "id": "2183477b",
      "execution_count": null,
      "outputs": [
        {
          "output_type": "execute_result",
          "data": {
            "text/html": [
              "<div>\n",
              "<style scoped>\n",
              "    .dataframe tbody tr th:only-of-type {\n",
              "        vertical-align: middle;\n",
              "    }\n",
              "\n",
              "    .dataframe tbody tr th {\n",
              "        vertical-align: top;\n",
              "    }\n",
              "\n",
              "    .dataframe thead th {\n",
              "        text-align: right;\n",
              "    }\n",
              "</style>\n",
              "<table border=\"1\" class=\"dataframe\">\n",
              "  <thead>\n",
              "    <tr style=\"text-align: right;\">\n",
              "      <th></th>\n",
              "      <th>COMPANY_NAME</th>\n",
              "      <th>SALARY</th>\n",
              "    </tr>\n",
              "  </thead>\n",
              "  <tbody>\n",
              "    <tr>\n",
              "      <th>15534</th>\n",
              "      <td>الشركة المتحدة لصناعة الحديد</td>\n",
              "      <td>10900.0</td>\n",
              "    </tr>\n",
              "    <tr>\n",
              "      <th>3823</th>\n",
              "      <td>شركة  التمدين  الاستشارية</td>\n",
              "      <td>10000.0</td>\n",
              "    </tr>\n",
              "    <tr>\n",
              "      <th>53452</th>\n",
              "      <td>شركة اليسكو للمقاولات العامه للمباني</td>\n",
              "      <td>10000.0</td>\n",
              "    </tr>\n",
              "    <tr>\n",
              "      <th>47805</th>\n",
              "      <td>شركة السبعه لآلى القابضة</td>\n",
              "      <td>8925.0</td>\n",
              "    </tr>\n",
              "    <tr>\n",
              "      <th>53253</th>\n",
              "      <td>شركة الوسيلة لمشاريع التنمية العقارية</td>\n",
              "      <td>8535.0</td>\n",
              "    </tr>\n",
              "    <tr>\n",
              "      <th>52721</th>\n",
              "      <td>شركة النوادي القابضه</td>\n",
              "      <td>8000.0</td>\n",
              "    </tr>\n",
              "    <tr>\n",
              "      <th>59494</th>\n",
              "      <td>شركة جلوبال كليرينج هاوس سستمز</td>\n",
              "      <td>7000.0</td>\n",
              "    </tr>\n",
              "    <tr>\n",
              "      <th>62678</th>\n",
              "      <td>شركة رنفيكو جي تي ال للتجارة العامة والمقاولات</td>\n",
              "      <td>7000.0</td>\n",
              "    </tr>\n",
              "    <tr>\n",
              "      <th>70515</th>\n",
              "      <td>شركة كنسورتيوم التعليمية</td>\n",
              "      <td>6200.0</td>\n",
              "    </tr>\n",
              "    <tr>\n",
              "      <th>42025</th>\n",
              "      <td>شركة ارثر برازرز ليجاسي للتجارة العامة</td>\n",
              "      <td>6000.0</td>\n",
              "    </tr>\n",
              "  </tbody>\n",
              "</table>\n",
              "</div>"
            ],
            "text/plain": [
              "                                         COMPANY_NAME   SALARY\n",
              "15534                    الشركة المتحدة لصناعة الحديد  10900.0\n",
              "3823                        شركة  التمدين  الاستشارية  10000.0\n",
              "53452            شركة اليسكو للمقاولات العامه للمباني  10000.0\n",
              "47805                        شركة السبعه لآلى القابضة   8925.0\n",
              "53253           شركة الوسيلة لمشاريع التنمية العقارية   8535.0\n",
              "52721                            شركة النوادي القابضه   8000.0\n",
              "59494                  شركة جلوبال كليرينج هاوس سستمز   7000.0\n",
              "62678  شركة رنفيكو جي تي ال للتجارة العامة والمقاولات   7000.0\n",
              "70515                        شركة كنسورتيوم التعليمية   6200.0\n",
              "42025          شركة ارثر برازرز ليجاسي للتجارة العامة   6000.0"
            ]
          },
          "metadata": {
            "tags": []
          },
          "execution_count": 51
        }
      ]
    },
    {
      "cell_type": "code",
      "metadata": {
        "colab": {
          "base_uri": "https://localhost:8080/",
          "height": 542
        },
        "id": "b3c60064",
        "outputId": "03cee603-493c-41a9-eb57-c52e116409a6"
      },
      "source": [
        "#hide_input\n",
        "fig = px.sunburst(insight10, path=[insight10.index,'COMPANY_NAME', 'SALARY'], values='SALARY')\n",
        "fig.show()"
      ],
      "id": "b3c60064",
      "execution_count": null,
      "outputs": [
        {
          "output_type": "display_data",
          "data": {
            "text/html": [
              "<html>\n",
              "<head><meta charset=\"utf-8\" /></head>\n",
              "<body>\n",
              "    <div>            <script src=\"https://cdnjs.cloudflare.com/ajax/libs/mathjax/2.7.5/MathJax.js?config=TeX-AMS-MML_SVG\"></script><script type=\"text/javascript\">if (window.MathJax) {MathJax.Hub.Config({SVG: {font: \"STIX-Web\"}});}</script>                <script type=\"text/javascript\">window.PlotlyConfig = {MathJaxConfig: 'local'};</script>\n",
              "        <script src=\"https://cdn.plot.ly/plotly-latest.min.js\"></script>                <div id=\"e422c022-4540-49fa-9619-18cd779da6ee\" class=\"plotly-graph-div\" style=\"height:525px; width:100%;\"></div>            <script type=\"text/javascript\">                                    window.PLOTLYENV=window.PLOTLYENV || {};                                    if (document.getElementById(\"e422c022-4540-49fa-9619-18cd779da6ee\")) {                    Plotly.newPlot(                        \"e422c022-4540-49fa-9619-18cd779da6ee\",                        [{\"branchvalues\": \"total\", \"domain\": {\"x\": [0.0, 1.0], \"y\": [0.0, 1.0]}, \"hovertemplate\": \"labels=%{label}<br>SALARY=%{value}<br>parent=%{parent}<br>id=%{id}<extra></extra>\", \"ids\": [\"42025/\\u0634\\u0631\\u0643\\u0629 \\u0627\\u0631\\u062b\\u0631 \\u0628\\u0631\\u0627\\u0632\\u0631\\u0632 \\u0644\\u064a\\u062c\\u0627\\u0633\\u064a \\u0644\\u0644\\u062a\\u062c\\u0627\\u0631\\u0629 \\u0627\\u0644\\u0639\\u0627\\u0645\\u0629/6000.0\", \"70515/\\u0634\\u0631\\u0643\\u0629 \\u0643\\u0646\\u0633\\u0648\\u0631\\u062a\\u064a\\u0648\\u0645 \\u0627\\u0644\\u062a\\u0639\\u0644\\u064a\\u0645\\u064a\\u0629/6200.0\", \"59494/\\u0634\\u0631\\u0643\\u0629 \\u062c\\u0644\\u0648\\u0628\\u0627\\u0644 \\u0643\\u0644\\u064a\\u0631\\u064a\\u0646\\u062c \\u0647\\u0627\\u0648\\u0633 \\u0633\\u0633\\u062a\\u0645\\u0632/7000.0\", \"62678/\\u0634\\u0631\\u0643\\u0629 \\u0631\\u0646\\u0641\\u064a\\u0643\\u0648 \\u062c\\u064a \\u062a\\u064a \\u0627\\u0644 \\u0644\\u0644\\u062a\\u062c\\u0627\\u0631\\u0629 \\u0627\\u0644\\u0639\\u0627\\u0645\\u0629 \\u0648\\u0627\\u0644\\u0645\\u0642\\u0627\\u0648\\u0644\\u0627\\u062a/7000.0\", \"52721/\\u0634\\u0631\\u0643\\u0629 \\u0627\\u0644\\u0646\\u0648\\u0627\\u062f\\u064a \\u0627\\u0644\\u0642\\u0627\\u0628\\u0636\\u0647/8000.0\", \"53253/\\u0634\\u0631\\u0643\\u0629 \\u0627\\u0644\\u0648\\u0633\\u064a\\u0644\\u0629 \\u0644\\u0645\\u0634\\u0627\\u0631\\u064a\\u0639 \\u0627\\u0644\\u062a\\u0646\\u0645\\u064a\\u0629 \\u0627\\u0644\\u0639\\u0642\\u0627\\u0631\\u064a\\u0629/8535.0\", \"47805/\\u0634\\u0631\\u0643\\u0629 \\u0627\\u0644\\u0633\\u0628\\u0639\\u0647 \\u0644\\u0622\\u0644\\u0649 \\u0627\\u0644\\u0642\\u0627\\u0628\\u0636\\u0629/8925.0\", \"3823/  \\u0634\\u0631\\u0643\\u0629  \\u0627\\u0644\\u062a\\u0645\\u062f\\u064a\\u0646  \\u0627\\u0644\\u0627\\u0633\\u062a\\u0634\\u0627\\u0631\\u064a\\u0629/10000.0\", \"53452/\\u0634\\u0631\\u0643\\u0629 \\u0627\\u0644\\u064a\\u0633\\u0643\\u0648 \\u0644\\u0644\\u0645\\u0642\\u0627\\u0648\\u0644\\u0627\\u062a \\u0627\\u0644\\u0639\\u0627\\u0645\\u0647 \\u0644\\u0644\\u0645\\u0628\\u0627\\u0646\\u064a/10000.0\", \"15534/\\u0627\\u0644\\u0634\\u0631\\u0643\\u0629 \\u0627\\u0644\\u0645\\u062a\\u062d\\u062f\\u0629 \\u0644\\u0635\\u0646\\u0627\\u0639\\u0629 \\u0627\\u0644\\u062d\\u062f\\u064a\\u062f/10900.0\", \"3823/  \\u0634\\u0631\\u0643\\u0629  \\u0627\\u0644\\u062a\\u0645\\u062f\\u064a\\u0646  \\u0627\\u0644\\u0627\\u0633\\u062a\\u0634\\u0627\\u0631\\u064a\\u0629\", \"15534/\\u0627\\u0644\\u0634\\u0631\\u0643\\u0629 \\u0627\\u0644\\u0645\\u062a\\u062d\\u062f\\u0629 \\u0644\\u0635\\u0646\\u0627\\u0639\\u0629 \\u0627\\u0644\\u062d\\u062f\\u064a\\u062f\", \"42025/\\u0634\\u0631\\u0643\\u0629 \\u0627\\u0631\\u062b\\u0631 \\u0628\\u0631\\u0627\\u0632\\u0631\\u0632 \\u0644\\u064a\\u062c\\u0627\\u0633\\u064a \\u0644\\u0644\\u062a\\u062c\\u0627\\u0631\\u0629 \\u0627\\u0644\\u0639\\u0627\\u0645\\u0629\", \"47805/\\u0634\\u0631\\u0643\\u0629 \\u0627\\u0644\\u0633\\u0628\\u0639\\u0647 \\u0644\\u0622\\u0644\\u0649 \\u0627\\u0644\\u0642\\u0627\\u0628\\u0636\\u0629\", \"52721/\\u0634\\u0631\\u0643\\u0629 \\u0627\\u0644\\u0646\\u0648\\u0627\\u062f\\u064a \\u0627\\u0644\\u0642\\u0627\\u0628\\u0636\\u0647\", \"53253/\\u0634\\u0631\\u0643\\u0629 \\u0627\\u0644\\u0648\\u0633\\u064a\\u0644\\u0629 \\u0644\\u0645\\u0634\\u0627\\u0631\\u064a\\u0639 \\u0627\\u0644\\u062a\\u0646\\u0645\\u064a\\u0629 \\u0627\\u0644\\u0639\\u0642\\u0627\\u0631\\u064a\\u0629\", \"53452/\\u0634\\u0631\\u0643\\u0629 \\u0627\\u0644\\u064a\\u0633\\u0643\\u0648 \\u0644\\u0644\\u0645\\u0642\\u0627\\u0648\\u0644\\u0627\\u062a \\u0627\\u0644\\u0639\\u0627\\u0645\\u0647 \\u0644\\u0644\\u0645\\u0628\\u0627\\u0646\\u064a\", \"59494/\\u0634\\u0631\\u0643\\u0629 \\u062c\\u0644\\u0648\\u0628\\u0627\\u0644 \\u0643\\u0644\\u064a\\u0631\\u064a\\u0646\\u062c \\u0647\\u0627\\u0648\\u0633 \\u0633\\u0633\\u062a\\u0645\\u0632\", \"62678/\\u0634\\u0631\\u0643\\u0629 \\u0631\\u0646\\u0641\\u064a\\u0643\\u0648 \\u062c\\u064a \\u062a\\u064a \\u0627\\u0644 \\u0644\\u0644\\u062a\\u062c\\u0627\\u0631\\u0629 \\u0627\\u0644\\u0639\\u0627\\u0645\\u0629 \\u0648\\u0627\\u0644\\u0645\\u0642\\u0627\\u0648\\u0644\\u0627\\u062a\", \"70515/\\u0634\\u0631\\u0643\\u0629 \\u0643\\u0646\\u0633\\u0648\\u0631\\u062a\\u064a\\u0648\\u0645 \\u0627\\u0644\\u062a\\u0639\\u0644\\u064a\\u0645\\u064a\\u0629\", \"3823\", \"15534\", \"42025\", \"47805\", \"52721\", \"53253\", \"53452\", \"59494\", \"62678\", \"70515\"], \"labels\": [\"6000.0\", \"6200.0\", \"7000.0\", \"7000.0\", \"8000.0\", \"8535.0\", \"8925.0\", \"10000.0\", \"10000.0\", \"10900.0\", \"  \\u0634\\u0631\\u0643\\u0629  \\u0627\\u0644\\u062a\\u0645\\u062f\\u064a\\u0646  \\u0627\\u0644\\u0627\\u0633\\u062a\\u0634\\u0627\\u0631\\u064a\\u0629\", \"\\u0627\\u0644\\u0634\\u0631\\u0643\\u0629 \\u0627\\u0644\\u0645\\u062a\\u062d\\u062f\\u0629 \\u0644\\u0635\\u0646\\u0627\\u0639\\u0629 \\u0627\\u0644\\u062d\\u062f\\u064a\\u062f\", \"\\u0634\\u0631\\u0643\\u0629 \\u0627\\u0631\\u062b\\u0631 \\u0628\\u0631\\u0627\\u0632\\u0631\\u0632 \\u0644\\u064a\\u062c\\u0627\\u0633\\u064a \\u0644\\u0644\\u062a\\u062c\\u0627\\u0631\\u0629 \\u0627\\u0644\\u0639\\u0627\\u0645\\u0629\", \"\\u0634\\u0631\\u0643\\u0629 \\u0627\\u0644\\u0633\\u0628\\u0639\\u0647 \\u0644\\u0622\\u0644\\u0649 \\u0627\\u0644\\u0642\\u0627\\u0628\\u0636\\u0629\", \"\\u0634\\u0631\\u0643\\u0629 \\u0627\\u0644\\u0646\\u0648\\u0627\\u062f\\u064a \\u0627\\u0644\\u0642\\u0627\\u0628\\u0636\\u0647\", \"\\u0634\\u0631\\u0643\\u0629 \\u0627\\u0644\\u0648\\u0633\\u064a\\u0644\\u0629 \\u0644\\u0645\\u0634\\u0627\\u0631\\u064a\\u0639 \\u0627\\u0644\\u062a\\u0646\\u0645\\u064a\\u0629 \\u0627\\u0644\\u0639\\u0642\\u0627\\u0631\\u064a\\u0629\", \"\\u0634\\u0631\\u0643\\u0629 \\u0627\\u0644\\u064a\\u0633\\u0643\\u0648 \\u0644\\u0644\\u0645\\u0642\\u0627\\u0648\\u0644\\u0627\\u062a \\u0627\\u0644\\u0639\\u0627\\u0645\\u0647 \\u0644\\u0644\\u0645\\u0628\\u0627\\u0646\\u064a\", \"\\u0634\\u0631\\u0643\\u0629 \\u062c\\u0644\\u0648\\u0628\\u0627\\u0644 \\u0643\\u0644\\u064a\\u0631\\u064a\\u0646\\u062c \\u0647\\u0627\\u0648\\u0633 \\u0633\\u0633\\u062a\\u0645\\u0632\", \"\\u0634\\u0631\\u0643\\u0629 \\u0631\\u0646\\u0641\\u064a\\u0643\\u0648 \\u062c\\u064a \\u062a\\u064a \\u0627\\u0644 \\u0644\\u0644\\u062a\\u062c\\u0627\\u0631\\u0629 \\u0627\\u0644\\u0639\\u0627\\u0645\\u0629 \\u0648\\u0627\\u0644\\u0645\\u0642\\u0627\\u0648\\u0644\\u0627\\u062a\", \"\\u0634\\u0631\\u0643\\u0629 \\u0643\\u0646\\u0633\\u0648\\u0631\\u062a\\u064a\\u0648\\u0645 \\u0627\\u0644\\u062a\\u0639\\u0644\\u064a\\u0645\\u064a\\u0629\", \"3823\", \"15534\", \"42025\", \"47805\", \"52721\", \"53253\", \"53452\", \"59494\", \"62678\", \"70515\"], \"name\": \"\", \"parents\": [\"42025/\\u0634\\u0631\\u0643\\u0629 \\u0627\\u0631\\u062b\\u0631 \\u0628\\u0631\\u0627\\u0632\\u0631\\u0632 \\u0644\\u064a\\u062c\\u0627\\u0633\\u064a \\u0644\\u0644\\u062a\\u062c\\u0627\\u0631\\u0629 \\u0627\\u0644\\u0639\\u0627\\u0645\\u0629\", \"70515/\\u0634\\u0631\\u0643\\u0629 \\u0643\\u0646\\u0633\\u0648\\u0631\\u062a\\u064a\\u0648\\u0645 \\u0627\\u0644\\u062a\\u0639\\u0644\\u064a\\u0645\\u064a\\u0629\", \"59494/\\u0634\\u0631\\u0643\\u0629 \\u062c\\u0644\\u0648\\u0628\\u0627\\u0644 \\u0643\\u0644\\u064a\\u0631\\u064a\\u0646\\u062c \\u0647\\u0627\\u0648\\u0633 \\u0633\\u0633\\u062a\\u0645\\u0632\", \"62678/\\u0634\\u0631\\u0643\\u0629 \\u0631\\u0646\\u0641\\u064a\\u0643\\u0648 \\u062c\\u064a \\u062a\\u064a \\u0627\\u0644 \\u0644\\u0644\\u062a\\u062c\\u0627\\u0631\\u0629 \\u0627\\u0644\\u0639\\u0627\\u0645\\u0629 \\u0648\\u0627\\u0644\\u0645\\u0642\\u0627\\u0648\\u0644\\u0627\\u062a\", \"52721/\\u0634\\u0631\\u0643\\u0629 \\u0627\\u0644\\u0646\\u0648\\u0627\\u062f\\u064a \\u0627\\u0644\\u0642\\u0627\\u0628\\u0636\\u0647\", \"53253/\\u0634\\u0631\\u0643\\u0629 \\u0627\\u0644\\u0648\\u0633\\u064a\\u0644\\u0629 \\u0644\\u0645\\u0634\\u0627\\u0631\\u064a\\u0639 \\u0627\\u0644\\u062a\\u0646\\u0645\\u064a\\u0629 \\u0627\\u0644\\u0639\\u0642\\u0627\\u0631\\u064a\\u0629\", \"47805/\\u0634\\u0631\\u0643\\u0629 \\u0627\\u0644\\u0633\\u0628\\u0639\\u0647 \\u0644\\u0622\\u0644\\u0649 \\u0627\\u0644\\u0642\\u0627\\u0628\\u0636\\u0629\", \"3823/  \\u0634\\u0631\\u0643\\u0629  \\u0627\\u0644\\u062a\\u0645\\u062f\\u064a\\u0646  \\u0627\\u0644\\u0627\\u0633\\u062a\\u0634\\u0627\\u0631\\u064a\\u0629\", \"53452/\\u0634\\u0631\\u0643\\u0629 \\u0627\\u0644\\u064a\\u0633\\u0643\\u0648 \\u0644\\u0644\\u0645\\u0642\\u0627\\u0648\\u0644\\u0627\\u062a \\u0627\\u0644\\u0639\\u0627\\u0645\\u0647 \\u0644\\u0644\\u0645\\u0628\\u0627\\u0646\\u064a\", \"15534/\\u0627\\u0644\\u0634\\u0631\\u0643\\u0629 \\u0627\\u0644\\u0645\\u062a\\u062d\\u062f\\u0629 \\u0644\\u0635\\u0646\\u0627\\u0639\\u0629 \\u0627\\u0644\\u062d\\u062f\\u064a\\u062f\", \"3823\", \"15534\", \"42025\", \"47805\", \"52721\", \"53253\", \"53452\", \"59494\", \"62678\", \"70515\", \"\", \"\", \"\", \"\", \"\", \"\", \"\", \"\", \"\", \"\"], \"type\": \"sunburst\", \"values\": [6000.0, 6200.0, 7000.0, 7000.0, 8000.0, 8535.0, 8925.0, 10000.0, 10000.0, 10900.0, 10000.0, 10900.0, 6000.0, 8925.0, 8000.0, 8535.0, 10000.0, 7000.0, 7000.0, 6200.0, 10000.0, 10900.0, 6000.0, 8925.0, 8000.0, 8535.0, 10000.0, 7000.0, 7000.0, 6200.0]}],                        {\"legend\": {\"tracegroupgap\": 0}, \"margin\": {\"t\": 60}, \"template\": {\"data\": {\"bar\": [{\"error_x\": {\"color\": \"#2a3f5f\"}, \"error_y\": {\"color\": \"#2a3f5f\"}, \"marker\": {\"line\": {\"color\": \"#E5ECF6\", \"width\": 0.5}}, \"type\": \"bar\"}], \"barpolar\": [{\"marker\": {\"line\": {\"color\": \"#E5ECF6\", \"width\": 0.5}}, \"type\": \"barpolar\"}], \"carpet\": [{\"aaxis\": {\"endlinecolor\": \"#2a3f5f\", \"gridcolor\": \"white\", \"linecolor\": \"white\", \"minorgridcolor\": \"white\", \"startlinecolor\": \"#2a3f5f\"}, \"baxis\": {\"endlinecolor\": \"#2a3f5f\", \"gridcolor\": \"white\", \"linecolor\": \"white\", \"minorgridcolor\": \"white\", \"startlinecolor\": \"#2a3f5f\"}, \"type\": \"carpet\"}], \"choropleth\": [{\"colorbar\": {\"outlinewidth\": 0, \"ticks\": \"\"}, \"type\": \"choropleth\"}], \"contour\": [{\"colorbar\": {\"outlinewidth\": 0, \"ticks\": \"\"}, \"colorscale\": [[0.0, \"#0d0887\"], [0.1111111111111111, \"#46039f\"], [0.2222222222222222, \"#7201a8\"], [0.3333333333333333, \"#9c179e\"], [0.4444444444444444, \"#bd3786\"], [0.5555555555555556, \"#d8576b\"], [0.6666666666666666, \"#ed7953\"], [0.7777777777777778, \"#fb9f3a\"], [0.8888888888888888, \"#fdca26\"], [1.0, \"#f0f921\"]], \"type\": \"contour\"}], \"contourcarpet\": [{\"colorbar\": {\"outlinewidth\": 0, \"ticks\": \"\"}, \"type\": \"contourcarpet\"}], \"heatmap\": [{\"colorbar\": {\"outlinewidth\": 0, \"ticks\": \"\"}, \"colorscale\": [[0.0, \"#0d0887\"], [0.1111111111111111, \"#46039f\"], [0.2222222222222222, \"#7201a8\"], [0.3333333333333333, \"#9c179e\"], [0.4444444444444444, \"#bd3786\"], [0.5555555555555556, \"#d8576b\"], [0.6666666666666666, \"#ed7953\"], [0.7777777777777778, \"#fb9f3a\"], [0.8888888888888888, \"#fdca26\"], [1.0, \"#f0f921\"]], \"type\": \"heatmap\"}], \"heatmapgl\": [{\"colorbar\": {\"outlinewidth\": 0, \"ticks\": \"\"}, \"colorscale\": [[0.0, \"#0d0887\"], [0.1111111111111111, \"#46039f\"], [0.2222222222222222, \"#7201a8\"], [0.3333333333333333, \"#9c179e\"], [0.4444444444444444, \"#bd3786\"], [0.5555555555555556, \"#d8576b\"], [0.6666666666666666, \"#ed7953\"], [0.7777777777777778, \"#fb9f3a\"], [0.8888888888888888, \"#fdca26\"], [1.0, \"#f0f921\"]], \"type\": \"heatmapgl\"}], \"histogram\": [{\"marker\": {\"colorbar\": {\"outlinewidth\": 0, \"ticks\": \"\"}}, \"type\": \"histogram\"}], \"histogram2d\": [{\"colorbar\": {\"outlinewidth\": 0, \"ticks\": \"\"}, \"colorscale\": [[0.0, \"#0d0887\"], [0.1111111111111111, \"#46039f\"], [0.2222222222222222, \"#7201a8\"], [0.3333333333333333, \"#9c179e\"], [0.4444444444444444, \"#bd3786\"], [0.5555555555555556, \"#d8576b\"], [0.6666666666666666, \"#ed7953\"], [0.7777777777777778, \"#fb9f3a\"], [0.8888888888888888, \"#fdca26\"], [1.0, \"#f0f921\"]], \"type\": \"histogram2d\"}], \"histogram2dcontour\": [{\"colorbar\": {\"outlinewidth\": 0, \"ticks\": \"\"}, \"colorscale\": [[0.0, \"#0d0887\"], [0.1111111111111111, \"#46039f\"], [0.2222222222222222, \"#7201a8\"], [0.3333333333333333, \"#9c179e\"], [0.4444444444444444, \"#bd3786\"], [0.5555555555555556, \"#d8576b\"], [0.6666666666666666, \"#ed7953\"], [0.7777777777777778, \"#fb9f3a\"], [0.8888888888888888, \"#fdca26\"], [1.0, \"#f0f921\"]], \"type\": \"histogram2dcontour\"}], \"mesh3d\": [{\"colorbar\": {\"outlinewidth\": 0, \"ticks\": \"\"}, \"type\": \"mesh3d\"}], \"parcoords\": [{\"line\": {\"colorbar\": {\"outlinewidth\": 0, \"ticks\": \"\"}}, \"type\": \"parcoords\"}], \"pie\": [{\"automargin\": true, \"type\": \"pie\"}], \"scatter\": [{\"marker\": {\"colorbar\": {\"outlinewidth\": 0, \"ticks\": \"\"}}, \"type\": \"scatter\"}], \"scatter3d\": [{\"line\": {\"colorbar\": {\"outlinewidth\": 0, \"ticks\": \"\"}}, \"marker\": {\"colorbar\": {\"outlinewidth\": 0, \"ticks\": \"\"}}, \"type\": \"scatter3d\"}], \"scattercarpet\": [{\"marker\": {\"colorbar\": {\"outlinewidth\": 0, \"ticks\": \"\"}}, \"type\": \"scattercarpet\"}], \"scattergeo\": [{\"marker\": {\"colorbar\": {\"outlinewidth\": 0, \"ticks\": \"\"}}, \"type\": \"scattergeo\"}], \"scattergl\": [{\"marker\": {\"colorbar\": {\"outlinewidth\": 0, \"ticks\": \"\"}}, \"type\": \"scattergl\"}], \"scattermapbox\": [{\"marker\": {\"colorbar\": {\"outlinewidth\": 0, \"ticks\": \"\"}}, \"type\": \"scattermapbox\"}], \"scatterpolar\": [{\"marker\": {\"colorbar\": {\"outlinewidth\": 0, \"ticks\": \"\"}}, \"type\": \"scatterpolar\"}], \"scatterpolargl\": [{\"marker\": {\"colorbar\": {\"outlinewidth\": 0, \"ticks\": \"\"}}, \"type\": \"scatterpolargl\"}], \"scatterternary\": [{\"marker\": {\"colorbar\": {\"outlinewidth\": 0, \"ticks\": \"\"}}, \"type\": \"scatterternary\"}], \"surface\": [{\"colorbar\": {\"outlinewidth\": 0, \"ticks\": \"\"}, \"colorscale\": [[0.0, \"#0d0887\"], [0.1111111111111111, \"#46039f\"], [0.2222222222222222, \"#7201a8\"], [0.3333333333333333, \"#9c179e\"], [0.4444444444444444, \"#bd3786\"], [0.5555555555555556, \"#d8576b\"], [0.6666666666666666, \"#ed7953\"], [0.7777777777777778, \"#fb9f3a\"], [0.8888888888888888, \"#fdca26\"], [1.0, \"#f0f921\"]], \"type\": \"surface\"}], \"table\": [{\"cells\": {\"fill\": {\"color\": \"#EBF0F8\"}, \"line\": {\"color\": \"white\"}}, \"header\": {\"fill\": {\"color\": \"#C8D4E3\"}, \"line\": {\"color\": \"white\"}}, \"type\": \"table\"}]}, \"layout\": {\"annotationdefaults\": {\"arrowcolor\": \"#2a3f5f\", \"arrowhead\": 0, \"arrowwidth\": 1}, \"autotypenumbers\": \"strict\", \"coloraxis\": {\"colorbar\": {\"outlinewidth\": 0, \"ticks\": \"\"}}, \"colorscale\": {\"diverging\": [[0, \"#8e0152\"], [0.1, \"#c51b7d\"], [0.2, \"#de77ae\"], [0.3, \"#f1b6da\"], [0.4, \"#fde0ef\"], [0.5, \"#f7f7f7\"], [0.6, \"#e6f5d0\"], [0.7, \"#b8e186\"], [0.8, \"#7fbc41\"], [0.9, \"#4d9221\"], [1, \"#276419\"]], \"sequential\": [[0.0, \"#0d0887\"], [0.1111111111111111, \"#46039f\"], [0.2222222222222222, \"#7201a8\"], [0.3333333333333333, \"#9c179e\"], [0.4444444444444444, \"#bd3786\"], [0.5555555555555556, \"#d8576b\"], [0.6666666666666666, \"#ed7953\"], [0.7777777777777778, \"#fb9f3a\"], [0.8888888888888888, \"#fdca26\"], [1.0, \"#f0f921\"]], \"sequentialminus\": [[0.0, \"#0d0887\"], [0.1111111111111111, \"#46039f\"], [0.2222222222222222, \"#7201a8\"], [0.3333333333333333, \"#9c179e\"], [0.4444444444444444, \"#bd3786\"], [0.5555555555555556, \"#d8576b\"], [0.6666666666666666, \"#ed7953\"], [0.7777777777777778, \"#fb9f3a\"], [0.8888888888888888, \"#fdca26\"], [1.0, \"#f0f921\"]]}, \"colorway\": [\"#636efa\", \"#EF553B\", \"#00cc96\", \"#ab63fa\", \"#FFA15A\", \"#19d3f3\", \"#FF6692\", \"#B6E880\", \"#FF97FF\", \"#FECB52\"], \"font\": {\"color\": \"#2a3f5f\"}, \"geo\": {\"bgcolor\": \"white\", \"lakecolor\": \"white\", \"landcolor\": \"#E5ECF6\", \"showlakes\": true, \"showland\": true, \"subunitcolor\": \"white\"}, \"hoverlabel\": {\"align\": \"left\"}, \"hovermode\": \"closest\", \"mapbox\": {\"style\": \"light\"}, \"paper_bgcolor\": \"white\", \"plot_bgcolor\": \"#E5ECF6\", \"polar\": {\"angularaxis\": {\"gridcolor\": \"white\", \"linecolor\": \"white\", \"ticks\": \"\"}, \"bgcolor\": \"#E5ECF6\", \"radialaxis\": {\"gridcolor\": \"white\", \"linecolor\": \"white\", \"ticks\": \"\"}}, \"scene\": {\"xaxis\": {\"backgroundcolor\": \"#E5ECF6\", \"gridcolor\": \"white\", \"gridwidth\": 2, \"linecolor\": \"white\", \"showbackground\": true, \"ticks\": \"\", \"zerolinecolor\": \"white\"}, \"yaxis\": {\"backgroundcolor\": \"#E5ECF6\", \"gridcolor\": \"white\", \"gridwidth\": 2, \"linecolor\": \"white\", \"showbackground\": true, \"ticks\": \"\", \"zerolinecolor\": \"white\"}, \"zaxis\": {\"backgroundcolor\": \"#E5ECF6\", \"gridcolor\": \"white\", \"gridwidth\": 2, \"linecolor\": \"white\", \"showbackground\": true, \"ticks\": \"\", \"zerolinecolor\": \"white\"}}, \"shapedefaults\": {\"line\": {\"color\": \"#2a3f5f\"}}, \"ternary\": {\"aaxis\": {\"gridcolor\": \"white\", \"linecolor\": \"white\", \"ticks\": \"\"}, \"baxis\": {\"gridcolor\": \"white\", \"linecolor\": \"white\", \"ticks\": \"\"}, \"bgcolor\": \"#E5ECF6\", \"caxis\": {\"gridcolor\": \"white\", \"linecolor\": \"white\", \"ticks\": \"\"}}, \"title\": {\"x\": 0.05}, \"xaxis\": {\"automargin\": true, \"gridcolor\": \"white\", \"linecolor\": \"white\", \"ticks\": \"\", \"title\": {\"standoff\": 15}, \"zerolinecolor\": \"white\", \"zerolinewidth\": 2}, \"yaxis\": {\"automargin\": true, \"gridcolor\": \"white\", \"linecolor\": \"white\", \"ticks\": \"\", \"title\": {\"standoff\": 15}, \"zerolinecolor\": \"white\", \"zerolinewidth\": 2}}}},                        {\"responsive\": true}                    ).then(function(){\n",
              "                            \n",
              "var gd = document.getElementById('e422c022-4540-49fa-9619-18cd779da6ee');\n",
              "var x = new MutationObserver(function (mutations, observer) {{\n",
              "        var display = window.getComputedStyle(gd).display;\n",
              "        if (!display || display === 'none') {{\n",
              "            console.log([gd, 'removed!']);\n",
              "            Plotly.purge(gd);\n",
              "            observer.disconnect();\n",
              "        }}\n",
              "}});\n",
              "\n",
              "// Listen for the removal of the full notebook cells\n",
              "var notebookContainer = gd.closest('#notebook-container');\n",
              "if (notebookContainer) {{\n",
              "    x.observe(notebookContainer, {childList: true});\n",
              "}}\n",
              "\n",
              "// Listen for the clearing of the current output cell\n",
              "var outputEl = gd.closest('.output');\n",
              "if (outputEl) {{\n",
              "    x.observe(outputEl, {childList: true});\n",
              "}}\n",
              "\n",
              "                        })                };                            </script>        </div>\n",
              "</body>\n",
              "</html>"
            ]
          },
          "metadata": {
            "tags": []
          }
        }
      ]
    },
    {
      "cell_type": "markdown",
      "metadata": {
        "id": "7ae3635c"
      },
      "source": [
        "#### COUNTRIES with HIGHEST MEAN SALARIES"
      ],
      "id": "7ae3635c"
    },
    {
      "cell_type": "code",
      "metadata": {
        "colab": {
          "base_uri": "https://localhost:8080/",
          "height": 359
        },
        "id": "7103e587",
        "outputId": "7a2c7c7e-b56f-4271-b8ba-bd486e9c0143"
      },
      "source": [
        "#hide_input\n",
        "insight11 = pd.DataFrame()\n",
        "insight11 = data.groupby(\"COUNTRY_DESC\")['SALARY'].mean().round(2)\n",
        "insight11 = insight11.reset_index(\"COUNTRY_DESC\")\n",
        "insight11 = insight11.nlargest(10,'SALARY')\n",
        "insight11"
      ],
      "id": "7103e587",
      "execution_count": null,
      "outputs": [
        {
          "output_type": "execute_result",
          "data": {
            "text/html": [
              "<div>\n",
              "<style scoped>\n",
              "    .dataframe tbody tr th:only-of-type {\n",
              "        vertical-align: middle;\n",
              "    }\n",
              "\n",
              "    .dataframe tbody tr th {\n",
              "        vertical-align: top;\n",
              "    }\n",
              "\n",
              "    .dataframe thead th {\n",
              "        text-align: right;\n",
              "    }\n",
              "</style>\n",
              "<table border=\"1\" class=\"dataframe\">\n",
              "  <thead>\n",
              "    <tr style=\"text-align: right;\">\n",
              "      <th></th>\n",
              "      <th>COUNTRY_DESC</th>\n",
              "      <th>SALARY</th>\n",
              "    </tr>\n",
              "  </thead>\n",
              "  <tbody>\n",
              "    <tr>\n",
              "      <th>3</th>\n",
              "      <td>أنتيغوا وباربودا</td>\n",
              "      <td>5325.00</td>\n",
              "    </tr>\n",
              "    <tr>\n",
              "      <th>120</th>\n",
              "      <td>غيانا الفرنسيه</td>\n",
              "      <td>3150.00</td>\n",
              "    </tr>\n",
              "    <tr>\n",
              "      <th>110</th>\n",
              "      <td>سويسرا</td>\n",
              "      <td>2464.68</td>\n",
              "    </tr>\n",
              "    <tr>\n",
              "      <th>53</th>\n",
              "      <td>ايرلندا</td>\n",
              "      <td>2181.80</td>\n",
              "    </tr>\n",
              "    <tr>\n",
              "      <th>63</th>\n",
              "      <td>بلجيكا</td>\n",
              "      <td>2155.06</td>\n",
              "    </tr>\n",
              "    <tr>\n",
              "      <th>94</th>\n",
              "      <td>دومينيكا</td>\n",
              "      <td>2077.14</td>\n",
              "    </tr>\n",
              "    <tr>\n",
              "      <th>38</th>\n",
              "      <td>المملكه المتحده</td>\n",
              "      <td>2015.31</td>\n",
              "    </tr>\n",
              "    <tr>\n",
              "      <th>124</th>\n",
              "      <td>فرنسا</td>\n",
              "      <td>1944.51</td>\n",
              "    </tr>\n",
              "    <tr>\n",
              "      <th>25</th>\n",
              "      <td>السلفادور</td>\n",
              "      <td>1942.00</td>\n",
              "    </tr>\n",
              "    <tr>\n",
              "      <th>57</th>\n",
              "      <td>باراجواى</td>\n",
              "      <td>1925.00</td>\n",
              "    </tr>\n",
              "  </tbody>\n",
              "</table>\n",
              "</div>"
            ],
            "text/plain": [
              "         COUNTRY_DESC   SALARY\n",
              "3    أنتيغوا وباربودا  5325.00\n",
              "120    غيانا الفرنسيه  3150.00\n",
              "110            سويسرا  2464.68\n",
              "53            ايرلندا  2181.80\n",
              "63             بلجيكا  2155.06\n",
              "94           دومينيكا  2077.14\n",
              "38    المملكه المتحده  2015.31\n",
              "124             فرنسا  1944.51\n",
              "25          السلفادور  1942.00\n",
              "57           باراجواى  1925.00"
            ]
          },
          "metadata": {
            "tags": []
          },
          "execution_count": 53
        }
      ]
    },
    {
      "cell_type": "code",
      "metadata": {
        "colab": {
          "base_uri": "https://localhost:8080/",
          "height": 542
        },
        "id": "b0cad549",
        "outputId": "ad3699ef-459d-41d7-df9a-d4a4ee1735a9"
      },
      "source": [
        "#hide_input\n",
        "fig = px.pie(insight11, values='SALARY', names='COUNTRY_DESC',\n",
        "             title = \"COUNTRIES WITH HIGH (AVG) SALARIES\")\n",
        "fig.update_traces(textposition='inside', textinfo='percent')\n",
        "fig.show()"
      ],
      "id": "b0cad549",
      "execution_count": null,
      "outputs": [
        {
          "output_type": "display_data",
          "data": {
            "text/html": [
              "<html>\n",
              "<head><meta charset=\"utf-8\" /></head>\n",
              "<body>\n",
              "    <div>            <script src=\"https://cdnjs.cloudflare.com/ajax/libs/mathjax/2.7.5/MathJax.js?config=TeX-AMS-MML_SVG\"></script><script type=\"text/javascript\">if (window.MathJax) {MathJax.Hub.Config({SVG: {font: \"STIX-Web\"}});}</script>                <script type=\"text/javascript\">window.PlotlyConfig = {MathJaxConfig: 'local'};</script>\n",
              "        <script src=\"https://cdn.plot.ly/plotly-latest.min.js\"></script>                <div id=\"9d21ce74-3616-4889-b1bf-d616a7935430\" class=\"plotly-graph-div\" style=\"height:525px; width:100%;\"></div>            <script type=\"text/javascript\">                                    window.PLOTLYENV=window.PLOTLYENV || {};                                    if (document.getElementById(\"9d21ce74-3616-4889-b1bf-d616a7935430\")) {                    Plotly.newPlot(                        \"9d21ce74-3616-4889-b1bf-d616a7935430\",                        [{\"domain\": {\"x\": [0.0, 1.0], \"y\": [0.0, 1.0]}, \"hovertemplate\": \"COUNTRY_DESC=%{label}<br>SALARY=%{value}<extra></extra>\", \"labels\": [\"\\u0623\\u0646\\u062a\\u064a\\u063a\\u0648\\u0627 \\u0648\\u0628\\u0627\\u0631\\u0628\\u0648\\u062f\\u0627\", \"\\u063a\\u064a\\u0627\\u0646\\u0627 \\u0627\\u0644\\u0641\\u0631\\u0646\\u0633\\u064a\\u0647\", \"\\u0633\\u0648\\u064a\\u0633\\u0631\\u0627\", \"\\u0627\\u064a\\u0631\\u0644\\u0646\\u062f\\u0627\", \"\\u0628\\u0644\\u062c\\u064a\\u0643\\u0627\", \"\\u062f\\u0648\\u0645\\u064a\\u0646\\u064a\\u0643\\u0627\", \"\\u0627\\u0644\\u0645\\u0645\\u0644\\u0643\\u0647 \\u0627\\u0644\\u0645\\u062a\\u062d\\u062f\\u0647\", \"\\u0641\\u0631\\u0646\\u0633\\u0627\", \"\\u0627\\u0644\\u0633\\u0644\\u0641\\u0627\\u062f\\u0648\\u0631\", \"\\u0628\\u0627\\u0631\\u0627\\u062c\\u0648\\u0627\\u0649\"], \"legendgroup\": \"\", \"name\": \"\", \"showlegend\": true, \"textinfo\": \"percent\", \"textposition\": \"inside\", \"type\": \"pie\", \"values\": [5325.0, 3150.0, 2464.68, 2181.8, 2155.06, 2077.14, 2015.31, 1944.51, 1942.0, 1925.0]}],                        {\"legend\": {\"tracegroupgap\": 0}, \"template\": {\"data\": {\"bar\": [{\"error_x\": {\"color\": \"#2a3f5f\"}, \"error_y\": {\"color\": \"#2a3f5f\"}, \"marker\": {\"line\": {\"color\": \"#E5ECF6\", \"width\": 0.5}}, \"type\": \"bar\"}], \"barpolar\": [{\"marker\": {\"line\": {\"color\": \"#E5ECF6\", \"width\": 0.5}}, \"type\": \"barpolar\"}], \"carpet\": [{\"aaxis\": {\"endlinecolor\": \"#2a3f5f\", \"gridcolor\": \"white\", \"linecolor\": \"white\", \"minorgridcolor\": \"white\", \"startlinecolor\": \"#2a3f5f\"}, \"baxis\": {\"endlinecolor\": \"#2a3f5f\", \"gridcolor\": \"white\", \"linecolor\": \"white\", \"minorgridcolor\": \"white\", \"startlinecolor\": \"#2a3f5f\"}, \"type\": \"carpet\"}], \"choropleth\": [{\"colorbar\": {\"outlinewidth\": 0, \"ticks\": \"\"}, \"type\": \"choropleth\"}], \"contour\": [{\"colorbar\": {\"outlinewidth\": 0, \"ticks\": \"\"}, \"colorscale\": [[0.0, \"#0d0887\"], [0.1111111111111111, \"#46039f\"], [0.2222222222222222, \"#7201a8\"], [0.3333333333333333, \"#9c179e\"], [0.4444444444444444, \"#bd3786\"], [0.5555555555555556, \"#d8576b\"], [0.6666666666666666, \"#ed7953\"], [0.7777777777777778, \"#fb9f3a\"], [0.8888888888888888, \"#fdca26\"], [1.0, \"#f0f921\"]], \"type\": \"contour\"}], \"contourcarpet\": [{\"colorbar\": {\"outlinewidth\": 0, \"ticks\": \"\"}, \"type\": \"contourcarpet\"}], \"heatmap\": [{\"colorbar\": {\"outlinewidth\": 0, \"ticks\": \"\"}, \"colorscale\": [[0.0, \"#0d0887\"], [0.1111111111111111, \"#46039f\"], [0.2222222222222222, \"#7201a8\"], [0.3333333333333333, \"#9c179e\"], [0.4444444444444444, \"#bd3786\"], [0.5555555555555556, \"#d8576b\"], [0.6666666666666666, \"#ed7953\"], [0.7777777777777778, \"#fb9f3a\"], [0.8888888888888888, \"#fdca26\"], [1.0, \"#f0f921\"]], \"type\": \"heatmap\"}], \"heatmapgl\": [{\"colorbar\": {\"outlinewidth\": 0, \"ticks\": \"\"}, \"colorscale\": [[0.0, \"#0d0887\"], [0.1111111111111111, \"#46039f\"], [0.2222222222222222, \"#7201a8\"], [0.3333333333333333, \"#9c179e\"], [0.4444444444444444, \"#bd3786\"], [0.5555555555555556, \"#d8576b\"], [0.6666666666666666, \"#ed7953\"], [0.7777777777777778, \"#fb9f3a\"], [0.8888888888888888, \"#fdca26\"], [1.0, \"#f0f921\"]], \"type\": \"heatmapgl\"}], \"histogram\": [{\"marker\": {\"colorbar\": {\"outlinewidth\": 0, \"ticks\": \"\"}}, \"type\": \"histogram\"}], \"histogram2d\": [{\"colorbar\": {\"outlinewidth\": 0, \"ticks\": \"\"}, \"colorscale\": [[0.0, \"#0d0887\"], [0.1111111111111111, \"#46039f\"], [0.2222222222222222, \"#7201a8\"], [0.3333333333333333, \"#9c179e\"], [0.4444444444444444, \"#bd3786\"], [0.5555555555555556, \"#d8576b\"], [0.6666666666666666, \"#ed7953\"], [0.7777777777777778, \"#fb9f3a\"], [0.8888888888888888, \"#fdca26\"], [1.0, \"#f0f921\"]], \"type\": \"histogram2d\"}], \"histogram2dcontour\": [{\"colorbar\": {\"outlinewidth\": 0, \"ticks\": \"\"}, \"colorscale\": [[0.0, \"#0d0887\"], [0.1111111111111111, \"#46039f\"], [0.2222222222222222, \"#7201a8\"], [0.3333333333333333, \"#9c179e\"], [0.4444444444444444, \"#bd3786\"], [0.5555555555555556, \"#d8576b\"], [0.6666666666666666, \"#ed7953\"], [0.7777777777777778, \"#fb9f3a\"], [0.8888888888888888, \"#fdca26\"], [1.0, \"#f0f921\"]], \"type\": \"histogram2dcontour\"}], \"mesh3d\": [{\"colorbar\": {\"outlinewidth\": 0, \"ticks\": \"\"}, \"type\": \"mesh3d\"}], \"parcoords\": [{\"line\": {\"colorbar\": {\"outlinewidth\": 0, \"ticks\": \"\"}}, \"type\": \"parcoords\"}], \"pie\": [{\"automargin\": true, \"type\": \"pie\"}], \"scatter\": [{\"marker\": {\"colorbar\": {\"outlinewidth\": 0, \"ticks\": \"\"}}, \"type\": \"scatter\"}], \"scatter3d\": [{\"line\": {\"colorbar\": {\"outlinewidth\": 0, \"ticks\": \"\"}}, \"marker\": {\"colorbar\": {\"outlinewidth\": 0, \"ticks\": \"\"}}, \"type\": \"scatter3d\"}], \"scattercarpet\": [{\"marker\": {\"colorbar\": {\"outlinewidth\": 0, \"ticks\": \"\"}}, \"type\": \"scattercarpet\"}], \"scattergeo\": [{\"marker\": {\"colorbar\": {\"outlinewidth\": 0, \"ticks\": \"\"}}, \"type\": \"scattergeo\"}], \"scattergl\": [{\"marker\": {\"colorbar\": {\"outlinewidth\": 0, \"ticks\": \"\"}}, \"type\": \"scattergl\"}], \"scattermapbox\": [{\"marker\": {\"colorbar\": {\"outlinewidth\": 0, \"ticks\": \"\"}}, \"type\": \"scattermapbox\"}], \"scatterpolar\": [{\"marker\": {\"colorbar\": {\"outlinewidth\": 0, \"ticks\": \"\"}}, \"type\": \"scatterpolar\"}], \"scatterpolargl\": [{\"marker\": {\"colorbar\": {\"outlinewidth\": 0, \"ticks\": \"\"}}, \"type\": \"scatterpolargl\"}], \"scatterternary\": [{\"marker\": {\"colorbar\": {\"outlinewidth\": 0, \"ticks\": \"\"}}, \"type\": \"scatterternary\"}], \"surface\": [{\"colorbar\": {\"outlinewidth\": 0, \"ticks\": \"\"}, \"colorscale\": [[0.0, \"#0d0887\"], [0.1111111111111111, \"#46039f\"], [0.2222222222222222, \"#7201a8\"], [0.3333333333333333, \"#9c179e\"], [0.4444444444444444, \"#bd3786\"], [0.5555555555555556, \"#d8576b\"], [0.6666666666666666, \"#ed7953\"], [0.7777777777777778, \"#fb9f3a\"], [0.8888888888888888, \"#fdca26\"], [1.0, \"#f0f921\"]], \"type\": \"surface\"}], \"table\": [{\"cells\": {\"fill\": {\"color\": \"#EBF0F8\"}, \"line\": {\"color\": \"white\"}}, \"header\": {\"fill\": {\"color\": \"#C8D4E3\"}, \"line\": {\"color\": \"white\"}}, \"type\": \"table\"}]}, \"layout\": {\"annotationdefaults\": {\"arrowcolor\": \"#2a3f5f\", \"arrowhead\": 0, \"arrowwidth\": 1}, \"autotypenumbers\": \"strict\", \"coloraxis\": {\"colorbar\": {\"outlinewidth\": 0, \"ticks\": \"\"}}, \"colorscale\": {\"diverging\": [[0, \"#8e0152\"], [0.1, \"#c51b7d\"], [0.2, \"#de77ae\"], [0.3, \"#f1b6da\"], [0.4, \"#fde0ef\"], [0.5, \"#f7f7f7\"], [0.6, \"#e6f5d0\"], [0.7, \"#b8e186\"], [0.8, \"#7fbc41\"], [0.9, \"#4d9221\"], [1, \"#276419\"]], \"sequential\": [[0.0, \"#0d0887\"], [0.1111111111111111, \"#46039f\"], [0.2222222222222222, \"#7201a8\"], [0.3333333333333333, \"#9c179e\"], [0.4444444444444444, \"#bd3786\"], [0.5555555555555556, \"#d8576b\"], [0.6666666666666666, \"#ed7953\"], [0.7777777777777778, \"#fb9f3a\"], [0.8888888888888888, \"#fdca26\"], [1.0, \"#f0f921\"]], \"sequentialminus\": [[0.0, \"#0d0887\"], [0.1111111111111111, \"#46039f\"], [0.2222222222222222, \"#7201a8\"], [0.3333333333333333, \"#9c179e\"], [0.4444444444444444, \"#bd3786\"], [0.5555555555555556, \"#d8576b\"], [0.6666666666666666, \"#ed7953\"], [0.7777777777777778, \"#fb9f3a\"], [0.8888888888888888, \"#fdca26\"], [1.0, \"#f0f921\"]]}, \"colorway\": [\"#636efa\", \"#EF553B\", \"#00cc96\", \"#ab63fa\", \"#FFA15A\", \"#19d3f3\", \"#FF6692\", \"#B6E880\", \"#FF97FF\", \"#FECB52\"], \"font\": {\"color\": \"#2a3f5f\"}, \"geo\": {\"bgcolor\": \"white\", \"lakecolor\": \"white\", \"landcolor\": \"#E5ECF6\", \"showlakes\": true, \"showland\": true, \"subunitcolor\": \"white\"}, \"hoverlabel\": {\"align\": \"left\"}, \"hovermode\": \"closest\", \"mapbox\": {\"style\": \"light\"}, \"paper_bgcolor\": \"white\", \"plot_bgcolor\": \"#E5ECF6\", \"polar\": {\"angularaxis\": {\"gridcolor\": \"white\", \"linecolor\": \"white\", \"ticks\": \"\"}, \"bgcolor\": \"#E5ECF6\", \"radialaxis\": {\"gridcolor\": \"white\", \"linecolor\": \"white\", \"ticks\": \"\"}}, \"scene\": {\"xaxis\": {\"backgroundcolor\": \"#E5ECF6\", \"gridcolor\": \"white\", \"gridwidth\": 2, \"linecolor\": \"white\", \"showbackground\": true, \"ticks\": \"\", \"zerolinecolor\": \"white\"}, \"yaxis\": {\"backgroundcolor\": \"#E5ECF6\", \"gridcolor\": \"white\", \"gridwidth\": 2, \"linecolor\": \"white\", \"showbackground\": true, \"ticks\": \"\", \"zerolinecolor\": \"white\"}, \"zaxis\": {\"backgroundcolor\": \"#E5ECF6\", \"gridcolor\": \"white\", \"gridwidth\": 2, \"linecolor\": \"white\", \"showbackground\": true, \"ticks\": \"\", \"zerolinecolor\": \"white\"}}, \"shapedefaults\": {\"line\": {\"color\": \"#2a3f5f\"}}, \"ternary\": {\"aaxis\": {\"gridcolor\": \"white\", \"linecolor\": \"white\", \"ticks\": \"\"}, \"baxis\": {\"gridcolor\": \"white\", \"linecolor\": \"white\", \"ticks\": \"\"}, \"bgcolor\": \"#E5ECF6\", \"caxis\": {\"gridcolor\": \"white\", \"linecolor\": \"white\", \"ticks\": \"\"}}, \"title\": {\"x\": 0.05}, \"xaxis\": {\"automargin\": true, \"gridcolor\": \"white\", \"linecolor\": \"white\", \"ticks\": \"\", \"title\": {\"standoff\": 15}, \"zerolinecolor\": \"white\", \"zerolinewidth\": 2}, \"yaxis\": {\"automargin\": true, \"gridcolor\": \"white\", \"linecolor\": \"white\", \"ticks\": \"\", \"title\": {\"standoff\": 15}, \"zerolinecolor\": \"white\", \"zerolinewidth\": 2}}}, \"title\": {\"text\": \"COUNTRIES WITH HIGH (AVG) SALARIES\"}},                        {\"responsive\": true}                    ).then(function(){\n",
              "                            \n",
              "var gd = document.getElementById('9d21ce74-3616-4889-b1bf-d616a7935430');\n",
              "var x = new MutationObserver(function (mutations, observer) {{\n",
              "        var display = window.getComputedStyle(gd).display;\n",
              "        if (!display || display === 'none') {{\n",
              "            console.log([gd, 'removed!']);\n",
              "            Plotly.purge(gd);\n",
              "            observer.disconnect();\n",
              "        }}\n",
              "}});\n",
              "\n",
              "// Listen for the removal of the full notebook cells\n",
              "var notebookContainer = gd.closest('#notebook-container');\n",
              "if (notebookContainer) {{\n",
              "    x.observe(notebookContainer, {childList: true});\n",
              "}}\n",
              "\n",
              "// Listen for the clearing of the current output cell\n",
              "var outputEl = gd.closest('.output');\n",
              "if (outputEl) {{\n",
              "    x.observe(outputEl, {childList: true});\n",
              "}}\n",
              "\n",
              "                        })                };                            </script>        </div>\n",
              "</body>\n",
              "</html>"
            ]
          },
          "metadata": {
            "tags": []
          }
        }
      ]
    },
    {
      "cell_type": "markdown",
      "metadata": {
        "id": "b6bd9523"
      },
      "source": [
        "#### JOBS WITH HIGHEST MEAN SALARY"
      ],
      "id": "b6bd9523"
    },
    {
      "cell_type": "code",
      "metadata": {
        "colab": {
          "base_uri": "https://localhost:8080/",
          "height": 359
        },
        "id": "ebeedc5d",
        "outputId": "2c234c9e-918f-4b58-db18-ab2107c2ee57"
      },
      "source": [
        "#hide_input\n",
        "insight12 = pd.DataFrame()\n",
        "insight12 = data.groupby(\"JOB_DESC\")['SALARY'].mean().round(2)\n",
        "insight12 = insight12.reset_index(\"JOB_DESC\")\n",
        "insight12 = insight12.nlargest(10,'SALARY')\n",
        "insight12"
      ],
      "id": "ebeedc5d",
      "execution_count": null,
      "outputs": [
        {
          "output_type": "execute_result",
          "data": {
            "text/html": [
              "<div>\n",
              "<style scoped>\n",
              "    .dataframe tbody tr th:only-of-type {\n",
              "        vertical-align: middle;\n",
              "    }\n",
              "\n",
              "    .dataframe tbody tr th {\n",
              "        vertical-align: top;\n",
              "    }\n",
              "\n",
              "    .dataframe thead th {\n",
              "        text-align: right;\n",
              "    }\n",
              "</style>\n",
              "<table border=\"1\" class=\"dataframe\">\n",
              "  <thead>\n",
              "    <tr style=\"text-align: right;\">\n",
              "      <th></th>\n",
              "      <th>JOB_DESC</th>\n",
              "      <th>SALARY</th>\n",
              "    </tr>\n",
              "  </thead>\n",
              "  <tbody>\n",
              "    <tr>\n",
              "      <th>326</th>\n",
              "      <td>رئيس مجموعة</td>\n",
              "      <td>10869.00</td>\n",
              "    </tr>\n",
              "    <tr>\n",
              "      <th>493</th>\n",
              "      <td>طبيب إستشارى نساء وولادة وعقم وأطفال أنابيب</td>\n",
              "      <td>10000.00</td>\n",
              "    </tr>\n",
              "    <tr>\n",
              "      <th>1288</th>\n",
              "      <td>مدير جامعة</td>\n",
              "      <td>9750.00</td>\n",
              "    </tr>\n",
              "    <tr>\n",
              "      <th>1600</th>\n",
              "      <td>مساعد عضو منتدب</td>\n",
              "      <td>9563.00</td>\n",
              "    </tr>\n",
              "    <tr>\n",
              "      <th>294</th>\n",
              "      <td>رئيس جامعة</td>\n",
              "      <td>9000.00</td>\n",
              "    </tr>\n",
              "    <tr>\n",
              "      <th>290</th>\n",
              "      <td>رئيس القطاع القانوني</td>\n",
              "      <td>8792.00</td>\n",
              "    </tr>\n",
              "    <tr>\n",
              "      <th>744</th>\n",
              "      <td>عضو منتدب</td>\n",
              "      <td>7463.86</td>\n",
              "    </tr>\n",
              "    <tr>\n",
              "      <th>181</th>\n",
              "      <td>الامين العام</td>\n",
              "      <td>7000.00</td>\n",
              "    </tr>\n",
              "    <tr>\n",
              "      <th>2236</th>\n",
              "      <td>نائب اول الرئيس التنفيذي</td>\n",
              "      <td>6785.00</td>\n",
              "    </tr>\n",
              "    <tr>\n",
              "      <th>288</th>\n",
              "      <td>رئيس ادارة</td>\n",
              "      <td>6196.00</td>\n",
              "    </tr>\n",
              "  </tbody>\n",
              "</table>\n",
              "</div>"
            ],
            "text/plain": [
              "                                         JOB_DESC    SALARY\n",
              "326                                   رئيس مجموعة  10869.00\n",
              "493   طبيب إستشارى نساء وولادة وعقم وأطفال أنابيب  10000.00\n",
              "1288                                   مدير جامعة   9750.00\n",
              "1600                              مساعد عضو منتدب   9563.00\n",
              "294                                    رئيس جامعة   9000.00\n",
              "290                          رئيس القطاع القانوني   8792.00\n",
              "744                                     عضو منتدب   7463.86\n",
              "181                                  الامين العام   7000.00\n",
              "2236                     نائب اول الرئيس التنفيذي   6785.00\n",
              "288                                    رئيس ادارة   6196.00"
            ]
          },
          "metadata": {
            "tags": []
          },
          "execution_count": 55
        }
      ]
    },
    {
      "cell_type": "code",
      "metadata": {
        "colab": {
          "base_uri": "https://localhost:8080/",
          "height": 542
        },
        "id": "755652bb",
        "outputId": "bb0422db-7074-483c-be6c-a411ccd4a417"
      },
      "source": [
        "#hide_input\n",
        "fig = px.bar(insight12,x=\"JOB_DESC\",y=\"SALARY\",color=\"SALARY\",text=\"SALARY\",title = \"JOBS WITH HIGHEST MEAN SALARIES\")\n",
        "fig.show()"
      ],
      "id": "755652bb",
      "execution_count": null,
      "outputs": [
        {
          "output_type": "display_data",
          "data": {
            "text/html": [
              "<html>\n",
              "<head><meta charset=\"utf-8\" /></head>\n",
              "<body>\n",
              "    <div>            <script src=\"https://cdnjs.cloudflare.com/ajax/libs/mathjax/2.7.5/MathJax.js?config=TeX-AMS-MML_SVG\"></script><script type=\"text/javascript\">if (window.MathJax) {MathJax.Hub.Config({SVG: {font: \"STIX-Web\"}});}</script>                <script type=\"text/javascript\">window.PlotlyConfig = {MathJaxConfig: 'local'};</script>\n",
              "        <script src=\"https://cdn.plot.ly/plotly-latest.min.js\"></script>                <div id=\"dc172384-19f1-4b1f-8ce1-e25b4036e03a\" class=\"plotly-graph-div\" style=\"height:525px; width:100%;\"></div>            <script type=\"text/javascript\">                                    window.PLOTLYENV=window.PLOTLYENV || {};                                    if (document.getElementById(\"dc172384-19f1-4b1f-8ce1-e25b4036e03a\")) {                    Plotly.newPlot(                        \"dc172384-19f1-4b1f-8ce1-e25b4036e03a\",                        [{\"alignmentgroup\": \"True\", \"hovertemplate\": \"JOB_DESC=%{x}<br>SALARY=%{marker.color}<extra></extra>\", \"legendgroup\": \"\", \"marker\": {\"color\": [10869.0, 10000.0, 9750.0, 9563.0, 9000.0, 8792.0, 7463.86, 7000.0, 6785.0, 6196.0], \"coloraxis\": \"coloraxis\"}, \"name\": \"\", \"offsetgroup\": \"\", \"orientation\": \"v\", \"showlegend\": false, \"text\": [10869.0, 10000.0, 9750.0, 9563.0, 9000.0, 8792.0, 7463.86, 7000.0, 6785.0, 6196.0], \"textposition\": \"auto\", \"type\": \"bar\", \"x\": [\"\\u0631\\u0626\\u064a\\u0633 \\u0645\\u062c\\u0645\\u0648\\u0639\\u0629\", \"\\u0637\\u0628\\u064a\\u0628 \\u0625\\u0633\\u062a\\u0634\\u0627\\u0631\\u0649 \\u0646\\u0633\\u0627\\u0621 \\u0648\\u0648\\u0644\\u0627\\u062f\\u0629 \\u0648\\u0639\\u0642\\u0645 \\u0648\\u0623\\u0637\\u0641\\u0627\\u0644 \\u0623\\u0646\\u0627\\u0628\\u064a\\u0628\", \"\\u0645\\u062f\\u064a\\u0631 \\u062c\\u0627\\u0645\\u0639\\u0629\", \"\\u0645\\u0633\\u0627\\u0639\\u062f \\u0639\\u0636\\u0648 \\u0645\\u0646\\u062a\\u062f\\u0628\", \"\\u0631\\u0626\\u064a\\u0633 \\u062c\\u0627\\u0645\\u0639\\u0629\", \"\\u0631\\u0626\\u064a\\u0633 \\u0627\\u0644\\u0642\\u0637\\u0627\\u0639 \\u0627\\u0644\\u0642\\u0627\\u0646\\u0648\\u0646\\u064a\", \"\\u0639\\u0636\\u0648 \\u0645\\u0646\\u062a\\u062f\\u0628\", \"\\u0627\\u0644\\u0627\\u0645\\u064a\\u0646 \\u0627\\u0644\\u0639\\u0627\\u0645\", \"\\u0646\\u0627\\u0626\\u0628 \\u0627\\u0648\\u0644 \\u0627\\u0644\\u0631\\u0626\\u064a\\u0633 \\u0627\\u0644\\u062a\\u0646\\u0641\\u064a\\u0630\\u064a\", \"\\u0631\\u0626\\u064a\\u0633 \\u0627\\u062f\\u0627\\u0631\\u0629\"], \"xaxis\": \"x\", \"y\": [10869.0, 10000.0, 9750.0, 9563.0, 9000.0, 8792.0, 7463.86, 7000.0, 6785.0, 6196.0], \"yaxis\": \"y\"}],                        {\"barmode\": \"relative\", \"coloraxis\": {\"colorbar\": {\"title\": {\"text\": \"SALARY\"}}, \"colorscale\": [[0.0, \"#0d0887\"], [0.1111111111111111, \"#46039f\"], [0.2222222222222222, \"#7201a8\"], [0.3333333333333333, \"#9c179e\"], [0.4444444444444444, \"#bd3786\"], [0.5555555555555556, \"#d8576b\"], [0.6666666666666666, \"#ed7953\"], [0.7777777777777778, \"#fb9f3a\"], [0.8888888888888888, \"#fdca26\"], [1.0, \"#f0f921\"]]}, \"legend\": {\"tracegroupgap\": 0}, \"template\": {\"data\": {\"bar\": [{\"error_x\": {\"color\": \"#2a3f5f\"}, \"error_y\": {\"color\": \"#2a3f5f\"}, \"marker\": {\"line\": {\"color\": \"#E5ECF6\", \"width\": 0.5}}, \"type\": \"bar\"}], \"barpolar\": [{\"marker\": {\"line\": {\"color\": \"#E5ECF6\", \"width\": 0.5}}, \"type\": \"barpolar\"}], \"carpet\": [{\"aaxis\": {\"endlinecolor\": \"#2a3f5f\", \"gridcolor\": \"white\", \"linecolor\": \"white\", \"minorgridcolor\": \"white\", \"startlinecolor\": \"#2a3f5f\"}, \"baxis\": {\"endlinecolor\": \"#2a3f5f\", \"gridcolor\": \"white\", \"linecolor\": \"white\", \"minorgridcolor\": \"white\", \"startlinecolor\": \"#2a3f5f\"}, \"type\": \"carpet\"}], \"choropleth\": [{\"colorbar\": {\"outlinewidth\": 0, \"ticks\": \"\"}, \"type\": \"choropleth\"}], \"contour\": [{\"colorbar\": {\"outlinewidth\": 0, \"ticks\": \"\"}, \"colorscale\": [[0.0, \"#0d0887\"], [0.1111111111111111, \"#46039f\"], [0.2222222222222222, \"#7201a8\"], [0.3333333333333333, \"#9c179e\"], [0.4444444444444444, \"#bd3786\"], [0.5555555555555556, \"#d8576b\"], [0.6666666666666666, \"#ed7953\"], [0.7777777777777778, \"#fb9f3a\"], [0.8888888888888888, \"#fdca26\"], [1.0, \"#f0f921\"]], \"type\": \"contour\"}], \"contourcarpet\": [{\"colorbar\": {\"outlinewidth\": 0, \"ticks\": \"\"}, \"type\": \"contourcarpet\"}], \"heatmap\": [{\"colorbar\": {\"outlinewidth\": 0, \"ticks\": \"\"}, \"colorscale\": [[0.0, \"#0d0887\"], [0.1111111111111111, \"#46039f\"], [0.2222222222222222, \"#7201a8\"], [0.3333333333333333, \"#9c179e\"], [0.4444444444444444, \"#bd3786\"], [0.5555555555555556, \"#d8576b\"], [0.6666666666666666, \"#ed7953\"], [0.7777777777777778, \"#fb9f3a\"], [0.8888888888888888, \"#fdca26\"], [1.0, \"#f0f921\"]], \"type\": \"heatmap\"}], \"heatmapgl\": [{\"colorbar\": {\"outlinewidth\": 0, \"ticks\": \"\"}, \"colorscale\": [[0.0, \"#0d0887\"], [0.1111111111111111, \"#46039f\"], [0.2222222222222222, \"#7201a8\"], [0.3333333333333333, \"#9c179e\"], [0.4444444444444444, \"#bd3786\"], [0.5555555555555556, \"#d8576b\"], [0.6666666666666666, \"#ed7953\"], [0.7777777777777778, \"#fb9f3a\"], [0.8888888888888888, \"#fdca26\"], [1.0, \"#f0f921\"]], \"type\": \"heatmapgl\"}], \"histogram\": [{\"marker\": {\"colorbar\": {\"outlinewidth\": 0, \"ticks\": \"\"}}, \"type\": \"histogram\"}], \"histogram2d\": [{\"colorbar\": {\"outlinewidth\": 0, \"ticks\": \"\"}, \"colorscale\": [[0.0, \"#0d0887\"], [0.1111111111111111, \"#46039f\"], [0.2222222222222222, \"#7201a8\"], [0.3333333333333333, \"#9c179e\"], [0.4444444444444444, \"#bd3786\"], [0.5555555555555556, \"#d8576b\"], [0.6666666666666666, \"#ed7953\"], [0.7777777777777778, \"#fb9f3a\"], [0.8888888888888888, \"#fdca26\"], [1.0, \"#f0f921\"]], \"type\": \"histogram2d\"}], \"histogram2dcontour\": [{\"colorbar\": {\"outlinewidth\": 0, \"ticks\": \"\"}, \"colorscale\": [[0.0, \"#0d0887\"], [0.1111111111111111, \"#46039f\"], [0.2222222222222222, \"#7201a8\"], [0.3333333333333333, \"#9c179e\"], [0.4444444444444444, \"#bd3786\"], [0.5555555555555556, \"#d8576b\"], [0.6666666666666666, \"#ed7953\"], [0.7777777777777778, \"#fb9f3a\"], [0.8888888888888888, \"#fdca26\"], [1.0, \"#f0f921\"]], \"type\": \"histogram2dcontour\"}], \"mesh3d\": [{\"colorbar\": {\"outlinewidth\": 0, \"ticks\": \"\"}, \"type\": \"mesh3d\"}], \"parcoords\": [{\"line\": {\"colorbar\": {\"outlinewidth\": 0, \"ticks\": \"\"}}, \"type\": \"parcoords\"}], \"pie\": [{\"automargin\": true, \"type\": \"pie\"}], \"scatter\": [{\"marker\": {\"colorbar\": {\"outlinewidth\": 0, \"ticks\": \"\"}}, \"type\": \"scatter\"}], \"scatter3d\": [{\"line\": {\"colorbar\": {\"outlinewidth\": 0, \"ticks\": \"\"}}, \"marker\": {\"colorbar\": {\"outlinewidth\": 0, \"ticks\": \"\"}}, \"type\": \"scatter3d\"}], \"scattercarpet\": [{\"marker\": {\"colorbar\": {\"outlinewidth\": 0, \"ticks\": \"\"}}, \"type\": \"scattercarpet\"}], \"scattergeo\": [{\"marker\": {\"colorbar\": {\"outlinewidth\": 0, \"ticks\": \"\"}}, \"type\": \"scattergeo\"}], \"scattergl\": [{\"marker\": {\"colorbar\": {\"outlinewidth\": 0, \"ticks\": \"\"}}, \"type\": \"scattergl\"}], \"scattermapbox\": [{\"marker\": {\"colorbar\": {\"outlinewidth\": 0, \"ticks\": \"\"}}, \"type\": \"scattermapbox\"}], \"scatterpolar\": [{\"marker\": {\"colorbar\": {\"outlinewidth\": 0, \"ticks\": \"\"}}, \"type\": \"scatterpolar\"}], \"scatterpolargl\": [{\"marker\": {\"colorbar\": {\"outlinewidth\": 0, \"ticks\": \"\"}}, \"type\": \"scatterpolargl\"}], \"scatterternary\": [{\"marker\": {\"colorbar\": {\"outlinewidth\": 0, \"ticks\": \"\"}}, \"type\": \"scatterternary\"}], \"surface\": [{\"colorbar\": {\"outlinewidth\": 0, \"ticks\": \"\"}, \"colorscale\": [[0.0, \"#0d0887\"], [0.1111111111111111, \"#46039f\"], [0.2222222222222222, \"#7201a8\"], [0.3333333333333333, \"#9c179e\"], [0.4444444444444444, \"#bd3786\"], [0.5555555555555556, \"#d8576b\"], [0.6666666666666666, \"#ed7953\"], [0.7777777777777778, \"#fb9f3a\"], [0.8888888888888888, \"#fdca26\"], [1.0, \"#f0f921\"]], \"type\": \"surface\"}], \"table\": [{\"cells\": {\"fill\": {\"color\": \"#EBF0F8\"}, \"line\": {\"color\": \"white\"}}, \"header\": {\"fill\": {\"color\": \"#C8D4E3\"}, \"line\": {\"color\": \"white\"}}, \"type\": \"table\"}]}, \"layout\": {\"annotationdefaults\": {\"arrowcolor\": \"#2a3f5f\", \"arrowhead\": 0, \"arrowwidth\": 1}, \"autotypenumbers\": \"strict\", \"coloraxis\": {\"colorbar\": {\"outlinewidth\": 0, \"ticks\": \"\"}}, \"colorscale\": {\"diverging\": [[0, \"#8e0152\"], [0.1, \"#c51b7d\"], [0.2, \"#de77ae\"], [0.3, \"#f1b6da\"], [0.4, \"#fde0ef\"], [0.5, \"#f7f7f7\"], [0.6, \"#e6f5d0\"], [0.7, \"#b8e186\"], [0.8, \"#7fbc41\"], [0.9, \"#4d9221\"], [1, \"#276419\"]], \"sequential\": [[0.0, \"#0d0887\"], [0.1111111111111111, \"#46039f\"], [0.2222222222222222, \"#7201a8\"], [0.3333333333333333, \"#9c179e\"], [0.4444444444444444, \"#bd3786\"], [0.5555555555555556, \"#d8576b\"], [0.6666666666666666, \"#ed7953\"], [0.7777777777777778, \"#fb9f3a\"], [0.8888888888888888, \"#fdca26\"], [1.0, \"#f0f921\"]], \"sequentialminus\": [[0.0, \"#0d0887\"], [0.1111111111111111, \"#46039f\"], [0.2222222222222222, \"#7201a8\"], [0.3333333333333333, \"#9c179e\"], [0.4444444444444444, \"#bd3786\"], [0.5555555555555556, \"#d8576b\"], [0.6666666666666666, \"#ed7953\"], [0.7777777777777778, \"#fb9f3a\"], [0.8888888888888888, \"#fdca26\"], [1.0, \"#f0f921\"]]}, \"colorway\": [\"#636efa\", \"#EF553B\", \"#00cc96\", \"#ab63fa\", \"#FFA15A\", \"#19d3f3\", \"#FF6692\", \"#B6E880\", \"#FF97FF\", \"#FECB52\"], \"font\": {\"color\": \"#2a3f5f\"}, \"geo\": {\"bgcolor\": \"white\", \"lakecolor\": \"white\", \"landcolor\": \"#E5ECF6\", \"showlakes\": true, \"showland\": true, \"subunitcolor\": \"white\"}, \"hoverlabel\": {\"align\": \"left\"}, \"hovermode\": \"closest\", \"mapbox\": {\"style\": \"light\"}, \"paper_bgcolor\": \"white\", \"plot_bgcolor\": \"#E5ECF6\", \"polar\": {\"angularaxis\": {\"gridcolor\": \"white\", \"linecolor\": \"white\", \"ticks\": \"\"}, \"bgcolor\": \"#E5ECF6\", \"radialaxis\": {\"gridcolor\": \"white\", \"linecolor\": \"white\", \"ticks\": \"\"}}, \"scene\": {\"xaxis\": {\"backgroundcolor\": \"#E5ECF6\", \"gridcolor\": \"white\", \"gridwidth\": 2, \"linecolor\": \"white\", \"showbackground\": true, \"ticks\": \"\", \"zerolinecolor\": \"white\"}, \"yaxis\": {\"backgroundcolor\": \"#E5ECF6\", \"gridcolor\": \"white\", \"gridwidth\": 2, \"linecolor\": \"white\", \"showbackground\": true, \"ticks\": \"\", \"zerolinecolor\": \"white\"}, \"zaxis\": {\"backgroundcolor\": \"#E5ECF6\", \"gridcolor\": \"white\", \"gridwidth\": 2, \"linecolor\": \"white\", \"showbackground\": true, \"ticks\": \"\", \"zerolinecolor\": \"white\"}}, \"shapedefaults\": {\"line\": {\"color\": \"#2a3f5f\"}}, \"ternary\": {\"aaxis\": {\"gridcolor\": \"white\", \"linecolor\": \"white\", \"ticks\": \"\"}, \"baxis\": {\"gridcolor\": \"white\", \"linecolor\": \"white\", \"ticks\": \"\"}, \"bgcolor\": \"#E5ECF6\", \"caxis\": {\"gridcolor\": \"white\", \"linecolor\": \"white\", \"ticks\": \"\"}}, \"title\": {\"x\": 0.05}, \"xaxis\": {\"automargin\": true, \"gridcolor\": \"white\", \"linecolor\": \"white\", \"ticks\": \"\", \"title\": {\"standoff\": 15}, \"zerolinecolor\": \"white\", \"zerolinewidth\": 2}, \"yaxis\": {\"automargin\": true, \"gridcolor\": \"white\", \"linecolor\": \"white\", \"ticks\": \"\", \"title\": {\"standoff\": 15}, \"zerolinecolor\": \"white\", \"zerolinewidth\": 2}}}, \"title\": {\"text\": \"JOBS WITH HIGHEST MEAN SALARIES\"}, \"xaxis\": {\"anchor\": \"y\", \"domain\": [0.0, 1.0], \"title\": {\"text\": \"JOB_DESC\"}}, \"yaxis\": {\"anchor\": \"x\", \"domain\": [0.0, 1.0], \"title\": {\"text\": \"SALARY\"}}},                        {\"responsive\": true}                    ).then(function(){\n",
              "                            \n",
              "var gd = document.getElementById('dc172384-19f1-4b1f-8ce1-e25b4036e03a');\n",
              "var x = new MutationObserver(function (mutations, observer) {{\n",
              "        var display = window.getComputedStyle(gd).display;\n",
              "        if (!display || display === 'none') {{\n",
              "            console.log([gd, 'removed!']);\n",
              "            Plotly.purge(gd);\n",
              "            observer.disconnect();\n",
              "        }}\n",
              "}});\n",
              "\n",
              "// Listen for the removal of the full notebook cells\n",
              "var notebookContainer = gd.closest('#notebook-container');\n",
              "if (notebookContainer) {{\n",
              "    x.observe(notebookContainer, {childList: true});\n",
              "}}\n",
              "\n",
              "// Listen for the clearing of the current output cell\n",
              "var outputEl = gd.closest('.output');\n",
              "if (outputEl) {{\n",
              "    x.observe(outputEl, {childList: true});\n",
              "}}\n",
              "\n",
              "                        })                };                            </script>        </div>\n",
              "</body>\n",
              "</html>"
            ]
          },
          "metadata": {
            "tags": []
          }
        }
      ]
    },
    {
      "cell_type": "markdown",
      "metadata": {
        "id": "e4529c28"
      },
      "source": [
        "#### HIGH MEAN SALARIES OF DIFFERENT EDUCATIONAL BACKGROUNDS"
      ],
      "id": "e4529c28"
    },
    {
      "cell_type": "code",
      "metadata": {
        "colab": {
          "base_uri": "https://localhost:8080/",
          "height": 359
        },
        "id": "3f441a23",
        "outputId": "6c4bed04-e157-49c9-80f9-80d57cd5c366"
      },
      "source": [
        "#hide_input\n",
        "insight13 = pd.DataFrame()\n",
        "insight13 = data.groupby(\"EDUCATION_DESC\")['SALARY'].mean().round(2)\n",
        "insight13 = insight13.reset_index(\"EDUCATION_DESC\")\n",
        "insight13 = insight13.nlargest(10,'SALARY')\n",
        "insight13"
      ],
      "id": "3f441a23",
      "execution_count": null,
      "outputs": [
        {
          "output_type": "execute_result",
          "data": {
            "text/html": [
              "<div>\n",
              "<style scoped>\n",
              "    .dataframe tbody tr th:only-of-type {\n",
              "        vertical-align: middle;\n",
              "    }\n",
              "\n",
              "    .dataframe tbody tr th {\n",
              "        vertical-align: top;\n",
              "    }\n",
              "\n",
              "    .dataframe thead th {\n",
              "        text-align: right;\n",
              "    }\n",
              "</style>\n",
              "<table border=\"1\" class=\"dataframe\">\n",
              "  <thead>\n",
              "    <tr style=\"text-align: right;\">\n",
              "      <th></th>\n",
              "      <th>EDUCATION_DESC</th>\n",
              "      <th>SALARY</th>\n",
              "    </tr>\n",
              "  </thead>\n",
              "  <tbody>\n",
              "    <tr>\n",
              "      <th>9</th>\n",
              "      <td>دكتوراه</td>\n",
              "      <td>1437.19</td>\n",
              "    </tr>\n",
              "    <tr>\n",
              "      <th>10</th>\n",
              "      <td>ماجستير</td>\n",
              "      <td>1320.29</td>\n",
              "    </tr>\n",
              "    <tr>\n",
              "      <th>3</th>\n",
              "      <td>جامعى</td>\n",
              "      <td>852.71</td>\n",
              "    </tr>\n",
              "    <tr>\n",
              "      <th>4</th>\n",
              "      <td>جامعي</td>\n",
              "      <td>825.07</td>\n",
              "    </tr>\n",
              "    <tr>\n",
              "      <th>8</th>\n",
              "      <td>دبلوم دراسات عليا سنتان بعد الجامعى</td>\n",
              "      <td>767.83</td>\n",
              "    </tr>\n",
              "    <tr>\n",
              "      <th>0</th>\n",
              "      <td></td>\n",
              "      <td>581.84</td>\n",
              "    </tr>\n",
              "    <tr>\n",
              "      <th>7</th>\n",
              "      <td>دبلوم دراسات عليا سنة بعد الجامعى</td>\n",
              "      <td>527.28</td>\n",
              "    </tr>\n",
              "    <tr>\n",
              "      <th>2</th>\n",
              "      <td>ثانوية</td>\n",
              "      <td>287.74</td>\n",
              "    </tr>\n",
              "    <tr>\n",
              "      <th>6</th>\n",
              "      <td>دبلوم</td>\n",
              "      <td>233.91</td>\n",
              "    </tr>\n",
              "    <tr>\n",
              "      <th>11</th>\n",
              "      <td>متوسط</td>\n",
              "      <td>210.35</td>\n",
              "    </tr>\n",
              "  </tbody>\n",
              "</table>\n",
              "</div>"
            ],
            "text/plain": [
              "                         EDUCATION_DESC   SALARY\n",
              "9                               دكتوراه  1437.19\n",
              "10                              ماجستير  1320.29\n",
              "3                                 جامعى   852.71\n",
              "4                                 جامعي   825.07\n",
              "8   دبلوم دراسات عليا سنتان بعد الجامعى   767.83\n",
              "0                                         581.84\n",
              "7     دبلوم دراسات عليا سنة بعد الجامعى   527.28\n",
              "2                                ثانوية   287.74\n",
              "6                                 دبلوم   233.91\n",
              "11                                متوسط   210.35"
            ]
          },
          "metadata": {
            "tags": []
          },
          "execution_count": 57
        }
      ]
    },
    {
      "cell_type": "code",
      "metadata": {
        "colab": {
          "base_uri": "https://localhost:8080/",
          "height": 542
        },
        "id": "e7bb3c69",
        "outputId": "93687d2e-2431-4137-bf7b-0437d6a7b8c1"
      },
      "source": [
        "#hide_input\n",
        "fig = px.bar(insight13,x=\"EDUCATION_DESC\",y=\"SALARY\",color=\"SALARY\",text=\"SALARY\",title = \"HIGHEST MEAN SALARIES OF DIFFERENT EDUCATIONAL BACKGROUNDS\")\n",
        "fig.show()"
      ],
      "id": "e7bb3c69",
      "execution_count": null,
      "outputs": [
        {
          "output_type": "display_data",
          "data": {
            "text/html": [
              "<html>\n",
              "<head><meta charset=\"utf-8\" /></head>\n",
              "<body>\n",
              "    <div>            <script src=\"https://cdnjs.cloudflare.com/ajax/libs/mathjax/2.7.5/MathJax.js?config=TeX-AMS-MML_SVG\"></script><script type=\"text/javascript\">if (window.MathJax) {MathJax.Hub.Config({SVG: {font: \"STIX-Web\"}});}</script>                <script type=\"text/javascript\">window.PlotlyConfig = {MathJaxConfig: 'local'};</script>\n",
              "        <script src=\"https://cdn.plot.ly/plotly-latest.min.js\"></script>                <div id=\"17975248-b99c-4b9c-ad3d-d4d3002b4aa2\" class=\"plotly-graph-div\" style=\"height:525px; width:100%;\"></div>            <script type=\"text/javascript\">                                    window.PLOTLYENV=window.PLOTLYENV || {};                                    if (document.getElementById(\"17975248-b99c-4b9c-ad3d-d4d3002b4aa2\")) {                    Plotly.newPlot(                        \"17975248-b99c-4b9c-ad3d-d4d3002b4aa2\",                        [{\"alignmentgroup\": \"True\", \"hovertemplate\": \"EDUCATION_DESC=%{x}<br>SALARY=%{marker.color}<extra></extra>\", \"legendgroup\": \"\", \"marker\": {\"color\": [1437.19, 1320.29, 852.71, 825.07, 767.83, 581.84, 527.28, 287.74, 233.91, 210.35], \"coloraxis\": \"coloraxis\"}, \"name\": \"\", \"offsetgroup\": \"\", \"orientation\": \"v\", \"showlegend\": false, \"text\": [1437.19, 1320.29, 852.71, 825.07, 767.83, 581.84, 527.28, 287.74, 233.91, 210.35], \"textposition\": \"auto\", \"type\": \"bar\", \"x\": [\"\\u062f\\u0643\\u062a\\u0648\\u0631\\u0627\\u0647\", \"\\u0645\\u0627\\u062c\\u0633\\u062a\\u064a\\u0631\", \"\\u062c\\u0627\\u0645\\u0639\\u0649\", \"\\u062c\\u0627\\u0645\\u0639\\u064a\", \"\\u062f\\u0628\\u0644\\u0648\\u0645 \\u062f\\u0631\\u0627\\u0633\\u0627\\u062a \\u0639\\u0644\\u064a\\u0627 \\u0633\\u0646\\u062a\\u0627\\u0646 \\u0628\\u0639\\u062f \\u0627\\u0644\\u062c\\u0627\\u0645\\u0639\\u0649\", \"\", \"\\u062f\\u0628\\u0644\\u0648\\u0645 \\u062f\\u0631\\u0627\\u0633\\u0627\\u062a \\u0639\\u0644\\u064a\\u0627 \\u0633\\u0646\\u0629 \\u0628\\u0639\\u062f \\u0627\\u0644\\u062c\\u0627\\u0645\\u0639\\u0649\", \"\\u062b\\u0627\\u0646\\u0648\\u064a\\u0629\", \"\\u062f\\u0628\\u0644\\u0648\\u0645\", \"\\u0645\\u062a\\u0648\\u0633\\u0637\"], \"xaxis\": \"x\", \"y\": [1437.19, 1320.29, 852.71, 825.07, 767.83, 581.84, 527.28, 287.74, 233.91, 210.35], \"yaxis\": \"y\"}],                        {\"barmode\": \"relative\", \"coloraxis\": {\"colorbar\": {\"title\": {\"text\": \"SALARY\"}}, \"colorscale\": [[0.0, \"#0d0887\"], [0.1111111111111111, \"#46039f\"], [0.2222222222222222, \"#7201a8\"], [0.3333333333333333, \"#9c179e\"], [0.4444444444444444, \"#bd3786\"], [0.5555555555555556, \"#d8576b\"], [0.6666666666666666, \"#ed7953\"], [0.7777777777777778, \"#fb9f3a\"], [0.8888888888888888, \"#fdca26\"], [1.0, \"#f0f921\"]]}, \"legend\": {\"tracegroupgap\": 0}, \"template\": {\"data\": {\"bar\": [{\"error_x\": {\"color\": \"#2a3f5f\"}, \"error_y\": {\"color\": \"#2a3f5f\"}, \"marker\": {\"line\": {\"color\": \"#E5ECF6\", \"width\": 0.5}}, \"type\": \"bar\"}], \"barpolar\": [{\"marker\": {\"line\": {\"color\": \"#E5ECF6\", \"width\": 0.5}}, \"type\": \"barpolar\"}], \"carpet\": [{\"aaxis\": {\"endlinecolor\": \"#2a3f5f\", \"gridcolor\": \"white\", \"linecolor\": \"white\", \"minorgridcolor\": \"white\", \"startlinecolor\": \"#2a3f5f\"}, \"baxis\": {\"endlinecolor\": \"#2a3f5f\", \"gridcolor\": \"white\", \"linecolor\": \"white\", \"minorgridcolor\": \"white\", \"startlinecolor\": \"#2a3f5f\"}, \"type\": \"carpet\"}], \"choropleth\": [{\"colorbar\": {\"outlinewidth\": 0, \"ticks\": \"\"}, \"type\": \"choropleth\"}], \"contour\": [{\"colorbar\": {\"outlinewidth\": 0, \"ticks\": \"\"}, \"colorscale\": [[0.0, \"#0d0887\"], [0.1111111111111111, \"#46039f\"], [0.2222222222222222, \"#7201a8\"], [0.3333333333333333, \"#9c179e\"], [0.4444444444444444, \"#bd3786\"], [0.5555555555555556, \"#d8576b\"], [0.6666666666666666, \"#ed7953\"], [0.7777777777777778, \"#fb9f3a\"], [0.8888888888888888, \"#fdca26\"], [1.0, \"#f0f921\"]], \"type\": \"contour\"}], \"contourcarpet\": [{\"colorbar\": {\"outlinewidth\": 0, \"ticks\": \"\"}, \"type\": \"contourcarpet\"}], \"heatmap\": [{\"colorbar\": {\"outlinewidth\": 0, \"ticks\": \"\"}, \"colorscale\": [[0.0, \"#0d0887\"], [0.1111111111111111, \"#46039f\"], [0.2222222222222222, \"#7201a8\"], [0.3333333333333333, \"#9c179e\"], [0.4444444444444444, \"#bd3786\"], [0.5555555555555556, \"#d8576b\"], [0.6666666666666666, \"#ed7953\"], [0.7777777777777778, \"#fb9f3a\"], [0.8888888888888888, \"#fdca26\"], [1.0, \"#f0f921\"]], \"type\": \"heatmap\"}], \"heatmapgl\": [{\"colorbar\": {\"outlinewidth\": 0, \"ticks\": \"\"}, \"colorscale\": [[0.0, \"#0d0887\"], [0.1111111111111111, \"#46039f\"], [0.2222222222222222, \"#7201a8\"], [0.3333333333333333, \"#9c179e\"], [0.4444444444444444, \"#bd3786\"], [0.5555555555555556, \"#d8576b\"], [0.6666666666666666, \"#ed7953\"], [0.7777777777777778, \"#fb9f3a\"], [0.8888888888888888, \"#fdca26\"], [1.0, \"#f0f921\"]], \"type\": \"heatmapgl\"}], \"histogram\": [{\"marker\": {\"colorbar\": {\"outlinewidth\": 0, \"ticks\": \"\"}}, \"type\": \"histogram\"}], \"histogram2d\": [{\"colorbar\": {\"outlinewidth\": 0, \"ticks\": \"\"}, \"colorscale\": [[0.0, \"#0d0887\"], [0.1111111111111111, \"#46039f\"], [0.2222222222222222, \"#7201a8\"], [0.3333333333333333, \"#9c179e\"], [0.4444444444444444, \"#bd3786\"], [0.5555555555555556, \"#d8576b\"], [0.6666666666666666, \"#ed7953\"], [0.7777777777777778, \"#fb9f3a\"], [0.8888888888888888, \"#fdca26\"], [1.0, \"#f0f921\"]], \"type\": \"histogram2d\"}], \"histogram2dcontour\": [{\"colorbar\": {\"outlinewidth\": 0, \"ticks\": \"\"}, \"colorscale\": [[0.0, \"#0d0887\"], [0.1111111111111111, \"#46039f\"], [0.2222222222222222, \"#7201a8\"], [0.3333333333333333, \"#9c179e\"], [0.4444444444444444, \"#bd3786\"], [0.5555555555555556, \"#d8576b\"], [0.6666666666666666, \"#ed7953\"], [0.7777777777777778, \"#fb9f3a\"], [0.8888888888888888, \"#fdca26\"], [1.0, \"#f0f921\"]], \"type\": \"histogram2dcontour\"}], \"mesh3d\": [{\"colorbar\": {\"outlinewidth\": 0, \"ticks\": \"\"}, \"type\": \"mesh3d\"}], \"parcoords\": [{\"line\": {\"colorbar\": {\"outlinewidth\": 0, \"ticks\": \"\"}}, \"type\": \"parcoords\"}], \"pie\": [{\"automargin\": true, \"type\": \"pie\"}], \"scatter\": [{\"marker\": {\"colorbar\": {\"outlinewidth\": 0, \"ticks\": \"\"}}, \"type\": \"scatter\"}], \"scatter3d\": [{\"line\": {\"colorbar\": {\"outlinewidth\": 0, \"ticks\": \"\"}}, \"marker\": {\"colorbar\": {\"outlinewidth\": 0, \"ticks\": \"\"}}, \"type\": \"scatter3d\"}], \"scattercarpet\": [{\"marker\": {\"colorbar\": {\"outlinewidth\": 0, \"ticks\": \"\"}}, \"type\": \"scattercarpet\"}], \"scattergeo\": [{\"marker\": {\"colorbar\": {\"outlinewidth\": 0, \"ticks\": \"\"}}, \"type\": \"scattergeo\"}], \"scattergl\": [{\"marker\": {\"colorbar\": {\"outlinewidth\": 0, \"ticks\": \"\"}}, \"type\": \"scattergl\"}], \"scattermapbox\": [{\"marker\": {\"colorbar\": {\"outlinewidth\": 0, \"ticks\": \"\"}}, \"type\": \"scattermapbox\"}], \"scatterpolar\": [{\"marker\": {\"colorbar\": {\"outlinewidth\": 0, \"ticks\": \"\"}}, \"type\": \"scatterpolar\"}], \"scatterpolargl\": [{\"marker\": {\"colorbar\": {\"outlinewidth\": 0, \"ticks\": \"\"}}, \"type\": \"scatterpolargl\"}], \"scatterternary\": [{\"marker\": {\"colorbar\": {\"outlinewidth\": 0, \"ticks\": \"\"}}, \"type\": \"scatterternary\"}], \"surface\": [{\"colorbar\": {\"outlinewidth\": 0, \"ticks\": \"\"}, \"colorscale\": [[0.0, \"#0d0887\"], [0.1111111111111111, \"#46039f\"], [0.2222222222222222, \"#7201a8\"], [0.3333333333333333, \"#9c179e\"], [0.4444444444444444, \"#bd3786\"], [0.5555555555555556, \"#d8576b\"], [0.6666666666666666, \"#ed7953\"], [0.7777777777777778, \"#fb9f3a\"], [0.8888888888888888, \"#fdca26\"], [1.0, \"#f0f921\"]], \"type\": \"surface\"}], \"table\": [{\"cells\": {\"fill\": {\"color\": \"#EBF0F8\"}, \"line\": {\"color\": \"white\"}}, \"header\": {\"fill\": {\"color\": \"#C8D4E3\"}, \"line\": {\"color\": \"white\"}}, \"type\": \"table\"}]}, \"layout\": {\"annotationdefaults\": {\"arrowcolor\": \"#2a3f5f\", \"arrowhead\": 0, \"arrowwidth\": 1}, \"autotypenumbers\": \"strict\", \"coloraxis\": {\"colorbar\": {\"outlinewidth\": 0, \"ticks\": \"\"}}, \"colorscale\": {\"diverging\": [[0, \"#8e0152\"], [0.1, \"#c51b7d\"], [0.2, \"#de77ae\"], [0.3, \"#f1b6da\"], [0.4, \"#fde0ef\"], [0.5, \"#f7f7f7\"], [0.6, \"#e6f5d0\"], [0.7, \"#b8e186\"], [0.8, \"#7fbc41\"], [0.9, \"#4d9221\"], [1, \"#276419\"]], \"sequential\": [[0.0, \"#0d0887\"], [0.1111111111111111, \"#46039f\"], [0.2222222222222222, \"#7201a8\"], [0.3333333333333333, \"#9c179e\"], [0.4444444444444444, \"#bd3786\"], [0.5555555555555556, \"#d8576b\"], [0.6666666666666666, \"#ed7953\"], [0.7777777777777778, \"#fb9f3a\"], [0.8888888888888888, \"#fdca26\"], [1.0, \"#f0f921\"]], \"sequentialminus\": [[0.0, \"#0d0887\"], [0.1111111111111111, \"#46039f\"], [0.2222222222222222, \"#7201a8\"], [0.3333333333333333, \"#9c179e\"], [0.4444444444444444, \"#bd3786\"], [0.5555555555555556, \"#d8576b\"], [0.6666666666666666, \"#ed7953\"], [0.7777777777777778, \"#fb9f3a\"], [0.8888888888888888, \"#fdca26\"], [1.0, \"#f0f921\"]]}, \"colorway\": [\"#636efa\", \"#EF553B\", \"#00cc96\", \"#ab63fa\", \"#FFA15A\", \"#19d3f3\", \"#FF6692\", \"#B6E880\", \"#FF97FF\", \"#FECB52\"], \"font\": {\"color\": \"#2a3f5f\"}, \"geo\": {\"bgcolor\": \"white\", \"lakecolor\": \"white\", \"landcolor\": \"#E5ECF6\", \"showlakes\": true, \"showland\": true, \"subunitcolor\": \"white\"}, \"hoverlabel\": {\"align\": \"left\"}, \"hovermode\": \"closest\", \"mapbox\": {\"style\": \"light\"}, \"paper_bgcolor\": \"white\", \"plot_bgcolor\": \"#E5ECF6\", \"polar\": {\"angularaxis\": {\"gridcolor\": \"white\", \"linecolor\": \"white\", \"ticks\": \"\"}, \"bgcolor\": \"#E5ECF6\", \"radialaxis\": {\"gridcolor\": \"white\", \"linecolor\": \"white\", \"ticks\": \"\"}}, \"scene\": {\"xaxis\": {\"backgroundcolor\": \"#E5ECF6\", \"gridcolor\": \"white\", \"gridwidth\": 2, \"linecolor\": \"white\", \"showbackground\": true, \"ticks\": \"\", \"zerolinecolor\": \"white\"}, \"yaxis\": {\"backgroundcolor\": \"#E5ECF6\", \"gridcolor\": \"white\", \"gridwidth\": 2, \"linecolor\": \"white\", \"showbackground\": true, \"ticks\": \"\", \"zerolinecolor\": \"white\"}, \"zaxis\": {\"backgroundcolor\": \"#E5ECF6\", \"gridcolor\": \"white\", \"gridwidth\": 2, \"linecolor\": \"white\", \"showbackground\": true, \"ticks\": \"\", \"zerolinecolor\": \"white\"}}, \"shapedefaults\": {\"line\": {\"color\": \"#2a3f5f\"}}, \"ternary\": {\"aaxis\": {\"gridcolor\": \"white\", \"linecolor\": \"white\", \"ticks\": \"\"}, \"baxis\": {\"gridcolor\": \"white\", \"linecolor\": \"white\", \"ticks\": \"\"}, \"bgcolor\": \"#E5ECF6\", \"caxis\": {\"gridcolor\": \"white\", \"linecolor\": \"white\", \"ticks\": \"\"}}, \"title\": {\"x\": 0.05}, \"xaxis\": {\"automargin\": true, \"gridcolor\": \"white\", \"linecolor\": \"white\", \"ticks\": \"\", \"title\": {\"standoff\": 15}, \"zerolinecolor\": \"white\", \"zerolinewidth\": 2}, \"yaxis\": {\"automargin\": true, \"gridcolor\": \"white\", \"linecolor\": \"white\", \"ticks\": \"\", \"title\": {\"standoff\": 15}, \"zerolinecolor\": \"white\", \"zerolinewidth\": 2}}}, \"title\": {\"text\": \"HIGHEST MEAN SALARIES OF DIFFERENT EDUCATIONAL BACKGROUNDS\"}, \"xaxis\": {\"anchor\": \"y\", \"domain\": [0.0, 1.0], \"title\": {\"text\": \"EDUCATION_DESC\"}}, \"yaxis\": {\"anchor\": \"x\", \"domain\": [0.0, 1.0], \"title\": {\"text\": \"SALARY\"}}},                        {\"responsive\": true}                    ).then(function(){\n",
              "                            \n",
              "var gd = document.getElementById('17975248-b99c-4b9c-ad3d-d4d3002b4aa2');\n",
              "var x = new MutationObserver(function (mutations, observer) {{\n",
              "        var display = window.getComputedStyle(gd).display;\n",
              "        if (!display || display === 'none') {{\n",
              "            console.log([gd, 'removed!']);\n",
              "            Plotly.purge(gd);\n",
              "            observer.disconnect();\n",
              "        }}\n",
              "}});\n",
              "\n",
              "// Listen for the removal of the full notebook cells\n",
              "var notebookContainer = gd.closest('#notebook-container');\n",
              "if (notebookContainer) {{\n",
              "    x.observe(notebookContainer, {childList: true});\n",
              "}}\n",
              "\n",
              "// Listen for the clearing of the current output cell\n",
              "var outputEl = gd.closest('.output');\n",
              "if (outputEl) {{\n",
              "    x.observe(outputEl, {childList: true});\n",
              "}}\n",
              "\n",
              "                        })                };                            </script>        </div>\n",
              "</body>\n",
              "</html>"
            ]
          },
          "metadata": {
            "tags": []
          }
        }
      ]
    },
    {
      "cell_type": "markdown",
      "metadata": {
        "id": "39ac6a6d"
      },
      "source": [
        "#### GOVERNORATE WITH HIGHEST MEAN SALARIES"
      ],
      "id": "39ac6a6d"
    },
    {
      "cell_type": "code",
      "metadata": {
        "colab": {
          "base_uri": "https://localhost:8080/",
          "height": 266
        },
        "id": "3f7608e7",
        "outputId": "39a0187f-4e16-4c78-acd3-5d9386c1b253"
      },
      "source": [
        "#hide_input\n",
        "insight14 = pd.DataFrame()\n",
        "insight14 = data.groupby(\"GOVERNORATE_DESC\")['SALARY'].mean().round(2)\n",
        "insight14 = insight14.reset_index(\"GOVERNORATE_DESC\")\n",
        "insight14 = insight14.nlargest(7,'SALARY')\n",
        "insight14"
      ],
      "id": "3f7608e7",
      "execution_count": null,
      "outputs": [
        {
          "output_type": "execute_result",
          "data": {
            "text/html": [
              "<div>\n",
              "<style scoped>\n",
              "    .dataframe tbody tr th:only-of-type {\n",
              "        vertical-align: middle;\n",
              "    }\n",
              "\n",
              "    .dataframe tbody tr th {\n",
              "        vertical-align: top;\n",
              "    }\n",
              "\n",
              "    .dataframe thead th {\n",
              "        text-align: right;\n",
              "    }\n",
              "</style>\n",
              "<table border=\"1\" class=\"dataframe\">\n",
              "  <thead>\n",
              "    <tr style=\"text-align: right;\">\n",
              "      <th></th>\n",
              "      <th>GOVERNORATE_DESC</th>\n",
              "      <th>SALARY</th>\n",
              "    </tr>\n",
              "  </thead>\n",
              "  <tbody>\n",
              "    <tr>\n",
              "      <th>3</th>\n",
              "      <td>محافظة العاصمة</td>\n",
              "      <td>409.60</td>\n",
              "    </tr>\n",
              "    <tr>\n",
              "      <th>5</th>\n",
              "      <td>محافظة حولي</td>\n",
              "      <td>386.72</td>\n",
              "    </tr>\n",
              "    <tr>\n",
              "      <th>1</th>\n",
              "      <td>محافظة الاحمدي</td>\n",
              "      <td>305.14</td>\n",
              "    </tr>\n",
              "    <tr>\n",
              "      <th>4</th>\n",
              "      <td>محافظة الفروانية</td>\n",
              "      <td>283.83</td>\n",
              "    </tr>\n",
              "    <tr>\n",
              "      <th>2</th>\n",
              "      <td>محافظة الجهراء</td>\n",
              "      <td>274.80</td>\n",
              "    </tr>\n",
              "    <tr>\n",
              "      <th>0</th>\n",
              "      <td>العقود الحكومية</td>\n",
              "      <td>253.71</td>\n",
              "    </tr>\n",
              "    <tr>\n",
              "      <th>6</th>\n",
              "      <td>محافظة مبارك الكبير</td>\n",
              "      <td>247.98</td>\n",
              "    </tr>\n",
              "  </tbody>\n",
              "</table>\n",
              "</div>"
            ],
            "text/plain": [
              "      GOVERNORATE_DESC  SALARY\n",
              "3       محافظة العاصمة  409.60\n",
              "5          محافظة حولي  386.72\n",
              "1       محافظة الاحمدي  305.14\n",
              "4     محافظة الفروانية  283.83\n",
              "2       محافظة الجهراء  274.80\n",
              "0      العقود الحكومية  253.71\n",
              "6  محافظة مبارك الكبير  247.98"
            ]
          },
          "metadata": {
            "tags": []
          },
          "execution_count": 59
        }
      ]
    },
    {
      "cell_type": "code",
      "metadata": {
        "colab": {
          "base_uri": "https://localhost:8080/",
          "height": 542
        },
        "id": "50007fdc",
        "outputId": "20ce9665-b4d0-4513-cb20-df1c1c13ebfb"
      },
      "source": [
        "#hide_input\n",
        "fig = px.bar(insight14,x=\"GOVERNORATE_DESC\",y=\"SALARY\",color=\"SALARY\",text=\"SALARY\",title = \"GOVERNORATE WITH HIGHEST MEAN SALARIES\")\n",
        "fig.show()"
      ],
      "id": "50007fdc",
      "execution_count": null,
      "outputs": [
        {
          "output_type": "display_data",
          "data": {
            "text/html": [
              "<html>\n",
              "<head><meta charset=\"utf-8\" /></head>\n",
              "<body>\n",
              "    <div>            <script src=\"https://cdnjs.cloudflare.com/ajax/libs/mathjax/2.7.5/MathJax.js?config=TeX-AMS-MML_SVG\"></script><script type=\"text/javascript\">if (window.MathJax) {MathJax.Hub.Config({SVG: {font: \"STIX-Web\"}});}</script>                <script type=\"text/javascript\">window.PlotlyConfig = {MathJaxConfig: 'local'};</script>\n",
              "        <script src=\"https://cdn.plot.ly/plotly-latest.min.js\"></script>                <div id=\"67bee16b-3082-4cda-b46d-e0e2dda7a78c\" class=\"plotly-graph-div\" style=\"height:525px; width:100%;\"></div>            <script type=\"text/javascript\">                                    window.PLOTLYENV=window.PLOTLYENV || {};                                    if (document.getElementById(\"67bee16b-3082-4cda-b46d-e0e2dda7a78c\")) {                    Plotly.newPlot(                        \"67bee16b-3082-4cda-b46d-e0e2dda7a78c\",                        [{\"alignmentgroup\": \"True\", \"hovertemplate\": \"GOVERNORATE_DESC=%{x}<br>SALARY=%{marker.color}<extra></extra>\", \"legendgroup\": \"\", \"marker\": {\"color\": [409.6, 386.72, 305.14, 283.83, 274.8, 253.71, 247.98], \"coloraxis\": \"coloraxis\"}, \"name\": \"\", \"offsetgroup\": \"\", \"orientation\": \"v\", \"showlegend\": false, \"text\": [409.6, 386.72, 305.14, 283.83, 274.8, 253.71, 247.98], \"textposition\": \"auto\", \"type\": \"bar\", \"x\": [\"\\u0645\\u062d\\u0627\\u0641\\u0638\\u0629 \\u0627\\u0644\\u0639\\u0627\\u0635\\u0645\\u0629\", \"\\u0645\\u062d\\u0627\\u0641\\u0638\\u0629 \\u062d\\u0648\\u0644\\u064a\", \"\\u0645\\u062d\\u0627\\u0641\\u0638\\u0629 \\u0627\\u0644\\u0627\\u062d\\u0645\\u062f\\u064a\", \"\\u0645\\u062d\\u0627\\u0641\\u0638\\u0629 \\u0627\\u0644\\u0641\\u0631\\u0648\\u0627\\u0646\\u064a\\u0629\", \"\\u0645\\u062d\\u0627\\u0641\\u0638\\u0629 \\u0627\\u0644\\u062c\\u0647\\u0631\\u0627\\u0621\", \"\\u0627\\u0644\\u0639\\u0642\\u0648\\u062f \\u0627\\u0644\\u062d\\u0643\\u0648\\u0645\\u064a\\u0629\", \"\\u0645\\u062d\\u0627\\u0641\\u0638\\u0629 \\u0645\\u0628\\u0627\\u0631\\u0643 \\u0627\\u0644\\u0643\\u0628\\u064a\\u0631\"], \"xaxis\": \"x\", \"y\": [409.6, 386.72, 305.14, 283.83, 274.8, 253.71, 247.98], \"yaxis\": \"y\"}],                        {\"barmode\": \"relative\", \"coloraxis\": {\"colorbar\": {\"title\": {\"text\": \"SALARY\"}}, \"colorscale\": [[0.0, \"#0d0887\"], [0.1111111111111111, \"#46039f\"], [0.2222222222222222, \"#7201a8\"], [0.3333333333333333, \"#9c179e\"], [0.4444444444444444, \"#bd3786\"], [0.5555555555555556, \"#d8576b\"], [0.6666666666666666, \"#ed7953\"], [0.7777777777777778, \"#fb9f3a\"], [0.8888888888888888, \"#fdca26\"], [1.0, \"#f0f921\"]]}, \"legend\": {\"tracegroupgap\": 0}, \"template\": {\"data\": {\"bar\": [{\"error_x\": {\"color\": \"#2a3f5f\"}, \"error_y\": {\"color\": \"#2a3f5f\"}, \"marker\": {\"line\": {\"color\": \"#E5ECF6\", \"width\": 0.5}}, \"type\": \"bar\"}], \"barpolar\": [{\"marker\": {\"line\": {\"color\": \"#E5ECF6\", \"width\": 0.5}}, \"type\": \"barpolar\"}], \"carpet\": [{\"aaxis\": {\"endlinecolor\": \"#2a3f5f\", \"gridcolor\": \"white\", \"linecolor\": \"white\", \"minorgridcolor\": \"white\", \"startlinecolor\": \"#2a3f5f\"}, \"baxis\": {\"endlinecolor\": \"#2a3f5f\", \"gridcolor\": \"white\", \"linecolor\": \"white\", \"minorgridcolor\": \"white\", \"startlinecolor\": \"#2a3f5f\"}, \"type\": \"carpet\"}], \"choropleth\": [{\"colorbar\": {\"outlinewidth\": 0, \"ticks\": \"\"}, \"type\": \"choropleth\"}], \"contour\": [{\"colorbar\": {\"outlinewidth\": 0, \"ticks\": \"\"}, \"colorscale\": [[0.0, \"#0d0887\"], [0.1111111111111111, \"#46039f\"], [0.2222222222222222, \"#7201a8\"], [0.3333333333333333, \"#9c179e\"], [0.4444444444444444, \"#bd3786\"], [0.5555555555555556, \"#d8576b\"], [0.6666666666666666, \"#ed7953\"], [0.7777777777777778, \"#fb9f3a\"], [0.8888888888888888, \"#fdca26\"], [1.0, \"#f0f921\"]], \"type\": \"contour\"}], \"contourcarpet\": [{\"colorbar\": {\"outlinewidth\": 0, \"ticks\": \"\"}, \"type\": \"contourcarpet\"}], \"heatmap\": [{\"colorbar\": {\"outlinewidth\": 0, \"ticks\": \"\"}, \"colorscale\": [[0.0, \"#0d0887\"], [0.1111111111111111, \"#46039f\"], [0.2222222222222222, \"#7201a8\"], [0.3333333333333333, \"#9c179e\"], [0.4444444444444444, \"#bd3786\"], [0.5555555555555556, \"#d8576b\"], [0.6666666666666666, \"#ed7953\"], [0.7777777777777778, \"#fb9f3a\"], [0.8888888888888888, \"#fdca26\"], [1.0, \"#f0f921\"]], \"type\": \"heatmap\"}], \"heatmapgl\": [{\"colorbar\": {\"outlinewidth\": 0, \"ticks\": \"\"}, \"colorscale\": [[0.0, \"#0d0887\"], [0.1111111111111111, \"#46039f\"], [0.2222222222222222, \"#7201a8\"], [0.3333333333333333, \"#9c179e\"], [0.4444444444444444, \"#bd3786\"], [0.5555555555555556, \"#d8576b\"], [0.6666666666666666, \"#ed7953\"], [0.7777777777777778, \"#fb9f3a\"], [0.8888888888888888, \"#fdca26\"], [1.0, \"#f0f921\"]], \"type\": \"heatmapgl\"}], \"histogram\": [{\"marker\": {\"colorbar\": {\"outlinewidth\": 0, \"ticks\": \"\"}}, \"type\": \"histogram\"}], \"histogram2d\": [{\"colorbar\": {\"outlinewidth\": 0, \"ticks\": \"\"}, \"colorscale\": [[0.0, \"#0d0887\"], [0.1111111111111111, \"#46039f\"], [0.2222222222222222, \"#7201a8\"], [0.3333333333333333, \"#9c179e\"], [0.4444444444444444, \"#bd3786\"], [0.5555555555555556, \"#d8576b\"], [0.6666666666666666, \"#ed7953\"], [0.7777777777777778, \"#fb9f3a\"], [0.8888888888888888, \"#fdca26\"], [1.0, \"#f0f921\"]], \"type\": \"histogram2d\"}], \"histogram2dcontour\": [{\"colorbar\": {\"outlinewidth\": 0, \"ticks\": \"\"}, \"colorscale\": [[0.0, \"#0d0887\"], [0.1111111111111111, \"#46039f\"], [0.2222222222222222, \"#7201a8\"], [0.3333333333333333, \"#9c179e\"], [0.4444444444444444, \"#bd3786\"], [0.5555555555555556, \"#d8576b\"], [0.6666666666666666, \"#ed7953\"], [0.7777777777777778, \"#fb9f3a\"], [0.8888888888888888, \"#fdca26\"], [1.0, \"#f0f921\"]], \"type\": \"histogram2dcontour\"}], \"mesh3d\": [{\"colorbar\": {\"outlinewidth\": 0, \"ticks\": \"\"}, \"type\": \"mesh3d\"}], \"parcoords\": [{\"line\": {\"colorbar\": {\"outlinewidth\": 0, \"ticks\": \"\"}}, \"type\": \"parcoords\"}], \"pie\": [{\"automargin\": true, \"type\": \"pie\"}], \"scatter\": [{\"marker\": {\"colorbar\": {\"outlinewidth\": 0, \"ticks\": \"\"}}, \"type\": \"scatter\"}], \"scatter3d\": [{\"line\": {\"colorbar\": {\"outlinewidth\": 0, \"ticks\": \"\"}}, \"marker\": {\"colorbar\": {\"outlinewidth\": 0, \"ticks\": \"\"}}, \"type\": \"scatter3d\"}], \"scattercarpet\": [{\"marker\": {\"colorbar\": {\"outlinewidth\": 0, \"ticks\": \"\"}}, \"type\": \"scattercarpet\"}], \"scattergeo\": [{\"marker\": {\"colorbar\": {\"outlinewidth\": 0, \"ticks\": \"\"}}, \"type\": \"scattergeo\"}], \"scattergl\": [{\"marker\": {\"colorbar\": {\"outlinewidth\": 0, \"ticks\": \"\"}}, \"type\": \"scattergl\"}], \"scattermapbox\": [{\"marker\": {\"colorbar\": {\"outlinewidth\": 0, \"ticks\": \"\"}}, \"type\": \"scattermapbox\"}], \"scatterpolar\": [{\"marker\": {\"colorbar\": {\"outlinewidth\": 0, \"ticks\": \"\"}}, \"type\": \"scatterpolar\"}], \"scatterpolargl\": [{\"marker\": {\"colorbar\": {\"outlinewidth\": 0, \"ticks\": \"\"}}, \"type\": \"scatterpolargl\"}], \"scatterternary\": [{\"marker\": {\"colorbar\": {\"outlinewidth\": 0, \"ticks\": \"\"}}, \"type\": \"scatterternary\"}], \"surface\": [{\"colorbar\": {\"outlinewidth\": 0, \"ticks\": \"\"}, \"colorscale\": [[0.0, \"#0d0887\"], [0.1111111111111111, \"#46039f\"], [0.2222222222222222, \"#7201a8\"], [0.3333333333333333, \"#9c179e\"], [0.4444444444444444, \"#bd3786\"], [0.5555555555555556, \"#d8576b\"], [0.6666666666666666, \"#ed7953\"], [0.7777777777777778, \"#fb9f3a\"], [0.8888888888888888, \"#fdca26\"], [1.0, \"#f0f921\"]], \"type\": \"surface\"}], \"table\": [{\"cells\": {\"fill\": {\"color\": \"#EBF0F8\"}, \"line\": {\"color\": \"white\"}}, \"header\": {\"fill\": {\"color\": \"#C8D4E3\"}, \"line\": {\"color\": \"white\"}}, \"type\": \"table\"}]}, \"layout\": {\"annotationdefaults\": {\"arrowcolor\": \"#2a3f5f\", \"arrowhead\": 0, \"arrowwidth\": 1}, \"autotypenumbers\": \"strict\", \"coloraxis\": {\"colorbar\": {\"outlinewidth\": 0, \"ticks\": \"\"}}, \"colorscale\": {\"diverging\": [[0, \"#8e0152\"], [0.1, \"#c51b7d\"], [0.2, \"#de77ae\"], [0.3, \"#f1b6da\"], [0.4, \"#fde0ef\"], [0.5, \"#f7f7f7\"], [0.6, \"#e6f5d0\"], [0.7, \"#b8e186\"], [0.8, \"#7fbc41\"], [0.9, \"#4d9221\"], [1, \"#276419\"]], \"sequential\": [[0.0, \"#0d0887\"], [0.1111111111111111, \"#46039f\"], [0.2222222222222222, \"#7201a8\"], [0.3333333333333333, \"#9c179e\"], [0.4444444444444444, \"#bd3786\"], [0.5555555555555556, \"#d8576b\"], [0.6666666666666666, \"#ed7953\"], [0.7777777777777778, \"#fb9f3a\"], [0.8888888888888888, \"#fdca26\"], [1.0, \"#f0f921\"]], \"sequentialminus\": [[0.0, \"#0d0887\"], [0.1111111111111111, \"#46039f\"], [0.2222222222222222, \"#7201a8\"], [0.3333333333333333, \"#9c179e\"], [0.4444444444444444, \"#bd3786\"], [0.5555555555555556, \"#d8576b\"], [0.6666666666666666, \"#ed7953\"], [0.7777777777777778, \"#fb9f3a\"], [0.8888888888888888, \"#fdca26\"], [1.0, \"#f0f921\"]]}, \"colorway\": [\"#636efa\", \"#EF553B\", \"#00cc96\", \"#ab63fa\", \"#FFA15A\", \"#19d3f3\", \"#FF6692\", \"#B6E880\", \"#FF97FF\", \"#FECB52\"], \"font\": {\"color\": \"#2a3f5f\"}, \"geo\": {\"bgcolor\": \"white\", \"lakecolor\": \"white\", \"landcolor\": \"#E5ECF6\", \"showlakes\": true, \"showland\": true, \"subunitcolor\": \"white\"}, \"hoverlabel\": {\"align\": \"left\"}, \"hovermode\": \"closest\", \"mapbox\": {\"style\": \"light\"}, \"paper_bgcolor\": \"white\", \"plot_bgcolor\": \"#E5ECF6\", \"polar\": {\"angularaxis\": {\"gridcolor\": \"white\", \"linecolor\": \"white\", \"ticks\": \"\"}, \"bgcolor\": \"#E5ECF6\", \"radialaxis\": {\"gridcolor\": \"white\", \"linecolor\": \"white\", \"ticks\": \"\"}}, \"scene\": {\"xaxis\": {\"backgroundcolor\": \"#E5ECF6\", \"gridcolor\": \"white\", \"gridwidth\": 2, \"linecolor\": \"white\", \"showbackground\": true, \"ticks\": \"\", \"zerolinecolor\": \"white\"}, \"yaxis\": {\"backgroundcolor\": \"#E5ECF6\", \"gridcolor\": \"white\", \"gridwidth\": 2, \"linecolor\": \"white\", \"showbackground\": true, \"ticks\": \"\", \"zerolinecolor\": \"white\"}, \"zaxis\": {\"backgroundcolor\": \"#E5ECF6\", \"gridcolor\": \"white\", \"gridwidth\": 2, \"linecolor\": \"white\", \"showbackground\": true, \"ticks\": \"\", \"zerolinecolor\": \"white\"}}, \"shapedefaults\": {\"line\": {\"color\": \"#2a3f5f\"}}, \"ternary\": {\"aaxis\": {\"gridcolor\": \"white\", \"linecolor\": \"white\", \"ticks\": \"\"}, \"baxis\": {\"gridcolor\": \"white\", \"linecolor\": \"white\", \"ticks\": \"\"}, \"bgcolor\": \"#E5ECF6\", \"caxis\": {\"gridcolor\": \"white\", \"linecolor\": \"white\", \"ticks\": \"\"}}, \"title\": {\"x\": 0.05}, \"xaxis\": {\"automargin\": true, \"gridcolor\": \"white\", \"linecolor\": \"white\", \"ticks\": \"\", \"title\": {\"standoff\": 15}, \"zerolinecolor\": \"white\", \"zerolinewidth\": 2}, \"yaxis\": {\"automargin\": true, \"gridcolor\": \"white\", \"linecolor\": \"white\", \"ticks\": \"\", \"title\": {\"standoff\": 15}, \"zerolinecolor\": \"white\", \"zerolinewidth\": 2}}}, \"title\": {\"text\": \"GOVERNORATE WITH HIGHEST MEAN SALARIES\"}, \"xaxis\": {\"anchor\": \"y\", \"domain\": [0.0, 1.0], \"title\": {\"text\": \"GOVERNORATE_DESC\"}}, \"yaxis\": {\"anchor\": \"x\", \"domain\": [0.0, 1.0], \"title\": {\"text\": \"SALARY\"}}},                        {\"responsive\": true}                    ).then(function(){\n",
              "                            \n",
              "var gd = document.getElementById('67bee16b-3082-4cda-b46d-e0e2dda7a78c');\n",
              "var x = new MutationObserver(function (mutations, observer) {{\n",
              "        var display = window.getComputedStyle(gd).display;\n",
              "        if (!display || display === 'none') {{\n",
              "            console.log([gd, 'removed!']);\n",
              "            Plotly.purge(gd);\n",
              "            observer.disconnect();\n",
              "        }}\n",
              "}});\n",
              "\n",
              "// Listen for the removal of the full notebook cells\n",
              "var notebookContainer = gd.closest('#notebook-container');\n",
              "if (notebookContainer) {{\n",
              "    x.observe(notebookContainer, {childList: true});\n",
              "}}\n",
              "\n",
              "// Listen for the clearing of the current output cell\n",
              "var outputEl = gd.closest('.output');\n",
              "if (outputEl) {{\n",
              "    x.observe(outputEl, {childList: true});\n",
              "}}\n",
              "\n",
              "                        })                };                            </script>        </div>\n",
              "</body>\n",
              "</html>"
            ]
          },
          "metadata": {
            "tags": []
          }
        }
      ]
    },
    {
      "cell_type": "markdown",
      "metadata": {
        "id": "4afda72e"
      },
      "source": [
        "#### COMPANIES IN DIFFERENT COUNTRIES WITH HIGHEST MEAN SALARIES"
      ],
      "id": "4afda72e"
    },
    {
      "cell_type": "code",
      "metadata": {
        "colab": {
          "base_uri": "https://localhost:8080/",
          "height": 359
        },
        "id": "7271e4f4",
        "outputId": "b2350bec-b064-4973-f1de-9ca0cb1da4ed"
      },
      "source": [
        "#hide_input\n",
        "insight15 = pd.DataFrame()\n",
        "insight15 = data.groupby([\"COMPANY_NAME\",\"COUNTRY_DESC\"])['SALARY'].mean()\n",
        "insight15 = insight15.reset_index([\"COMPANY_NAME\",\"COUNTRY_DESC\"])\n",
        "insight15 = insight15.nlargest(10,'SALARY')\n",
        "insight15"
      ],
      "id": "7271e4f4",
      "execution_count": null,
      "outputs": [
        {
          "output_type": "execute_result",
          "data": {
            "text/html": [
              "<div>\n",
              "<style scoped>\n",
              "    .dataframe tbody tr th:only-of-type {\n",
              "        vertical-align: middle;\n",
              "    }\n",
              "\n",
              "    .dataframe tbody tr th {\n",
              "        vertical-align: top;\n",
              "    }\n",
              "\n",
              "    .dataframe thead th {\n",
              "        text-align: right;\n",
              "    }\n",
              "</style>\n",
              "<table border=\"1\" class=\"dataframe\">\n",
              "  <thead>\n",
              "    <tr style=\"text-align: right;\">\n",
              "      <th></th>\n",
              "      <th>COMPANY_NAME</th>\n",
              "      <th>COUNTRY_DESC</th>\n",
              "      <th>SALARY</th>\n",
              "    </tr>\n",
              "  </thead>\n",
              "  <tbody>\n",
              "    <tr>\n",
              "      <th>48454</th>\n",
              "      <td>الشركة المتحدة لصناعة الحديد</td>\n",
              "      <td>الكويت</td>\n",
              "      <td>20000.0</td>\n",
              "    </tr>\n",
              "    <tr>\n",
              "      <th>121465</th>\n",
              "      <td>شركة السبعه لآلى القابضة</td>\n",
              "      <td>لبنــان</td>\n",
              "      <td>15000.0</td>\n",
              "    </tr>\n",
              "    <tr>\n",
              "      <th>179792</th>\n",
              "      <td>شركة كردت ون كويت القابضة</td>\n",
              "      <td>الكويت</td>\n",
              "      <td>12000.0</td>\n",
              "    </tr>\n",
              "    <tr>\n",
              "      <th>184866</th>\n",
              "      <td>شركة مؤسسة محمد ناصر الساير وأولاده</td>\n",
              "      <td>السويد</td>\n",
              "      <td>12000.0</td>\n",
              "    </tr>\n",
              "    <tr>\n",
              "      <th>142258</th>\n",
              "      <td>شركة باب المرقاب للتجارة العامة والمقاولات</td>\n",
              "      <td>الكويت</td>\n",
              "      <td>11000.0</td>\n",
              "    </tr>\n",
              "    <tr>\n",
              "      <th>170682</th>\n",
              "      <td>شركة صالون ومعهد مايلستونز لتجميل السيدات</td>\n",
              "      <td>الكويت</td>\n",
              "      <td>11000.0</td>\n",
              "    </tr>\n",
              "    <tr>\n",
              "      <th>60636</th>\n",
              "      <td>بنك الكويت الدولى</td>\n",
              "      <td>المغـرب</td>\n",
              "      <td>10274.0</td>\n",
              "    </tr>\n",
              "    <tr>\n",
              "      <th>3419</th>\n",
              "      <td>شركه هيومن سوفت القابضه</td>\n",
              "      <td>المملكه المتحده</td>\n",
              "      <td>10000.0</td>\n",
              "    </tr>\n",
              "    <tr>\n",
              "      <th>10944</th>\n",
              "      <td>بنك المشرق</td>\n",
              "      <td>ايطاليا</td>\n",
              "      <td>10000.0</td>\n",
              "    </tr>\n",
              "    <tr>\n",
              "      <th>11609</th>\n",
              "      <td>شركة  التمدين  الاستشارية</td>\n",
              "      <td>الكويت</td>\n",
              "      <td>10000.0</td>\n",
              "    </tr>\n",
              "  </tbody>\n",
              "</table>\n",
              "</div>"
            ],
            "text/plain": [
              "                                      COMPANY_NAME     COUNTRY_DESC   SALARY\n",
              "48454                 الشركة المتحدة لصناعة الحديد           الكويت  20000.0\n",
              "121465                    شركة السبعه لآلى القابضة          لبنــان  15000.0\n",
              "179792                   شركة كردت ون كويت القابضة           الكويت  12000.0\n",
              "184866         شركة مؤسسة محمد ناصر الساير وأولاده           السويد  12000.0\n",
              "142258  شركة باب المرقاب للتجارة العامة والمقاولات           الكويت  11000.0\n",
              "170682   شركة صالون ومعهد مايلستونز لتجميل السيدات           الكويت  11000.0\n",
              "60636                            بنك الكويت الدولى          المغـرب  10274.0\n",
              "3419                       شركه هيومن سوفت القابضه  المملكه المتحده  10000.0\n",
              "10944                                   بنك المشرق          ايطاليا  10000.0\n",
              "11609                    شركة  التمدين  الاستشارية           الكويت  10000.0"
            ]
          },
          "metadata": {
            "tags": []
          },
          "execution_count": 61
        }
      ]
    },
    {
      "cell_type": "code",
      "metadata": {
        "colab": {
          "base_uri": "https://localhost:8080/",
          "height": 542
        },
        "id": "ec78601d",
        "outputId": "ef8947fa-86ff-49ba-b862-e3e6a1360af2"
      },
      "source": [
        "#hide_input\n",
        "fig = px.bar(insight15,x=\"COUNTRY_DESC\",y=\"SALARY\",text=\"SALARY\",color = \"COMPANY_NAME\",title = \"COMPANIES IN DIFFERENT COUNTRIES WITH HIGHEST MEAN SALARIES\")\n",
        "fig.show()"
      ],
      "id": "ec78601d",
      "execution_count": null,
      "outputs": [
        {
          "output_type": "display_data",
          "data": {
            "text/html": [
              "<html>\n",
              "<head><meta charset=\"utf-8\" /></head>\n",
              "<body>\n",
              "    <div>            <script src=\"https://cdnjs.cloudflare.com/ajax/libs/mathjax/2.7.5/MathJax.js?config=TeX-AMS-MML_SVG\"></script><script type=\"text/javascript\">if (window.MathJax) {MathJax.Hub.Config({SVG: {font: \"STIX-Web\"}});}</script>                <script type=\"text/javascript\">window.PlotlyConfig = {MathJaxConfig: 'local'};</script>\n",
              "        <script src=\"https://cdn.plot.ly/plotly-latest.min.js\"></script>                <div id=\"c642dbc0-2646-4f9f-b158-1ee1e83793d6\" class=\"plotly-graph-div\" style=\"height:525px; width:100%;\"></div>            <script type=\"text/javascript\">                                    window.PLOTLYENV=window.PLOTLYENV || {};                                    if (document.getElementById(\"c642dbc0-2646-4f9f-b158-1ee1e83793d6\")) {                    Plotly.newPlot(                        \"c642dbc0-2646-4f9f-b158-1ee1e83793d6\",                        [{\"alignmentgroup\": \"True\", \"hovertemplate\": \"COMPANY_NAME=\\u0627\\u0644\\u0634\\u0631\\u0643\\u0629 \\u0627\\u0644\\u0645\\u062a\\u062d\\u062f\\u0629 \\u0644\\u0635\\u0646\\u0627\\u0639\\u0629 \\u0627\\u0644\\u062d\\u062f\\u064a\\u062f<br>COUNTRY_DESC=%{x}<br>SALARY=%{text}<extra></extra>\", \"legendgroup\": \"\\u0627\\u0644\\u0634\\u0631\\u0643\\u0629 \\u0627\\u0644\\u0645\\u062a\\u062d\\u062f\\u0629 \\u0644\\u0635\\u0646\\u0627\\u0639\\u0629 \\u0627\\u0644\\u062d\\u062f\\u064a\\u062f\", \"marker\": {\"color\": \"#636efa\"}, \"name\": \"\\u0627\\u0644\\u0634\\u0631\\u0643\\u0629 \\u0627\\u0644\\u0645\\u062a\\u062d\\u062f\\u0629 \\u0644\\u0635\\u0646\\u0627\\u0639\\u0629 \\u0627\\u0644\\u062d\\u062f\\u064a\\u062f\", \"offsetgroup\": \"\\u0627\\u0644\\u0634\\u0631\\u0643\\u0629 \\u0627\\u0644\\u0645\\u062a\\u062d\\u062f\\u0629 \\u0644\\u0635\\u0646\\u0627\\u0639\\u0629 \\u0627\\u0644\\u062d\\u062f\\u064a\\u062f\", \"orientation\": \"v\", \"showlegend\": true, \"text\": [20000.0], \"textposition\": \"auto\", \"type\": \"bar\", \"x\": [\"\\u0627\\u0644\\u0643\\u0648\\u064a\\u062a\"], \"xaxis\": \"x\", \"y\": [20000.0], \"yaxis\": \"y\"}, {\"alignmentgroup\": \"True\", \"hovertemplate\": \"COMPANY_NAME=\\u0634\\u0631\\u0643\\u0629 \\u0627\\u0644\\u0633\\u0628\\u0639\\u0647 \\u0644\\u0622\\u0644\\u0649 \\u0627\\u0644\\u0642\\u0627\\u0628\\u0636\\u0629<br>COUNTRY_DESC=%{x}<br>SALARY=%{text}<extra></extra>\", \"legendgroup\": \"\\u0634\\u0631\\u0643\\u0629 \\u0627\\u0644\\u0633\\u0628\\u0639\\u0647 \\u0644\\u0622\\u0644\\u0649 \\u0627\\u0644\\u0642\\u0627\\u0628\\u0636\\u0629\", \"marker\": {\"color\": \"#EF553B\"}, \"name\": \"\\u0634\\u0631\\u0643\\u0629 \\u0627\\u0644\\u0633\\u0628\\u0639\\u0647 \\u0644\\u0622\\u0644\\u0649 \\u0627\\u0644\\u0642\\u0627\\u0628\\u0636\\u0629\", \"offsetgroup\": \"\\u0634\\u0631\\u0643\\u0629 \\u0627\\u0644\\u0633\\u0628\\u0639\\u0647 \\u0644\\u0622\\u0644\\u0649 \\u0627\\u0644\\u0642\\u0627\\u0628\\u0636\\u0629\", \"orientation\": \"v\", \"showlegend\": true, \"text\": [15000.0], \"textposition\": \"auto\", \"type\": \"bar\", \"x\": [\"\\u0644\\u0628\\u0646\\u0640\\u0640\\u0627\\u0646\"], \"xaxis\": \"x\", \"y\": [15000.0], \"yaxis\": \"y\"}, {\"alignmentgroup\": \"True\", \"hovertemplate\": \"COMPANY_NAME=\\u0634\\u0631\\u0643\\u0629 \\u0643\\u0631\\u062f\\u062a \\u0648\\u0646 \\u0643\\u0648\\u064a\\u062a \\u0627\\u0644\\u0642\\u0627\\u0628\\u0636\\u0629<br>COUNTRY_DESC=%{x}<br>SALARY=%{text}<extra></extra>\", \"legendgroup\": \"\\u0634\\u0631\\u0643\\u0629 \\u0643\\u0631\\u062f\\u062a \\u0648\\u0646 \\u0643\\u0648\\u064a\\u062a \\u0627\\u0644\\u0642\\u0627\\u0628\\u0636\\u0629\", \"marker\": {\"color\": \"#00cc96\"}, \"name\": \"\\u0634\\u0631\\u0643\\u0629 \\u0643\\u0631\\u062f\\u062a \\u0648\\u0646 \\u0643\\u0648\\u064a\\u062a \\u0627\\u0644\\u0642\\u0627\\u0628\\u0636\\u0629\", \"offsetgroup\": \"\\u0634\\u0631\\u0643\\u0629 \\u0643\\u0631\\u062f\\u062a \\u0648\\u0646 \\u0643\\u0648\\u064a\\u062a \\u0627\\u0644\\u0642\\u0627\\u0628\\u0636\\u0629\", \"orientation\": \"v\", \"showlegend\": true, \"text\": [12000.0], \"textposition\": \"auto\", \"type\": \"bar\", \"x\": [\"\\u0627\\u0644\\u0643\\u0648\\u064a\\u062a\"], \"xaxis\": \"x\", \"y\": [12000.0], \"yaxis\": \"y\"}, {\"alignmentgroup\": \"True\", \"hovertemplate\": \"COMPANY_NAME=\\u0634\\u0631\\u0643\\u0629 \\u0645\\u0624\\u0633\\u0633\\u0629 \\u0645\\u062d\\u0645\\u062f \\u0646\\u0627\\u0635\\u0631 \\u0627\\u0644\\u0633\\u0627\\u064a\\u0631 \\u0648\\u0623\\u0648\\u0644\\u0627\\u062f\\u0647<br>COUNTRY_DESC=%{x}<br>SALARY=%{text}<extra></extra>\", \"legendgroup\": \"\\u0634\\u0631\\u0643\\u0629 \\u0645\\u0624\\u0633\\u0633\\u0629 \\u0645\\u062d\\u0645\\u062f \\u0646\\u0627\\u0635\\u0631 \\u0627\\u0644\\u0633\\u0627\\u064a\\u0631 \\u0648\\u0623\\u0648\\u0644\\u0627\\u062f\\u0647\", \"marker\": {\"color\": \"#ab63fa\"}, \"name\": \"\\u0634\\u0631\\u0643\\u0629 \\u0645\\u0624\\u0633\\u0633\\u0629 \\u0645\\u062d\\u0645\\u062f \\u0646\\u0627\\u0635\\u0631 \\u0627\\u0644\\u0633\\u0627\\u064a\\u0631 \\u0648\\u0623\\u0648\\u0644\\u0627\\u062f\\u0647\", \"offsetgroup\": \"\\u0634\\u0631\\u0643\\u0629 \\u0645\\u0624\\u0633\\u0633\\u0629 \\u0645\\u062d\\u0645\\u062f \\u0646\\u0627\\u0635\\u0631 \\u0627\\u0644\\u0633\\u0627\\u064a\\u0631 \\u0648\\u0623\\u0648\\u0644\\u0627\\u062f\\u0647\", \"orientation\": \"v\", \"showlegend\": true, \"text\": [12000.0], \"textposition\": \"auto\", \"type\": \"bar\", \"x\": [\"\\u0627\\u0644\\u0633\\u0648\\u064a\\u062f\"], \"xaxis\": \"x\", \"y\": [12000.0], \"yaxis\": \"y\"}, {\"alignmentgroup\": \"True\", \"hovertemplate\": \"COMPANY_NAME=\\u0634\\u0631\\u0643\\u0629 \\u0628\\u0627\\u0628 \\u0627\\u0644\\u0645\\u0631\\u0642\\u0627\\u0628 \\u0644\\u0644\\u062a\\u062c\\u0627\\u0631\\u0629 \\u0627\\u0644\\u0639\\u0627\\u0645\\u0629 \\u0648\\u0627\\u0644\\u0645\\u0642\\u0627\\u0648\\u0644\\u0627\\u062a<br>COUNTRY_DESC=%{x}<br>SALARY=%{text}<extra></extra>\", \"legendgroup\": \"\\u0634\\u0631\\u0643\\u0629 \\u0628\\u0627\\u0628 \\u0627\\u0644\\u0645\\u0631\\u0642\\u0627\\u0628 \\u0644\\u0644\\u062a\\u062c\\u0627\\u0631\\u0629 \\u0627\\u0644\\u0639\\u0627\\u0645\\u0629 \\u0648\\u0627\\u0644\\u0645\\u0642\\u0627\\u0648\\u0644\\u0627\\u062a\", \"marker\": {\"color\": \"#FFA15A\"}, \"name\": \"\\u0634\\u0631\\u0643\\u0629 \\u0628\\u0627\\u0628 \\u0627\\u0644\\u0645\\u0631\\u0642\\u0627\\u0628 \\u0644\\u0644\\u062a\\u062c\\u0627\\u0631\\u0629 \\u0627\\u0644\\u0639\\u0627\\u0645\\u0629 \\u0648\\u0627\\u0644\\u0645\\u0642\\u0627\\u0648\\u0644\\u0627\\u062a\", \"offsetgroup\": \"\\u0634\\u0631\\u0643\\u0629 \\u0628\\u0627\\u0628 \\u0627\\u0644\\u0645\\u0631\\u0642\\u0627\\u0628 \\u0644\\u0644\\u062a\\u062c\\u0627\\u0631\\u0629 \\u0627\\u0644\\u0639\\u0627\\u0645\\u0629 \\u0648\\u0627\\u0644\\u0645\\u0642\\u0627\\u0648\\u0644\\u0627\\u062a\", \"orientation\": \"v\", \"showlegend\": true, \"text\": [11000.0], \"textposition\": \"auto\", \"type\": \"bar\", \"x\": [\"\\u0627\\u0644\\u0643\\u0648\\u064a\\u062a\"], \"xaxis\": \"x\", \"y\": [11000.0], \"yaxis\": \"y\"}, {\"alignmentgroup\": \"True\", \"hovertemplate\": \"COMPANY_NAME=\\u0634\\u0631\\u0643\\u0629 \\u0635\\u0627\\u0644\\u0648\\u0646 \\u0648\\u0645\\u0639\\u0647\\u062f \\u0645\\u0627\\u064a\\u0644\\u0633\\u062a\\u0648\\u0646\\u0632 \\u0644\\u062a\\u062c\\u0645\\u064a\\u0644 \\u0627\\u0644\\u0633\\u064a\\u062f\\u0627\\u062a<br>COUNTRY_DESC=%{x}<br>SALARY=%{text}<extra></extra>\", \"legendgroup\": \"\\u0634\\u0631\\u0643\\u0629 \\u0635\\u0627\\u0644\\u0648\\u0646 \\u0648\\u0645\\u0639\\u0647\\u062f \\u0645\\u0627\\u064a\\u0644\\u0633\\u062a\\u0648\\u0646\\u0632 \\u0644\\u062a\\u062c\\u0645\\u064a\\u0644 \\u0627\\u0644\\u0633\\u064a\\u062f\\u0627\\u062a\", \"marker\": {\"color\": \"#19d3f3\"}, \"name\": \"\\u0634\\u0631\\u0643\\u0629 \\u0635\\u0627\\u0644\\u0648\\u0646 \\u0648\\u0645\\u0639\\u0647\\u062f \\u0645\\u0627\\u064a\\u0644\\u0633\\u062a\\u0648\\u0646\\u0632 \\u0644\\u062a\\u062c\\u0645\\u064a\\u0644 \\u0627\\u0644\\u0633\\u064a\\u062f\\u0627\\u062a\", \"offsetgroup\": \"\\u0634\\u0631\\u0643\\u0629 \\u0635\\u0627\\u0644\\u0648\\u0646 \\u0648\\u0645\\u0639\\u0647\\u062f \\u0645\\u0627\\u064a\\u0644\\u0633\\u062a\\u0648\\u0646\\u0632 \\u0644\\u062a\\u062c\\u0645\\u064a\\u0644 \\u0627\\u0644\\u0633\\u064a\\u062f\\u0627\\u062a\", \"orientation\": \"v\", \"showlegend\": true, \"text\": [11000.0], \"textposition\": \"auto\", \"type\": \"bar\", \"x\": [\"\\u0627\\u0644\\u0643\\u0648\\u064a\\u062a\"], \"xaxis\": \"x\", \"y\": [11000.0], \"yaxis\": \"y\"}, {\"alignmentgroup\": \"True\", \"hovertemplate\": \"COMPANY_NAME=\\u0628\\u0646\\u0643 \\u0627\\u0644\\u0643\\u0648\\u064a\\u062a \\u0627\\u0644\\u062f\\u0648\\u0644\\u0649<br>COUNTRY_DESC=%{x}<br>SALARY=%{text}<extra></extra>\", \"legendgroup\": \"\\u0628\\u0646\\u0643 \\u0627\\u0644\\u0643\\u0648\\u064a\\u062a \\u0627\\u0644\\u062f\\u0648\\u0644\\u0649\", \"marker\": {\"color\": \"#FF6692\"}, \"name\": \"\\u0628\\u0646\\u0643 \\u0627\\u0644\\u0643\\u0648\\u064a\\u062a \\u0627\\u0644\\u062f\\u0648\\u0644\\u0649\", \"offsetgroup\": \"\\u0628\\u0646\\u0643 \\u0627\\u0644\\u0643\\u0648\\u064a\\u062a \\u0627\\u0644\\u062f\\u0648\\u0644\\u0649\", \"orientation\": \"v\", \"showlegend\": true, \"text\": [10274.0], \"textposition\": \"auto\", \"type\": \"bar\", \"x\": [\"\\u0627\\u0644\\u0645\\u063a\\u0640\\u0631\\u0628\"], \"xaxis\": \"x\", \"y\": [10274.0], \"yaxis\": \"y\"}, {\"alignmentgroup\": \"True\", \"hovertemplate\": \"COMPANY_NAME=     \\u0634\\u0631\\u0643\\u0647 \\u0647\\u064a\\u0648\\u0645\\u0646 \\u0633\\u0648\\u0641\\u062a \\u0627\\u0644\\u0642\\u0627\\u0628\\u0636\\u0647<br>COUNTRY_DESC=%{x}<br>SALARY=%{text}<extra></extra>\", \"legendgroup\": \"     \\u0634\\u0631\\u0643\\u0647 \\u0647\\u064a\\u0648\\u0645\\u0646 \\u0633\\u0648\\u0641\\u062a \\u0627\\u0644\\u0642\\u0627\\u0628\\u0636\\u0647\", \"marker\": {\"color\": \"#B6E880\"}, \"name\": \"     \\u0634\\u0631\\u0643\\u0647 \\u0647\\u064a\\u0648\\u0645\\u0646 \\u0633\\u0648\\u0641\\u062a \\u0627\\u0644\\u0642\\u0627\\u0628\\u0636\\u0647\", \"offsetgroup\": \"     \\u0634\\u0631\\u0643\\u0647 \\u0647\\u064a\\u0648\\u0645\\u0646 \\u0633\\u0648\\u0641\\u062a \\u0627\\u0644\\u0642\\u0627\\u0628\\u0636\\u0647\", \"orientation\": \"v\", \"showlegend\": true, \"text\": [10000.0], \"textposition\": \"auto\", \"type\": \"bar\", \"x\": [\"\\u0627\\u0644\\u0645\\u0645\\u0644\\u0643\\u0647 \\u0627\\u0644\\u0645\\u062a\\u062d\\u062f\\u0647\"], \"xaxis\": \"x\", \"y\": [10000.0], \"yaxis\": \"y\"}, {\"alignmentgroup\": \"True\", \"hovertemplate\": \"COMPANY_NAME=  \\u0628\\u0646\\u0643 \\u0627\\u0644\\u0645\\u0634\\u0631\\u0642<br>COUNTRY_DESC=%{x}<br>SALARY=%{text}<extra></extra>\", \"legendgroup\": \"  \\u0628\\u0646\\u0643 \\u0627\\u0644\\u0645\\u0634\\u0631\\u0642\", \"marker\": {\"color\": \"#FF97FF\"}, \"name\": \"  \\u0628\\u0646\\u0643 \\u0627\\u0644\\u0645\\u0634\\u0631\\u0642\", \"offsetgroup\": \"  \\u0628\\u0646\\u0643 \\u0627\\u0644\\u0645\\u0634\\u0631\\u0642\", \"orientation\": \"v\", \"showlegend\": true, \"text\": [10000.0], \"textposition\": \"auto\", \"type\": \"bar\", \"x\": [\"\\u0627\\u064a\\u0637\\u0627\\u0644\\u064a\\u0627\"], \"xaxis\": \"x\", \"y\": [10000.0], \"yaxis\": \"y\"}, {\"alignmentgroup\": \"True\", \"hovertemplate\": \"COMPANY_NAME=  \\u0634\\u0631\\u0643\\u0629  \\u0627\\u0644\\u062a\\u0645\\u062f\\u064a\\u0646  \\u0627\\u0644\\u0627\\u0633\\u062a\\u0634\\u0627\\u0631\\u064a\\u0629<br>COUNTRY_DESC=%{x}<br>SALARY=%{text}<extra></extra>\", \"legendgroup\": \"  \\u0634\\u0631\\u0643\\u0629  \\u0627\\u0644\\u062a\\u0645\\u062f\\u064a\\u0646  \\u0627\\u0644\\u0627\\u0633\\u062a\\u0634\\u0627\\u0631\\u064a\\u0629\", \"marker\": {\"color\": \"#FECB52\"}, \"name\": \"  \\u0634\\u0631\\u0643\\u0629  \\u0627\\u0644\\u062a\\u0645\\u062f\\u064a\\u0646  \\u0627\\u0644\\u0627\\u0633\\u062a\\u0634\\u0627\\u0631\\u064a\\u0629\", \"offsetgroup\": \"  \\u0634\\u0631\\u0643\\u0629  \\u0627\\u0644\\u062a\\u0645\\u062f\\u064a\\u0646  \\u0627\\u0644\\u0627\\u0633\\u062a\\u0634\\u0627\\u0631\\u064a\\u0629\", \"orientation\": \"v\", \"showlegend\": true, \"text\": [10000.0], \"textposition\": \"auto\", \"type\": \"bar\", \"x\": [\"\\u0627\\u0644\\u0643\\u0648\\u064a\\u062a\"], \"xaxis\": \"x\", \"y\": [10000.0], \"yaxis\": \"y\"}],                        {\"barmode\": \"relative\", \"legend\": {\"title\": {\"text\": \"COMPANY_NAME\"}, \"tracegroupgap\": 0}, \"template\": {\"data\": {\"bar\": [{\"error_x\": {\"color\": \"#2a3f5f\"}, \"error_y\": {\"color\": \"#2a3f5f\"}, \"marker\": {\"line\": {\"color\": \"#E5ECF6\", \"width\": 0.5}}, \"type\": \"bar\"}], \"barpolar\": [{\"marker\": {\"line\": {\"color\": \"#E5ECF6\", \"width\": 0.5}}, \"type\": \"barpolar\"}], \"carpet\": [{\"aaxis\": {\"endlinecolor\": \"#2a3f5f\", \"gridcolor\": \"white\", \"linecolor\": \"white\", \"minorgridcolor\": \"white\", \"startlinecolor\": \"#2a3f5f\"}, \"baxis\": {\"endlinecolor\": \"#2a3f5f\", \"gridcolor\": \"white\", \"linecolor\": \"white\", \"minorgridcolor\": \"white\", \"startlinecolor\": \"#2a3f5f\"}, \"type\": \"carpet\"}], \"choropleth\": [{\"colorbar\": {\"outlinewidth\": 0, \"ticks\": \"\"}, \"type\": \"choropleth\"}], \"contour\": [{\"colorbar\": {\"outlinewidth\": 0, \"ticks\": \"\"}, \"colorscale\": [[0.0, \"#0d0887\"], [0.1111111111111111, \"#46039f\"], [0.2222222222222222, \"#7201a8\"], [0.3333333333333333, \"#9c179e\"], [0.4444444444444444, \"#bd3786\"], [0.5555555555555556, \"#d8576b\"], [0.6666666666666666, \"#ed7953\"], [0.7777777777777778, \"#fb9f3a\"], [0.8888888888888888, \"#fdca26\"], [1.0, \"#f0f921\"]], \"type\": \"contour\"}], \"contourcarpet\": [{\"colorbar\": {\"outlinewidth\": 0, \"ticks\": \"\"}, \"type\": \"contourcarpet\"}], \"heatmap\": [{\"colorbar\": {\"outlinewidth\": 0, \"ticks\": \"\"}, \"colorscale\": [[0.0, \"#0d0887\"], [0.1111111111111111, \"#46039f\"], [0.2222222222222222, \"#7201a8\"], [0.3333333333333333, \"#9c179e\"], [0.4444444444444444, \"#bd3786\"], [0.5555555555555556, \"#d8576b\"], [0.6666666666666666, \"#ed7953\"], [0.7777777777777778, \"#fb9f3a\"], [0.8888888888888888, \"#fdca26\"], [1.0, \"#f0f921\"]], \"type\": \"heatmap\"}], \"heatmapgl\": [{\"colorbar\": {\"outlinewidth\": 0, \"ticks\": \"\"}, \"colorscale\": [[0.0, \"#0d0887\"], [0.1111111111111111, \"#46039f\"], [0.2222222222222222, \"#7201a8\"], [0.3333333333333333, \"#9c179e\"], [0.4444444444444444, \"#bd3786\"], [0.5555555555555556, \"#d8576b\"], [0.6666666666666666, \"#ed7953\"], [0.7777777777777778, \"#fb9f3a\"], [0.8888888888888888, \"#fdca26\"], [1.0, \"#f0f921\"]], \"type\": \"heatmapgl\"}], \"histogram\": [{\"marker\": {\"colorbar\": {\"outlinewidth\": 0, \"ticks\": \"\"}}, \"type\": \"histogram\"}], \"histogram2d\": [{\"colorbar\": {\"outlinewidth\": 0, \"ticks\": \"\"}, \"colorscale\": [[0.0, \"#0d0887\"], [0.1111111111111111, \"#46039f\"], [0.2222222222222222, \"#7201a8\"], [0.3333333333333333, \"#9c179e\"], [0.4444444444444444, \"#bd3786\"], [0.5555555555555556, \"#d8576b\"], [0.6666666666666666, \"#ed7953\"], [0.7777777777777778, \"#fb9f3a\"], [0.8888888888888888, \"#fdca26\"], [1.0, \"#f0f921\"]], \"type\": \"histogram2d\"}], \"histogram2dcontour\": [{\"colorbar\": {\"outlinewidth\": 0, \"ticks\": \"\"}, \"colorscale\": [[0.0, \"#0d0887\"], [0.1111111111111111, \"#46039f\"], [0.2222222222222222, \"#7201a8\"], [0.3333333333333333, \"#9c179e\"], [0.4444444444444444, \"#bd3786\"], [0.5555555555555556, \"#d8576b\"], [0.6666666666666666, \"#ed7953\"], [0.7777777777777778, \"#fb9f3a\"], [0.8888888888888888, \"#fdca26\"], [1.0, \"#f0f921\"]], \"type\": \"histogram2dcontour\"}], \"mesh3d\": [{\"colorbar\": {\"outlinewidth\": 0, \"ticks\": \"\"}, \"type\": \"mesh3d\"}], \"parcoords\": [{\"line\": {\"colorbar\": {\"outlinewidth\": 0, \"ticks\": \"\"}}, \"type\": \"parcoords\"}], \"pie\": [{\"automargin\": true, \"type\": \"pie\"}], \"scatter\": [{\"marker\": {\"colorbar\": {\"outlinewidth\": 0, \"ticks\": \"\"}}, \"type\": \"scatter\"}], \"scatter3d\": [{\"line\": {\"colorbar\": {\"outlinewidth\": 0, \"ticks\": \"\"}}, \"marker\": {\"colorbar\": {\"outlinewidth\": 0, \"ticks\": \"\"}}, \"type\": \"scatter3d\"}], \"scattercarpet\": [{\"marker\": {\"colorbar\": {\"outlinewidth\": 0, \"ticks\": \"\"}}, \"type\": \"scattercarpet\"}], \"scattergeo\": [{\"marker\": {\"colorbar\": {\"outlinewidth\": 0, \"ticks\": \"\"}}, \"type\": \"scattergeo\"}], \"scattergl\": [{\"marker\": {\"colorbar\": {\"outlinewidth\": 0, \"ticks\": \"\"}}, \"type\": \"scattergl\"}], \"scattermapbox\": [{\"marker\": {\"colorbar\": {\"outlinewidth\": 0, \"ticks\": \"\"}}, \"type\": \"scattermapbox\"}], \"scatterpolar\": [{\"marker\": {\"colorbar\": {\"outlinewidth\": 0, \"ticks\": \"\"}}, \"type\": \"scatterpolar\"}], \"scatterpolargl\": [{\"marker\": {\"colorbar\": {\"outlinewidth\": 0, \"ticks\": \"\"}}, \"type\": \"scatterpolargl\"}], \"scatterternary\": [{\"marker\": {\"colorbar\": {\"outlinewidth\": 0, \"ticks\": \"\"}}, \"type\": \"scatterternary\"}], \"surface\": [{\"colorbar\": {\"outlinewidth\": 0, \"ticks\": \"\"}, \"colorscale\": [[0.0, \"#0d0887\"], [0.1111111111111111, \"#46039f\"], [0.2222222222222222, \"#7201a8\"], [0.3333333333333333, \"#9c179e\"], [0.4444444444444444, \"#bd3786\"], [0.5555555555555556, \"#d8576b\"], [0.6666666666666666, \"#ed7953\"], [0.7777777777777778, \"#fb9f3a\"], [0.8888888888888888, \"#fdca26\"], [1.0, \"#f0f921\"]], \"type\": \"surface\"}], \"table\": [{\"cells\": {\"fill\": {\"color\": \"#EBF0F8\"}, \"line\": {\"color\": \"white\"}}, \"header\": {\"fill\": {\"color\": \"#C8D4E3\"}, \"line\": {\"color\": \"white\"}}, \"type\": \"table\"}]}, \"layout\": {\"annotationdefaults\": {\"arrowcolor\": \"#2a3f5f\", \"arrowhead\": 0, \"arrowwidth\": 1}, \"autotypenumbers\": \"strict\", \"coloraxis\": {\"colorbar\": {\"outlinewidth\": 0, \"ticks\": \"\"}}, \"colorscale\": {\"diverging\": [[0, \"#8e0152\"], [0.1, \"#c51b7d\"], [0.2, \"#de77ae\"], [0.3, \"#f1b6da\"], [0.4, \"#fde0ef\"], [0.5, \"#f7f7f7\"], [0.6, \"#e6f5d0\"], [0.7, \"#b8e186\"], [0.8, \"#7fbc41\"], [0.9, \"#4d9221\"], [1, \"#276419\"]], \"sequential\": [[0.0, \"#0d0887\"], [0.1111111111111111, \"#46039f\"], [0.2222222222222222, \"#7201a8\"], [0.3333333333333333, \"#9c179e\"], [0.4444444444444444, \"#bd3786\"], [0.5555555555555556, \"#d8576b\"], [0.6666666666666666, \"#ed7953\"], [0.7777777777777778, \"#fb9f3a\"], [0.8888888888888888, \"#fdca26\"], [1.0, \"#f0f921\"]], \"sequentialminus\": [[0.0, \"#0d0887\"], [0.1111111111111111, \"#46039f\"], [0.2222222222222222, \"#7201a8\"], [0.3333333333333333, \"#9c179e\"], [0.4444444444444444, \"#bd3786\"], [0.5555555555555556, \"#d8576b\"], [0.6666666666666666, \"#ed7953\"], [0.7777777777777778, \"#fb9f3a\"], [0.8888888888888888, \"#fdca26\"], [1.0, \"#f0f921\"]]}, \"colorway\": [\"#636efa\", \"#EF553B\", \"#00cc96\", \"#ab63fa\", \"#FFA15A\", \"#19d3f3\", \"#FF6692\", \"#B6E880\", \"#FF97FF\", \"#FECB52\"], \"font\": {\"color\": \"#2a3f5f\"}, \"geo\": {\"bgcolor\": \"white\", \"lakecolor\": \"white\", \"landcolor\": \"#E5ECF6\", \"showlakes\": true, \"showland\": true, \"subunitcolor\": \"white\"}, \"hoverlabel\": {\"align\": \"left\"}, \"hovermode\": \"closest\", \"mapbox\": {\"style\": \"light\"}, \"paper_bgcolor\": \"white\", \"plot_bgcolor\": \"#E5ECF6\", \"polar\": {\"angularaxis\": {\"gridcolor\": \"white\", \"linecolor\": \"white\", \"ticks\": \"\"}, \"bgcolor\": \"#E5ECF6\", \"radialaxis\": {\"gridcolor\": \"white\", \"linecolor\": \"white\", \"ticks\": \"\"}}, \"scene\": {\"xaxis\": {\"backgroundcolor\": \"#E5ECF6\", \"gridcolor\": \"white\", \"gridwidth\": 2, \"linecolor\": \"white\", \"showbackground\": true, \"ticks\": \"\", \"zerolinecolor\": \"white\"}, \"yaxis\": {\"backgroundcolor\": \"#E5ECF6\", \"gridcolor\": \"white\", \"gridwidth\": 2, \"linecolor\": \"white\", \"showbackground\": true, \"ticks\": \"\", \"zerolinecolor\": \"white\"}, \"zaxis\": {\"backgroundcolor\": \"#E5ECF6\", \"gridcolor\": \"white\", \"gridwidth\": 2, \"linecolor\": \"white\", \"showbackground\": true, \"ticks\": \"\", \"zerolinecolor\": \"white\"}}, \"shapedefaults\": {\"line\": {\"color\": \"#2a3f5f\"}}, \"ternary\": {\"aaxis\": {\"gridcolor\": \"white\", \"linecolor\": \"white\", \"ticks\": \"\"}, \"baxis\": {\"gridcolor\": \"white\", \"linecolor\": \"white\", \"ticks\": \"\"}, \"bgcolor\": \"#E5ECF6\", \"caxis\": {\"gridcolor\": \"white\", \"linecolor\": \"white\", \"ticks\": \"\"}}, \"title\": {\"x\": 0.05}, \"xaxis\": {\"automargin\": true, \"gridcolor\": \"white\", \"linecolor\": \"white\", \"ticks\": \"\", \"title\": {\"standoff\": 15}, \"zerolinecolor\": \"white\", \"zerolinewidth\": 2}, \"yaxis\": {\"automargin\": true, \"gridcolor\": \"white\", \"linecolor\": \"white\", \"ticks\": \"\", \"title\": {\"standoff\": 15}, \"zerolinecolor\": \"white\", \"zerolinewidth\": 2}}}, \"title\": {\"text\": \"COMPANIES IN DIFFERENT COUNTRIES WITH HIGHEST MEAN SALARIES\"}, \"xaxis\": {\"anchor\": \"y\", \"domain\": [0.0, 1.0], \"title\": {\"text\": \"COUNTRY_DESC\"}}, \"yaxis\": {\"anchor\": \"x\", \"domain\": [0.0, 1.0], \"title\": {\"text\": \"SALARY\"}}},                        {\"responsive\": true}                    ).then(function(){\n",
              "                            \n",
              "var gd = document.getElementById('c642dbc0-2646-4f9f-b158-1ee1e83793d6');\n",
              "var x = new MutationObserver(function (mutations, observer) {{\n",
              "        var display = window.getComputedStyle(gd).display;\n",
              "        if (!display || display === 'none') {{\n",
              "            console.log([gd, 'removed!']);\n",
              "            Plotly.purge(gd);\n",
              "            observer.disconnect();\n",
              "        }}\n",
              "}});\n",
              "\n",
              "// Listen for the removal of the full notebook cells\n",
              "var notebookContainer = gd.closest('#notebook-container');\n",
              "if (notebookContainer) {{\n",
              "    x.observe(notebookContainer, {childList: true});\n",
              "}}\n",
              "\n",
              "// Listen for the clearing of the current output cell\n",
              "var outputEl = gd.closest('.output');\n",
              "if (outputEl) {{\n",
              "    x.observe(outputEl, {childList: true});\n",
              "}}\n",
              "\n",
              "                        })                };                            </script>        </div>\n",
              "</body>\n",
              "</html>"
            ]
          },
          "metadata": {
            "tags": []
          }
        }
      ]
    },
    {
      "cell_type": "markdown",
      "metadata": {
        "id": "6b876a75"
      },
      "source": [
        "#### EDUCATIONAL LEVEL OF EMPLOYEES IN COMPANIES THAT ARE OFFERED WITH HIGHEST MEAN SALARIES"
      ],
      "id": "6b876a75"
    },
    {
      "cell_type": "code",
      "metadata": {
        "colab": {
          "base_uri": "https://localhost:8080/",
          "height": 359
        },
        "id": "2bfae2b9",
        "outputId": "fe0a011d-26e5-48e7-c92c-4fa474c405e2"
      },
      "source": [
        "#hide_input\n",
        "insight16 = pd.DataFrame()\n",
        "insight16 = data.groupby([\"COMPANY_NAME\",\"EDUCATION_DESC\"])['SALARY'].mean()\n",
        "insight16 = insight16.reset_index([\"COMPANY_NAME\",\"EDUCATION_DESC\"])\n",
        "insight16 = insight16.nlargest(10,'SALARY')\n",
        "insight16"
      ],
      "id": "2bfae2b9",
      "execution_count": null,
      "outputs": [
        {
          "output_type": "execute_result",
          "data": {
            "text/html": [
              "<div>\n",
              "<style scoped>\n",
              "    .dataframe tbody tr th:only-of-type {\n",
              "        vertical-align: middle;\n",
              "    }\n",
              "\n",
              "    .dataframe tbody tr th {\n",
              "        vertical-align: top;\n",
              "    }\n",
              "\n",
              "    .dataframe thead th {\n",
              "        text-align: right;\n",
              "    }\n",
              "</style>\n",
              "<table border=\"1\" class=\"dataframe\">\n",
              "  <thead>\n",
              "    <tr style=\"text-align: right;\">\n",
              "      <th></th>\n",
              "      <th>COMPANY_NAME</th>\n",
              "      <th>EDUCATION_DESC</th>\n",
              "      <th>SALARY</th>\n",
              "    </tr>\n",
              "  </thead>\n",
              "  <tbody>\n",
              "    <tr>\n",
              "      <th>38188</th>\n",
              "      <td>الشركة المتحدة لصناعة الحديد</td>\n",
              "      <td></td>\n",
              "      <td>20000.0</td>\n",
              "    </tr>\n",
              "    <tr>\n",
              "      <th>152074</th>\n",
              "      <td>شركة كردت ون كويت القابضة</td>\n",
              "      <td></td>\n",
              "      <td>12000.0</td>\n",
              "    </tr>\n",
              "    <tr>\n",
              "      <th>118904</th>\n",
              "      <td>شركة باب المرقاب للتجارة العامة والمقاولات</td>\n",
              "      <td></td>\n",
              "      <td>11000.0</td>\n",
              "    </tr>\n",
              "    <tr>\n",
              "      <th>144100</th>\n",
              "      <td>شركة صالون ومعهد مايلستونز لتجميل السيدات</td>\n",
              "      <td></td>\n",
              "      <td>11000.0</td>\n",
              "    </tr>\n",
              "    <tr>\n",
              "      <th>9101</th>\n",
              "      <td>شركة  التمدين  الاستشارية</td>\n",
              "      <td></td>\n",
              "      <td>10000.0</td>\n",
              "    </tr>\n",
              "    <tr>\n",
              "      <th>16801</th>\n",
              "      <td>شركة اوكيانا العقارية</td>\n",
              "      <td></td>\n",
              "      <td>10000.0</td>\n",
              "    </tr>\n",
              "    <tr>\n",
              "      <th>86422</th>\n",
              "      <td>شركة اربيان بورث ان للتجارة العامة</td>\n",
              "      <td>جامعى</td>\n",
              "      <td>10000.0</td>\n",
              "    </tr>\n",
              "    <tr>\n",
              "      <th>107267</th>\n",
              "      <td>شركة الكويتية الاولى للخدمات التعليميه</td>\n",
              "      <td></td>\n",
              "      <td>10000.0</td>\n",
              "    </tr>\n",
              "    <tr>\n",
              "      <th>114154</th>\n",
              "      <td>شركة اليسكو للمقاولات العامه للمباني</td>\n",
              "      <td>جامعى</td>\n",
              "      <td>10000.0</td>\n",
              "    </tr>\n",
              "    <tr>\n",
              "      <th>114388</th>\n",
              "      <td>شركة ام ام اى مونتريال ميديكال انترناشيونال لت...</td>\n",
              "      <td>دكتوراه</td>\n",
              "      <td>10000.0</td>\n",
              "    </tr>\n",
              "  </tbody>\n",
              "</table>\n",
              "</div>"
            ],
            "text/plain": [
              "                                             COMPANY_NAME  ...   SALARY\n",
              "38188                        الشركة المتحدة لصناعة الحديد  ...  20000.0\n",
              "152074                          شركة كردت ون كويت القابضة  ...  12000.0\n",
              "118904         شركة باب المرقاب للتجارة العامة والمقاولات  ...  11000.0\n",
              "144100          شركة صالون ومعهد مايلستونز لتجميل السيدات  ...  11000.0\n",
              "9101                            شركة  التمدين  الاستشارية  ...  10000.0\n",
              "16801                               شركة اوكيانا العقارية  ...  10000.0\n",
              "86422                  شركة اربيان بورث ان للتجارة العامة  ...  10000.0\n",
              "107267             شركة الكويتية الاولى للخدمات التعليميه  ...  10000.0\n",
              "114154               شركة اليسكو للمقاولات العامه للمباني  ...  10000.0\n",
              "114388  شركة ام ام اى مونتريال ميديكال انترناشيونال لت...  ...  10000.0\n",
              "\n",
              "[10 rows x 3 columns]"
            ]
          },
          "metadata": {
            "tags": []
          },
          "execution_count": 63
        }
      ]
    },
    {
      "cell_type": "code",
      "metadata": {
        "colab": {
          "base_uri": "https://localhost:8080/",
          "height": 542
        },
        "id": "cf4ed791",
        "outputId": "5d2578e0-0b97-4cd6-efd4-e58e89c018ee"
      },
      "source": [
        "#hide_input\n",
        "fig = px.bar(insight16,x=\"COMPANY_NAME\",y=\"SALARY\",text=\"SALARY\",color = \"EDUCATION_DESC\",title =\"EDUCATIONAL LEVEL OF EMPLOYEES IN COMPANIES THAT ARE OFFERED WITH HIGHEST MEAN SALARIES\")\n",
        "fig.show()"
      ],
      "id": "cf4ed791",
      "execution_count": null,
      "outputs": [
        {
          "output_type": "display_data",
          "data": {
            "text/html": [
              "<html>\n",
              "<head><meta charset=\"utf-8\" /></head>\n",
              "<body>\n",
              "    <div>            <script src=\"https://cdnjs.cloudflare.com/ajax/libs/mathjax/2.7.5/MathJax.js?config=TeX-AMS-MML_SVG\"></script><script type=\"text/javascript\">if (window.MathJax) {MathJax.Hub.Config({SVG: {font: \"STIX-Web\"}});}</script>                <script type=\"text/javascript\">window.PlotlyConfig = {MathJaxConfig: 'local'};</script>\n",
              "        <script src=\"https://cdn.plot.ly/plotly-latest.min.js\"></script>                <div id=\"ffd1ef25-3d91-415c-99cd-56724bbd00da\" class=\"plotly-graph-div\" style=\"height:525px; width:100%;\"></div>            <script type=\"text/javascript\">                                    window.PLOTLYENV=window.PLOTLYENV || {};                                    if (document.getElementById(\"ffd1ef25-3d91-415c-99cd-56724bbd00da\")) {                    Plotly.newPlot(                        \"ffd1ef25-3d91-415c-99cd-56724bbd00da\",                        [{\"alignmentgroup\": \"True\", \"hovertemplate\": \"EDUCATION_DESC=<br>COMPANY_NAME=%{x}<br>SALARY=%{text}<extra></extra>\", \"legendgroup\": \"\", \"marker\": {\"color\": \"#636efa\"}, \"name\": \"\", \"offsetgroup\": \"\", \"orientation\": \"v\", \"showlegend\": false, \"text\": [20000.0, 12000.0, 11000.0, 11000.0, 10000.0, 10000.0, 10000.0], \"textposition\": \"auto\", \"type\": \"bar\", \"x\": [\"\\u0627\\u0644\\u0634\\u0631\\u0643\\u0629 \\u0627\\u0644\\u0645\\u062a\\u062d\\u062f\\u0629 \\u0644\\u0635\\u0646\\u0627\\u0639\\u0629 \\u0627\\u0644\\u062d\\u062f\\u064a\\u062f\", \"\\u0634\\u0631\\u0643\\u0629 \\u0643\\u0631\\u062f\\u062a \\u0648\\u0646 \\u0643\\u0648\\u064a\\u062a \\u0627\\u0644\\u0642\\u0627\\u0628\\u0636\\u0629\", \"\\u0634\\u0631\\u0643\\u0629 \\u0628\\u0627\\u0628 \\u0627\\u0644\\u0645\\u0631\\u0642\\u0627\\u0628 \\u0644\\u0644\\u062a\\u062c\\u0627\\u0631\\u0629 \\u0627\\u0644\\u0639\\u0627\\u0645\\u0629 \\u0648\\u0627\\u0644\\u0645\\u0642\\u0627\\u0648\\u0644\\u0627\\u062a\", \"\\u0634\\u0631\\u0643\\u0629 \\u0635\\u0627\\u0644\\u0648\\u0646 \\u0648\\u0645\\u0639\\u0647\\u062f \\u0645\\u0627\\u064a\\u0644\\u0633\\u062a\\u0648\\u0646\\u0632 \\u0644\\u062a\\u062c\\u0645\\u064a\\u0644 \\u0627\\u0644\\u0633\\u064a\\u062f\\u0627\\u062a\", \"  \\u0634\\u0631\\u0643\\u0629  \\u0627\\u0644\\u062a\\u0645\\u062f\\u064a\\u0646  \\u0627\\u0644\\u0627\\u0633\\u062a\\u0634\\u0627\\u0631\\u064a\\u0629\", \" \\u0634\\u0631\\u0643\\u0629 \\u0627\\u0648\\u0643\\u064a\\u0627\\u0646\\u0627 \\u0627\\u0644\\u0639\\u0642\\u0627\\u0631\\u064a\\u0629\", \"\\u0634\\u0631\\u0643\\u0629 \\u0627\\u0644\\u0643\\u0648\\u064a\\u062a\\u064a\\u0629 \\u0627\\u0644\\u0627\\u0648\\u0644\\u0649 \\u0644\\u0644\\u062e\\u062f\\u0645\\u0627\\u062a \\u0627\\u0644\\u062a\\u0639\\u0644\\u064a\\u0645\\u064a\\u0647\"], \"xaxis\": \"x\", \"y\": [20000.0, 12000.0, 11000.0, 11000.0, 10000.0, 10000.0, 10000.0], \"yaxis\": \"y\"}, {\"alignmentgroup\": \"True\", \"hovertemplate\": \"EDUCATION_DESC=\\u062c\\u0627\\u0645\\u0639\\u0649<br>COMPANY_NAME=%{x}<br>SALARY=%{text}<extra></extra>\", \"legendgroup\": \"\\u062c\\u0627\\u0645\\u0639\\u0649\", \"marker\": {\"color\": \"#EF553B\"}, \"name\": \"\\u062c\\u0627\\u0645\\u0639\\u0649\", \"offsetgroup\": \"\\u062c\\u0627\\u0645\\u0639\\u0649\", \"orientation\": \"v\", \"showlegend\": true, \"text\": [10000.0, 10000.0], \"textposition\": \"auto\", \"type\": \"bar\", \"x\": [\"\\u0634\\u0631\\u0643\\u0629 \\u0627\\u0631\\u0628\\u064a\\u0627\\u0646 \\u0628\\u0648\\u0631\\u062b \\u0627\\u0646 \\u0644\\u0644\\u062a\\u062c\\u0627\\u0631\\u0629 \\u0627\\u0644\\u0639\\u0627\\u0645\\u0629\", \"\\u0634\\u0631\\u0643\\u0629 \\u0627\\u0644\\u064a\\u0633\\u0643\\u0648 \\u0644\\u0644\\u0645\\u0642\\u0627\\u0648\\u0644\\u0627\\u062a \\u0627\\u0644\\u0639\\u0627\\u0645\\u0647 \\u0644\\u0644\\u0645\\u0628\\u0627\\u0646\\u064a\"], \"xaxis\": \"x\", \"y\": [10000.0, 10000.0], \"yaxis\": \"y\"}, {\"alignmentgroup\": \"True\", \"hovertemplate\": \"EDUCATION_DESC=\\u062f\\u0643\\u062a\\u0648\\u0631\\u0627\\u0647<br>COMPANY_NAME=%{x}<br>SALARY=%{text}<extra></extra>\", \"legendgroup\": \"\\u062f\\u0643\\u062a\\u0648\\u0631\\u0627\\u0647\", \"marker\": {\"color\": \"#00cc96\"}, \"name\": \"\\u062f\\u0643\\u062a\\u0648\\u0631\\u0627\\u0647\", \"offsetgroup\": \"\\u062f\\u0643\\u062a\\u0648\\u0631\\u0627\\u0647\", \"orientation\": \"v\", \"showlegend\": true, \"text\": [10000.0], \"textposition\": \"auto\", \"type\": \"bar\", \"x\": [\"\\u0634\\u0631\\u0643\\u0629 \\u0627\\u0645 \\u0627\\u0645 \\u0627\\u0649 \\u0645\\u0648\\u0646\\u062a\\u0631\\u064a\\u0627\\u0644 \\u0645\\u064a\\u062f\\u064a\\u0643\\u0627\\u0644 \\u0627\\u0646\\u062a\\u0631\\u0646\\u0627\\u0634\\u064a\\u0648\\u0646\\u0627\\u0644 \\u0644\\u062a\\u062f\\u0631\\u064a\\u0628 \\u0627\\u0644\\u0643\\u0648\\u0627\\u062f\\u0631 \\u0627\\u0644\\u0637\\u0628\\u064a\\u0629\"], \"xaxis\": \"x\", \"y\": [10000.0], \"yaxis\": \"y\"}],                        {\"barmode\": \"relative\", \"legend\": {\"title\": {\"text\": \"EDUCATION_DESC\"}, \"tracegroupgap\": 0}, \"template\": {\"data\": {\"bar\": [{\"error_x\": {\"color\": \"#2a3f5f\"}, \"error_y\": {\"color\": \"#2a3f5f\"}, \"marker\": {\"line\": {\"color\": \"#E5ECF6\", \"width\": 0.5}}, \"type\": \"bar\"}], \"barpolar\": [{\"marker\": {\"line\": {\"color\": \"#E5ECF6\", \"width\": 0.5}}, \"type\": \"barpolar\"}], \"carpet\": [{\"aaxis\": {\"endlinecolor\": \"#2a3f5f\", \"gridcolor\": \"white\", \"linecolor\": \"white\", \"minorgridcolor\": \"white\", \"startlinecolor\": \"#2a3f5f\"}, \"baxis\": {\"endlinecolor\": \"#2a3f5f\", \"gridcolor\": \"white\", \"linecolor\": \"white\", \"minorgridcolor\": \"white\", \"startlinecolor\": \"#2a3f5f\"}, \"type\": \"carpet\"}], \"choropleth\": [{\"colorbar\": {\"outlinewidth\": 0, \"ticks\": \"\"}, \"type\": \"choropleth\"}], \"contour\": [{\"colorbar\": {\"outlinewidth\": 0, \"ticks\": \"\"}, \"colorscale\": [[0.0, \"#0d0887\"], [0.1111111111111111, \"#46039f\"], [0.2222222222222222, \"#7201a8\"], [0.3333333333333333, \"#9c179e\"], [0.4444444444444444, \"#bd3786\"], [0.5555555555555556, \"#d8576b\"], [0.6666666666666666, \"#ed7953\"], [0.7777777777777778, \"#fb9f3a\"], [0.8888888888888888, \"#fdca26\"], [1.0, \"#f0f921\"]], \"type\": \"contour\"}], \"contourcarpet\": [{\"colorbar\": {\"outlinewidth\": 0, \"ticks\": \"\"}, \"type\": \"contourcarpet\"}], \"heatmap\": [{\"colorbar\": {\"outlinewidth\": 0, \"ticks\": \"\"}, \"colorscale\": [[0.0, \"#0d0887\"], [0.1111111111111111, \"#46039f\"], [0.2222222222222222, \"#7201a8\"], [0.3333333333333333, \"#9c179e\"], [0.4444444444444444, \"#bd3786\"], [0.5555555555555556, \"#d8576b\"], [0.6666666666666666, \"#ed7953\"], [0.7777777777777778, \"#fb9f3a\"], [0.8888888888888888, \"#fdca26\"], [1.0, \"#f0f921\"]], \"type\": \"heatmap\"}], \"heatmapgl\": [{\"colorbar\": {\"outlinewidth\": 0, \"ticks\": \"\"}, \"colorscale\": [[0.0, \"#0d0887\"], [0.1111111111111111, \"#46039f\"], [0.2222222222222222, \"#7201a8\"], [0.3333333333333333, \"#9c179e\"], [0.4444444444444444, \"#bd3786\"], [0.5555555555555556, \"#d8576b\"], [0.6666666666666666, \"#ed7953\"], [0.7777777777777778, \"#fb9f3a\"], [0.8888888888888888, \"#fdca26\"], [1.0, \"#f0f921\"]], \"type\": \"heatmapgl\"}], \"histogram\": [{\"marker\": {\"colorbar\": {\"outlinewidth\": 0, \"ticks\": \"\"}}, \"type\": \"histogram\"}], \"histogram2d\": [{\"colorbar\": {\"outlinewidth\": 0, \"ticks\": \"\"}, \"colorscale\": [[0.0, \"#0d0887\"], [0.1111111111111111, \"#46039f\"], [0.2222222222222222, \"#7201a8\"], [0.3333333333333333, \"#9c179e\"], [0.4444444444444444, \"#bd3786\"], [0.5555555555555556, \"#d8576b\"], [0.6666666666666666, \"#ed7953\"], [0.7777777777777778, \"#fb9f3a\"], [0.8888888888888888, \"#fdca26\"], [1.0, \"#f0f921\"]], \"type\": \"histogram2d\"}], \"histogram2dcontour\": [{\"colorbar\": {\"outlinewidth\": 0, \"ticks\": \"\"}, \"colorscale\": [[0.0, \"#0d0887\"], [0.1111111111111111, \"#46039f\"], [0.2222222222222222, \"#7201a8\"], [0.3333333333333333, \"#9c179e\"], [0.4444444444444444, \"#bd3786\"], [0.5555555555555556, \"#d8576b\"], [0.6666666666666666, \"#ed7953\"], [0.7777777777777778, \"#fb9f3a\"], [0.8888888888888888, \"#fdca26\"], [1.0, \"#f0f921\"]], \"type\": \"histogram2dcontour\"}], \"mesh3d\": [{\"colorbar\": {\"outlinewidth\": 0, \"ticks\": \"\"}, \"type\": \"mesh3d\"}], \"parcoords\": [{\"line\": {\"colorbar\": {\"outlinewidth\": 0, \"ticks\": \"\"}}, \"type\": \"parcoords\"}], \"pie\": [{\"automargin\": true, \"type\": \"pie\"}], \"scatter\": [{\"marker\": {\"colorbar\": {\"outlinewidth\": 0, \"ticks\": \"\"}}, \"type\": \"scatter\"}], \"scatter3d\": [{\"line\": {\"colorbar\": {\"outlinewidth\": 0, \"ticks\": \"\"}}, \"marker\": {\"colorbar\": {\"outlinewidth\": 0, \"ticks\": \"\"}}, \"type\": \"scatter3d\"}], \"scattercarpet\": [{\"marker\": {\"colorbar\": {\"outlinewidth\": 0, \"ticks\": \"\"}}, \"type\": \"scattercarpet\"}], \"scattergeo\": [{\"marker\": {\"colorbar\": {\"outlinewidth\": 0, \"ticks\": \"\"}}, \"type\": \"scattergeo\"}], \"scattergl\": [{\"marker\": {\"colorbar\": {\"outlinewidth\": 0, \"ticks\": \"\"}}, \"type\": \"scattergl\"}], \"scattermapbox\": [{\"marker\": {\"colorbar\": {\"outlinewidth\": 0, \"ticks\": \"\"}}, \"type\": \"scattermapbox\"}], \"scatterpolar\": [{\"marker\": {\"colorbar\": {\"outlinewidth\": 0, \"ticks\": \"\"}}, \"type\": \"scatterpolar\"}], \"scatterpolargl\": [{\"marker\": {\"colorbar\": {\"outlinewidth\": 0, \"ticks\": \"\"}}, \"type\": \"scatterpolargl\"}], \"scatterternary\": [{\"marker\": {\"colorbar\": {\"outlinewidth\": 0, \"ticks\": \"\"}}, \"type\": \"scatterternary\"}], \"surface\": [{\"colorbar\": {\"outlinewidth\": 0, \"ticks\": \"\"}, \"colorscale\": [[0.0, \"#0d0887\"], [0.1111111111111111, \"#46039f\"], [0.2222222222222222, \"#7201a8\"], [0.3333333333333333, \"#9c179e\"], [0.4444444444444444, \"#bd3786\"], [0.5555555555555556, \"#d8576b\"], [0.6666666666666666, \"#ed7953\"], [0.7777777777777778, \"#fb9f3a\"], [0.8888888888888888, \"#fdca26\"], [1.0, \"#f0f921\"]], \"type\": \"surface\"}], \"table\": [{\"cells\": {\"fill\": {\"color\": \"#EBF0F8\"}, \"line\": {\"color\": \"white\"}}, \"header\": {\"fill\": {\"color\": \"#C8D4E3\"}, \"line\": {\"color\": \"white\"}}, \"type\": \"table\"}]}, \"layout\": {\"annotationdefaults\": {\"arrowcolor\": \"#2a3f5f\", \"arrowhead\": 0, \"arrowwidth\": 1}, \"autotypenumbers\": \"strict\", \"coloraxis\": {\"colorbar\": {\"outlinewidth\": 0, \"ticks\": \"\"}}, \"colorscale\": {\"diverging\": [[0, \"#8e0152\"], [0.1, \"#c51b7d\"], [0.2, \"#de77ae\"], [0.3, \"#f1b6da\"], [0.4, \"#fde0ef\"], [0.5, \"#f7f7f7\"], [0.6, \"#e6f5d0\"], [0.7, \"#b8e186\"], [0.8, \"#7fbc41\"], [0.9, \"#4d9221\"], [1, \"#276419\"]], \"sequential\": [[0.0, \"#0d0887\"], [0.1111111111111111, \"#46039f\"], [0.2222222222222222, \"#7201a8\"], [0.3333333333333333, \"#9c179e\"], [0.4444444444444444, \"#bd3786\"], [0.5555555555555556, \"#d8576b\"], [0.6666666666666666, \"#ed7953\"], [0.7777777777777778, \"#fb9f3a\"], [0.8888888888888888, \"#fdca26\"], [1.0, \"#f0f921\"]], \"sequentialminus\": [[0.0, \"#0d0887\"], [0.1111111111111111, \"#46039f\"], [0.2222222222222222, \"#7201a8\"], [0.3333333333333333, \"#9c179e\"], [0.4444444444444444, \"#bd3786\"], [0.5555555555555556, \"#d8576b\"], [0.6666666666666666, \"#ed7953\"], [0.7777777777777778, \"#fb9f3a\"], [0.8888888888888888, \"#fdca26\"], [1.0, \"#f0f921\"]]}, \"colorway\": [\"#636efa\", \"#EF553B\", \"#00cc96\", \"#ab63fa\", \"#FFA15A\", \"#19d3f3\", \"#FF6692\", \"#B6E880\", \"#FF97FF\", \"#FECB52\"], \"font\": {\"color\": \"#2a3f5f\"}, \"geo\": {\"bgcolor\": \"white\", \"lakecolor\": \"white\", \"landcolor\": \"#E5ECF6\", \"showlakes\": true, \"showland\": true, \"subunitcolor\": \"white\"}, \"hoverlabel\": {\"align\": \"left\"}, \"hovermode\": \"closest\", \"mapbox\": {\"style\": \"light\"}, \"paper_bgcolor\": \"white\", \"plot_bgcolor\": \"#E5ECF6\", \"polar\": {\"angularaxis\": {\"gridcolor\": \"white\", \"linecolor\": \"white\", \"ticks\": \"\"}, \"bgcolor\": \"#E5ECF6\", \"radialaxis\": {\"gridcolor\": \"white\", \"linecolor\": \"white\", \"ticks\": \"\"}}, \"scene\": {\"xaxis\": {\"backgroundcolor\": \"#E5ECF6\", \"gridcolor\": \"white\", \"gridwidth\": 2, \"linecolor\": \"white\", \"showbackground\": true, \"ticks\": \"\", \"zerolinecolor\": \"white\"}, \"yaxis\": {\"backgroundcolor\": \"#E5ECF6\", \"gridcolor\": \"white\", \"gridwidth\": 2, \"linecolor\": \"white\", \"showbackground\": true, \"ticks\": \"\", \"zerolinecolor\": \"white\"}, \"zaxis\": {\"backgroundcolor\": \"#E5ECF6\", \"gridcolor\": \"white\", \"gridwidth\": 2, \"linecolor\": \"white\", \"showbackground\": true, \"ticks\": \"\", \"zerolinecolor\": \"white\"}}, \"shapedefaults\": {\"line\": {\"color\": \"#2a3f5f\"}}, \"ternary\": {\"aaxis\": {\"gridcolor\": \"white\", \"linecolor\": \"white\", \"ticks\": \"\"}, \"baxis\": {\"gridcolor\": \"white\", \"linecolor\": \"white\", \"ticks\": \"\"}, \"bgcolor\": \"#E5ECF6\", \"caxis\": {\"gridcolor\": \"white\", \"linecolor\": \"white\", \"ticks\": \"\"}}, \"title\": {\"x\": 0.05}, \"xaxis\": {\"automargin\": true, \"gridcolor\": \"white\", \"linecolor\": \"white\", \"ticks\": \"\", \"title\": {\"standoff\": 15}, \"zerolinecolor\": \"white\", \"zerolinewidth\": 2}, \"yaxis\": {\"automargin\": true, \"gridcolor\": \"white\", \"linecolor\": \"white\", \"ticks\": \"\", \"title\": {\"standoff\": 15}, \"zerolinecolor\": \"white\", \"zerolinewidth\": 2}}}, \"title\": {\"text\": \"EDUCATIONAL LEVEL OF EMPLOYEES IN COMPANIES THAT ARE OFFERED WITH HIGHEST MEAN SALARIES\"}, \"xaxis\": {\"anchor\": \"y\", \"domain\": [0.0, 1.0], \"title\": {\"text\": \"COMPANY_NAME\"}}, \"yaxis\": {\"anchor\": \"x\", \"domain\": [0.0, 1.0], \"title\": {\"text\": \"SALARY\"}}},                        {\"responsive\": true}                    ).then(function(){\n",
              "                            \n",
              "var gd = document.getElementById('ffd1ef25-3d91-415c-99cd-56724bbd00da');\n",
              "var x = new MutationObserver(function (mutations, observer) {{\n",
              "        var display = window.getComputedStyle(gd).display;\n",
              "        if (!display || display === 'none') {{\n",
              "            console.log([gd, 'removed!']);\n",
              "            Plotly.purge(gd);\n",
              "            observer.disconnect();\n",
              "        }}\n",
              "}});\n",
              "\n",
              "// Listen for the removal of the full notebook cells\n",
              "var notebookContainer = gd.closest('#notebook-container');\n",
              "if (notebookContainer) {{\n",
              "    x.observe(notebookContainer, {childList: true});\n",
              "}}\n",
              "\n",
              "// Listen for the clearing of the current output cell\n",
              "var outputEl = gd.closest('.output');\n",
              "if (outputEl) {{\n",
              "    x.observe(outputEl, {childList: true});\n",
              "}}\n",
              "\n",
              "                        })                };                            </script>        </div>\n",
              "</body>\n",
              "</html>"
            ]
          },
          "metadata": {
            "tags": []
          }
        }
      ]
    },
    {
      "cell_type": "markdown",
      "metadata": {
        "id": "37fa788b"
      },
      "source": [
        "#### COMPANIES IN GOVERNORATE WITH HIGHEST MEAN SALARIES"
      ],
      "id": "37fa788b"
    },
    {
      "cell_type": "code",
      "metadata": {
        "colab": {
          "base_uri": "https://localhost:8080/",
          "height": 359
        },
        "id": "db775920",
        "outputId": "1cdd48ed-1abe-40cc-8897-0848b35b31aa"
      },
      "source": [
        "#hide_input\n",
        "insight17 = pd.DataFrame()\n",
        "insight17 = data.groupby([\"COMPANY_NAME\",\"GOVERNORATE_DESC\"])['SALARY'].mean()\n",
        "insight17 = insight17.reset_index([\"COMPANY_NAME\",\"GOVERNORATE_DESC\"])\n",
        "insight17 = insight17.nlargest(10,'SALARY')\n",
        "insight17"
      ],
      "id": "db775920",
      "execution_count": null,
      "outputs": [
        {
          "output_type": "execute_result",
          "data": {
            "text/html": [
              "<div>\n",
              "<style scoped>\n",
              "    .dataframe tbody tr th:only-of-type {\n",
              "        vertical-align: middle;\n",
              "    }\n",
              "\n",
              "    .dataframe tbody tr th {\n",
              "        vertical-align: top;\n",
              "    }\n",
              "\n",
              "    .dataframe thead th {\n",
              "        text-align: right;\n",
              "    }\n",
              "</style>\n",
              "<table border=\"1\" class=\"dataframe\">\n",
              "  <thead>\n",
              "    <tr style=\"text-align: right;\">\n",
              "      <th></th>\n",
              "      <th>COMPANY_NAME</th>\n",
              "      <th>GOVERNORATE_DESC</th>\n",
              "      <th>SALARY</th>\n",
              "    </tr>\n",
              "  </thead>\n",
              "  <tbody>\n",
              "    <tr>\n",
              "      <th>15534</th>\n",
              "      <td>الشركة المتحدة لصناعة الحديد</td>\n",
              "      <td>محافظة العاصمة</td>\n",
              "      <td>10900.0</td>\n",
              "    </tr>\n",
              "    <tr>\n",
              "      <th>3823</th>\n",
              "      <td>شركة  التمدين  الاستشارية</td>\n",
              "      <td>محافظة حولي</td>\n",
              "      <td>10000.0</td>\n",
              "    </tr>\n",
              "    <tr>\n",
              "      <th>53460</th>\n",
              "      <td>شركة اليسكو للمقاولات العامه للمباني</td>\n",
              "      <td>محافظة العاصمة</td>\n",
              "      <td>10000.0</td>\n",
              "    </tr>\n",
              "    <tr>\n",
              "      <th>47812</th>\n",
              "      <td>شركة السبعه لآلى القابضة</td>\n",
              "      <td>محافظة حولي</td>\n",
              "      <td>8925.0</td>\n",
              "    </tr>\n",
              "    <tr>\n",
              "      <th>53261</th>\n",
              "      <td>شركة الوسيلة لمشاريع التنمية العقارية</td>\n",
              "      <td>محافظة العاصمة</td>\n",
              "      <td>8535.0</td>\n",
              "    </tr>\n",
              "    <tr>\n",
              "      <th>52729</th>\n",
              "      <td>شركة النوادي القابضه</td>\n",
              "      <td>محافظة حولي</td>\n",
              "      <td>8000.0</td>\n",
              "    </tr>\n",
              "    <tr>\n",
              "      <th>59502</th>\n",
              "      <td>شركة جلوبال كليرينج هاوس سستمز</td>\n",
              "      <td>محافظة الجهراء</td>\n",
              "      <td>7000.0</td>\n",
              "    </tr>\n",
              "    <tr>\n",
              "      <th>62686</th>\n",
              "      <td>شركة رنفيكو جي تي ال للتجارة العامة والمقاولات</td>\n",
              "      <td>محافظة العاصمة</td>\n",
              "      <td>7000.0</td>\n",
              "    </tr>\n",
              "    <tr>\n",
              "      <th>70527</th>\n",
              "      <td>شركة كنسورتيوم التعليمية</td>\n",
              "      <td>محافظة حولي</td>\n",
              "      <td>6200.0</td>\n",
              "    </tr>\n",
              "    <tr>\n",
              "      <th>42031</th>\n",
              "      <td>شركة ارثر برازرز ليجاسي للتجارة العامة</td>\n",
              "      <td>محافظة حولي</td>\n",
              "      <td>6000.0</td>\n",
              "    </tr>\n",
              "  </tbody>\n",
              "</table>\n",
              "</div>"
            ],
            "text/plain": [
              "                                         COMPANY_NAME GOVERNORATE_DESC   SALARY\n",
              "15534                    الشركة المتحدة لصناعة الحديد   محافظة العاصمة  10900.0\n",
              "3823                        شركة  التمدين  الاستشارية      محافظة حولي  10000.0\n",
              "53460            شركة اليسكو للمقاولات العامه للمباني   محافظة العاصمة  10000.0\n",
              "47812                        شركة السبعه لآلى القابضة      محافظة حولي   8925.0\n",
              "53261           شركة الوسيلة لمشاريع التنمية العقارية   محافظة العاصمة   8535.0\n",
              "52729                            شركة النوادي القابضه      محافظة حولي   8000.0\n",
              "59502                  شركة جلوبال كليرينج هاوس سستمز   محافظة الجهراء   7000.0\n",
              "62686  شركة رنفيكو جي تي ال للتجارة العامة والمقاولات   محافظة العاصمة   7000.0\n",
              "70527                        شركة كنسورتيوم التعليمية      محافظة حولي   6200.0\n",
              "42031          شركة ارثر برازرز ليجاسي للتجارة العامة      محافظة حولي   6000.0"
            ]
          },
          "metadata": {
            "tags": []
          },
          "execution_count": 65
        }
      ]
    },
    {
      "cell_type": "code",
      "metadata": {
        "colab": {
          "base_uri": "https://localhost:8080/",
          "height": 542
        },
        "id": "2c2b7a54",
        "outputId": "cf096648-d5e8-402d-eab3-7e29a3869e50"
      },
      "source": [
        "#hide_input\n",
        "fig = px.bar(insight17,x=\"COMPANY_NAME\",y=\"SALARY\",text=\"SALARY\",color = \"GOVERNORATE_DESC\",title = \"COMPANIES IN GOVERNORATE WITH HIGHEST MEAN SALARIES\")\n",
        "fig.show()"
      ],
      "id": "2c2b7a54",
      "execution_count": null,
      "outputs": [
        {
          "output_type": "display_data",
          "data": {
            "text/html": [
              "<html>\n",
              "<head><meta charset=\"utf-8\" /></head>\n",
              "<body>\n",
              "    <div>            <script src=\"https://cdnjs.cloudflare.com/ajax/libs/mathjax/2.7.5/MathJax.js?config=TeX-AMS-MML_SVG\"></script><script type=\"text/javascript\">if (window.MathJax) {MathJax.Hub.Config({SVG: {font: \"STIX-Web\"}});}</script>                <script type=\"text/javascript\">window.PlotlyConfig = {MathJaxConfig: 'local'};</script>\n",
              "        <script src=\"https://cdn.plot.ly/plotly-latest.min.js\"></script>                <div id=\"22ac3a9b-038f-4eb2-8460-e946ce8fbea6\" class=\"plotly-graph-div\" style=\"height:525px; width:100%;\"></div>            <script type=\"text/javascript\">                                    window.PLOTLYENV=window.PLOTLYENV || {};                                    if (document.getElementById(\"22ac3a9b-038f-4eb2-8460-e946ce8fbea6\")) {                    Plotly.newPlot(                        \"22ac3a9b-038f-4eb2-8460-e946ce8fbea6\",                        [{\"alignmentgroup\": \"True\", \"hovertemplate\": \"GOVERNORATE_DESC=\\u0645\\u062d\\u0627\\u0641\\u0638\\u0629 \\u0627\\u0644\\u0639\\u0627\\u0635\\u0645\\u0629<br>COMPANY_NAME=%{x}<br>SALARY=%{text}<extra></extra>\", \"legendgroup\": \"\\u0645\\u062d\\u0627\\u0641\\u0638\\u0629 \\u0627\\u0644\\u0639\\u0627\\u0635\\u0645\\u0629\", \"marker\": {\"color\": \"#636efa\"}, \"name\": \"\\u0645\\u062d\\u0627\\u0641\\u0638\\u0629 \\u0627\\u0644\\u0639\\u0627\\u0635\\u0645\\u0629\", \"offsetgroup\": \"\\u0645\\u062d\\u0627\\u0641\\u0638\\u0629 \\u0627\\u0644\\u0639\\u0627\\u0635\\u0645\\u0629\", \"orientation\": \"v\", \"showlegend\": true, \"text\": [10900.0, 10000.0, 8535.0, 7000.0], \"textposition\": \"auto\", \"type\": \"bar\", \"x\": [\"\\u0627\\u0644\\u0634\\u0631\\u0643\\u0629 \\u0627\\u0644\\u0645\\u062a\\u062d\\u062f\\u0629 \\u0644\\u0635\\u0646\\u0627\\u0639\\u0629 \\u0627\\u0644\\u062d\\u062f\\u064a\\u062f\", \"\\u0634\\u0631\\u0643\\u0629 \\u0627\\u0644\\u064a\\u0633\\u0643\\u0648 \\u0644\\u0644\\u0645\\u0642\\u0627\\u0648\\u0644\\u0627\\u062a \\u0627\\u0644\\u0639\\u0627\\u0645\\u0647 \\u0644\\u0644\\u0645\\u0628\\u0627\\u0646\\u064a\", \"\\u0634\\u0631\\u0643\\u0629 \\u0627\\u0644\\u0648\\u0633\\u064a\\u0644\\u0629 \\u0644\\u0645\\u0634\\u0627\\u0631\\u064a\\u0639 \\u0627\\u0644\\u062a\\u0646\\u0645\\u064a\\u0629 \\u0627\\u0644\\u0639\\u0642\\u0627\\u0631\\u064a\\u0629\", \"\\u0634\\u0631\\u0643\\u0629 \\u0631\\u0646\\u0641\\u064a\\u0643\\u0648 \\u062c\\u064a \\u062a\\u064a \\u0627\\u0644 \\u0644\\u0644\\u062a\\u062c\\u0627\\u0631\\u0629 \\u0627\\u0644\\u0639\\u0627\\u0645\\u0629 \\u0648\\u0627\\u0644\\u0645\\u0642\\u0627\\u0648\\u0644\\u0627\\u062a\"], \"xaxis\": \"x\", \"y\": [10900.0, 10000.0, 8535.0, 7000.0], \"yaxis\": \"y\"}, {\"alignmentgroup\": \"True\", \"hovertemplate\": \"GOVERNORATE_DESC=\\u0645\\u062d\\u0627\\u0641\\u0638\\u0629 \\u062d\\u0648\\u0644\\u064a<br>COMPANY_NAME=%{x}<br>SALARY=%{text}<extra></extra>\", \"legendgroup\": \"\\u0645\\u062d\\u0627\\u0641\\u0638\\u0629 \\u062d\\u0648\\u0644\\u064a\", \"marker\": {\"color\": \"#EF553B\"}, \"name\": \"\\u0645\\u062d\\u0627\\u0641\\u0638\\u0629 \\u062d\\u0648\\u0644\\u064a\", \"offsetgroup\": \"\\u0645\\u062d\\u0627\\u0641\\u0638\\u0629 \\u062d\\u0648\\u0644\\u064a\", \"orientation\": \"v\", \"showlegend\": true, \"text\": [10000.0, 8925.0, 8000.0, 6200.0, 6000.0], \"textposition\": \"auto\", \"type\": \"bar\", \"x\": [\"  \\u0634\\u0631\\u0643\\u0629  \\u0627\\u0644\\u062a\\u0645\\u062f\\u064a\\u0646  \\u0627\\u0644\\u0627\\u0633\\u062a\\u0634\\u0627\\u0631\\u064a\\u0629\", \"\\u0634\\u0631\\u0643\\u0629 \\u0627\\u0644\\u0633\\u0628\\u0639\\u0647 \\u0644\\u0622\\u0644\\u0649 \\u0627\\u0644\\u0642\\u0627\\u0628\\u0636\\u0629\", \"\\u0634\\u0631\\u0643\\u0629 \\u0627\\u0644\\u0646\\u0648\\u0627\\u062f\\u064a \\u0627\\u0644\\u0642\\u0627\\u0628\\u0636\\u0647\", \"\\u0634\\u0631\\u0643\\u0629 \\u0643\\u0646\\u0633\\u0648\\u0631\\u062a\\u064a\\u0648\\u0645 \\u0627\\u0644\\u062a\\u0639\\u0644\\u064a\\u0645\\u064a\\u0629\", \"\\u0634\\u0631\\u0643\\u0629 \\u0627\\u0631\\u062b\\u0631 \\u0628\\u0631\\u0627\\u0632\\u0631\\u0632 \\u0644\\u064a\\u062c\\u0627\\u0633\\u064a \\u0644\\u0644\\u062a\\u062c\\u0627\\u0631\\u0629 \\u0627\\u0644\\u0639\\u0627\\u0645\\u0629\"], \"xaxis\": \"x\", \"y\": [10000.0, 8925.0, 8000.0, 6200.0, 6000.0], \"yaxis\": \"y\"}, {\"alignmentgroup\": \"True\", \"hovertemplate\": \"GOVERNORATE_DESC=\\u0645\\u062d\\u0627\\u0641\\u0638\\u0629 \\u0627\\u0644\\u062c\\u0647\\u0631\\u0627\\u0621<br>COMPANY_NAME=%{x}<br>SALARY=%{text}<extra></extra>\", \"legendgroup\": \"\\u0645\\u062d\\u0627\\u0641\\u0638\\u0629 \\u0627\\u0644\\u062c\\u0647\\u0631\\u0627\\u0621\", \"marker\": {\"color\": \"#00cc96\"}, \"name\": \"\\u0645\\u062d\\u0627\\u0641\\u0638\\u0629 \\u0627\\u0644\\u062c\\u0647\\u0631\\u0627\\u0621\", \"offsetgroup\": \"\\u0645\\u062d\\u0627\\u0641\\u0638\\u0629 \\u0627\\u0644\\u062c\\u0647\\u0631\\u0627\\u0621\", \"orientation\": \"v\", \"showlegend\": true, \"text\": [7000.0], \"textposition\": \"auto\", \"type\": \"bar\", \"x\": [\"\\u0634\\u0631\\u0643\\u0629 \\u062c\\u0644\\u0648\\u0628\\u0627\\u0644 \\u0643\\u0644\\u064a\\u0631\\u064a\\u0646\\u062c \\u0647\\u0627\\u0648\\u0633 \\u0633\\u0633\\u062a\\u0645\\u0632\"], \"xaxis\": \"x\", \"y\": [7000.0], \"yaxis\": \"y\"}],                        {\"barmode\": \"relative\", \"legend\": {\"title\": {\"text\": \"GOVERNORATE_DESC\"}, \"tracegroupgap\": 0}, \"template\": {\"data\": {\"bar\": [{\"error_x\": {\"color\": \"#2a3f5f\"}, \"error_y\": {\"color\": \"#2a3f5f\"}, \"marker\": {\"line\": {\"color\": \"#E5ECF6\", \"width\": 0.5}}, \"type\": \"bar\"}], \"barpolar\": [{\"marker\": {\"line\": {\"color\": \"#E5ECF6\", \"width\": 0.5}}, \"type\": \"barpolar\"}], \"carpet\": [{\"aaxis\": {\"endlinecolor\": \"#2a3f5f\", \"gridcolor\": \"white\", \"linecolor\": \"white\", \"minorgridcolor\": \"white\", \"startlinecolor\": \"#2a3f5f\"}, \"baxis\": {\"endlinecolor\": \"#2a3f5f\", \"gridcolor\": \"white\", \"linecolor\": \"white\", \"minorgridcolor\": \"white\", \"startlinecolor\": \"#2a3f5f\"}, \"type\": \"carpet\"}], \"choropleth\": [{\"colorbar\": {\"outlinewidth\": 0, \"ticks\": \"\"}, \"type\": \"choropleth\"}], \"contour\": [{\"colorbar\": {\"outlinewidth\": 0, \"ticks\": \"\"}, \"colorscale\": [[0.0, \"#0d0887\"], [0.1111111111111111, \"#46039f\"], [0.2222222222222222, \"#7201a8\"], [0.3333333333333333, \"#9c179e\"], [0.4444444444444444, \"#bd3786\"], [0.5555555555555556, \"#d8576b\"], [0.6666666666666666, \"#ed7953\"], [0.7777777777777778, \"#fb9f3a\"], [0.8888888888888888, \"#fdca26\"], [1.0, \"#f0f921\"]], \"type\": \"contour\"}], \"contourcarpet\": [{\"colorbar\": {\"outlinewidth\": 0, \"ticks\": \"\"}, \"type\": \"contourcarpet\"}], \"heatmap\": [{\"colorbar\": {\"outlinewidth\": 0, \"ticks\": \"\"}, \"colorscale\": [[0.0, \"#0d0887\"], [0.1111111111111111, \"#46039f\"], [0.2222222222222222, \"#7201a8\"], [0.3333333333333333, \"#9c179e\"], [0.4444444444444444, \"#bd3786\"], [0.5555555555555556, \"#d8576b\"], [0.6666666666666666, \"#ed7953\"], [0.7777777777777778, \"#fb9f3a\"], [0.8888888888888888, \"#fdca26\"], [1.0, \"#f0f921\"]], \"type\": \"heatmap\"}], \"heatmapgl\": [{\"colorbar\": {\"outlinewidth\": 0, \"ticks\": \"\"}, \"colorscale\": [[0.0, \"#0d0887\"], [0.1111111111111111, \"#46039f\"], [0.2222222222222222, \"#7201a8\"], [0.3333333333333333, \"#9c179e\"], [0.4444444444444444, \"#bd3786\"], [0.5555555555555556, \"#d8576b\"], [0.6666666666666666, \"#ed7953\"], [0.7777777777777778, \"#fb9f3a\"], [0.8888888888888888, \"#fdca26\"], [1.0, \"#f0f921\"]], \"type\": \"heatmapgl\"}], \"histogram\": [{\"marker\": {\"colorbar\": {\"outlinewidth\": 0, \"ticks\": \"\"}}, \"type\": \"histogram\"}], \"histogram2d\": [{\"colorbar\": {\"outlinewidth\": 0, \"ticks\": \"\"}, \"colorscale\": [[0.0, \"#0d0887\"], [0.1111111111111111, \"#46039f\"], [0.2222222222222222, \"#7201a8\"], [0.3333333333333333, \"#9c179e\"], [0.4444444444444444, \"#bd3786\"], [0.5555555555555556, \"#d8576b\"], [0.6666666666666666, \"#ed7953\"], [0.7777777777777778, \"#fb9f3a\"], [0.8888888888888888, \"#fdca26\"], [1.0, \"#f0f921\"]], \"type\": \"histogram2d\"}], \"histogram2dcontour\": [{\"colorbar\": {\"outlinewidth\": 0, \"ticks\": \"\"}, \"colorscale\": [[0.0, \"#0d0887\"], [0.1111111111111111, \"#46039f\"], [0.2222222222222222, \"#7201a8\"], [0.3333333333333333, \"#9c179e\"], [0.4444444444444444, \"#bd3786\"], [0.5555555555555556, \"#d8576b\"], [0.6666666666666666, \"#ed7953\"], [0.7777777777777778, \"#fb9f3a\"], [0.8888888888888888, \"#fdca26\"], [1.0, \"#f0f921\"]], \"type\": \"histogram2dcontour\"}], \"mesh3d\": [{\"colorbar\": {\"outlinewidth\": 0, \"ticks\": \"\"}, \"type\": \"mesh3d\"}], \"parcoords\": [{\"line\": {\"colorbar\": {\"outlinewidth\": 0, \"ticks\": \"\"}}, \"type\": \"parcoords\"}], \"pie\": [{\"automargin\": true, \"type\": \"pie\"}], \"scatter\": [{\"marker\": {\"colorbar\": {\"outlinewidth\": 0, \"ticks\": \"\"}}, \"type\": \"scatter\"}], \"scatter3d\": [{\"line\": {\"colorbar\": {\"outlinewidth\": 0, \"ticks\": \"\"}}, \"marker\": {\"colorbar\": {\"outlinewidth\": 0, \"ticks\": \"\"}}, \"type\": \"scatter3d\"}], \"scattercarpet\": [{\"marker\": {\"colorbar\": {\"outlinewidth\": 0, \"ticks\": \"\"}}, \"type\": \"scattercarpet\"}], \"scattergeo\": [{\"marker\": {\"colorbar\": {\"outlinewidth\": 0, \"ticks\": \"\"}}, \"type\": \"scattergeo\"}], \"scattergl\": [{\"marker\": {\"colorbar\": {\"outlinewidth\": 0, \"ticks\": \"\"}}, \"type\": \"scattergl\"}], \"scattermapbox\": [{\"marker\": {\"colorbar\": {\"outlinewidth\": 0, \"ticks\": \"\"}}, \"type\": \"scattermapbox\"}], \"scatterpolar\": [{\"marker\": {\"colorbar\": {\"outlinewidth\": 0, \"ticks\": \"\"}}, \"type\": \"scatterpolar\"}], \"scatterpolargl\": [{\"marker\": {\"colorbar\": {\"outlinewidth\": 0, \"ticks\": \"\"}}, \"type\": \"scatterpolargl\"}], \"scatterternary\": [{\"marker\": {\"colorbar\": {\"outlinewidth\": 0, \"ticks\": \"\"}}, \"type\": \"scatterternary\"}], \"surface\": [{\"colorbar\": {\"outlinewidth\": 0, \"ticks\": \"\"}, \"colorscale\": [[0.0, \"#0d0887\"], [0.1111111111111111, \"#46039f\"], [0.2222222222222222, \"#7201a8\"], [0.3333333333333333, \"#9c179e\"], [0.4444444444444444, \"#bd3786\"], [0.5555555555555556, \"#d8576b\"], [0.6666666666666666, \"#ed7953\"], [0.7777777777777778, \"#fb9f3a\"], [0.8888888888888888, \"#fdca26\"], [1.0, \"#f0f921\"]], \"type\": \"surface\"}], \"table\": [{\"cells\": {\"fill\": {\"color\": \"#EBF0F8\"}, \"line\": {\"color\": \"white\"}}, \"header\": {\"fill\": {\"color\": \"#C8D4E3\"}, \"line\": {\"color\": \"white\"}}, \"type\": \"table\"}]}, \"layout\": {\"annotationdefaults\": {\"arrowcolor\": \"#2a3f5f\", \"arrowhead\": 0, \"arrowwidth\": 1}, \"autotypenumbers\": \"strict\", \"coloraxis\": {\"colorbar\": {\"outlinewidth\": 0, \"ticks\": \"\"}}, \"colorscale\": {\"diverging\": [[0, \"#8e0152\"], [0.1, \"#c51b7d\"], [0.2, \"#de77ae\"], [0.3, \"#f1b6da\"], [0.4, \"#fde0ef\"], [0.5, \"#f7f7f7\"], [0.6, \"#e6f5d0\"], [0.7, \"#b8e186\"], [0.8, \"#7fbc41\"], [0.9, \"#4d9221\"], [1, \"#276419\"]], \"sequential\": [[0.0, \"#0d0887\"], [0.1111111111111111, \"#46039f\"], [0.2222222222222222, \"#7201a8\"], [0.3333333333333333, \"#9c179e\"], [0.4444444444444444, \"#bd3786\"], [0.5555555555555556, \"#d8576b\"], [0.6666666666666666, \"#ed7953\"], [0.7777777777777778, \"#fb9f3a\"], [0.8888888888888888, \"#fdca26\"], [1.0, \"#f0f921\"]], \"sequentialminus\": [[0.0, \"#0d0887\"], [0.1111111111111111, \"#46039f\"], [0.2222222222222222, \"#7201a8\"], [0.3333333333333333, \"#9c179e\"], [0.4444444444444444, \"#bd3786\"], [0.5555555555555556, \"#d8576b\"], [0.6666666666666666, \"#ed7953\"], [0.7777777777777778, \"#fb9f3a\"], [0.8888888888888888, \"#fdca26\"], [1.0, \"#f0f921\"]]}, \"colorway\": [\"#636efa\", \"#EF553B\", \"#00cc96\", \"#ab63fa\", \"#FFA15A\", \"#19d3f3\", \"#FF6692\", \"#B6E880\", \"#FF97FF\", \"#FECB52\"], \"font\": {\"color\": \"#2a3f5f\"}, \"geo\": {\"bgcolor\": \"white\", \"lakecolor\": \"white\", \"landcolor\": \"#E5ECF6\", \"showlakes\": true, \"showland\": true, \"subunitcolor\": \"white\"}, \"hoverlabel\": {\"align\": \"left\"}, \"hovermode\": \"closest\", \"mapbox\": {\"style\": \"light\"}, \"paper_bgcolor\": \"white\", \"plot_bgcolor\": \"#E5ECF6\", \"polar\": {\"angularaxis\": {\"gridcolor\": \"white\", \"linecolor\": \"white\", \"ticks\": \"\"}, \"bgcolor\": \"#E5ECF6\", \"radialaxis\": {\"gridcolor\": \"white\", \"linecolor\": \"white\", \"ticks\": \"\"}}, \"scene\": {\"xaxis\": {\"backgroundcolor\": \"#E5ECF6\", \"gridcolor\": \"white\", \"gridwidth\": 2, \"linecolor\": \"white\", \"showbackground\": true, \"ticks\": \"\", \"zerolinecolor\": \"white\"}, \"yaxis\": {\"backgroundcolor\": \"#E5ECF6\", \"gridcolor\": \"white\", \"gridwidth\": 2, \"linecolor\": \"white\", \"showbackground\": true, \"ticks\": \"\", \"zerolinecolor\": \"white\"}, \"zaxis\": {\"backgroundcolor\": \"#E5ECF6\", \"gridcolor\": \"white\", \"gridwidth\": 2, \"linecolor\": \"white\", \"showbackground\": true, \"ticks\": \"\", \"zerolinecolor\": \"white\"}}, \"shapedefaults\": {\"line\": {\"color\": \"#2a3f5f\"}}, \"ternary\": {\"aaxis\": {\"gridcolor\": \"white\", \"linecolor\": \"white\", \"ticks\": \"\"}, \"baxis\": {\"gridcolor\": \"white\", \"linecolor\": \"white\", \"ticks\": \"\"}, \"bgcolor\": \"#E5ECF6\", \"caxis\": {\"gridcolor\": \"white\", \"linecolor\": \"white\", \"ticks\": \"\"}}, \"title\": {\"x\": 0.05}, \"xaxis\": {\"automargin\": true, \"gridcolor\": \"white\", \"linecolor\": \"white\", \"ticks\": \"\", \"title\": {\"standoff\": 15}, \"zerolinecolor\": \"white\", \"zerolinewidth\": 2}, \"yaxis\": {\"automargin\": true, \"gridcolor\": \"white\", \"linecolor\": \"white\", \"ticks\": \"\", \"title\": {\"standoff\": 15}, \"zerolinecolor\": \"white\", \"zerolinewidth\": 2}}}, \"title\": {\"text\": \"COMPANIES IN GOVERNORATE WITH HIGHEST MEAN SALARIES\"}, \"xaxis\": {\"anchor\": \"y\", \"domain\": [0.0, 1.0], \"title\": {\"text\": \"COMPANY_NAME\"}}, \"yaxis\": {\"anchor\": \"x\", \"domain\": [0.0, 1.0], \"title\": {\"text\": \"SALARY\"}}},                        {\"responsive\": true}                    ).then(function(){\n",
              "                            \n",
              "var gd = document.getElementById('22ac3a9b-038f-4eb2-8460-e946ce8fbea6');\n",
              "var x = new MutationObserver(function (mutations, observer) {{\n",
              "        var display = window.getComputedStyle(gd).display;\n",
              "        if (!display || display === 'none') {{\n",
              "            console.log([gd, 'removed!']);\n",
              "            Plotly.purge(gd);\n",
              "            observer.disconnect();\n",
              "        }}\n",
              "}});\n",
              "\n",
              "// Listen for the removal of the full notebook cells\n",
              "var notebookContainer = gd.closest('#notebook-container');\n",
              "if (notebookContainer) {{\n",
              "    x.observe(notebookContainer, {childList: true});\n",
              "}}\n",
              "\n",
              "// Listen for the clearing of the current output cell\n",
              "var outputEl = gd.closest('.output');\n",
              "if (outputEl) {{\n",
              "    x.observe(outputEl, {childList: true});\n",
              "}}\n",
              "\n",
              "                        })                };                            </script>        </div>\n",
              "</body>\n",
              "</html>"
            ]
          },
          "metadata": {
            "tags": []
          }
        }
      ]
    },
    {
      "cell_type": "code",
      "metadata": {
        "colab": {
          "base_uri": "https://localhost:8080/"
        },
        "id": "5d033f7f",
        "outputId": "19ada898-3fda-4775-bc02-0ee463b17d93"
      },
      "source": [
        "#hide_input\n",
        "data.columns"
      ],
      "id": "5d033f7f",
      "execution_count": null,
      "outputs": [
        {
          "output_type": "execute_result",
          "data": {
            "text/plain": [
              "Index(['CIVIL_ID', 'BIRTH_DATE', 'COUNTRY_DESC', 'GENDER_DESC', 'RLGION_DESC',\n",
              "       'JOB_DESC', 'ECONOMIC_ACT_DESC', 'EDUCATION_DESC', 'SALARY',\n",
              "       'GOVERNORATE_DESC', 'MARITAL_STATUS_DESC', 'COMPANY_NAME', 'HIRE_DATE',\n",
              "       'جنسية', 'Age'],\n",
              "      dtype='object')"
            ]
          },
          "metadata": {
            "tags": []
          },
          "execution_count": 67
        }
      ]
    },
    {
      "cell_type": "markdown",
      "metadata": {
        "id": "71a39c35"
      },
      "source": [
        "#### Companies offering Maximum salary"
      ],
      "id": "71a39c35"
    },
    {
      "cell_type": "code",
      "metadata": {
        "colab": {
          "base_uri": "https://localhost:8080/",
          "height": 204
        },
        "id": "1c7b978f",
        "outputId": "69466da4-3c5d-44eb-bc8c-11c3425552fe"
      },
      "source": [
        "#hide_input\n",
        "insight18 = pd.DataFrame()\n",
        "insight18 = data.groupby(\"COMPANY_NAME\")['SALARY'].max()\n",
        "insight18 = insight18.reset_index(\"COMPANY_NAME\")\n",
        "insight18 = insight18.nlargest(5,'SALARY')\n",
        "insight18"
      ],
      "id": "1c7b978f",
      "execution_count": null,
      "outputs": [
        {
          "output_type": "execute_result",
          "data": {
            "text/html": [
              "<div>\n",
              "<style scoped>\n",
              "    .dataframe tbody tr th:only-of-type {\n",
              "        vertical-align: middle;\n",
              "    }\n",
              "\n",
              "    .dataframe tbody tr th {\n",
              "        vertical-align: top;\n",
              "    }\n",
              "\n",
              "    .dataframe thead th {\n",
              "        text-align: right;\n",
              "    }\n",
              "</style>\n",
              "<table border=\"1\" class=\"dataframe\">\n",
              "  <thead>\n",
              "    <tr style=\"text-align: right;\">\n",
              "      <th></th>\n",
              "      <th>COMPANY_NAME</th>\n",
              "      <th>SALARY</th>\n",
              "    </tr>\n",
              "  </thead>\n",
              "  <tbody>\n",
              "    <tr>\n",
              "      <th>20573</th>\n",
              "      <td>بنك وربه / مساهمة العامة</td>\n",
              "      <td>26000.000</td>\n",
              "    </tr>\n",
              "    <tr>\n",
              "      <th>20563</th>\n",
              "      <td>بنك الكويت الدولى</td>\n",
              "      <td>25000.000</td>\n",
              "    </tr>\n",
              "    <tr>\n",
              "      <th>44546</th>\n",
              "      <td>شركة البترول الوطنية الكويتية</td>\n",
              "      <td>24003.485</td>\n",
              "    </tr>\n",
              "    <tr>\n",
              "      <th>10976</th>\n",
              "      <td>10808                    شركة ايكويت للبتروكيم...</td>\n",
              "      <td>22861.000</td>\n",
              "    </tr>\n",
              "    <tr>\n",
              "      <th>15534</th>\n",
              "      <td>الشركة المتحدة لصناعة الحديد</td>\n",
              "      <td>20000.000</td>\n",
              "    </tr>\n",
              "  </tbody>\n",
              "</table>\n",
              "</div>"
            ],
            "text/plain": [
              "                                            COMPANY_NAME     SALARY\n",
              "20573                           بنك وربه / مساهمة العامة  26000.000\n",
              "20563                                  بنك الكويت الدولى  25000.000\n",
              "44546                      شركة البترول الوطنية الكويتية  24003.485\n",
              "10976  10808                    شركة ايكويت للبتروكيم...  22861.000\n",
              "15534                       الشركة المتحدة لصناعة الحديد  20000.000"
            ]
          },
          "metadata": {
            "tags": []
          },
          "execution_count": 68
        }
      ]
    },
    {
      "cell_type": "code",
      "metadata": {
        "colab": {
          "base_uri": "https://localhost:8080/",
          "height": 542
        },
        "id": "9310003a",
        "outputId": "b78383ec-53b6-449d-9871-494f30fbc89b"
      },
      "source": [
        "#hide_input\n",
        "fig = px.bar(insight18,x=\"COMPANY_NAME\",y=\"SALARY\",text=\"SALARY\",color = \"COMPANY_NAME\",title = \"COMPANIES THAT OFFER HIGHEST SALARIES\")\n",
        "fig.show()"
      ],
      "id": "9310003a",
      "execution_count": null,
      "outputs": [
        {
          "output_type": "display_data",
          "data": {
            "text/html": [
              "<html>\n",
              "<head><meta charset=\"utf-8\" /></head>\n",
              "<body>\n",
              "    <div>            <script src=\"https://cdnjs.cloudflare.com/ajax/libs/mathjax/2.7.5/MathJax.js?config=TeX-AMS-MML_SVG\"></script><script type=\"text/javascript\">if (window.MathJax) {MathJax.Hub.Config({SVG: {font: \"STIX-Web\"}});}</script>                <script type=\"text/javascript\">window.PlotlyConfig = {MathJaxConfig: 'local'};</script>\n",
              "        <script src=\"https://cdn.plot.ly/plotly-latest.min.js\"></script>                <div id=\"d5cd114b-7a55-422a-8fee-7d688088b8f0\" class=\"plotly-graph-div\" style=\"height:525px; width:100%;\"></div>            <script type=\"text/javascript\">                                    window.PLOTLYENV=window.PLOTLYENV || {};                                    if (document.getElementById(\"d5cd114b-7a55-422a-8fee-7d688088b8f0\")) {                    Plotly.newPlot(                        \"d5cd114b-7a55-422a-8fee-7d688088b8f0\",                        [{\"alignmentgroup\": \"True\", \"hovertemplate\": \"COMPANY_NAME=%{x}<br>SALARY=%{text}<extra></extra>\", \"legendgroup\": \"\\u0628\\u0646\\u0643 \\u0648\\u0631\\u0628\\u0647 / \\u0645\\u0633\\u0627\\u0647\\u0645\\u0629 \\u0627\\u0644\\u0639\\u0627\\u0645\\u0629\", \"marker\": {\"color\": \"#636efa\"}, \"name\": \"\\u0628\\u0646\\u0643 \\u0648\\u0631\\u0628\\u0647 / \\u0645\\u0633\\u0627\\u0647\\u0645\\u0629 \\u0627\\u0644\\u0639\\u0627\\u0645\\u0629\", \"offsetgroup\": \"\\u0628\\u0646\\u0643 \\u0648\\u0631\\u0628\\u0647 / \\u0645\\u0633\\u0627\\u0647\\u0645\\u0629 \\u0627\\u0644\\u0639\\u0627\\u0645\\u0629\", \"orientation\": \"v\", \"showlegend\": true, \"text\": [26000.0], \"textposition\": \"auto\", \"type\": \"bar\", \"x\": [\"\\u0628\\u0646\\u0643 \\u0648\\u0631\\u0628\\u0647 / \\u0645\\u0633\\u0627\\u0647\\u0645\\u0629 \\u0627\\u0644\\u0639\\u0627\\u0645\\u0629\"], \"xaxis\": \"x\", \"y\": [26000.0], \"yaxis\": \"y\"}, {\"alignmentgroup\": \"True\", \"hovertemplate\": \"COMPANY_NAME=%{x}<br>SALARY=%{text}<extra></extra>\", \"legendgroup\": \"\\u0628\\u0646\\u0643 \\u0627\\u0644\\u0643\\u0648\\u064a\\u062a \\u0627\\u0644\\u062f\\u0648\\u0644\\u0649\", \"marker\": {\"color\": \"#EF553B\"}, \"name\": \"\\u0628\\u0646\\u0643 \\u0627\\u0644\\u0643\\u0648\\u064a\\u062a \\u0627\\u0644\\u062f\\u0648\\u0644\\u0649\", \"offsetgroup\": \"\\u0628\\u0646\\u0643 \\u0627\\u0644\\u0643\\u0648\\u064a\\u062a \\u0627\\u0644\\u062f\\u0648\\u0644\\u0649\", \"orientation\": \"v\", \"showlegend\": true, \"text\": [25000.0], \"textposition\": \"auto\", \"type\": \"bar\", \"x\": [\"\\u0628\\u0646\\u0643 \\u0627\\u0644\\u0643\\u0648\\u064a\\u062a \\u0627\\u0644\\u062f\\u0648\\u0644\\u0649\"], \"xaxis\": \"x\", \"y\": [25000.0], \"yaxis\": \"y\"}, {\"alignmentgroup\": \"True\", \"hovertemplate\": \"COMPANY_NAME=%{x}<br>SALARY=%{text}<extra></extra>\", \"legendgroup\": \"\\u0634\\u0631\\u0643\\u0629 \\u0627\\u0644\\u0628\\u062a\\u0631\\u0648\\u0644 \\u0627\\u0644\\u0648\\u0637\\u0646\\u064a\\u0629 \\u0627\\u0644\\u0643\\u0648\\u064a\\u062a\\u064a\\u0629\", \"marker\": {\"color\": \"#00cc96\"}, \"name\": \"\\u0634\\u0631\\u0643\\u0629 \\u0627\\u0644\\u0628\\u062a\\u0631\\u0648\\u0644 \\u0627\\u0644\\u0648\\u0637\\u0646\\u064a\\u0629 \\u0627\\u0644\\u0643\\u0648\\u064a\\u062a\\u064a\\u0629\", \"offsetgroup\": \"\\u0634\\u0631\\u0643\\u0629 \\u0627\\u0644\\u0628\\u062a\\u0631\\u0648\\u0644 \\u0627\\u0644\\u0648\\u0637\\u0646\\u064a\\u0629 \\u0627\\u0644\\u0643\\u0648\\u064a\\u062a\\u064a\\u0629\", \"orientation\": \"v\", \"showlegend\": true, \"text\": [24003.485], \"textposition\": \"auto\", \"type\": \"bar\", \"x\": [\"\\u0634\\u0631\\u0643\\u0629 \\u0627\\u0644\\u0628\\u062a\\u0631\\u0648\\u0644 \\u0627\\u0644\\u0648\\u0637\\u0646\\u064a\\u0629 \\u0627\\u0644\\u0643\\u0648\\u064a\\u062a\\u064a\\u0629\"], \"xaxis\": \"x\", \"y\": [24003.485], \"yaxis\": \"y\"}, {\"alignmentgroup\": \"True\", \"hovertemplate\": \"COMPANY_NAME=%{x}<br>SALARY=%{text}<extra></extra>\", \"legendgroup\": \"10808                    \\u0634\\u0631\\u0643\\u0629 \\u0627\\u064a\\u0643\\u0648\\u064a\\u062a \\u0644\\u0644\\u0628\\u062a\\u0631\\u0648\\u0643\\u064a\\u0645\\u0627\\u0648\\u064a\\u0627\\u062a\", \"marker\": {\"color\": \"#ab63fa\"}, \"name\": \"10808                    \\u0634\\u0631\\u0643\\u0629 \\u0627\\u064a\\u0643\\u0648\\u064a\\u062a \\u0644\\u0644\\u0628\\u062a\\u0631\\u0648\\u0643\\u064a\\u0645\\u0627\\u0648\\u064a\\u0627\\u062a\", \"offsetgroup\": \"10808                    \\u0634\\u0631\\u0643\\u0629 \\u0627\\u064a\\u0643\\u0648\\u064a\\u062a \\u0644\\u0644\\u0628\\u062a\\u0631\\u0648\\u0643\\u064a\\u0645\\u0627\\u0648\\u064a\\u0627\\u062a\", \"orientation\": \"v\", \"showlegend\": true, \"text\": [22861.0], \"textposition\": \"auto\", \"type\": \"bar\", \"x\": [\"10808                    \\u0634\\u0631\\u0643\\u0629 \\u0627\\u064a\\u0643\\u0648\\u064a\\u062a \\u0644\\u0644\\u0628\\u062a\\u0631\\u0648\\u0643\\u064a\\u0645\\u0627\\u0648\\u064a\\u0627\\u062a\"], \"xaxis\": \"x\", \"y\": [22861.0], \"yaxis\": \"y\"}, {\"alignmentgroup\": \"True\", \"hovertemplate\": \"COMPANY_NAME=%{x}<br>SALARY=%{text}<extra></extra>\", \"legendgroup\": \"\\u0627\\u0644\\u0634\\u0631\\u0643\\u0629 \\u0627\\u0644\\u0645\\u062a\\u062d\\u062f\\u0629 \\u0644\\u0635\\u0646\\u0627\\u0639\\u0629 \\u0627\\u0644\\u062d\\u062f\\u064a\\u062f\", \"marker\": {\"color\": \"#FFA15A\"}, \"name\": \"\\u0627\\u0644\\u0634\\u0631\\u0643\\u0629 \\u0627\\u0644\\u0645\\u062a\\u062d\\u062f\\u0629 \\u0644\\u0635\\u0646\\u0627\\u0639\\u0629 \\u0627\\u0644\\u062d\\u062f\\u064a\\u062f\", \"offsetgroup\": \"\\u0627\\u0644\\u0634\\u0631\\u0643\\u0629 \\u0627\\u0644\\u0645\\u062a\\u062d\\u062f\\u0629 \\u0644\\u0635\\u0646\\u0627\\u0639\\u0629 \\u0627\\u0644\\u062d\\u062f\\u064a\\u062f\", \"orientation\": \"v\", \"showlegend\": true, \"text\": [20000.0], \"textposition\": \"auto\", \"type\": \"bar\", \"x\": [\"\\u0627\\u0644\\u0634\\u0631\\u0643\\u0629 \\u0627\\u0644\\u0645\\u062a\\u062d\\u062f\\u0629 \\u0644\\u0635\\u0646\\u0627\\u0639\\u0629 \\u0627\\u0644\\u062d\\u062f\\u064a\\u062f\"], \"xaxis\": \"x\", \"y\": [20000.0], \"yaxis\": \"y\"}],                        {\"barmode\": \"relative\", \"legend\": {\"title\": {\"text\": \"COMPANY_NAME\"}, \"tracegroupgap\": 0}, \"template\": {\"data\": {\"bar\": [{\"error_x\": {\"color\": \"#2a3f5f\"}, \"error_y\": {\"color\": \"#2a3f5f\"}, \"marker\": {\"line\": {\"color\": \"#E5ECF6\", \"width\": 0.5}}, \"type\": \"bar\"}], \"barpolar\": [{\"marker\": {\"line\": {\"color\": \"#E5ECF6\", \"width\": 0.5}}, \"type\": \"barpolar\"}], \"carpet\": [{\"aaxis\": {\"endlinecolor\": \"#2a3f5f\", \"gridcolor\": \"white\", \"linecolor\": \"white\", \"minorgridcolor\": \"white\", \"startlinecolor\": \"#2a3f5f\"}, \"baxis\": {\"endlinecolor\": \"#2a3f5f\", \"gridcolor\": \"white\", \"linecolor\": \"white\", \"minorgridcolor\": \"white\", \"startlinecolor\": \"#2a3f5f\"}, \"type\": \"carpet\"}], \"choropleth\": [{\"colorbar\": {\"outlinewidth\": 0, \"ticks\": \"\"}, \"type\": \"choropleth\"}], \"contour\": [{\"colorbar\": {\"outlinewidth\": 0, \"ticks\": \"\"}, \"colorscale\": [[0.0, \"#0d0887\"], [0.1111111111111111, \"#46039f\"], [0.2222222222222222, \"#7201a8\"], [0.3333333333333333, \"#9c179e\"], [0.4444444444444444, \"#bd3786\"], [0.5555555555555556, \"#d8576b\"], [0.6666666666666666, \"#ed7953\"], [0.7777777777777778, \"#fb9f3a\"], [0.8888888888888888, \"#fdca26\"], [1.0, \"#f0f921\"]], \"type\": \"contour\"}], \"contourcarpet\": [{\"colorbar\": {\"outlinewidth\": 0, \"ticks\": \"\"}, \"type\": \"contourcarpet\"}], \"heatmap\": [{\"colorbar\": {\"outlinewidth\": 0, \"ticks\": \"\"}, \"colorscale\": [[0.0, \"#0d0887\"], [0.1111111111111111, \"#46039f\"], [0.2222222222222222, \"#7201a8\"], [0.3333333333333333, \"#9c179e\"], [0.4444444444444444, \"#bd3786\"], [0.5555555555555556, \"#d8576b\"], [0.6666666666666666, \"#ed7953\"], [0.7777777777777778, \"#fb9f3a\"], [0.8888888888888888, \"#fdca26\"], [1.0, \"#f0f921\"]], \"type\": \"heatmap\"}], \"heatmapgl\": [{\"colorbar\": {\"outlinewidth\": 0, \"ticks\": \"\"}, \"colorscale\": [[0.0, \"#0d0887\"], [0.1111111111111111, \"#46039f\"], [0.2222222222222222, \"#7201a8\"], [0.3333333333333333, \"#9c179e\"], [0.4444444444444444, \"#bd3786\"], [0.5555555555555556, \"#d8576b\"], [0.6666666666666666, \"#ed7953\"], [0.7777777777777778, \"#fb9f3a\"], [0.8888888888888888, \"#fdca26\"], [1.0, \"#f0f921\"]], \"type\": \"heatmapgl\"}], \"histogram\": [{\"marker\": {\"colorbar\": {\"outlinewidth\": 0, \"ticks\": \"\"}}, \"type\": \"histogram\"}], \"histogram2d\": [{\"colorbar\": {\"outlinewidth\": 0, \"ticks\": \"\"}, \"colorscale\": [[0.0, \"#0d0887\"], [0.1111111111111111, \"#46039f\"], [0.2222222222222222, \"#7201a8\"], [0.3333333333333333, \"#9c179e\"], [0.4444444444444444, \"#bd3786\"], [0.5555555555555556, \"#d8576b\"], [0.6666666666666666, \"#ed7953\"], [0.7777777777777778, \"#fb9f3a\"], [0.8888888888888888, \"#fdca26\"], [1.0, \"#f0f921\"]], \"type\": \"histogram2d\"}], \"histogram2dcontour\": [{\"colorbar\": {\"outlinewidth\": 0, \"ticks\": \"\"}, \"colorscale\": [[0.0, \"#0d0887\"], [0.1111111111111111, \"#46039f\"], [0.2222222222222222, \"#7201a8\"], [0.3333333333333333, \"#9c179e\"], [0.4444444444444444, \"#bd3786\"], [0.5555555555555556, \"#d8576b\"], [0.6666666666666666, \"#ed7953\"], [0.7777777777777778, \"#fb9f3a\"], [0.8888888888888888, \"#fdca26\"], [1.0, \"#f0f921\"]], \"type\": \"histogram2dcontour\"}], \"mesh3d\": [{\"colorbar\": {\"outlinewidth\": 0, \"ticks\": \"\"}, \"type\": \"mesh3d\"}], \"parcoords\": [{\"line\": {\"colorbar\": {\"outlinewidth\": 0, \"ticks\": \"\"}}, \"type\": \"parcoords\"}], \"pie\": [{\"automargin\": true, \"type\": \"pie\"}], \"scatter\": [{\"marker\": {\"colorbar\": {\"outlinewidth\": 0, \"ticks\": \"\"}}, \"type\": \"scatter\"}], \"scatter3d\": [{\"line\": {\"colorbar\": {\"outlinewidth\": 0, \"ticks\": \"\"}}, \"marker\": {\"colorbar\": {\"outlinewidth\": 0, \"ticks\": \"\"}}, \"type\": \"scatter3d\"}], \"scattercarpet\": [{\"marker\": {\"colorbar\": {\"outlinewidth\": 0, \"ticks\": \"\"}}, \"type\": \"scattercarpet\"}], \"scattergeo\": [{\"marker\": {\"colorbar\": {\"outlinewidth\": 0, \"ticks\": \"\"}}, \"type\": \"scattergeo\"}], \"scattergl\": [{\"marker\": {\"colorbar\": {\"outlinewidth\": 0, \"ticks\": \"\"}}, \"type\": \"scattergl\"}], \"scattermapbox\": [{\"marker\": {\"colorbar\": {\"outlinewidth\": 0, \"ticks\": \"\"}}, \"type\": \"scattermapbox\"}], \"scatterpolar\": [{\"marker\": {\"colorbar\": {\"outlinewidth\": 0, \"ticks\": \"\"}}, \"type\": \"scatterpolar\"}], \"scatterpolargl\": [{\"marker\": {\"colorbar\": {\"outlinewidth\": 0, \"ticks\": \"\"}}, \"type\": \"scatterpolargl\"}], \"scatterternary\": [{\"marker\": {\"colorbar\": {\"outlinewidth\": 0, \"ticks\": \"\"}}, \"type\": \"scatterternary\"}], \"surface\": [{\"colorbar\": {\"outlinewidth\": 0, \"ticks\": \"\"}, \"colorscale\": [[0.0, \"#0d0887\"], [0.1111111111111111, \"#46039f\"], [0.2222222222222222, \"#7201a8\"], [0.3333333333333333, \"#9c179e\"], [0.4444444444444444, \"#bd3786\"], [0.5555555555555556, \"#d8576b\"], [0.6666666666666666, \"#ed7953\"], [0.7777777777777778, \"#fb9f3a\"], [0.8888888888888888, \"#fdca26\"], [1.0, \"#f0f921\"]], \"type\": \"surface\"}], \"table\": [{\"cells\": {\"fill\": {\"color\": \"#EBF0F8\"}, \"line\": {\"color\": \"white\"}}, \"header\": {\"fill\": {\"color\": \"#C8D4E3\"}, \"line\": {\"color\": \"white\"}}, \"type\": \"table\"}]}, \"layout\": {\"annotationdefaults\": {\"arrowcolor\": \"#2a3f5f\", \"arrowhead\": 0, \"arrowwidth\": 1}, \"autotypenumbers\": \"strict\", \"coloraxis\": {\"colorbar\": {\"outlinewidth\": 0, \"ticks\": \"\"}}, \"colorscale\": {\"diverging\": [[0, \"#8e0152\"], [0.1, \"#c51b7d\"], [0.2, \"#de77ae\"], [0.3, \"#f1b6da\"], [0.4, \"#fde0ef\"], [0.5, \"#f7f7f7\"], [0.6, \"#e6f5d0\"], [0.7, \"#b8e186\"], [0.8, \"#7fbc41\"], [0.9, \"#4d9221\"], [1, \"#276419\"]], \"sequential\": [[0.0, \"#0d0887\"], [0.1111111111111111, \"#46039f\"], [0.2222222222222222, \"#7201a8\"], [0.3333333333333333, \"#9c179e\"], [0.4444444444444444, \"#bd3786\"], [0.5555555555555556, \"#d8576b\"], [0.6666666666666666, \"#ed7953\"], [0.7777777777777778, \"#fb9f3a\"], [0.8888888888888888, \"#fdca26\"], [1.0, \"#f0f921\"]], \"sequentialminus\": [[0.0, \"#0d0887\"], [0.1111111111111111, \"#46039f\"], [0.2222222222222222, \"#7201a8\"], [0.3333333333333333, \"#9c179e\"], [0.4444444444444444, \"#bd3786\"], [0.5555555555555556, \"#d8576b\"], [0.6666666666666666, \"#ed7953\"], [0.7777777777777778, \"#fb9f3a\"], [0.8888888888888888, \"#fdca26\"], [1.0, \"#f0f921\"]]}, \"colorway\": [\"#636efa\", \"#EF553B\", \"#00cc96\", \"#ab63fa\", \"#FFA15A\", \"#19d3f3\", \"#FF6692\", \"#B6E880\", \"#FF97FF\", \"#FECB52\"], \"font\": {\"color\": \"#2a3f5f\"}, \"geo\": {\"bgcolor\": \"white\", \"lakecolor\": \"white\", \"landcolor\": \"#E5ECF6\", \"showlakes\": true, \"showland\": true, \"subunitcolor\": \"white\"}, \"hoverlabel\": {\"align\": \"left\"}, \"hovermode\": \"closest\", \"mapbox\": {\"style\": \"light\"}, \"paper_bgcolor\": \"white\", \"plot_bgcolor\": \"#E5ECF6\", \"polar\": {\"angularaxis\": {\"gridcolor\": \"white\", \"linecolor\": \"white\", \"ticks\": \"\"}, \"bgcolor\": \"#E5ECF6\", \"radialaxis\": {\"gridcolor\": \"white\", \"linecolor\": \"white\", \"ticks\": \"\"}}, \"scene\": {\"xaxis\": {\"backgroundcolor\": \"#E5ECF6\", \"gridcolor\": \"white\", \"gridwidth\": 2, \"linecolor\": \"white\", \"showbackground\": true, \"ticks\": \"\", \"zerolinecolor\": \"white\"}, \"yaxis\": {\"backgroundcolor\": \"#E5ECF6\", \"gridcolor\": \"white\", \"gridwidth\": 2, \"linecolor\": \"white\", \"showbackground\": true, \"ticks\": \"\", \"zerolinecolor\": \"white\"}, \"zaxis\": {\"backgroundcolor\": \"#E5ECF6\", \"gridcolor\": \"white\", \"gridwidth\": 2, \"linecolor\": \"white\", \"showbackground\": true, \"ticks\": \"\", \"zerolinecolor\": \"white\"}}, \"shapedefaults\": {\"line\": {\"color\": \"#2a3f5f\"}}, \"ternary\": {\"aaxis\": {\"gridcolor\": \"white\", \"linecolor\": \"white\", \"ticks\": \"\"}, \"baxis\": {\"gridcolor\": \"white\", \"linecolor\": \"white\", \"ticks\": \"\"}, \"bgcolor\": \"#E5ECF6\", \"caxis\": {\"gridcolor\": \"white\", \"linecolor\": \"white\", \"ticks\": \"\"}}, \"title\": {\"x\": 0.05}, \"xaxis\": {\"automargin\": true, \"gridcolor\": \"white\", \"linecolor\": \"white\", \"ticks\": \"\", \"title\": {\"standoff\": 15}, \"zerolinecolor\": \"white\", \"zerolinewidth\": 2}, \"yaxis\": {\"automargin\": true, \"gridcolor\": \"white\", \"linecolor\": \"white\", \"ticks\": \"\", \"title\": {\"standoff\": 15}, \"zerolinecolor\": \"white\", \"zerolinewidth\": 2}}}, \"title\": {\"text\": \"COMPANIES THAT OFFER HIGHEST SALARIES\"}, \"xaxis\": {\"anchor\": \"y\", \"categoryarray\": [\"\\u0628\\u0646\\u0643 \\u0648\\u0631\\u0628\\u0647 / \\u0645\\u0633\\u0627\\u0647\\u0645\\u0629 \\u0627\\u0644\\u0639\\u0627\\u0645\\u0629\", \"\\u0628\\u0646\\u0643 \\u0627\\u0644\\u0643\\u0648\\u064a\\u062a \\u0627\\u0644\\u062f\\u0648\\u0644\\u0649\", \"\\u0634\\u0631\\u0643\\u0629 \\u0627\\u0644\\u0628\\u062a\\u0631\\u0648\\u0644 \\u0627\\u0644\\u0648\\u0637\\u0646\\u064a\\u0629 \\u0627\\u0644\\u0643\\u0648\\u064a\\u062a\\u064a\\u0629\", \"10808                    \\u0634\\u0631\\u0643\\u0629 \\u0627\\u064a\\u0643\\u0648\\u064a\\u062a \\u0644\\u0644\\u0628\\u062a\\u0631\\u0648\\u0643\\u064a\\u0645\\u0627\\u0648\\u064a\\u0627\\u062a\", \"\\u0627\\u0644\\u0634\\u0631\\u0643\\u0629 \\u0627\\u0644\\u0645\\u062a\\u062d\\u062f\\u0629 \\u0644\\u0635\\u0646\\u0627\\u0639\\u0629 \\u0627\\u0644\\u062d\\u062f\\u064a\\u062f\"], \"categoryorder\": \"array\", \"domain\": [0.0, 1.0], \"title\": {\"text\": \"COMPANY_NAME\"}}, \"yaxis\": {\"anchor\": \"x\", \"domain\": [0.0, 1.0], \"title\": {\"text\": \"SALARY\"}}},                        {\"responsive\": true}                    ).then(function(){\n",
              "                            \n",
              "var gd = document.getElementById('d5cd114b-7a55-422a-8fee-7d688088b8f0');\n",
              "var x = new MutationObserver(function (mutations, observer) {{\n",
              "        var display = window.getComputedStyle(gd).display;\n",
              "        if (!display || display === 'none') {{\n",
              "            console.log([gd, 'removed!']);\n",
              "            Plotly.purge(gd);\n",
              "            observer.disconnect();\n",
              "        }}\n",
              "}});\n",
              "\n",
              "// Listen for the removal of the full notebook cells\n",
              "var notebookContainer = gd.closest('#notebook-container');\n",
              "if (notebookContainer) {{\n",
              "    x.observe(notebookContainer, {childList: true});\n",
              "}}\n",
              "\n",
              "// Listen for the clearing of the current output cell\n",
              "var outputEl = gd.closest('.output');\n",
              "if (outputEl) {{\n",
              "    x.observe(outputEl, {childList: true});\n",
              "}}\n",
              "\n",
              "                        })                };                            </script>        </div>\n",
              "</body>\n",
              "</html>"
            ]
          },
          "metadata": {
            "tags": []
          }
        }
      ]
    },
    {
      "cell_type": "markdown",
      "metadata": {
        "id": "f090950b"
      },
      "source": [
        "#### INSIGHT \n",
        "\n",
        "**Top 5 companies:**\n",
        "\n",
        "-- offering max salary \n",
        "\n",
        "-- country\n",
        "\n",
        "-- gender of that employee"
      ],
      "id": "f090950b"
    },
    {
      "cell_type": "code",
      "metadata": {
        "colab": {
          "base_uri": "https://localhost:8080/",
          "height": 204
        },
        "id": "d08a69db",
        "outputId": "a7714617-5a51-422c-e384-b452bab5412c"
      },
      "source": [
        "#hide_input\n",
        "insight19 = pd.DataFrame()\n",
        "insight19 = data.groupby([\"COMPANY_NAME\",\"COUNTRY_DESC\",\"GENDER_DESC\"])['SALARY'].max()\n",
        "insight19 = insight19.reset_index([\"COMPANY_NAME\",\"COUNTRY_DESC\",\"GENDER_DESC\"])\n",
        "insight19 = insight19.nlargest(5,'SALARY')\n",
        "insight19"
      ],
      "id": "d08a69db",
      "execution_count": null,
      "outputs": [
        {
          "output_type": "execute_result",
          "data": {
            "text/html": [
              "<div>\n",
              "<style scoped>\n",
              "    .dataframe tbody tr th:only-of-type {\n",
              "        vertical-align: middle;\n",
              "    }\n",
              "\n",
              "    .dataframe tbody tr th {\n",
              "        vertical-align: top;\n",
              "    }\n",
              "\n",
              "    .dataframe thead th {\n",
              "        text-align: right;\n",
              "    }\n",
              "</style>\n",
              "<table border=\"1\" class=\"dataframe\">\n",
              "  <thead>\n",
              "    <tr style=\"text-align: right;\">\n",
              "      <th></th>\n",
              "      <th>COMPANY_NAME</th>\n",
              "      <th>COUNTRY_DESC</th>\n",
              "      <th>GENDER_DESC</th>\n",
              "      <th>SALARY</th>\n",
              "    </tr>\n",
              "  </thead>\n",
              "  <tbody>\n",
              "    <tr>\n",
              "      <th>67432</th>\n",
              "      <td>بنك وربه / مساهمة العامة</td>\n",
              "      <td>الكويت</td>\n",
              "      <td>ذكر</td>\n",
              "      <td>26000.000</td>\n",
              "    </tr>\n",
              "    <tr>\n",
              "      <th>67214</th>\n",
              "      <td>بنك الكويت الدولى</td>\n",
              "      <td>الكويت</td>\n",
              "      <td>ذكر</td>\n",
              "      <td>25000.000</td>\n",
              "    </tr>\n",
              "    <tr>\n",
              "      <th>123033</th>\n",
              "      <td>شركة البترول الوطنية الكويتية</td>\n",
              "      <td>الهنــد</td>\n",
              "      <td>ذكر</td>\n",
              "      <td>24003.485</td>\n",
              "    </tr>\n",
              "    <tr>\n",
              "      <th>38103</th>\n",
              "      <td>10808                    شركة ايكويت للبتروكيم...</td>\n",
              "      <td>الكويت</td>\n",
              "      <td>ذكر</td>\n",
              "      <td>22861.000</td>\n",
              "    </tr>\n",
              "    <tr>\n",
              "      <th>53851</th>\n",
              "      <td>الشركة المتحدة لصناعة الحديد</td>\n",
              "      <td>الكويت</td>\n",
              "      <td>ذكر</td>\n",
              "      <td>20000.000</td>\n",
              "    </tr>\n",
              "  </tbody>\n",
              "</table>\n",
              "</div>"
            ],
            "text/plain": [
              "                                             COMPANY_NAME  ...     SALARY\n",
              "67432                            بنك وربه / مساهمة العامة  ...  26000.000\n",
              "67214                                   بنك الكويت الدولى  ...  25000.000\n",
              "123033                      شركة البترول الوطنية الكويتية  ...  24003.485\n",
              "38103   10808                    شركة ايكويت للبتروكيم...  ...  22861.000\n",
              "53851                        الشركة المتحدة لصناعة الحديد  ...  20000.000\n",
              "\n",
              "[5 rows x 4 columns]"
            ]
          },
          "metadata": {
            "tags": []
          },
          "execution_count": 70
        }
      ]
    },
    {
      "cell_type": "code",
      "metadata": {
        "colab": {
          "base_uri": "https://localhost:8080/",
          "height": 542
        },
        "id": "b1675556",
        "outputId": "a1f6d3e8-a827-4d8c-9a41-8cbd6095c130"
      },
      "source": [
        "#hide_input\n",
        "fig = px.sunburst(insight19, path=[insight19.index, 'COMPANY_NAME','COUNTRY_DESC','GENDER_DESC','SALARY'], values='SALARY',\n",
        "                  color='SALARY', hover_data=['COMPANY_NAME','COUNTRY_DESC','GENDER_DESC','SALARY'],\n",
        "                  color_continuous_scale='RdBu')\n",
        "\n",
        "fig.update_layout(margin = dict(t=0, l=0, r=0, b=0))\n",
        "fig.show()\n"
      ],
      "id": "b1675556",
      "execution_count": null,
      "outputs": [
        {
          "output_type": "display_data",
          "data": {
            "text/html": [
              "<html>\n",
              "<head><meta charset=\"utf-8\" /></head>\n",
              "<body>\n",
              "    <div>            <script src=\"https://cdnjs.cloudflare.com/ajax/libs/mathjax/2.7.5/MathJax.js?config=TeX-AMS-MML_SVG\"></script><script type=\"text/javascript\">if (window.MathJax) {MathJax.Hub.Config({SVG: {font: \"STIX-Web\"}});}</script>                <script type=\"text/javascript\">window.PlotlyConfig = {MathJaxConfig: 'local'};</script>\n",
              "        <script src=\"https://cdn.plot.ly/plotly-latest.min.js\"></script>                <div id=\"4a055241-c8db-4336-8a7a-626a62b184f2\" class=\"plotly-graph-div\" style=\"height:525px; width:100%;\"></div>            <script type=\"text/javascript\">                                    window.PLOTLYENV=window.PLOTLYENV || {};                                    if (document.getElementById(\"4a055241-c8db-4336-8a7a-626a62b184f2\")) {                    Plotly.newPlot(                        \"4a055241-c8db-4336-8a7a-626a62b184f2\",                        [{\"branchvalues\": \"total\", \"customdata\": [[\"\\u0627\\u0644\\u0634\\u0631\\u0643\\u0629 \\u0627\\u0644\\u0645\\u062a\\u062d\\u062f\\u0629 \\u0644\\u0635\\u0646\\u0627\\u0639\\u0629 \\u0627\\u0644\\u062d\\u062f\\u064a\\u062f\", \"\\u0627\\u0644\\u0643\\u0648\\u064a\\u062a\", \"\\u0630\\u0643\\u0631\", 20000.0, 20000.0], [\"10808                    \\u0634\\u0631\\u0643\\u0629 \\u0627\\u064a\\u0643\\u0648\\u064a\\u062a \\u0644\\u0644\\u0628\\u062a\\u0631\\u0648\\u0643\\u064a\\u0645\\u0627\\u0648\\u064a\\u0627\\u062a\", \"\\u0627\\u0644\\u0643\\u0648\\u064a\\u062a\", \"\\u0630\\u0643\\u0631\", 22861.0, 22861.0], [\"\\u0634\\u0631\\u0643\\u0629 \\u0627\\u0644\\u0628\\u062a\\u0631\\u0648\\u0644 \\u0627\\u0644\\u0648\\u0637\\u0646\\u064a\\u0629 \\u0627\\u0644\\u0643\\u0648\\u064a\\u062a\\u064a\\u0629\", \"\\u0627\\u0644\\u0647\\u0646\\u0640\\u0640\\u062f\", \"\\u0630\\u0643\\u0631\", 24003.485, 24003.485], [\"\\u0628\\u0646\\u0643 \\u0627\\u0644\\u0643\\u0648\\u064a\\u062a \\u0627\\u0644\\u062f\\u0648\\u0644\\u0649\", \"\\u0627\\u0644\\u0643\\u0648\\u064a\\u062a\", \"\\u0630\\u0643\\u0631\", 25000.0, 25000.0], [\"\\u0628\\u0646\\u0643 \\u0648\\u0631\\u0628\\u0647 / \\u0645\\u0633\\u0627\\u0647\\u0645\\u0629 \\u0627\\u0644\\u0639\\u0627\\u0645\\u0629\", \"\\u0627\\u0644\\u0643\\u0648\\u064a\\u062a\", \"\\u0630\\u0643\\u0631\", 26000.0, 26000.0], [\"10808                    \\u0634\\u0631\\u0643\\u0629 \\u0627\\u064a\\u0643\\u0648\\u064a\\u062a \\u0644\\u0644\\u0628\\u062a\\u0631\\u0648\\u0643\\u064a\\u0645\\u0627\\u0648\\u064a\\u0627\\u062a\", \"\\u0627\\u0644\\u0643\\u0648\\u064a\\u062a\", \"\\u0630\\u0643\\u0631\", 22861.0, 22861.0], [\"\\u0627\\u0644\\u0634\\u0631\\u0643\\u0629 \\u0627\\u0644\\u0645\\u062a\\u062d\\u062f\\u0629 \\u0644\\u0635\\u0646\\u0627\\u0639\\u0629 \\u0627\\u0644\\u062d\\u062f\\u064a\\u062f\", \"\\u0627\\u0644\\u0643\\u0648\\u064a\\u062a\", \"\\u0630\\u0643\\u0631\", 20000.0, 20000.0], [\"\\u0628\\u0646\\u0643 \\u0627\\u0644\\u0643\\u0648\\u064a\\u062a \\u0627\\u0644\\u062f\\u0648\\u0644\\u0649\", \"\\u0627\\u0644\\u0643\\u0648\\u064a\\u062a\", \"\\u0630\\u0643\\u0631\", 25000.0, 25000.0], [\"\\u0628\\u0646\\u0643 \\u0648\\u0631\\u0628\\u0647 / \\u0645\\u0633\\u0627\\u0647\\u0645\\u0629 \\u0627\\u0644\\u0639\\u0627\\u0645\\u0629\", \"\\u0627\\u0644\\u0643\\u0648\\u064a\\u062a\", \"\\u0630\\u0643\\u0631\", 26000.0, 26000.0], [\"\\u0634\\u0631\\u0643\\u0629 \\u0627\\u0644\\u0628\\u062a\\u0631\\u0648\\u0644 \\u0627\\u0644\\u0648\\u0637\\u0646\\u064a\\u0629 \\u0627\\u0644\\u0643\\u0648\\u064a\\u062a\\u064a\\u0629\", \"\\u0627\\u0644\\u0647\\u0646\\u0640\\u0640\\u062f\", \"\\u0630\\u0643\\u0631\", 24003.485, 24003.485], [\"10808                    \\u0634\\u0631\\u0643\\u0629 \\u0627\\u064a\\u0643\\u0648\\u064a\\u062a \\u0644\\u0644\\u0628\\u062a\\u0631\\u0648\\u0643\\u064a\\u0645\\u0627\\u0648\\u064a\\u0627\\u062a\", \"\\u0627\\u0644\\u0643\\u0648\\u064a\\u062a\", \"\\u0630\\u0643\\u0631\", 22861.0, 22861.0], [\"\\u0627\\u0644\\u0634\\u0631\\u0643\\u0629 \\u0627\\u0644\\u0645\\u062a\\u062d\\u062f\\u0629 \\u0644\\u0635\\u0646\\u0627\\u0639\\u0629 \\u0627\\u0644\\u062d\\u062f\\u064a\\u062f\", \"\\u0627\\u0644\\u0643\\u0648\\u064a\\u062a\", \"\\u0630\\u0643\\u0631\", 20000.0, 20000.0], [\"\\u0628\\u0646\\u0643 \\u0627\\u0644\\u0643\\u0648\\u064a\\u062a \\u0627\\u0644\\u062f\\u0648\\u0644\\u0649\", \"\\u0627\\u0644\\u0643\\u0648\\u064a\\u062a\", \"\\u0630\\u0643\\u0631\", 25000.0, 25000.0], [\"\\u0628\\u0646\\u0643 \\u0648\\u0631\\u0628\\u0647 / \\u0645\\u0633\\u0627\\u0647\\u0645\\u0629 \\u0627\\u0644\\u0639\\u0627\\u0645\\u0629\", \"\\u0627\\u0644\\u0643\\u0648\\u064a\\u062a\", \"\\u0630\\u0643\\u0631\", 26000.0, 26000.0], [\"\\u0634\\u0631\\u0643\\u0629 \\u0627\\u0644\\u0628\\u062a\\u0631\\u0648\\u0644 \\u0627\\u0644\\u0648\\u0637\\u0646\\u064a\\u0629 \\u0627\\u0644\\u0643\\u0648\\u064a\\u062a\\u064a\\u0629\", \"\\u0627\\u0644\\u0647\\u0646\\u0640\\u0640\\u062f\", \"\\u0630\\u0643\\u0631\", 24003.485, 24003.485], [\"10808                    \\u0634\\u0631\\u0643\\u0629 \\u0627\\u064a\\u0643\\u0648\\u064a\\u062a \\u0644\\u0644\\u0628\\u062a\\u0631\\u0648\\u0643\\u064a\\u0645\\u0627\\u0648\\u064a\\u0627\\u062a\", \"\\u0627\\u0644\\u0643\\u0648\\u064a\\u062a\", \"\\u0630\\u0643\\u0631\", 22861.0, 22861.0], [\"\\u0627\\u0644\\u0634\\u0631\\u0643\\u0629 \\u0627\\u0644\\u0645\\u062a\\u062d\\u062f\\u0629 \\u0644\\u0635\\u0646\\u0627\\u0639\\u0629 \\u0627\\u0644\\u062d\\u062f\\u064a\\u062f\", \"\\u0627\\u0644\\u0643\\u0648\\u064a\\u062a\", \"\\u0630\\u0643\\u0631\", 20000.0, 20000.0], [\"\\u0628\\u0646\\u0643 \\u0627\\u0644\\u0643\\u0648\\u064a\\u062a \\u0627\\u0644\\u062f\\u0648\\u0644\\u0649\", \"\\u0627\\u0644\\u0643\\u0648\\u064a\\u062a\", \"\\u0630\\u0643\\u0631\", 25000.0, 25000.0], [\"\\u0628\\u0646\\u0643 \\u0648\\u0631\\u0628\\u0647 / \\u0645\\u0633\\u0627\\u0647\\u0645\\u0629 \\u0627\\u0644\\u0639\\u0627\\u0645\\u0629\", \"\\u0627\\u0644\\u0643\\u0648\\u064a\\u062a\", \"\\u0630\\u0643\\u0631\", 26000.0, 26000.0], [\"\\u0634\\u0631\\u0643\\u0629 \\u0627\\u0644\\u0628\\u062a\\u0631\\u0648\\u0644 \\u0627\\u0644\\u0648\\u0637\\u0646\\u064a\\u0629 \\u0627\\u0644\\u0643\\u0648\\u064a\\u062a\\u064a\\u0629\", \"\\u0627\\u0644\\u0647\\u0646\\u0640\\u0640\\u062f\", \"\\u0630\\u0643\\u0631\", 24003.485, 24003.485], [\"10808                    \\u0634\\u0631\\u0643\\u0629 \\u0627\\u064a\\u0643\\u0648\\u064a\\u062a \\u0644\\u0644\\u0628\\u062a\\u0631\\u0648\\u0643\\u064a\\u0645\\u0627\\u0648\\u064a\\u0627\\u062a\", \"\\u0627\\u0644\\u0643\\u0648\\u064a\\u062a\", \"\\u0630\\u0643\\u0631\", 22861.0, 22861.0], [\"\\u0627\\u0644\\u0634\\u0631\\u0643\\u0629 \\u0627\\u0644\\u0645\\u062a\\u062d\\u062f\\u0629 \\u0644\\u0635\\u0646\\u0627\\u0639\\u0629 \\u0627\\u0644\\u062d\\u062f\\u064a\\u062f\", \"\\u0627\\u0644\\u0643\\u0648\\u064a\\u062a\", \"\\u0630\\u0643\\u0631\", 20000.0, 20000.0], [\"\\u0628\\u0646\\u0643 \\u0627\\u0644\\u0643\\u0648\\u064a\\u062a \\u0627\\u0644\\u062f\\u0648\\u0644\\u0649\", \"\\u0627\\u0644\\u0643\\u0648\\u064a\\u062a\", \"\\u0630\\u0643\\u0631\", 25000.0, 25000.0], [\"\\u0628\\u0646\\u0643 \\u0648\\u0631\\u0628\\u0647 / \\u0645\\u0633\\u0627\\u0647\\u0645\\u0629 \\u0627\\u0644\\u0639\\u0627\\u0645\\u0629\", \"\\u0627\\u0644\\u0643\\u0648\\u064a\\u062a\", \"\\u0630\\u0643\\u0631\", 26000.0, 26000.0], [\"\\u0634\\u0631\\u0643\\u0629 \\u0627\\u0644\\u0628\\u062a\\u0631\\u0648\\u0644 \\u0627\\u0644\\u0648\\u0637\\u0646\\u064a\\u0629 \\u0627\\u0644\\u0643\\u0648\\u064a\\u062a\\u064a\\u0629\", \"\\u0627\\u0644\\u0647\\u0646\\u0640\\u0640\\u062f\", \"\\u0630\\u0643\\u0631\", 24003.485, 24003.485]], \"domain\": {\"x\": [0.0, 1.0], \"y\": [0.0, 1.0]}, \"hovertemplate\": \"labels=%{label}<br>SALARY_sum=%{value}<br>parent=%{parent}<br>id=%{id}<br>COMPANY_NAME=%{customdata[0]}<br>COUNTRY_DESC=%{customdata[1]}<br>GENDER_DESC=%{customdata[2]}<br>SALARY=%{color}<extra></extra>\", \"ids\": [\"53851/\\u0627\\u0644\\u0634\\u0631\\u0643\\u0629 \\u0627\\u0644\\u0645\\u062a\\u062d\\u062f\\u0629 \\u0644\\u0635\\u0646\\u0627\\u0639\\u0629 \\u0627\\u0644\\u062d\\u062f\\u064a\\u062f/\\u0627\\u0644\\u0643\\u0648\\u064a\\u062a/\\u0630\\u0643\\u0631/20000.0\", \"38103/10808                    \\u0634\\u0631\\u0643\\u0629 \\u0627\\u064a\\u0643\\u0648\\u064a\\u062a \\u0644\\u0644\\u0628\\u062a\\u0631\\u0648\\u0643\\u064a\\u0645\\u0627\\u0648\\u064a\\u0627\\u062a/\\u0627\\u0644\\u0643\\u0648\\u064a\\u062a/\\u0630\\u0643\\u0631/22861.0\", \"123033/\\u0634\\u0631\\u0643\\u0629 \\u0627\\u0644\\u0628\\u062a\\u0631\\u0648\\u0644 \\u0627\\u0644\\u0648\\u0637\\u0646\\u064a\\u0629 \\u0627\\u0644\\u0643\\u0648\\u064a\\u062a\\u064a\\u0629/\\u0627\\u0644\\u0647\\u0646\\u0640\\u0640\\u062f/\\u0630\\u0643\\u0631/24003.485\", \"67214/\\u0628\\u0646\\u0643 \\u0627\\u0644\\u0643\\u0648\\u064a\\u062a \\u0627\\u0644\\u062f\\u0648\\u0644\\u0649/\\u0627\\u0644\\u0643\\u0648\\u064a\\u062a/\\u0630\\u0643\\u0631/25000.0\", \"67432/\\u0628\\u0646\\u0643 \\u0648\\u0631\\u0628\\u0647 / \\u0645\\u0633\\u0627\\u0647\\u0645\\u0629 \\u0627\\u0644\\u0639\\u0627\\u0645\\u0629/\\u0627\\u0644\\u0643\\u0648\\u064a\\u062a/\\u0630\\u0643\\u0631/26000.0\", \"38103/10808                    \\u0634\\u0631\\u0643\\u0629 \\u0627\\u064a\\u0643\\u0648\\u064a\\u062a \\u0644\\u0644\\u0628\\u062a\\u0631\\u0648\\u0643\\u064a\\u0645\\u0627\\u0648\\u064a\\u0627\\u062a/\\u0627\\u0644\\u0643\\u0648\\u064a\\u062a/\\u0630\\u0643\\u0631\", \"53851/\\u0627\\u0644\\u0634\\u0631\\u0643\\u0629 \\u0627\\u0644\\u0645\\u062a\\u062d\\u062f\\u0629 \\u0644\\u0635\\u0646\\u0627\\u0639\\u0629 \\u0627\\u0644\\u062d\\u062f\\u064a\\u062f/\\u0627\\u0644\\u0643\\u0648\\u064a\\u062a/\\u0630\\u0643\\u0631\", \"67214/\\u0628\\u0646\\u0643 \\u0627\\u0644\\u0643\\u0648\\u064a\\u062a \\u0627\\u0644\\u062f\\u0648\\u0644\\u0649/\\u0627\\u0644\\u0643\\u0648\\u064a\\u062a/\\u0630\\u0643\\u0631\", \"67432/\\u0628\\u0646\\u0643 \\u0648\\u0631\\u0628\\u0647 / \\u0645\\u0633\\u0627\\u0647\\u0645\\u0629 \\u0627\\u0644\\u0639\\u0627\\u0645\\u0629/\\u0627\\u0644\\u0643\\u0648\\u064a\\u062a/\\u0630\\u0643\\u0631\", \"123033/\\u0634\\u0631\\u0643\\u0629 \\u0627\\u0644\\u0628\\u062a\\u0631\\u0648\\u0644 \\u0627\\u0644\\u0648\\u0637\\u0646\\u064a\\u0629 \\u0627\\u0644\\u0643\\u0648\\u064a\\u062a\\u064a\\u0629/\\u0627\\u0644\\u0647\\u0646\\u0640\\u0640\\u062f/\\u0630\\u0643\\u0631\", \"38103/10808                    \\u0634\\u0631\\u0643\\u0629 \\u0627\\u064a\\u0643\\u0648\\u064a\\u062a \\u0644\\u0644\\u0628\\u062a\\u0631\\u0648\\u0643\\u064a\\u0645\\u0627\\u0648\\u064a\\u0627\\u062a/\\u0627\\u0644\\u0643\\u0648\\u064a\\u062a\", \"53851/\\u0627\\u0644\\u0634\\u0631\\u0643\\u0629 \\u0627\\u0644\\u0645\\u062a\\u062d\\u062f\\u0629 \\u0644\\u0635\\u0646\\u0627\\u0639\\u0629 \\u0627\\u0644\\u062d\\u062f\\u064a\\u062f/\\u0627\\u0644\\u0643\\u0648\\u064a\\u062a\", \"67214/\\u0628\\u0646\\u0643 \\u0627\\u0644\\u0643\\u0648\\u064a\\u062a \\u0627\\u0644\\u062f\\u0648\\u0644\\u0649/\\u0627\\u0644\\u0643\\u0648\\u064a\\u062a\", \"67432/\\u0628\\u0646\\u0643 \\u0648\\u0631\\u0628\\u0647 / \\u0645\\u0633\\u0627\\u0647\\u0645\\u0629 \\u0627\\u0644\\u0639\\u0627\\u0645\\u0629/\\u0627\\u0644\\u0643\\u0648\\u064a\\u062a\", \"123033/\\u0634\\u0631\\u0643\\u0629 \\u0627\\u0644\\u0628\\u062a\\u0631\\u0648\\u0644 \\u0627\\u0644\\u0648\\u0637\\u0646\\u064a\\u0629 \\u0627\\u0644\\u0643\\u0648\\u064a\\u062a\\u064a\\u0629/\\u0627\\u0644\\u0647\\u0646\\u0640\\u0640\\u062f\", \"38103/10808                    \\u0634\\u0631\\u0643\\u0629 \\u0627\\u064a\\u0643\\u0648\\u064a\\u062a \\u0644\\u0644\\u0628\\u062a\\u0631\\u0648\\u0643\\u064a\\u0645\\u0627\\u0648\\u064a\\u0627\\u062a\", \"53851/\\u0627\\u0644\\u0634\\u0631\\u0643\\u0629 \\u0627\\u0644\\u0645\\u062a\\u062d\\u062f\\u0629 \\u0644\\u0635\\u0646\\u0627\\u0639\\u0629 \\u0627\\u0644\\u062d\\u062f\\u064a\\u062f\", \"67214/\\u0628\\u0646\\u0643 \\u0627\\u0644\\u0643\\u0648\\u064a\\u062a \\u0627\\u0644\\u062f\\u0648\\u0644\\u0649\", \"67432/\\u0628\\u0646\\u0643 \\u0648\\u0631\\u0628\\u0647 / \\u0645\\u0633\\u0627\\u0647\\u0645\\u0629 \\u0627\\u0644\\u0639\\u0627\\u0645\\u0629\", \"123033/\\u0634\\u0631\\u0643\\u0629 \\u0627\\u0644\\u0628\\u062a\\u0631\\u0648\\u0644 \\u0627\\u0644\\u0648\\u0637\\u0646\\u064a\\u0629 \\u0627\\u0644\\u0643\\u0648\\u064a\\u062a\\u064a\\u0629\", \"38103\", \"53851\", \"67214\", \"67432\", \"123033\"], \"labels\": [\"20000.0\", \"22861.0\", \"24003.485\", \"25000.0\", \"26000.0\", \"\\u0630\\u0643\\u0631\", \"\\u0630\\u0643\\u0631\", \"\\u0630\\u0643\\u0631\", \"\\u0630\\u0643\\u0631\", \"\\u0630\\u0643\\u0631\", \"\\u0627\\u0644\\u0643\\u0648\\u064a\\u062a\", \"\\u0627\\u0644\\u0643\\u0648\\u064a\\u062a\", \"\\u0627\\u0644\\u0643\\u0648\\u064a\\u062a\", \"\\u0627\\u0644\\u0643\\u0648\\u064a\\u062a\", \"\\u0627\\u0644\\u0647\\u0646\\u0640\\u0640\\u062f\", \"10808                    \\u0634\\u0631\\u0643\\u0629 \\u0627\\u064a\\u0643\\u0648\\u064a\\u062a \\u0644\\u0644\\u0628\\u062a\\u0631\\u0648\\u0643\\u064a\\u0645\\u0627\\u0648\\u064a\\u0627\\u062a\", \"\\u0627\\u0644\\u0634\\u0631\\u0643\\u0629 \\u0627\\u0644\\u0645\\u062a\\u062d\\u062f\\u0629 \\u0644\\u0635\\u0646\\u0627\\u0639\\u0629 \\u0627\\u0644\\u062d\\u062f\\u064a\\u062f\", \"\\u0628\\u0646\\u0643 \\u0627\\u0644\\u0643\\u0648\\u064a\\u062a \\u0627\\u0644\\u062f\\u0648\\u0644\\u0649\", \"\\u0628\\u0646\\u0643 \\u0648\\u0631\\u0628\\u0647 / \\u0645\\u0633\\u0627\\u0647\\u0645\\u0629 \\u0627\\u0644\\u0639\\u0627\\u0645\\u0629\", \"\\u0634\\u0631\\u0643\\u0629 \\u0627\\u0644\\u0628\\u062a\\u0631\\u0648\\u0644 \\u0627\\u0644\\u0648\\u0637\\u0646\\u064a\\u0629 \\u0627\\u0644\\u0643\\u0648\\u064a\\u062a\\u064a\\u0629\", \"38103\", \"53851\", \"67214\", \"67432\", \"123033\"], \"marker\": {\"coloraxis\": \"coloraxis\", \"colors\": [20000.0, 22861.0, 24003.485, 25000.0, 26000.0, 22861.0, 20000.0, 25000.0, 26000.0, 24003.485, 22861.0, 20000.0, 25000.0, 26000.0, 24003.485, 22861.0, 20000.0, 25000.0, 26000.0, 24003.485, 22861.0, 20000.0, 25000.0, 26000.0, 24003.485]}, \"name\": \"\", \"parents\": [\"53851/\\u0627\\u0644\\u0634\\u0631\\u0643\\u0629 \\u0627\\u0644\\u0645\\u062a\\u062d\\u062f\\u0629 \\u0644\\u0635\\u0646\\u0627\\u0639\\u0629 \\u0627\\u0644\\u062d\\u062f\\u064a\\u062f/\\u0627\\u0644\\u0643\\u0648\\u064a\\u062a/\\u0630\\u0643\\u0631\", \"38103/10808                    \\u0634\\u0631\\u0643\\u0629 \\u0627\\u064a\\u0643\\u0648\\u064a\\u062a \\u0644\\u0644\\u0628\\u062a\\u0631\\u0648\\u0643\\u064a\\u0645\\u0627\\u0648\\u064a\\u0627\\u062a/\\u0627\\u0644\\u0643\\u0648\\u064a\\u062a/\\u0630\\u0643\\u0631\", \"123033/\\u0634\\u0631\\u0643\\u0629 \\u0627\\u0644\\u0628\\u062a\\u0631\\u0648\\u0644 \\u0627\\u0644\\u0648\\u0637\\u0646\\u064a\\u0629 \\u0627\\u0644\\u0643\\u0648\\u064a\\u062a\\u064a\\u0629/\\u0627\\u0644\\u0647\\u0646\\u0640\\u0640\\u062f/\\u0630\\u0643\\u0631\", \"67214/\\u0628\\u0646\\u0643 \\u0627\\u0644\\u0643\\u0648\\u064a\\u062a \\u0627\\u0644\\u062f\\u0648\\u0644\\u0649/\\u0627\\u0644\\u0643\\u0648\\u064a\\u062a/\\u0630\\u0643\\u0631\", \"67432/\\u0628\\u0646\\u0643 \\u0648\\u0631\\u0628\\u0647 / \\u0645\\u0633\\u0627\\u0647\\u0645\\u0629 \\u0627\\u0644\\u0639\\u0627\\u0645\\u0629/\\u0627\\u0644\\u0643\\u0648\\u064a\\u062a/\\u0630\\u0643\\u0631\", \"38103/10808                    \\u0634\\u0631\\u0643\\u0629 \\u0627\\u064a\\u0643\\u0648\\u064a\\u062a \\u0644\\u0644\\u0628\\u062a\\u0631\\u0648\\u0643\\u064a\\u0645\\u0627\\u0648\\u064a\\u0627\\u062a/\\u0627\\u0644\\u0643\\u0648\\u064a\\u062a\", \"53851/\\u0627\\u0644\\u0634\\u0631\\u0643\\u0629 \\u0627\\u0644\\u0645\\u062a\\u062d\\u062f\\u0629 \\u0644\\u0635\\u0646\\u0627\\u0639\\u0629 \\u0627\\u0644\\u062d\\u062f\\u064a\\u062f/\\u0627\\u0644\\u0643\\u0648\\u064a\\u062a\", \"67214/\\u0628\\u0646\\u0643 \\u0627\\u0644\\u0643\\u0648\\u064a\\u062a \\u0627\\u0644\\u062f\\u0648\\u0644\\u0649/\\u0627\\u0644\\u0643\\u0648\\u064a\\u062a\", \"67432/\\u0628\\u0646\\u0643 \\u0648\\u0631\\u0628\\u0647 / \\u0645\\u0633\\u0627\\u0647\\u0645\\u0629 \\u0627\\u0644\\u0639\\u0627\\u0645\\u0629/\\u0627\\u0644\\u0643\\u0648\\u064a\\u062a\", \"123033/\\u0634\\u0631\\u0643\\u0629 \\u0627\\u0644\\u0628\\u062a\\u0631\\u0648\\u0644 \\u0627\\u0644\\u0648\\u0637\\u0646\\u064a\\u0629 \\u0627\\u0644\\u0643\\u0648\\u064a\\u062a\\u064a\\u0629/\\u0627\\u0644\\u0647\\u0646\\u0640\\u0640\\u062f\", \"38103/10808                    \\u0634\\u0631\\u0643\\u0629 \\u0627\\u064a\\u0643\\u0648\\u064a\\u062a \\u0644\\u0644\\u0628\\u062a\\u0631\\u0648\\u0643\\u064a\\u0645\\u0627\\u0648\\u064a\\u0627\\u062a\", \"53851/\\u0627\\u0644\\u0634\\u0631\\u0643\\u0629 \\u0627\\u0644\\u0645\\u062a\\u062d\\u062f\\u0629 \\u0644\\u0635\\u0646\\u0627\\u0639\\u0629 \\u0627\\u0644\\u062d\\u062f\\u064a\\u062f\", \"67214/\\u0628\\u0646\\u0643 \\u0627\\u0644\\u0643\\u0648\\u064a\\u062a \\u0627\\u0644\\u062f\\u0648\\u0644\\u0649\", \"67432/\\u0628\\u0646\\u0643 \\u0648\\u0631\\u0628\\u0647 / \\u0645\\u0633\\u0627\\u0647\\u0645\\u0629 \\u0627\\u0644\\u0639\\u0627\\u0645\\u0629\", \"123033/\\u0634\\u0631\\u0643\\u0629 \\u0627\\u0644\\u0628\\u062a\\u0631\\u0648\\u0644 \\u0627\\u0644\\u0648\\u0637\\u0646\\u064a\\u0629 \\u0627\\u0644\\u0643\\u0648\\u064a\\u062a\\u064a\\u0629\", \"38103\", \"53851\", \"67214\", \"67432\", \"123033\", \"\", \"\", \"\", \"\", \"\"], \"type\": \"sunburst\", \"values\": [20000.0, 22861.0, 24003.485, 25000.0, 26000.0, 22861.0, 20000.0, 25000.0, 26000.0, 24003.485, 22861.0, 20000.0, 25000.0, 26000.0, 24003.485, 22861.0, 20000.0, 25000.0, 26000.0, 24003.485, 22861.0, 20000.0, 25000.0, 26000.0, 24003.485]}],                        {\"coloraxis\": {\"colorbar\": {\"title\": {\"text\": \"SALARY\"}}, \"colorscale\": [[0.0, \"rgb(103,0,31)\"], [0.1, \"rgb(178,24,43)\"], [0.2, \"rgb(214,96,77)\"], [0.3, \"rgb(244,165,130)\"], [0.4, \"rgb(253,219,199)\"], [0.5, \"rgb(247,247,247)\"], [0.6, \"rgb(209,229,240)\"], [0.7, \"rgb(146,197,222)\"], [0.8, \"rgb(67,147,195)\"], [0.9, \"rgb(33,102,172)\"], [1.0, \"rgb(5,48,97)\"]]}, \"legend\": {\"tracegroupgap\": 0}, \"margin\": {\"b\": 0, \"l\": 0, \"r\": 0, \"t\": 0}, \"template\": {\"data\": {\"bar\": [{\"error_x\": {\"color\": \"#2a3f5f\"}, \"error_y\": {\"color\": \"#2a3f5f\"}, \"marker\": {\"line\": {\"color\": \"#E5ECF6\", \"width\": 0.5}}, \"type\": \"bar\"}], \"barpolar\": [{\"marker\": {\"line\": {\"color\": \"#E5ECF6\", \"width\": 0.5}}, \"type\": \"barpolar\"}], \"carpet\": [{\"aaxis\": {\"endlinecolor\": \"#2a3f5f\", \"gridcolor\": \"white\", \"linecolor\": \"white\", \"minorgridcolor\": \"white\", \"startlinecolor\": \"#2a3f5f\"}, \"baxis\": {\"endlinecolor\": \"#2a3f5f\", \"gridcolor\": \"white\", \"linecolor\": \"white\", \"minorgridcolor\": \"white\", \"startlinecolor\": \"#2a3f5f\"}, \"type\": \"carpet\"}], \"choropleth\": [{\"colorbar\": {\"outlinewidth\": 0, \"ticks\": \"\"}, \"type\": \"choropleth\"}], \"contour\": [{\"colorbar\": {\"outlinewidth\": 0, \"ticks\": \"\"}, \"colorscale\": [[0.0, \"#0d0887\"], [0.1111111111111111, \"#46039f\"], [0.2222222222222222, \"#7201a8\"], [0.3333333333333333, \"#9c179e\"], [0.4444444444444444, \"#bd3786\"], [0.5555555555555556, \"#d8576b\"], [0.6666666666666666, \"#ed7953\"], [0.7777777777777778, \"#fb9f3a\"], [0.8888888888888888, \"#fdca26\"], [1.0, \"#f0f921\"]], \"type\": \"contour\"}], \"contourcarpet\": [{\"colorbar\": {\"outlinewidth\": 0, \"ticks\": \"\"}, \"type\": \"contourcarpet\"}], \"heatmap\": [{\"colorbar\": {\"outlinewidth\": 0, \"ticks\": \"\"}, \"colorscale\": [[0.0, \"#0d0887\"], [0.1111111111111111, \"#46039f\"], [0.2222222222222222, \"#7201a8\"], [0.3333333333333333, \"#9c179e\"], [0.4444444444444444, \"#bd3786\"], [0.5555555555555556, \"#d8576b\"], [0.6666666666666666, \"#ed7953\"], [0.7777777777777778, \"#fb9f3a\"], [0.8888888888888888, \"#fdca26\"], [1.0, \"#f0f921\"]], \"type\": \"heatmap\"}], \"heatmapgl\": [{\"colorbar\": {\"outlinewidth\": 0, \"ticks\": \"\"}, \"colorscale\": [[0.0, \"#0d0887\"], [0.1111111111111111, \"#46039f\"], [0.2222222222222222, \"#7201a8\"], [0.3333333333333333, \"#9c179e\"], [0.4444444444444444, \"#bd3786\"], [0.5555555555555556, \"#d8576b\"], [0.6666666666666666, \"#ed7953\"], [0.7777777777777778, \"#fb9f3a\"], [0.8888888888888888, \"#fdca26\"], [1.0, \"#f0f921\"]], \"type\": \"heatmapgl\"}], \"histogram\": [{\"marker\": {\"colorbar\": {\"outlinewidth\": 0, \"ticks\": \"\"}}, \"type\": \"histogram\"}], \"histogram2d\": [{\"colorbar\": {\"outlinewidth\": 0, \"ticks\": \"\"}, \"colorscale\": [[0.0, \"#0d0887\"], [0.1111111111111111, \"#46039f\"], [0.2222222222222222, \"#7201a8\"], [0.3333333333333333, \"#9c179e\"], [0.4444444444444444, \"#bd3786\"], [0.5555555555555556, \"#d8576b\"], [0.6666666666666666, \"#ed7953\"], [0.7777777777777778, \"#fb9f3a\"], [0.8888888888888888, \"#fdca26\"], [1.0, \"#f0f921\"]], \"type\": \"histogram2d\"}], \"histogram2dcontour\": [{\"colorbar\": {\"outlinewidth\": 0, \"ticks\": \"\"}, \"colorscale\": [[0.0, \"#0d0887\"], [0.1111111111111111, \"#46039f\"], [0.2222222222222222, \"#7201a8\"], [0.3333333333333333, \"#9c179e\"], [0.4444444444444444, \"#bd3786\"], [0.5555555555555556, \"#d8576b\"], [0.6666666666666666, \"#ed7953\"], [0.7777777777777778, \"#fb9f3a\"], [0.8888888888888888, \"#fdca26\"], [1.0, \"#f0f921\"]], \"type\": \"histogram2dcontour\"}], \"mesh3d\": [{\"colorbar\": {\"outlinewidth\": 0, \"ticks\": \"\"}, \"type\": \"mesh3d\"}], \"parcoords\": [{\"line\": {\"colorbar\": {\"outlinewidth\": 0, \"ticks\": \"\"}}, \"type\": \"parcoords\"}], \"pie\": [{\"automargin\": true, \"type\": \"pie\"}], \"scatter\": [{\"marker\": {\"colorbar\": {\"outlinewidth\": 0, \"ticks\": \"\"}}, \"type\": \"scatter\"}], \"scatter3d\": [{\"line\": {\"colorbar\": {\"outlinewidth\": 0, \"ticks\": \"\"}}, \"marker\": {\"colorbar\": {\"outlinewidth\": 0, \"ticks\": \"\"}}, \"type\": \"scatter3d\"}], \"scattercarpet\": [{\"marker\": {\"colorbar\": {\"outlinewidth\": 0, \"ticks\": \"\"}}, \"type\": \"scattercarpet\"}], \"scattergeo\": [{\"marker\": {\"colorbar\": {\"outlinewidth\": 0, \"ticks\": \"\"}}, \"type\": \"scattergeo\"}], \"scattergl\": [{\"marker\": {\"colorbar\": {\"outlinewidth\": 0, \"ticks\": \"\"}}, \"type\": \"scattergl\"}], \"scattermapbox\": [{\"marker\": {\"colorbar\": {\"outlinewidth\": 0, \"ticks\": \"\"}}, \"type\": \"scattermapbox\"}], \"scatterpolar\": [{\"marker\": {\"colorbar\": {\"outlinewidth\": 0, \"ticks\": \"\"}}, \"type\": \"scatterpolar\"}], \"scatterpolargl\": [{\"marker\": {\"colorbar\": {\"outlinewidth\": 0, \"ticks\": \"\"}}, \"type\": \"scatterpolargl\"}], \"scatterternary\": [{\"marker\": {\"colorbar\": {\"outlinewidth\": 0, \"ticks\": \"\"}}, \"type\": \"scatterternary\"}], \"surface\": [{\"colorbar\": {\"outlinewidth\": 0, \"ticks\": \"\"}, \"colorscale\": [[0.0, \"#0d0887\"], [0.1111111111111111, \"#46039f\"], [0.2222222222222222, \"#7201a8\"], [0.3333333333333333, \"#9c179e\"], [0.4444444444444444, \"#bd3786\"], [0.5555555555555556, \"#d8576b\"], [0.6666666666666666, \"#ed7953\"], [0.7777777777777778, \"#fb9f3a\"], [0.8888888888888888, \"#fdca26\"], [1.0, \"#f0f921\"]], \"type\": \"surface\"}], \"table\": [{\"cells\": {\"fill\": {\"color\": \"#EBF0F8\"}, \"line\": {\"color\": \"white\"}}, \"header\": {\"fill\": {\"color\": \"#C8D4E3\"}, \"line\": {\"color\": \"white\"}}, \"type\": \"table\"}]}, \"layout\": {\"annotationdefaults\": {\"arrowcolor\": \"#2a3f5f\", \"arrowhead\": 0, \"arrowwidth\": 1}, \"autotypenumbers\": \"strict\", \"coloraxis\": {\"colorbar\": {\"outlinewidth\": 0, \"ticks\": \"\"}}, \"colorscale\": {\"diverging\": [[0, \"#8e0152\"], [0.1, \"#c51b7d\"], [0.2, \"#de77ae\"], [0.3, \"#f1b6da\"], [0.4, \"#fde0ef\"], [0.5, \"#f7f7f7\"], [0.6, \"#e6f5d0\"], [0.7, \"#b8e186\"], [0.8, \"#7fbc41\"], [0.9, \"#4d9221\"], [1, \"#276419\"]], \"sequential\": [[0.0, \"#0d0887\"], [0.1111111111111111, \"#46039f\"], [0.2222222222222222, \"#7201a8\"], [0.3333333333333333, \"#9c179e\"], [0.4444444444444444, \"#bd3786\"], [0.5555555555555556, \"#d8576b\"], [0.6666666666666666, \"#ed7953\"], [0.7777777777777778, \"#fb9f3a\"], [0.8888888888888888, \"#fdca26\"], [1.0, \"#f0f921\"]], \"sequentialminus\": [[0.0, \"#0d0887\"], [0.1111111111111111, \"#46039f\"], [0.2222222222222222, \"#7201a8\"], [0.3333333333333333, \"#9c179e\"], [0.4444444444444444, \"#bd3786\"], [0.5555555555555556, \"#d8576b\"], [0.6666666666666666, \"#ed7953\"], [0.7777777777777778, \"#fb9f3a\"], [0.8888888888888888, \"#fdca26\"], [1.0, \"#f0f921\"]]}, \"colorway\": [\"#636efa\", \"#EF553B\", \"#00cc96\", \"#ab63fa\", \"#FFA15A\", \"#19d3f3\", \"#FF6692\", \"#B6E880\", \"#FF97FF\", \"#FECB52\"], \"font\": {\"color\": \"#2a3f5f\"}, \"geo\": {\"bgcolor\": \"white\", \"lakecolor\": \"white\", \"landcolor\": \"#E5ECF6\", \"showlakes\": true, \"showland\": true, \"subunitcolor\": \"white\"}, \"hoverlabel\": {\"align\": \"left\"}, \"hovermode\": \"closest\", \"mapbox\": {\"style\": \"light\"}, \"paper_bgcolor\": \"white\", \"plot_bgcolor\": \"#E5ECF6\", \"polar\": {\"angularaxis\": {\"gridcolor\": \"white\", \"linecolor\": \"white\", \"ticks\": \"\"}, \"bgcolor\": \"#E5ECF6\", \"radialaxis\": {\"gridcolor\": \"white\", \"linecolor\": \"white\", \"ticks\": \"\"}}, \"scene\": {\"xaxis\": {\"backgroundcolor\": \"#E5ECF6\", \"gridcolor\": \"white\", \"gridwidth\": 2, \"linecolor\": \"white\", \"showbackground\": true, \"ticks\": \"\", \"zerolinecolor\": \"white\"}, \"yaxis\": {\"backgroundcolor\": \"#E5ECF6\", \"gridcolor\": \"white\", \"gridwidth\": 2, \"linecolor\": \"white\", \"showbackground\": true, \"ticks\": \"\", \"zerolinecolor\": \"white\"}, \"zaxis\": {\"backgroundcolor\": \"#E5ECF6\", \"gridcolor\": \"white\", \"gridwidth\": 2, \"linecolor\": \"white\", \"showbackground\": true, \"ticks\": \"\", \"zerolinecolor\": \"white\"}}, \"shapedefaults\": {\"line\": {\"color\": \"#2a3f5f\"}}, \"ternary\": {\"aaxis\": {\"gridcolor\": \"white\", \"linecolor\": \"white\", \"ticks\": \"\"}, \"baxis\": {\"gridcolor\": \"white\", \"linecolor\": \"white\", \"ticks\": \"\"}, \"bgcolor\": \"#E5ECF6\", \"caxis\": {\"gridcolor\": \"white\", \"linecolor\": \"white\", \"ticks\": \"\"}}, \"title\": {\"x\": 0.05}, \"xaxis\": {\"automargin\": true, \"gridcolor\": \"white\", \"linecolor\": \"white\", \"ticks\": \"\", \"title\": {\"standoff\": 15}, \"zerolinecolor\": \"white\", \"zerolinewidth\": 2}, \"yaxis\": {\"automargin\": true, \"gridcolor\": \"white\", \"linecolor\": \"white\", \"ticks\": \"\", \"title\": {\"standoff\": 15}, \"zerolinecolor\": \"white\", \"zerolinewidth\": 2}}}},                        {\"responsive\": true}                    ).then(function(){\n",
              "                            \n",
              "var gd = document.getElementById('4a055241-c8db-4336-8a7a-626a62b184f2');\n",
              "var x = new MutationObserver(function (mutations, observer) {{\n",
              "        var display = window.getComputedStyle(gd).display;\n",
              "        if (!display || display === 'none') {{\n",
              "            console.log([gd, 'removed!']);\n",
              "            Plotly.purge(gd);\n",
              "            observer.disconnect();\n",
              "        }}\n",
              "}});\n",
              "\n",
              "// Listen for the removal of the full notebook cells\n",
              "var notebookContainer = gd.closest('#notebook-container');\n",
              "if (notebookContainer) {{\n",
              "    x.observe(notebookContainer, {childList: true});\n",
              "}}\n",
              "\n",
              "// Listen for the clearing of the current output cell\n",
              "var outputEl = gd.closest('.output');\n",
              "if (outputEl) {{\n",
              "    x.observe(outputEl, {childList: true});\n",
              "}}\n",
              "\n",
              "                        })                };                            </script>        </div>\n",
              "</body>\n",
              "</html>"
            ]
          },
          "metadata": {
            "tags": []
          }
        }
      ]
    },
    {
      "cell_type": "markdown",
      "metadata": {
        "id": "f5e959d6"
      },
      "source": [
        "#### INSIGHT \n",
        "\n",
        "**Last 5 companies:**\n",
        "\n",
        "-- offering min salary\n",
        "\n",
        "-- country\n",
        "\n",
        "-- gender of that employee"
      ],
      "id": "f5e959d6"
    },
    {
      "cell_type": "code",
      "metadata": {
        "colab": {
          "base_uri": "https://localhost:8080/",
          "height": 204
        },
        "id": "9966bb32",
        "outputId": "4424478d-1298-458d-a55c-83fcdf927235"
      },
      "source": [
        "#hide_input\n",
        "insight20 = pd.DataFrame()\n",
        "insight20 = data.groupby([\"COMPANY_NAME\",\"COUNTRY_DESC\",\"GENDER_DESC\"])['SALARY'].min()\n",
        "insight20 = insight20.reset_index([\"COMPANY_NAME\",\"COUNTRY_DESC\",\"GENDER_DESC\"])\n",
        "insight20 = insight20.nsmallest(5,'SALARY')\n",
        "insight20"
      ],
      "id": "9966bb32",
      "execution_count": null,
      "outputs": [
        {
          "output_type": "execute_result",
          "data": {
            "text/html": [
              "<div>\n",
              "<style scoped>\n",
              "    .dataframe tbody tr th:only-of-type {\n",
              "        vertical-align: middle;\n",
              "    }\n",
              "\n",
              "    .dataframe tbody tr th {\n",
              "        vertical-align: top;\n",
              "    }\n",
              "\n",
              "    .dataframe thead th {\n",
              "        text-align: right;\n",
              "    }\n",
              "</style>\n",
              "<table border=\"1\" class=\"dataframe\">\n",
              "  <thead>\n",
              "    <tr style=\"text-align: right;\">\n",
              "      <th></th>\n",
              "      <th>COMPANY_NAME</th>\n",
              "      <th>COUNTRY_DESC</th>\n",
              "      <th>GENDER_DESC</th>\n",
              "      <th>SALARY</th>\n",
              "    </tr>\n",
              "  </thead>\n",
              "  <tbody>\n",
              "    <tr>\n",
              "      <th>86249</th>\n",
              "      <td>توفير الدعم لأعمال السكرتارية والأعمال الإداري...</td>\n",
              "      <td>لبنــان</td>\n",
              "      <td>انثى</td>\n",
              "      <td>1.425</td>\n",
              "    </tr>\n",
              "    <tr>\n",
              "      <th>83255</th>\n",
              "      <td>تطوير طبقة فارس السفلية للنفط الثقيل ( المرحلة...</td>\n",
              "      <td>الهنــد</td>\n",
              "      <td>ذكر</td>\n",
              "      <td>2.000</td>\n",
              "    </tr>\n",
              "    <tr>\n",
              "      <th>83266</th>\n",
              "      <td>تطوير طبقة فارس السفلية للنفط الثقيل ( المرحلة...</td>\n",
              "      <td>نيبال</td>\n",
              "      <td>ذكر</td>\n",
              "      <td>2.000</td>\n",
              "    </tr>\n",
              "    <tr>\n",
              "      <th>307811</th>\n",
              "      <td>مشروع الوقود البئيى بمصفاة ميناء عبدالله</td>\n",
              "      <td>الهنــد</td>\n",
              "      <td>ذكر</td>\n",
              "      <td>2.000</td>\n",
              "    </tr>\n",
              "    <tr>\n",
              "      <th>307828</th>\n",
              "      <td>مشروع الوقود البئيى بمصفاة ميناء عبدالله</td>\n",
              "      <td>نيبال</td>\n",
              "      <td>ذكر</td>\n",
              "      <td>2.000</td>\n",
              "    </tr>\n",
              "  </tbody>\n",
              "</table>\n",
              "</div>"
            ],
            "text/plain": [
              "                                             COMPANY_NAME  ... SALARY\n",
              "86249   توفير الدعم لأعمال السكرتارية والأعمال الإداري...  ...  1.425\n",
              "83255   تطوير طبقة فارس السفلية للنفط الثقيل ( المرحلة...  ...  2.000\n",
              "83266   تطوير طبقة فارس السفلية للنفط الثقيل ( المرحلة...  ...  2.000\n",
              "307811           مشروع الوقود البئيى بمصفاة ميناء عبدالله  ...  2.000\n",
              "307828           مشروع الوقود البئيى بمصفاة ميناء عبدالله  ...  2.000\n",
              "\n",
              "[5 rows x 4 columns]"
            ]
          },
          "metadata": {
            "tags": []
          },
          "execution_count": 72
        }
      ]
    },
    {
      "cell_type": "code",
      "metadata": {
        "colab": {
          "base_uri": "https://localhost:8080/",
          "height": 542
        },
        "id": "b859e980",
        "outputId": "d1c9028a-22f0-456a-e501-01bb9609f25b"
      },
      "source": [
        "#hide_input\n",
        "fig = px.sunburst(insight20, path=[insight19.index, 'COMPANY_NAME','COUNTRY_DESC','GENDER_DESC','SALARY'], values='SALARY',\n",
        "                  color='SALARY', hover_data=['COMPANY_NAME','COUNTRY_DESC','GENDER_DESC','SALARY'],\n",
        "                  color_continuous_scale='RdBu')\n",
        "\n",
        "fig.update_layout(margin = dict(t=0, l=0, r=0, b=0))\n",
        "fig.show()"
      ],
      "id": "b859e980",
      "execution_count": null,
      "outputs": [
        {
          "output_type": "display_data",
          "data": {
            "text/html": [
              "<html>\n",
              "<head><meta charset=\"utf-8\" /></head>\n",
              "<body>\n",
              "    <div>            <script src=\"https://cdnjs.cloudflare.com/ajax/libs/mathjax/2.7.5/MathJax.js?config=TeX-AMS-MML_SVG\"></script><script type=\"text/javascript\">if (window.MathJax) {MathJax.Hub.Config({SVG: {font: \"STIX-Web\"}});}</script>                <script type=\"text/javascript\">window.PlotlyConfig = {MathJaxConfig: 'local'};</script>\n",
              "        <script src=\"https://cdn.plot.ly/plotly-latest.min.js\"></script>                <div id=\"485d8510-6cc2-401e-bda0-0c1aa19f746b\" class=\"plotly-graph-div\" style=\"height:525px; width:100%;\"></div>            <script type=\"text/javascript\">                                    window.PLOTLYENV=window.PLOTLYENV || {};                                    if (document.getElementById(\"485d8510-6cc2-401e-bda0-0c1aa19f746b\")) {                    Plotly.newPlot(                        \"485d8510-6cc2-401e-bda0-0c1aa19f746b\",                        [{\"branchvalues\": \"total\", \"customdata\": [[\"\\u062a\\u0648\\u0641\\u064a\\u0631 \\u0627\\u0644\\u062f\\u0639\\u0645 \\u0644\\u0623\\u0639\\u0645\\u0627\\u0644 \\u0627\\u0644\\u0633\\u0643\\u0631\\u062a\\u0627\\u0631\\u064a\\u0629 \\u0648\\u0627\\u0644\\u0623\\u0639\\u0645\\u0627\\u0644 \\u0627\\u0644\\u0625\\u062f\\u0627\\u0631\\u064a\\u0629 \\u0644\\u0634\\u0631\\u0643\\u0629 \\u0646\\u0641\\u0637 \\u0627\\u0644\\u0643\\u0648\\u064a\\u062a\", \"\\u0644\\u0628\\u0646\\u0640\\u0640\\u0627\\u0646\", \"\\u0627\\u0646\\u062b\\u0649\", 1.425, 1.425], [\"\\u062a\\u0637\\u0648\\u064a\\u0631 \\u0637\\u0628\\u0642\\u0629 \\u0641\\u0627\\u0631\\u0633 \\u0627\\u0644\\u0633\\u0641\\u0644\\u064a\\u0629 \\u0644\\u0644\\u0646\\u0641\\u0637 \\u0627\\u0644\\u062b\\u0642\\u064a\\u0644 ( \\u0627\\u0644\\u0645\\u0631\\u062d\\u0644\\u0629 \\u0627\\u0644\\u0627\\u0648\\u0644\\u0649)\", \"\\u0627\\u0644\\u0647\\u0646\\u0640\\u0640\\u062f\", \"\\u0630\\u0643\\u0631\", 2.0, 2.0], [\"\\u0645\\u0634\\u0631\\u0648\\u0639 \\u0627\\u0644\\u0648\\u0642\\u0648\\u062f \\u0627\\u0644\\u0628\\u0626\\u064a\\u0649 \\u0628\\u0645\\u0635\\u0641\\u0627\\u0629 \\u0645\\u064a\\u0646\\u0627\\u0621 \\u0639\\u0628\\u062f\\u0627\\u0644\\u0644\\u0647\", \"\\u0627\\u0644\\u0647\\u0646\\u0640\\u0640\\u062f\", \"\\u0630\\u0643\\u0631\", 2.0, 2.0], [\"\\u062a\\u0637\\u0648\\u064a\\u0631 \\u0637\\u0628\\u0642\\u0629 \\u0641\\u0627\\u0631\\u0633 \\u0627\\u0644\\u0633\\u0641\\u0644\\u064a\\u0629 \\u0644\\u0644\\u0646\\u0641\\u0637 \\u0627\\u0644\\u062b\\u0642\\u064a\\u0644 ( \\u0627\\u0644\\u0645\\u0631\\u062d\\u0644\\u0629 \\u0627\\u0644\\u0627\\u0648\\u0644\\u0649)\", \"\\u0646\\u064a\\u0628\\u0627\\u0644\", \"\\u0630\\u0643\\u0631\", 2.0, 2.0], [\"\\u0645\\u0634\\u0631\\u0648\\u0639 \\u0627\\u0644\\u0648\\u0642\\u0648\\u062f \\u0627\\u0644\\u0628\\u0626\\u064a\\u0649 \\u0628\\u0645\\u0635\\u0641\\u0627\\u0629 \\u0645\\u064a\\u0646\\u0627\\u0621 \\u0639\\u0628\\u062f\\u0627\\u0644\\u0644\\u0647\", \"\\u0646\\u064a\\u0628\\u0627\\u0644\", \"\\u0630\\u0643\\u0631\", 2.0, 2.0], [\"\\u062a\\u0648\\u0641\\u064a\\u0631 \\u0627\\u0644\\u062f\\u0639\\u0645 \\u0644\\u0623\\u0639\\u0645\\u0627\\u0644 \\u0627\\u0644\\u0633\\u0643\\u0631\\u062a\\u0627\\u0631\\u064a\\u0629 \\u0648\\u0627\\u0644\\u0623\\u0639\\u0645\\u0627\\u0644 \\u0627\\u0644\\u0625\\u062f\\u0627\\u0631\\u064a\\u0629 \\u0644\\u0634\\u0631\\u0643\\u0629 \\u0646\\u0641\\u0637 \\u0627\\u0644\\u0643\\u0648\\u064a\\u062a\", \"\\u0644\\u0628\\u0646\\u0640\\u0640\\u0627\\u0646\", \"\\u0627\\u0646\\u062b\\u0649\", 1.425, 1.425], [\"\\u062a\\u0637\\u0648\\u064a\\u0631 \\u0637\\u0628\\u0642\\u0629 \\u0641\\u0627\\u0631\\u0633 \\u0627\\u0644\\u0633\\u0641\\u0644\\u064a\\u0629 \\u0644\\u0644\\u0646\\u0641\\u0637 \\u0627\\u0644\\u062b\\u0642\\u064a\\u0644 ( \\u0627\\u0644\\u0645\\u0631\\u062d\\u0644\\u0629 \\u0627\\u0644\\u0627\\u0648\\u0644\\u0649)\", \"\\u0627\\u0644\\u0647\\u0646\\u0640\\u0640\\u062f\", \"\\u0630\\u0643\\u0631\", 2.0, 2.0], [\"\\u0645\\u0634\\u0631\\u0648\\u0639 \\u0627\\u0644\\u0648\\u0642\\u0648\\u062f \\u0627\\u0644\\u0628\\u0626\\u064a\\u0649 \\u0628\\u0645\\u0635\\u0641\\u0627\\u0629 \\u0645\\u064a\\u0646\\u0627\\u0621 \\u0639\\u0628\\u062f\\u0627\\u0644\\u0644\\u0647\", \"\\u0627\\u0644\\u0647\\u0646\\u0640\\u0640\\u062f\", \"\\u0630\\u0643\\u0631\", 2.0, 2.0], [\"\\u062a\\u0637\\u0648\\u064a\\u0631 \\u0637\\u0628\\u0642\\u0629 \\u0641\\u0627\\u0631\\u0633 \\u0627\\u0644\\u0633\\u0641\\u0644\\u064a\\u0629 \\u0644\\u0644\\u0646\\u0641\\u0637 \\u0627\\u0644\\u062b\\u0642\\u064a\\u0644 ( \\u0627\\u0644\\u0645\\u0631\\u062d\\u0644\\u0629 \\u0627\\u0644\\u0627\\u0648\\u0644\\u0649)\", \"\\u0646\\u064a\\u0628\\u0627\\u0644\", \"\\u0630\\u0643\\u0631\", 2.0, 2.0], [\"\\u0645\\u0634\\u0631\\u0648\\u0639 \\u0627\\u0644\\u0648\\u0642\\u0648\\u062f \\u0627\\u0644\\u0628\\u0626\\u064a\\u0649 \\u0628\\u0645\\u0635\\u0641\\u0627\\u0629 \\u0645\\u064a\\u0646\\u0627\\u0621 \\u0639\\u0628\\u062f\\u0627\\u0644\\u0644\\u0647\", \"\\u0646\\u064a\\u0628\\u0627\\u0644\", \"\\u0630\\u0643\\u0631\", 2.0, 2.0], [\"\\u062a\\u0637\\u0648\\u064a\\u0631 \\u0637\\u0628\\u0642\\u0629 \\u0641\\u0627\\u0631\\u0633 \\u0627\\u0644\\u0633\\u0641\\u0644\\u064a\\u0629 \\u0644\\u0644\\u0646\\u0641\\u0637 \\u0627\\u0644\\u062b\\u0642\\u064a\\u0644 ( \\u0627\\u0644\\u0645\\u0631\\u062d\\u0644\\u0629 \\u0627\\u0644\\u0627\\u0648\\u0644\\u0649)\", \"\\u0627\\u0644\\u0647\\u0646\\u0640\\u0640\\u062f\", \"\\u0630\\u0643\\u0631\", 2.0, 2.0], [\"\\u0645\\u0634\\u0631\\u0648\\u0639 \\u0627\\u0644\\u0648\\u0642\\u0648\\u062f \\u0627\\u0644\\u0628\\u0626\\u064a\\u0649 \\u0628\\u0645\\u0635\\u0641\\u0627\\u0629 \\u0645\\u064a\\u0646\\u0627\\u0621 \\u0639\\u0628\\u062f\\u0627\\u0644\\u0644\\u0647\", \"\\u0627\\u0644\\u0647\\u0646\\u0640\\u0640\\u062f\", \"\\u0630\\u0643\\u0631\", 2.0, 2.0], [\"\\u062a\\u0648\\u0641\\u064a\\u0631 \\u0627\\u0644\\u062f\\u0639\\u0645 \\u0644\\u0623\\u0639\\u0645\\u0627\\u0644 \\u0627\\u0644\\u0633\\u0643\\u0631\\u062a\\u0627\\u0631\\u064a\\u0629 \\u0648\\u0627\\u0644\\u0623\\u0639\\u0645\\u0627\\u0644 \\u0627\\u0644\\u0625\\u062f\\u0627\\u0631\\u064a\\u0629 \\u0644\\u0634\\u0631\\u0643\\u0629 \\u0646\\u0641\\u0637 \\u0627\\u0644\\u0643\\u0648\\u064a\\u062a\", \"\\u0644\\u0628\\u0646\\u0640\\u0640\\u0627\\u0646\", \"\\u0627\\u0646\\u062b\\u0649\", 1.425, 1.425], [\"\\u062a\\u0637\\u0648\\u064a\\u0631 \\u0637\\u0628\\u0642\\u0629 \\u0641\\u0627\\u0631\\u0633 \\u0627\\u0644\\u0633\\u0641\\u0644\\u064a\\u0629 \\u0644\\u0644\\u0646\\u0641\\u0637 \\u0627\\u0644\\u062b\\u0642\\u064a\\u0644 ( \\u0627\\u0644\\u0645\\u0631\\u062d\\u0644\\u0629 \\u0627\\u0644\\u0627\\u0648\\u0644\\u0649)\", \"\\u0646\\u064a\\u0628\\u0627\\u0644\", \"\\u0630\\u0643\\u0631\", 2.0, 2.0], [\"\\u0645\\u0634\\u0631\\u0648\\u0639 \\u0627\\u0644\\u0648\\u0642\\u0648\\u062f \\u0627\\u0644\\u0628\\u0626\\u064a\\u0649 \\u0628\\u0645\\u0635\\u0641\\u0627\\u0629 \\u0645\\u064a\\u0646\\u0627\\u0621 \\u0639\\u0628\\u062f\\u0627\\u0644\\u0644\\u0647\", \"\\u0646\\u064a\\u0628\\u0627\\u0644\", \"\\u0630\\u0643\\u0631\", 2.0, 2.0], [\"\\u062a\\u0637\\u0648\\u064a\\u0631 \\u0637\\u0628\\u0642\\u0629 \\u0641\\u0627\\u0631\\u0633 \\u0627\\u0644\\u0633\\u0641\\u0644\\u064a\\u0629 \\u0644\\u0644\\u0646\\u0641\\u0637 \\u0627\\u0644\\u062b\\u0642\\u064a\\u0644 ( \\u0627\\u0644\\u0645\\u0631\\u062d\\u0644\\u0629 \\u0627\\u0644\\u0627\\u0648\\u0644\\u0649)\", \"\\u0627\\u0644\\u0647\\u0646\\u0640\\u0640\\u062f\", \"\\u0630\\u0643\\u0631\", 2.0, 2.0], [\"\\u062a\\u0637\\u0648\\u064a\\u0631 \\u0637\\u0628\\u0642\\u0629 \\u0641\\u0627\\u0631\\u0633 \\u0627\\u0644\\u0633\\u0641\\u0644\\u064a\\u0629 \\u0644\\u0644\\u0646\\u0641\\u0637 \\u0627\\u0644\\u062b\\u0642\\u064a\\u0644 ( \\u0627\\u0644\\u0645\\u0631\\u062d\\u0644\\u0629 \\u0627\\u0644\\u0627\\u0648\\u0644\\u0649)\", \"\\u0646\\u064a\\u0628\\u0627\\u0644\", \"\\u0630\\u0643\\u0631\", 2.0, 2.0], [\"\\u062a\\u0648\\u0641\\u064a\\u0631 \\u0627\\u0644\\u062f\\u0639\\u0645 \\u0644\\u0623\\u0639\\u0645\\u0627\\u0644 \\u0627\\u0644\\u0633\\u0643\\u0631\\u062a\\u0627\\u0631\\u064a\\u0629 \\u0648\\u0627\\u0644\\u0623\\u0639\\u0645\\u0627\\u0644 \\u0627\\u0644\\u0625\\u062f\\u0627\\u0631\\u064a\\u0629 \\u0644\\u0634\\u0631\\u0643\\u0629 \\u0646\\u0641\\u0637 \\u0627\\u0644\\u0643\\u0648\\u064a\\u062a\", \"\\u0644\\u0628\\u0646\\u0640\\u0640\\u0627\\u0646\", \"\\u0627\\u0646\\u062b\\u0649\", 1.425, 1.425], [\"\\u0645\\u0634\\u0631\\u0648\\u0639 \\u0627\\u0644\\u0648\\u0642\\u0648\\u062f \\u0627\\u0644\\u0628\\u0626\\u064a\\u0649 \\u0628\\u0645\\u0635\\u0641\\u0627\\u0629 \\u0645\\u064a\\u0646\\u0627\\u0621 \\u0639\\u0628\\u062f\\u0627\\u0644\\u0644\\u0647\", \"\\u0627\\u0644\\u0647\\u0646\\u0640\\u0640\\u062f\", \"\\u0630\\u0643\\u0631\", 2.0, 2.0], [\"\\u0645\\u0634\\u0631\\u0648\\u0639 \\u0627\\u0644\\u0648\\u0642\\u0648\\u062f \\u0627\\u0644\\u0628\\u0626\\u064a\\u0649 \\u0628\\u0645\\u0635\\u0641\\u0627\\u0629 \\u0645\\u064a\\u0646\\u0627\\u0621 \\u0639\\u0628\\u062f\\u0627\\u0644\\u0644\\u0647\", \"\\u0646\\u064a\\u0628\\u0627\\u0644\", \"\\u0630\\u0643\\u0631\", 2.0, 2.0], [\"\\u0645\\u0634\\u0631\\u0648\\u0639 \\u0627\\u0644\\u0648\\u0642\\u0648\\u062f \\u0627\\u0644\\u0628\\u0626\\u064a\\u0649 \\u0628\\u0645\\u0635\\u0641\\u0627\\u0629 \\u0645\\u064a\\u0646\\u0627\\u0621 \\u0639\\u0628\\u062f\\u0627\\u0644\\u0644\\u0647\", \"\\u0627\\u0644\\u0647\\u0646\\u0640\\u0640\\u062f\", \"\\u0630\\u0643\\u0631\", 2.0, 2.0], [\"\\u0645\\u0634\\u0631\\u0648\\u0639 \\u0627\\u0644\\u0648\\u0642\\u0648\\u062f \\u0627\\u0644\\u0628\\u0626\\u064a\\u0649 \\u0628\\u0645\\u0635\\u0641\\u0627\\u0629 \\u0645\\u064a\\u0646\\u0627\\u0621 \\u0639\\u0628\\u062f\\u0627\\u0644\\u0644\\u0647\", \"\\u0646\\u064a\\u0628\\u0627\\u0644\", \"\\u0630\\u0643\\u0631\", 2.0, 2.0], [\"\\u062a\\u0637\\u0648\\u064a\\u0631 \\u0637\\u0628\\u0642\\u0629 \\u0641\\u0627\\u0631\\u0633 \\u0627\\u0644\\u0633\\u0641\\u0644\\u064a\\u0629 \\u0644\\u0644\\u0646\\u0641\\u0637 \\u0627\\u0644\\u062b\\u0642\\u064a\\u0644 ( \\u0627\\u0644\\u0645\\u0631\\u062d\\u0644\\u0629 \\u0627\\u0644\\u0627\\u0648\\u0644\\u0649)\", \"\\u0627\\u0644\\u0647\\u0646\\u0640\\u0640\\u062f\", \"\\u0630\\u0643\\u0631\", 2.0, 2.0], [\"\\u062a\\u0648\\u0641\\u064a\\u0631 \\u0627\\u0644\\u062f\\u0639\\u0645 \\u0644\\u0623\\u0639\\u0645\\u0627\\u0644 \\u0627\\u0644\\u0633\\u0643\\u0631\\u062a\\u0627\\u0631\\u064a\\u0629 \\u0648\\u0627\\u0644\\u0623\\u0639\\u0645\\u0627\\u0644 \\u0627\\u0644\\u0625\\u062f\\u0627\\u0631\\u064a\\u0629 \\u0644\\u0634\\u0631\\u0643\\u0629 \\u0646\\u0641\\u0637 \\u0627\\u0644\\u0643\\u0648\\u064a\\u062a\", \"\\u0644\\u0628\\u0646\\u0640\\u0640\\u0627\\u0646\", \"\\u0627\\u0646\\u062b\\u0649\", 1.425, 1.425], [\"\\u062a\\u0637\\u0648\\u064a\\u0631 \\u0637\\u0628\\u0642\\u0629 \\u0641\\u0627\\u0631\\u0633 \\u0627\\u0644\\u0633\\u0641\\u0644\\u064a\\u0629 \\u0644\\u0644\\u0646\\u0641\\u0637 \\u0627\\u0644\\u062b\\u0642\\u064a\\u0644 ( \\u0627\\u0644\\u0645\\u0631\\u062d\\u0644\\u0629 \\u0627\\u0644\\u0627\\u0648\\u0644\\u0649)\", \"\\u0646\\u064a\\u0628\\u0627\\u0644\", \"\\u0630\\u0643\\u0631\", 2.0, 2.0]], \"domain\": {\"x\": [0.0, 1.0], \"y\": [0.0, 1.0]}, \"hovertemplate\": \"labels=%{label}<br>SALARY_sum=%{value}<br>parent=%{parent}<br>id=%{id}<br>COMPANY_NAME=%{customdata[0]}<br>COUNTRY_DESC=%{customdata[1]}<br>GENDER_DESC=%{customdata[2]}<br>SALARY=%{color}<extra></extra>\", \"ids\": [\"67432/\\u062a\\u0648\\u0641\\u064a\\u0631 \\u0627\\u0644\\u062f\\u0639\\u0645 \\u0644\\u0623\\u0639\\u0645\\u0627\\u0644 \\u0627\\u0644\\u0633\\u0643\\u0631\\u062a\\u0627\\u0631\\u064a\\u0629 \\u0648\\u0627\\u0644\\u0623\\u0639\\u0645\\u0627\\u0644 \\u0627\\u0644\\u0625\\u062f\\u0627\\u0631\\u064a\\u0629 \\u0644\\u0634\\u0631\\u0643\\u0629 \\u0646\\u0641\\u0637 \\u0627\\u0644\\u0643\\u0648\\u064a\\u062a/\\u0644\\u0628\\u0646\\u0640\\u0640\\u0627\\u0646/\\u0627\\u0646\\u062b\\u0649/1.425\", \"67214/\\u062a\\u0637\\u0648\\u064a\\u0631 \\u0637\\u0628\\u0642\\u0629 \\u0641\\u0627\\u0631\\u0633 \\u0627\\u0644\\u0633\\u0641\\u0644\\u064a\\u0629 \\u0644\\u0644\\u0646\\u0641\\u0637 \\u0627\\u0644\\u062b\\u0642\\u064a\\u0644 ( \\u0627\\u0644\\u0645\\u0631\\u062d\\u0644\\u0629 \\u0627\\u0644\\u0627\\u0648\\u0644\\u0649)/\\u0627\\u0644\\u0647\\u0646\\u0640\\u0640\\u062f/\\u0630\\u0643\\u0631/2.0\", \"38103/\\u0645\\u0634\\u0631\\u0648\\u0639 \\u0627\\u0644\\u0648\\u0642\\u0648\\u062f \\u0627\\u0644\\u0628\\u0626\\u064a\\u0649 \\u0628\\u0645\\u0635\\u0641\\u0627\\u0629 \\u0645\\u064a\\u0646\\u0627\\u0621 \\u0639\\u0628\\u062f\\u0627\\u0644\\u0644\\u0647/\\u0627\\u0644\\u0647\\u0646\\u0640\\u0640\\u062f/\\u0630\\u0643\\u0631/2.0\", \"123033/\\u062a\\u0637\\u0648\\u064a\\u0631 \\u0637\\u0628\\u0642\\u0629 \\u0641\\u0627\\u0631\\u0633 \\u0627\\u0644\\u0633\\u0641\\u0644\\u064a\\u0629 \\u0644\\u0644\\u0646\\u0641\\u0637 \\u0627\\u0644\\u062b\\u0642\\u064a\\u0644 ( \\u0627\\u0644\\u0645\\u0631\\u062d\\u0644\\u0629 \\u0627\\u0644\\u0627\\u0648\\u0644\\u0649)/\\u0646\\u064a\\u0628\\u0627\\u0644/\\u0630\\u0643\\u0631/2.0\", \"53851/\\u0645\\u0634\\u0631\\u0648\\u0639 \\u0627\\u0644\\u0648\\u0642\\u0648\\u062f \\u0627\\u0644\\u0628\\u0626\\u064a\\u0649 \\u0628\\u0645\\u0635\\u0641\\u0627\\u0629 \\u0645\\u064a\\u0646\\u0627\\u0621 \\u0639\\u0628\\u062f\\u0627\\u0644\\u0644\\u0647/\\u0646\\u064a\\u0628\\u0627\\u0644/\\u0630\\u0643\\u0631/2.0\", \"67432/\\u062a\\u0648\\u0641\\u064a\\u0631 \\u0627\\u0644\\u062f\\u0639\\u0645 \\u0644\\u0623\\u0639\\u0645\\u0627\\u0644 \\u0627\\u0644\\u0633\\u0643\\u0631\\u062a\\u0627\\u0631\\u064a\\u0629 \\u0648\\u0627\\u0644\\u0623\\u0639\\u0645\\u0627\\u0644 \\u0627\\u0644\\u0625\\u062f\\u0627\\u0631\\u064a\\u0629 \\u0644\\u0634\\u0631\\u0643\\u0629 \\u0646\\u0641\\u0637 \\u0627\\u0644\\u0643\\u0648\\u064a\\u062a/\\u0644\\u0628\\u0646\\u0640\\u0640\\u0627\\u0646/\\u0627\\u0646\\u062b\\u0649\", \"67214/\\u062a\\u0637\\u0648\\u064a\\u0631 \\u0637\\u0628\\u0642\\u0629 \\u0641\\u0627\\u0631\\u0633 \\u0627\\u0644\\u0633\\u0641\\u0644\\u064a\\u0629 \\u0644\\u0644\\u0646\\u0641\\u0637 \\u0627\\u0644\\u062b\\u0642\\u064a\\u0644 ( \\u0627\\u0644\\u0645\\u0631\\u062d\\u0644\\u0629 \\u0627\\u0644\\u0627\\u0648\\u0644\\u0649)/\\u0627\\u0644\\u0647\\u0646\\u0640\\u0640\\u062f/\\u0630\\u0643\\u0631\", \"38103/\\u0645\\u0634\\u0631\\u0648\\u0639 \\u0627\\u0644\\u0648\\u0642\\u0648\\u062f \\u0627\\u0644\\u0628\\u0626\\u064a\\u0649 \\u0628\\u0645\\u0635\\u0641\\u0627\\u0629 \\u0645\\u064a\\u0646\\u0627\\u0621 \\u0639\\u0628\\u062f\\u0627\\u0644\\u0644\\u0647/\\u0627\\u0644\\u0647\\u0646\\u0640\\u0640\\u062f/\\u0630\\u0643\\u0631\", \"123033/\\u062a\\u0637\\u0648\\u064a\\u0631 \\u0637\\u0628\\u0642\\u0629 \\u0641\\u0627\\u0631\\u0633 \\u0627\\u0644\\u0633\\u0641\\u0644\\u064a\\u0629 \\u0644\\u0644\\u0646\\u0641\\u0637 \\u0627\\u0644\\u062b\\u0642\\u064a\\u0644 ( \\u0627\\u0644\\u0645\\u0631\\u062d\\u0644\\u0629 \\u0627\\u0644\\u0627\\u0648\\u0644\\u0649)/\\u0646\\u064a\\u0628\\u0627\\u0644/\\u0630\\u0643\\u0631\", \"53851/\\u0645\\u0634\\u0631\\u0648\\u0639 \\u0627\\u0644\\u0648\\u0642\\u0648\\u062f \\u0627\\u0644\\u0628\\u0626\\u064a\\u0649 \\u0628\\u0645\\u0635\\u0641\\u0627\\u0629 \\u0645\\u064a\\u0646\\u0627\\u0621 \\u0639\\u0628\\u062f\\u0627\\u0644\\u0644\\u0647/\\u0646\\u064a\\u0628\\u0627\\u0644/\\u0630\\u0643\\u0631\", \"67214/\\u062a\\u0637\\u0648\\u064a\\u0631 \\u0637\\u0628\\u0642\\u0629 \\u0641\\u0627\\u0631\\u0633 \\u0627\\u0644\\u0633\\u0641\\u0644\\u064a\\u0629 \\u0644\\u0644\\u0646\\u0641\\u0637 \\u0627\\u0644\\u062b\\u0642\\u064a\\u0644 ( \\u0627\\u0644\\u0645\\u0631\\u062d\\u0644\\u0629 \\u0627\\u0644\\u0627\\u0648\\u0644\\u0649)/\\u0627\\u0644\\u0647\\u0646\\u0640\\u0640\\u062f\", \"38103/\\u0645\\u0634\\u0631\\u0648\\u0639 \\u0627\\u0644\\u0648\\u0642\\u0648\\u062f \\u0627\\u0644\\u0628\\u0626\\u064a\\u0649 \\u0628\\u0645\\u0635\\u0641\\u0627\\u0629 \\u0645\\u064a\\u0646\\u0627\\u0621 \\u0639\\u0628\\u062f\\u0627\\u0644\\u0644\\u0647/\\u0627\\u0644\\u0647\\u0646\\u0640\\u0640\\u062f\", \"67432/\\u062a\\u0648\\u0641\\u064a\\u0631 \\u0627\\u0644\\u062f\\u0639\\u0645 \\u0644\\u0623\\u0639\\u0645\\u0627\\u0644 \\u0627\\u0644\\u0633\\u0643\\u0631\\u062a\\u0627\\u0631\\u064a\\u0629 \\u0648\\u0627\\u0644\\u0623\\u0639\\u0645\\u0627\\u0644 \\u0627\\u0644\\u0625\\u062f\\u0627\\u0631\\u064a\\u0629 \\u0644\\u0634\\u0631\\u0643\\u0629 \\u0646\\u0641\\u0637 \\u0627\\u0644\\u0643\\u0648\\u064a\\u062a/\\u0644\\u0628\\u0646\\u0640\\u0640\\u0627\\u0646\", \"123033/\\u062a\\u0637\\u0648\\u064a\\u0631 \\u0637\\u0628\\u0642\\u0629 \\u0641\\u0627\\u0631\\u0633 \\u0627\\u0644\\u0633\\u0641\\u0644\\u064a\\u0629 \\u0644\\u0644\\u0646\\u0641\\u0637 \\u0627\\u0644\\u062b\\u0642\\u064a\\u0644 ( \\u0627\\u0644\\u0645\\u0631\\u062d\\u0644\\u0629 \\u0627\\u0644\\u0627\\u0648\\u0644\\u0649)/\\u0646\\u064a\\u0628\\u0627\\u0644\", \"53851/\\u0645\\u0634\\u0631\\u0648\\u0639 \\u0627\\u0644\\u0648\\u0642\\u0648\\u062f \\u0627\\u0644\\u0628\\u0626\\u064a\\u0649 \\u0628\\u0645\\u0635\\u0641\\u0627\\u0629 \\u0645\\u064a\\u0646\\u0627\\u0621 \\u0639\\u0628\\u062f\\u0627\\u0644\\u0644\\u0647/\\u0646\\u064a\\u0628\\u0627\\u0644\", \"67214/\\u062a\\u0637\\u0648\\u064a\\u0631 \\u0637\\u0628\\u0642\\u0629 \\u0641\\u0627\\u0631\\u0633 \\u0627\\u0644\\u0633\\u0641\\u0644\\u064a\\u0629 \\u0644\\u0644\\u0646\\u0641\\u0637 \\u0627\\u0644\\u062b\\u0642\\u064a\\u0644 ( \\u0627\\u0644\\u0645\\u0631\\u062d\\u0644\\u0629 \\u0627\\u0644\\u0627\\u0648\\u0644\\u0649)\", \"123033/\\u062a\\u0637\\u0648\\u064a\\u0631 \\u0637\\u0628\\u0642\\u0629 \\u0641\\u0627\\u0631\\u0633 \\u0627\\u0644\\u0633\\u0641\\u0644\\u064a\\u0629 \\u0644\\u0644\\u0646\\u0641\\u0637 \\u0627\\u0644\\u062b\\u0642\\u064a\\u0644 ( \\u0627\\u0644\\u0645\\u0631\\u062d\\u0644\\u0629 \\u0627\\u0644\\u0627\\u0648\\u0644\\u0649)\", \"67432/\\u062a\\u0648\\u0641\\u064a\\u0631 \\u0627\\u0644\\u062f\\u0639\\u0645 \\u0644\\u0623\\u0639\\u0645\\u0627\\u0644 \\u0627\\u0644\\u0633\\u0643\\u0631\\u062a\\u0627\\u0631\\u064a\\u0629 \\u0648\\u0627\\u0644\\u0623\\u0639\\u0645\\u0627\\u0644 \\u0627\\u0644\\u0625\\u062f\\u0627\\u0631\\u064a\\u0629 \\u0644\\u0634\\u0631\\u0643\\u0629 \\u0646\\u0641\\u0637 \\u0627\\u0644\\u0643\\u0648\\u064a\\u062a\", \"38103/\\u0645\\u0634\\u0631\\u0648\\u0639 \\u0627\\u0644\\u0648\\u0642\\u0648\\u062f \\u0627\\u0644\\u0628\\u0626\\u064a\\u0649 \\u0628\\u0645\\u0635\\u0641\\u0627\\u0629 \\u0645\\u064a\\u0646\\u0627\\u0621 \\u0639\\u0628\\u062f\\u0627\\u0644\\u0644\\u0647\", \"53851/\\u0645\\u0634\\u0631\\u0648\\u0639 \\u0627\\u0644\\u0648\\u0642\\u0648\\u062f \\u0627\\u0644\\u0628\\u0626\\u064a\\u0649 \\u0628\\u0645\\u0635\\u0641\\u0627\\u0629 \\u0645\\u064a\\u0646\\u0627\\u0621 \\u0639\\u0628\\u062f\\u0627\\u0644\\u0644\\u0647\", \"38103\", \"53851\", \"67214\", \"67432\", \"123033\"], \"labels\": [\"1.425\", \"2.0\", \"2.0\", \"2.0\", \"2.0\", \"\\u0627\\u0646\\u062b\\u0649\", \"\\u0630\\u0643\\u0631\", \"\\u0630\\u0643\\u0631\", \"\\u0630\\u0643\\u0631\", \"\\u0630\\u0643\\u0631\", \"\\u0627\\u0644\\u0647\\u0646\\u0640\\u0640\\u062f\", \"\\u0627\\u0644\\u0647\\u0646\\u0640\\u0640\\u062f\", \"\\u0644\\u0628\\u0646\\u0640\\u0640\\u0627\\u0646\", \"\\u0646\\u064a\\u0628\\u0627\\u0644\", \"\\u0646\\u064a\\u0628\\u0627\\u0644\", \"\\u062a\\u0637\\u0648\\u064a\\u0631 \\u0637\\u0628\\u0642\\u0629 \\u0641\\u0627\\u0631\\u0633 \\u0627\\u0644\\u0633\\u0641\\u0644\\u064a\\u0629 \\u0644\\u0644\\u0646\\u0641\\u0637 \\u0627\\u0644\\u062b\\u0642\\u064a\\u0644 ( \\u0627\\u0644\\u0645\\u0631\\u062d\\u0644\\u0629 \\u0627\\u0644\\u0627\\u0648\\u0644\\u0649)\", \"\\u062a\\u0637\\u0648\\u064a\\u0631 \\u0637\\u0628\\u0642\\u0629 \\u0641\\u0627\\u0631\\u0633 \\u0627\\u0644\\u0633\\u0641\\u0644\\u064a\\u0629 \\u0644\\u0644\\u0646\\u0641\\u0637 \\u0627\\u0644\\u062b\\u0642\\u064a\\u0644 ( \\u0627\\u0644\\u0645\\u0631\\u062d\\u0644\\u0629 \\u0627\\u0644\\u0627\\u0648\\u0644\\u0649)\", \"\\u062a\\u0648\\u0641\\u064a\\u0631 \\u0627\\u0644\\u062f\\u0639\\u0645 \\u0644\\u0623\\u0639\\u0645\\u0627\\u0644 \\u0627\\u0644\\u0633\\u0643\\u0631\\u062a\\u0627\\u0631\\u064a\\u0629 \\u0648\\u0627\\u0644\\u0623\\u0639\\u0645\\u0627\\u0644 \\u0627\\u0644\\u0625\\u062f\\u0627\\u0631\\u064a\\u0629 \\u0644\\u0634\\u0631\\u0643\\u0629 \\u0646\\u0641\\u0637 \\u0627\\u0644\\u0643\\u0648\\u064a\\u062a\", \"\\u0645\\u0634\\u0631\\u0648\\u0639 \\u0627\\u0644\\u0648\\u0642\\u0648\\u062f \\u0627\\u0644\\u0628\\u0626\\u064a\\u0649 \\u0628\\u0645\\u0635\\u0641\\u0627\\u0629 \\u0645\\u064a\\u0646\\u0627\\u0621 \\u0639\\u0628\\u062f\\u0627\\u0644\\u0644\\u0647\", \"\\u0645\\u0634\\u0631\\u0648\\u0639 \\u0627\\u0644\\u0648\\u0642\\u0648\\u062f \\u0627\\u0644\\u0628\\u0626\\u064a\\u0649 \\u0628\\u0645\\u0635\\u0641\\u0627\\u0629 \\u0645\\u064a\\u0646\\u0627\\u0621 \\u0639\\u0628\\u062f\\u0627\\u0644\\u0644\\u0647\", \"38103\", \"53851\", \"67214\", \"67432\", \"123033\"], \"marker\": {\"coloraxis\": \"coloraxis\", \"colors\": [1.425, 2.0, 2.0, 2.0, 2.0, 1.425, 2.0, 2.0, 2.0, 2.0, 2.0, 2.0, 1.425, 2.0, 2.0, 2.0, 2.0, 1.425, 2.0, 2.0, 2.0, 2.0, 2.0, 1.425, 2.0]}, \"name\": \"\", \"parents\": [\"67432/\\u062a\\u0648\\u0641\\u064a\\u0631 \\u0627\\u0644\\u062f\\u0639\\u0645 \\u0644\\u0623\\u0639\\u0645\\u0627\\u0644 \\u0627\\u0644\\u0633\\u0643\\u0631\\u062a\\u0627\\u0631\\u064a\\u0629 \\u0648\\u0627\\u0644\\u0623\\u0639\\u0645\\u0627\\u0644 \\u0627\\u0644\\u0625\\u062f\\u0627\\u0631\\u064a\\u0629 \\u0644\\u0634\\u0631\\u0643\\u0629 \\u0646\\u0641\\u0637 \\u0627\\u0644\\u0643\\u0648\\u064a\\u062a/\\u0644\\u0628\\u0646\\u0640\\u0640\\u0627\\u0646/\\u0627\\u0646\\u062b\\u0649\", \"67214/\\u062a\\u0637\\u0648\\u064a\\u0631 \\u0637\\u0628\\u0642\\u0629 \\u0641\\u0627\\u0631\\u0633 \\u0627\\u0644\\u0633\\u0641\\u0644\\u064a\\u0629 \\u0644\\u0644\\u0646\\u0641\\u0637 \\u0627\\u0644\\u062b\\u0642\\u064a\\u0644 ( \\u0627\\u0644\\u0645\\u0631\\u062d\\u0644\\u0629 \\u0627\\u0644\\u0627\\u0648\\u0644\\u0649)/\\u0627\\u0644\\u0647\\u0646\\u0640\\u0640\\u062f/\\u0630\\u0643\\u0631\", \"38103/\\u0645\\u0634\\u0631\\u0648\\u0639 \\u0627\\u0644\\u0648\\u0642\\u0648\\u062f \\u0627\\u0644\\u0628\\u0626\\u064a\\u0649 \\u0628\\u0645\\u0635\\u0641\\u0627\\u0629 \\u0645\\u064a\\u0646\\u0627\\u0621 \\u0639\\u0628\\u062f\\u0627\\u0644\\u0644\\u0647/\\u0627\\u0644\\u0647\\u0646\\u0640\\u0640\\u062f/\\u0630\\u0643\\u0631\", \"123033/\\u062a\\u0637\\u0648\\u064a\\u0631 \\u0637\\u0628\\u0642\\u0629 \\u0641\\u0627\\u0631\\u0633 \\u0627\\u0644\\u0633\\u0641\\u0644\\u064a\\u0629 \\u0644\\u0644\\u0646\\u0641\\u0637 \\u0627\\u0644\\u062b\\u0642\\u064a\\u0644 ( \\u0627\\u0644\\u0645\\u0631\\u062d\\u0644\\u0629 \\u0627\\u0644\\u0627\\u0648\\u0644\\u0649)/\\u0646\\u064a\\u0628\\u0627\\u0644/\\u0630\\u0643\\u0631\", \"53851/\\u0645\\u0634\\u0631\\u0648\\u0639 \\u0627\\u0644\\u0648\\u0642\\u0648\\u062f \\u0627\\u0644\\u0628\\u0626\\u064a\\u0649 \\u0628\\u0645\\u0635\\u0641\\u0627\\u0629 \\u0645\\u064a\\u0646\\u0627\\u0621 \\u0639\\u0628\\u062f\\u0627\\u0644\\u0644\\u0647/\\u0646\\u064a\\u0628\\u0627\\u0644/\\u0630\\u0643\\u0631\", \"67432/\\u062a\\u0648\\u0641\\u064a\\u0631 \\u0627\\u0644\\u062f\\u0639\\u0645 \\u0644\\u0623\\u0639\\u0645\\u0627\\u0644 \\u0627\\u0644\\u0633\\u0643\\u0631\\u062a\\u0627\\u0631\\u064a\\u0629 \\u0648\\u0627\\u0644\\u0623\\u0639\\u0645\\u0627\\u0644 \\u0627\\u0644\\u0625\\u062f\\u0627\\u0631\\u064a\\u0629 \\u0644\\u0634\\u0631\\u0643\\u0629 \\u0646\\u0641\\u0637 \\u0627\\u0644\\u0643\\u0648\\u064a\\u062a/\\u0644\\u0628\\u0646\\u0640\\u0640\\u0627\\u0646\", \"67214/\\u062a\\u0637\\u0648\\u064a\\u0631 \\u0637\\u0628\\u0642\\u0629 \\u0641\\u0627\\u0631\\u0633 \\u0627\\u0644\\u0633\\u0641\\u0644\\u064a\\u0629 \\u0644\\u0644\\u0646\\u0641\\u0637 \\u0627\\u0644\\u062b\\u0642\\u064a\\u0644 ( \\u0627\\u0644\\u0645\\u0631\\u062d\\u0644\\u0629 \\u0627\\u0644\\u0627\\u0648\\u0644\\u0649)/\\u0627\\u0644\\u0647\\u0646\\u0640\\u0640\\u062f\", \"38103/\\u0645\\u0634\\u0631\\u0648\\u0639 \\u0627\\u0644\\u0648\\u0642\\u0648\\u062f \\u0627\\u0644\\u0628\\u0626\\u064a\\u0649 \\u0628\\u0645\\u0635\\u0641\\u0627\\u0629 \\u0645\\u064a\\u0646\\u0627\\u0621 \\u0639\\u0628\\u062f\\u0627\\u0644\\u0644\\u0647/\\u0627\\u0644\\u0647\\u0646\\u0640\\u0640\\u062f\", \"123033/\\u062a\\u0637\\u0648\\u064a\\u0631 \\u0637\\u0628\\u0642\\u0629 \\u0641\\u0627\\u0631\\u0633 \\u0627\\u0644\\u0633\\u0641\\u0644\\u064a\\u0629 \\u0644\\u0644\\u0646\\u0641\\u0637 \\u0627\\u0644\\u062b\\u0642\\u064a\\u0644 ( \\u0627\\u0644\\u0645\\u0631\\u062d\\u0644\\u0629 \\u0627\\u0644\\u0627\\u0648\\u0644\\u0649)/\\u0646\\u064a\\u0628\\u0627\\u0644\", \"53851/\\u0645\\u0634\\u0631\\u0648\\u0639 \\u0627\\u0644\\u0648\\u0642\\u0648\\u062f \\u0627\\u0644\\u0628\\u0626\\u064a\\u0649 \\u0628\\u0645\\u0635\\u0641\\u0627\\u0629 \\u0645\\u064a\\u0646\\u0627\\u0621 \\u0639\\u0628\\u062f\\u0627\\u0644\\u0644\\u0647/\\u0646\\u064a\\u0628\\u0627\\u0644\", \"67214/\\u062a\\u0637\\u0648\\u064a\\u0631 \\u0637\\u0628\\u0642\\u0629 \\u0641\\u0627\\u0631\\u0633 \\u0627\\u0644\\u0633\\u0641\\u0644\\u064a\\u0629 \\u0644\\u0644\\u0646\\u0641\\u0637 \\u0627\\u0644\\u062b\\u0642\\u064a\\u0644 ( \\u0627\\u0644\\u0645\\u0631\\u062d\\u0644\\u0629 \\u0627\\u0644\\u0627\\u0648\\u0644\\u0649)\", \"38103/\\u0645\\u0634\\u0631\\u0648\\u0639 \\u0627\\u0644\\u0648\\u0642\\u0648\\u062f \\u0627\\u0644\\u0628\\u0626\\u064a\\u0649 \\u0628\\u0645\\u0635\\u0641\\u0627\\u0629 \\u0645\\u064a\\u0646\\u0627\\u0621 \\u0639\\u0628\\u062f\\u0627\\u0644\\u0644\\u0647\", \"67432/\\u062a\\u0648\\u0641\\u064a\\u0631 \\u0627\\u0644\\u062f\\u0639\\u0645 \\u0644\\u0623\\u0639\\u0645\\u0627\\u0644 \\u0627\\u0644\\u0633\\u0643\\u0631\\u062a\\u0627\\u0631\\u064a\\u0629 \\u0648\\u0627\\u0644\\u0623\\u0639\\u0645\\u0627\\u0644 \\u0627\\u0644\\u0625\\u062f\\u0627\\u0631\\u064a\\u0629 \\u0644\\u0634\\u0631\\u0643\\u0629 \\u0646\\u0641\\u0637 \\u0627\\u0644\\u0643\\u0648\\u064a\\u062a\", \"123033/\\u062a\\u0637\\u0648\\u064a\\u0631 \\u0637\\u0628\\u0642\\u0629 \\u0641\\u0627\\u0631\\u0633 \\u0627\\u0644\\u0633\\u0641\\u0644\\u064a\\u0629 \\u0644\\u0644\\u0646\\u0641\\u0637 \\u0627\\u0644\\u062b\\u0642\\u064a\\u0644 ( \\u0627\\u0644\\u0645\\u0631\\u062d\\u0644\\u0629 \\u0627\\u0644\\u0627\\u0648\\u0644\\u0649)\", \"53851/\\u0645\\u0634\\u0631\\u0648\\u0639 \\u0627\\u0644\\u0648\\u0642\\u0648\\u062f \\u0627\\u0644\\u0628\\u0626\\u064a\\u0649 \\u0628\\u0645\\u0635\\u0641\\u0627\\u0629 \\u0645\\u064a\\u0646\\u0627\\u0621 \\u0639\\u0628\\u062f\\u0627\\u0644\\u0644\\u0647\", \"67214\", \"123033\", \"67432\", \"38103\", \"53851\", \"\", \"\", \"\", \"\", \"\"], \"type\": \"sunburst\", \"values\": [1.425, 2.0, 2.0, 2.0, 2.0, 1.425, 2.0, 2.0, 2.0, 2.0, 2.0, 2.0, 1.425, 2.0, 2.0, 2.0, 2.0, 1.425, 2.0, 2.0, 2.0, 2.0, 2.0, 1.425, 2.0]}],                        {\"coloraxis\": {\"colorbar\": {\"title\": {\"text\": \"SALARY\"}}, \"colorscale\": [[0.0, \"rgb(103,0,31)\"], [0.1, \"rgb(178,24,43)\"], [0.2, \"rgb(214,96,77)\"], [0.3, \"rgb(244,165,130)\"], [0.4, \"rgb(253,219,199)\"], [0.5, \"rgb(247,247,247)\"], [0.6, \"rgb(209,229,240)\"], [0.7, \"rgb(146,197,222)\"], [0.8, \"rgb(67,147,195)\"], [0.9, \"rgb(33,102,172)\"], [1.0, \"rgb(5,48,97)\"]]}, \"legend\": {\"tracegroupgap\": 0}, \"margin\": {\"b\": 0, \"l\": 0, \"r\": 0, \"t\": 0}, \"template\": {\"data\": {\"bar\": [{\"error_x\": {\"color\": \"#2a3f5f\"}, \"error_y\": {\"color\": \"#2a3f5f\"}, \"marker\": {\"line\": {\"color\": \"#E5ECF6\", \"width\": 0.5}}, \"type\": \"bar\"}], \"barpolar\": [{\"marker\": {\"line\": {\"color\": \"#E5ECF6\", \"width\": 0.5}}, \"type\": \"barpolar\"}], \"carpet\": [{\"aaxis\": {\"endlinecolor\": \"#2a3f5f\", \"gridcolor\": \"white\", \"linecolor\": \"white\", \"minorgridcolor\": \"white\", \"startlinecolor\": \"#2a3f5f\"}, \"baxis\": {\"endlinecolor\": \"#2a3f5f\", \"gridcolor\": \"white\", \"linecolor\": \"white\", \"minorgridcolor\": \"white\", \"startlinecolor\": \"#2a3f5f\"}, \"type\": \"carpet\"}], \"choropleth\": [{\"colorbar\": {\"outlinewidth\": 0, \"ticks\": \"\"}, \"type\": \"choropleth\"}], \"contour\": [{\"colorbar\": {\"outlinewidth\": 0, \"ticks\": \"\"}, \"colorscale\": [[0.0, \"#0d0887\"], [0.1111111111111111, \"#46039f\"], [0.2222222222222222, \"#7201a8\"], [0.3333333333333333, \"#9c179e\"], [0.4444444444444444, \"#bd3786\"], [0.5555555555555556, \"#d8576b\"], [0.6666666666666666, \"#ed7953\"], [0.7777777777777778, \"#fb9f3a\"], [0.8888888888888888, \"#fdca26\"], [1.0, \"#f0f921\"]], \"type\": \"contour\"}], \"contourcarpet\": [{\"colorbar\": {\"outlinewidth\": 0, \"ticks\": \"\"}, \"type\": \"contourcarpet\"}], \"heatmap\": [{\"colorbar\": {\"outlinewidth\": 0, \"ticks\": \"\"}, \"colorscale\": [[0.0, \"#0d0887\"], [0.1111111111111111, \"#46039f\"], [0.2222222222222222, \"#7201a8\"], [0.3333333333333333, \"#9c179e\"], [0.4444444444444444, \"#bd3786\"], [0.5555555555555556, \"#d8576b\"], [0.6666666666666666, \"#ed7953\"], [0.7777777777777778, \"#fb9f3a\"], [0.8888888888888888, \"#fdca26\"], [1.0, \"#f0f921\"]], \"type\": \"heatmap\"}], \"heatmapgl\": [{\"colorbar\": {\"outlinewidth\": 0, \"ticks\": \"\"}, \"colorscale\": [[0.0, \"#0d0887\"], [0.1111111111111111, \"#46039f\"], [0.2222222222222222, \"#7201a8\"], [0.3333333333333333, \"#9c179e\"], [0.4444444444444444, \"#bd3786\"], [0.5555555555555556, \"#d8576b\"], [0.6666666666666666, \"#ed7953\"], [0.7777777777777778, \"#fb9f3a\"], [0.8888888888888888, \"#fdca26\"], [1.0, \"#f0f921\"]], \"type\": \"heatmapgl\"}], \"histogram\": [{\"marker\": {\"colorbar\": {\"outlinewidth\": 0, \"ticks\": \"\"}}, \"type\": \"histogram\"}], \"histogram2d\": [{\"colorbar\": {\"outlinewidth\": 0, \"ticks\": \"\"}, \"colorscale\": [[0.0, \"#0d0887\"], [0.1111111111111111, \"#46039f\"], [0.2222222222222222, \"#7201a8\"], [0.3333333333333333, \"#9c179e\"], [0.4444444444444444, \"#bd3786\"], [0.5555555555555556, \"#d8576b\"], [0.6666666666666666, \"#ed7953\"], [0.7777777777777778, \"#fb9f3a\"], [0.8888888888888888, \"#fdca26\"], [1.0, \"#f0f921\"]], \"type\": \"histogram2d\"}], \"histogram2dcontour\": [{\"colorbar\": {\"outlinewidth\": 0, \"ticks\": \"\"}, \"colorscale\": [[0.0, \"#0d0887\"], [0.1111111111111111, \"#46039f\"], [0.2222222222222222, \"#7201a8\"], [0.3333333333333333, \"#9c179e\"], [0.4444444444444444, \"#bd3786\"], [0.5555555555555556, \"#d8576b\"], [0.6666666666666666, \"#ed7953\"], [0.7777777777777778, \"#fb9f3a\"], [0.8888888888888888, \"#fdca26\"], [1.0, \"#f0f921\"]], \"type\": \"histogram2dcontour\"}], \"mesh3d\": [{\"colorbar\": {\"outlinewidth\": 0, \"ticks\": \"\"}, \"type\": \"mesh3d\"}], \"parcoords\": [{\"line\": {\"colorbar\": {\"outlinewidth\": 0, \"ticks\": \"\"}}, \"type\": \"parcoords\"}], \"pie\": [{\"automargin\": true, \"type\": \"pie\"}], \"scatter\": [{\"marker\": {\"colorbar\": {\"outlinewidth\": 0, \"ticks\": \"\"}}, \"type\": \"scatter\"}], \"scatter3d\": [{\"line\": {\"colorbar\": {\"outlinewidth\": 0, \"ticks\": \"\"}}, \"marker\": {\"colorbar\": {\"outlinewidth\": 0, \"ticks\": \"\"}}, \"type\": \"scatter3d\"}], \"scattercarpet\": [{\"marker\": {\"colorbar\": {\"outlinewidth\": 0, \"ticks\": \"\"}}, \"type\": \"scattercarpet\"}], \"scattergeo\": [{\"marker\": {\"colorbar\": {\"outlinewidth\": 0, \"ticks\": \"\"}}, \"type\": \"scattergeo\"}], \"scattergl\": [{\"marker\": {\"colorbar\": {\"outlinewidth\": 0, \"ticks\": \"\"}}, \"type\": \"scattergl\"}], \"scattermapbox\": [{\"marker\": {\"colorbar\": {\"outlinewidth\": 0, \"ticks\": \"\"}}, \"type\": \"scattermapbox\"}], \"scatterpolar\": [{\"marker\": {\"colorbar\": {\"outlinewidth\": 0, \"ticks\": \"\"}}, \"type\": \"scatterpolar\"}], \"scatterpolargl\": [{\"marker\": {\"colorbar\": {\"outlinewidth\": 0, \"ticks\": \"\"}}, \"type\": \"scatterpolargl\"}], \"scatterternary\": [{\"marker\": {\"colorbar\": {\"outlinewidth\": 0, \"ticks\": \"\"}}, \"type\": \"scatterternary\"}], \"surface\": [{\"colorbar\": {\"outlinewidth\": 0, \"ticks\": \"\"}, \"colorscale\": [[0.0, \"#0d0887\"], [0.1111111111111111, \"#46039f\"], [0.2222222222222222, \"#7201a8\"], [0.3333333333333333, \"#9c179e\"], [0.4444444444444444, \"#bd3786\"], [0.5555555555555556, \"#d8576b\"], [0.6666666666666666, \"#ed7953\"], [0.7777777777777778, \"#fb9f3a\"], [0.8888888888888888, \"#fdca26\"], [1.0, \"#f0f921\"]], \"type\": \"surface\"}], \"table\": [{\"cells\": {\"fill\": {\"color\": \"#EBF0F8\"}, \"line\": {\"color\": \"white\"}}, \"header\": {\"fill\": {\"color\": \"#C8D4E3\"}, \"line\": {\"color\": \"white\"}}, \"type\": \"table\"}]}, \"layout\": {\"annotationdefaults\": {\"arrowcolor\": \"#2a3f5f\", \"arrowhead\": 0, \"arrowwidth\": 1}, \"autotypenumbers\": \"strict\", \"coloraxis\": {\"colorbar\": {\"outlinewidth\": 0, \"ticks\": \"\"}}, \"colorscale\": {\"diverging\": [[0, \"#8e0152\"], [0.1, \"#c51b7d\"], [0.2, \"#de77ae\"], [0.3, \"#f1b6da\"], [0.4, \"#fde0ef\"], [0.5, \"#f7f7f7\"], [0.6, \"#e6f5d0\"], [0.7, \"#b8e186\"], [0.8, \"#7fbc41\"], [0.9, \"#4d9221\"], [1, \"#276419\"]], \"sequential\": [[0.0, \"#0d0887\"], [0.1111111111111111, \"#46039f\"], [0.2222222222222222, \"#7201a8\"], [0.3333333333333333, \"#9c179e\"], [0.4444444444444444, \"#bd3786\"], [0.5555555555555556, \"#d8576b\"], [0.6666666666666666, \"#ed7953\"], [0.7777777777777778, \"#fb9f3a\"], [0.8888888888888888, \"#fdca26\"], [1.0, \"#f0f921\"]], \"sequentialminus\": [[0.0, \"#0d0887\"], [0.1111111111111111, \"#46039f\"], [0.2222222222222222, \"#7201a8\"], [0.3333333333333333, \"#9c179e\"], [0.4444444444444444, \"#bd3786\"], [0.5555555555555556, \"#d8576b\"], [0.6666666666666666, \"#ed7953\"], [0.7777777777777778, \"#fb9f3a\"], [0.8888888888888888, \"#fdca26\"], [1.0, \"#f0f921\"]]}, \"colorway\": [\"#636efa\", \"#EF553B\", \"#00cc96\", \"#ab63fa\", \"#FFA15A\", \"#19d3f3\", \"#FF6692\", \"#B6E880\", \"#FF97FF\", \"#FECB52\"], \"font\": {\"color\": \"#2a3f5f\"}, \"geo\": {\"bgcolor\": \"white\", \"lakecolor\": \"white\", \"landcolor\": \"#E5ECF6\", \"showlakes\": true, \"showland\": true, \"subunitcolor\": \"white\"}, \"hoverlabel\": {\"align\": \"left\"}, \"hovermode\": \"closest\", \"mapbox\": {\"style\": \"light\"}, \"paper_bgcolor\": \"white\", \"plot_bgcolor\": \"#E5ECF6\", \"polar\": {\"angularaxis\": {\"gridcolor\": \"white\", \"linecolor\": \"white\", \"ticks\": \"\"}, \"bgcolor\": \"#E5ECF6\", \"radialaxis\": {\"gridcolor\": \"white\", \"linecolor\": \"white\", \"ticks\": \"\"}}, \"scene\": {\"xaxis\": {\"backgroundcolor\": \"#E5ECF6\", \"gridcolor\": \"white\", \"gridwidth\": 2, \"linecolor\": \"white\", \"showbackground\": true, \"ticks\": \"\", \"zerolinecolor\": \"white\"}, \"yaxis\": {\"backgroundcolor\": \"#E5ECF6\", \"gridcolor\": \"white\", \"gridwidth\": 2, \"linecolor\": \"white\", \"showbackground\": true, \"ticks\": \"\", \"zerolinecolor\": \"white\"}, \"zaxis\": {\"backgroundcolor\": \"#E5ECF6\", \"gridcolor\": \"white\", \"gridwidth\": 2, \"linecolor\": \"white\", \"showbackground\": true, \"ticks\": \"\", \"zerolinecolor\": \"white\"}}, \"shapedefaults\": {\"line\": {\"color\": \"#2a3f5f\"}}, \"ternary\": {\"aaxis\": {\"gridcolor\": \"white\", \"linecolor\": \"white\", \"ticks\": \"\"}, \"baxis\": {\"gridcolor\": \"white\", \"linecolor\": \"white\", \"ticks\": \"\"}, \"bgcolor\": \"#E5ECF6\", \"caxis\": {\"gridcolor\": \"white\", \"linecolor\": \"white\", \"ticks\": \"\"}}, \"title\": {\"x\": 0.05}, \"xaxis\": {\"automargin\": true, \"gridcolor\": \"white\", \"linecolor\": \"white\", \"ticks\": \"\", \"title\": {\"standoff\": 15}, \"zerolinecolor\": \"white\", \"zerolinewidth\": 2}, \"yaxis\": {\"automargin\": true, \"gridcolor\": \"white\", \"linecolor\": \"white\", \"ticks\": \"\", \"title\": {\"standoff\": 15}, \"zerolinecolor\": \"white\", \"zerolinewidth\": 2}}}},                        {\"responsive\": true}                    ).then(function(){\n",
              "                            \n",
              "var gd = document.getElementById('485d8510-6cc2-401e-bda0-0c1aa19f746b');\n",
              "var x = new MutationObserver(function (mutations, observer) {{\n",
              "        var display = window.getComputedStyle(gd).display;\n",
              "        if (!display || display === 'none') {{\n",
              "            console.log([gd, 'removed!']);\n",
              "            Plotly.purge(gd);\n",
              "            observer.disconnect();\n",
              "        }}\n",
              "}});\n",
              "\n",
              "// Listen for the removal of the full notebook cells\n",
              "var notebookContainer = gd.closest('#notebook-container');\n",
              "if (notebookContainer) {{\n",
              "    x.observe(notebookContainer, {childList: true});\n",
              "}}\n",
              "\n",
              "// Listen for the clearing of the current output cell\n",
              "var outputEl = gd.closest('.output');\n",
              "if (outputEl) {{\n",
              "    x.observe(outputEl, {childList: true});\n",
              "}}\n",
              "\n",
              "                        })                };                            </script>        </div>\n",
              "</body>\n",
              "</html>"
            ]
          },
          "metadata": {
            "tags": []
          }
        }
      ]
    },
    {
      "cell_type": "markdown",
      "metadata": {
        "id": "e5d47a2f"
      },
      "source": [
        "#### INSIGHT \n",
        "\n",
        "**Top 5 companies:**\n",
        "\n",
        "-- offering max salary\n",
        "\n",
        "-- country situated\n",
        "\n",
        "-- Governorate\n",
        "\n",
        "-- educational level of that employee \n"
      ],
      "id": "e5d47a2f"
    },
    {
      "cell_type": "code",
      "metadata": {
        "colab": {
          "base_uri": "https://localhost:8080/",
          "height": 204
        },
        "id": "85b47fd7",
        "outputId": "47129929-8530-4152-e939-8f7c1a23f7d0"
      },
      "source": [
        "#hide_input\n",
        "insight21 = pd.DataFrame()\n",
        "insight21 = data.groupby([\"COMPANY_NAME\",\"COUNTRY_DESC\",\"GOVERNORATE_DESC\",\"EDUCATION_DESC\"])['SALARY'].max()\n",
        "insight21 = insight21.reset_index([\"COMPANY_NAME\",\"COUNTRY_DESC\",\"GOVERNORATE_DESC\",\"EDUCATION_DESC\"])\n",
        "insight21 = insight21.nlargest(5,'SALARY')\n",
        "insight21"
      ],
      "id": "85b47fd7",
      "execution_count": null,
      "outputs": [
        {
          "output_type": "execute_result",
          "data": {
            "text/html": [
              "<div>\n",
              "<style scoped>\n",
              "    .dataframe tbody tr th:only-of-type {\n",
              "        vertical-align: middle;\n",
              "    }\n",
              "\n",
              "    .dataframe tbody tr th {\n",
              "        vertical-align: top;\n",
              "    }\n",
              "\n",
              "    .dataframe thead th {\n",
              "        text-align: right;\n",
              "    }\n",
              "</style>\n",
              "<table border=\"1\" class=\"dataframe\">\n",
              "  <thead>\n",
              "    <tr style=\"text-align: right;\">\n",
              "      <th></th>\n",
              "      <th>COMPANY_NAME</th>\n",
              "      <th>COUNTRY_DESC</th>\n",
              "      <th>GOVERNORATE_DESC</th>\n",
              "      <th>EDUCATION_DESC</th>\n",
              "      <th>SALARY</th>\n",
              "    </tr>\n",
              "  </thead>\n",
              "  <tbody>\n",
              "    <tr>\n",
              "      <th>96599</th>\n",
              "      <td>بنك وربه / مساهمة العامة</td>\n",
              "      <td>الكويت</td>\n",
              "      <td>محافظة العاصمة</td>\n",
              "      <td></td>\n",
              "      <td>26000.000</td>\n",
              "    </tr>\n",
              "    <tr>\n",
              "      <th>96308</th>\n",
              "      <td>بنك الكويت الدولى</td>\n",
              "      <td>الكويت</td>\n",
              "      <td>محافظة الجهراء</td>\n",
              "      <td></td>\n",
              "      <td>25000.000</td>\n",
              "    </tr>\n",
              "    <tr>\n",
              "      <th>171334</th>\n",
              "      <td>شركة البترول الوطنية الكويتية</td>\n",
              "      <td>الهنــد</td>\n",
              "      <td>محافظة الاحمدي</td>\n",
              "      <td>جامعى</td>\n",
              "      <td>24003.485</td>\n",
              "    </tr>\n",
              "    <tr>\n",
              "      <th>53943</th>\n",
              "      <td>10808                    شركة ايكويت للبتروكيم...</td>\n",
              "      <td>الكويت</td>\n",
              "      <td>محافظة الاحمدي</td>\n",
              "      <td></td>\n",
              "      <td>22861.000</td>\n",
              "    </tr>\n",
              "    <tr>\n",
              "      <th>77732</th>\n",
              "      <td>الشركة المتحدة لصناعة الحديد</td>\n",
              "      <td>الكويت</td>\n",
              "      <td>محافظة العاصمة</td>\n",
              "      <td></td>\n",
              "      <td>20000.000</td>\n",
              "    </tr>\n",
              "  </tbody>\n",
              "</table>\n",
              "</div>"
            ],
            "text/plain": [
              "                                             COMPANY_NAME  ...     SALARY\n",
              "96599                            بنك وربه / مساهمة العامة  ...  26000.000\n",
              "96308                                   بنك الكويت الدولى  ...  25000.000\n",
              "171334                      شركة البترول الوطنية الكويتية  ...  24003.485\n",
              "53943   10808                    شركة ايكويت للبتروكيم...  ...  22861.000\n",
              "77732                        الشركة المتحدة لصناعة الحديد  ...  20000.000\n",
              "\n",
              "[5 rows x 5 columns]"
            ]
          },
          "metadata": {
            "tags": []
          },
          "execution_count": 74
        }
      ]
    },
    {
      "cell_type": "code",
      "metadata": {
        "colab": {
          "base_uri": "https://localhost:8080/",
          "height": 542
        },
        "id": "0b8ce98d",
        "outputId": "ce181c1a-d7b5-49d0-808a-7954bb0ebc41"
      },
      "source": [
        "#hide_input\n",
        "fig = px.sunburst(insight21, path=[insight21.index, \"COMPANY_NAME\",\"COUNTRY_DESC\",\"GOVERNORATE_DESC\",\"EDUCATION_DESC\"], values='SALARY',\n",
        "                  color='SALARY',\n",
        "                  color_continuous_scale='RdBu')\n",
        "\n",
        "fig.update_layout(margin = dict(t=0, l=0, r=0, b=0))\n",
        "fig.show()"
      ],
      "id": "0b8ce98d",
      "execution_count": null,
      "outputs": [
        {
          "output_type": "display_data",
          "data": {
            "text/html": [
              "<html>\n",
              "<head><meta charset=\"utf-8\" /></head>\n",
              "<body>\n",
              "    <div>            <script src=\"https://cdnjs.cloudflare.com/ajax/libs/mathjax/2.7.5/MathJax.js?config=TeX-AMS-MML_SVG\"></script><script type=\"text/javascript\">if (window.MathJax) {MathJax.Hub.Config({SVG: {font: \"STIX-Web\"}});}</script>                <script type=\"text/javascript\">window.PlotlyConfig = {MathJaxConfig: 'local'};</script>\n",
              "        <script src=\"https://cdn.plot.ly/plotly-latest.min.js\"></script>                <div id=\"696ed131-d690-4b51-981c-7ddc28cff820\" class=\"plotly-graph-div\" style=\"height:525px; width:100%;\"></div>            <script type=\"text/javascript\">                                    window.PLOTLYENV=window.PLOTLYENV || {};                                    if (document.getElementById(\"696ed131-d690-4b51-981c-7ddc28cff820\")) {                    Plotly.newPlot(                        \"696ed131-d690-4b51-981c-7ddc28cff820\",                        [{\"branchvalues\": \"total\", \"customdata\": [[22861.0], [25000.0], [20000.0], [26000.0], [24003.485], [22861.0], [24003.485], [25000.0], [20000.0], [26000.0], [22861.0], [20000.0], [25000.0], [26000.0], [24003.485], [22861.0], [20000.0], [25000.0], [26000.0], [24003.485], [22861.0], [20000.0], [25000.0], [26000.0], [24003.485]], \"domain\": {\"x\": [0.0, 1.0], \"y\": [0.0, 1.0]}, \"hovertemplate\": \"labels=%{label}<br>SALARY_sum=%{value}<br>parent=%{parent}<br>id=%{id}<br>SALARY=%{color}<extra></extra>\", \"ids\": [\"53943/10808                    \\u0634\\u0631\\u0643\\u0629 \\u0627\\u064a\\u0643\\u0648\\u064a\\u062a \\u0644\\u0644\\u0628\\u062a\\u0631\\u0648\\u0643\\u064a\\u0645\\u0627\\u0648\\u064a\\u0627\\u062a/\\u0627\\u0644\\u0643\\u0648\\u064a\\u062a/\\u0645\\u062d\\u0627\\u0641\\u0638\\u0629 \\u0627\\u0644\\u0627\\u062d\\u0645\\u062f\\u064a/\", \"96308/\\u0628\\u0646\\u0643 \\u0627\\u0644\\u0643\\u0648\\u064a\\u062a \\u0627\\u0644\\u062f\\u0648\\u0644\\u0649/\\u0627\\u0644\\u0643\\u0648\\u064a\\u062a/\\u0645\\u062d\\u0627\\u0641\\u0638\\u0629 \\u0627\\u0644\\u062c\\u0647\\u0631\\u0627\\u0621/\", \"77732/\\u0627\\u0644\\u0634\\u0631\\u0643\\u0629 \\u0627\\u0644\\u0645\\u062a\\u062d\\u062f\\u0629 \\u0644\\u0635\\u0646\\u0627\\u0639\\u0629 \\u0627\\u0644\\u062d\\u062f\\u064a\\u062f/\\u0627\\u0644\\u0643\\u0648\\u064a\\u062a/\\u0645\\u062d\\u0627\\u0641\\u0638\\u0629 \\u0627\\u0644\\u0639\\u0627\\u0635\\u0645\\u0629/\", \"96599/\\u0628\\u0646\\u0643 \\u0648\\u0631\\u0628\\u0647 / \\u0645\\u0633\\u0627\\u0647\\u0645\\u0629 \\u0627\\u0644\\u0639\\u0627\\u0645\\u0629/\\u0627\\u0644\\u0643\\u0648\\u064a\\u062a/\\u0645\\u062d\\u0627\\u0641\\u0638\\u0629 \\u0627\\u0644\\u0639\\u0627\\u0635\\u0645\\u0629/\", \"171334/\\u0634\\u0631\\u0643\\u0629 \\u0627\\u0644\\u0628\\u062a\\u0631\\u0648\\u0644 \\u0627\\u0644\\u0648\\u0637\\u0646\\u064a\\u0629 \\u0627\\u0644\\u0643\\u0648\\u064a\\u062a\\u064a\\u0629/\\u0627\\u0644\\u0647\\u0646\\u0640\\u0640\\u062f/\\u0645\\u062d\\u0627\\u0641\\u0638\\u0629 \\u0627\\u0644\\u0627\\u062d\\u0645\\u062f\\u064a/\\u062c\\u0627\\u0645\\u0639\\u0649\", \"53943/10808                    \\u0634\\u0631\\u0643\\u0629 \\u0627\\u064a\\u0643\\u0648\\u064a\\u062a \\u0644\\u0644\\u0628\\u062a\\u0631\\u0648\\u0643\\u064a\\u0645\\u0627\\u0648\\u064a\\u0627\\u062a/\\u0627\\u0644\\u0643\\u0648\\u064a\\u062a/\\u0645\\u062d\\u0627\\u0641\\u0638\\u0629 \\u0627\\u0644\\u0627\\u062d\\u0645\\u062f\\u064a\", \"171334/\\u0634\\u0631\\u0643\\u0629 \\u0627\\u0644\\u0628\\u062a\\u0631\\u0648\\u0644 \\u0627\\u0644\\u0648\\u0637\\u0646\\u064a\\u0629 \\u0627\\u0644\\u0643\\u0648\\u064a\\u062a\\u064a\\u0629/\\u0627\\u0644\\u0647\\u0646\\u0640\\u0640\\u062f/\\u0645\\u062d\\u0627\\u0641\\u0638\\u0629 \\u0627\\u0644\\u0627\\u062d\\u0645\\u062f\\u064a\", \"96308/\\u0628\\u0646\\u0643 \\u0627\\u0644\\u0643\\u0648\\u064a\\u062a \\u0627\\u0644\\u062f\\u0648\\u0644\\u0649/\\u0627\\u0644\\u0643\\u0648\\u064a\\u062a/\\u0645\\u062d\\u0627\\u0641\\u0638\\u0629 \\u0627\\u0644\\u062c\\u0647\\u0631\\u0627\\u0621\", \"77732/\\u0627\\u0644\\u0634\\u0631\\u0643\\u0629 \\u0627\\u0644\\u0645\\u062a\\u062d\\u062f\\u0629 \\u0644\\u0635\\u0646\\u0627\\u0639\\u0629 \\u0627\\u0644\\u062d\\u062f\\u064a\\u062f/\\u0627\\u0644\\u0643\\u0648\\u064a\\u062a/\\u0645\\u062d\\u0627\\u0641\\u0638\\u0629 \\u0627\\u0644\\u0639\\u0627\\u0635\\u0645\\u0629\", \"96599/\\u0628\\u0646\\u0643 \\u0648\\u0631\\u0628\\u0647 / \\u0645\\u0633\\u0627\\u0647\\u0645\\u0629 \\u0627\\u0644\\u0639\\u0627\\u0645\\u0629/\\u0627\\u0644\\u0643\\u0648\\u064a\\u062a/\\u0645\\u062d\\u0627\\u0641\\u0638\\u0629 \\u0627\\u0644\\u0639\\u0627\\u0635\\u0645\\u0629\", \"53943/10808                    \\u0634\\u0631\\u0643\\u0629 \\u0627\\u064a\\u0643\\u0648\\u064a\\u062a \\u0644\\u0644\\u0628\\u062a\\u0631\\u0648\\u0643\\u064a\\u0645\\u0627\\u0648\\u064a\\u0627\\u062a/\\u0627\\u0644\\u0643\\u0648\\u064a\\u062a\", \"77732/\\u0627\\u0644\\u0634\\u0631\\u0643\\u0629 \\u0627\\u0644\\u0645\\u062a\\u062d\\u062f\\u0629 \\u0644\\u0635\\u0646\\u0627\\u0639\\u0629 \\u0627\\u0644\\u062d\\u062f\\u064a\\u062f/\\u0627\\u0644\\u0643\\u0648\\u064a\\u062a\", \"96308/\\u0628\\u0646\\u0643 \\u0627\\u0644\\u0643\\u0648\\u064a\\u062a \\u0627\\u0644\\u062f\\u0648\\u0644\\u0649/\\u0627\\u0644\\u0643\\u0648\\u064a\\u062a\", \"96599/\\u0628\\u0646\\u0643 \\u0648\\u0631\\u0628\\u0647 / \\u0645\\u0633\\u0627\\u0647\\u0645\\u0629 \\u0627\\u0644\\u0639\\u0627\\u0645\\u0629/\\u0627\\u0644\\u0643\\u0648\\u064a\\u062a\", \"171334/\\u0634\\u0631\\u0643\\u0629 \\u0627\\u0644\\u0628\\u062a\\u0631\\u0648\\u0644 \\u0627\\u0644\\u0648\\u0637\\u0646\\u064a\\u0629 \\u0627\\u0644\\u0643\\u0648\\u064a\\u062a\\u064a\\u0629/\\u0627\\u0644\\u0647\\u0646\\u0640\\u0640\\u062f\", \"53943/10808                    \\u0634\\u0631\\u0643\\u0629 \\u0627\\u064a\\u0643\\u0648\\u064a\\u062a \\u0644\\u0644\\u0628\\u062a\\u0631\\u0648\\u0643\\u064a\\u0645\\u0627\\u0648\\u064a\\u0627\\u062a\", \"77732/\\u0627\\u0644\\u0634\\u0631\\u0643\\u0629 \\u0627\\u0644\\u0645\\u062a\\u062d\\u062f\\u0629 \\u0644\\u0635\\u0646\\u0627\\u0639\\u0629 \\u0627\\u0644\\u062d\\u062f\\u064a\\u062f\", \"96308/\\u0628\\u0646\\u0643 \\u0627\\u0644\\u0643\\u0648\\u064a\\u062a \\u0627\\u0644\\u062f\\u0648\\u0644\\u0649\", \"96599/\\u0628\\u0646\\u0643 \\u0648\\u0631\\u0628\\u0647 / \\u0645\\u0633\\u0627\\u0647\\u0645\\u0629 \\u0627\\u0644\\u0639\\u0627\\u0645\\u0629\", \"171334/\\u0634\\u0631\\u0643\\u0629 \\u0627\\u0644\\u0628\\u062a\\u0631\\u0648\\u0644 \\u0627\\u0644\\u0648\\u0637\\u0646\\u064a\\u0629 \\u0627\\u0644\\u0643\\u0648\\u064a\\u062a\\u064a\\u0629\", \"53943\", \"77732\", \"96308\", \"96599\", \"171334\"], \"labels\": [\"\", \"\", \"\", \"\", \"\\u062c\\u0627\\u0645\\u0639\\u0649\", \"\\u0645\\u062d\\u0627\\u0641\\u0638\\u0629 \\u0627\\u0644\\u0627\\u062d\\u0645\\u062f\\u064a\", \"\\u0645\\u062d\\u0627\\u0641\\u0638\\u0629 \\u0627\\u0644\\u0627\\u062d\\u0645\\u062f\\u064a\", \"\\u0645\\u062d\\u0627\\u0641\\u0638\\u0629 \\u0627\\u0644\\u062c\\u0647\\u0631\\u0627\\u0621\", \"\\u0645\\u062d\\u0627\\u0641\\u0638\\u0629 \\u0627\\u0644\\u0639\\u0627\\u0635\\u0645\\u0629\", \"\\u0645\\u062d\\u0627\\u0641\\u0638\\u0629 \\u0627\\u0644\\u0639\\u0627\\u0635\\u0645\\u0629\", \"\\u0627\\u0644\\u0643\\u0648\\u064a\\u062a\", \"\\u0627\\u0644\\u0643\\u0648\\u064a\\u062a\", \"\\u0627\\u0644\\u0643\\u0648\\u064a\\u062a\", \"\\u0627\\u0644\\u0643\\u0648\\u064a\\u062a\", \"\\u0627\\u0644\\u0647\\u0646\\u0640\\u0640\\u062f\", \"10808                    \\u0634\\u0631\\u0643\\u0629 \\u0627\\u064a\\u0643\\u0648\\u064a\\u062a \\u0644\\u0644\\u0628\\u062a\\u0631\\u0648\\u0643\\u064a\\u0645\\u0627\\u0648\\u064a\\u0627\\u062a\", \"\\u0627\\u0644\\u0634\\u0631\\u0643\\u0629 \\u0627\\u0644\\u0645\\u062a\\u062d\\u062f\\u0629 \\u0644\\u0635\\u0646\\u0627\\u0639\\u0629 \\u0627\\u0644\\u062d\\u062f\\u064a\\u062f\", \"\\u0628\\u0646\\u0643 \\u0627\\u0644\\u0643\\u0648\\u064a\\u062a \\u0627\\u0644\\u062f\\u0648\\u0644\\u0649\", \"\\u0628\\u0646\\u0643 \\u0648\\u0631\\u0628\\u0647 / \\u0645\\u0633\\u0627\\u0647\\u0645\\u0629 \\u0627\\u0644\\u0639\\u0627\\u0645\\u0629\", \"\\u0634\\u0631\\u0643\\u0629 \\u0627\\u0644\\u0628\\u062a\\u0631\\u0648\\u0644 \\u0627\\u0644\\u0648\\u0637\\u0646\\u064a\\u0629 \\u0627\\u0644\\u0643\\u0648\\u064a\\u062a\\u064a\\u0629\", \"53943\", \"77732\", \"96308\", \"96599\", \"171334\"], \"marker\": {\"coloraxis\": \"coloraxis\", \"colors\": [22861.0, 25000.0, 20000.0, 26000.0, 24003.485, 22861.0, 24003.485, 25000.0, 20000.0, 26000.0, 22861.0, 20000.0, 25000.0, 26000.0, 24003.485, 22861.0, 20000.0, 25000.0, 26000.0, 24003.485, 22861.0, 20000.0, 25000.0, 26000.0, 24003.485]}, \"name\": \"\", \"parents\": [\"53943/10808                    \\u0634\\u0631\\u0643\\u0629 \\u0627\\u064a\\u0643\\u0648\\u064a\\u062a \\u0644\\u0644\\u0628\\u062a\\u0631\\u0648\\u0643\\u064a\\u0645\\u0627\\u0648\\u064a\\u0627\\u062a/\\u0627\\u0644\\u0643\\u0648\\u064a\\u062a/\\u0645\\u062d\\u0627\\u0641\\u0638\\u0629 \\u0627\\u0644\\u0627\\u062d\\u0645\\u062f\\u064a\", \"96308/\\u0628\\u0646\\u0643 \\u0627\\u0644\\u0643\\u0648\\u064a\\u062a \\u0627\\u0644\\u062f\\u0648\\u0644\\u0649/\\u0627\\u0644\\u0643\\u0648\\u064a\\u062a/\\u0645\\u062d\\u0627\\u0641\\u0638\\u0629 \\u0627\\u0644\\u062c\\u0647\\u0631\\u0627\\u0621\", \"77732/\\u0627\\u0644\\u0634\\u0631\\u0643\\u0629 \\u0627\\u0644\\u0645\\u062a\\u062d\\u062f\\u0629 \\u0644\\u0635\\u0646\\u0627\\u0639\\u0629 \\u0627\\u0644\\u062d\\u062f\\u064a\\u062f/\\u0627\\u0644\\u0643\\u0648\\u064a\\u062a/\\u0645\\u062d\\u0627\\u0641\\u0638\\u0629 \\u0627\\u0644\\u0639\\u0627\\u0635\\u0645\\u0629\", \"96599/\\u0628\\u0646\\u0643 \\u0648\\u0631\\u0628\\u0647 / \\u0645\\u0633\\u0627\\u0647\\u0645\\u0629 \\u0627\\u0644\\u0639\\u0627\\u0645\\u0629/\\u0627\\u0644\\u0643\\u0648\\u064a\\u062a/\\u0645\\u062d\\u0627\\u0641\\u0638\\u0629 \\u0627\\u0644\\u0639\\u0627\\u0635\\u0645\\u0629\", \"171334/\\u0634\\u0631\\u0643\\u0629 \\u0627\\u0644\\u0628\\u062a\\u0631\\u0648\\u0644 \\u0627\\u0644\\u0648\\u0637\\u0646\\u064a\\u0629 \\u0627\\u0644\\u0643\\u0648\\u064a\\u062a\\u064a\\u0629/\\u0627\\u0644\\u0647\\u0646\\u0640\\u0640\\u062f/\\u0645\\u062d\\u0627\\u0641\\u0638\\u0629 \\u0627\\u0644\\u0627\\u062d\\u0645\\u062f\\u064a\", \"53943/10808                    \\u0634\\u0631\\u0643\\u0629 \\u0627\\u064a\\u0643\\u0648\\u064a\\u062a \\u0644\\u0644\\u0628\\u062a\\u0631\\u0648\\u0643\\u064a\\u0645\\u0627\\u0648\\u064a\\u0627\\u062a/\\u0627\\u0644\\u0643\\u0648\\u064a\\u062a\", \"171334/\\u0634\\u0631\\u0643\\u0629 \\u0627\\u0644\\u0628\\u062a\\u0631\\u0648\\u0644 \\u0627\\u0644\\u0648\\u0637\\u0646\\u064a\\u0629 \\u0627\\u0644\\u0643\\u0648\\u064a\\u062a\\u064a\\u0629/\\u0627\\u0644\\u0647\\u0646\\u0640\\u0640\\u062f\", \"96308/\\u0628\\u0646\\u0643 \\u0627\\u0644\\u0643\\u0648\\u064a\\u062a \\u0627\\u0644\\u062f\\u0648\\u0644\\u0649/\\u0627\\u0644\\u0643\\u0648\\u064a\\u062a\", \"77732/\\u0627\\u0644\\u0634\\u0631\\u0643\\u0629 \\u0627\\u0644\\u0645\\u062a\\u062d\\u062f\\u0629 \\u0644\\u0635\\u0646\\u0627\\u0639\\u0629 \\u0627\\u0644\\u062d\\u062f\\u064a\\u062f/\\u0627\\u0644\\u0643\\u0648\\u064a\\u062a\", \"96599/\\u0628\\u0646\\u0643 \\u0648\\u0631\\u0628\\u0647 / \\u0645\\u0633\\u0627\\u0647\\u0645\\u0629 \\u0627\\u0644\\u0639\\u0627\\u0645\\u0629/\\u0627\\u0644\\u0643\\u0648\\u064a\\u062a\", \"53943/10808                    \\u0634\\u0631\\u0643\\u0629 \\u0627\\u064a\\u0643\\u0648\\u064a\\u062a \\u0644\\u0644\\u0628\\u062a\\u0631\\u0648\\u0643\\u064a\\u0645\\u0627\\u0648\\u064a\\u0627\\u062a\", \"77732/\\u0627\\u0644\\u0634\\u0631\\u0643\\u0629 \\u0627\\u0644\\u0645\\u062a\\u062d\\u062f\\u0629 \\u0644\\u0635\\u0646\\u0627\\u0639\\u0629 \\u0627\\u0644\\u062d\\u062f\\u064a\\u062f\", \"96308/\\u0628\\u0646\\u0643 \\u0627\\u0644\\u0643\\u0648\\u064a\\u062a \\u0627\\u0644\\u062f\\u0648\\u0644\\u0649\", \"96599/\\u0628\\u0646\\u0643 \\u0648\\u0631\\u0628\\u0647 / \\u0645\\u0633\\u0627\\u0647\\u0645\\u0629 \\u0627\\u0644\\u0639\\u0627\\u0645\\u0629\", \"171334/\\u0634\\u0631\\u0643\\u0629 \\u0627\\u0644\\u0628\\u062a\\u0631\\u0648\\u0644 \\u0627\\u0644\\u0648\\u0637\\u0646\\u064a\\u0629 \\u0627\\u0644\\u0643\\u0648\\u064a\\u062a\\u064a\\u0629\", \"53943\", \"77732\", \"96308\", \"96599\", \"171334\", \"\", \"\", \"\", \"\", \"\"], \"type\": \"sunburst\", \"values\": [22861.0, 25000.0, 20000.0, 26000.0, 24003.485, 22861.0, 24003.485, 25000.0, 20000.0, 26000.0, 22861.0, 20000.0, 25000.0, 26000.0, 24003.485, 22861.0, 20000.0, 25000.0, 26000.0, 24003.485, 22861.0, 20000.0, 25000.0, 26000.0, 24003.485]}],                        {\"coloraxis\": {\"colorbar\": {\"title\": {\"text\": \"SALARY\"}}, \"colorscale\": [[0.0, \"rgb(103,0,31)\"], [0.1, \"rgb(178,24,43)\"], [0.2, \"rgb(214,96,77)\"], [0.3, \"rgb(244,165,130)\"], [0.4, \"rgb(253,219,199)\"], [0.5, \"rgb(247,247,247)\"], [0.6, \"rgb(209,229,240)\"], [0.7, \"rgb(146,197,222)\"], [0.8, \"rgb(67,147,195)\"], [0.9, \"rgb(33,102,172)\"], [1.0, \"rgb(5,48,97)\"]]}, \"legend\": {\"tracegroupgap\": 0}, \"margin\": {\"b\": 0, \"l\": 0, \"r\": 0, \"t\": 0}, \"template\": {\"data\": {\"bar\": [{\"error_x\": {\"color\": \"#2a3f5f\"}, \"error_y\": {\"color\": \"#2a3f5f\"}, \"marker\": {\"line\": {\"color\": \"#E5ECF6\", \"width\": 0.5}}, \"type\": \"bar\"}], \"barpolar\": [{\"marker\": {\"line\": {\"color\": \"#E5ECF6\", \"width\": 0.5}}, \"type\": \"barpolar\"}], \"carpet\": [{\"aaxis\": {\"endlinecolor\": \"#2a3f5f\", \"gridcolor\": \"white\", \"linecolor\": \"white\", \"minorgridcolor\": \"white\", \"startlinecolor\": \"#2a3f5f\"}, \"baxis\": {\"endlinecolor\": \"#2a3f5f\", \"gridcolor\": \"white\", \"linecolor\": \"white\", \"minorgridcolor\": \"white\", \"startlinecolor\": \"#2a3f5f\"}, \"type\": \"carpet\"}], \"choropleth\": [{\"colorbar\": {\"outlinewidth\": 0, \"ticks\": \"\"}, \"type\": \"choropleth\"}], \"contour\": [{\"colorbar\": {\"outlinewidth\": 0, \"ticks\": \"\"}, \"colorscale\": [[0.0, \"#0d0887\"], [0.1111111111111111, \"#46039f\"], [0.2222222222222222, \"#7201a8\"], [0.3333333333333333, \"#9c179e\"], [0.4444444444444444, \"#bd3786\"], [0.5555555555555556, \"#d8576b\"], [0.6666666666666666, \"#ed7953\"], [0.7777777777777778, \"#fb9f3a\"], [0.8888888888888888, \"#fdca26\"], [1.0, \"#f0f921\"]], \"type\": \"contour\"}], \"contourcarpet\": [{\"colorbar\": {\"outlinewidth\": 0, \"ticks\": \"\"}, \"type\": \"contourcarpet\"}], \"heatmap\": [{\"colorbar\": {\"outlinewidth\": 0, \"ticks\": \"\"}, \"colorscale\": [[0.0, \"#0d0887\"], [0.1111111111111111, \"#46039f\"], [0.2222222222222222, \"#7201a8\"], [0.3333333333333333, \"#9c179e\"], [0.4444444444444444, \"#bd3786\"], [0.5555555555555556, \"#d8576b\"], [0.6666666666666666, \"#ed7953\"], [0.7777777777777778, \"#fb9f3a\"], [0.8888888888888888, \"#fdca26\"], [1.0, \"#f0f921\"]], \"type\": \"heatmap\"}], \"heatmapgl\": [{\"colorbar\": {\"outlinewidth\": 0, \"ticks\": \"\"}, \"colorscale\": [[0.0, \"#0d0887\"], [0.1111111111111111, \"#46039f\"], [0.2222222222222222, \"#7201a8\"], [0.3333333333333333, \"#9c179e\"], [0.4444444444444444, \"#bd3786\"], [0.5555555555555556, \"#d8576b\"], [0.6666666666666666, \"#ed7953\"], [0.7777777777777778, \"#fb9f3a\"], [0.8888888888888888, \"#fdca26\"], [1.0, \"#f0f921\"]], \"type\": \"heatmapgl\"}], \"histogram\": [{\"marker\": {\"colorbar\": {\"outlinewidth\": 0, \"ticks\": \"\"}}, \"type\": \"histogram\"}], \"histogram2d\": [{\"colorbar\": {\"outlinewidth\": 0, \"ticks\": \"\"}, \"colorscale\": [[0.0, \"#0d0887\"], [0.1111111111111111, \"#46039f\"], [0.2222222222222222, \"#7201a8\"], [0.3333333333333333, \"#9c179e\"], [0.4444444444444444, \"#bd3786\"], [0.5555555555555556, \"#d8576b\"], [0.6666666666666666, \"#ed7953\"], [0.7777777777777778, \"#fb9f3a\"], [0.8888888888888888, \"#fdca26\"], [1.0, \"#f0f921\"]], \"type\": \"histogram2d\"}], \"histogram2dcontour\": [{\"colorbar\": {\"outlinewidth\": 0, \"ticks\": \"\"}, \"colorscale\": [[0.0, \"#0d0887\"], [0.1111111111111111, \"#46039f\"], [0.2222222222222222, \"#7201a8\"], [0.3333333333333333, \"#9c179e\"], [0.4444444444444444, \"#bd3786\"], [0.5555555555555556, \"#d8576b\"], [0.6666666666666666, \"#ed7953\"], [0.7777777777777778, \"#fb9f3a\"], [0.8888888888888888, \"#fdca26\"], [1.0, \"#f0f921\"]], \"type\": \"histogram2dcontour\"}], \"mesh3d\": [{\"colorbar\": {\"outlinewidth\": 0, \"ticks\": \"\"}, \"type\": \"mesh3d\"}], \"parcoords\": [{\"line\": {\"colorbar\": {\"outlinewidth\": 0, \"ticks\": \"\"}}, \"type\": \"parcoords\"}], \"pie\": [{\"automargin\": true, \"type\": \"pie\"}], \"scatter\": [{\"marker\": {\"colorbar\": {\"outlinewidth\": 0, \"ticks\": \"\"}}, \"type\": \"scatter\"}], \"scatter3d\": [{\"line\": {\"colorbar\": {\"outlinewidth\": 0, \"ticks\": \"\"}}, \"marker\": {\"colorbar\": {\"outlinewidth\": 0, \"ticks\": \"\"}}, \"type\": \"scatter3d\"}], \"scattercarpet\": [{\"marker\": {\"colorbar\": {\"outlinewidth\": 0, \"ticks\": \"\"}}, \"type\": \"scattercarpet\"}], \"scattergeo\": [{\"marker\": {\"colorbar\": {\"outlinewidth\": 0, \"ticks\": \"\"}}, \"type\": \"scattergeo\"}], \"scattergl\": [{\"marker\": {\"colorbar\": {\"outlinewidth\": 0, \"ticks\": \"\"}}, \"type\": \"scattergl\"}], \"scattermapbox\": [{\"marker\": {\"colorbar\": {\"outlinewidth\": 0, \"ticks\": \"\"}}, \"type\": \"scattermapbox\"}], \"scatterpolar\": [{\"marker\": {\"colorbar\": {\"outlinewidth\": 0, \"ticks\": \"\"}}, \"type\": \"scatterpolar\"}], \"scatterpolargl\": [{\"marker\": {\"colorbar\": {\"outlinewidth\": 0, \"ticks\": \"\"}}, \"type\": \"scatterpolargl\"}], \"scatterternary\": [{\"marker\": {\"colorbar\": {\"outlinewidth\": 0, \"ticks\": \"\"}}, \"type\": \"scatterternary\"}], \"surface\": [{\"colorbar\": {\"outlinewidth\": 0, \"ticks\": \"\"}, \"colorscale\": [[0.0, \"#0d0887\"], [0.1111111111111111, \"#46039f\"], [0.2222222222222222, \"#7201a8\"], [0.3333333333333333, \"#9c179e\"], [0.4444444444444444, \"#bd3786\"], [0.5555555555555556, \"#d8576b\"], [0.6666666666666666, \"#ed7953\"], [0.7777777777777778, \"#fb9f3a\"], [0.8888888888888888, \"#fdca26\"], [1.0, \"#f0f921\"]], \"type\": \"surface\"}], \"table\": [{\"cells\": {\"fill\": {\"color\": \"#EBF0F8\"}, \"line\": {\"color\": \"white\"}}, \"header\": {\"fill\": {\"color\": \"#C8D4E3\"}, \"line\": {\"color\": \"white\"}}, \"type\": \"table\"}]}, \"layout\": {\"annotationdefaults\": {\"arrowcolor\": \"#2a3f5f\", \"arrowhead\": 0, \"arrowwidth\": 1}, \"autotypenumbers\": \"strict\", \"coloraxis\": {\"colorbar\": {\"outlinewidth\": 0, \"ticks\": \"\"}}, \"colorscale\": {\"diverging\": [[0, \"#8e0152\"], [0.1, \"#c51b7d\"], [0.2, \"#de77ae\"], [0.3, \"#f1b6da\"], [0.4, \"#fde0ef\"], [0.5, \"#f7f7f7\"], [0.6, \"#e6f5d0\"], [0.7, \"#b8e186\"], [0.8, \"#7fbc41\"], [0.9, \"#4d9221\"], [1, \"#276419\"]], \"sequential\": [[0.0, \"#0d0887\"], [0.1111111111111111, \"#46039f\"], [0.2222222222222222, \"#7201a8\"], [0.3333333333333333, \"#9c179e\"], [0.4444444444444444, \"#bd3786\"], [0.5555555555555556, \"#d8576b\"], [0.6666666666666666, \"#ed7953\"], [0.7777777777777778, \"#fb9f3a\"], [0.8888888888888888, \"#fdca26\"], [1.0, \"#f0f921\"]], \"sequentialminus\": [[0.0, \"#0d0887\"], [0.1111111111111111, \"#46039f\"], [0.2222222222222222, \"#7201a8\"], [0.3333333333333333, \"#9c179e\"], [0.4444444444444444, \"#bd3786\"], [0.5555555555555556, \"#d8576b\"], [0.6666666666666666, \"#ed7953\"], [0.7777777777777778, \"#fb9f3a\"], [0.8888888888888888, \"#fdca26\"], [1.0, \"#f0f921\"]]}, \"colorway\": [\"#636efa\", \"#EF553B\", \"#00cc96\", \"#ab63fa\", \"#FFA15A\", \"#19d3f3\", \"#FF6692\", \"#B6E880\", \"#FF97FF\", \"#FECB52\"], \"font\": {\"color\": \"#2a3f5f\"}, \"geo\": {\"bgcolor\": \"white\", \"lakecolor\": \"white\", \"landcolor\": \"#E5ECF6\", \"showlakes\": true, \"showland\": true, \"subunitcolor\": \"white\"}, \"hoverlabel\": {\"align\": \"left\"}, \"hovermode\": \"closest\", \"mapbox\": {\"style\": \"light\"}, \"paper_bgcolor\": \"white\", \"plot_bgcolor\": \"#E5ECF6\", \"polar\": {\"angularaxis\": {\"gridcolor\": \"white\", \"linecolor\": \"white\", \"ticks\": \"\"}, \"bgcolor\": \"#E5ECF6\", \"radialaxis\": {\"gridcolor\": \"white\", \"linecolor\": \"white\", \"ticks\": \"\"}}, \"scene\": {\"xaxis\": {\"backgroundcolor\": \"#E5ECF6\", \"gridcolor\": \"white\", \"gridwidth\": 2, \"linecolor\": \"white\", \"showbackground\": true, \"ticks\": \"\", \"zerolinecolor\": \"white\"}, \"yaxis\": {\"backgroundcolor\": \"#E5ECF6\", \"gridcolor\": \"white\", \"gridwidth\": 2, \"linecolor\": \"white\", \"showbackground\": true, \"ticks\": \"\", \"zerolinecolor\": \"white\"}, \"zaxis\": {\"backgroundcolor\": \"#E5ECF6\", \"gridcolor\": \"white\", \"gridwidth\": 2, \"linecolor\": \"white\", \"showbackground\": true, \"ticks\": \"\", \"zerolinecolor\": \"white\"}}, \"shapedefaults\": {\"line\": {\"color\": \"#2a3f5f\"}}, \"ternary\": {\"aaxis\": {\"gridcolor\": \"white\", \"linecolor\": \"white\", \"ticks\": \"\"}, \"baxis\": {\"gridcolor\": \"white\", \"linecolor\": \"white\", \"ticks\": \"\"}, \"bgcolor\": \"#E5ECF6\", \"caxis\": {\"gridcolor\": \"white\", \"linecolor\": \"white\", \"ticks\": \"\"}}, \"title\": {\"x\": 0.05}, \"xaxis\": {\"automargin\": true, \"gridcolor\": \"white\", \"linecolor\": \"white\", \"ticks\": \"\", \"title\": {\"standoff\": 15}, \"zerolinecolor\": \"white\", \"zerolinewidth\": 2}, \"yaxis\": {\"automargin\": true, \"gridcolor\": \"white\", \"linecolor\": \"white\", \"ticks\": \"\", \"title\": {\"standoff\": 15}, \"zerolinecolor\": \"white\", \"zerolinewidth\": 2}}}},                        {\"responsive\": true}                    ).then(function(){\n",
              "                            \n",
              "var gd = document.getElementById('696ed131-d690-4b51-981c-7ddc28cff820');\n",
              "var x = new MutationObserver(function (mutations, observer) {{\n",
              "        var display = window.getComputedStyle(gd).display;\n",
              "        if (!display || display === 'none') {{\n",
              "            console.log([gd, 'removed!']);\n",
              "            Plotly.purge(gd);\n",
              "            observer.disconnect();\n",
              "        }}\n",
              "}});\n",
              "\n",
              "// Listen for the removal of the full notebook cells\n",
              "var notebookContainer = gd.closest('#notebook-container');\n",
              "if (notebookContainer) {{\n",
              "    x.observe(notebookContainer, {childList: true});\n",
              "}}\n",
              "\n",
              "// Listen for the clearing of the current output cell\n",
              "var outputEl = gd.closest('.output');\n",
              "if (outputEl) {{\n",
              "    x.observe(outputEl, {childList: true});\n",
              "}}\n",
              "\n",
              "                        })                };                            </script>        </div>\n",
              "</body>\n",
              "</html>"
            ]
          },
          "metadata": {
            "tags": []
          }
        }
      ]
    },
    {
      "cell_type": "markdown",
      "metadata": {
        "id": "39d4bf9b"
      },
      "source": [
        "#### INSIGHT \n",
        "\n",
        "**Last 5 companies:**\n",
        "\n",
        "-- offering min salary\n",
        "\n",
        "-- country situated\n",
        "\n",
        "-- Governorate\n",
        "\n",
        "-- educational level of that employee \n"
      ],
      "id": "39d4bf9b"
    },
    {
      "cell_type": "code",
      "metadata": {
        "colab": {
          "base_uri": "https://localhost:8080/",
          "height": 204
        },
        "id": "b12958af",
        "outputId": "50efb149-f861-43df-a78b-e3ad49649f7c"
      },
      "source": [
        "#hide_input\n",
        "insight22 = pd.DataFrame()\n",
        "insight22 = data.groupby([\"COMPANY_NAME\",\"COUNTRY_DESC\",\"GOVERNORATE_DESC\",\"EDUCATION_DESC\"])['SALARY'].min()\n",
        "insight22 = insight22.reset_index([\"COMPANY_NAME\",\"COUNTRY_DESC\",\"GOVERNORATE_DESC\",\"EDUCATION_DESC\"])\n",
        "insight22 = insight22.nsmallest(5,'SALARY')\n",
        "insight22"
      ],
      "id": "b12958af",
      "execution_count": null,
      "outputs": [
        {
          "output_type": "execute_result",
          "data": {
            "text/html": [
              "<div>\n",
              "<style scoped>\n",
              "    .dataframe tbody tr th:only-of-type {\n",
              "        vertical-align: middle;\n",
              "    }\n",
              "\n",
              "    .dataframe tbody tr th {\n",
              "        vertical-align: top;\n",
              "    }\n",
              "\n",
              "    .dataframe thead th {\n",
              "        text-align: right;\n",
              "    }\n",
              "</style>\n",
              "<table border=\"1\" class=\"dataframe\">\n",
              "  <thead>\n",
              "    <tr style=\"text-align: right;\">\n",
              "      <th></th>\n",
              "      <th>COMPANY_NAME</th>\n",
              "      <th>COUNTRY_DESC</th>\n",
              "      <th>GOVERNORATE_DESC</th>\n",
              "      <th>EDUCATION_DESC</th>\n",
              "      <th>SALARY</th>\n",
              "    </tr>\n",
              "  </thead>\n",
              "  <tbody>\n",
              "    <tr>\n",
              "      <th>120891</th>\n",
              "      <td>توفير الدعم لأعمال السكرتارية والأعمال الإداري...</td>\n",
              "      <td>لبنــان</td>\n",
              "      <td>العقود الحكومية</td>\n",
              "      <td>ثانوية</td>\n",
              "      <td>1.425</td>\n",
              "    </tr>\n",
              "    <tr>\n",
              "      <th>115621</th>\n",
              "      <td>تطوير طبقة فارس السفلية للنفط الثقيل ( المرحلة...</td>\n",
              "      <td>الهنــد</td>\n",
              "      <td>العقود الحكومية</td>\n",
              "      <td>متوسط</td>\n",
              "      <td>2.000</td>\n",
              "    </tr>\n",
              "    <tr>\n",
              "      <th>115641</th>\n",
              "      <td>تطوير طبقة فارس السفلية للنفط الثقيل ( المرحلة...</td>\n",
              "      <td>نيبال</td>\n",
              "      <td>العقود الحكومية</td>\n",
              "      <td>متوسط</td>\n",
              "      <td>2.000</td>\n",
              "    </tr>\n",
              "    <tr>\n",
              "      <th>417894</th>\n",
              "      <td>مشروع الوقود البئيى بمصفاة ميناء عبدالله</td>\n",
              "      <td>الهنــد</td>\n",
              "      <td>العقود الحكومية</td>\n",
              "      <td>متوسط</td>\n",
              "      <td>2.000</td>\n",
              "    </tr>\n",
              "    <tr>\n",
              "      <th>417927</th>\n",
              "      <td>مشروع الوقود البئيى بمصفاة ميناء عبدالله</td>\n",
              "      <td>نيبال</td>\n",
              "      <td>العقود الحكومية</td>\n",
              "      <td>متوسط</td>\n",
              "      <td>2.000</td>\n",
              "    </tr>\n",
              "  </tbody>\n",
              "</table>\n",
              "</div>"
            ],
            "text/plain": [
              "                                             COMPANY_NAME  ... SALARY\n",
              "120891  توفير الدعم لأعمال السكرتارية والأعمال الإداري...  ...  1.425\n",
              "115621  تطوير طبقة فارس السفلية للنفط الثقيل ( المرحلة...  ...  2.000\n",
              "115641  تطوير طبقة فارس السفلية للنفط الثقيل ( المرحلة...  ...  2.000\n",
              "417894           مشروع الوقود البئيى بمصفاة ميناء عبدالله  ...  2.000\n",
              "417927           مشروع الوقود البئيى بمصفاة ميناء عبدالله  ...  2.000\n",
              "\n",
              "[5 rows x 5 columns]"
            ]
          },
          "metadata": {
            "tags": []
          },
          "execution_count": 76
        }
      ]
    },
    {
      "cell_type": "code",
      "metadata": {
        "colab": {
          "base_uri": "https://localhost:8080/",
          "height": 542
        },
        "id": "0f808c49",
        "outputId": "27beaf3c-5563-4a77-d6b7-36215c49d068"
      },
      "source": [
        "#hide_input\n",
        "fig = px.sunburst(insight21, path=[insight22.index, \"COMPANY_NAME\",\"COUNTRY_DESC\",\"GOVERNORATE_DESC\",\"EDUCATION_DESC\"], values='SALARY',\n",
        "                  color='SALARY',\n",
        "                  color_continuous_scale='RdBu')\n",
        "\n",
        "fig.update_layout(margin = dict(t=0, l=0, r=0, b=0))\n",
        "fig.show()"
      ],
      "id": "0f808c49",
      "execution_count": null,
      "outputs": [
        {
          "output_type": "display_data",
          "data": {
            "text/html": [
              "<html>\n",
              "<head><meta charset=\"utf-8\" /></head>\n",
              "<body>\n",
              "    <div>            <script src=\"https://cdnjs.cloudflare.com/ajax/libs/mathjax/2.7.5/MathJax.js?config=TeX-AMS-MML_SVG\"></script><script type=\"text/javascript\">if (window.MathJax) {MathJax.Hub.Config({SVG: {font: \"STIX-Web\"}});}</script>                <script type=\"text/javascript\">window.PlotlyConfig = {MathJaxConfig: 'local'};</script>\n",
              "        <script src=\"https://cdn.plot.ly/plotly-latest.min.js\"></script>                <div id=\"e41660a9-b355-46c1-9cbb-20bb191b2d5c\" class=\"plotly-graph-div\" style=\"height:525px; width:100%;\"></div>            <script type=\"text/javascript\">                                    window.PLOTLYENV=window.PLOTLYENV || {};                                    if (document.getElementById(\"e41660a9-b355-46c1-9cbb-20bb191b2d5c\")) {                    Plotly.newPlot(                        \"e41660a9-b355-46c1-9cbb-20bb191b2d5c\",                        [{\"branchvalues\": \"total\", \"customdata\": [[22861.0], [25000.0], [20000.0], [26000.0], [24003.485], [22861.0], [24003.485], [25000.0], [20000.0], [26000.0], [22861.0], [20000.0], [25000.0], [26000.0], [24003.485], [22861.0], [20000.0], [25000.0], [26000.0], [24003.485], [25000.0], [24003.485], [26000.0], [22861.0], [20000.0]], \"domain\": {\"x\": [0.0, 1.0], \"y\": [0.0, 1.0]}, \"hovertemplate\": \"labels=%{label}<br>SALARY_sum=%{value}<br>parent=%{parent}<br>id=%{id}<br>SALARY=%{color}<extra></extra>\", \"ids\": [\"417894/10808                    \\u0634\\u0631\\u0643\\u0629 \\u0627\\u064a\\u0643\\u0648\\u064a\\u062a \\u0644\\u0644\\u0628\\u062a\\u0631\\u0648\\u0643\\u064a\\u0645\\u0627\\u0648\\u064a\\u0627\\u062a/\\u0627\\u0644\\u0643\\u0648\\u064a\\u062a/\\u0645\\u062d\\u0627\\u0641\\u0638\\u0629 \\u0627\\u0644\\u0627\\u062d\\u0645\\u062f\\u064a/\", \"115621/\\u0628\\u0646\\u0643 \\u0627\\u0644\\u0643\\u0648\\u064a\\u062a \\u0627\\u0644\\u062f\\u0648\\u0644\\u0649/\\u0627\\u0644\\u0643\\u0648\\u064a\\u062a/\\u0645\\u062d\\u0627\\u0641\\u0638\\u0629 \\u0627\\u0644\\u062c\\u0647\\u0631\\u0627\\u0621/\", \"417927/\\u0627\\u0644\\u0634\\u0631\\u0643\\u0629 \\u0627\\u0644\\u0645\\u062a\\u062d\\u062f\\u0629 \\u0644\\u0635\\u0646\\u0627\\u0639\\u0629 \\u0627\\u0644\\u062d\\u062f\\u064a\\u062f/\\u0627\\u0644\\u0643\\u0648\\u064a\\u062a/\\u0645\\u062d\\u0627\\u0641\\u0638\\u0629 \\u0627\\u0644\\u0639\\u0627\\u0635\\u0645\\u0629/\", \"120891/\\u0628\\u0646\\u0643 \\u0648\\u0631\\u0628\\u0647 / \\u0645\\u0633\\u0627\\u0647\\u0645\\u0629 \\u0627\\u0644\\u0639\\u0627\\u0645\\u0629/\\u0627\\u0644\\u0643\\u0648\\u064a\\u062a/\\u0645\\u062d\\u0627\\u0641\\u0638\\u0629 \\u0627\\u0644\\u0639\\u0627\\u0635\\u0645\\u0629/\", \"115641/\\u0634\\u0631\\u0643\\u0629 \\u0627\\u0644\\u0628\\u062a\\u0631\\u0648\\u0644 \\u0627\\u0644\\u0648\\u0637\\u0646\\u064a\\u0629 \\u0627\\u0644\\u0643\\u0648\\u064a\\u062a\\u064a\\u0629/\\u0627\\u0644\\u0647\\u0646\\u0640\\u0640\\u062f/\\u0645\\u062d\\u0627\\u0641\\u0638\\u0629 \\u0627\\u0644\\u0627\\u062d\\u0645\\u062f\\u064a/\\u062c\\u0627\\u0645\\u0639\\u0649\", \"417894/10808                    \\u0634\\u0631\\u0643\\u0629 \\u0627\\u064a\\u0643\\u0648\\u064a\\u062a \\u0644\\u0644\\u0628\\u062a\\u0631\\u0648\\u0643\\u064a\\u0645\\u0627\\u0648\\u064a\\u0627\\u062a/\\u0627\\u0644\\u0643\\u0648\\u064a\\u062a/\\u0645\\u062d\\u0627\\u0641\\u0638\\u0629 \\u0627\\u0644\\u0627\\u062d\\u0645\\u062f\\u064a\", \"115641/\\u0634\\u0631\\u0643\\u0629 \\u0627\\u0644\\u0628\\u062a\\u0631\\u0648\\u0644 \\u0627\\u0644\\u0648\\u0637\\u0646\\u064a\\u0629 \\u0627\\u0644\\u0643\\u0648\\u064a\\u062a\\u064a\\u0629/\\u0627\\u0644\\u0647\\u0646\\u0640\\u0640\\u062f/\\u0645\\u062d\\u0627\\u0641\\u0638\\u0629 \\u0627\\u0644\\u0627\\u062d\\u0645\\u062f\\u064a\", \"115621/\\u0628\\u0646\\u0643 \\u0627\\u0644\\u0643\\u0648\\u064a\\u062a \\u0627\\u0644\\u062f\\u0648\\u0644\\u0649/\\u0627\\u0644\\u0643\\u0648\\u064a\\u062a/\\u0645\\u062d\\u0627\\u0641\\u0638\\u0629 \\u0627\\u0644\\u062c\\u0647\\u0631\\u0627\\u0621\", \"417927/\\u0627\\u0644\\u0634\\u0631\\u0643\\u0629 \\u0627\\u0644\\u0645\\u062a\\u062d\\u062f\\u0629 \\u0644\\u0635\\u0646\\u0627\\u0639\\u0629 \\u0627\\u0644\\u062d\\u062f\\u064a\\u062f/\\u0627\\u0644\\u0643\\u0648\\u064a\\u062a/\\u0645\\u062d\\u0627\\u0641\\u0638\\u0629 \\u0627\\u0644\\u0639\\u0627\\u0635\\u0645\\u0629\", \"120891/\\u0628\\u0646\\u0643 \\u0648\\u0631\\u0628\\u0647 / \\u0645\\u0633\\u0627\\u0647\\u0645\\u0629 \\u0627\\u0644\\u0639\\u0627\\u0645\\u0629/\\u0627\\u0644\\u0643\\u0648\\u064a\\u062a/\\u0645\\u062d\\u0627\\u0641\\u0638\\u0629 \\u0627\\u0644\\u0639\\u0627\\u0635\\u0645\\u0629\", \"417894/10808                    \\u0634\\u0631\\u0643\\u0629 \\u0627\\u064a\\u0643\\u0648\\u064a\\u062a \\u0644\\u0644\\u0628\\u062a\\u0631\\u0648\\u0643\\u064a\\u0645\\u0627\\u0648\\u064a\\u0627\\u062a/\\u0627\\u0644\\u0643\\u0648\\u064a\\u062a\", \"417927/\\u0627\\u0644\\u0634\\u0631\\u0643\\u0629 \\u0627\\u0644\\u0645\\u062a\\u062d\\u062f\\u0629 \\u0644\\u0635\\u0646\\u0627\\u0639\\u0629 \\u0627\\u0644\\u062d\\u062f\\u064a\\u062f/\\u0627\\u0644\\u0643\\u0648\\u064a\\u062a\", \"115621/\\u0628\\u0646\\u0643 \\u0627\\u0644\\u0643\\u0648\\u064a\\u062a \\u0627\\u0644\\u062f\\u0648\\u0644\\u0649/\\u0627\\u0644\\u0643\\u0648\\u064a\\u062a\", \"120891/\\u0628\\u0646\\u0643 \\u0648\\u0631\\u0628\\u0647 / \\u0645\\u0633\\u0627\\u0647\\u0645\\u0629 \\u0627\\u0644\\u0639\\u0627\\u0645\\u0629/\\u0627\\u0644\\u0643\\u0648\\u064a\\u062a\", \"115641/\\u0634\\u0631\\u0643\\u0629 \\u0627\\u0644\\u0628\\u062a\\u0631\\u0648\\u0644 \\u0627\\u0644\\u0648\\u0637\\u0646\\u064a\\u0629 \\u0627\\u0644\\u0643\\u0648\\u064a\\u062a\\u064a\\u0629/\\u0627\\u0644\\u0647\\u0646\\u0640\\u0640\\u062f\", \"417894/10808                    \\u0634\\u0631\\u0643\\u0629 \\u0627\\u064a\\u0643\\u0648\\u064a\\u062a \\u0644\\u0644\\u0628\\u062a\\u0631\\u0648\\u0643\\u064a\\u0645\\u0627\\u0648\\u064a\\u0627\\u062a\", \"417927/\\u0627\\u0644\\u0634\\u0631\\u0643\\u0629 \\u0627\\u0644\\u0645\\u062a\\u062d\\u062f\\u0629 \\u0644\\u0635\\u0646\\u0627\\u0639\\u0629 \\u0627\\u0644\\u062d\\u062f\\u064a\\u062f\", \"115621/\\u0628\\u0646\\u0643 \\u0627\\u0644\\u0643\\u0648\\u064a\\u062a \\u0627\\u0644\\u062f\\u0648\\u0644\\u0649\", \"120891/\\u0628\\u0646\\u0643 \\u0648\\u0631\\u0628\\u0647 / \\u0645\\u0633\\u0627\\u0647\\u0645\\u0629 \\u0627\\u0644\\u0639\\u0627\\u0645\\u0629\", \"115641/\\u0634\\u0631\\u0643\\u0629 \\u0627\\u0644\\u0628\\u062a\\u0631\\u0648\\u0644 \\u0627\\u0644\\u0648\\u0637\\u0646\\u064a\\u0629 \\u0627\\u0644\\u0643\\u0648\\u064a\\u062a\\u064a\\u0629\", \"115621\", \"115641\", \"120891\", \"417894\", \"417927\"], \"labels\": [\"\", \"\", \"\", \"\", \"\\u062c\\u0627\\u0645\\u0639\\u0649\", \"\\u0645\\u062d\\u0627\\u0641\\u0638\\u0629 \\u0627\\u0644\\u0627\\u062d\\u0645\\u062f\\u064a\", \"\\u0645\\u062d\\u0627\\u0641\\u0638\\u0629 \\u0627\\u0644\\u0627\\u062d\\u0645\\u062f\\u064a\", \"\\u0645\\u062d\\u0627\\u0641\\u0638\\u0629 \\u0627\\u0644\\u062c\\u0647\\u0631\\u0627\\u0621\", \"\\u0645\\u062d\\u0627\\u0641\\u0638\\u0629 \\u0627\\u0644\\u0639\\u0627\\u0635\\u0645\\u0629\", \"\\u0645\\u062d\\u0627\\u0641\\u0638\\u0629 \\u0627\\u0644\\u0639\\u0627\\u0635\\u0645\\u0629\", \"\\u0627\\u0644\\u0643\\u0648\\u064a\\u062a\", \"\\u0627\\u0644\\u0643\\u0648\\u064a\\u062a\", \"\\u0627\\u0644\\u0643\\u0648\\u064a\\u062a\", \"\\u0627\\u0644\\u0643\\u0648\\u064a\\u062a\", \"\\u0627\\u0644\\u0647\\u0646\\u0640\\u0640\\u062f\", \"10808                    \\u0634\\u0631\\u0643\\u0629 \\u0627\\u064a\\u0643\\u0648\\u064a\\u062a \\u0644\\u0644\\u0628\\u062a\\u0631\\u0648\\u0643\\u064a\\u0645\\u0627\\u0648\\u064a\\u0627\\u062a\", \"\\u0627\\u0644\\u0634\\u0631\\u0643\\u0629 \\u0627\\u0644\\u0645\\u062a\\u062d\\u062f\\u0629 \\u0644\\u0635\\u0646\\u0627\\u0639\\u0629 \\u0627\\u0644\\u062d\\u062f\\u064a\\u062f\", \"\\u0628\\u0646\\u0643 \\u0627\\u0644\\u0643\\u0648\\u064a\\u062a \\u0627\\u0644\\u062f\\u0648\\u0644\\u0649\", \"\\u0628\\u0646\\u0643 \\u0648\\u0631\\u0628\\u0647 / \\u0645\\u0633\\u0627\\u0647\\u0645\\u0629 \\u0627\\u0644\\u0639\\u0627\\u0645\\u0629\", \"\\u0634\\u0631\\u0643\\u0629 \\u0627\\u0644\\u0628\\u062a\\u0631\\u0648\\u0644 \\u0627\\u0644\\u0648\\u0637\\u0646\\u064a\\u0629 \\u0627\\u0644\\u0643\\u0648\\u064a\\u062a\\u064a\\u0629\", \"115621\", \"115641\", \"120891\", \"417894\", \"417927\"], \"marker\": {\"coloraxis\": \"coloraxis\", \"colors\": [22861.0, 25000.0, 20000.0, 26000.0, 24003.485, 22861.0, 24003.485, 25000.0, 20000.0, 26000.0, 22861.0, 20000.0, 25000.0, 26000.0, 24003.485, 22861.0, 20000.0, 25000.0, 26000.0, 24003.485, 25000.0, 24003.485, 26000.0, 22861.0, 20000.0]}, \"name\": \"\", \"parents\": [\"417894/10808                    \\u0634\\u0631\\u0643\\u0629 \\u0627\\u064a\\u0643\\u0648\\u064a\\u062a \\u0644\\u0644\\u0628\\u062a\\u0631\\u0648\\u0643\\u064a\\u0645\\u0627\\u0648\\u064a\\u0627\\u062a/\\u0627\\u0644\\u0643\\u0648\\u064a\\u062a/\\u0645\\u062d\\u0627\\u0641\\u0638\\u0629 \\u0627\\u0644\\u0627\\u062d\\u0645\\u062f\\u064a\", \"115621/\\u0628\\u0646\\u0643 \\u0627\\u0644\\u0643\\u0648\\u064a\\u062a \\u0627\\u0644\\u062f\\u0648\\u0644\\u0649/\\u0627\\u0644\\u0643\\u0648\\u064a\\u062a/\\u0645\\u062d\\u0627\\u0641\\u0638\\u0629 \\u0627\\u0644\\u062c\\u0647\\u0631\\u0627\\u0621\", \"417927/\\u0627\\u0644\\u0634\\u0631\\u0643\\u0629 \\u0627\\u0644\\u0645\\u062a\\u062d\\u062f\\u0629 \\u0644\\u0635\\u0646\\u0627\\u0639\\u0629 \\u0627\\u0644\\u062d\\u062f\\u064a\\u062f/\\u0627\\u0644\\u0643\\u0648\\u064a\\u062a/\\u0645\\u062d\\u0627\\u0641\\u0638\\u0629 \\u0627\\u0644\\u0639\\u0627\\u0635\\u0645\\u0629\", \"120891/\\u0628\\u0646\\u0643 \\u0648\\u0631\\u0628\\u0647 / \\u0645\\u0633\\u0627\\u0647\\u0645\\u0629 \\u0627\\u0644\\u0639\\u0627\\u0645\\u0629/\\u0627\\u0644\\u0643\\u0648\\u064a\\u062a/\\u0645\\u062d\\u0627\\u0641\\u0638\\u0629 \\u0627\\u0644\\u0639\\u0627\\u0635\\u0645\\u0629\", \"115641/\\u0634\\u0631\\u0643\\u0629 \\u0627\\u0644\\u0628\\u062a\\u0631\\u0648\\u0644 \\u0627\\u0644\\u0648\\u0637\\u0646\\u064a\\u0629 \\u0627\\u0644\\u0643\\u0648\\u064a\\u062a\\u064a\\u0629/\\u0627\\u0644\\u0647\\u0646\\u0640\\u0640\\u062f/\\u0645\\u062d\\u0627\\u0641\\u0638\\u0629 \\u0627\\u0644\\u0627\\u062d\\u0645\\u062f\\u064a\", \"417894/10808                    \\u0634\\u0631\\u0643\\u0629 \\u0627\\u064a\\u0643\\u0648\\u064a\\u062a \\u0644\\u0644\\u0628\\u062a\\u0631\\u0648\\u0643\\u064a\\u0645\\u0627\\u0648\\u064a\\u0627\\u062a/\\u0627\\u0644\\u0643\\u0648\\u064a\\u062a\", \"115641/\\u0634\\u0631\\u0643\\u0629 \\u0627\\u0644\\u0628\\u062a\\u0631\\u0648\\u0644 \\u0627\\u0644\\u0648\\u0637\\u0646\\u064a\\u0629 \\u0627\\u0644\\u0643\\u0648\\u064a\\u062a\\u064a\\u0629/\\u0627\\u0644\\u0647\\u0646\\u0640\\u0640\\u062f\", \"115621/\\u0628\\u0646\\u0643 \\u0627\\u0644\\u0643\\u0648\\u064a\\u062a \\u0627\\u0644\\u062f\\u0648\\u0644\\u0649/\\u0627\\u0644\\u0643\\u0648\\u064a\\u062a\", \"417927/\\u0627\\u0644\\u0634\\u0631\\u0643\\u0629 \\u0627\\u0644\\u0645\\u062a\\u062d\\u062f\\u0629 \\u0644\\u0635\\u0646\\u0627\\u0639\\u0629 \\u0627\\u0644\\u062d\\u062f\\u064a\\u062f/\\u0627\\u0644\\u0643\\u0648\\u064a\\u062a\", \"120891/\\u0628\\u0646\\u0643 \\u0648\\u0631\\u0628\\u0647 / \\u0645\\u0633\\u0627\\u0647\\u0645\\u0629 \\u0627\\u0644\\u0639\\u0627\\u0645\\u0629/\\u0627\\u0644\\u0643\\u0648\\u064a\\u062a\", \"417894/10808                    \\u0634\\u0631\\u0643\\u0629 \\u0627\\u064a\\u0643\\u0648\\u064a\\u062a \\u0644\\u0644\\u0628\\u062a\\u0631\\u0648\\u0643\\u064a\\u0645\\u0627\\u0648\\u064a\\u0627\\u062a\", \"417927/\\u0627\\u0644\\u0634\\u0631\\u0643\\u0629 \\u0627\\u0644\\u0645\\u062a\\u062d\\u062f\\u0629 \\u0644\\u0635\\u0646\\u0627\\u0639\\u0629 \\u0627\\u0644\\u062d\\u062f\\u064a\\u062f\", \"115621/\\u0628\\u0646\\u0643 \\u0627\\u0644\\u0643\\u0648\\u064a\\u062a \\u0627\\u0644\\u062f\\u0648\\u0644\\u0649\", \"120891/\\u0628\\u0646\\u0643 \\u0648\\u0631\\u0628\\u0647 / \\u0645\\u0633\\u0627\\u0647\\u0645\\u0629 \\u0627\\u0644\\u0639\\u0627\\u0645\\u0629\", \"115641/\\u0634\\u0631\\u0643\\u0629 \\u0627\\u0644\\u0628\\u062a\\u0631\\u0648\\u0644 \\u0627\\u0644\\u0648\\u0637\\u0646\\u064a\\u0629 \\u0627\\u0644\\u0643\\u0648\\u064a\\u062a\\u064a\\u0629\", \"417894\", \"417927\", \"115621\", \"120891\", \"115641\", \"\", \"\", \"\", \"\", \"\"], \"type\": \"sunburst\", \"values\": [22861.0, 25000.0, 20000.0, 26000.0, 24003.485, 22861.0, 24003.485, 25000.0, 20000.0, 26000.0, 22861.0, 20000.0, 25000.0, 26000.0, 24003.485, 22861.0, 20000.0, 25000.0, 26000.0, 24003.485, 25000.0, 24003.485, 26000.0, 22861.0, 20000.0]}],                        {\"coloraxis\": {\"colorbar\": {\"title\": {\"text\": \"SALARY\"}}, \"colorscale\": [[0.0, \"rgb(103,0,31)\"], [0.1, \"rgb(178,24,43)\"], [0.2, \"rgb(214,96,77)\"], [0.3, \"rgb(244,165,130)\"], [0.4, \"rgb(253,219,199)\"], [0.5, \"rgb(247,247,247)\"], [0.6, \"rgb(209,229,240)\"], [0.7, \"rgb(146,197,222)\"], [0.8, \"rgb(67,147,195)\"], [0.9, \"rgb(33,102,172)\"], [1.0, \"rgb(5,48,97)\"]]}, \"legend\": {\"tracegroupgap\": 0}, \"margin\": {\"b\": 0, \"l\": 0, \"r\": 0, \"t\": 0}, \"template\": {\"data\": {\"bar\": [{\"error_x\": {\"color\": \"#2a3f5f\"}, \"error_y\": {\"color\": \"#2a3f5f\"}, \"marker\": {\"line\": {\"color\": \"#E5ECF6\", \"width\": 0.5}}, \"type\": \"bar\"}], \"barpolar\": [{\"marker\": {\"line\": {\"color\": \"#E5ECF6\", \"width\": 0.5}}, \"type\": \"barpolar\"}], \"carpet\": [{\"aaxis\": {\"endlinecolor\": \"#2a3f5f\", \"gridcolor\": \"white\", \"linecolor\": \"white\", \"minorgridcolor\": \"white\", \"startlinecolor\": \"#2a3f5f\"}, \"baxis\": {\"endlinecolor\": \"#2a3f5f\", \"gridcolor\": \"white\", \"linecolor\": \"white\", \"minorgridcolor\": \"white\", \"startlinecolor\": \"#2a3f5f\"}, \"type\": \"carpet\"}], \"choropleth\": [{\"colorbar\": {\"outlinewidth\": 0, \"ticks\": \"\"}, \"type\": \"choropleth\"}], \"contour\": [{\"colorbar\": {\"outlinewidth\": 0, \"ticks\": \"\"}, \"colorscale\": [[0.0, \"#0d0887\"], [0.1111111111111111, \"#46039f\"], [0.2222222222222222, \"#7201a8\"], [0.3333333333333333, \"#9c179e\"], [0.4444444444444444, \"#bd3786\"], [0.5555555555555556, \"#d8576b\"], [0.6666666666666666, \"#ed7953\"], [0.7777777777777778, \"#fb9f3a\"], [0.8888888888888888, \"#fdca26\"], [1.0, \"#f0f921\"]], \"type\": \"contour\"}], \"contourcarpet\": [{\"colorbar\": {\"outlinewidth\": 0, \"ticks\": \"\"}, \"type\": \"contourcarpet\"}], \"heatmap\": [{\"colorbar\": {\"outlinewidth\": 0, \"ticks\": \"\"}, \"colorscale\": [[0.0, \"#0d0887\"], [0.1111111111111111, \"#46039f\"], [0.2222222222222222, \"#7201a8\"], [0.3333333333333333, \"#9c179e\"], [0.4444444444444444, \"#bd3786\"], [0.5555555555555556, \"#d8576b\"], [0.6666666666666666, \"#ed7953\"], [0.7777777777777778, \"#fb9f3a\"], [0.8888888888888888, \"#fdca26\"], [1.0, \"#f0f921\"]], \"type\": \"heatmap\"}], \"heatmapgl\": [{\"colorbar\": {\"outlinewidth\": 0, \"ticks\": \"\"}, \"colorscale\": [[0.0, \"#0d0887\"], [0.1111111111111111, \"#46039f\"], [0.2222222222222222, \"#7201a8\"], [0.3333333333333333, \"#9c179e\"], [0.4444444444444444, \"#bd3786\"], [0.5555555555555556, \"#d8576b\"], [0.6666666666666666, \"#ed7953\"], [0.7777777777777778, \"#fb9f3a\"], [0.8888888888888888, \"#fdca26\"], [1.0, \"#f0f921\"]], \"type\": \"heatmapgl\"}], \"histogram\": [{\"marker\": {\"colorbar\": {\"outlinewidth\": 0, \"ticks\": \"\"}}, \"type\": \"histogram\"}], \"histogram2d\": [{\"colorbar\": {\"outlinewidth\": 0, \"ticks\": \"\"}, \"colorscale\": [[0.0, \"#0d0887\"], [0.1111111111111111, \"#46039f\"], [0.2222222222222222, \"#7201a8\"], [0.3333333333333333, \"#9c179e\"], [0.4444444444444444, \"#bd3786\"], [0.5555555555555556, \"#d8576b\"], [0.6666666666666666, \"#ed7953\"], [0.7777777777777778, \"#fb9f3a\"], [0.8888888888888888, \"#fdca26\"], [1.0, \"#f0f921\"]], \"type\": \"histogram2d\"}], \"histogram2dcontour\": [{\"colorbar\": {\"outlinewidth\": 0, \"ticks\": \"\"}, \"colorscale\": [[0.0, \"#0d0887\"], [0.1111111111111111, \"#46039f\"], [0.2222222222222222, \"#7201a8\"], [0.3333333333333333, \"#9c179e\"], [0.4444444444444444, \"#bd3786\"], [0.5555555555555556, \"#d8576b\"], [0.6666666666666666, \"#ed7953\"], [0.7777777777777778, \"#fb9f3a\"], [0.8888888888888888, \"#fdca26\"], [1.0, \"#f0f921\"]], \"type\": \"histogram2dcontour\"}], \"mesh3d\": [{\"colorbar\": {\"outlinewidth\": 0, \"ticks\": \"\"}, \"type\": \"mesh3d\"}], \"parcoords\": [{\"line\": {\"colorbar\": {\"outlinewidth\": 0, \"ticks\": \"\"}}, \"type\": \"parcoords\"}], \"pie\": [{\"automargin\": true, \"type\": \"pie\"}], \"scatter\": [{\"marker\": {\"colorbar\": {\"outlinewidth\": 0, \"ticks\": \"\"}}, \"type\": \"scatter\"}], \"scatter3d\": [{\"line\": {\"colorbar\": {\"outlinewidth\": 0, \"ticks\": \"\"}}, \"marker\": {\"colorbar\": {\"outlinewidth\": 0, \"ticks\": \"\"}}, \"type\": \"scatter3d\"}], \"scattercarpet\": [{\"marker\": {\"colorbar\": {\"outlinewidth\": 0, \"ticks\": \"\"}}, \"type\": \"scattercarpet\"}], \"scattergeo\": [{\"marker\": {\"colorbar\": {\"outlinewidth\": 0, \"ticks\": \"\"}}, \"type\": \"scattergeo\"}], \"scattergl\": [{\"marker\": {\"colorbar\": {\"outlinewidth\": 0, \"ticks\": \"\"}}, \"type\": \"scattergl\"}], \"scattermapbox\": [{\"marker\": {\"colorbar\": {\"outlinewidth\": 0, \"ticks\": \"\"}}, \"type\": \"scattermapbox\"}], \"scatterpolar\": [{\"marker\": {\"colorbar\": {\"outlinewidth\": 0, \"ticks\": \"\"}}, \"type\": \"scatterpolar\"}], \"scatterpolargl\": [{\"marker\": {\"colorbar\": {\"outlinewidth\": 0, \"ticks\": \"\"}}, \"type\": \"scatterpolargl\"}], \"scatterternary\": [{\"marker\": {\"colorbar\": {\"outlinewidth\": 0, \"ticks\": \"\"}}, \"type\": \"scatterternary\"}], \"surface\": [{\"colorbar\": {\"outlinewidth\": 0, \"ticks\": \"\"}, \"colorscale\": [[0.0, \"#0d0887\"], [0.1111111111111111, \"#46039f\"], [0.2222222222222222, \"#7201a8\"], [0.3333333333333333, \"#9c179e\"], [0.4444444444444444, \"#bd3786\"], [0.5555555555555556, \"#d8576b\"], [0.6666666666666666, \"#ed7953\"], [0.7777777777777778, \"#fb9f3a\"], [0.8888888888888888, \"#fdca26\"], [1.0, \"#f0f921\"]], \"type\": \"surface\"}], \"table\": [{\"cells\": {\"fill\": {\"color\": \"#EBF0F8\"}, \"line\": {\"color\": \"white\"}}, \"header\": {\"fill\": {\"color\": \"#C8D4E3\"}, \"line\": {\"color\": \"white\"}}, \"type\": \"table\"}]}, \"layout\": {\"annotationdefaults\": {\"arrowcolor\": \"#2a3f5f\", \"arrowhead\": 0, \"arrowwidth\": 1}, \"autotypenumbers\": \"strict\", \"coloraxis\": {\"colorbar\": {\"outlinewidth\": 0, \"ticks\": \"\"}}, \"colorscale\": {\"diverging\": [[0, \"#8e0152\"], [0.1, \"#c51b7d\"], [0.2, \"#de77ae\"], [0.3, \"#f1b6da\"], [0.4, \"#fde0ef\"], [0.5, \"#f7f7f7\"], [0.6, \"#e6f5d0\"], [0.7, \"#b8e186\"], [0.8, \"#7fbc41\"], [0.9, \"#4d9221\"], [1, \"#276419\"]], \"sequential\": [[0.0, \"#0d0887\"], [0.1111111111111111, \"#46039f\"], [0.2222222222222222, \"#7201a8\"], [0.3333333333333333, \"#9c179e\"], [0.4444444444444444, \"#bd3786\"], [0.5555555555555556, \"#d8576b\"], [0.6666666666666666, \"#ed7953\"], [0.7777777777777778, \"#fb9f3a\"], [0.8888888888888888, \"#fdca26\"], [1.0, \"#f0f921\"]], \"sequentialminus\": [[0.0, \"#0d0887\"], [0.1111111111111111, \"#46039f\"], [0.2222222222222222, \"#7201a8\"], [0.3333333333333333, \"#9c179e\"], [0.4444444444444444, \"#bd3786\"], [0.5555555555555556, \"#d8576b\"], [0.6666666666666666, \"#ed7953\"], [0.7777777777777778, \"#fb9f3a\"], [0.8888888888888888, \"#fdca26\"], [1.0, \"#f0f921\"]]}, \"colorway\": [\"#636efa\", \"#EF553B\", \"#00cc96\", \"#ab63fa\", \"#FFA15A\", \"#19d3f3\", \"#FF6692\", \"#B6E880\", \"#FF97FF\", \"#FECB52\"], \"font\": {\"color\": \"#2a3f5f\"}, \"geo\": {\"bgcolor\": \"white\", \"lakecolor\": \"white\", \"landcolor\": \"#E5ECF6\", \"showlakes\": true, \"showland\": true, \"subunitcolor\": \"white\"}, \"hoverlabel\": {\"align\": \"left\"}, \"hovermode\": \"closest\", \"mapbox\": {\"style\": \"light\"}, \"paper_bgcolor\": \"white\", \"plot_bgcolor\": \"#E5ECF6\", \"polar\": {\"angularaxis\": {\"gridcolor\": \"white\", \"linecolor\": \"white\", \"ticks\": \"\"}, \"bgcolor\": \"#E5ECF6\", \"radialaxis\": {\"gridcolor\": \"white\", \"linecolor\": \"white\", \"ticks\": \"\"}}, \"scene\": {\"xaxis\": {\"backgroundcolor\": \"#E5ECF6\", \"gridcolor\": \"white\", \"gridwidth\": 2, \"linecolor\": \"white\", \"showbackground\": true, \"ticks\": \"\", \"zerolinecolor\": \"white\"}, \"yaxis\": {\"backgroundcolor\": \"#E5ECF6\", \"gridcolor\": \"white\", \"gridwidth\": 2, \"linecolor\": \"white\", \"showbackground\": true, \"ticks\": \"\", \"zerolinecolor\": \"white\"}, \"zaxis\": {\"backgroundcolor\": \"#E5ECF6\", \"gridcolor\": \"white\", \"gridwidth\": 2, \"linecolor\": \"white\", \"showbackground\": true, \"ticks\": \"\", \"zerolinecolor\": \"white\"}}, \"shapedefaults\": {\"line\": {\"color\": \"#2a3f5f\"}}, \"ternary\": {\"aaxis\": {\"gridcolor\": \"white\", \"linecolor\": \"white\", \"ticks\": \"\"}, \"baxis\": {\"gridcolor\": \"white\", \"linecolor\": \"white\", \"ticks\": \"\"}, \"bgcolor\": \"#E5ECF6\", \"caxis\": {\"gridcolor\": \"white\", \"linecolor\": \"white\", \"ticks\": \"\"}}, \"title\": {\"x\": 0.05}, \"xaxis\": {\"automargin\": true, \"gridcolor\": \"white\", \"linecolor\": \"white\", \"ticks\": \"\", \"title\": {\"standoff\": 15}, \"zerolinecolor\": \"white\", \"zerolinewidth\": 2}, \"yaxis\": {\"automargin\": true, \"gridcolor\": \"white\", \"linecolor\": \"white\", \"ticks\": \"\", \"title\": {\"standoff\": 15}, \"zerolinecolor\": \"white\", \"zerolinewidth\": 2}}}},                        {\"responsive\": true}                    ).then(function(){\n",
              "                            \n",
              "var gd = document.getElementById('e41660a9-b355-46c1-9cbb-20bb191b2d5c');\n",
              "var x = new MutationObserver(function (mutations, observer) {{\n",
              "        var display = window.getComputedStyle(gd).display;\n",
              "        if (!display || display === 'none') {{\n",
              "            console.log([gd, 'removed!']);\n",
              "            Plotly.purge(gd);\n",
              "            observer.disconnect();\n",
              "        }}\n",
              "}});\n",
              "\n",
              "// Listen for the removal of the full notebook cells\n",
              "var notebookContainer = gd.closest('#notebook-container');\n",
              "if (notebookContainer) {{\n",
              "    x.observe(notebookContainer, {childList: true});\n",
              "}}\n",
              "\n",
              "// Listen for the clearing of the current output cell\n",
              "var outputEl = gd.closest('.output');\n",
              "if (outputEl) {{\n",
              "    x.observe(outputEl, {childList: true});\n",
              "}}\n",
              "\n",
              "                        })                };                            </script>        </div>\n",
              "</body>\n",
              "</html>"
            ]
          },
          "metadata": {
            "tags": []
          }
        }
      ]
    },
    {
      "cell_type": "code",
      "metadata": {
        "id": "732d590a"
      },
      "source": [
        ""
      ],
      "id": "732d590a",
      "execution_count": null,
      "outputs": []
    },
    {
      "cell_type": "markdown",
      "metadata": {
        "id": "84c8c8b7"
      },
      "source": [
        "#### INSIGHT \n",
        "\n",
        "**Top 5 companies:**\n",
        "\n",
        "-- offering max salary\n",
        "\n",
        "-- Governorate\n",
        "\n",
        "-- Age\n",
        "\n",
        "-- HIRE Date"
      ],
      "id": "84c8c8b7"
    },
    {
      "cell_type": "code",
      "metadata": {
        "colab": {
          "base_uri": "https://localhost:8080/",
          "height": 204
        },
        "id": "f0ff0939",
        "outputId": "7406b08e-2c8c-4464-dfde-3892c6e8582d"
      },
      "source": [
        "#hide_input\n",
        "insight23 = pd.DataFrame()\n",
        "insight23 = data.groupby([\"COMPANY_NAME\",\"GOVERNORATE_DESC\",\"Age\",\"HIRE_DATE\"])['SALARY'].max()\n",
        "insight23 = insight23.reset_index([\"COMPANY_NAME\",\"GOVERNORATE_DESC\",\"Age\",\"HIRE_DATE\"])\n",
        "insight23 = insight23.nlargest(5,'SALARY')\n",
        "insight23"
      ],
      "id": "f0ff0939",
      "execution_count": null,
      "outputs": [
        {
          "output_type": "execute_result",
          "data": {
            "text/html": [
              "<div>\n",
              "<style scoped>\n",
              "    .dataframe tbody tr th:only-of-type {\n",
              "        vertical-align: middle;\n",
              "    }\n",
              "\n",
              "    .dataframe tbody tr th {\n",
              "        vertical-align: top;\n",
              "    }\n",
              "\n",
              "    .dataframe thead th {\n",
              "        text-align: right;\n",
              "    }\n",
              "</style>\n",
              "<table border=\"1\" class=\"dataframe\">\n",
              "  <thead>\n",
              "    <tr style=\"text-align: right;\">\n",
              "      <th></th>\n",
              "      <th>COMPANY_NAME</th>\n",
              "      <th>GOVERNORATE_DESC</th>\n",
              "      <th>Age</th>\n",
              "      <th>HIRE_DATE</th>\n",
              "      <th>SALARY</th>\n",
              "    </tr>\n",
              "  </thead>\n",
              "  <tbody>\n",
              "    <tr>\n",
              "      <th>404546</th>\n",
              "      <td>بنك وربه / مساهمة العامة</td>\n",
              "      <td>محافظة العاصمة</td>\n",
              "      <td>53.0</td>\n",
              "      <td>2019-06-30</td>\n",
              "      <td>26000.000</td>\n",
              "    </tr>\n",
              "    <tr>\n",
              "      <th>401539</th>\n",
              "      <td>بنك الكويت الدولى</td>\n",
              "      <td>محافظة الجهراء</td>\n",
              "      <td>44.0</td>\n",
              "      <td>2020-10-01</td>\n",
              "      <td>25000.000</td>\n",
              "    </tr>\n",
              "    <tr>\n",
              "      <th>680830</th>\n",
              "      <td>شركة البترول الوطنية الكويتية</td>\n",
              "      <td>محافظة الاحمدي</td>\n",
              "      <td>57.0</td>\n",
              "      <td>2008-08-12</td>\n",
              "      <td>24003.485</td>\n",
              "    </tr>\n",
              "    <tr>\n",
              "      <th>181762</th>\n",
              "      <td>10808                    شركة ايكويت للبتروكيم...</td>\n",
              "      <td>محافظة الاحمدي</td>\n",
              "      <td>48.0</td>\n",
              "      <td>2020-04-01</td>\n",
              "      <td>22861.000</td>\n",
              "    </tr>\n",
              "    <tr>\n",
              "      <th>328414</th>\n",
              "      <td>الشركة المتحدة لصناعة الحديد</td>\n",
              "      <td>محافظة العاصمة</td>\n",
              "      <td>70.0</td>\n",
              "      <td>2019-08-08</td>\n",
              "      <td>20000.000</td>\n",
              "    </tr>\n",
              "  </tbody>\n",
              "</table>\n",
              "</div>"
            ],
            "text/plain": [
              "                                             COMPANY_NAME  ...     SALARY\n",
              "404546                           بنك وربه / مساهمة العامة  ...  26000.000\n",
              "401539                                  بنك الكويت الدولى  ...  25000.000\n",
              "680830                      شركة البترول الوطنية الكويتية  ...  24003.485\n",
              "181762  10808                    شركة ايكويت للبتروكيم...  ...  22861.000\n",
              "328414                       الشركة المتحدة لصناعة الحديد  ...  20000.000\n",
              "\n",
              "[5 rows x 5 columns]"
            ]
          },
          "metadata": {
            "tags": []
          },
          "execution_count": 78
        }
      ]
    },
    {
      "cell_type": "code",
      "metadata": {
        "colab": {
          "base_uri": "https://localhost:8080/",
          "height": 542
        },
        "id": "5bbe34b9",
        "outputId": "bc14adef-ac06-43ce-e830-2ddb7c107f92"
      },
      "source": [
        "#hide_input\n",
        "fig = px.treemap(insight23, path=[insight23.index,\"COMPANY_NAME\",\"GOVERNORATE_DESC\",\"Age\",\"HIRE_DATE\"], values='SALARY')\n",
        "fig.show()"
      ],
      "id": "5bbe34b9",
      "execution_count": null,
      "outputs": [
        {
          "output_type": "display_data",
          "data": {
            "text/html": [
              "<html>\n",
              "<head><meta charset=\"utf-8\" /></head>\n",
              "<body>\n",
              "    <div>            <script src=\"https://cdnjs.cloudflare.com/ajax/libs/mathjax/2.7.5/MathJax.js?config=TeX-AMS-MML_SVG\"></script><script type=\"text/javascript\">if (window.MathJax) {MathJax.Hub.Config({SVG: {font: \"STIX-Web\"}});}</script>                <script type=\"text/javascript\">window.PlotlyConfig = {MathJaxConfig: 'local'};</script>\n",
              "        <script src=\"https://cdn.plot.ly/plotly-latest.min.js\"></script>                <div id=\"469cff62-cddb-44be-a09d-ce1b6eee51df\" class=\"plotly-graph-div\" style=\"height:525px; width:100%;\"></div>            <script type=\"text/javascript\">                                    window.PLOTLYENV=window.PLOTLYENV || {};                                    if (document.getElementById(\"469cff62-cddb-44be-a09d-ce1b6eee51df\")) {                    Plotly.newPlot(                        \"469cff62-cddb-44be-a09d-ce1b6eee51df\",                        [{\"branchvalues\": \"total\", \"domain\": {\"x\": [0.0, 1.0], \"y\": [0.0, 1.0]}, \"hovertemplate\": \"labels=%{label}<br>SALARY=%{value}<br>parent=%{parent}<br>id=%{id}<extra></extra>\", \"ids\": [\"680830/\\u0634\\u0631\\u0643\\u0629 \\u0627\\u0644\\u0628\\u062a\\u0631\\u0648\\u0644 \\u0627\\u0644\\u0648\\u0637\\u0646\\u064a\\u0629 \\u0627\\u0644\\u0643\\u0648\\u064a\\u062a\\u064a\\u0629/\\u0645\\u062d\\u0627\\u0641\\u0638\\u0629 \\u0627\\u0644\\u0627\\u062d\\u0645\\u062f\\u064a/57.0/2008-08-12\", \"404546/\\u0628\\u0646\\u0643 \\u0648\\u0631\\u0628\\u0647 / \\u0645\\u0633\\u0627\\u0647\\u0645\\u0629 \\u0627\\u0644\\u0639\\u0627\\u0645\\u0629/\\u0645\\u062d\\u0627\\u0641\\u0638\\u0629 \\u0627\\u0644\\u0639\\u0627\\u0635\\u0645\\u0629/53.0/2019-06-30\", \"328414/\\u0627\\u0644\\u0634\\u0631\\u0643\\u0629 \\u0627\\u0644\\u0645\\u062a\\u062d\\u062f\\u0629 \\u0644\\u0635\\u0646\\u0627\\u0639\\u0629 \\u0627\\u0644\\u062d\\u062f\\u064a\\u062f/\\u0645\\u062d\\u0627\\u0641\\u0638\\u0629 \\u0627\\u0644\\u0639\\u0627\\u0635\\u0645\\u0629/70.0/2019-08-08\", \"181762/10808                    \\u0634\\u0631\\u0643\\u0629 \\u0627\\u064a\\u0643\\u0648\\u064a\\u062a \\u0644\\u0644\\u0628\\u062a\\u0631\\u0648\\u0643\\u064a\\u0645\\u0627\\u0648\\u064a\\u0627\\u062a/\\u0645\\u062d\\u0627\\u0641\\u0638\\u0629 \\u0627\\u0644\\u0627\\u062d\\u0645\\u062f\\u064a/48.0/2020-04-01\", \"401539/\\u0628\\u0646\\u0643 \\u0627\\u0644\\u0643\\u0648\\u064a\\u062a \\u0627\\u0644\\u062f\\u0648\\u0644\\u0649/\\u0645\\u062d\\u0627\\u0641\\u0638\\u0629 \\u0627\\u0644\\u062c\\u0647\\u0631\\u0627\\u0621/44.0/2020-10-01\", \"401539/\\u0628\\u0646\\u0643 \\u0627\\u0644\\u0643\\u0648\\u064a\\u062a \\u0627\\u0644\\u062f\\u0648\\u0644\\u0649/\\u0645\\u062d\\u0627\\u0641\\u0638\\u0629 \\u0627\\u0644\\u062c\\u0647\\u0631\\u0627\\u0621/44.0\", \"181762/10808                    \\u0634\\u0631\\u0643\\u0629 \\u0627\\u064a\\u0643\\u0648\\u064a\\u062a \\u0644\\u0644\\u0628\\u062a\\u0631\\u0648\\u0643\\u064a\\u0645\\u0627\\u0648\\u064a\\u0627\\u062a/\\u0645\\u062d\\u0627\\u0641\\u0638\\u0629 \\u0627\\u0644\\u0627\\u062d\\u0645\\u062f\\u064a/48.0\", \"404546/\\u0628\\u0646\\u0643 \\u0648\\u0631\\u0628\\u0647 / \\u0645\\u0633\\u0627\\u0647\\u0645\\u0629 \\u0627\\u0644\\u0639\\u0627\\u0645\\u0629/\\u0645\\u062d\\u0627\\u0641\\u0638\\u0629 \\u0627\\u0644\\u0639\\u0627\\u0635\\u0645\\u0629/53.0\", \"680830/\\u0634\\u0631\\u0643\\u0629 \\u0627\\u0644\\u0628\\u062a\\u0631\\u0648\\u0644 \\u0627\\u0644\\u0648\\u0637\\u0646\\u064a\\u0629 \\u0627\\u0644\\u0643\\u0648\\u064a\\u062a\\u064a\\u0629/\\u0645\\u062d\\u0627\\u0641\\u0638\\u0629 \\u0627\\u0644\\u0627\\u062d\\u0645\\u062f\\u064a/57.0\", \"328414/\\u0627\\u0644\\u0634\\u0631\\u0643\\u0629 \\u0627\\u0644\\u0645\\u062a\\u062d\\u062f\\u0629 \\u0644\\u0635\\u0646\\u0627\\u0639\\u0629 \\u0627\\u0644\\u062d\\u062f\\u064a\\u062f/\\u0645\\u062d\\u0627\\u0641\\u0638\\u0629 \\u0627\\u0644\\u0639\\u0627\\u0635\\u0645\\u0629/70.0\", \"181762/10808                    \\u0634\\u0631\\u0643\\u0629 \\u0627\\u064a\\u0643\\u0648\\u064a\\u062a \\u0644\\u0644\\u0628\\u062a\\u0631\\u0648\\u0643\\u064a\\u0645\\u0627\\u0648\\u064a\\u0627\\u062a/\\u0645\\u062d\\u0627\\u0641\\u0638\\u0629 \\u0627\\u0644\\u0627\\u062d\\u0645\\u062f\\u064a\", \"680830/\\u0634\\u0631\\u0643\\u0629 \\u0627\\u0644\\u0628\\u062a\\u0631\\u0648\\u0644 \\u0627\\u0644\\u0648\\u0637\\u0646\\u064a\\u0629 \\u0627\\u0644\\u0643\\u0648\\u064a\\u062a\\u064a\\u0629/\\u0645\\u062d\\u0627\\u0641\\u0638\\u0629 \\u0627\\u0644\\u0627\\u062d\\u0645\\u062f\\u064a\", \"401539/\\u0628\\u0646\\u0643 \\u0627\\u0644\\u0643\\u0648\\u064a\\u062a \\u0627\\u0644\\u062f\\u0648\\u0644\\u0649/\\u0645\\u062d\\u0627\\u0641\\u0638\\u0629 \\u0627\\u0644\\u062c\\u0647\\u0631\\u0627\\u0621\", \"328414/\\u0627\\u0644\\u0634\\u0631\\u0643\\u0629 \\u0627\\u0644\\u0645\\u062a\\u062d\\u062f\\u0629 \\u0644\\u0635\\u0646\\u0627\\u0639\\u0629 \\u0627\\u0644\\u062d\\u062f\\u064a\\u062f/\\u0645\\u062d\\u0627\\u0641\\u0638\\u0629 \\u0627\\u0644\\u0639\\u0627\\u0635\\u0645\\u0629\", \"404546/\\u0628\\u0646\\u0643 \\u0648\\u0631\\u0628\\u0647 / \\u0645\\u0633\\u0627\\u0647\\u0645\\u0629 \\u0627\\u0644\\u0639\\u0627\\u0645\\u0629/\\u0645\\u062d\\u0627\\u0641\\u0638\\u0629 \\u0627\\u0644\\u0639\\u0627\\u0635\\u0645\\u0629\", \"181762/10808                    \\u0634\\u0631\\u0643\\u0629 \\u0627\\u064a\\u0643\\u0648\\u064a\\u062a \\u0644\\u0644\\u0628\\u062a\\u0631\\u0648\\u0643\\u064a\\u0645\\u0627\\u0648\\u064a\\u0627\\u062a\", \"328414/\\u0627\\u0644\\u0634\\u0631\\u0643\\u0629 \\u0627\\u0644\\u0645\\u062a\\u062d\\u062f\\u0629 \\u0644\\u0635\\u0646\\u0627\\u0639\\u0629 \\u0627\\u0644\\u062d\\u062f\\u064a\\u062f\", \"401539/\\u0628\\u0646\\u0643 \\u0627\\u0644\\u0643\\u0648\\u064a\\u062a \\u0627\\u0644\\u062f\\u0648\\u0644\\u0649\", \"404546/\\u0628\\u0646\\u0643 \\u0648\\u0631\\u0628\\u0647 / \\u0645\\u0633\\u0627\\u0647\\u0645\\u0629 \\u0627\\u0644\\u0639\\u0627\\u0645\\u0629\", \"680830/\\u0634\\u0631\\u0643\\u0629 \\u0627\\u0644\\u0628\\u062a\\u0631\\u0648\\u0644 \\u0627\\u0644\\u0648\\u0637\\u0646\\u064a\\u0629 \\u0627\\u0644\\u0643\\u0648\\u064a\\u062a\\u064a\\u0629\", \"181762\", \"328414\", \"401539\", \"404546\", \"680830\"], \"labels\": [\"2008-08-12\", \"2019-06-30\", \"2019-08-08\", \"2020-04-01\", \"2020-10-01\", \"44.0\", \"48.0\", \"53.0\", \"57.0\", \"70.0\", \"\\u0645\\u062d\\u0627\\u0641\\u0638\\u0629 \\u0627\\u0644\\u0627\\u062d\\u0645\\u062f\\u064a\", \"\\u0645\\u062d\\u0627\\u0641\\u0638\\u0629 \\u0627\\u0644\\u0627\\u062d\\u0645\\u062f\\u064a\", \"\\u0645\\u062d\\u0627\\u0641\\u0638\\u0629 \\u0627\\u0644\\u062c\\u0647\\u0631\\u0627\\u0621\", \"\\u0645\\u062d\\u0627\\u0641\\u0638\\u0629 \\u0627\\u0644\\u0639\\u0627\\u0635\\u0645\\u0629\", \"\\u0645\\u062d\\u0627\\u0641\\u0638\\u0629 \\u0627\\u0644\\u0639\\u0627\\u0635\\u0645\\u0629\", \"10808                    \\u0634\\u0631\\u0643\\u0629 \\u0627\\u064a\\u0643\\u0648\\u064a\\u062a \\u0644\\u0644\\u0628\\u062a\\u0631\\u0648\\u0643\\u064a\\u0645\\u0627\\u0648\\u064a\\u0627\\u062a\", \"\\u0627\\u0644\\u0634\\u0631\\u0643\\u0629 \\u0627\\u0644\\u0645\\u062a\\u062d\\u062f\\u0629 \\u0644\\u0635\\u0646\\u0627\\u0639\\u0629 \\u0627\\u0644\\u062d\\u062f\\u064a\\u062f\", \"\\u0628\\u0646\\u0643 \\u0627\\u0644\\u0643\\u0648\\u064a\\u062a \\u0627\\u0644\\u062f\\u0648\\u0644\\u0649\", \"\\u0628\\u0646\\u0643 \\u0648\\u0631\\u0628\\u0647 / \\u0645\\u0633\\u0627\\u0647\\u0645\\u0629 \\u0627\\u0644\\u0639\\u0627\\u0645\\u0629\", \"\\u0634\\u0631\\u0643\\u0629 \\u0627\\u0644\\u0628\\u062a\\u0631\\u0648\\u0644 \\u0627\\u0644\\u0648\\u0637\\u0646\\u064a\\u0629 \\u0627\\u0644\\u0643\\u0648\\u064a\\u062a\\u064a\\u0629\", \"181762\", \"328414\", \"401539\", \"404546\", \"680830\"], \"name\": \"\", \"parents\": [\"680830/\\u0634\\u0631\\u0643\\u0629 \\u0627\\u0644\\u0628\\u062a\\u0631\\u0648\\u0644 \\u0627\\u0644\\u0648\\u0637\\u0646\\u064a\\u0629 \\u0627\\u0644\\u0643\\u0648\\u064a\\u062a\\u064a\\u0629/\\u0645\\u062d\\u0627\\u0641\\u0638\\u0629 \\u0627\\u0644\\u0627\\u062d\\u0645\\u062f\\u064a/57.0\", \"404546/\\u0628\\u0646\\u0643 \\u0648\\u0631\\u0628\\u0647 / \\u0645\\u0633\\u0627\\u0647\\u0645\\u0629 \\u0627\\u0644\\u0639\\u0627\\u0645\\u0629/\\u0645\\u062d\\u0627\\u0641\\u0638\\u0629 \\u0627\\u0644\\u0639\\u0627\\u0635\\u0645\\u0629/53.0\", \"328414/\\u0627\\u0644\\u0634\\u0631\\u0643\\u0629 \\u0627\\u0644\\u0645\\u062a\\u062d\\u062f\\u0629 \\u0644\\u0635\\u0646\\u0627\\u0639\\u0629 \\u0627\\u0644\\u062d\\u062f\\u064a\\u062f/\\u0645\\u062d\\u0627\\u0641\\u0638\\u0629 \\u0627\\u0644\\u0639\\u0627\\u0635\\u0645\\u0629/70.0\", \"181762/10808                    \\u0634\\u0631\\u0643\\u0629 \\u0627\\u064a\\u0643\\u0648\\u064a\\u062a \\u0644\\u0644\\u0628\\u062a\\u0631\\u0648\\u0643\\u064a\\u0645\\u0627\\u0648\\u064a\\u0627\\u062a/\\u0645\\u062d\\u0627\\u0641\\u0638\\u0629 \\u0627\\u0644\\u0627\\u062d\\u0645\\u062f\\u064a/48.0\", \"401539/\\u0628\\u0646\\u0643 \\u0627\\u0644\\u0643\\u0648\\u064a\\u062a \\u0627\\u0644\\u062f\\u0648\\u0644\\u0649/\\u0645\\u062d\\u0627\\u0641\\u0638\\u0629 \\u0627\\u0644\\u062c\\u0647\\u0631\\u0627\\u0621/44.0\", \"401539/\\u0628\\u0646\\u0643 \\u0627\\u0644\\u0643\\u0648\\u064a\\u062a \\u0627\\u0644\\u062f\\u0648\\u0644\\u0649/\\u0645\\u062d\\u0627\\u0641\\u0638\\u0629 \\u0627\\u0644\\u062c\\u0647\\u0631\\u0627\\u0621\", \"181762/10808                    \\u0634\\u0631\\u0643\\u0629 \\u0627\\u064a\\u0643\\u0648\\u064a\\u062a \\u0644\\u0644\\u0628\\u062a\\u0631\\u0648\\u0643\\u064a\\u0645\\u0627\\u0648\\u064a\\u0627\\u062a/\\u0645\\u062d\\u0627\\u0641\\u0638\\u0629 \\u0627\\u0644\\u0627\\u062d\\u0645\\u062f\\u064a\", \"404546/\\u0628\\u0646\\u0643 \\u0648\\u0631\\u0628\\u0647 / \\u0645\\u0633\\u0627\\u0647\\u0645\\u0629 \\u0627\\u0644\\u0639\\u0627\\u0645\\u0629/\\u0645\\u062d\\u0627\\u0641\\u0638\\u0629 \\u0627\\u0644\\u0639\\u0627\\u0635\\u0645\\u0629\", \"680830/\\u0634\\u0631\\u0643\\u0629 \\u0627\\u0644\\u0628\\u062a\\u0631\\u0648\\u0644 \\u0627\\u0644\\u0648\\u0637\\u0646\\u064a\\u0629 \\u0627\\u0644\\u0643\\u0648\\u064a\\u062a\\u064a\\u0629/\\u0645\\u062d\\u0627\\u0641\\u0638\\u0629 \\u0627\\u0644\\u0627\\u062d\\u0645\\u062f\\u064a\", \"328414/\\u0627\\u0644\\u0634\\u0631\\u0643\\u0629 \\u0627\\u0644\\u0645\\u062a\\u062d\\u062f\\u0629 \\u0644\\u0635\\u0646\\u0627\\u0639\\u0629 \\u0627\\u0644\\u062d\\u062f\\u064a\\u062f/\\u0645\\u062d\\u0627\\u0641\\u0638\\u0629 \\u0627\\u0644\\u0639\\u0627\\u0635\\u0645\\u0629\", \"181762/10808                    \\u0634\\u0631\\u0643\\u0629 \\u0627\\u064a\\u0643\\u0648\\u064a\\u062a \\u0644\\u0644\\u0628\\u062a\\u0631\\u0648\\u0643\\u064a\\u0645\\u0627\\u0648\\u064a\\u0627\\u062a\", \"680830/\\u0634\\u0631\\u0643\\u0629 \\u0627\\u0644\\u0628\\u062a\\u0631\\u0648\\u0644 \\u0627\\u0644\\u0648\\u0637\\u0646\\u064a\\u0629 \\u0627\\u0644\\u0643\\u0648\\u064a\\u062a\\u064a\\u0629\", \"401539/\\u0628\\u0646\\u0643 \\u0627\\u0644\\u0643\\u0648\\u064a\\u062a \\u0627\\u0644\\u062f\\u0648\\u0644\\u0649\", \"328414/\\u0627\\u0644\\u0634\\u0631\\u0643\\u0629 \\u0627\\u0644\\u0645\\u062a\\u062d\\u062f\\u0629 \\u0644\\u0635\\u0646\\u0627\\u0639\\u0629 \\u0627\\u0644\\u062d\\u062f\\u064a\\u062f\", \"404546/\\u0628\\u0646\\u0643 \\u0648\\u0631\\u0628\\u0647 / \\u0645\\u0633\\u0627\\u0647\\u0645\\u0629 \\u0627\\u0644\\u0639\\u0627\\u0645\\u0629\", \"181762\", \"328414\", \"401539\", \"404546\", \"680830\", \"\", \"\", \"\", \"\", \"\"], \"type\": \"treemap\", \"values\": [24003.485, 26000.0, 20000.0, 22861.0, 25000.0, 25000.0, 22861.0, 26000.0, 24003.485, 20000.0, 22861.0, 24003.485, 25000.0, 20000.0, 26000.0, 22861.0, 20000.0, 25000.0, 26000.0, 24003.485, 22861.0, 20000.0, 25000.0, 26000.0, 24003.485]}],                        {\"legend\": {\"tracegroupgap\": 0}, \"margin\": {\"t\": 60}, \"template\": {\"data\": {\"bar\": [{\"error_x\": {\"color\": \"#2a3f5f\"}, \"error_y\": {\"color\": \"#2a3f5f\"}, \"marker\": {\"line\": {\"color\": \"#E5ECF6\", \"width\": 0.5}}, \"type\": \"bar\"}], \"barpolar\": [{\"marker\": {\"line\": {\"color\": \"#E5ECF6\", \"width\": 0.5}}, \"type\": \"barpolar\"}], \"carpet\": [{\"aaxis\": {\"endlinecolor\": \"#2a3f5f\", \"gridcolor\": \"white\", \"linecolor\": \"white\", \"minorgridcolor\": \"white\", \"startlinecolor\": \"#2a3f5f\"}, \"baxis\": {\"endlinecolor\": \"#2a3f5f\", \"gridcolor\": \"white\", \"linecolor\": \"white\", \"minorgridcolor\": \"white\", \"startlinecolor\": \"#2a3f5f\"}, \"type\": \"carpet\"}], \"choropleth\": [{\"colorbar\": {\"outlinewidth\": 0, \"ticks\": \"\"}, \"type\": \"choropleth\"}], \"contour\": [{\"colorbar\": {\"outlinewidth\": 0, \"ticks\": \"\"}, \"colorscale\": [[0.0, \"#0d0887\"], [0.1111111111111111, \"#46039f\"], [0.2222222222222222, \"#7201a8\"], [0.3333333333333333, \"#9c179e\"], [0.4444444444444444, \"#bd3786\"], [0.5555555555555556, \"#d8576b\"], [0.6666666666666666, \"#ed7953\"], [0.7777777777777778, \"#fb9f3a\"], [0.8888888888888888, \"#fdca26\"], [1.0, \"#f0f921\"]], \"type\": \"contour\"}], \"contourcarpet\": [{\"colorbar\": {\"outlinewidth\": 0, \"ticks\": \"\"}, \"type\": \"contourcarpet\"}], \"heatmap\": [{\"colorbar\": {\"outlinewidth\": 0, \"ticks\": \"\"}, \"colorscale\": [[0.0, \"#0d0887\"], [0.1111111111111111, \"#46039f\"], [0.2222222222222222, \"#7201a8\"], [0.3333333333333333, \"#9c179e\"], [0.4444444444444444, \"#bd3786\"], [0.5555555555555556, \"#d8576b\"], [0.6666666666666666, \"#ed7953\"], [0.7777777777777778, \"#fb9f3a\"], [0.8888888888888888, \"#fdca26\"], [1.0, \"#f0f921\"]], \"type\": \"heatmap\"}], \"heatmapgl\": [{\"colorbar\": {\"outlinewidth\": 0, \"ticks\": \"\"}, \"colorscale\": [[0.0, \"#0d0887\"], [0.1111111111111111, \"#46039f\"], [0.2222222222222222, \"#7201a8\"], [0.3333333333333333, \"#9c179e\"], [0.4444444444444444, \"#bd3786\"], [0.5555555555555556, \"#d8576b\"], [0.6666666666666666, \"#ed7953\"], [0.7777777777777778, \"#fb9f3a\"], [0.8888888888888888, \"#fdca26\"], [1.0, \"#f0f921\"]], \"type\": \"heatmapgl\"}], \"histogram\": [{\"marker\": {\"colorbar\": {\"outlinewidth\": 0, \"ticks\": \"\"}}, \"type\": \"histogram\"}], \"histogram2d\": [{\"colorbar\": {\"outlinewidth\": 0, \"ticks\": \"\"}, \"colorscale\": [[0.0, \"#0d0887\"], [0.1111111111111111, \"#46039f\"], [0.2222222222222222, \"#7201a8\"], [0.3333333333333333, \"#9c179e\"], [0.4444444444444444, \"#bd3786\"], [0.5555555555555556, \"#d8576b\"], [0.6666666666666666, \"#ed7953\"], [0.7777777777777778, \"#fb9f3a\"], [0.8888888888888888, \"#fdca26\"], [1.0, \"#f0f921\"]], \"type\": \"histogram2d\"}], \"histogram2dcontour\": [{\"colorbar\": {\"outlinewidth\": 0, \"ticks\": \"\"}, \"colorscale\": [[0.0, \"#0d0887\"], [0.1111111111111111, \"#46039f\"], [0.2222222222222222, \"#7201a8\"], [0.3333333333333333, \"#9c179e\"], [0.4444444444444444, \"#bd3786\"], [0.5555555555555556, \"#d8576b\"], [0.6666666666666666, \"#ed7953\"], [0.7777777777777778, \"#fb9f3a\"], [0.8888888888888888, \"#fdca26\"], [1.0, \"#f0f921\"]], \"type\": \"histogram2dcontour\"}], \"mesh3d\": [{\"colorbar\": {\"outlinewidth\": 0, \"ticks\": \"\"}, \"type\": \"mesh3d\"}], \"parcoords\": [{\"line\": {\"colorbar\": {\"outlinewidth\": 0, \"ticks\": \"\"}}, \"type\": \"parcoords\"}], \"pie\": [{\"automargin\": true, \"type\": \"pie\"}], \"scatter\": [{\"marker\": {\"colorbar\": {\"outlinewidth\": 0, \"ticks\": \"\"}}, \"type\": \"scatter\"}], \"scatter3d\": [{\"line\": {\"colorbar\": {\"outlinewidth\": 0, \"ticks\": \"\"}}, \"marker\": {\"colorbar\": {\"outlinewidth\": 0, \"ticks\": \"\"}}, \"type\": \"scatter3d\"}], \"scattercarpet\": [{\"marker\": {\"colorbar\": {\"outlinewidth\": 0, \"ticks\": \"\"}}, \"type\": \"scattercarpet\"}], \"scattergeo\": [{\"marker\": {\"colorbar\": {\"outlinewidth\": 0, \"ticks\": \"\"}}, \"type\": \"scattergeo\"}], \"scattergl\": [{\"marker\": {\"colorbar\": {\"outlinewidth\": 0, \"ticks\": \"\"}}, \"type\": \"scattergl\"}], \"scattermapbox\": [{\"marker\": {\"colorbar\": {\"outlinewidth\": 0, \"ticks\": \"\"}}, \"type\": \"scattermapbox\"}], \"scatterpolar\": [{\"marker\": {\"colorbar\": {\"outlinewidth\": 0, \"ticks\": \"\"}}, \"type\": \"scatterpolar\"}], \"scatterpolargl\": [{\"marker\": {\"colorbar\": {\"outlinewidth\": 0, \"ticks\": \"\"}}, \"type\": \"scatterpolargl\"}], \"scatterternary\": [{\"marker\": {\"colorbar\": {\"outlinewidth\": 0, \"ticks\": \"\"}}, \"type\": \"scatterternary\"}], \"surface\": [{\"colorbar\": {\"outlinewidth\": 0, \"ticks\": \"\"}, \"colorscale\": [[0.0, \"#0d0887\"], [0.1111111111111111, \"#46039f\"], [0.2222222222222222, \"#7201a8\"], [0.3333333333333333, \"#9c179e\"], [0.4444444444444444, \"#bd3786\"], [0.5555555555555556, \"#d8576b\"], [0.6666666666666666, \"#ed7953\"], [0.7777777777777778, \"#fb9f3a\"], [0.8888888888888888, \"#fdca26\"], [1.0, \"#f0f921\"]], \"type\": \"surface\"}], \"table\": [{\"cells\": {\"fill\": {\"color\": \"#EBF0F8\"}, \"line\": {\"color\": \"white\"}}, \"header\": {\"fill\": {\"color\": \"#C8D4E3\"}, \"line\": {\"color\": \"white\"}}, \"type\": \"table\"}]}, \"layout\": {\"annotationdefaults\": {\"arrowcolor\": \"#2a3f5f\", \"arrowhead\": 0, \"arrowwidth\": 1}, \"autotypenumbers\": \"strict\", \"coloraxis\": {\"colorbar\": {\"outlinewidth\": 0, \"ticks\": \"\"}}, \"colorscale\": {\"diverging\": [[0, \"#8e0152\"], [0.1, \"#c51b7d\"], [0.2, \"#de77ae\"], [0.3, \"#f1b6da\"], [0.4, \"#fde0ef\"], [0.5, \"#f7f7f7\"], [0.6, \"#e6f5d0\"], [0.7, \"#b8e186\"], [0.8, \"#7fbc41\"], [0.9, \"#4d9221\"], [1, \"#276419\"]], \"sequential\": [[0.0, \"#0d0887\"], [0.1111111111111111, \"#46039f\"], [0.2222222222222222, \"#7201a8\"], [0.3333333333333333, \"#9c179e\"], [0.4444444444444444, \"#bd3786\"], [0.5555555555555556, \"#d8576b\"], [0.6666666666666666, \"#ed7953\"], [0.7777777777777778, \"#fb9f3a\"], [0.8888888888888888, \"#fdca26\"], [1.0, \"#f0f921\"]], \"sequentialminus\": [[0.0, \"#0d0887\"], [0.1111111111111111, \"#46039f\"], [0.2222222222222222, \"#7201a8\"], [0.3333333333333333, \"#9c179e\"], [0.4444444444444444, \"#bd3786\"], [0.5555555555555556, \"#d8576b\"], [0.6666666666666666, \"#ed7953\"], [0.7777777777777778, \"#fb9f3a\"], [0.8888888888888888, \"#fdca26\"], [1.0, \"#f0f921\"]]}, \"colorway\": [\"#636efa\", \"#EF553B\", \"#00cc96\", \"#ab63fa\", \"#FFA15A\", \"#19d3f3\", \"#FF6692\", \"#B6E880\", \"#FF97FF\", \"#FECB52\"], \"font\": {\"color\": \"#2a3f5f\"}, \"geo\": {\"bgcolor\": \"white\", \"lakecolor\": \"white\", \"landcolor\": \"#E5ECF6\", \"showlakes\": true, \"showland\": true, \"subunitcolor\": \"white\"}, \"hoverlabel\": {\"align\": \"left\"}, \"hovermode\": \"closest\", \"mapbox\": {\"style\": \"light\"}, \"paper_bgcolor\": \"white\", \"plot_bgcolor\": \"#E5ECF6\", \"polar\": {\"angularaxis\": {\"gridcolor\": \"white\", \"linecolor\": \"white\", \"ticks\": \"\"}, \"bgcolor\": \"#E5ECF6\", \"radialaxis\": {\"gridcolor\": \"white\", \"linecolor\": \"white\", \"ticks\": \"\"}}, \"scene\": {\"xaxis\": {\"backgroundcolor\": \"#E5ECF6\", \"gridcolor\": \"white\", \"gridwidth\": 2, \"linecolor\": \"white\", \"showbackground\": true, \"ticks\": \"\", \"zerolinecolor\": \"white\"}, \"yaxis\": {\"backgroundcolor\": \"#E5ECF6\", \"gridcolor\": \"white\", \"gridwidth\": 2, \"linecolor\": \"white\", \"showbackground\": true, \"ticks\": \"\", \"zerolinecolor\": \"white\"}, \"zaxis\": {\"backgroundcolor\": \"#E5ECF6\", \"gridcolor\": \"white\", \"gridwidth\": 2, \"linecolor\": \"white\", \"showbackground\": true, \"ticks\": \"\", \"zerolinecolor\": \"white\"}}, \"shapedefaults\": {\"line\": {\"color\": \"#2a3f5f\"}}, \"ternary\": {\"aaxis\": {\"gridcolor\": \"white\", \"linecolor\": \"white\", \"ticks\": \"\"}, \"baxis\": {\"gridcolor\": \"white\", \"linecolor\": \"white\", \"ticks\": \"\"}, \"bgcolor\": \"#E5ECF6\", \"caxis\": {\"gridcolor\": \"white\", \"linecolor\": \"white\", \"ticks\": \"\"}}, \"title\": {\"x\": 0.05}, \"xaxis\": {\"automargin\": true, \"gridcolor\": \"white\", \"linecolor\": \"white\", \"ticks\": \"\", \"title\": {\"standoff\": 15}, \"zerolinecolor\": \"white\", \"zerolinewidth\": 2}, \"yaxis\": {\"automargin\": true, \"gridcolor\": \"white\", \"linecolor\": \"white\", \"ticks\": \"\", \"title\": {\"standoff\": 15}, \"zerolinecolor\": \"white\", \"zerolinewidth\": 2}}}},                        {\"responsive\": true}                    ).then(function(){\n",
              "                            \n",
              "var gd = document.getElementById('469cff62-cddb-44be-a09d-ce1b6eee51df');\n",
              "var x = new MutationObserver(function (mutations, observer) {{\n",
              "        var display = window.getComputedStyle(gd).display;\n",
              "        if (!display || display === 'none') {{\n",
              "            console.log([gd, 'removed!']);\n",
              "            Plotly.purge(gd);\n",
              "            observer.disconnect();\n",
              "        }}\n",
              "}});\n",
              "\n",
              "// Listen for the removal of the full notebook cells\n",
              "var notebookContainer = gd.closest('#notebook-container');\n",
              "if (notebookContainer) {{\n",
              "    x.observe(notebookContainer, {childList: true});\n",
              "}}\n",
              "\n",
              "// Listen for the clearing of the current output cell\n",
              "var outputEl = gd.closest('.output');\n",
              "if (outputEl) {{\n",
              "    x.observe(outputEl, {childList: true});\n",
              "}}\n",
              "\n",
              "                        })                };                            </script>        </div>\n",
              "</body>\n",
              "</html>"
            ]
          },
          "metadata": {
            "tags": []
          }
        }
      ]
    },
    {
      "cell_type": "markdown",
      "metadata": {
        "id": "623d7094"
      },
      "source": [
        "#### INSIGHT \n",
        "\n",
        "**Last 5 companies:**\n",
        "\n",
        "-- offering min salary\n",
        "\n",
        "-- Governorate\n",
        "\n",
        "-- Age\n",
        "\n",
        "-- HIRE Date"
      ],
      "id": "623d7094"
    },
    {
      "cell_type": "code",
      "metadata": {
        "colab": {
          "base_uri": "https://localhost:8080/",
          "height": 204
        },
        "id": "14ae8976",
        "outputId": "a8a6fea3-dd8a-4282-d72f-7f216d92f2bd"
      },
      "source": [
        "#hide_input\n",
        "insight24 = pd.DataFrame()\n",
        "insight24 = data.groupby([\"COMPANY_NAME\",\"GOVERNORATE_DESC\",\"Age\",\"HIRE_DATE\"])['SALARY'].min()\n",
        "insight24 = insight24.reset_index([\"COMPANY_NAME\",\"GOVERNORATE_DESC\",\"Age\",\"HIRE_DATE\"])\n",
        "insight24 = insight24.nsmallest(5,'SALARY')\n",
        "insight24"
      ],
      "id": "14ae8976",
      "execution_count": null,
      "outputs": [
        {
          "output_type": "execute_result",
          "data": {
            "text/html": [
              "<div>\n",
              "<style scoped>\n",
              "    .dataframe tbody tr th:only-of-type {\n",
              "        vertical-align: middle;\n",
              "    }\n",
              "\n",
              "    .dataframe tbody tr th {\n",
              "        vertical-align: top;\n",
              "    }\n",
              "\n",
              "    .dataframe thead th {\n",
              "        text-align: right;\n",
              "    }\n",
              "</style>\n",
              "<table border=\"1\" class=\"dataframe\">\n",
              "  <thead>\n",
              "    <tr style=\"text-align: right;\">\n",
              "      <th></th>\n",
              "      <th>COMPANY_NAME</th>\n",
              "      <th>GOVERNORATE_DESC</th>\n",
              "      <th>Age</th>\n",
              "      <th>HIRE_DATE</th>\n",
              "      <th>SALARY</th>\n",
              "    </tr>\n",
              "  </thead>\n",
              "  <tbody>\n",
              "    <tr>\n",
              "      <th>515848</th>\n",
              "      <td>توفير الدعم لأعمال السكرتارية والأعمال الإداري...</td>\n",
              "      <td>العقود الحكومية</td>\n",
              "      <td>62.0</td>\n",
              "      <td>2010-03-08</td>\n",
              "      <td>1.425</td>\n",
              "    </tr>\n",
              "    <tr>\n",
              "      <th>467053</th>\n",
              "      <td>تطوير طبقة فارس السفلية للنفط الثقيل ( المرحلة...</td>\n",
              "      <td>العقود الحكومية</td>\n",
              "      <td>27.0</td>\n",
              "      <td>2017-04-12</td>\n",
              "      <td>2.000</td>\n",
              "    </tr>\n",
              "    <tr>\n",
              "      <th>467054</th>\n",
              "      <td>تطوير طبقة فارس السفلية للنفط الثقيل ( المرحلة...</td>\n",
              "      <td>العقود الحكومية</td>\n",
              "      <td>27.0</td>\n",
              "      <td>2017-05-04</td>\n",
              "      <td>2.000</td>\n",
              "    </tr>\n",
              "    <tr>\n",
              "      <th>467057</th>\n",
              "      <td>تطوير طبقة فارس السفلية للنفط الثقيل ( المرحلة...</td>\n",
              "      <td>العقود الحكومية</td>\n",
              "      <td>27.0</td>\n",
              "      <td>2018-01-09</td>\n",
              "      <td>2.000</td>\n",
              "    </tr>\n",
              "    <tr>\n",
              "      <th>467058</th>\n",
              "      <td>تطوير طبقة فارس السفلية للنفط الثقيل ( المرحلة...</td>\n",
              "      <td>العقود الحكومية</td>\n",
              "      <td>27.0</td>\n",
              "      <td>2018-11-18</td>\n",
              "      <td>2.000</td>\n",
              "    </tr>\n",
              "  </tbody>\n",
              "</table>\n",
              "</div>"
            ],
            "text/plain": [
              "                                             COMPANY_NAME  ... SALARY\n",
              "515848  توفير الدعم لأعمال السكرتارية والأعمال الإداري...  ...  1.425\n",
              "467053  تطوير طبقة فارس السفلية للنفط الثقيل ( المرحلة...  ...  2.000\n",
              "467054  تطوير طبقة فارس السفلية للنفط الثقيل ( المرحلة...  ...  2.000\n",
              "467057  تطوير طبقة فارس السفلية للنفط الثقيل ( المرحلة...  ...  2.000\n",
              "467058  تطوير طبقة فارس السفلية للنفط الثقيل ( المرحلة...  ...  2.000\n",
              "\n",
              "[5 rows x 5 columns]"
            ]
          },
          "metadata": {
            "tags": []
          },
          "execution_count": 80
        }
      ]
    },
    {
      "cell_type": "code",
      "metadata": {
        "colab": {
          "base_uri": "https://localhost:8080/",
          "height": 542
        },
        "id": "63fe6bd9",
        "outputId": "cb3fa6ae-fe3d-4bf5-be34-f50f518ffc71"
      },
      "source": [
        "#hide_input\n",
        "fig = px.treemap(insight24, path=[insight23.index,\"COMPANY_NAME\",\"GOVERNORATE_DESC\",\"Age\",\"HIRE_DATE\"], values='SALARY')\n",
        "fig.show()"
      ],
      "id": "63fe6bd9",
      "execution_count": null,
      "outputs": [
        {
          "output_type": "display_data",
          "data": {
            "text/html": [
              "<html>\n",
              "<head><meta charset=\"utf-8\" /></head>\n",
              "<body>\n",
              "    <div>            <script src=\"https://cdnjs.cloudflare.com/ajax/libs/mathjax/2.7.5/MathJax.js?config=TeX-AMS-MML_SVG\"></script><script type=\"text/javascript\">if (window.MathJax) {MathJax.Hub.Config({SVG: {font: \"STIX-Web\"}});}</script>                <script type=\"text/javascript\">window.PlotlyConfig = {MathJaxConfig: 'local'};</script>\n",
              "        <script src=\"https://cdn.plot.ly/plotly-latest.min.js\"></script>                <div id=\"46a35d75-4259-4cf0-bedc-ef203af2eb38\" class=\"plotly-graph-div\" style=\"height:525px; width:100%;\"></div>            <script type=\"text/javascript\">                                    window.PLOTLYENV=window.PLOTLYENV || {};                                    if (document.getElementById(\"46a35d75-4259-4cf0-bedc-ef203af2eb38\")) {                    Plotly.newPlot(                        \"46a35d75-4259-4cf0-bedc-ef203af2eb38\",                        [{\"branchvalues\": \"total\", \"domain\": {\"x\": [0.0, 1.0], \"y\": [0.0, 1.0]}, \"hovertemplate\": \"labels=%{label}<br>SALARY=%{value}<br>parent=%{parent}<br>id=%{id}<extra></extra>\", \"ids\": [\"404546/\\u062a\\u0648\\u0641\\u064a\\u0631 \\u0627\\u0644\\u062f\\u0639\\u0645 \\u0644\\u0623\\u0639\\u0645\\u0627\\u0644 \\u0627\\u0644\\u0633\\u0643\\u0631\\u062a\\u0627\\u0631\\u064a\\u0629 \\u0648\\u0627\\u0644\\u0623\\u0639\\u0645\\u0627\\u0644 \\u0627\\u0644\\u0625\\u062f\\u0627\\u0631\\u064a\\u0629 \\u0644\\u0634\\u0631\\u0643\\u0629 \\u0646\\u0641\\u0637 \\u0627\\u0644\\u0643\\u0648\\u064a\\u062a/\\u0627\\u0644\\u0639\\u0642\\u0648\\u062f \\u0627\\u0644\\u062d\\u0643\\u0648\\u0645\\u064a\\u0629/62.0/2010-03-08\", \"401539/\\u062a\\u0637\\u0648\\u064a\\u0631 \\u0637\\u0628\\u0642\\u0629 \\u0641\\u0627\\u0631\\u0633 \\u0627\\u0644\\u0633\\u0641\\u0644\\u064a\\u0629 \\u0644\\u0644\\u0646\\u0641\\u0637 \\u0627\\u0644\\u062b\\u0642\\u064a\\u0644 ( \\u0627\\u0644\\u0645\\u0631\\u062d\\u0644\\u0629 \\u0627\\u0644\\u0627\\u0648\\u0644\\u0649)/\\u0627\\u0644\\u0639\\u0642\\u0648\\u062f \\u0627\\u0644\\u062d\\u0643\\u0648\\u0645\\u064a\\u0629/27.0/2017-04-12\", \"680830/\\u062a\\u0637\\u0648\\u064a\\u0631 \\u0637\\u0628\\u0642\\u0629 \\u0641\\u0627\\u0631\\u0633 \\u0627\\u0644\\u0633\\u0641\\u0644\\u064a\\u0629 \\u0644\\u0644\\u0646\\u0641\\u0637 \\u0627\\u0644\\u062b\\u0642\\u064a\\u0644 ( \\u0627\\u0644\\u0645\\u0631\\u062d\\u0644\\u0629 \\u0627\\u0644\\u0627\\u0648\\u0644\\u0649)/\\u0627\\u0644\\u0639\\u0642\\u0648\\u062f \\u0627\\u0644\\u062d\\u0643\\u0648\\u0645\\u064a\\u0629/27.0/2017-05-04\", \"181762/\\u062a\\u0637\\u0648\\u064a\\u0631 \\u0637\\u0628\\u0642\\u0629 \\u0641\\u0627\\u0631\\u0633 \\u0627\\u0644\\u0633\\u0641\\u0644\\u064a\\u0629 \\u0644\\u0644\\u0646\\u0641\\u0637 \\u0627\\u0644\\u062b\\u0642\\u064a\\u0644 ( \\u0627\\u0644\\u0645\\u0631\\u062d\\u0644\\u0629 \\u0627\\u0644\\u0627\\u0648\\u0644\\u0649)/\\u0627\\u0644\\u0639\\u0642\\u0648\\u062f \\u0627\\u0644\\u062d\\u0643\\u0648\\u0645\\u064a\\u0629/27.0/2018-01-09\", \"328414/\\u062a\\u0637\\u0648\\u064a\\u0631 \\u0637\\u0628\\u0642\\u0629 \\u0641\\u0627\\u0631\\u0633 \\u0627\\u0644\\u0633\\u0641\\u0644\\u064a\\u0629 \\u0644\\u0644\\u0646\\u0641\\u0637 \\u0627\\u0644\\u062b\\u0642\\u064a\\u0644 ( \\u0627\\u0644\\u0645\\u0631\\u062d\\u0644\\u0629 \\u0627\\u0644\\u0627\\u0648\\u0644\\u0649)/\\u0627\\u0644\\u0639\\u0642\\u0648\\u062f \\u0627\\u0644\\u062d\\u0643\\u0648\\u0645\\u064a\\u0629/27.0/2018-11-18\", \"181762/\\u062a\\u0637\\u0648\\u064a\\u0631 \\u0637\\u0628\\u0642\\u0629 \\u0641\\u0627\\u0631\\u0633 \\u0627\\u0644\\u0633\\u0641\\u0644\\u064a\\u0629 \\u0644\\u0644\\u0646\\u0641\\u0637 \\u0627\\u0644\\u062b\\u0642\\u064a\\u0644 ( \\u0627\\u0644\\u0645\\u0631\\u062d\\u0644\\u0629 \\u0627\\u0644\\u0627\\u0648\\u0644\\u0649)/\\u0627\\u0644\\u0639\\u0642\\u0648\\u062f \\u0627\\u0644\\u062d\\u0643\\u0648\\u0645\\u064a\\u0629/27.0\", \"328414/\\u062a\\u0637\\u0648\\u064a\\u0631 \\u0637\\u0628\\u0642\\u0629 \\u0641\\u0627\\u0631\\u0633 \\u0627\\u0644\\u0633\\u0641\\u0644\\u064a\\u0629 \\u0644\\u0644\\u0646\\u0641\\u0637 \\u0627\\u0644\\u062b\\u0642\\u064a\\u0644 ( \\u0627\\u0644\\u0645\\u0631\\u062d\\u0644\\u0629 \\u0627\\u0644\\u0627\\u0648\\u0644\\u0649)/\\u0627\\u0644\\u0639\\u0642\\u0648\\u062f \\u0627\\u0644\\u062d\\u0643\\u0648\\u0645\\u064a\\u0629/27.0\", \"401539/\\u062a\\u0637\\u0648\\u064a\\u0631 \\u0637\\u0628\\u0642\\u0629 \\u0641\\u0627\\u0631\\u0633 \\u0627\\u0644\\u0633\\u0641\\u0644\\u064a\\u0629 \\u0644\\u0644\\u0646\\u0641\\u0637 \\u0627\\u0644\\u062b\\u0642\\u064a\\u0644 ( \\u0627\\u0644\\u0645\\u0631\\u062d\\u0644\\u0629 \\u0627\\u0644\\u0627\\u0648\\u0644\\u0649)/\\u0627\\u0644\\u0639\\u0642\\u0648\\u062f \\u0627\\u0644\\u062d\\u0643\\u0648\\u0645\\u064a\\u0629/27.0\", \"680830/\\u062a\\u0637\\u0648\\u064a\\u0631 \\u0637\\u0628\\u0642\\u0629 \\u0641\\u0627\\u0631\\u0633 \\u0627\\u0644\\u0633\\u0641\\u0644\\u064a\\u0629 \\u0644\\u0644\\u0646\\u0641\\u0637 \\u0627\\u0644\\u062b\\u0642\\u064a\\u0644 ( \\u0627\\u0644\\u0645\\u0631\\u062d\\u0644\\u0629 \\u0627\\u0644\\u0627\\u0648\\u0644\\u0649)/\\u0627\\u0644\\u0639\\u0642\\u0648\\u062f \\u0627\\u0644\\u062d\\u0643\\u0648\\u0645\\u064a\\u0629/27.0\", \"404546/\\u062a\\u0648\\u0641\\u064a\\u0631 \\u0627\\u0644\\u062f\\u0639\\u0645 \\u0644\\u0623\\u0639\\u0645\\u0627\\u0644 \\u0627\\u0644\\u0633\\u0643\\u0631\\u062a\\u0627\\u0631\\u064a\\u0629 \\u0648\\u0627\\u0644\\u0623\\u0639\\u0645\\u0627\\u0644 \\u0627\\u0644\\u0625\\u062f\\u0627\\u0631\\u064a\\u0629 \\u0644\\u0634\\u0631\\u0643\\u0629 \\u0646\\u0641\\u0637 \\u0627\\u0644\\u0643\\u0648\\u064a\\u062a/\\u0627\\u0644\\u0639\\u0642\\u0648\\u062f \\u0627\\u0644\\u062d\\u0643\\u0648\\u0645\\u064a\\u0629/62.0\", \"181762/\\u062a\\u0637\\u0648\\u064a\\u0631 \\u0637\\u0628\\u0642\\u0629 \\u0641\\u0627\\u0631\\u0633 \\u0627\\u0644\\u0633\\u0641\\u0644\\u064a\\u0629 \\u0644\\u0644\\u0646\\u0641\\u0637 \\u0627\\u0644\\u062b\\u0642\\u064a\\u0644 ( \\u0627\\u0644\\u0645\\u0631\\u062d\\u0644\\u0629 \\u0627\\u0644\\u0627\\u0648\\u0644\\u0649)/\\u0627\\u0644\\u0639\\u0642\\u0648\\u062f \\u0627\\u0644\\u062d\\u0643\\u0648\\u0645\\u064a\\u0629\", \"328414/\\u062a\\u0637\\u0648\\u064a\\u0631 \\u0637\\u0628\\u0642\\u0629 \\u0641\\u0627\\u0631\\u0633 \\u0627\\u0644\\u0633\\u0641\\u0644\\u064a\\u0629 \\u0644\\u0644\\u0646\\u0641\\u0637 \\u0627\\u0644\\u062b\\u0642\\u064a\\u0644 ( \\u0627\\u0644\\u0645\\u0631\\u062d\\u0644\\u0629 \\u0627\\u0644\\u0627\\u0648\\u0644\\u0649)/\\u0627\\u0644\\u0639\\u0642\\u0648\\u062f \\u0627\\u0644\\u062d\\u0643\\u0648\\u0645\\u064a\\u0629\", \"401539/\\u062a\\u0637\\u0648\\u064a\\u0631 \\u0637\\u0628\\u0642\\u0629 \\u0641\\u0627\\u0631\\u0633 \\u0627\\u0644\\u0633\\u0641\\u0644\\u064a\\u0629 \\u0644\\u0644\\u0646\\u0641\\u0637 \\u0627\\u0644\\u062b\\u0642\\u064a\\u0644 ( \\u0627\\u0644\\u0645\\u0631\\u062d\\u0644\\u0629 \\u0627\\u0644\\u0627\\u0648\\u0644\\u0649)/\\u0627\\u0644\\u0639\\u0642\\u0648\\u062f \\u0627\\u0644\\u062d\\u0643\\u0648\\u0645\\u064a\\u0629\", \"680830/\\u062a\\u0637\\u0648\\u064a\\u0631 \\u0637\\u0628\\u0642\\u0629 \\u0641\\u0627\\u0631\\u0633 \\u0627\\u0644\\u0633\\u0641\\u0644\\u064a\\u0629 \\u0644\\u0644\\u0646\\u0641\\u0637 \\u0627\\u0644\\u062b\\u0642\\u064a\\u0644 ( \\u0627\\u0644\\u0645\\u0631\\u062d\\u0644\\u0629 \\u0627\\u0644\\u0627\\u0648\\u0644\\u0649)/\\u0627\\u0644\\u0639\\u0642\\u0648\\u062f \\u0627\\u0644\\u062d\\u0643\\u0648\\u0645\\u064a\\u0629\", \"404546/\\u062a\\u0648\\u0641\\u064a\\u0631 \\u0627\\u0644\\u062f\\u0639\\u0645 \\u0644\\u0623\\u0639\\u0645\\u0627\\u0644 \\u0627\\u0644\\u0633\\u0643\\u0631\\u062a\\u0627\\u0631\\u064a\\u0629 \\u0648\\u0627\\u0644\\u0623\\u0639\\u0645\\u0627\\u0644 \\u0627\\u0644\\u0625\\u062f\\u0627\\u0631\\u064a\\u0629 \\u0644\\u0634\\u0631\\u0643\\u0629 \\u0646\\u0641\\u0637 \\u0627\\u0644\\u0643\\u0648\\u064a\\u062a/\\u0627\\u0644\\u0639\\u0642\\u0648\\u062f \\u0627\\u0644\\u062d\\u0643\\u0648\\u0645\\u064a\\u0629\", \"181762/\\u062a\\u0637\\u0648\\u064a\\u0631 \\u0637\\u0628\\u0642\\u0629 \\u0641\\u0627\\u0631\\u0633 \\u0627\\u0644\\u0633\\u0641\\u0644\\u064a\\u0629 \\u0644\\u0644\\u0646\\u0641\\u0637 \\u0627\\u0644\\u062b\\u0642\\u064a\\u0644 ( \\u0627\\u0644\\u0645\\u0631\\u062d\\u0644\\u0629 \\u0627\\u0644\\u0627\\u0648\\u0644\\u0649)\", \"328414/\\u062a\\u0637\\u0648\\u064a\\u0631 \\u0637\\u0628\\u0642\\u0629 \\u0641\\u0627\\u0631\\u0633 \\u0627\\u0644\\u0633\\u0641\\u0644\\u064a\\u0629 \\u0644\\u0644\\u0646\\u0641\\u0637 \\u0627\\u0644\\u062b\\u0642\\u064a\\u0644 ( \\u0627\\u0644\\u0645\\u0631\\u062d\\u0644\\u0629 \\u0627\\u0644\\u0627\\u0648\\u0644\\u0649)\", \"401539/\\u062a\\u0637\\u0648\\u064a\\u0631 \\u0637\\u0628\\u0642\\u0629 \\u0641\\u0627\\u0631\\u0633 \\u0627\\u0644\\u0633\\u0641\\u0644\\u064a\\u0629 \\u0644\\u0644\\u0646\\u0641\\u0637 \\u0627\\u0644\\u062b\\u0642\\u064a\\u0644 ( \\u0627\\u0644\\u0645\\u0631\\u062d\\u0644\\u0629 \\u0627\\u0644\\u0627\\u0648\\u0644\\u0649)\", \"680830/\\u062a\\u0637\\u0648\\u064a\\u0631 \\u0637\\u0628\\u0642\\u0629 \\u0641\\u0627\\u0631\\u0633 \\u0627\\u0644\\u0633\\u0641\\u0644\\u064a\\u0629 \\u0644\\u0644\\u0646\\u0641\\u0637 \\u0627\\u0644\\u062b\\u0642\\u064a\\u0644 ( \\u0627\\u0644\\u0645\\u0631\\u062d\\u0644\\u0629 \\u0627\\u0644\\u0627\\u0648\\u0644\\u0649)\", \"404546/\\u062a\\u0648\\u0641\\u064a\\u0631 \\u0627\\u0644\\u062f\\u0639\\u0645 \\u0644\\u0623\\u0639\\u0645\\u0627\\u0644 \\u0627\\u0644\\u0633\\u0643\\u0631\\u062a\\u0627\\u0631\\u064a\\u0629 \\u0648\\u0627\\u0644\\u0623\\u0639\\u0645\\u0627\\u0644 \\u0627\\u0644\\u0625\\u062f\\u0627\\u0631\\u064a\\u0629 \\u0644\\u0634\\u0631\\u0643\\u0629 \\u0646\\u0641\\u0637 \\u0627\\u0644\\u0643\\u0648\\u064a\\u062a\", \"181762\", \"328414\", \"401539\", \"404546\", \"680830\"], \"labels\": [\"2010-03-08\", \"2017-04-12\", \"2017-05-04\", \"2018-01-09\", \"2018-11-18\", \"27.0\", \"27.0\", \"27.0\", \"27.0\", \"62.0\", \"\\u0627\\u0644\\u0639\\u0642\\u0648\\u062f \\u0627\\u0644\\u062d\\u0643\\u0648\\u0645\\u064a\\u0629\", \"\\u0627\\u0644\\u0639\\u0642\\u0648\\u062f \\u0627\\u0644\\u062d\\u0643\\u0648\\u0645\\u064a\\u0629\", \"\\u0627\\u0644\\u0639\\u0642\\u0648\\u062f \\u0627\\u0644\\u062d\\u0643\\u0648\\u0645\\u064a\\u0629\", \"\\u0627\\u0644\\u0639\\u0642\\u0648\\u062f \\u0627\\u0644\\u062d\\u0643\\u0648\\u0645\\u064a\\u0629\", \"\\u0627\\u0644\\u0639\\u0642\\u0648\\u062f \\u0627\\u0644\\u062d\\u0643\\u0648\\u0645\\u064a\\u0629\", \"\\u062a\\u0637\\u0648\\u064a\\u0631 \\u0637\\u0628\\u0642\\u0629 \\u0641\\u0627\\u0631\\u0633 \\u0627\\u0644\\u0633\\u0641\\u0644\\u064a\\u0629 \\u0644\\u0644\\u0646\\u0641\\u0637 \\u0627\\u0644\\u062b\\u0642\\u064a\\u0644 ( \\u0627\\u0644\\u0645\\u0631\\u062d\\u0644\\u0629 \\u0627\\u0644\\u0627\\u0648\\u0644\\u0649)\", \"\\u062a\\u0637\\u0648\\u064a\\u0631 \\u0637\\u0628\\u0642\\u0629 \\u0641\\u0627\\u0631\\u0633 \\u0627\\u0644\\u0633\\u0641\\u0644\\u064a\\u0629 \\u0644\\u0644\\u0646\\u0641\\u0637 \\u0627\\u0644\\u062b\\u0642\\u064a\\u0644 ( \\u0627\\u0644\\u0645\\u0631\\u062d\\u0644\\u0629 \\u0627\\u0644\\u0627\\u0648\\u0644\\u0649)\", \"\\u062a\\u0637\\u0648\\u064a\\u0631 \\u0637\\u0628\\u0642\\u0629 \\u0641\\u0627\\u0631\\u0633 \\u0627\\u0644\\u0633\\u0641\\u0644\\u064a\\u0629 \\u0644\\u0644\\u0646\\u0641\\u0637 \\u0627\\u0644\\u062b\\u0642\\u064a\\u0644 ( \\u0627\\u0644\\u0645\\u0631\\u062d\\u0644\\u0629 \\u0627\\u0644\\u0627\\u0648\\u0644\\u0649)\", \"\\u062a\\u0637\\u0648\\u064a\\u0631 \\u0637\\u0628\\u0642\\u0629 \\u0641\\u0627\\u0631\\u0633 \\u0627\\u0644\\u0633\\u0641\\u0644\\u064a\\u0629 \\u0644\\u0644\\u0646\\u0641\\u0637 \\u0627\\u0644\\u062b\\u0642\\u064a\\u0644 ( \\u0627\\u0644\\u0645\\u0631\\u062d\\u0644\\u0629 \\u0627\\u0644\\u0627\\u0648\\u0644\\u0649)\", \"\\u062a\\u0648\\u0641\\u064a\\u0631 \\u0627\\u0644\\u062f\\u0639\\u0645 \\u0644\\u0623\\u0639\\u0645\\u0627\\u0644 \\u0627\\u0644\\u0633\\u0643\\u0631\\u062a\\u0627\\u0631\\u064a\\u0629 \\u0648\\u0627\\u0644\\u0623\\u0639\\u0645\\u0627\\u0644 \\u0627\\u0644\\u0625\\u062f\\u0627\\u0631\\u064a\\u0629 \\u0644\\u0634\\u0631\\u0643\\u0629 \\u0646\\u0641\\u0637 \\u0627\\u0644\\u0643\\u0648\\u064a\\u062a\", \"181762\", \"328414\", \"401539\", \"404546\", \"680830\"], \"name\": \"\", \"parents\": [\"404546/\\u062a\\u0648\\u0641\\u064a\\u0631 \\u0627\\u0644\\u062f\\u0639\\u0645 \\u0644\\u0623\\u0639\\u0645\\u0627\\u0644 \\u0627\\u0644\\u0633\\u0643\\u0631\\u062a\\u0627\\u0631\\u064a\\u0629 \\u0648\\u0627\\u0644\\u0623\\u0639\\u0645\\u0627\\u0644 \\u0627\\u0644\\u0625\\u062f\\u0627\\u0631\\u064a\\u0629 \\u0644\\u0634\\u0631\\u0643\\u0629 \\u0646\\u0641\\u0637 \\u0627\\u0644\\u0643\\u0648\\u064a\\u062a/\\u0627\\u0644\\u0639\\u0642\\u0648\\u062f \\u0627\\u0644\\u062d\\u0643\\u0648\\u0645\\u064a\\u0629/62.0\", \"401539/\\u062a\\u0637\\u0648\\u064a\\u0631 \\u0637\\u0628\\u0642\\u0629 \\u0641\\u0627\\u0631\\u0633 \\u0627\\u0644\\u0633\\u0641\\u0644\\u064a\\u0629 \\u0644\\u0644\\u0646\\u0641\\u0637 \\u0627\\u0644\\u062b\\u0642\\u064a\\u0644 ( \\u0627\\u0644\\u0645\\u0631\\u062d\\u0644\\u0629 \\u0627\\u0644\\u0627\\u0648\\u0644\\u0649)/\\u0627\\u0644\\u0639\\u0642\\u0648\\u062f \\u0627\\u0644\\u062d\\u0643\\u0648\\u0645\\u064a\\u0629/27.0\", \"680830/\\u062a\\u0637\\u0648\\u064a\\u0631 \\u0637\\u0628\\u0642\\u0629 \\u0641\\u0627\\u0631\\u0633 \\u0627\\u0644\\u0633\\u0641\\u0644\\u064a\\u0629 \\u0644\\u0644\\u0646\\u0641\\u0637 \\u0627\\u0644\\u062b\\u0642\\u064a\\u0644 ( \\u0627\\u0644\\u0645\\u0631\\u062d\\u0644\\u0629 \\u0627\\u0644\\u0627\\u0648\\u0644\\u0649)/\\u0627\\u0644\\u0639\\u0642\\u0648\\u062f \\u0627\\u0644\\u062d\\u0643\\u0648\\u0645\\u064a\\u0629/27.0\", \"181762/\\u062a\\u0637\\u0648\\u064a\\u0631 \\u0637\\u0628\\u0642\\u0629 \\u0641\\u0627\\u0631\\u0633 \\u0627\\u0644\\u0633\\u0641\\u0644\\u064a\\u0629 \\u0644\\u0644\\u0646\\u0641\\u0637 \\u0627\\u0644\\u062b\\u0642\\u064a\\u0644 ( \\u0627\\u0644\\u0645\\u0631\\u062d\\u0644\\u0629 \\u0627\\u0644\\u0627\\u0648\\u0644\\u0649)/\\u0627\\u0644\\u0639\\u0642\\u0648\\u062f \\u0627\\u0644\\u062d\\u0643\\u0648\\u0645\\u064a\\u0629/27.0\", \"328414/\\u062a\\u0637\\u0648\\u064a\\u0631 \\u0637\\u0628\\u0642\\u0629 \\u0641\\u0627\\u0631\\u0633 \\u0627\\u0644\\u0633\\u0641\\u0644\\u064a\\u0629 \\u0644\\u0644\\u0646\\u0641\\u0637 \\u0627\\u0644\\u062b\\u0642\\u064a\\u0644 ( \\u0627\\u0644\\u0645\\u0631\\u062d\\u0644\\u0629 \\u0627\\u0644\\u0627\\u0648\\u0644\\u0649)/\\u0627\\u0644\\u0639\\u0642\\u0648\\u062f \\u0627\\u0644\\u062d\\u0643\\u0648\\u0645\\u064a\\u0629/27.0\", \"181762/\\u062a\\u0637\\u0648\\u064a\\u0631 \\u0637\\u0628\\u0642\\u0629 \\u0641\\u0627\\u0631\\u0633 \\u0627\\u0644\\u0633\\u0641\\u0644\\u064a\\u0629 \\u0644\\u0644\\u0646\\u0641\\u0637 \\u0627\\u0644\\u062b\\u0642\\u064a\\u0644 ( \\u0627\\u0644\\u0645\\u0631\\u062d\\u0644\\u0629 \\u0627\\u0644\\u0627\\u0648\\u0644\\u0649)/\\u0627\\u0644\\u0639\\u0642\\u0648\\u062f \\u0627\\u0644\\u062d\\u0643\\u0648\\u0645\\u064a\\u0629\", \"328414/\\u062a\\u0637\\u0648\\u064a\\u0631 \\u0637\\u0628\\u0642\\u0629 \\u0641\\u0627\\u0631\\u0633 \\u0627\\u0644\\u0633\\u0641\\u0644\\u064a\\u0629 \\u0644\\u0644\\u0646\\u0641\\u0637 \\u0627\\u0644\\u062b\\u0642\\u064a\\u0644 ( \\u0627\\u0644\\u0645\\u0631\\u062d\\u0644\\u0629 \\u0627\\u0644\\u0627\\u0648\\u0644\\u0649)/\\u0627\\u0644\\u0639\\u0642\\u0648\\u062f \\u0627\\u0644\\u062d\\u0643\\u0648\\u0645\\u064a\\u0629\", \"401539/\\u062a\\u0637\\u0648\\u064a\\u0631 \\u0637\\u0628\\u0642\\u0629 \\u0641\\u0627\\u0631\\u0633 \\u0627\\u0644\\u0633\\u0641\\u0644\\u064a\\u0629 \\u0644\\u0644\\u0646\\u0641\\u0637 \\u0627\\u0644\\u062b\\u0642\\u064a\\u0644 ( \\u0627\\u0644\\u0645\\u0631\\u062d\\u0644\\u0629 \\u0627\\u0644\\u0627\\u0648\\u0644\\u0649)/\\u0627\\u0644\\u0639\\u0642\\u0648\\u062f \\u0627\\u0644\\u062d\\u0643\\u0648\\u0645\\u064a\\u0629\", \"680830/\\u062a\\u0637\\u0648\\u064a\\u0631 \\u0637\\u0628\\u0642\\u0629 \\u0641\\u0627\\u0631\\u0633 \\u0627\\u0644\\u0633\\u0641\\u0644\\u064a\\u0629 \\u0644\\u0644\\u0646\\u0641\\u0637 \\u0627\\u0644\\u062b\\u0642\\u064a\\u0644 ( \\u0627\\u0644\\u0645\\u0631\\u062d\\u0644\\u0629 \\u0627\\u0644\\u0627\\u0648\\u0644\\u0649)/\\u0627\\u0644\\u0639\\u0642\\u0648\\u062f \\u0627\\u0644\\u062d\\u0643\\u0648\\u0645\\u064a\\u0629\", \"404546/\\u062a\\u0648\\u0641\\u064a\\u0631 \\u0627\\u0644\\u062f\\u0639\\u0645 \\u0644\\u0623\\u0639\\u0645\\u0627\\u0644 \\u0627\\u0644\\u0633\\u0643\\u0631\\u062a\\u0627\\u0631\\u064a\\u0629 \\u0648\\u0627\\u0644\\u0623\\u0639\\u0645\\u0627\\u0644 \\u0627\\u0644\\u0625\\u062f\\u0627\\u0631\\u064a\\u0629 \\u0644\\u0634\\u0631\\u0643\\u0629 \\u0646\\u0641\\u0637 \\u0627\\u0644\\u0643\\u0648\\u064a\\u062a/\\u0627\\u0644\\u0639\\u0642\\u0648\\u062f \\u0627\\u0644\\u062d\\u0643\\u0648\\u0645\\u064a\\u0629\", \"181762/\\u062a\\u0637\\u0648\\u064a\\u0631 \\u0637\\u0628\\u0642\\u0629 \\u0641\\u0627\\u0631\\u0633 \\u0627\\u0644\\u0633\\u0641\\u0644\\u064a\\u0629 \\u0644\\u0644\\u0646\\u0641\\u0637 \\u0627\\u0644\\u062b\\u0642\\u064a\\u0644 ( \\u0627\\u0644\\u0645\\u0631\\u062d\\u0644\\u0629 \\u0627\\u0644\\u0627\\u0648\\u0644\\u0649)\", \"328414/\\u062a\\u0637\\u0648\\u064a\\u0631 \\u0637\\u0628\\u0642\\u0629 \\u0641\\u0627\\u0631\\u0633 \\u0627\\u0644\\u0633\\u0641\\u0644\\u064a\\u0629 \\u0644\\u0644\\u0646\\u0641\\u0637 \\u0627\\u0644\\u062b\\u0642\\u064a\\u0644 ( \\u0627\\u0644\\u0645\\u0631\\u062d\\u0644\\u0629 \\u0627\\u0644\\u0627\\u0648\\u0644\\u0649)\", \"401539/\\u062a\\u0637\\u0648\\u064a\\u0631 \\u0637\\u0628\\u0642\\u0629 \\u0641\\u0627\\u0631\\u0633 \\u0627\\u0644\\u0633\\u0641\\u0644\\u064a\\u0629 \\u0644\\u0644\\u0646\\u0641\\u0637 \\u0627\\u0644\\u062b\\u0642\\u064a\\u0644 ( \\u0627\\u0644\\u0645\\u0631\\u062d\\u0644\\u0629 \\u0627\\u0644\\u0627\\u0648\\u0644\\u0649)\", \"680830/\\u062a\\u0637\\u0648\\u064a\\u0631 \\u0637\\u0628\\u0642\\u0629 \\u0641\\u0627\\u0631\\u0633 \\u0627\\u0644\\u0633\\u0641\\u0644\\u064a\\u0629 \\u0644\\u0644\\u0646\\u0641\\u0637 \\u0627\\u0644\\u062b\\u0642\\u064a\\u0644 ( \\u0627\\u0644\\u0645\\u0631\\u062d\\u0644\\u0629 \\u0627\\u0644\\u0627\\u0648\\u0644\\u0649)\", \"404546/\\u062a\\u0648\\u0641\\u064a\\u0631 \\u0627\\u0644\\u062f\\u0639\\u0645 \\u0644\\u0623\\u0639\\u0645\\u0627\\u0644 \\u0627\\u0644\\u0633\\u0643\\u0631\\u062a\\u0627\\u0631\\u064a\\u0629 \\u0648\\u0627\\u0644\\u0623\\u0639\\u0645\\u0627\\u0644 \\u0627\\u0644\\u0625\\u062f\\u0627\\u0631\\u064a\\u0629 \\u0644\\u0634\\u0631\\u0643\\u0629 \\u0646\\u0641\\u0637 \\u0627\\u0644\\u0643\\u0648\\u064a\\u062a\", \"181762\", \"328414\", \"401539\", \"680830\", \"404546\", \"\", \"\", \"\", \"\", \"\"], \"type\": \"treemap\", \"values\": [1.425, 2.0, 2.0, 2.0, 2.0, 2.0, 2.0, 2.0, 2.0, 1.425, 2.0, 2.0, 2.0, 2.0, 1.425, 2.0, 2.0, 2.0, 2.0, 1.425, 2.0, 2.0, 2.0, 1.425, 2.0]}],                        {\"legend\": {\"tracegroupgap\": 0}, \"margin\": {\"t\": 60}, \"template\": {\"data\": {\"bar\": [{\"error_x\": {\"color\": \"#2a3f5f\"}, \"error_y\": {\"color\": \"#2a3f5f\"}, \"marker\": {\"line\": {\"color\": \"#E5ECF6\", \"width\": 0.5}}, \"type\": \"bar\"}], \"barpolar\": [{\"marker\": {\"line\": {\"color\": \"#E5ECF6\", \"width\": 0.5}}, \"type\": \"barpolar\"}], \"carpet\": [{\"aaxis\": {\"endlinecolor\": \"#2a3f5f\", \"gridcolor\": \"white\", \"linecolor\": \"white\", \"minorgridcolor\": \"white\", \"startlinecolor\": \"#2a3f5f\"}, \"baxis\": {\"endlinecolor\": \"#2a3f5f\", \"gridcolor\": \"white\", \"linecolor\": \"white\", \"minorgridcolor\": \"white\", \"startlinecolor\": \"#2a3f5f\"}, \"type\": \"carpet\"}], \"choropleth\": [{\"colorbar\": {\"outlinewidth\": 0, \"ticks\": \"\"}, \"type\": \"choropleth\"}], \"contour\": [{\"colorbar\": {\"outlinewidth\": 0, \"ticks\": \"\"}, \"colorscale\": [[0.0, \"#0d0887\"], [0.1111111111111111, \"#46039f\"], [0.2222222222222222, \"#7201a8\"], [0.3333333333333333, \"#9c179e\"], [0.4444444444444444, \"#bd3786\"], [0.5555555555555556, \"#d8576b\"], [0.6666666666666666, \"#ed7953\"], [0.7777777777777778, \"#fb9f3a\"], [0.8888888888888888, \"#fdca26\"], [1.0, \"#f0f921\"]], \"type\": \"contour\"}], \"contourcarpet\": [{\"colorbar\": {\"outlinewidth\": 0, \"ticks\": \"\"}, \"type\": \"contourcarpet\"}], \"heatmap\": [{\"colorbar\": {\"outlinewidth\": 0, \"ticks\": \"\"}, \"colorscale\": [[0.0, \"#0d0887\"], [0.1111111111111111, \"#46039f\"], [0.2222222222222222, \"#7201a8\"], [0.3333333333333333, \"#9c179e\"], [0.4444444444444444, \"#bd3786\"], [0.5555555555555556, \"#d8576b\"], [0.6666666666666666, \"#ed7953\"], [0.7777777777777778, \"#fb9f3a\"], [0.8888888888888888, \"#fdca26\"], [1.0, \"#f0f921\"]], \"type\": \"heatmap\"}], \"heatmapgl\": [{\"colorbar\": {\"outlinewidth\": 0, \"ticks\": \"\"}, \"colorscale\": [[0.0, \"#0d0887\"], [0.1111111111111111, \"#46039f\"], [0.2222222222222222, \"#7201a8\"], [0.3333333333333333, \"#9c179e\"], [0.4444444444444444, \"#bd3786\"], [0.5555555555555556, \"#d8576b\"], [0.6666666666666666, \"#ed7953\"], [0.7777777777777778, \"#fb9f3a\"], [0.8888888888888888, \"#fdca26\"], [1.0, \"#f0f921\"]], \"type\": \"heatmapgl\"}], \"histogram\": [{\"marker\": {\"colorbar\": {\"outlinewidth\": 0, \"ticks\": \"\"}}, \"type\": \"histogram\"}], \"histogram2d\": [{\"colorbar\": {\"outlinewidth\": 0, \"ticks\": \"\"}, \"colorscale\": [[0.0, \"#0d0887\"], [0.1111111111111111, \"#46039f\"], [0.2222222222222222, \"#7201a8\"], [0.3333333333333333, \"#9c179e\"], [0.4444444444444444, \"#bd3786\"], [0.5555555555555556, \"#d8576b\"], [0.6666666666666666, \"#ed7953\"], [0.7777777777777778, \"#fb9f3a\"], [0.8888888888888888, \"#fdca26\"], [1.0, \"#f0f921\"]], \"type\": \"histogram2d\"}], \"histogram2dcontour\": [{\"colorbar\": {\"outlinewidth\": 0, \"ticks\": \"\"}, \"colorscale\": [[0.0, \"#0d0887\"], [0.1111111111111111, \"#46039f\"], [0.2222222222222222, \"#7201a8\"], [0.3333333333333333, \"#9c179e\"], [0.4444444444444444, \"#bd3786\"], [0.5555555555555556, \"#d8576b\"], [0.6666666666666666, \"#ed7953\"], [0.7777777777777778, \"#fb9f3a\"], [0.8888888888888888, \"#fdca26\"], [1.0, \"#f0f921\"]], \"type\": \"histogram2dcontour\"}], \"mesh3d\": [{\"colorbar\": {\"outlinewidth\": 0, \"ticks\": \"\"}, \"type\": \"mesh3d\"}], \"parcoords\": [{\"line\": {\"colorbar\": {\"outlinewidth\": 0, \"ticks\": \"\"}}, \"type\": \"parcoords\"}], \"pie\": [{\"automargin\": true, \"type\": \"pie\"}], \"scatter\": [{\"marker\": {\"colorbar\": {\"outlinewidth\": 0, \"ticks\": \"\"}}, \"type\": \"scatter\"}], \"scatter3d\": [{\"line\": {\"colorbar\": {\"outlinewidth\": 0, \"ticks\": \"\"}}, \"marker\": {\"colorbar\": {\"outlinewidth\": 0, \"ticks\": \"\"}}, \"type\": \"scatter3d\"}], \"scattercarpet\": [{\"marker\": {\"colorbar\": {\"outlinewidth\": 0, \"ticks\": \"\"}}, \"type\": \"scattercarpet\"}], \"scattergeo\": [{\"marker\": {\"colorbar\": {\"outlinewidth\": 0, \"ticks\": \"\"}}, \"type\": \"scattergeo\"}], \"scattergl\": [{\"marker\": {\"colorbar\": {\"outlinewidth\": 0, \"ticks\": \"\"}}, \"type\": \"scattergl\"}], \"scattermapbox\": [{\"marker\": {\"colorbar\": {\"outlinewidth\": 0, \"ticks\": \"\"}}, \"type\": \"scattermapbox\"}], \"scatterpolar\": [{\"marker\": {\"colorbar\": {\"outlinewidth\": 0, \"ticks\": \"\"}}, \"type\": \"scatterpolar\"}], \"scatterpolargl\": [{\"marker\": {\"colorbar\": {\"outlinewidth\": 0, \"ticks\": \"\"}}, \"type\": \"scatterpolargl\"}], \"scatterternary\": [{\"marker\": {\"colorbar\": {\"outlinewidth\": 0, \"ticks\": \"\"}}, \"type\": \"scatterternary\"}], \"surface\": [{\"colorbar\": {\"outlinewidth\": 0, \"ticks\": \"\"}, \"colorscale\": [[0.0, \"#0d0887\"], [0.1111111111111111, \"#46039f\"], [0.2222222222222222, \"#7201a8\"], [0.3333333333333333, \"#9c179e\"], [0.4444444444444444, \"#bd3786\"], [0.5555555555555556, \"#d8576b\"], [0.6666666666666666, \"#ed7953\"], [0.7777777777777778, \"#fb9f3a\"], [0.8888888888888888, \"#fdca26\"], [1.0, \"#f0f921\"]], \"type\": \"surface\"}], \"table\": [{\"cells\": {\"fill\": {\"color\": \"#EBF0F8\"}, \"line\": {\"color\": \"white\"}}, \"header\": {\"fill\": {\"color\": \"#C8D4E3\"}, \"line\": {\"color\": \"white\"}}, \"type\": \"table\"}]}, \"layout\": {\"annotationdefaults\": {\"arrowcolor\": \"#2a3f5f\", \"arrowhead\": 0, \"arrowwidth\": 1}, \"autotypenumbers\": \"strict\", \"coloraxis\": {\"colorbar\": {\"outlinewidth\": 0, \"ticks\": \"\"}}, \"colorscale\": {\"diverging\": [[0, \"#8e0152\"], [0.1, \"#c51b7d\"], [0.2, \"#de77ae\"], [0.3, \"#f1b6da\"], [0.4, \"#fde0ef\"], [0.5, \"#f7f7f7\"], [0.6, \"#e6f5d0\"], [0.7, \"#b8e186\"], [0.8, \"#7fbc41\"], [0.9, \"#4d9221\"], [1, \"#276419\"]], \"sequential\": [[0.0, \"#0d0887\"], [0.1111111111111111, \"#46039f\"], [0.2222222222222222, \"#7201a8\"], [0.3333333333333333, \"#9c179e\"], [0.4444444444444444, \"#bd3786\"], [0.5555555555555556, \"#d8576b\"], [0.6666666666666666, \"#ed7953\"], [0.7777777777777778, \"#fb9f3a\"], [0.8888888888888888, \"#fdca26\"], [1.0, \"#f0f921\"]], \"sequentialminus\": [[0.0, \"#0d0887\"], [0.1111111111111111, \"#46039f\"], [0.2222222222222222, \"#7201a8\"], [0.3333333333333333, \"#9c179e\"], [0.4444444444444444, \"#bd3786\"], [0.5555555555555556, \"#d8576b\"], [0.6666666666666666, \"#ed7953\"], [0.7777777777777778, \"#fb9f3a\"], [0.8888888888888888, \"#fdca26\"], [1.0, \"#f0f921\"]]}, \"colorway\": [\"#636efa\", \"#EF553B\", \"#00cc96\", \"#ab63fa\", \"#FFA15A\", \"#19d3f3\", \"#FF6692\", \"#B6E880\", \"#FF97FF\", \"#FECB52\"], \"font\": {\"color\": \"#2a3f5f\"}, \"geo\": {\"bgcolor\": \"white\", \"lakecolor\": \"white\", \"landcolor\": \"#E5ECF6\", \"showlakes\": true, \"showland\": true, \"subunitcolor\": \"white\"}, \"hoverlabel\": {\"align\": \"left\"}, \"hovermode\": \"closest\", \"mapbox\": {\"style\": \"light\"}, \"paper_bgcolor\": \"white\", \"plot_bgcolor\": \"#E5ECF6\", \"polar\": {\"angularaxis\": {\"gridcolor\": \"white\", \"linecolor\": \"white\", \"ticks\": \"\"}, \"bgcolor\": \"#E5ECF6\", \"radialaxis\": {\"gridcolor\": \"white\", \"linecolor\": \"white\", \"ticks\": \"\"}}, \"scene\": {\"xaxis\": {\"backgroundcolor\": \"#E5ECF6\", \"gridcolor\": \"white\", \"gridwidth\": 2, \"linecolor\": \"white\", \"showbackground\": true, \"ticks\": \"\", \"zerolinecolor\": \"white\"}, \"yaxis\": {\"backgroundcolor\": \"#E5ECF6\", \"gridcolor\": \"white\", \"gridwidth\": 2, \"linecolor\": \"white\", \"showbackground\": true, \"ticks\": \"\", \"zerolinecolor\": \"white\"}, \"zaxis\": {\"backgroundcolor\": \"#E5ECF6\", \"gridcolor\": \"white\", \"gridwidth\": 2, \"linecolor\": \"white\", \"showbackground\": true, \"ticks\": \"\", \"zerolinecolor\": \"white\"}}, \"shapedefaults\": {\"line\": {\"color\": \"#2a3f5f\"}}, \"ternary\": {\"aaxis\": {\"gridcolor\": \"white\", \"linecolor\": \"white\", \"ticks\": \"\"}, \"baxis\": {\"gridcolor\": \"white\", \"linecolor\": \"white\", \"ticks\": \"\"}, \"bgcolor\": \"#E5ECF6\", \"caxis\": {\"gridcolor\": \"white\", \"linecolor\": \"white\", \"ticks\": \"\"}}, \"title\": {\"x\": 0.05}, \"xaxis\": {\"automargin\": true, \"gridcolor\": \"white\", \"linecolor\": \"white\", \"ticks\": \"\", \"title\": {\"standoff\": 15}, \"zerolinecolor\": \"white\", \"zerolinewidth\": 2}, \"yaxis\": {\"automargin\": true, \"gridcolor\": \"white\", \"linecolor\": \"white\", \"ticks\": \"\", \"title\": {\"standoff\": 15}, \"zerolinecolor\": \"white\", \"zerolinewidth\": 2}}}},                        {\"responsive\": true}                    ).then(function(){\n",
              "                            \n",
              "var gd = document.getElementById('46a35d75-4259-4cf0-bedc-ef203af2eb38');\n",
              "var x = new MutationObserver(function (mutations, observer) {{\n",
              "        var display = window.getComputedStyle(gd).display;\n",
              "        if (!display || display === 'none') {{\n",
              "            console.log([gd, 'removed!']);\n",
              "            Plotly.purge(gd);\n",
              "            observer.disconnect();\n",
              "        }}\n",
              "}});\n",
              "\n",
              "// Listen for the removal of the full notebook cells\n",
              "var notebookContainer = gd.closest('#notebook-container');\n",
              "if (notebookContainer) {{\n",
              "    x.observe(notebookContainer, {childList: true});\n",
              "}}\n",
              "\n",
              "// Listen for the clearing of the current output cell\n",
              "var outputEl = gd.closest('.output');\n",
              "if (outputEl) {{\n",
              "    x.observe(outputEl, {childList: true});\n",
              "}}\n",
              "\n",
              "                        })                };                            </script>        </div>\n",
              "</body>\n",
              "</html>"
            ]
          },
          "metadata": {
            "tags": []
          }
        }
      ]
    },
    {
      "cell_type": "markdown",
      "metadata": {
        "id": "dbf9d817"
      },
      "source": [
        "#### Ages of Employee"
      ],
      "id": "dbf9d817"
    },
    {
      "cell_type": "code",
      "metadata": {
        "colab": {
          "base_uri": "https://localhost:8080/",
          "height": 359
        },
        "id": "add36f29",
        "outputId": "1e330dbf-94e5-4d08-8d66-e93619dbe524"
      },
      "source": [
        "#hide_input\n",
        "i= dict(data['Age'].value_counts())\n",
        "insight25 = pd.DataFrame()\n",
        "i = dict(sorted(i.items(), key=operator.itemgetter(1), reverse=True)[:10])\n",
        "insight25['Age'] = i.keys()\n",
        "insight25['Count'] = i.values()\n",
        "insight25"
      ],
      "id": "add36f29",
      "execution_count": null,
      "outputs": [
        {
          "output_type": "execute_result",
          "data": {
            "text/html": [
              "<div>\n",
              "<style scoped>\n",
              "    .dataframe tbody tr th:only-of-type {\n",
              "        vertical-align: middle;\n",
              "    }\n",
              "\n",
              "    .dataframe tbody tr th {\n",
              "        vertical-align: top;\n",
              "    }\n",
              "\n",
              "    .dataframe thead th {\n",
              "        text-align: right;\n",
              "    }\n",
              "</style>\n",
              "<table border=\"1\" class=\"dataframe\">\n",
              "  <thead>\n",
              "    <tr style=\"text-align: right;\">\n",
              "      <th></th>\n",
              "      <th>Age</th>\n",
              "      <th>Count</th>\n",
              "    </tr>\n",
              "  </thead>\n",
              "  <tbody>\n",
              "    <tr>\n",
              "      <th>0</th>\n",
              "      <td>33.0</td>\n",
              "      <td>65641</td>\n",
              "    </tr>\n",
              "    <tr>\n",
              "      <th>1</th>\n",
              "      <td>34.0</td>\n",
              "      <td>59774</td>\n",
              "    </tr>\n",
              "    <tr>\n",
              "      <th>2</th>\n",
              "      <td>30.0</td>\n",
              "      <td>58931</td>\n",
              "    </tr>\n",
              "    <tr>\n",
              "      <th>3</th>\n",
              "      <td>36.0</td>\n",
              "      <td>58435</td>\n",
              "    </tr>\n",
              "    <tr>\n",
              "      <th>4</th>\n",
              "      <td>35.0</td>\n",
              "      <td>58112</td>\n",
              "    </tr>\n",
              "    <tr>\n",
              "      <th>5</th>\n",
              "      <td>37.0</td>\n",
              "      <td>57373</td>\n",
              "    </tr>\n",
              "    <tr>\n",
              "      <th>6</th>\n",
              "      <td>31.0</td>\n",
              "      <td>57270</td>\n",
              "    </tr>\n",
              "    <tr>\n",
              "      <th>7</th>\n",
              "      <td>39.0</td>\n",
              "      <td>56847</td>\n",
              "    </tr>\n",
              "    <tr>\n",
              "      <th>8</th>\n",
              "      <td>29.0</td>\n",
              "      <td>56816</td>\n",
              "    </tr>\n",
              "    <tr>\n",
              "      <th>9</th>\n",
              "      <td>38.0</td>\n",
              "      <td>56737</td>\n",
              "    </tr>\n",
              "  </tbody>\n",
              "</table>\n",
              "</div>"
            ],
            "text/plain": [
              "    Age  Count\n",
              "0  33.0  65641\n",
              "1  34.0  59774\n",
              "2  30.0  58931\n",
              "3  36.0  58435\n",
              "4  35.0  58112\n",
              "5  37.0  57373\n",
              "6  31.0  57270\n",
              "7  39.0  56847\n",
              "8  29.0  56816\n",
              "9  38.0  56737"
            ]
          },
          "metadata": {
            "tags": []
          },
          "execution_count": 82
        }
      ]
    },
    {
      "cell_type": "code",
      "metadata": {
        "colab": {
          "base_uri": "https://localhost:8080/",
          "height": 542
        },
        "id": "2b1970d6",
        "outputId": "790de54d-4720-40a5-a635-ffbc3046a9ae"
      },
      "source": [
        "#hide_input\n",
        "fig = px.funnel(insight25, x='Age', y='Count',color=\"Age\",title = \"Employees ages\")\n",
        "fig.show()"
      ],
      "id": "2b1970d6",
      "execution_count": null,
      "outputs": [
        {
          "output_type": "display_data",
          "data": {
            "text/html": [
              "<html>\n",
              "<head><meta charset=\"utf-8\" /></head>\n",
              "<body>\n",
              "    <div>            <script src=\"https://cdnjs.cloudflare.com/ajax/libs/mathjax/2.7.5/MathJax.js?config=TeX-AMS-MML_SVG\"></script><script type=\"text/javascript\">if (window.MathJax) {MathJax.Hub.Config({SVG: {font: \"STIX-Web\"}});}</script>                <script type=\"text/javascript\">window.PlotlyConfig = {MathJaxConfig: 'local'};</script>\n",
              "        <script src=\"https://cdn.plot.ly/plotly-latest.min.js\"></script>                <div id=\"01b5a9c8-fb15-4f52-aa82-6a565fab8344\" class=\"plotly-graph-div\" style=\"height:525px; width:100%;\"></div>            <script type=\"text/javascript\">                                    window.PLOTLYENV=window.PLOTLYENV || {};                                    if (document.getElementById(\"01b5a9c8-fb15-4f52-aa82-6a565fab8344\")) {                    Plotly.newPlot(                        \"01b5a9c8-fb15-4f52-aa82-6a565fab8344\",                        [{\"hovertemplate\": \"Age=%{x}<br>Count=%{y}<extra></extra>\", \"legendgroup\": \"33.0\", \"marker\": {\"color\": \"#636efa\"}, \"name\": \"33.0\", \"orientation\": \"v\", \"showlegend\": true, \"type\": \"funnel\", \"x\": [33.0], \"xaxis\": \"x\", \"y\": [65641], \"yaxis\": \"y\"}, {\"hovertemplate\": \"Age=%{x}<br>Count=%{y}<extra></extra>\", \"legendgroup\": \"34.0\", \"marker\": {\"color\": \"#EF553B\"}, \"name\": \"34.0\", \"orientation\": \"v\", \"showlegend\": true, \"type\": \"funnel\", \"x\": [34.0], \"xaxis\": \"x\", \"y\": [59774], \"yaxis\": \"y\"}, {\"hovertemplate\": \"Age=%{x}<br>Count=%{y}<extra></extra>\", \"legendgroup\": \"30.0\", \"marker\": {\"color\": \"#00cc96\"}, \"name\": \"30.0\", \"orientation\": \"v\", \"showlegend\": true, \"type\": \"funnel\", \"x\": [30.0], \"xaxis\": \"x\", \"y\": [58931], \"yaxis\": \"y\"}, {\"hovertemplate\": \"Age=%{x}<br>Count=%{y}<extra></extra>\", \"legendgroup\": \"36.0\", \"marker\": {\"color\": \"#ab63fa\"}, \"name\": \"36.0\", \"orientation\": \"v\", \"showlegend\": true, \"type\": \"funnel\", \"x\": [36.0], \"xaxis\": \"x\", \"y\": [58435], \"yaxis\": \"y\"}, {\"hovertemplate\": \"Age=%{x}<br>Count=%{y}<extra></extra>\", \"legendgroup\": \"35.0\", \"marker\": {\"color\": \"#FFA15A\"}, \"name\": \"35.0\", \"orientation\": \"v\", \"showlegend\": true, \"type\": \"funnel\", \"x\": [35.0], \"xaxis\": \"x\", \"y\": [58112], \"yaxis\": \"y\"}, {\"hovertemplate\": \"Age=%{x}<br>Count=%{y}<extra></extra>\", \"legendgroup\": \"37.0\", \"marker\": {\"color\": \"#19d3f3\"}, \"name\": \"37.0\", \"orientation\": \"v\", \"showlegend\": true, \"type\": \"funnel\", \"x\": [37.0], \"xaxis\": \"x\", \"y\": [57373], \"yaxis\": \"y\"}, {\"hovertemplate\": \"Age=%{x}<br>Count=%{y}<extra></extra>\", \"legendgroup\": \"31.0\", \"marker\": {\"color\": \"#FF6692\"}, \"name\": \"31.0\", \"orientation\": \"v\", \"showlegend\": true, \"type\": \"funnel\", \"x\": [31.0], \"xaxis\": \"x\", \"y\": [57270], \"yaxis\": \"y\"}, {\"hovertemplate\": \"Age=%{x}<br>Count=%{y}<extra></extra>\", \"legendgroup\": \"39.0\", \"marker\": {\"color\": \"#B6E880\"}, \"name\": \"39.0\", \"orientation\": \"v\", \"showlegend\": true, \"type\": \"funnel\", \"x\": [39.0], \"xaxis\": \"x\", \"y\": [56847], \"yaxis\": \"y\"}, {\"hovertemplate\": \"Age=%{x}<br>Count=%{y}<extra></extra>\", \"legendgroup\": \"29.0\", \"marker\": {\"color\": \"#FF97FF\"}, \"name\": \"29.0\", \"orientation\": \"v\", \"showlegend\": true, \"type\": \"funnel\", \"x\": [29.0], \"xaxis\": \"x\", \"y\": [56816], \"yaxis\": \"y\"}, {\"hovertemplate\": \"Age=%{x}<br>Count=%{y}<extra></extra>\", \"legendgroup\": \"38.0\", \"marker\": {\"color\": \"#FECB52\"}, \"name\": \"38.0\", \"orientation\": \"v\", \"showlegend\": true, \"type\": \"funnel\", \"x\": [38.0], \"xaxis\": \"x\", \"y\": [56737], \"yaxis\": \"y\"}],                        {\"legend\": {\"title\": {\"text\": \"Age\"}, \"tracegroupgap\": 0}, \"template\": {\"data\": {\"bar\": [{\"error_x\": {\"color\": \"#2a3f5f\"}, \"error_y\": {\"color\": \"#2a3f5f\"}, \"marker\": {\"line\": {\"color\": \"#E5ECF6\", \"width\": 0.5}}, \"type\": \"bar\"}], \"barpolar\": [{\"marker\": {\"line\": {\"color\": \"#E5ECF6\", \"width\": 0.5}}, \"type\": \"barpolar\"}], \"carpet\": [{\"aaxis\": {\"endlinecolor\": \"#2a3f5f\", \"gridcolor\": \"white\", \"linecolor\": \"white\", \"minorgridcolor\": \"white\", \"startlinecolor\": \"#2a3f5f\"}, \"baxis\": {\"endlinecolor\": \"#2a3f5f\", \"gridcolor\": \"white\", \"linecolor\": \"white\", \"minorgridcolor\": \"white\", \"startlinecolor\": \"#2a3f5f\"}, \"type\": \"carpet\"}], \"choropleth\": [{\"colorbar\": {\"outlinewidth\": 0, \"ticks\": \"\"}, \"type\": \"choropleth\"}], \"contour\": [{\"colorbar\": {\"outlinewidth\": 0, \"ticks\": \"\"}, \"colorscale\": [[0.0, \"#0d0887\"], [0.1111111111111111, \"#46039f\"], [0.2222222222222222, \"#7201a8\"], [0.3333333333333333, \"#9c179e\"], [0.4444444444444444, \"#bd3786\"], [0.5555555555555556, \"#d8576b\"], [0.6666666666666666, \"#ed7953\"], [0.7777777777777778, \"#fb9f3a\"], [0.8888888888888888, \"#fdca26\"], [1.0, \"#f0f921\"]], \"type\": \"contour\"}], \"contourcarpet\": [{\"colorbar\": {\"outlinewidth\": 0, \"ticks\": \"\"}, \"type\": \"contourcarpet\"}], \"heatmap\": [{\"colorbar\": {\"outlinewidth\": 0, \"ticks\": \"\"}, \"colorscale\": [[0.0, \"#0d0887\"], [0.1111111111111111, \"#46039f\"], [0.2222222222222222, \"#7201a8\"], [0.3333333333333333, \"#9c179e\"], [0.4444444444444444, \"#bd3786\"], [0.5555555555555556, \"#d8576b\"], [0.6666666666666666, \"#ed7953\"], [0.7777777777777778, \"#fb9f3a\"], [0.8888888888888888, \"#fdca26\"], [1.0, \"#f0f921\"]], \"type\": \"heatmap\"}], \"heatmapgl\": [{\"colorbar\": {\"outlinewidth\": 0, \"ticks\": \"\"}, \"colorscale\": [[0.0, \"#0d0887\"], [0.1111111111111111, \"#46039f\"], [0.2222222222222222, \"#7201a8\"], [0.3333333333333333, \"#9c179e\"], [0.4444444444444444, \"#bd3786\"], [0.5555555555555556, \"#d8576b\"], [0.6666666666666666, \"#ed7953\"], [0.7777777777777778, \"#fb9f3a\"], [0.8888888888888888, \"#fdca26\"], [1.0, \"#f0f921\"]], \"type\": \"heatmapgl\"}], \"histogram\": [{\"marker\": {\"colorbar\": {\"outlinewidth\": 0, \"ticks\": \"\"}}, \"type\": \"histogram\"}], \"histogram2d\": [{\"colorbar\": {\"outlinewidth\": 0, \"ticks\": \"\"}, \"colorscale\": [[0.0, \"#0d0887\"], [0.1111111111111111, \"#46039f\"], [0.2222222222222222, \"#7201a8\"], [0.3333333333333333, \"#9c179e\"], [0.4444444444444444, \"#bd3786\"], [0.5555555555555556, \"#d8576b\"], [0.6666666666666666, \"#ed7953\"], [0.7777777777777778, \"#fb9f3a\"], [0.8888888888888888, \"#fdca26\"], [1.0, \"#f0f921\"]], \"type\": \"histogram2d\"}], \"histogram2dcontour\": [{\"colorbar\": {\"outlinewidth\": 0, \"ticks\": \"\"}, \"colorscale\": [[0.0, \"#0d0887\"], [0.1111111111111111, \"#46039f\"], [0.2222222222222222, \"#7201a8\"], [0.3333333333333333, \"#9c179e\"], [0.4444444444444444, \"#bd3786\"], [0.5555555555555556, \"#d8576b\"], [0.6666666666666666, \"#ed7953\"], [0.7777777777777778, \"#fb9f3a\"], [0.8888888888888888, \"#fdca26\"], [1.0, \"#f0f921\"]], \"type\": \"histogram2dcontour\"}], \"mesh3d\": [{\"colorbar\": {\"outlinewidth\": 0, \"ticks\": \"\"}, \"type\": \"mesh3d\"}], \"parcoords\": [{\"line\": {\"colorbar\": {\"outlinewidth\": 0, \"ticks\": \"\"}}, \"type\": \"parcoords\"}], \"pie\": [{\"automargin\": true, \"type\": \"pie\"}], \"scatter\": [{\"marker\": {\"colorbar\": {\"outlinewidth\": 0, \"ticks\": \"\"}}, \"type\": \"scatter\"}], \"scatter3d\": [{\"line\": {\"colorbar\": {\"outlinewidth\": 0, \"ticks\": \"\"}}, \"marker\": {\"colorbar\": {\"outlinewidth\": 0, \"ticks\": \"\"}}, \"type\": \"scatter3d\"}], \"scattercarpet\": [{\"marker\": {\"colorbar\": {\"outlinewidth\": 0, \"ticks\": \"\"}}, \"type\": \"scattercarpet\"}], \"scattergeo\": [{\"marker\": {\"colorbar\": {\"outlinewidth\": 0, \"ticks\": \"\"}}, \"type\": \"scattergeo\"}], \"scattergl\": [{\"marker\": {\"colorbar\": {\"outlinewidth\": 0, \"ticks\": \"\"}}, \"type\": \"scattergl\"}], \"scattermapbox\": [{\"marker\": {\"colorbar\": {\"outlinewidth\": 0, \"ticks\": \"\"}}, \"type\": \"scattermapbox\"}], \"scatterpolar\": [{\"marker\": {\"colorbar\": {\"outlinewidth\": 0, \"ticks\": \"\"}}, \"type\": \"scatterpolar\"}], \"scatterpolargl\": [{\"marker\": {\"colorbar\": {\"outlinewidth\": 0, \"ticks\": \"\"}}, \"type\": \"scatterpolargl\"}], \"scatterternary\": [{\"marker\": {\"colorbar\": {\"outlinewidth\": 0, \"ticks\": \"\"}}, \"type\": \"scatterternary\"}], \"surface\": [{\"colorbar\": {\"outlinewidth\": 0, \"ticks\": \"\"}, \"colorscale\": [[0.0, \"#0d0887\"], [0.1111111111111111, \"#46039f\"], [0.2222222222222222, \"#7201a8\"], [0.3333333333333333, \"#9c179e\"], [0.4444444444444444, \"#bd3786\"], [0.5555555555555556, \"#d8576b\"], [0.6666666666666666, \"#ed7953\"], [0.7777777777777778, \"#fb9f3a\"], [0.8888888888888888, \"#fdca26\"], [1.0, \"#f0f921\"]], \"type\": \"surface\"}], \"table\": [{\"cells\": {\"fill\": {\"color\": \"#EBF0F8\"}, \"line\": {\"color\": \"white\"}}, \"header\": {\"fill\": {\"color\": \"#C8D4E3\"}, \"line\": {\"color\": \"white\"}}, \"type\": \"table\"}]}, \"layout\": {\"annotationdefaults\": {\"arrowcolor\": \"#2a3f5f\", \"arrowhead\": 0, \"arrowwidth\": 1}, \"autotypenumbers\": \"strict\", \"coloraxis\": {\"colorbar\": {\"outlinewidth\": 0, \"ticks\": \"\"}}, \"colorscale\": {\"diverging\": [[0, \"#8e0152\"], [0.1, \"#c51b7d\"], [0.2, \"#de77ae\"], [0.3, \"#f1b6da\"], [0.4, \"#fde0ef\"], [0.5, \"#f7f7f7\"], [0.6, \"#e6f5d0\"], [0.7, \"#b8e186\"], [0.8, \"#7fbc41\"], [0.9, \"#4d9221\"], [1, \"#276419\"]], \"sequential\": [[0.0, \"#0d0887\"], [0.1111111111111111, \"#46039f\"], [0.2222222222222222, \"#7201a8\"], [0.3333333333333333, \"#9c179e\"], [0.4444444444444444, \"#bd3786\"], [0.5555555555555556, \"#d8576b\"], [0.6666666666666666, \"#ed7953\"], [0.7777777777777778, \"#fb9f3a\"], [0.8888888888888888, \"#fdca26\"], [1.0, \"#f0f921\"]], \"sequentialminus\": [[0.0, \"#0d0887\"], [0.1111111111111111, \"#46039f\"], [0.2222222222222222, \"#7201a8\"], [0.3333333333333333, \"#9c179e\"], [0.4444444444444444, \"#bd3786\"], [0.5555555555555556, \"#d8576b\"], [0.6666666666666666, \"#ed7953\"], [0.7777777777777778, \"#fb9f3a\"], [0.8888888888888888, \"#fdca26\"], [1.0, \"#f0f921\"]]}, \"colorway\": [\"#636efa\", \"#EF553B\", \"#00cc96\", \"#ab63fa\", \"#FFA15A\", \"#19d3f3\", \"#FF6692\", \"#B6E880\", \"#FF97FF\", \"#FECB52\"], \"font\": {\"color\": \"#2a3f5f\"}, \"geo\": {\"bgcolor\": \"white\", \"lakecolor\": \"white\", \"landcolor\": \"#E5ECF6\", \"showlakes\": true, \"showland\": true, \"subunitcolor\": \"white\"}, \"hoverlabel\": {\"align\": \"left\"}, \"hovermode\": \"closest\", \"mapbox\": {\"style\": \"light\"}, \"paper_bgcolor\": \"white\", \"plot_bgcolor\": \"#E5ECF6\", \"polar\": {\"angularaxis\": {\"gridcolor\": \"white\", \"linecolor\": \"white\", \"ticks\": \"\"}, \"bgcolor\": \"#E5ECF6\", \"radialaxis\": {\"gridcolor\": \"white\", \"linecolor\": \"white\", \"ticks\": \"\"}}, \"scene\": {\"xaxis\": {\"backgroundcolor\": \"#E5ECF6\", \"gridcolor\": \"white\", \"gridwidth\": 2, \"linecolor\": \"white\", \"showbackground\": true, \"ticks\": \"\", \"zerolinecolor\": \"white\"}, \"yaxis\": {\"backgroundcolor\": \"#E5ECF6\", \"gridcolor\": \"white\", \"gridwidth\": 2, \"linecolor\": \"white\", \"showbackground\": true, \"ticks\": \"\", \"zerolinecolor\": \"white\"}, \"zaxis\": {\"backgroundcolor\": \"#E5ECF6\", \"gridcolor\": \"white\", \"gridwidth\": 2, \"linecolor\": \"white\", \"showbackground\": true, \"ticks\": \"\", \"zerolinecolor\": \"white\"}}, \"shapedefaults\": {\"line\": {\"color\": \"#2a3f5f\"}}, \"ternary\": {\"aaxis\": {\"gridcolor\": \"white\", \"linecolor\": \"white\", \"ticks\": \"\"}, \"baxis\": {\"gridcolor\": \"white\", \"linecolor\": \"white\", \"ticks\": \"\"}, \"bgcolor\": \"#E5ECF6\", \"caxis\": {\"gridcolor\": \"white\", \"linecolor\": \"white\", \"ticks\": \"\"}}, \"title\": {\"x\": 0.05}, \"xaxis\": {\"automargin\": true, \"gridcolor\": \"white\", \"linecolor\": \"white\", \"ticks\": \"\", \"title\": {\"standoff\": 15}, \"zerolinecolor\": \"white\", \"zerolinewidth\": 2}, \"yaxis\": {\"automargin\": true, \"gridcolor\": \"white\", \"linecolor\": \"white\", \"ticks\": \"\", \"title\": {\"standoff\": 15}, \"zerolinecolor\": \"white\", \"zerolinewidth\": 2}}}, \"title\": {\"text\": \"Employees ages\"}, \"xaxis\": {\"anchor\": \"y\", \"categoryarray\": [33.0, 34.0, 30.0, 36.0, 35.0, 37.0, 31.0, 39.0, 29.0, 38.0], \"categoryorder\": \"array\", \"domain\": [0.0, 1.0], \"title\": {\"text\": \"Age\"}}, \"yaxis\": {\"anchor\": \"x\", \"domain\": [0.0, 1.0], \"title\": {\"text\": \"Count\"}}},                        {\"responsive\": true}                    ).then(function(){\n",
              "                            \n",
              "var gd = document.getElementById('01b5a9c8-fb15-4f52-aa82-6a565fab8344');\n",
              "var x = new MutationObserver(function (mutations, observer) {{\n",
              "        var display = window.getComputedStyle(gd).display;\n",
              "        if (!display || display === 'none') {{\n",
              "            console.log([gd, 'removed!']);\n",
              "            Plotly.purge(gd);\n",
              "            observer.disconnect();\n",
              "        }}\n",
              "}});\n",
              "\n",
              "// Listen for the removal of the full notebook cells\n",
              "var notebookContainer = gd.closest('#notebook-container');\n",
              "if (notebookContainer) {{\n",
              "    x.observe(notebookContainer, {childList: true});\n",
              "}}\n",
              "\n",
              "// Listen for the clearing of the current output cell\n",
              "var outputEl = gd.closest('.output');\n",
              "if (outputEl) {{\n",
              "    x.observe(outputEl, {childList: true});\n",
              "}}\n",
              "\n",
              "                        })                };                            </script>        </div>\n",
              "</body>\n",
              "</html>"
            ]
          },
          "metadata": {
            "tags": []
          }
        }
      ]
    },
    {
      "cell_type": "markdown",
      "metadata": {
        "id": "424a4cca"
      },
      "source": [
        "#### MAX SALARY ACCORDING TO AGE"
      ],
      "id": "424a4cca"
    },
    {
      "cell_type": "code",
      "metadata": {
        "colab": {
          "base_uri": "https://localhost:8080/",
          "height": 359
        },
        "id": "f1ddf266",
        "outputId": "a6f86980-3b82-4a9c-e790-a8f39dac0134"
      },
      "source": [
        "#hide_input\n",
        "insight26 = pd.DataFrame()\n",
        "insight26 = data.groupby(\"Age\")['SALARY'].max().round(2)\n",
        "insight26 = insight26.reset_index(\"Age\")\n",
        "insight26 = insight26.nlargest(10,'SALARY')\n",
        "insight26"
      ],
      "id": "f1ddf266",
      "execution_count": null,
      "outputs": [
        {
          "output_type": "execute_result",
          "data": {
            "text/html": [
              "<div>\n",
              "<style scoped>\n",
              "    .dataframe tbody tr th:only-of-type {\n",
              "        vertical-align: middle;\n",
              "    }\n",
              "\n",
              "    .dataframe tbody tr th {\n",
              "        vertical-align: top;\n",
              "    }\n",
              "\n",
              "    .dataframe thead th {\n",
              "        text-align: right;\n",
              "    }\n",
              "</style>\n",
              "<table border=\"1\" class=\"dataframe\">\n",
              "  <thead>\n",
              "    <tr style=\"text-align: right;\">\n",
              "      <th></th>\n",
              "      <th>Age</th>\n",
              "      <th>SALARY</th>\n",
              "    </tr>\n",
              "  </thead>\n",
              "  <tbody>\n",
              "    <tr>\n",
              "      <th>48</th>\n",
              "      <td>53.0</td>\n",
              "      <td>26000.00</td>\n",
              "    </tr>\n",
              "    <tr>\n",
              "      <th>39</th>\n",
              "      <td>44.0</td>\n",
              "      <td>25000.00</td>\n",
              "    </tr>\n",
              "    <tr>\n",
              "      <th>52</th>\n",
              "      <td>57.0</td>\n",
              "      <td>24003.48</td>\n",
              "    </tr>\n",
              "    <tr>\n",
              "      <th>43</th>\n",
              "      <td>48.0</td>\n",
              "      <td>22861.00</td>\n",
              "    </tr>\n",
              "    <tr>\n",
              "      <th>65</th>\n",
              "      <td>70.0</td>\n",
              "      <td>20000.00</td>\n",
              "    </tr>\n",
              "    <tr>\n",
              "      <th>38</th>\n",
              "      <td>43.0</td>\n",
              "      <td>17500.00</td>\n",
              "    </tr>\n",
              "    <tr>\n",
              "      <th>41</th>\n",
              "      <td>46.0</td>\n",
              "      <td>17500.00</td>\n",
              "    </tr>\n",
              "    <tr>\n",
              "      <th>70</th>\n",
              "      <td>75.0</td>\n",
              "      <td>15366.00</td>\n",
              "    </tr>\n",
              "    <tr>\n",
              "      <th>53</th>\n",
              "      <td>58.0</td>\n",
              "      <td>15100.00</td>\n",
              "    </tr>\n",
              "    <tr>\n",
              "      <th>31</th>\n",
              "      <td>36.0</td>\n",
              "      <td>15000.00</td>\n",
              "    </tr>\n",
              "  </tbody>\n",
              "</table>\n",
              "</div>"
            ],
            "text/plain": [
              "     Age    SALARY\n",
              "48  53.0  26000.00\n",
              "39  44.0  25000.00\n",
              "52  57.0  24003.48\n",
              "43  48.0  22861.00\n",
              "65  70.0  20000.00\n",
              "38  43.0  17500.00\n",
              "41  46.0  17500.00\n",
              "70  75.0  15366.00\n",
              "53  58.0  15100.00\n",
              "31  36.0  15000.00"
            ]
          },
          "metadata": {
            "tags": []
          },
          "execution_count": 84
        }
      ]
    },
    {
      "cell_type": "code",
      "metadata": {
        "colab": {
          "base_uri": "https://localhost:8080/",
          "height": 542
        },
        "id": "29e353dc",
        "outputId": "7839355e-d2a2-4fa1-e3bc-e07d7db796d3"
      },
      "source": [
        "#hide_input\n",
        "fig = px.bar(insight26,x=\"Age\",y=\"SALARY\",text=\"SALARY\",color = \"Age\",title =\"Age wise Top 10 SALARIES\")\n",
        "fig.show()"
      ],
      "id": "29e353dc",
      "execution_count": null,
      "outputs": [
        {
          "output_type": "display_data",
          "data": {
            "text/html": [
              "<html>\n",
              "<head><meta charset=\"utf-8\" /></head>\n",
              "<body>\n",
              "    <div>            <script src=\"https://cdnjs.cloudflare.com/ajax/libs/mathjax/2.7.5/MathJax.js?config=TeX-AMS-MML_SVG\"></script><script type=\"text/javascript\">if (window.MathJax) {MathJax.Hub.Config({SVG: {font: \"STIX-Web\"}});}</script>                <script type=\"text/javascript\">window.PlotlyConfig = {MathJaxConfig: 'local'};</script>\n",
              "        <script src=\"https://cdn.plot.ly/plotly-latest.min.js\"></script>                <div id=\"0ec40346-9050-4d1b-bd69-96683dc2e9f0\" class=\"plotly-graph-div\" style=\"height:525px; width:100%;\"></div>            <script type=\"text/javascript\">                                    window.PLOTLYENV=window.PLOTLYENV || {};                                    if (document.getElementById(\"0ec40346-9050-4d1b-bd69-96683dc2e9f0\")) {                    Plotly.newPlot(                        \"0ec40346-9050-4d1b-bd69-96683dc2e9f0\",                        [{\"alignmentgroup\": \"True\", \"hovertemplate\": \"Age=%{marker.color}<br>SALARY=%{text}<extra></extra>\", \"legendgroup\": \"\", \"marker\": {\"color\": [53.0, 44.0, 57.0, 48.0, 70.0, 43.0, 46.0, 75.0, 58.0, 36.0], \"coloraxis\": \"coloraxis\"}, \"name\": \"\", \"offsetgroup\": \"\", \"orientation\": \"v\", \"showlegend\": false, \"text\": [26000.0, 25000.0, 24003.48, 22861.0, 20000.0, 17500.0, 17500.0, 15366.0, 15100.0, 15000.0], \"textposition\": \"auto\", \"type\": \"bar\", \"x\": [53.0, 44.0, 57.0, 48.0, 70.0, 43.0, 46.0, 75.0, 58.0, 36.0], \"xaxis\": \"x\", \"y\": [26000.0, 25000.0, 24003.48, 22861.0, 20000.0, 17500.0, 17500.0, 15366.0, 15100.0, 15000.0], \"yaxis\": \"y\"}],                        {\"barmode\": \"relative\", \"coloraxis\": {\"colorbar\": {\"title\": {\"text\": \"Age\"}}, \"colorscale\": [[0.0, \"#0d0887\"], [0.1111111111111111, \"#46039f\"], [0.2222222222222222, \"#7201a8\"], [0.3333333333333333, \"#9c179e\"], [0.4444444444444444, \"#bd3786\"], [0.5555555555555556, \"#d8576b\"], [0.6666666666666666, \"#ed7953\"], [0.7777777777777778, \"#fb9f3a\"], [0.8888888888888888, \"#fdca26\"], [1.0, \"#f0f921\"]]}, \"legend\": {\"tracegroupgap\": 0}, \"template\": {\"data\": {\"bar\": [{\"error_x\": {\"color\": \"#2a3f5f\"}, \"error_y\": {\"color\": \"#2a3f5f\"}, \"marker\": {\"line\": {\"color\": \"#E5ECF6\", \"width\": 0.5}}, \"type\": \"bar\"}], \"barpolar\": [{\"marker\": {\"line\": {\"color\": \"#E5ECF6\", \"width\": 0.5}}, \"type\": \"barpolar\"}], \"carpet\": [{\"aaxis\": {\"endlinecolor\": \"#2a3f5f\", \"gridcolor\": \"white\", \"linecolor\": \"white\", \"minorgridcolor\": \"white\", \"startlinecolor\": \"#2a3f5f\"}, \"baxis\": {\"endlinecolor\": \"#2a3f5f\", \"gridcolor\": \"white\", \"linecolor\": \"white\", \"minorgridcolor\": \"white\", \"startlinecolor\": \"#2a3f5f\"}, \"type\": \"carpet\"}], \"choropleth\": [{\"colorbar\": {\"outlinewidth\": 0, \"ticks\": \"\"}, \"type\": \"choropleth\"}], \"contour\": [{\"colorbar\": {\"outlinewidth\": 0, \"ticks\": \"\"}, \"colorscale\": [[0.0, \"#0d0887\"], [0.1111111111111111, \"#46039f\"], [0.2222222222222222, \"#7201a8\"], [0.3333333333333333, \"#9c179e\"], [0.4444444444444444, \"#bd3786\"], [0.5555555555555556, \"#d8576b\"], [0.6666666666666666, \"#ed7953\"], [0.7777777777777778, \"#fb9f3a\"], [0.8888888888888888, \"#fdca26\"], [1.0, \"#f0f921\"]], \"type\": \"contour\"}], \"contourcarpet\": [{\"colorbar\": {\"outlinewidth\": 0, \"ticks\": \"\"}, \"type\": \"contourcarpet\"}], \"heatmap\": [{\"colorbar\": {\"outlinewidth\": 0, \"ticks\": \"\"}, \"colorscale\": [[0.0, \"#0d0887\"], [0.1111111111111111, \"#46039f\"], [0.2222222222222222, \"#7201a8\"], [0.3333333333333333, \"#9c179e\"], [0.4444444444444444, \"#bd3786\"], [0.5555555555555556, \"#d8576b\"], [0.6666666666666666, \"#ed7953\"], [0.7777777777777778, \"#fb9f3a\"], [0.8888888888888888, \"#fdca26\"], [1.0, \"#f0f921\"]], \"type\": \"heatmap\"}], \"heatmapgl\": [{\"colorbar\": {\"outlinewidth\": 0, \"ticks\": \"\"}, \"colorscale\": [[0.0, \"#0d0887\"], [0.1111111111111111, \"#46039f\"], [0.2222222222222222, \"#7201a8\"], [0.3333333333333333, \"#9c179e\"], [0.4444444444444444, \"#bd3786\"], [0.5555555555555556, \"#d8576b\"], [0.6666666666666666, \"#ed7953\"], [0.7777777777777778, \"#fb9f3a\"], [0.8888888888888888, \"#fdca26\"], [1.0, \"#f0f921\"]], \"type\": \"heatmapgl\"}], \"histogram\": [{\"marker\": {\"colorbar\": {\"outlinewidth\": 0, \"ticks\": \"\"}}, \"type\": \"histogram\"}], \"histogram2d\": [{\"colorbar\": {\"outlinewidth\": 0, \"ticks\": \"\"}, \"colorscale\": [[0.0, \"#0d0887\"], [0.1111111111111111, \"#46039f\"], [0.2222222222222222, \"#7201a8\"], [0.3333333333333333, \"#9c179e\"], [0.4444444444444444, \"#bd3786\"], [0.5555555555555556, \"#d8576b\"], [0.6666666666666666, \"#ed7953\"], [0.7777777777777778, \"#fb9f3a\"], [0.8888888888888888, \"#fdca26\"], [1.0, \"#f0f921\"]], \"type\": \"histogram2d\"}], \"histogram2dcontour\": [{\"colorbar\": {\"outlinewidth\": 0, \"ticks\": \"\"}, \"colorscale\": [[0.0, \"#0d0887\"], [0.1111111111111111, \"#46039f\"], [0.2222222222222222, \"#7201a8\"], [0.3333333333333333, \"#9c179e\"], [0.4444444444444444, \"#bd3786\"], [0.5555555555555556, \"#d8576b\"], [0.6666666666666666, \"#ed7953\"], [0.7777777777777778, \"#fb9f3a\"], [0.8888888888888888, \"#fdca26\"], [1.0, \"#f0f921\"]], \"type\": \"histogram2dcontour\"}], \"mesh3d\": [{\"colorbar\": {\"outlinewidth\": 0, \"ticks\": \"\"}, \"type\": \"mesh3d\"}], \"parcoords\": [{\"line\": {\"colorbar\": {\"outlinewidth\": 0, \"ticks\": \"\"}}, \"type\": \"parcoords\"}], \"pie\": [{\"automargin\": true, \"type\": \"pie\"}], \"scatter\": [{\"marker\": {\"colorbar\": {\"outlinewidth\": 0, \"ticks\": \"\"}}, \"type\": \"scatter\"}], \"scatter3d\": [{\"line\": {\"colorbar\": {\"outlinewidth\": 0, \"ticks\": \"\"}}, \"marker\": {\"colorbar\": {\"outlinewidth\": 0, \"ticks\": \"\"}}, \"type\": \"scatter3d\"}], \"scattercarpet\": [{\"marker\": {\"colorbar\": {\"outlinewidth\": 0, \"ticks\": \"\"}}, \"type\": \"scattercarpet\"}], \"scattergeo\": [{\"marker\": {\"colorbar\": {\"outlinewidth\": 0, \"ticks\": \"\"}}, \"type\": \"scattergeo\"}], \"scattergl\": [{\"marker\": {\"colorbar\": {\"outlinewidth\": 0, \"ticks\": \"\"}}, \"type\": \"scattergl\"}], \"scattermapbox\": [{\"marker\": {\"colorbar\": {\"outlinewidth\": 0, \"ticks\": \"\"}}, \"type\": \"scattermapbox\"}], \"scatterpolar\": [{\"marker\": {\"colorbar\": {\"outlinewidth\": 0, \"ticks\": \"\"}}, \"type\": \"scatterpolar\"}], \"scatterpolargl\": [{\"marker\": {\"colorbar\": {\"outlinewidth\": 0, \"ticks\": \"\"}}, \"type\": \"scatterpolargl\"}], \"scatterternary\": [{\"marker\": {\"colorbar\": {\"outlinewidth\": 0, \"ticks\": \"\"}}, \"type\": \"scatterternary\"}], \"surface\": [{\"colorbar\": {\"outlinewidth\": 0, \"ticks\": \"\"}, \"colorscale\": [[0.0, \"#0d0887\"], [0.1111111111111111, \"#46039f\"], [0.2222222222222222, \"#7201a8\"], [0.3333333333333333, \"#9c179e\"], [0.4444444444444444, \"#bd3786\"], [0.5555555555555556, \"#d8576b\"], [0.6666666666666666, \"#ed7953\"], [0.7777777777777778, \"#fb9f3a\"], [0.8888888888888888, \"#fdca26\"], [1.0, \"#f0f921\"]], \"type\": \"surface\"}], \"table\": [{\"cells\": {\"fill\": {\"color\": \"#EBF0F8\"}, \"line\": {\"color\": \"white\"}}, \"header\": {\"fill\": {\"color\": \"#C8D4E3\"}, \"line\": {\"color\": \"white\"}}, \"type\": \"table\"}]}, \"layout\": {\"annotationdefaults\": {\"arrowcolor\": \"#2a3f5f\", \"arrowhead\": 0, \"arrowwidth\": 1}, \"autotypenumbers\": \"strict\", \"coloraxis\": {\"colorbar\": {\"outlinewidth\": 0, \"ticks\": \"\"}}, \"colorscale\": {\"diverging\": [[0, \"#8e0152\"], [0.1, \"#c51b7d\"], [0.2, \"#de77ae\"], [0.3, \"#f1b6da\"], [0.4, \"#fde0ef\"], [0.5, \"#f7f7f7\"], [0.6, \"#e6f5d0\"], [0.7, \"#b8e186\"], [0.8, \"#7fbc41\"], [0.9, \"#4d9221\"], [1, \"#276419\"]], \"sequential\": [[0.0, \"#0d0887\"], [0.1111111111111111, \"#46039f\"], [0.2222222222222222, \"#7201a8\"], [0.3333333333333333, \"#9c179e\"], [0.4444444444444444, \"#bd3786\"], [0.5555555555555556, \"#d8576b\"], [0.6666666666666666, \"#ed7953\"], [0.7777777777777778, \"#fb9f3a\"], [0.8888888888888888, \"#fdca26\"], [1.0, \"#f0f921\"]], \"sequentialminus\": [[0.0, \"#0d0887\"], [0.1111111111111111, \"#46039f\"], [0.2222222222222222, \"#7201a8\"], [0.3333333333333333, \"#9c179e\"], [0.4444444444444444, \"#bd3786\"], [0.5555555555555556, \"#d8576b\"], [0.6666666666666666, \"#ed7953\"], [0.7777777777777778, \"#fb9f3a\"], [0.8888888888888888, \"#fdca26\"], [1.0, \"#f0f921\"]]}, \"colorway\": [\"#636efa\", \"#EF553B\", \"#00cc96\", \"#ab63fa\", \"#FFA15A\", \"#19d3f3\", \"#FF6692\", \"#B6E880\", \"#FF97FF\", \"#FECB52\"], \"font\": {\"color\": \"#2a3f5f\"}, \"geo\": {\"bgcolor\": \"white\", \"lakecolor\": \"white\", \"landcolor\": \"#E5ECF6\", \"showlakes\": true, \"showland\": true, \"subunitcolor\": \"white\"}, \"hoverlabel\": {\"align\": \"left\"}, \"hovermode\": \"closest\", \"mapbox\": {\"style\": \"light\"}, \"paper_bgcolor\": \"white\", \"plot_bgcolor\": \"#E5ECF6\", \"polar\": {\"angularaxis\": {\"gridcolor\": \"white\", \"linecolor\": \"white\", \"ticks\": \"\"}, \"bgcolor\": \"#E5ECF6\", \"radialaxis\": {\"gridcolor\": \"white\", \"linecolor\": \"white\", \"ticks\": \"\"}}, \"scene\": {\"xaxis\": {\"backgroundcolor\": \"#E5ECF6\", \"gridcolor\": \"white\", \"gridwidth\": 2, \"linecolor\": \"white\", \"showbackground\": true, \"ticks\": \"\", \"zerolinecolor\": \"white\"}, \"yaxis\": {\"backgroundcolor\": \"#E5ECF6\", \"gridcolor\": \"white\", \"gridwidth\": 2, \"linecolor\": \"white\", \"showbackground\": true, \"ticks\": \"\", \"zerolinecolor\": \"white\"}, \"zaxis\": {\"backgroundcolor\": \"#E5ECF6\", \"gridcolor\": \"white\", \"gridwidth\": 2, \"linecolor\": \"white\", \"showbackground\": true, \"ticks\": \"\", \"zerolinecolor\": \"white\"}}, \"shapedefaults\": {\"line\": {\"color\": \"#2a3f5f\"}}, \"ternary\": {\"aaxis\": {\"gridcolor\": \"white\", \"linecolor\": \"white\", \"ticks\": \"\"}, \"baxis\": {\"gridcolor\": \"white\", \"linecolor\": \"white\", \"ticks\": \"\"}, \"bgcolor\": \"#E5ECF6\", \"caxis\": {\"gridcolor\": \"white\", \"linecolor\": \"white\", \"ticks\": \"\"}}, \"title\": {\"x\": 0.05}, \"xaxis\": {\"automargin\": true, \"gridcolor\": \"white\", \"linecolor\": \"white\", \"ticks\": \"\", \"title\": {\"standoff\": 15}, \"zerolinecolor\": \"white\", \"zerolinewidth\": 2}, \"yaxis\": {\"automargin\": true, \"gridcolor\": \"white\", \"linecolor\": \"white\", \"ticks\": \"\", \"title\": {\"standoff\": 15}, \"zerolinecolor\": \"white\", \"zerolinewidth\": 2}}}, \"title\": {\"text\": \"Age wise Top 10 SALARIES\"}, \"xaxis\": {\"anchor\": \"y\", \"domain\": [0.0, 1.0], \"title\": {\"text\": \"Age\"}}, \"yaxis\": {\"anchor\": \"x\", \"domain\": [0.0, 1.0], \"title\": {\"text\": \"SALARY\"}}},                        {\"responsive\": true}                    ).then(function(){\n",
              "                            \n",
              "var gd = document.getElementById('0ec40346-9050-4d1b-bd69-96683dc2e9f0');\n",
              "var x = new MutationObserver(function (mutations, observer) {{\n",
              "        var display = window.getComputedStyle(gd).display;\n",
              "        if (!display || display === 'none') {{\n",
              "            console.log([gd, 'removed!']);\n",
              "            Plotly.purge(gd);\n",
              "            observer.disconnect();\n",
              "        }}\n",
              "}});\n",
              "\n",
              "// Listen for the removal of the full notebook cells\n",
              "var notebookContainer = gd.closest('#notebook-container');\n",
              "if (notebookContainer) {{\n",
              "    x.observe(notebookContainer, {childList: true});\n",
              "}}\n",
              "\n",
              "// Listen for the clearing of the current output cell\n",
              "var outputEl = gd.closest('.output');\n",
              "if (outputEl) {{\n",
              "    x.observe(outputEl, {childList: true});\n",
              "}}\n",
              "\n",
              "                        })                };                            </script>        </div>\n",
              "</body>\n",
              "</html>"
            ]
          },
          "metadata": {
            "tags": []
          }
        }
      ]
    },
    {
      "cell_type": "markdown",
      "metadata": {
        "id": "6e15423a"
      },
      "source": [
        "#### INSIGHT \n",
        "\n",
        "-- Top 15 Companies\n",
        "\n",
        "-- Country wise\n",
        "\n",
        "-- age of the employee offered with max salary"
      ],
      "id": "6e15423a"
    },
    {
      "cell_type": "code",
      "metadata": {
        "colab": {
          "base_uri": "https://localhost:8080/",
          "height": 514
        },
        "id": "b098cd67",
        "outputId": "413bdefb-a899-4083-932e-6f13bb685b22"
      },
      "source": [
        "#hide_input\n",
        "insight27 = pd.DataFrame()\n",
        "insight27 = data.groupby([\"COMPANY_NAME\",\"COUNTRY_DESC\",\"Age\"])['SALARY'].max()\n",
        "insight27 = insight27.reset_index([\"COMPANY_NAME\",\"COUNTRY_DESC\",\"Age\"])\n",
        "insight27 = insight27.nlargest(15,'SALARY')\n",
        "insight27"
      ],
      "id": "b098cd67",
      "execution_count": null,
      "outputs": [
        {
          "output_type": "execute_result",
          "data": {
            "text/html": [
              "<div>\n",
              "<style scoped>\n",
              "    .dataframe tbody tr th:only-of-type {\n",
              "        vertical-align: middle;\n",
              "    }\n",
              "\n",
              "    .dataframe tbody tr th {\n",
              "        vertical-align: top;\n",
              "    }\n",
              "\n",
              "    .dataframe thead th {\n",
              "        text-align: right;\n",
              "    }\n",
              "</style>\n",
              "<table border=\"1\" class=\"dataframe\">\n",
              "  <thead>\n",
              "    <tr style=\"text-align: right;\">\n",
              "      <th></th>\n",
              "      <th>COMPANY_NAME</th>\n",
              "      <th>COUNTRY_DESC</th>\n",
              "      <th>Age</th>\n",
              "      <th>SALARY</th>\n",
              "    </tr>\n",
              "  </thead>\n",
              "  <tbody>\n",
              "    <tr>\n",
              "      <th>221195</th>\n",
              "      <td>بنك وربه / مساهمة العامة</td>\n",
              "      <td>الكويت</td>\n",
              "      <td>53.0</td>\n",
              "      <td>26000.000</td>\n",
              "    </tr>\n",
              "    <tr>\n",
              "      <th>220240</th>\n",
              "      <td>بنك الكويت الدولى</td>\n",
              "      <td>الكويت</td>\n",
              "      <td>44.0</td>\n",
              "      <td>25000.000</td>\n",
              "    </tr>\n",
              "    <tr>\n",
              "      <th>377313</th>\n",
              "      <td>شركة البترول الوطنية الكويتية</td>\n",
              "      <td>الهنــد</td>\n",
              "      <td>57.0</td>\n",
              "      <td>24003.485</td>\n",
              "    </tr>\n",
              "    <tr>\n",
              "      <th>116874</th>\n",
              "      <td>10808                    شركة ايكويت للبتروكيم...</td>\n",
              "      <td>الكويت</td>\n",
              "      <td>48.0</td>\n",
              "      <td>22861.000</td>\n",
              "    </tr>\n",
              "    <tr>\n",
              "      <th>179948</th>\n",
              "      <td>الشركة المتحدة لصناعة الحديد</td>\n",
              "      <td>الكويت</td>\n",
              "      <td>70.0</td>\n",
              "      <td>20000.000</td>\n",
              "    </tr>\n",
              "    <tr>\n",
              "      <th>221192</th>\n",
              "      <td>بنك وربه / مساهمة العامة</td>\n",
              "      <td>الكويت</td>\n",
              "      <td>46.0</td>\n",
              "      <td>17500.000</td>\n",
              "    </tr>\n",
              "    <tr>\n",
              "      <th>461122</th>\n",
              "      <td>شركة الوطني للاستثمار</td>\n",
              "      <td>الكويت</td>\n",
              "      <td>43.0</td>\n",
              "      <td>17500.000</td>\n",
              "    </tr>\n",
              "    <tr>\n",
              "      <th>802555</th>\n",
              "      <td>مجموعة الصناعات الوطنيةالقابضة /مساهمةعامة</td>\n",
              "      <td>الأردن</td>\n",
              "      <td>75.0</td>\n",
              "      <td>15366.000</td>\n",
              "    </tr>\n",
              "    <tr>\n",
              "      <th>97782</th>\n",
              "      <td>(10348)     شركة التبريد والاكسجين المحدودة</td>\n",
              "      <td>الكويت</td>\n",
              "      <td>58.0</td>\n",
              "      <td>15100.000</td>\n",
              "    </tr>\n",
              "    <tr>\n",
              "      <th>52248</th>\n",
              "      <td>الشركة الوطنية العقارية</td>\n",
              "      <td>الكويت</td>\n",
              "      <td>40.0</td>\n",
              "      <td>15000.000</td>\n",
              "    </tr>\n",
              "    <tr>\n",
              "      <th>103258</th>\n",
              "      <td>(11084)                الشركه المتحده لصناعه ا...</td>\n",
              "      <td>الكويت</td>\n",
              "      <td>36.0</td>\n",
              "      <td>15000.000</td>\n",
              "    </tr>\n",
              "    <tr>\n",
              "      <th>369844</th>\n",
              "      <td>شركة الارجان العالمية العقارية</td>\n",
              "      <td>الكويت</td>\n",
              "      <td>59.0</td>\n",
              "      <td>15000.000</td>\n",
              "    </tr>\n",
              "    <tr>\n",
              "      <th>372638</th>\n",
              "      <td>شركة الافكو لتمويل شراء وتاجير الطائرات</td>\n",
              "      <td>الكويت</td>\n",
              "      <td>51.0</td>\n",
              "      <td>15000.000</td>\n",
              "    </tr>\n",
              "    <tr>\n",
              "      <th>408934</th>\n",
              "      <td>شركة السبعه لآلى القابضة</td>\n",
              "      <td>لبنــان</td>\n",
              "      <td>53.0</td>\n",
              "      <td>15000.000</td>\n",
              "    </tr>\n",
              "    <tr>\n",
              "      <th>518887</th>\n",
              "      <td>شركة دبليواي كونسلتنج للتجارة العامة</td>\n",
              "      <td>الولايات المتحدة الأمريكية</td>\n",
              "      <td>58.0</td>\n",
              "      <td>15000.000</td>\n",
              "    </tr>\n",
              "  </tbody>\n",
              "</table>\n",
              "</div>"
            ],
            "text/plain": [
              "                                             COMPANY_NAME  ...     SALARY\n",
              "221195                           بنك وربه / مساهمة العامة  ...  26000.000\n",
              "220240                                  بنك الكويت الدولى  ...  25000.000\n",
              "377313                      شركة البترول الوطنية الكويتية  ...  24003.485\n",
              "116874  10808                    شركة ايكويت للبتروكيم...  ...  22861.000\n",
              "179948                       الشركة المتحدة لصناعة الحديد  ...  20000.000\n",
              "221192                           بنك وربه / مساهمة العامة  ...  17500.000\n",
              "461122                              شركة الوطني للاستثمار  ...  17500.000\n",
              "802555         مجموعة الصناعات الوطنيةالقابضة /مساهمةعامة  ...  15366.000\n",
              "97782         (10348)     شركة التبريد والاكسجين المحدودة  ...  15100.000\n",
              "52248                             الشركة الوطنية العقارية  ...  15000.000\n",
              "103258  (11084)                الشركه المتحده لصناعه ا...  ...  15000.000\n",
              "369844                     شركة الارجان العالمية العقارية  ...  15000.000\n",
              "372638            شركة الافكو لتمويل شراء وتاجير الطائرات  ...  15000.000\n",
              "408934                           شركة السبعه لآلى القابضة  ...  15000.000\n",
              "518887               شركة دبليواي كونسلتنج للتجارة العامة  ...  15000.000\n",
              "\n",
              "[15 rows x 4 columns]"
            ]
          },
          "metadata": {
            "tags": []
          },
          "execution_count": 86
        }
      ]
    },
    {
      "cell_type": "code",
      "metadata": {
        "scrolled": true,
        "colab": {
          "base_uri": "https://localhost:8080/",
          "height": 542
        },
        "id": "db2b0872",
        "outputId": "4ea882f8-923f-4891-e7d0-9b105a401675"
      },
      "source": [
        "#hide_input\n",
        "fig = px.treemap(insight27, path=[insight27.index,\"COMPANY_NAME\",\"COUNTRY_DESC\",\"Age\"], values='SALARY')\n",
        "\n",
        "fig.update_layout(margin=dict(t=10, b=10, r=10, l=10))\n",
        "fig.show()"
      ],
      "id": "db2b0872",
      "execution_count": null,
      "outputs": [
        {
          "output_type": "display_data",
          "data": {
            "text/html": [
              "<html>\n",
              "<head><meta charset=\"utf-8\" /></head>\n",
              "<body>\n",
              "    <div>            <script src=\"https://cdnjs.cloudflare.com/ajax/libs/mathjax/2.7.5/MathJax.js?config=TeX-AMS-MML_SVG\"></script><script type=\"text/javascript\">if (window.MathJax) {MathJax.Hub.Config({SVG: {font: \"STIX-Web\"}});}</script>                <script type=\"text/javascript\">window.PlotlyConfig = {MathJaxConfig: 'local'};</script>\n",
              "        <script src=\"https://cdn.plot.ly/plotly-latest.min.js\"></script>                <div id=\"fc86c454-5db8-40a1-bf8e-117fc2488a8d\" class=\"plotly-graph-div\" style=\"height:525px; width:100%;\"></div>            <script type=\"text/javascript\">                                    window.PLOTLYENV=window.PLOTLYENV || {};                                    if (document.getElementById(\"fc86c454-5db8-40a1-bf8e-117fc2488a8d\")) {                    Plotly.newPlot(                        \"fc86c454-5db8-40a1-bf8e-117fc2488a8d\",                        [{\"branchvalues\": \"total\", \"domain\": {\"x\": [0.0, 1.0], \"y\": [0.0, 1.0]}, \"hovertemplate\": \"labels=%{label}<br>SALARY=%{value}<br>parent=%{parent}<br>id=%{id}<extra></extra>\", \"ids\": [\"103258/(11084)                \\u0627\\u0644\\u0634\\u0631\\u0643\\u0647 \\u0627\\u0644\\u0645\\u062a\\u062d\\u062f\\u0647 \\u0644\\u0635\\u0646\\u0627\\u0639\\u0647 \\u0627\\u0644\\u062d\\u062f\\u064a\\u062f/\\u0627\\u0644\\u0643\\u0648\\u064a\\u062a/36.0\", \"52248/ \\u0627\\u0644\\u0634\\u0631\\u0643\\u0629 \\u0627\\u0644\\u0648\\u0637\\u0646\\u064a\\u0629 \\u0627\\u0644\\u0639\\u0642\\u0627\\u0631\\u064a\\u0629/\\u0627\\u0644\\u0643\\u0648\\u064a\\u062a/40.0\", \"461122/\\u0634\\u0631\\u0643\\u0629 \\u0627\\u0644\\u0648\\u0637\\u0646\\u064a \\u0644\\u0644\\u0627\\u0633\\u062a\\u062b\\u0645\\u0627\\u0631/\\u0627\\u0644\\u0643\\u0648\\u064a\\u062a/43.0\", \"220240/\\u0628\\u0646\\u0643 \\u0627\\u0644\\u0643\\u0648\\u064a\\u062a \\u0627\\u0644\\u062f\\u0648\\u0644\\u0649/\\u0627\\u0644\\u0643\\u0648\\u064a\\u062a/44.0\", \"221192/\\u0628\\u0646\\u0643 \\u0648\\u0631\\u0628\\u0647 / \\u0645\\u0633\\u0627\\u0647\\u0645\\u0629 \\u0627\\u0644\\u0639\\u0627\\u0645\\u0629/\\u0627\\u0644\\u0643\\u0648\\u064a\\u062a/46.0\", \"116874/10808                    \\u0634\\u0631\\u0643\\u0629 \\u0627\\u064a\\u0643\\u0648\\u064a\\u062a \\u0644\\u0644\\u0628\\u062a\\u0631\\u0648\\u0643\\u064a\\u0645\\u0627\\u0648\\u064a\\u0627\\u062a/\\u0627\\u0644\\u0643\\u0648\\u064a\\u062a/48.0\", \"372638/\\u0634\\u0631\\u0643\\u0629 \\u0627\\u0644\\u0627\\u0641\\u0643\\u0648 \\u0644\\u062a\\u0645\\u0648\\u064a\\u0644 \\u0634\\u0631\\u0627\\u0621 \\u0648\\u062a\\u0627\\u062c\\u064a\\u0631 \\u0627\\u0644\\u0637\\u0627\\u0626\\u0631\\u0627\\u062a/\\u0627\\u0644\\u0643\\u0648\\u064a\\u062a/51.0\", \"221195/\\u0628\\u0646\\u0643 \\u0648\\u0631\\u0628\\u0647 / \\u0645\\u0633\\u0627\\u0647\\u0645\\u0629 \\u0627\\u0644\\u0639\\u0627\\u0645\\u0629/\\u0627\\u0644\\u0643\\u0648\\u064a\\u062a/53.0\", \"408934/\\u0634\\u0631\\u0643\\u0629 \\u0627\\u0644\\u0633\\u0628\\u0639\\u0647 \\u0644\\u0622\\u0644\\u0649 \\u0627\\u0644\\u0642\\u0627\\u0628\\u0636\\u0629/\\u0644\\u0628\\u0646\\u0640\\u0640\\u0627\\u0646/53.0\", \"377313/\\u0634\\u0631\\u0643\\u0629 \\u0627\\u0644\\u0628\\u062a\\u0631\\u0648\\u0644 \\u0627\\u0644\\u0648\\u0637\\u0646\\u064a\\u0629 \\u0627\\u0644\\u0643\\u0648\\u064a\\u062a\\u064a\\u0629/\\u0627\\u0644\\u0647\\u0646\\u0640\\u0640\\u062f/57.0\", \"97782/(10348)     \\u0634\\u0631\\u0643\\u0629 \\u0627\\u0644\\u062a\\u0628\\u0631\\u064a\\u062f \\u0648\\u0627\\u0644\\u0627\\u0643\\u0633\\u062c\\u064a\\u0646 \\u0627\\u0644\\u0645\\u062d\\u062f\\u0648\\u062f\\u0629/\\u0627\\u0644\\u0643\\u0648\\u064a\\u062a/58.0\", \"518887/\\u0634\\u0631\\u0643\\u0629 \\u062f\\u0628\\u0644\\u064a\\u0648\\u0627\\u064a \\u0643\\u0648\\u0646\\u0633\\u0644\\u062a\\u0646\\u062c \\u0644\\u0644\\u062a\\u062c\\u0627\\u0631\\u0629 \\u0627\\u0644\\u0639\\u0627\\u0645\\u0629/\\u0627\\u0644\\u0648\\u0644\\u0627\\u064a\\u0627\\u062a \\u0627\\u0644\\u0645\\u062a\\u062d\\u062f\\u0629 \\u0627\\u0644\\u0623\\u0645\\u0631\\u064a\\u0643\\u064a\\u0629/58.0\", \"369844/\\u0634\\u0631\\u0643\\u0629 \\u0627\\u0644\\u0627\\u0631\\u062c\\u0627\\u0646 \\u0627\\u0644\\u0639\\u0627\\u0644\\u0645\\u064a\\u0629 \\u0627\\u0644\\u0639\\u0642\\u0627\\u0631\\u064a\\u0629/\\u0627\\u0644\\u0643\\u0648\\u064a\\u062a/59.0\", \"179948/\\u0627\\u0644\\u0634\\u0631\\u0643\\u0629 \\u0627\\u0644\\u0645\\u062a\\u062d\\u062f\\u0629 \\u0644\\u0635\\u0646\\u0627\\u0639\\u0629 \\u0627\\u0644\\u062d\\u062f\\u064a\\u062f/\\u0627\\u0644\\u0643\\u0648\\u064a\\u062a/70.0\", \"802555/\\u0645\\u062c\\u0645\\u0648\\u0639\\u0629 \\u0627\\u0644\\u0635\\u0646\\u0627\\u0639\\u0627\\u062a \\u0627\\u0644\\u0648\\u0637\\u0646\\u064a\\u0629\\u0627\\u0644\\u0642\\u0627\\u0628\\u0636\\u0629 /\\u0645\\u0633\\u0627\\u0647\\u0645\\u0629\\u0639\\u0627\\u0645\\u0629/\\u0627\\u0644\\u0623\\u0631\\u062f\\u0646/75.0\", \"802555/\\u0645\\u062c\\u0645\\u0648\\u0639\\u0629 \\u0627\\u0644\\u0635\\u0646\\u0627\\u0639\\u0627\\u062a \\u0627\\u0644\\u0648\\u0637\\u0646\\u064a\\u0629\\u0627\\u0644\\u0642\\u0627\\u0628\\u0636\\u0629 /\\u0645\\u0633\\u0627\\u0647\\u0645\\u0629\\u0639\\u0627\\u0645\\u0629/\\u0627\\u0644\\u0623\\u0631\\u062f\\u0646\", \"52248/ \\u0627\\u0644\\u0634\\u0631\\u0643\\u0629 \\u0627\\u0644\\u0648\\u0637\\u0646\\u064a\\u0629 \\u0627\\u0644\\u0639\\u0642\\u0627\\u0631\\u064a\\u0629/\\u0627\\u0644\\u0643\\u0648\\u064a\\u062a\", \"97782/(10348)     \\u0634\\u0631\\u0643\\u0629 \\u0627\\u0644\\u062a\\u0628\\u0631\\u064a\\u062f \\u0648\\u0627\\u0644\\u0627\\u0643\\u0633\\u062c\\u064a\\u0646 \\u0627\\u0644\\u0645\\u062d\\u062f\\u0648\\u062f\\u0629/\\u0627\\u0644\\u0643\\u0648\\u064a\\u062a\", \"103258/(11084)                \\u0627\\u0644\\u0634\\u0631\\u0643\\u0647 \\u0627\\u0644\\u0645\\u062a\\u062d\\u062f\\u0647 \\u0644\\u0635\\u0646\\u0627\\u0639\\u0647 \\u0627\\u0644\\u062d\\u062f\\u064a\\u062f/\\u0627\\u0644\\u0643\\u0648\\u064a\\u062a\", \"116874/10808                    \\u0634\\u0631\\u0643\\u0629 \\u0627\\u064a\\u0643\\u0648\\u064a\\u062a \\u0644\\u0644\\u0628\\u062a\\u0631\\u0648\\u0643\\u064a\\u0645\\u0627\\u0648\\u064a\\u0627\\u062a/\\u0627\\u0644\\u0643\\u0648\\u064a\\u062a\", \"179948/\\u0627\\u0644\\u0634\\u0631\\u0643\\u0629 \\u0627\\u0644\\u0645\\u062a\\u062d\\u062f\\u0629 \\u0644\\u0635\\u0646\\u0627\\u0639\\u0629 \\u0627\\u0644\\u062d\\u062f\\u064a\\u062f/\\u0627\\u0644\\u0643\\u0648\\u064a\\u062a\", \"220240/\\u0628\\u0646\\u0643 \\u0627\\u0644\\u0643\\u0648\\u064a\\u062a \\u0627\\u0644\\u062f\\u0648\\u0644\\u0649/\\u0627\\u0644\\u0643\\u0648\\u064a\\u062a\", \"221192/\\u0628\\u0646\\u0643 \\u0648\\u0631\\u0628\\u0647 / \\u0645\\u0633\\u0627\\u0647\\u0645\\u0629 \\u0627\\u0644\\u0639\\u0627\\u0645\\u0629/\\u0627\\u0644\\u0643\\u0648\\u064a\\u062a\", \"221195/\\u0628\\u0646\\u0643 \\u0648\\u0631\\u0628\\u0647 / \\u0645\\u0633\\u0627\\u0647\\u0645\\u0629 \\u0627\\u0644\\u0639\\u0627\\u0645\\u0629/\\u0627\\u0644\\u0643\\u0648\\u064a\\u062a\", \"369844/\\u0634\\u0631\\u0643\\u0629 \\u0627\\u0644\\u0627\\u0631\\u062c\\u0627\\u0646 \\u0627\\u0644\\u0639\\u0627\\u0644\\u0645\\u064a\\u0629 \\u0627\\u0644\\u0639\\u0642\\u0627\\u0631\\u064a\\u0629/\\u0627\\u0644\\u0643\\u0648\\u064a\\u062a\", \"372638/\\u0634\\u0631\\u0643\\u0629 \\u0627\\u0644\\u0627\\u0641\\u0643\\u0648 \\u0644\\u062a\\u0645\\u0648\\u064a\\u0644 \\u0634\\u0631\\u0627\\u0621 \\u0648\\u062a\\u0627\\u062c\\u064a\\u0631 \\u0627\\u0644\\u0637\\u0627\\u0626\\u0631\\u0627\\u062a/\\u0627\\u0644\\u0643\\u0648\\u064a\\u062a\", \"461122/\\u0634\\u0631\\u0643\\u0629 \\u0627\\u0644\\u0648\\u0637\\u0646\\u064a \\u0644\\u0644\\u0627\\u0633\\u062a\\u062b\\u0645\\u0627\\u0631/\\u0627\\u0644\\u0643\\u0648\\u064a\\u062a\", \"377313/\\u0634\\u0631\\u0643\\u0629 \\u0627\\u0644\\u0628\\u062a\\u0631\\u0648\\u0644 \\u0627\\u0644\\u0648\\u0637\\u0646\\u064a\\u0629 \\u0627\\u0644\\u0643\\u0648\\u064a\\u062a\\u064a\\u0629/\\u0627\\u0644\\u0647\\u0646\\u0640\\u0640\\u062f\", \"518887/\\u0634\\u0631\\u0643\\u0629 \\u062f\\u0628\\u0644\\u064a\\u0648\\u0627\\u064a \\u0643\\u0648\\u0646\\u0633\\u0644\\u062a\\u0646\\u062c \\u0644\\u0644\\u062a\\u062c\\u0627\\u0631\\u0629 \\u0627\\u0644\\u0639\\u0627\\u0645\\u0629/\\u0627\\u0644\\u0648\\u0644\\u0627\\u064a\\u0627\\u062a \\u0627\\u0644\\u0645\\u062a\\u062d\\u062f\\u0629 \\u0627\\u0644\\u0623\\u0645\\u0631\\u064a\\u0643\\u064a\\u0629\", \"408934/\\u0634\\u0631\\u0643\\u0629 \\u0627\\u0644\\u0633\\u0628\\u0639\\u0647 \\u0644\\u0622\\u0644\\u0649 \\u0627\\u0644\\u0642\\u0627\\u0628\\u0636\\u0629/\\u0644\\u0628\\u0646\\u0640\\u0640\\u0627\\u0646\", \"52248/ \\u0627\\u0644\\u0634\\u0631\\u0643\\u0629 \\u0627\\u0644\\u0648\\u0637\\u0646\\u064a\\u0629 \\u0627\\u0644\\u0639\\u0642\\u0627\\u0631\\u064a\\u0629\", \"97782/(10348)     \\u0634\\u0631\\u0643\\u0629 \\u0627\\u0644\\u062a\\u0628\\u0631\\u064a\\u062f \\u0648\\u0627\\u0644\\u0627\\u0643\\u0633\\u062c\\u064a\\u0646 \\u0627\\u0644\\u0645\\u062d\\u062f\\u0648\\u062f\\u0629\", \"103258/(11084)                \\u0627\\u0644\\u0634\\u0631\\u0643\\u0647 \\u0627\\u0644\\u0645\\u062a\\u062d\\u062f\\u0647 \\u0644\\u0635\\u0646\\u0627\\u0639\\u0647 \\u0627\\u0644\\u062d\\u062f\\u064a\\u062f\", \"116874/10808                    \\u0634\\u0631\\u0643\\u0629 \\u0627\\u064a\\u0643\\u0648\\u064a\\u062a \\u0644\\u0644\\u0628\\u062a\\u0631\\u0648\\u0643\\u064a\\u0645\\u0627\\u0648\\u064a\\u0627\\u062a\", \"179948/\\u0627\\u0644\\u0634\\u0631\\u0643\\u0629 \\u0627\\u0644\\u0645\\u062a\\u062d\\u062f\\u0629 \\u0644\\u0635\\u0646\\u0627\\u0639\\u0629 \\u0627\\u0644\\u062d\\u062f\\u064a\\u062f\", \"220240/\\u0628\\u0646\\u0643 \\u0627\\u0644\\u0643\\u0648\\u064a\\u062a \\u0627\\u0644\\u062f\\u0648\\u0644\\u0649\", \"221192/\\u0628\\u0646\\u0643 \\u0648\\u0631\\u0628\\u0647 / \\u0645\\u0633\\u0627\\u0647\\u0645\\u0629 \\u0627\\u0644\\u0639\\u0627\\u0645\\u0629\", \"221195/\\u0628\\u0646\\u0643 \\u0648\\u0631\\u0628\\u0647 / \\u0645\\u0633\\u0627\\u0647\\u0645\\u0629 \\u0627\\u0644\\u0639\\u0627\\u0645\\u0629\", \"369844/\\u0634\\u0631\\u0643\\u0629 \\u0627\\u0644\\u0627\\u0631\\u062c\\u0627\\u0646 \\u0627\\u0644\\u0639\\u0627\\u0644\\u0645\\u064a\\u0629 \\u0627\\u0644\\u0639\\u0642\\u0627\\u0631\\u064a\\u0629\", \"372638/\\u0634\\u0631\\u0643\\u0629 \\u0627\\u0644\\u0627\\u0641\\u0643\\u0648 \\u0644\\u062a\\u0645\\u0648\\u064a\\u0644 \\u0634\\u0631\\u0627\\u0621 \\u0648\\u062a\\u0627\\u062c\\u064a\\u0631 \\u0627\\u0644\\u0637\\u0627\\u0626\\u0631\\u0627\\u062a\", \"377313/\\u0634\\u0631\\u0643\\u0629 \\u0627\\u0644\\u0628\\u062a\\u0631\\u0648\\u0644 \\u0627\\u0644\\u0648\\u0637\\u0646\\u064a\\u0629 \\u0627\\u0644\\u0643\\u0648\\u064a\\u062a\\u064a\\u0629\", \"408934/\\u0634\\u0631\\u0643\\u0629 \\u0627\\u0644\\u0633\\u0628\\u0639\\u0647 \\u0644\\u0622\\u0644\\u0649 \\u0627\\u0644\\u0642\\u0627\\u0628\\u0636\\u0629\", \"461122/\\u0634\\u0631\\u0643\\u0629 \\u0627\\u0644\\u0648\\u0637\\u0646\\u064a \\u0644\\u0644\\u0627\\u0633\\u062a\\u062b\\u0645\\u0627\\u0631\", \"518887/\\u0634\\u0631\\u0643\\u0629 \\u062f\\u0628\\u0644\\u064a\\u0648\\u0627\\u064a \\u0643\\u0648\\u0646\\u0633\\u0644\\u062a\\u0646\\u062c \\u0644\\u0644\\u062a\\u062c\\u0627\\u0631\\u0629 \\u0627\\u0644\\u0639\\u0627\\u0645\\u0629\", \"802555/\\u0645\\u062c\\u0645\\u0648\\u0639\\u0629 \\u0627\\u0644\\u0635\\u0646\\u0627\\u0639\\u0627\\u062a \\u0627\\u0644\\u0648\\u0637\\u0646\\u064a\\u0629\\u0627\\u0644\\u0642\\u0627\\u0628\\u0636\\u0629 /\\u0645\\u0633\\u0627\\u0647\\u0645\\u0629\\u0639\\u0627\\u0645\\u0629\", \"52248\", \"97782\", \"103258\", \"116874\", \"179948\", \"220240\", \"221192\", \"221195\", \"369844\", \"372638\", \"377313\", \"408934\", \"461122\", \"518887\", \"802555\"], \"labels\": [\"36.0\", \"40.0\", \"43.0\", \"44.0\", \"46.0\", \"48.0\", \"51.0\", \"53.0\", \"53.0\", \"57.0\", \"58.0\", \"58.0\", \"59.0\", \"70.0\", \"75.0\", \"\\u0627\\u0644\\u0623\\u0631\\u062f\\u0646\", \"\\u0627\\u0644\\u0643\\u0648\\u064a\\u062a\", \"\\u0627\\u0644\\u0643\\u0648\\u064a\\u062a\", \"\\u0627\\u0644\\u0643\\u0648\\u064a\\u062a\", \"\\u0627\\u0644\\u0643\\u0648\\u064a\\u062a\", \"\\u0627\\u0644\\u0643\\u0648\\u064a\\u062a\", \"\\u0627\\u0644\\u0643\\u0648\\u064a\\u062a\", \"\\u0627\\u0644\\u0643\\u0648\\u064a\\u062a\", \"\\u0627\\u0644\\u0643\\u0648\\u064a\\u062a\", \"\\u0627\\u0644\\u0643\\u0648\\u064a\\u062a\", \"\\u0627\\u0644\\u0643\\u0648\\u064a\\u062a\", \"\\u0627\\u0644\\u0643\\u0648\\u064a\\u062a\", \"\\u0627\\u0644\\u0647\\u0646\\u0640\\u0640\\u062f\", \"\\u0627\\u0644\\u0648\\u0644\\u0627\\u064a\\u0627\\u062a \\u0627\\u0644\\u0645\\u062a\\u062d\\u062f\\u0629 \\u0627\\u0644\\u0623\\u0645\\u0631\\u064a\\u0643\\u064a\\u0629\", \"\\u0644\\u0628\\u0646\\u0640\\u0640\\u0627\\u0646\", \" \\u0627\\u0644\\u0634\\u0631\\u0643\\u0629 \\u0627\\u0644\\u0648\\u0637\\u0646\\u064a\\u0629 \\u0627\\u0644\\u0639\\u0642\\u0627\\u0631\\u064a\\u0629\", \"(10348)     \\u0634\\u0631\\u0643\\u0629 \\u0627\\u0644\\u062a\\u0628\\u0631\\u064a\\u062f \\u0648\\u0627\\u0644\\u0627\\u0643\\u0633\\u062c\\u064a\\u0646 \\u0627\\u0644\\u0645\\u062d\\u062f\\u0648\\u062f\\u0629\", \"(11084)                \\u0627\\u0644\\u0634\\u0631\\u0643\\u0647 \\u0627\\u0644\\u0645\\u062a\\u062d\\u062f\\u0647 \\u0644\\u0635\\u0646\\u0627\\u0639\\u0647 \\u0627\\u0644\\u062d\\u062f\\u064a\\u062f\", \"10808                    \\u0634\\u0631\\u0643\\u0629 \\u0627\\u064a\\u0643\\u0648\\u064a\\u062a \\u0644\\u0644\\u0628\\u062a\\u0631\\u0648\\u0643\\u064a\\u0645\\u0627\\u0648\\u064a\\u0627\\u062a\", \"\\u0627\\u0644\\u0634\\u0631\\u0643\\u0629 \\u0627\\u0644\\u0645\\u062a\\u062d\\u062f\\u0629 \\u0644\\u0635\\u0646\\u0627\\u0639\\u0629 \\u0627\\u0644\\u062d\\u062f\\u064a\\u062f\", \"\\u0628\\u0646\\u0643 \\u0627\\u0644\\u0643\\u0648\\u064a\\u062a \\u0627\\u0644\\u062f\\u0648\\u0644\\u0649\", \"\\u0628\\u0646\\u0643 \\u0648\\u0631\\u0628\\u0647 / \\u0645\\u0633\\u0627\\u0647\\u0645\\u0629 \\u0627\\u0644\\u0639\\u0627\\u0645\\u0629\", \"\\u0628\\u0646\\u0643 \\u0648\\u0631\\u0628\\u0647 / \\u0645\\u0633\\u0627\\u0647\\u0645\\u0629 \\u0627\\u0644\\u0639\\u0627\\u0645\\u0629\", \"\\u0634\\u0631\\u0643\\u0629 \\u0627\\u0644\\u0627\\u0631\\u062c\\u0627\\u0646 \\u0627\\u0644\\u0639\\u0627\\u0644\\u0645\\u064a\\u0629 \\u0627\\u0644\\u0639\\u0642\\u0627\\u0631\\u064a\\u0629\", \"\\u0634\\u0631\\u0643\\u0629 \\u0627\\u0644\\u0627\\u0641\\u0643\\u0648 \\u0644\\u062a\\u0645\\u0648\\u064a\\u0644 \\u0634\\u0631\\u0627\\u0621 \\u0648\\u062a\\u0627\\u062c\\u064a\\u0631 \\u0627\\u0644\\u0637\\u0627\\u0626\\u0631\\u0627\\u062a\", \"\\u0634\\u0631\\u0643\\u0629 \\u0627\\u0644\\u0628\\u062a\\u0631\\u0648\\u0644 \\u0627\\u0644\\u0648\\u0637\\u0646\\u064a\\u0629 \\u0627\\u0644\\u0643\\u0648\\u064a\\u062a\\u064a\\u0629\", \"\\u0634\\u0631\\u0643\\u0629 \\u0627\\u0644\\u0633\\u0628\\u0639\\u0647 \\u0644\\u0622\\u0644\\u0649 \\u0627\\u0644\\u0642\\u0627\\u0628\\u0636\\u0629\", \"\\u0634\\u0631\\u0643\\u0629 \\u0627\\u0644\\u0648\\u0637\\u0646\\u064a \\u0644\\u0644\\u0627\\u0633\\u062a\\u062b\\u0645\\u0627\\u0631\", \"\\u0634\\u0631\\u0643\\u0629 \\u062f\\u0628\\u0644\\u064a\\u0648\\u0627\\u064a \\u0643\\u0648\\u0646\\u0633\\u0644\\u062a\\u0646\\u062c \\u0644\\u0644\\u062a\\u062c\\u0627\\u0631\\u0629 \\u0627\\u0644\\u0639\\u0627\\u0645\\u0629\", \"\\u0645\\u062c\\u0645\\u0648\\u0639\\u0629 \\u0627\\u0644\\u0635\\u0646\\u0627\\u0639\\u0627\\u062a \\u0627\\u0644\\u0648\\u0637\\u0646\\u064a\\u0629\\u0627\\u0644\\u0642\\u0627\\u0628\\u0636\\u0629 /\\u0645\\u0633\\u0627\\u0647\\u0645\\u0629\\u0639\\u0627\\u0645\\u0629\", \"52248\", \"97782\", \"103258\", \"116874\", \"179948\", \"220240\", \"221192\", \"221195\", \"369844\", \"372638\", \"377313\", \"408934\", \"461122\", \"518887\", \"802555\"], \"name\": \"\", \"parents\": [\"103258/(11084)                \\u0627\\u0644\\u0634\\u0631\\u0643\\u0647 \\u0627\\u0644\\u0645\\u062a\\u062d\\u062f\\u0647 \\u0644\\u0635\\u0646\\u0627\\u0639\\u0647 \\u0627\\u0644\\u062d\\u062f\\u064a\\u062f/\\u0627\\u0644\\u0643\\u0648\\u064a\\u062a\", \"52248/ \\u0627\\u0644\\u0634\\u0631\\u0643\\u0629 \\u0627\\u0644\\u0648\\u0637\\u0646\\u064a\\u0629 \\u0627\\u0644\\u0639\\u0642\\u0627\\u0631\\u064a\\u0629/\\u0627\\u0644\\u0643\\u0648\\u064a\\u062a\", \"461122/\\u0634\\u0631\\u0643\\u0629 \\u0627\\u0644\\u0648\\u0637\\u0646\\u064a \\u0644\\u0644\\u0627\\u0633\\u062a\\u062b\\u0645\\u0627\\u0631/\\u0627\\u0644\\u0643\\u0648\\u064a\\u062a\", \"220240/\\u0628\\u0646\\u0643 \\u0627\\u0644\\u0643\\u0648\\u064a\\u062a \\u0627\\u0644\\u062f\\u0648\\u0644\\u0649/\\u0627\\u0644\\u0643\\u0648\\u064a\\u062a\", \"221192/\\u0628\\u0646\\u0643 \\u0648\\u0631\\u0628\\u0647 / \\u0645\\u0633\\u0627\\u0647\\u0645\\u0629 \\u0627\\u0644\\u0639\\u0627\\u0645\\u0629/\\u0627\\u0644\\u0643\\u0648\\u064a\\u062a\", \"116874/10808                    \\u0634\\u0631\\u0643\\u0629 \\u0627\\u064a\\u0643\\u0648\\u064a\\u062a \\u0644\\u0644\\u0628\\u062a\\u0631\\u0648\\u0643\\u064a\\u0645\\u0627\\u0648\\u064a\\u0627\\u062a/\\u0627\\u0644\\u0643\\u0648\\u064a\\u062a\", \"372638/\\u0634\\u0631\\u0643\\u0629 \\u0627\\u0644\\u0627\\u0641\\u0643\\u0648 \\u0644\\u062a\\u0645\\u0648\\u064a\\u0644 \\u0634\\u0631\\u0627\\u0621 \\u0648\\u062a\\u0627\\u062c\\u064a\\u0631 \\u0627\\u0644\\u0637\\u0627\\u0626\\u0631\\u0627\\u062a/\\u0627\\u0644\\u0643\\u0648\\u064a\\u062a\", \"221195/\\u0628\\u0646\\u0643 \\u0648\\u0631\\u0628\\u0647 / \\u0645\\u0633\\u0627\\u0647\\u0645\\u0629 \\u0627\\u0644\\u0639\\u0627\\u0645\\u0629/\\u0627\\u0644\\u0643\\u0648\\u064a\\u062a\", \"408934/\\u0634\\u0631\\u0643\\u0629 \\u0627\\u0644\\u0633\\u0628\\u0639\\u0647 \\u0644\\u0622\\u0644\\u0649 \\u0627\\u0644\\u0642\\u0627\\u0628\\u0636\\u0629/\\u0644\\u0628\\u0646\\u0640\\u0640\\u0627\\u0646\", \"377313/\\u0634\\u0631\\u0643\\u0629 \\u0627\\u0644\\u0628\\u062a\\u0631\\u0648\\u0644 \\u0627\\u0644\\u0648\\u0637\\u0646\\u064a\\u0629 \\u0627\\u0644\\u0643\\u0648\\u064a\\u062a\\u064a\\u0629/\\u0627\\u0644\\u0647\\u0646\\u0640\\u0640\\u062f\", \"97782/(10348)     \\u0634\\u0631\\u0643\\u0629 \\u0627\\u0644\\u062a\\u0628\\u0631\\u064a\\u062f \\u0648\\u0627\\u0644\\u0627\\u0643\\u0633\\u062c\\u064a\\u0646 \\u0627\\u0644\\u0645\\u062d\\u062f\\u0648\\u062f\\u0629/\\u0627\\u0644\\u0643\\u0648\\u064a\\u062a\", \"518887/\\u0634\\u0631\\u0643\\u0629 \\u062f\\u0628\\u0644\\u064a\\u0648\\u0627\\u064a \\u0643\\u0648\\u0646\\u0633\\u0644\\u062a\\u0646\\u062c \\u0644\\u0644\\u062a\\u062c\\u0627\\u0631\\u0629 \\u0627\\u0644\\u0639\\u0627\\u0645\\u0629/\\u0627\\u0644\\u0648\\u0644\\u0627\\u064a\\u0627\\u062a \\u0627\\u0644\\u0645\\u062a\\u062d\\u062f\\u0629 \\u0627\\u0644\\u0623\\u0645\\u0631\\u064a\\u0643\\u064a\\u0629\", \"369844/\\u0634\\u0631\\u0643\\u0629 \\u0627\\u0644\\u0627\\u0631\\u062c\\u0627\\u0646 \\u0627\\u0644\\u0639\\u0627\\u0644\\u0645\\u064a\\u0629 \\u0627\\u0644\\u0639\\u0642\\u0627\\u0631\\u064a\\u0629/\\u0627\\u0644\\u0643\\u0648\\u064a\\u062a\", \"179948/\\u0627\\u0644\\u0634\\u0631\\u0643\\u0629 \\u0627\\u0644\\u0645\\u062a\\u062d\\u062f\\u0629 \\u0644\\u0635\\u0646\\u0627\\u0639\\u0629 \\u0627\\u0644\\u062d\\u062f\\u064a\\u062f/\\u0627\\u0644\\u0643\\u0648\\u064a\\u062a\", \"802555/\\u0645\\u062c\\u0645\\u0648\\u0639\\u0629 \\u0627\\u0644\\u0635\\u0646\\u0627\\u0639\\u0627\\u062a \\u0627\\u0644\\u0648\\u0637\\u0646\\u064a\\u0629\\u0627\\u0644\\u0642\\u0627\\u0628\\u0636\\u0629 /\\u0645\\u0633\\u0627\\u0647\\u0645\\u0629\\u0639\\u0627\\u0645\\u0629/\\u0627\\u0644\\u0623\\u0631\\u062f\\u0646\", \"802555/\\u0645\\u062c\\u0645\\u0648\\u0639\\u0629 \\u0627\\u0644\\u0635\\u0646\\u0627\\u0639\\u0627\\u062a \\u0627\\u0644\\u0648\\u0637\\u0646\\u064a\\u0629\\u0627\\u0644\\u0642\\u0627\\u0628\\u0636\\u0629 /\\u0645\\u0633\\u0627\\u0647\\u0645\\u0629\\u0639\\u0627\\u0645\\u0629\", \"52248/ \\u0627\\u0644\\u0634\\u0631\\u0643\\u0629 \\u0627\\u0644\\u0648\\u0637\\u0646\\u064a\\u0629 \\u0627\\u0644\\u0639\\u0642\\u0627\\u0631\\u064a\\u0629\", \"97782/(10348)     \\u0634\\u0631\\u0643\\u0629 \\u0627\\u0644\\u062a\\u0628\\u0631\\u064a\\u062f \\u0648\\u0627\\u0644\\u0627\\u0643\\u0633\\u062c\\u064a\\u0646 \\u0627\\u0644\\u0645\\u062d\\u062f\\u0648\\u062f\\u0629\", \"103258/(11084)                \\u0627\\u0644\\u0634\\u0631\\u0643\\u0647 \\u0627\\u0644\\u0645\\u062a\\u062d\\u062f\\u0647 \\u0644\\u0635\\u0646\\u0627\\u0639\\u0647 \\u0627\\u0644\\u062d\\u062f\\u064a\\u062f\", \"116874/10808                    \\u0634\\u0631\\u0643\\u0629 \\u0627\\u064a\\u0643\\u0648\\u064a\\u062a \\u0644\\u0644\\u0628\\u062a\\u0631\\u0648\\u0643\\u064a\\u0645\\u0627\\u0648\\u064a\\u0627\\u062a\", \"179948/\\u0627\\u0644\\u0634\\u0631\\u0643\\u0629 \\u0627\\u0644\\u0645\\u062a\\u062d\\u062f\\u0629 \\u0644\\u0635\\u0646\\u0627\\u0639\\u0629 \\u0627\\u0644\\u062d\\u062f\\u064a\\u062f\", \"220240/\\u0628\\u0646\\u0643 \\u0627\\u0644\\u0643\\u0648\\u064a\\u062a \\u0627\\u0644\\u062f\\u0648\\u0644\\u0649\", \"221192/\\u0628\\u0646\\u0643 \\u0648\\u0631\\u0628\\u0647 / \\u0645\\u0633\\u0627\\u0647\\u0645\\u0629 \\u0627\\u0644\\u0639\\u0627\\u0645\\u0629\", \"221195/\\u0628\\u0646\\u0643 \\u0648\\u0631\\u0628\\u0647 / \\u0645\\u0633\\u0627\\u0647\\u0645\\u0629 \\u0627\\u0644\\u0639\\u0627\\u0645\\u0629\", \"369844/\\u0634\\u0631\\u0643\\u0629 \\u0627\\u0644\\u0627\\u0631\\u062c\\u0627\\u0646 \\u0627\\u0644\\u0639\\u0627\\u0644\\u0645\\u064a\\u0629 \\u0627\\u0644\\u0639\\u0642\\u0627\\u0631\\u064a\\u0629\", \"372638/\\u0634\\u0631\\u0643\\u0629 \\u0627\\u0644\\u0627\\u0641\\u0643\\u0648 \\u0644\\u062a\\u0645\\u0648\\u064a\\u0644 \\u0634\\u0631\\u0627\\u0621 \\u0648\\u062a\\u0627\\u062c\\u064a\\u0631 \\u0627\\u0644\\u0637\\u0627\\u0626\\u0631\\u0627\\u062a\", \"461122/\\u0634\\u0631\\u0643\\u0629 \\u0627\\u0644\\u0648\\u0637\\u0646\\u064a \\u0644\\u0644\\u0627\\u0633\\u062a\\u062b\\u0645\\u0627\\u0631\", \"377313/\\u0634\\u0631\\u0643\\u0629 \\u0627\\u0644\\u0628\\u062a\\u0631\\u0648\\u0644 \\u0627\\u0644\\u0648\\u0637\\u0646\\u064a\\u0629 \\u0627\\u0644\\u0643\\u0648\\u064a\\u062a\\u064a\\u0629\", \"518887/\\u0634\\u0631\\u0643\\u0629 \\u062f\\u0628\\u0644\\u064a\\u0648\\u0627\\u064a \\u0643\\u0648\\u0646\\u0633\\u0644\\u062a\\u0646\\u062c \\u0644\\u0644\\u062a\\u062c\\u0627\\u0631\\u0629 \\u0627\\u0644\\u0639\\u0627\\u0645\\u0629\", \"408934/\\u0634\\u0631\\u0643\\u0629 \\u0627\\u0644\\u0633\\u0628\\u0639\\u0647 \\u0644\\u0622\\u0644\\u0649 \\u0627\\u0644\\u0642\\u0627\\u0628\\u0636\\u0629\", \"52248\", \"97782\", \"103258\", \"116874\", \"179948\", \"220240\", \"221192\", \"221195\", \"369844\", \"372638\", \"377313\", \"408934\", \"461122\", \"518887\", \"802555\", \"\", \"\", \"\", \"\", \"\", \"\", \"\", \"\", \"\", \"\", \"\", \"\", \"\", \"\", \"\"], \"type\": \"treemap\", \"values\": [15000.0, 15000.0, 17500.0, 25000.0, 17500.0, 22861.0, 15000.0, 26000.0, 15000.0, 24003.485, 15100.0, 15000.0, 15000.0, 20000.0, 15366.0, 15366.0, 15000.0, 15100.0, 15000.0, 22861.0, 20000.0, 25000.0, 17500.0, 26000.0, 15000.0, 15000.0, 17500.0, 24003.485, 15000.0, 15000.0, 15000.0, 15100.0, 15000.0, 22861.0, 20000.0, 25000.0, 17500.0, 26000.0, 15000.0, 15000.0, 24003.485, 15000.0, 17500.0, 15000.0, 15366.0, 15000.0, 15100.0, 15000.0, 22861.0, 20000.0, 25000.0, 17500.0, 26000.0, 15000.0, 15000.0, 24003.485, 15000.0, 17500.0, 15000.0, 15366.0]}],                        {\"legend\": {\"tracegroupgap\": 0}, \"margin\": {\"b\": 10, \"l\": 10, \"r\": 10, \"t\": 10}, \"template\": {\"data\": {\"bar\": [{\"error_x\": {\"color\": \"#2a3f5f\"}, \"error_y\": {\"color\": \"#2a3f5f\"}, \"marker\": {\"line\": {\"color\": \"#E5ECF6\", \"width\": 0.5}}, \"type\": \"bar\"}], \"barpolar\": [{\"marker\": {\"line\": {\"color\": \"#E5ECF6\", \"width\": 0.5}}, \"type\": \"barpolar\"}], \"carpet\": [{\"aaxis\": {\"endlinecolor\": \"#2a3f5f\", \"gridcolor\": \"white\", \"linecolor\": \"white\", \"minorgridcolor\": \"white\", \"startlinecolor\": \"#2a3f5f\"}, \"baxis\": {\"endlinecolor\": \"#2a3f5f\", \"gridcolor\": \"white\", \"linecolor\": \"white\", \"minorgridcolor\": \"white\", \"startlinecolor\": \"#2a3f5f\"}, \"type\": \"carpet\"}], \"choropleth\": [{\"colorbar\": {\"outlinewidth\": 0, \"ticks\": \"\"}, \"type\": \"choropleth\"}], \"contour\": [{\"colorbar\": {\"outlinewidth\": 0, \"ticks\": \"\"}, \"colorscale\": [[0.0, \"#0d0887\"], [0.1111111111111111, \"#46039f\"], [0.2222222222222222, \"#7201a8\"], [0.3333333333333333, \"#9c179e\"], [0.4444444444444444, \"#bd3786\"], [0.5555555555555556, \"#d8576b\"], [0.6666666666666666, \"#ed7953\"], [0.7777777777777778, \"#fb9f3a\"], [0.8888888888888888, \"#fdca26\"], [1.0, \"#f0f921\"]], \"type\": \"contour\"}], \"contourcarpet\": [{\"colorbar\": {\"outlinewidth\": 0, \"ticks\": \"\"}, \"type\": \"contourcarpet\"}], \"heatmap\": [{\"colorbar\": {\"outlinewidth\": 0, \"ticks\": \"\"}, \"colorscale\": [[0.0, \"#0d0887\"], [0.1111111111111111, \"#46039f\"], [0.2222222222222222, \"#7201a8\"], [0.3333333333333333, \"#9c179e\"], [0.4444444444444444, \"#bd3786\"], [0.5555555555555556, \"#d8576b\"], [0.6666666666666666, \"#ed7953\"], [0.7777777777777778, \"#fb9f3a\"], [0.8888888888888888, \"#fdca26\"], [1.0, \"#f0f921\"]], \"type\": \"heatmap\"}], \"heatmapgl\": [{\"colorbar\": {\"outlinewidth\": 0, \"ticks\": \"\"}, \"colorscale\": [[0.0, \"#0d0887\"], [0.1111111111111111, \"#46039f\"], [0.2222222222222222, \"#7201a8\"], [0.3333333333333333, \"#9c179e\"], [0.4444444444444444, \"#bd3786\"], [0.5555555555555556, \"#d8576b\"], [0.6666666666666666, \"#ed7953\"], [0.7777777777777778, \"#fb9f3a\"], [0.8888888888888888, \"#fdca26\"], [1.0, \"#f0f921\"]], \"type\": \"heatmapgl\"}], \"histogram\": [{\"marker\": {\"colorbar\": {\"outlinewidth\": 0, \"ticks\": \"\"}}, \"type\": \"histogram\"}], \"histogram2d\": [{\"colorbar\": {\"outlinewidth\": 0, \"ticks\": \"\"}, \"colorscale\": [[0.0, \"#0d0887\"], [0.1111111111111111, \"#46039f\"], [0.2222222222222222, \"#7201a8\"], [0.3333333333333333, \"#9c179e\"], [0.4444444444444444, \"#bd3786\"], [0.5555555555555556, \"#d8576b\"], [0.6666666666666666, \"#ed7953\"], [0.7777777777777778, \"#fb9f3a\"], [0.8888888888888888, \"#fdca26\"], [1.0, \"#f0f921\"]], \"type\": \"histogram2d\"}], \"histogram2dcontour\": [{\"colorbar\": {\"outlinewidth\": 0, \"ticks\": \"\"}, \"colorscale\": [[0.0, \"#0d0887\"], [0.1111111111111111, \"#46039f\"], [0.2222222222222222, \"#7201a8\"], [0.3333333333333333, \"#9c179e\"], [0.4444444444444444, \"#bd3786\"], [0.5555555555555556, \"#d8576b\"], [0.6666666666666666, \"#ed7953\"], [0.7777777777777778, \"#fb9f3a\"], [0.8888888888888888, \"#fdca26\"], [1.0, \"#f0f921\"]], \"type\": \"histogram2dcontour\"}], \"mesh3d\": [{\"colorbar\": {\"outlinewidth\": 0, \"ticks\": \"\"}, \"type\": \"mesh3d\"}], \"parcoords\": [{\"line\": {\"colorbar\": {\"outlinewidth\": 0, \"ticks\": \"\"}}, \"type\": \"parcoords\"}], \"pie\": [{\"automargin\": true, \"type\": \"pie\"}], \"scatter\": [{\"marker\": {\"colorbar\": {\"outlinewidth\": 0, \"ticks\": \"\"}}, \"type\": \"scatter\"}], \"scatter3d\": [{\"line\": {\"colorbar\": {\"outlinewidth\": 0, \"ticks\": \"\"}}, \"marker\": {\"colorbar\": {\"outlinewidth\": 0, \"ticks\": \"\"}}, \"type\": \"scatter3d\"}], \"scattercarpet\": [{\"marker\": {\"colorbar\": {\"outlinewidth\": 0, \"ticks\": \"\"}}, \"type\": \"scattercarpet\"}], \"scattergeo\": [{\"marker\": {\"colorbar\": {\"outlinewidth\": 0, \"ticks\": \"\"}}, \"type\": \"scattergeo\"}], \"scattergl\": [{\"marker\": {\"colorbar\": {\"outlinewidth\": 0, \"ticks\": \"\"}}, \"type\": \"scattergl\"}], \"scattermapbox\": [{\"marker\": {\"colorbar\": {\"outlinewidth\": 0, \"ticks\": \"\"}}, \"type\": \"scattermapbox\"}], \"scatterpolar\": [{\"marker\": {\"colorbar\": {\"outlinewidth\": 0, \"ticks\": \"\"}}, \"type\": \"scatterpolar\"}], \"scatterpolargl\": [{\"marker\": {\"colorbar\": {\"outlinewidth\": 0, \"ticks\": \"\"}}, \"type\": \"scatterpolargl\"}], \"scatterternary\": [{\"marker\": {\"colorbar\": {\"outlinewidth\": 0, \"ticks\": \"\"}}, \"type\": \"scatterternary\"}], \"surface\": [{\"colorbar\": {\"outlinewidth\": 0, \"ticks\": \"\"}, \"colorscale\": [[0.0, \"#0d0887\"], [0.1111111111111111, \"#46039f\"], [0.2222222222222222, \"#7201a8\"], [0.3333333333333333, \"#9c179e\"], [0.4444444444444444, \"#bd3786\"], [0.5555555555555556, \"#d8576b\"], [0.6666666666666666, \"#ed7953\"], [0.7777777777777778, \"#fb9f3a\"], [0.8888888888888888, \"#fdca26\"], [1.0, \"#f0f921\"]], \"type\": \"surface\"}], \"table\": [{\"cells\": {\"fill\": {\"color\": \"#EBF0F8\"}, \"line\": {\"color\": \"white\"}}, \"header\": {\"fill\": {\"color\": \"#C8D4E3\"}, \"line\": {\"color\": \"white\"}}, \"type\": \"table\"}]}, \"layout\": {\"annotationdefaults\": {\"arrowcolor\": \"#2a3f5f\", \"arrowhead\": 0, \"arrowwidth\": 1}, \"autotypenumbers\": \"strict\", \"coloraxis\": {\"colorbar\": {\"outlinewidth\": 0, \"ticks\": \"\"}}, \"colorscale\": {\"diverging\": [[0, \"#8e0152\"], [0.1, \"#c51b7d\"], [0.2, \"#de77ae\"], [0.3, \"#f1b6da\"], [0.4, \"#fde0ef\"], [0.5, \"#f7f7f7\"], [0.6, \"#e6f5d0\"], [0.7, \"#b8e186\"], [0.8, \"#7fbc41\"], [0.9, \"#4d9221\"], [1, \"#276419\"]], \"sequential\": [[0.0, \"#0d0887\"], [0.1111111111111111, \"#46039f\"], [0.2222222222222222, \"#7201a8\"], [0.3333333333333333, \"#9c179e\"], [0.4444444444444444, \"#bd3786\"], [0.5555555555555556, \"#d8576b\"], [0.6666666666666666, \"#ed7953\"], [0.7777777777777778, \"#fb9f3a\"], [0.8888888888888888, \"#fdca26\"], [1.0, \"#f0f921\"]], \"sequentialminus\": [[0.0, \"#0d0887\"], [0.1111111111111111, \"#46039f\"], [0.2222222222222222, \"#7201a8\"], [0.3333333333333333, \"#9c179e\"], [0.4444444444444444, \"#bd3786\"], [0.5555555555555556, \"#d8576b\"], [0.6666666666666666, \"#ed7953\"], [0.7777777777777778, \"#fb9f3a\"], [0.8888888888888888, \"#fdca26\"], [1.0, \"#f0f921\"]]}, \"colorway\": [\"#636efa\", \"#EF553B\", \"#00cc96\", \"#ab63fa\", \"#FFA15A\", \"#19d3f3\", \"#FF6692\", \"#B6E880\", \"#FF97FF\", \"#FECB52\"], \"font\": {\"color\": \"#2a3f5f\"}, \"geo\": {\"bgcolor\": \"white\", \"lakecolor\": \"white\", \"landcolor\": \"#E5ECF6\", \"showlakes\": true, \"showland\": true, \"subunitcolor\": \"white\"}, \"hoverlabel\": {\"align\": \"left\"}, \"hovermode\": \"closest\", \"mapbox\": {\"style\": \"light\"}, \"paper_bgcolor\": \"white\", \"plot_bgcolor\": \"#E5ECF6\", \"polar\": {\"angularaxis\": {\"gridcolor\": \"white\", \"linecolor\": \"white\", \"ticks\": \"\"}, \"bgcolor\": \"#E5ECF6\", \"radialaxis\": {\"gridcolor\": \"white\", \"linecolor\": \"white\", \"ticks\": \"\"}}, \"scene\": {\"xaxis\": {\"backgroundcolor\": \"#E5ECF6\", \"gridcolor\": \"white\", \"gridwidth\": 2, \"linecolor\": \"white\", \"showbackground\": true, \"ticks\": \"\", \"zerolinecolor\": \"white\"}, \"yaxis\": {\"backgroundcolor\": \"#E5ECF6\", \"gridcolor\": \"white\", \"gridwidth\": 2, \"linecolor\": \"white\", \"showbackground\": true, \"ticks\": \"\", \"zerolinecolor\": \"white\"}, \"zaxis\": {\"backgroundcolor\": \"#E5ECF6\", \"gridcolor\": \"white\", \"gridwidth\": 2, \"linecolor\": \"white\", \"showbackground\": true, \"ticks\": \"\", \"zerolinecolor\": \"white\"}}, \"shapedefaults\": {\"line\": {\"color\": \"#2a3f5f\"}}, \"ternary\": {\"aaxis\": {\"gridcolor\": \"white\", \"linecolor\": \"white\", \"ticks\": \"\"}, \"baxis\": {\"gridcolor\": \"white\", \"linecolor\": \"white\", \"ticks\": \"\"}, \"bgcolor\": \"#E5ECF6\", \"caxis\": {\"gridcolor\": \"white\", \"linecolor\": \"white\", \"ticks\": \"\"}}, \"title\": {\"x\": 0.05}, \"xaxis\": {\"automargin\": true, \"gridcolor\": \"white\", \"linecolor\": \"white\", \"ticks\": \"\", \"title\": {\"standoff\": 15}, \"zerolinecolor\": \"white\", \"zerolinewidth\": 2}, \"yaxis\": {\"automargin\": true, \"gridcolor\": \"white\", \"linecolor\": \"white\", \"ticks\": \"\", \"title\": {\"standoff\": 15}, \"zerolinecolor\": \"white\", \"zerolinewidth\": 2}}}},                        {\"responsive\": true}                    ).then(function(){\n",
              "                            \n",
              "var gd = document.getElementById('fc86c454-5db8-40a1-bf8e-117fc2488a8d');\n",
              "var x = new MutationObserver(function (mutations, observer) {{\n",
              "        var display = window.getComputedStyle(gd).display;\n",
              "        if (!display || display === 'none') {{\n",
              "            console.log([gd, 'removed!']);\n",
              "            Plotly.purge(gd);\n",
              "            observer.disconnect();\n",
              "        }}\n",
              "}});\n",
              "\n",
              "// Listen for the removal of the full notebook cells\n",
              "var notebookContainer = gd.closest('#notebook-container');\n",
              "if (notebookContainer) {{\n",
              "    x.observe(notebookContainer, {childList: true});\n",
              "}}\n",
              "\n",
              "// Listen for the clearing of the current output cell\n",
              "var outputEl = gd.closest('.output');\n",
              "if (outputEl) {{\n",
              "    x.observe(outputEl, {childList: true});\n",
              "}}\n",
              "\n",
              "                        })                };                            </script>        </div>\n",
              "</body>\n",
              "</html>"
            ]
          },
          "metadata": {
            "tags": []
          }
        }
      ]
    },
    {
      "cell_type": "code",
      "metadata": {
        "id": "79f5b397"
      },
      "source": [
        "#hide_input\n",
        "---- Rough ----"
      ],
      "id": "79f5b397",
      "execution_count": null,
      "outputs": []
    },
    {
      "cell_type": "code",
      "metadata": {
        "id": "ee03d2f5"
      },
      "source": [
        "#hide_input\n",
        "fig = plt.figure(\n",
        "    FigureClass=Waffle, \n",
        "    rows=15, \n",
        "    values=insight3['Count'], \n",
        "    #colors=(\"#983D3D\", \"#232066\", \"#DCB732\"),\n",
        "    title={'label': 'Vote Percentage in 2016 US Presidential Election', 'loc': 'left'},\n",
        "    labels=[\"{0} ({1})\".format(n, v) for n, v in insight3['Jobs'].items()],\n",
        "    legend={'loc': 'upper left', 'bbox_to_anchor': (1.05, 1), 'fontsize': 8}\n",
        ")\n",
        "fig.gca().set_facecolor('#EEEEEE')\n",
        "fig.set_facecolor('#EEEEEE')\n",
        "plt.show()"
      ],
      "id": "ee03d2f5",
      "execution_count": null,
      "outputs": []
    }
  ]
}